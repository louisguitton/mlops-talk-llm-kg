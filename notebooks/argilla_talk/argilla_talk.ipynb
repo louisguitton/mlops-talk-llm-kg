{
 "cells": [
  {
   "cell_type": "markdown",
   "id": "fda2aa01-d4bb-4480-89d0-0606b15251b6",
   "metadata": {},
   "source": [
    "\n",
    "Datasets:\n",
    "- with LOAD_DATASETS=full, argilla loads `gutenberg_spacy-ner-monitoring` for Token Classification with default spaCy predictions ; which is a fork of https://huggingface.co/datasets/gutenberg_time\n",
    "- default NER dataset in papers is CoNLL-2003 https://huggingface.co/datasets/conll2003\n",
    "- https://huggingface.co/datasets/DFKI-SLT/few-nerd\n",
    "- https://huggingface.co/datasets/tner/ontonotes5\n",
    "- Look for argilla compatible NER datasets with this search: https://huggingface.co/datasets?task_categories=task_categories:token-classification&sort=trending&search=argilla\n",
    "\n",
    "\n",
    "- ✨ Provide suggested spans with a confidence score, so your team doesn't need to start from scratch.\n"
   ]
  },
  {
   "cell_type": "code",
   "execution_count": 140,
   "id": "d3dfbbd0-6b7a-4083-bfd8-54cb1384b592",
   "metadata": {
    "execution": {
     "iopub.execute_input": "2024-05-15T08:28:15.910433Z",
     "iopub.status.busy": "2024-05-15T08:28:15.909556Z",
     "iopub.status.idle": "2024-05-15T08:28:15.932197Z",
     "shell.execute_reply": "2024-05-15T08:28:15.931599Z",
     "shell.execute_reply.started": "2024-05-15T08:28:15.910376Z"
    }
   },
   "outputs": [],
   "source": [
    "from typing import List, Tuple, Union, Dict\n",
    "import types"
   ]
  },
  {
   "cell_type": "code",
   "execution_count": 108,
   "id": "12a0f283-e913-4961-a262-c6f2998c143f",
   "metadata": {
    "execution": {
     "iopub.execute_input": "2024-05-14T17:12:10.848171Z",
     "iopub.status.busy": "2024-05-14T17:12:10.845730Z",
     "iopub.status.idle": "2024-05-14T17:12:10.912192Z",
     "shell.execute_reply": "2024-05-14T17:12:10.911702Z",
     "shell.execute_reply.started": "2024-05-14T17:12:10.847922Z"
    }
   },
   "outputs": [
    {
     "name": "stderr",
     "output_type": "stream",
     "text": [
      "/Users/louis.guitton/workspace/mlops-talk-llm-kg/venv/lib/python3.11/site-packages/argilla/client/client.py:178: UserWarning: No workspace configuration was detected. To work with Argilla datasets, specify a valid workspace name on `rg.init` or set it up through the `rg.set_workspace` function.\n",
      "  warnings.warn(\n"
     ]
    }
   ],
   "source": [
    "import argilla as rg\n",
    "\n",
    "rg.init(api_url=\"http://localhost:6900\", api_key=\"admin.apikey\")"
   ]
  },
  {
   "cell_type": "markdown",
   "id": "c9710416-82e3-457d-897c-3160b339a970",
   "metadata": {},
   "source": [
    "## Push to Huggingface"
   ]
  },
  {
   "cell_type": "code",
   "execution_count": 155,
   "id": "94eb2e74-9b5a-49e1-871b-5c9e0c7602bb",
   "metadata": {
    "execution": {
     "iopub.execute_input": "2024-05-15T09:10:20.970261Z",
     "iopub.status.busy": "2024-05-15T09:10:20.969003Z",
     "iopub.status.idle": "2024-05-15T09:10:24.384816Z",
     "shell.execute_reply": "2024-05-15T09:10:24.383729Z",
     "shell.execute_reply.started": "2024-05-15T09:10:20.970207Z"
    }
   },
   "outputs": [
    {
     "name": "stderr",
     "output_type": "stream",
     "text": [
      "Uploading the dataset shards:   0%|                                                                                                                                    | 0/1 [00:00<?, ?it/s]\n",
      "Creating parquet from Arrow format: 100%|█████████████████████████████████████████████████████████████████████████████████████████████████████████████████████| 9/9 [00:00<00:00, 411.00ba/s]\u001b[A\n",
      "Uploading the dataset shards: 100%|████████████████████████████████████████████████████████████████████████████████████████████████████████████████████████████| 1/1 [00:00<00:00,  2.73it/s]\n",
      "README.md: 100%|████████████████████████████████████████████████████████████████████████████████████████████████████████████████████████████████████████| 10.0k/10.0k [00:00<00:00, 8.44MB/s]\n"
     ]
    }
   ],
   "source": [
    "dataset.push_to_huggingface(\n",
    "    repo_id=\"louisguitton/dev-ner-ontonotes\",split=\"validation\"\n",
    ")"
   ]
  },
  {
   "cell_type": "markdown",
   "id": "881340da-56dd-431c-aa1f-ccac7c78b333",
   "metadata": {},
   "source": [
    "## Add suggestions to a remote dataset"
   ]
  },
  {
   "cell_type": "code",
   "execution_count": 262,
   "id": "408b571d-3f26-4070-89ca-8b027275396a",
   "metadata": {
    "execution": {
     "iopub.execute_input": "2024-05-15T14:15:46.991669Z",
     "iopub.status.busy": "2024-05-15T14:15:46.990762Z",
     "iopub.status.idle": "2024-05-15T14:15:47.081904Z",
     "shell.execute_reply": "2024-05-15T14:15:47.081600Z",
     "shell.execute_reply.started": "2024-05-15T14:15:46.991617Z"
    }
   },
   "outputs": [],
   "source": [
    "remote_dataset = rg.FeedbackDataset.from_argilla(\n",
    "    name=\"dev-ner-ontonotes\",\n",
    "    workspace=\"admin\",\n",
    "    with_vectors=\"all\"\n",
    ")"
   ]
  },
  {
   "cell_type": "code",
   "execution_count": 263,
   "id": "3fd5d429-f10b-4699-a43c-9f9ef4f27cb9",
   "metadata": {
    "execution": {
     "iopub.execute_input": "2024-05-15T14:16:24.175924Z",
     "iopub.status.busy": "2024-05-15T14:16:24.175336Z",
     "iopub.status.idle": "2024-05-15T14:16:24.193325Z",
     "shell.execute_reply": "2024-05-15T14:16:24.192867Z",
     "shell.execute_reply.started": "2024-05-15T14:16:24.175896Z"
    }
   },
   "outputs": [],
   "source": [
    "from typing import Type\n",
    "from argilla.client.feedback.dataset.remote.dataset import RemoteFeedbackDataset\n",
    "from argilla.client.feedback.schemas.remote.records import RemoteFeedbackRecord, RemoteSuggestionSchema\n",
    "from argilla.client.feedback.schemas.suggestions import SuggestionSchema\n",
    "\n",
    "def labeller(nlp: Type[spacy.language.Language], text: str) -> List[SpanValueSchema]:\n",
    "    \"\"\"Generate NER preditions from a spaCy model in the Argilla format.\"\"\"\n",
    "    doc = nlp(text)\n",
    "    return [\n",
    "        SpanValueSchema(\n",
    "            start=ent.start_char,\n",
    "            end=ent.end_char,\n",
    "            label=ent.label_,\n",
    "            score=0\n",
    "        )  for ent in doc.ents\n",
    "    ]\n",
    "    \n",
    "def add_suggestions_to_remote_dataset(remote_dataset: RemoteFeedbackDataset, nlp: Type[spacy.language.Language]) -> None:\n",
    "    \"\"\"Add suggestions from a spaCy NER model to a remote instance of an existing Argilla dataset.\n",
    "    \n",
    "    ref: https://docs.argilla.io/en/latest/tutorials_and_integrations/tutorials/feedback/end2end_examples/add-suggestions-and-responses-005.html#For-the-RemoteFeedbackDataset\"\"\"\n",
    "    modified_records: List[RemoteFeedbackRecord] = [record for record in remote_dataset.records]\n",
    "    \n",
    "    for record in modified_records:\n",
    "        pred: List[SpanValueSchema] = labeller(nlp, record.fields[\"text\"])\n",
    "        # passing more than 1 suggestion fails with this error:\n",
    "        # ValidationApiError: Argilla server returned an error with http status: 422. Error details: {'response': 'Record at \n",
    "        # position 0 is not valid because found duplicate suggestions question IDs', 'params': None}\n",
    "        record.suggestions: Union[Tuple[Union[RemoteSuggestionSchema, SuggestionSchema]], List[Union[RemoteSuggestionSchema, SuggestionSchema]]] = [{\n",
    "                \"question_name\": \"entities\",\n",
    "                \"value\": pred,\n",
    "                \"agent\": nlp.meta['name']\n",
    "            }]\n",
    "    \n",
    "    remote_dataset.update_records(modified_records)"
   ]
  },
  {
   "cell_type": "code",
   "execution_count": 171,
   "id": "45072e60-ccd5-4e29-b42b-49da51f13e4b",
   "metadata": {
    "execution": {
     "iopub.execute_input": "2024-05-15T10:34:27.611411Z",
     "iopub.status.busy": "2024-05-15T10:34:27.609567Z",
     "iopub.status.idle": "2024-05-15T10:34:41.975052Z",
     "shell.execute_reply": "2024-05-15T10:34:41.974576Z",
     "shell.execute_reply.started": "2024-05-15T10:34:27.611333Z"
    }
   },
   "outputs": [
    {
     "name": "stderr",
     "output_type": "stream",
     "text": [
      "/Users/louis.guitton/workspace/mlops-talk-llm-kg/venv/lib/python3.11/site-packages/transformers/utils/generic.py:441: UserWarning: torch.utils._pytree._register_pytree_node is deprecated. Please use torch.utils._pytree.register_pytree_node instead.\n",
      "  _torch_pytree._register_pytree_node(\n",
      "/Users/louis.guitton/workspace/mlops-talk-llm-kg/venv/lib/python3.11/site-packages/transformers/utils/generic.py:309: UserWarning: torch.utils._pytree._register_pytree_node is deprecated. Please use torch.utils._pytree.register_pytree_node instead.\n",
      "  _torch_pytree._register_pytree_node(\n",
      "/Users/louis.guitton/workspace/mlops-talk-llm-kg/venv/lib/python3.11/site-packages/transformers/utils/generic.py:309: UserWarning: torch.utils._pytree._register_pytree_node is deprecated. Please use torch.utils._pytree.register_pytree_node instead.\n",
      "  _torch_pytree._register_pytree_node(\n"
     ]
    }
   ],
   "source": [
    "import spacy\n",
    "\n",
    "nlp = spacy.load(\"en_core_web_sm\")"
   ]
  },
  {
   "cell_type": "code",
   "execution_count": 264,
   "id": "f6072561-9f2c-4fed-9288-ecb0e4f08f08",
   "metadata": {
    "execution": {
     "iopub.execute_input": "2024-05-15T14:16:29.718853Z",
     "iopub.status.busy": "2024-05-15T14:16:29.717982Z",
     "iopub.status.idle": "2024-05-15T14:16:30.788640Z",
     "shell.execute_reply": "2024-05-15T14:16:30.787495Z",
     "shell.execute_reply.started": "2024-05-15T14:16:29.718799Z"
    }
   },
   "outputs": [
    {
     "data": {
      "text/html": [
       "<pre style=\"white-space:pre;overflow-x:auto;line-height:normal;font-family:Menlo,'DejaVu Sans Mono',consolas,'Courier New',monospace\"></pre>\n"
      ],
      "text/plain": []
     },
     "metadata": {},
     "output_type": "display_data"
    },
    {
     "data": {
      "text/html": [
       "<pre style=\"white-space:pre;overflow-x:auto;line-height:normal;font-family:Menlo,'DejaVu Sans Mono',consolas,'Courier New',monospace\">\n",
       "</pre>\n"
      ],
      "text/plain": [
       "\n"
      ]
     },
     "metadata": {},
     "output_type": "display_data"
    }
   ],
   "source": [
    "add_suggestions_to_remote_dataset(remote_dataset, nlp)"
   ]
  },
  {
   "cell_type": "code",
   "execution_count": 270,
   "id": "0e3e779c-9e2f-4e0d-a557-26ec44a30783",
   "metadata": {
    "execution": {
     "iopub.execute_input": "2024-05-15T14:25:58.614352Z",
     "iopub.status.busy": "2024-05-15T14:25:58.613539Z",
     "iopub.status.idle": "2024-05-15T14:25:58.627030Z",
     "shell.execute_reply": "2024-05-15T14:25:58.625580Z",
     "shell.execute_reply.started": "2024-05-15T14:25:58.614306Z"
    }
   },
   "outputs": [],
   "source": [
    "def test_one_suggestion_and_no_response():\n",
    "    r = remote_dataset.records[2]\n",
    "    pred: List[SpanValueSchema] = labeller(nlp, r.fields[\"text\"])\n",
    "    r.responses = []\n",
    "    r.suggestions = [{\n",
    "                \"question_name\": \"entities\",\n",
    "                \"value\": pred,\n",
    "                \"agent\": nlp.meta['name']\n",
    "            }]\n",
    "    remote_dataset.update_records([r])"
   ]
  },
  {
   "cell_type": "code",
   "execution_count": 271,
   "id": "7c5b38db-d0ca-4ae5-a8b1-ee44fef188fb",
   "metadata": {
    "execution": {
     "iopub.execute_input": "2024-05-15T14:26:02.169550Z",
     "iopub.status.busy": "2024-05-15T14:26:02.168962Z",
     "iopub.status.idle": "2024-05-15T14:26:02.319696Z",
     "shell.execute_reply": "2024-05-15T14:26:02.318761Z",
     "shell.execute_reply.started": "2024-05-15T14:26:02.169520Z"
    }
   },
   "outputs": [
    {
     "data": {
      "text/html": [
       "<pre style=\"white-space:pre;overflow-x:auto;line-height:normal;font-family:Menlo,'DejaVu Sans Mono',consolas,'Courier New',monospace\"></pre>\n"
      ],
      "text/plain": []
     },
     "metadata": {},
     "output_type": "display_data"
    },
    {
     "data": {
      "text/html": [
       "<pre style=\"white-space:pre;overflow-x:auto;line-height:normal;font-family:Menlo,'DejaVu Sans Mono',consolas,'Courier New',monospace\">\n",
       "</pre>\n"
      ],
      "text/plain": [
       "\n"
      ]
     },
     "metadata": {},
     "output_type": "display_data"
    }
   ],
   "source": [
    "test_one_suggestion_and_no_response()"
   ]
  },
  {
   "cell_type": "markdown",
   "id": "53fb1338-aee4-4851-976c-8912e16e270c",
   "metadata": {},
   "source": [
    "## Compute metrics"
   ]
  },
  {
   "cell_type": "code",
   "execution_count": 289,
   "id": "a11fed69-c825-4295-8a8f-baae493f5fde",
   "metadata": {
    "execution": {
     "iopub.execute_input": "2024-05-16T15:31:35.583826Z",
     "iopub.status.busy": "2024-05-16T15:31:35.582846Z",
     "iopub.status.idle": "2024-05-16T15:31:35.593789Z",
     "shell.execute_reply": "2024-05-16T15:31:35.592623Z",
     "shell.execute_reply.started": "2024-05-16T15:31:35.583770Z"
    }
   },
   "outputs": [],
   "source": [
    "from argilla.client.feedback.metrics.utils import get_responses_and_suggestions_per_user"
   ]
  },
  {
   "cell_type": "code",
   "execution_count": 291,
   "id": "8d248f9b-000e-46d1-8559-3464c493ecf5",
   "metadata": {
    "execution": {
     "iopub.execute_input": "2024-05-16T15:32:47.303222Z",
     "iopub.status.busy": "2024-05-16T15:32:47.302640Z",
     "iopub.status.idle": "2024-05-16T15:32:47.569175Z",
     "shell.execute_reply": "2024-05-16T15:32:47.568855Z",
     "shell.execute_reply.started": "2024-05-16T15:32:47.303192Z"
    }
   },
   "outputs": [
    {
     "name": "stderr",
     "output_type": "stream",
     "text": [
      "Extracting responses and suggestions per user: 100%|███████████████████████████████████████████████████████████████████████████████████████████████████| 100/100 [00:00<00:00, 861253.39it/s]\n"
     ]
    }
   ],
   "source": [
    "remote_dataset = rg.FeedbackDataset.from_argilla(\n",
    "    name=\"ner-lvl2\",\n",
    "    workspace=\"admin\",\n",
    "    with_vectors=\"all\"\n",
    ")\n",
    "\n",
    "# responses_and_suggestions_per_user = get_responses_and_suggestions_per_user(dataset=remote_dataset, question_name=\"entities\")"
   ]
  },
  {
   "cell_type": "code",
   "execution_count": 298,
   "id": "8f4df0ef-33dc-4159-a228-d5b0d755060d",
   "metadata": {
    "execution": {
     "iopub.execute_input": "2024-05-16T15:44:10.499640Z",
     "iopub.status.busy": "2024-05-16T15:44:10.498769Z",
     "iopub.status.idle": "2024-05-16T15:44:10.669614Z",
     "shell.execute_reply": "2024-05-16T15:44:10.669299Z",
     "shell.execute_reply.started": "2024-05-16T15:44:10.499602Z"
    }
   },
   "outputs": [],
   "source": [
    "hf_dataset = remote_dataset.format_as(\"datasets\")"
   ]
  },
  {
   "cell_type": "code",
   "execution_count": 300,
   "id": "99f0a016-d3f4-4265-879a-16e21cec419c",
   "metadata": {
    "execution": {
     "iopub.execute_input": "2024-05-16T15:44:29.225376Z",
     "iopub.status.busy": "2024-05-16T15:44:29.224782Z",
     "iopub.status.idle": "2024-05-16T15:44:29.238035Z",
     "shell.execute_reply": "2024-05-16T15:44:29.236810Z",
     "shell.execute_reply.started": "2024-05-16T15:44:29.225330Z"
    }
   },
   "outputs": [
    {
     "data": {
      "text/plain": [
       "{'text': 'A Russian diver has found the bodies of three of the 118 sailors who were killed when the nuclear submarine Kursk sank in the Barents Sea .',\n",
       " 'entities': [{'user_id': 'fe7c1b6a-5d30-41d5-bb56-6675cfbad12f',\n",
       "   'value': {'start': [2, 40, 53, 108, 122],\n",
       "    'end': [9, 45, 56, 113, 137],\n",
       "    'label': ['NORP', 'CARDINAL', 'CARDINAL', 'PRODUCT', 'LOC'],\n",
       "    'text': ['Russian', 'three', '118', 'Kursk', 'the Barents Sea']},\n",
       "   'status': 'submitted'}],\n",
       " 'entities-suggestion': {'start': [2, 40, 53, 108, 122],\n",
       "  'end': [9, 45, 56, 113, 137],\n",
       "  'label': ['NORP', 'CARDINAL', 'CARDINAL', 'PRODUCT', 'LOC'],\n",
       "  'text': ['Russian', 'three', '118', 'Kursk', 'the Barents Sea'],\n",
       "  'score': [None, None, None, None, None]},\n",
       " 'entities-suggestion-metadata': {'type': None, 'score': None, 'agent': None},\n",
       " 'external_id': None,\n",
       " 'metadata': '{}'}"
      ]
     },
     "execution_count": 300,
     "metadata": {},
     "output_type": "execute_result"
    }
   ],
   "source": [
    "hf_dataset[0]"
   ]
  },
  {
   "cell_type": "code",
   "execution_count": null,
   "id": "eda94ac0-dc29-4c2d-95c0-efd94da4f59d",
   "metadata": {},
   "outputs": [],
   "source": [
    "from spacy.tokens import Doc\n",
    "from spacy.training import Example\n",
    "\n",
    "examples: List[Example] = []\n",
    "for row in hf_dataset:\n",
    "    text = row[\"text\"]\n",
    "    gold = row[\"entities\"]\n",
    "    pred = row[\"entities-suggestion\"]\n",
    "\n",
    "    # generate Doc with Doc.set_ents from a list of spans for the predicted suggestions\n",
    "    # ref: https://spacy.io/api/doc#set_ents\n",
    "\n",
    "    # generate Doc with Doc.set_ents from a list of spans for the gold responses\n",
    "    \n",
    "    example = Example(predicted, reference)\n",
    "    examples.append(example)"
   ]
  },
  {
   "cell_type": "code",
   "execution_count": 296,
   "id": "f65bc9be-7fa7-4419-9317-e121d9f8bdd9",
   "metadata": {
    "execution": {
     "iopub.execute_input": "2024-05-16T15:40:46.812719Z",
     "iopub.status.busy": "2024-05-16T15:40:46.812088Z",
     "iopub.status.idle": "2024-05-16T15:40:46.917245Z",
     "shell.execute_reply": "2024-05-16T15:40:46.916877Z",
     "shell.execute_reply.started": "2024-05-16T15:40:46.812684Z"
    }
   },
   "outputs": [],
   "source": [
    "from spacy.scorer import Scorer\n",
    "scorer = Scorer()"
   ]
  },
  {
   "cell_type": "code",
   "execution_count": null,
   "id": "a3d30309-32d9-4ca3-a3bf-9e0e24cb8acb",
   "metadata": {},
   "outputs": [],
   "source": [
    "scores = scorer.score(examples)"
   ]
  },
  {
   "cell_type": "markdown",
   "id": "1c521655-b884-4823-9175-bcc1a32f2639",
   "metadata": {},
   "source": [
    "## Add suggestions from KB and LLM"
   ]
  },
  {
   "cell_type": "code",
   "execution_count": null,
   "id": "614fce40-9df8-4945-892a-8398bff4c747",
   "metadata": {},
   "outputs": [],
   "source": [
    "ontonotes = load_ontonotes()\n",
    "dataset = template_for_token_classification()\n",
    "records = dataset_to_records(ontonotes['validation'].select(range(100)), \"gold_labels\")\n",
    "dataset.add_records(list(records))\n",
    "dataset.push_to_argilla(name=\"dev-ner-ontonotes\", workspace=\"admin\")"
   ]
  }
 ],
 "metadata": {
  "kernelspec": {
   "display_name": "Python 3 (ipykernel)",
   "language": "python",
   "name": "python3"
  },
  "language_info": {
   "codemirror_mode": {
    "name": "ipython",
    "version": 3
   },
   "file_extension": ".py",
   "mimetype": "text/x-python",
   "name": "python",
   "nbconvert_exporter": "python",
   "pygments_lexer": "ipython3",
   "version": "3.11.4"
  }
 },
 "nbformat": 4,
 "nbformat_minor": 5
}
