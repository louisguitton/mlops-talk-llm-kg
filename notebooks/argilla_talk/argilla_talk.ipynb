{
 "cells": [
  {
   "cell_type": "markdown",
   "id": "fda2aa01-d4bb-4480-89d0-0606b15251b6",
   "metadata": {},
   "source": [
    "\n",
    "Datasets:\n",
    "- with LOAD_DATASETS=full, argilla loads `gutenberg_spacy-ner-monitoring` for Token Classification with default spaCy predictions ; which is a fork of https://huggingface.co/datasets/gutenberg_time\n",
    "- default NER dataset in papers is CoNLL-2003 https://huggingface.co/datasets/conll2003\n",
    "- https://huggingface.co/datasets/DFKI-SLT/few-nerd\n",
    "- https://huggingface.co/datasets/tner/ontonotes5\n",
    "- Look for argilla compatible NER datasets with this search: https://huggingface.co/datasets?task_categories=task_categories:token-classification&sort=trending&search=argilla\n",
    "\n",
    "\n",
    "- ✨ Provide suggested spans with a confidence score, so your team doesn't need to start from scratch.\n"
   ]
  },
  {
   "cell_type": "code",
   "execution_count": 2,
   "id": "d3dfbbd0-6b7a-4083-bfd8-54cb1384b592",
   "metadata": {
    "execution": {
     "iopub.execute_input": "2024-05-22T14:06:04.847277Z",
     "iopub.status.busy": "2024-05-22T14:06:04.846934Z",
     "iopub.status.idle": "2024-05-22T14:06:04.853959Z",
     "shell.execute_reply": "2024-05-22T14:06:04.852212Z",
     "shell.execute_reply.started": "2024-05-22T14:06:04.847254Z"
    }
   },
   "outputs": [],
   "source": [
    "from typing import List, Tuple, Union, Dict\n",
    "import types"
   ]
  },
  {
   "cell_type": "code",
   "execution_count": 3,
   "id": "12a0f283-e913-4961-a262-c6f2998c143f",
   "metadata": {
    "execution": {
     "iopub.execute_input": "2024-05-22T14:06:05.282867Z",
     "iopub.status.busy": "2024-05-22T14:06:05.282474Z",
     "iopub.status.idle": "2024-05-22T14:06:05.799074Z",
     "shell.execute_reply": "2024-05-22T14:06:05.798415Z",
     "shell.execute_reply.started": "2024-05-22T14:06:05.282845Z"
    }
   },
   "outputs": [
    {
     "name": "stderr",
     "output_type": "stream",
     "text": [
      "/Users/louis.guitton/workspace/mlops-talk-llm-kg/venv/lib/python3.11/site-packages/argilla/client/client.py:178: UserWarning: No workspace configuration was detected. To work with Argilla datasets, specify a valid workspace name on `rg.init` or set it up through the `rg.set_workspace` function.\n",
      "  warnings.warn(\n"
     ]
    }
   ],
   "source": [
    "import argilla as rg\n",
    "\n",
    "rg.init(api_url=\"http://localhost:6900\", api_key=\"admin.apikey\")"
   ]
  },
  {
   "cell_type": "markdown",
   "id": "c9710416-82e3-457d-897c-3160b339a970",
   "metadata": {
    "jp-MarkdownHeadingCollapsed": true
   },
   "source": [
    "## Push to Huggingface"
   ]
  },
  {
   "cell_type": "code",
   "execution_count": 155,
   "id": "94eb2e74-9b5a-49e1-871b-5c9e0c7602bb",
   "metadata": {
    "execution": {
     "iopub.execute_input": "2024-05-15T09:10:20.970261Z",
     "iopub.status.busy": "2024-05-15T09:10:20.969003Z",
     "iopub.status.idle": "2024-05-15T09:10:24.384816Z",
     "shell.execute_reply": "2024-05-15T09:10:24.383729Z",
     "shell.execute_reply.started": "2024-05-15T09:10:20.970207Z"
    }
   },
   "outputs": [
    {
     "name": "stderr",
     "output_type": "stream",
     "text": [
      "Uploading the dataset shards:   0%|                                                                                                                                    | 0/1 [00:00<?, ?it/s]\n",
      "Creating parquet from Arrow format: 100%|█████████████████████████████████████████████████████████████████████████████████████████████████████████████████████| 9/9 [00:00<00:00, 411.00ba/s]\u001b[A\n",
      "Uploading the dataset shards: 100%|████████████████████████████████████████████████████████████████████████████████████████████████████████████████████████████| 1/1 [00:00<00:00,  2.73it/s]\n",
      "README.md: 100%|████████████████████████████████████████████████████████████████████████████████████████████████████████████████████████████████████████| 10.0k/10.0k [00:00<00:00, 8.44MB/s]\n"
     ]
    }
   ],
   "source": [
    "dataset.push_to_huggingface(\n",
    "    repo_id=\"louisguitton/dev-ner-ontonotes\",split=\"validation\"\n",
    ")"
   ]
  },
  {
   "cell_type": "markdown",
   "id": "881340da-56dd-431c-aa1f-ccac7c78b333",
   "metadata": {
    "jp-MarkdownHeadingCollapsed": true
   },
   "source": [
    "## Add suggestions to a remote dataset"
   ]
  },
  {
   "cell_type": "code",
   "execution_count": 262,
   "id": "408b571d-3f26-4070-89ca-8b027275396a",
   "metadata": {
    "execution": {
     "iopub.execute_input": "2024-05-15T14:15:46.991669Z",
     "iopub.status.busy": "2024-05-15T14:15:46.990762Z",
     "iopub.status.idle": "2024-05-15T14:15:47.081904Z",
     "shell.execute_reply": "2024-05-15T14:15:47.081600Z",
     "shell.execute_reply.started": "2024-05-15T14:15:46.991617Z"
    }
   },
   "outputs": [],
   "source": [
    "remote_dataset = rg.FeedbackDataset.from_argilla(\n",
    "    name=\"dev-ner-ontonotes\",\n",
    "    workspace=\"admin\",\n",
    "    with_vectors=\"all\"\n",
    ")"
   ]
  },
  {
   "cell_type": "code",
   "execution_count": 263,
   "id": "3fd5d429-f10b-4699-a43c-9f9ef4f27cb9",
   "metadata": {
    "execution": {
     "iopub.execute_input": "2024-05-15T14:16:24.175924Z",
     "iopub.status.busy": "2024-05-15T14:16:24.175336Z",
     "iopub.status.idle": "2024-05-15T14:16:24.193325Z",
     "shell.execute_reply": "2024-05-15T14:16:24.192867Z",
     "shell.execute_reply.started": "2024-05-15T14:16:24.175896Z"
    }
   },
   "outputs": [],
   "source": [
    "from typing import Type\n",
    "from argilla.client.feedback.dataset.remote.dataset import RemoteFeedbackDataset\n",
    "from argilla.client.feedback.schemas.remote.records import RemoteFeedbackRecord, RemoteSuggestionSchema\n",
    "from argilla.client.feedback.schemas.suggestions import SuggestionSchema\n",
    "\n",
    "def labeller(nlp: Type[spacy.language.Language], text: str) -> List[SpanValueSchema]:\n",
    "    \"\"\"Generate NER preditions from a spaCy model in the Argilla format.\"\"\"\n",
    "    doc = nlp(text)\n",
    "    return [\n",
    "        SpanValueSchema(\n",
    "            start=ent.start_char,\n",
    "            end=ent.end_char,\n",
    "            label=ent.label_,\n",
    "            score=0\n",
    "        )  for ent in doc.ents\n",
    "    ]\n",
    "    \n",
    "def add_suggestions_to_remote_dataset(remote_dataset: RemoteFeedbackDataset, nlp: Type[spacy.language.Language]) -> None:\n",
    "    \"\"\"Add suggestions from a spaCy NER model to a remote instance of an existing Argilla dataset.\n",
    "    \n",
    "    ref: https://docs.argilla.io/en/latest/tutorials_and_integrations/tutorials/feedback/end2end_examples/add-suggestions-and-responses-005.html#For-the-RemoteFeedbackDataset\"\"\"\n",
    "    modified_records: List[RemoteFeedbackRecord] = [record for record in remote_dataset.records]\n",
    "    \n",
    "    for record in modified_records:\n",
    "        pred: List[SpanValueSchema] = labeller(nlp, record.fields[\"text\"])\n",
    "        # passing more than 1 suggestion fails with this error:\n",
    "        # ValidationApiError: Argilla server returned an error with http status: 422. Error details: {'response': 'Record at \n",
    "        # position 0 is not valid because found duplicate suggestions question IDs', 'params': None}\n",
    "        record.suggestions: Union[Tuple[Union[RemoteSuggestionSchema, SuggestionSchema]], List[Union[RemoteSuggestionSchema, SuggestionSchema]]] = [{\n",
    "                \"question_name\": \"entities\",\n",
    "                \"value\": pred,\n",
    "                \"agent\": nlp.meta['name']\n",
    "            }]\n",
    "    \n",
    "    remote_dataset.update_records(modified_records)"
   ]
  },
  {
   "cell_type": "code",
   "execution_count": 171,
   "id": "45072e60-ccd5-4e29-b42b-49da51f13e4b",
   "metadata": {
    "execution": {
     "iopub.execute_input": "2024-05-15T10:34:27.611411Z",
     "iopub.status.busy": "2024-05-15T10:34:27.609567Z",
     "iopub.status.idle": "2024-05-15T10:34:41.975052Z",
     "shell.execute_reply": "2024-05-15T10:34:41.974576Z",
     "shell.execute_reply.started": "2024-05-15T10:34:27.611333Z"
    }
   },
   "outputs": [
    {
     "name": "stderr",
     "output_type": "stream",
     "text": [
      "/Users/louis.guitton/workspace/mlops-talk-llm-kg/venv/lib/python3.11/site-packages/transformers/utils/generic.py:441: UserWarning: torch.utils._pytree._register_pytree_node is deprecated. Please use torch.utils._pytree.register_pytree_node instead.\n",
      "  _torch_pytree._register_pytree_node(\n",
      "/Users/louis.guitton/workspace/mlops-talk-llm-kg/venv/lib/python3.11/site-packages/transformers/utils/generic.py:309: UserWarning: torch.utils._pytree._register_pytree_node is deprecated. Please use torch.utils._pytree.register_pytree_node instead.\n",
      "  _torch_pytree._register_pytree_node(\n",
      "/Users/louis.guitton/workspace/mlops-talk-llm-kg/venv/lib/python3.11/site-packages/transformers/utils/generic.py:309: UserWarning: torch.utils._pytree._register_pytree_node is deprecated. Please use torch.utils._pytree.register_pytree_node instead.\n",
      "  _torch_pytree._register_pytree_node(\n"
     ]
    }
   ],
   "source": [
    "import spacy\n",
    "\n",
    "nlp = spacy.load(\"en_core_web_sm\")"
   ]
  },
  {
   "cell_type": "code",
   "execution_count": 264,
   "id": "f6072561-9f2c-4fed-9288-ecb0e4f08f08",
   "metadata": {
    "execution": {
     "iopub.execute_input": "2024-05-15T14:16:29.718853Z",
     "iopub.status.busy": "2024-05-15T14:16:29.717982Z",
     "iopub.status.idle": "2024-05-15T14:16:30.788640Z",
     "shell.execute_reply": "2024-05-15T14:16:30.787495Z",
     "shell.execute_reply.started": "2024-05-15T14:16:29.718799Z"
    }
   },
   "outputs": [
    {
     "data": {
      "text/html": [
       "<pre style=\"white-space:pre;overflow-x:auto;line-height:normal;font-family:Menlo,'DejaVu Sans Mono',consolas,'Courier New',monospace\"></pre>\n"
      ],
      "text/plain": []
     },
     "metadata": {},
     "output_type": "display_data"
    },
    {
     "data": {
      "text/html": [
       "<pre style=\"white-space:pre;overflow-x:auto;line-height:normal;font-family:Menlo,'DejaVu Sans Mono',consolas,'Courier New',monospace\">\n",
       "</pre>\n"
      ],
      "text/plain": [
       "\n"
      ]
     },
     "metadata": {},
     "output_type": "display_data"
    }
   ],
   "source": [
    "add_suggestions_to_remote_dataset(remote_dataset, nlp)"
   ]
  },
  {
   "cell_type": "code",
   "execution_count": 270,
   "id": "0e3e779c-9e2f-4e0d-a557-26ec44a30783",
   "metadata": {
    "execution": {
     "iopub.execute_input": "2024-05-15T14:25:58.614352Z",
     "iopub.status.busy": "2024-05-15T14:25:58.613539Z",
     "iopub.status.idle": "2024-05-15T14:25:58.627030Z",
     "shell.execute_reply": "2024-05-15T14:25:58.625580Z",
     "shell.execute_reply.started": "2024-05-15T14:25:58.614306Z"
    }
   },
   "outputs": [],
   "source": [
    "def test_one_suggestion_and_no_response():\n",
    "    r = remote_dataset.records[2]\n",
    "    pred: List[SpanValueSchema] = labeller(nlp, r.fields[\"text\"])\n",
    "    r.responses = []\n",
    "    r.suggestions = [{\n",
    "                \"question_name\": \"entities\",\n",
    "                \"value\": pred,\n",
    "                \"agent\": nlp.meta['name']\n",
    "            }]\n",
    "    remote_dataset.update_records([r])"
   ]
  },
  {
   "cell_type": "code",
   "execution_count": 271,
   "id": "7c5b38db-d0ca-4ae5-a8b1-ee44fef188fb",
   "metadata": {
    "execution": {
     "iopub.execute_input": "2024-05-15T14:26:02.169550Z",
     "iopub.status.busy": "2024-05-15T14:26:02.168962Z",
     "iopub.status.idle": "2024-05-15T14:26:02.319696Z",
     "shell.execute_reply": "2024-05-15T14:26:02.318761Z",
     "shell.execute_reply.started": "2024-05-15T14:26:02.169520Z"
    }
   },
   "outputs": [
    {
     "data": {
      "text/html": [
       "<pre style=\"white-space:pre;overflow-x:auto;line-height:normal;font-family:Menlo,'DejaVu Sans Mono',consolas,'Courier New',monospace\"></pre>\n"
      ],
      "text/plain": []
     },
     "metadata": {},
     "output_type": "display_data"
    },
    {
     "data": {
      "text/html": [
       "<pre style=\"white-space:pre;overflow-x:auto;line-height:normal;font-family:Menlo,'DejaVu Sans Mono',consolas,'Courier New',monospace\">\n",
       "</pre>\n"
      ],
      "text/plain": [
       "\n"
      ]
     },
     "metadata": {},
     "output_type": "display_data"
    }
   ],
   "source": [
    "test_one_suggestion_and_no_response()"
   ]
  },
  {
   "cell_type": "markdown",
   "id": "53fb1338-aee4-4851-976c-8912e16e270c",
   "metadata": {
    "jp-MarkdownHeadingCollapsed": true
   },
   "source": [
    "## Compute metrics"
   ]
  },
  {
   "cell_type": "code",
   "execution_count": 289,
   "id": "a11fed69-c825-4295-8a8f-baae493f5fde",
   "metadata": {
    "execution": {
     "iopub.execute_input": "2024-05-16T15:31:35.583826Z",
     "iopub.status.busy": "2024-05-16T15:31:35.582846Z",
     "iopub.status.idle": "2024-05-16T15:31:35.593789Z",
     "shell.execute_reply": "2024-05-16T15:31:35.592623Z",
     "shell.execute_reply.started": "2024-05-16T15:31:35.583770Z"
    }
   },
   "outputs": [],
   "source": [
    "from argilla.client.feedback.metrics.utils import get_responses_and_suggestions_per_user"
   ]
  },
  {
   "cell_type": "code",
   "execution_count": 291,
   "id": "8d248f9b-000e-46d1-8559-3464c493ecf5",
   "metadata": {
    "execution": {
     "iopub.execute_input": "2024-05-16T15:32:47.303222Z",
     "iopub.status.busy": "2024-05-16T15:32:47.302640Z",
     "iopub.status.idle": "2024-05-16T15:32:47.569175Z",
     "shell.execute_reply": "2024-05-16T15:32:47.568855Z",
     "shell.execute_reply.started": "2024-05-16T15:32:47.303192Z"
    }
   },
   "outputs": [
    {
     "name": "stderr",
     "output_type": "stream",
     "text": [
      "Extracting responses and suggestions per user: 100%|███████████████████████████████████████████████████████████████████████████████████████████████████| 100/100 [00:00<00:00, 861253.39it/s]\n"
     ]
    }
   ],
   "source": [
    "remote_dataset = rg.FeedbackDataset.from_argilla(\n",
    "    name=\"ner-lvl2\",\n",
    "    workspace=\"admin\",\n",
    "    with_vectors=\"all\"\n",
    ")\n",
    "\n",
    "# responses_and_suggestions_per_user = get_responses_and_suggestions_per_user(dataset=remote_dataset, question_name=\"entities\")"
   ]
  },
  {
   "cell_type": "code",
   "execution_count": 298,
   "id": "8f4df0ef-33dc-4159-a228-d5b0d755060d",
   "metadata": {
    "execution": {
     "iopub.execute_input": "2024-05-16T15:44:10.499640Z",
     "iopub.status.busy": "2024-05-16T15:44:10.498769Z",
     "iopub.status.idle": "2024-05-16T15:44:10.669614Z",
     "shell.execute_reply": "2024-05-16T15:44:10.669299Z",
     "shell.execute_reply.started": "2024-05-16T15:44:10.499602Z"
    }
   },
   "outputs": [],
   "source": [
    "hf_dataset = remote_dataset.format_as(\"datasets\")"
   ]
  },
  {
   "cell_type": "code",
   "execution_count": 300,
   "id": "99f0a016-d3f4-4265-879a-16e21cec419c",
   "metadata": {
    "execution": {
     "iopub.execute_input": "2024-05-16T15:44:29.225376Z",
     "iopub.status.busy": "2024-05-16T15:44:29.224782Z",
     "iopub.status.idle": "2024-05-16T15:44:29.238035Z",
     "shell.execute_reply": "2024-05-16T15:44:29.236810Z",
     "shell.execute_reply.started": "2024-05-16T15:44:29.225330Z"
    }
   },
   "outputs": [
    {
     "data": {
      "text/plain": [
       "{'text': 'A Russian diver has found the bodies of three of the 118 sailors who were killed when the nuclear submarine Kursk sank in the Barents Sea .',\n",
       " 'entities': [{'user_id': 'fe7c1b6a-5d30-41d5-bb56-6675cfbad12f',\n",
       "   'value': {'start': [2, 40, 53, 108, 122],\n",
       "    'end': [9, 45, 56, 113, 137],\n",
       "    'label': ['NORP', 'CARDINAL', 'CARDINAL', 'PRODUCT', 'LOC'],\n",
       "    'text': ['Russian', 'three', '118', 'Kursk', 'the Barents Sea']},\n",
       "   'status': 'submitted'}],\n",
       " 'entities-suggestion': {'start': [2, 40, 53, 108, 122],\n",
       "  'end': [9, 45, 56, 113, 137],\n",
       "  'label': ['NORP', 'CARDINAL', 'CARDINAL', 'PRODUCT', 'LOC'],\n",
       "  'text': ['Russian', 'three', '118', 'Kursk', 'the Barents Sea'],\n",
       "  'score': [None, None, None, None, None]},\n",
       " 'entities-suggestion-metadata': {'type': None, 'score': None, 'agent': None},\n",
       " 'external_id': None,\n",
       " 'metadata': '{}'}"
      ]
     },
     "execution_count": 300,
     "metadata": {},
     "output_type": "execute_result"
    }
   ],
   "source": [
    "hf_dataset[0]"
   ]
  },
  {
   "cell_type": "code",
   "execution_count": null,
   "id": "eda94ac0-dc29-4c2d-95c0-efd94da4f59d",
   "metadata": {},
   "outputs": [],
   "source": [
    "from spacy.tokens import Doc\n",
    "from spacy.training import Example\n",
    "\n",
    "examples: List[Example] = []\n",
    "for row in hf_dataset:\n",
    "    text = row[\"text\"]\n",
    "    gold = row[\"entities\"]\n",
    "    pred = row[\"entities-suggestion\"]\n",
    "\n",
    "    # generate Doc with Doc.set_ents from a list of spans for the predicted suggestions\n",
    "    # ref: https://spacy.io/api/doc#set_ents\n",
    "\n",
    "    # generate Doc with Doc.set_ents from a list of spans for the gold responses\n",
    "    \n",
    "    example = Example(predicted, reference)\n",
    "    examples.append(example)"
   ]
  },
  {
   "cell_type": "code",
   "execution_count": 296,
   "id": "f65bc9be-7fa7-4419-9317-e121d9f8bdd9",
   "metadata": {
    "execution": {
     "iopub.execute_input": "2024-05-16T15:40:46.812719Z",
     "iopub.status.busy": "2024-05-16T15:40:46.812088Z",
     "iopub.status.idle": "2024-05-16T15:40:46.917245Z",
     "shell.execute_reply": "2024-05-16T15:40:46.916877Z",
     "shell.execute_reply.started": "2024-05-16T15:40:46.812684Z"
    }
   },
   "outputs": [],
   "source": [
    "from spacy.scorer import Scorer\n",
    "scorer = Scorer()"
   ]
  },
  {
   "cell_type": "code",
   "execution_count": null,
   "id": "a3d30309-32d9-4ca3-a3bf-9e0e24cb8acb",
   "metadata": {},
   "outputs": [],
   "source": [
    "scores = scorer.score(examples)"
   ]
  },
  {
   "cell_type": "markdown",
   "id": "56f53ac2-bc6f-46ab-a162-d7ad9270b6fd",
   "metadata": {},
   "source": [
    "## Football Articles\n",
    "### Create (and Delete) empty dataset in Argilla for our task"
   ]
  },
  {
   "cell_type": "code",
   "execution_count": 246,
   "id": "63b218e4-0328-4b7f-a4a8-4ed882b38f5a",
   "metadata": {
    "execution": {
     "iopub.execute_input": "2024-05-22T13:49:23.804119Z",
     "iopub.status.busy": "2024-05-22T13:49:23.803319Z",
     "iopub.status.idle": "2024-05-22T13:49:24.015157Z",
     "shell.execute_reply": "2024-05-22T13:49:24.014452Z",
     "shell.execute_reply.started": "2024-05-22T13:49:23.804070Z"
    }
   },
   "outputs": [],
   "source": [
    "remote_dataset = rg.FeedbackDataset.from_argilla(\"football-news\", workspace=\"admin\")\n",
    "remote_dataset.delete()"
   ]
  },
  {
   "cell_type": "code",
   "execution_count": 249,
   "id": "a8c8028d-b8c3-4875-ba9d-26ee01d78572",
   "metadata": {
    "execution": {
     "iopub.execute_input": "2024-05-22T13:49:37.706884Z",
     "iopub.status.busy": "2024-05-22T13:49:37.706540Z",
     "iopub.status.idle": "2024-05-22T13:49:37.715578Z",
     "shell.execute_reply": "2024-05-22T13:49:37.714760Z",
     "shell.execute_reply.started": "2024-05-22T13:49:37.706858Z"
    }
   },
   "outputs": [],
   "source": [
    "dataset = rg.FeedbackDataset(\n",
    "    fields=[\n",
    "        rg.TextField(name=\"text\")\n",
    "    ],\n",
    "    questions=[\n",
    "        rg.LabelQuestion(\n",
    "            name=\"category\",\n",
    "            title=\"What is the category of the article?\",\n",
    "            labels=[\n",
    "                \"Coach Commentary\", \"Transfer News\", \"Match Report\",\n",
    "                \"Player Profile\", \"League Updates\", \"Injury Updates\",\n",
    "                \"Tactical Analysis\", \"Social Media Reaction\",\n",
    "                \"Historical Milestone\", \"Match Incident\"\n",
    "            ],\n",
    "            required=False,\n",
    "            visible_labels=None\n",
    "        ),\n",
    "        rg.SpanQuestion(\n",
    "            name=\"entities\",\n",
    "            title=\"Highlight the entities in the content:\",\n",
    "            labels=[\"Competition\", \"Team\", \"Player\", \"Match\", \"Transfer\"],\n",
    "            field=\"text\",\n",
    "            required=True,\n",
    "            allow_overlapping=True\n",
    "        )\n",
    "    ],\n",
    "    metadata_properties = [\n",
    "        rg.TermsMetadataProperty(name=\"link\"),\n",
    "        rg.TermsMetadataProperty(name=\"source\"),\n",
    "    ],\n",
    "    vectors_settings=[], # we will add sentence embeddings a posteriori\n",
    "    guidelines=\"Please, read the question carefully and try to answer it as accurately as possible.\"\n",
    ")"
   ]
  },
  {
   "cell_type": "code",
   "execution_count": 250,
   "id": "beee56cf-1f18-4466-8142-3cb1836de2b2",
   "metadata": {
    "execution": {
     "iopub.execute_input": "2024-05-22T13:49:38.522415Z",
     "iopub.status.busy": "2024-05-22T13:49:38.521491Z",
     "iopub.status.idle": "2024-05-22T13:49:38.798992Z",
     "shell.execute_reply": "2024-05-22T13:49:38.798550Z",
     "shell.execute_reply.started": "2024-05-22T13:49:38.522367Z"
    }
   },
   "outputs": [
    {
     "data": {
      "text/html": [
       "<pre style=\"white-space:pre;overflow-x:auto;line-height:normal;font-family:Menlo,'DejaVu Sans Mono',consolas,'Courier New',monospace\"><span style=\"color: #7fbfbf; text-decoration-color: #7fbfbf\">[05/22/24 15:49:38] </span><span style=\"color: #000080; text-decoration-color: #000080\">INFO    </span> INFO:argilla.client.feedback.dataset.local.mixins:✓ Dataset succesfully  <a href=\"file:///Users/louis.guitton/workspace/mlops-talk-llm-kg/venv/lib/python3.11/site-packages/argilla/client/feedback/dataset/local/mixins.py\" target=\"_blank\"><span style=\"color: #7f7f7f; text-decoration-color: #7f7f7f\">mixins.py</span></a><span style=\"color: #7f7f7f; text-decoration-color: #7f7f7f\">:</span><a href=\"file:///Users/louis.guitton/workspace/mlops-talk-llm-kg/venv/lib/python3.11/site-packages/argilla/client/feedback/dataset/local/mixins.py#271\" target=\"_blank\"><span style=\"color: #7f7f7f; text-decoration-color: #7f7f7f\">271</span></a>\n",
       "<span style=\"color: #7fbfbf; text-decoration-color: #7fbfbf\">                    </span>         pushed to Argilla                                                        <span style=\"color: #7f7f7f; text-decoration-color: #7f7f7f\">             </span>\n",
       "</pre>\n"
      ],
      "text/plain": [
       "\u001b[2;36m[05/22/24 15:49:38]\u001b[0m\u001b[2;36m \u001b[0m\u001b[34mINFO    \u001b[0m INFO:argilla.client.feedback.dataset.local.mixins:✓ Dataset succesfully  \u001b]8;id=827042;file:///Users/louis.guitton/workspace/mlops-talk-llm-kg/venv/lib/python3.11/site-packages/argilla/client/feedback/dataset/local/mixins.py\u001b\\\u001b[2mmixins.py\u001b[0m\u001b]8;;\u001b\\\u001b[2m:\u001b[0m\u001b]8;id=310780;file:///Users/louis.guitton/workspace/mlops-talk-llm-kg/venv/lib/python3.11/site-packages/argilla/client/feedback/dataset/local/mixins.py#271\u001b\\\u001b[2m271\u001b[0m\u001b]8;;\u001b\\\n",
       "\u001b[2;36m                    \u001b[0m         pushed to Argilla                                                        \u001b[2m             \u001b[0m\n"
      ]
     },
     "metadata": {},
     "output_type": "display_data"
    },
    {
     "data": {
      "text/html": [
       "<pre style=\"white-space:pre;overflow-x:auto;line-height:normal;font-family:Menlo,'DejaVu Sans Mono',consolas,'Courier New',monospace\"><span style=\"color: #7fbfbf; text-decoration-color: #7fbfbf\">                    </span><span style=\"color: #000080; text-decoration-color: #000080\">INFO    </span> INFO:argilla.client.feedback.dataset.local.mixins:<span style=\"color: #800080; text-decoration-color: #800080; font-weight: bold\">RemoteFeedbackDataset</span><span style=\"font-weight: bold\">(</span> <a href=\"file:///Users/louis.guitton/workspace/mlops-talk-llm-kg/venv/lib/python3.11/site-packages/argilla/client/feedback/dataset/local/mixins.py\" target=\"_blank\"><span style=\"color: #7f7f7f; text-decoration-color: #7f7f7f\">mixins.py</span></a><span style=\"color: #7f7f7f; text-decoration-color: #7f7f7f\">:</span><a href=\"file:///Users/louis.guitton/workspace/mlops-talk-llm-kg/venv/lib/python3.11/site-packages/argilla/client/feedback/dataset/local/mixins.py#272\" target=\"_blank\"><span style=\"color: #7f7f7f; text-decoration-color: #7f7f7f\">272</span></a>\n",
       "<span style=\"color: #7fbfbf; text-decoration-color: #7fbfbf\">                    </span>            <span style=\"color: #808000; text-decoration-color: #808000\">id</span>=<span style=\"color: #ffff00; text-decoration-color: #ffff00\">86c76b83</span><span style=\"color: #ffff00; text-decoration-color: #ffff00\">-709f-4903-a349-1d544f312a1b</span>                               <span style=\"color: #7f7f7f; text-decoration-color: #7f7f7f\">             </span>\n",
       "<span style=\"color: #7fbfbf; text-decoration-color: #7fbfbf\">                    </span>            <span style=\"color: #808000; text-decoration-color: #808000\">name</span>=<span style=\"color: #800080; text-decoration-color: #800080\">football</span>-news                                                    <span style=\"color: #7f7f7f; text-decoration-color: #7f7f7f\">             </span>\n",
       "<span style=\"color: #7fbfbf; text-decoration-color: #7fbfbf\">                    </span>            <span style=\"color: #808000; text-decoration-color: #808000\">workspace</span>=<span style=\"color: #800080; text-decoration-color: #800080; font-weight: bold\">Workspace</span><span style=\"font-weight: bold\">(</span><span style=\"color: #808000; text-decoration-color: #808000\">id</span>=<span style=\"color: #ffff00; text-decoration-color: #ffff00\">84a8fb6f</span><span style=\"color: #ffff00; text-decoration-color: #ffff00\">-3350-4e9b-97c0-043cfedef934</span>,          <span style=\"color: #7f7f7f; text-decoration-color: #7f7f7f\">             </span>\n",
       "<span style=\"color: #7fbfbf; text-decoration-color: #7fbfbf\">                    </span>         <span style=\"color: #808000; text-decoration-color: #808000\">name</span>=<span style=\"color: #800080; text-decoration-color: #800080\">admin</span>, <span style=\"color: #808000; text-decoration-color: #808000\">inserted_at</span>=<span style=\"color: #008080; text-decoration-color: #008080; font-weight: bold\">2024</span>-<span style=\"color: #008080; text-decoration-color: #008080; font-weight: bold\">05</span>-<span style=\"color: #008080; text-decoration-color: #008080; font-weight: bold\">14</span> <span style=\"color: #00ff00; text-decoration-color: #00ff00; font-weight: bold\">17:08:20</span>.<span style=\"color: #008080; text-decoration-color: #008080; font-weight: bold\">825501</span>,                      <span style=\"color: #7f7f7f; text-decoration-color: #7f7f7f\">             </span>\n",
       "<span style=\"color: #7fbfbf; text-decoration-color: #7fbfbf\">                    </span>         <span style=\"color: #808000; text-decoration-color: #808000\">updated_at</span>=<span style=\"color: #008080; text-decoration-color: #008080; font-weight: bold\">2024</span>-<span style=\"color: #008080; text-decoration-color: #008080; font-weight: bold\">05</span>-<span style=\"color: #008080; text-decoration-color: #008080; font-weight: bold\">14</span> <span style=\"color: #00ff00; text-decoration-color: #00ff00; font-weight: bold\">17:08:20</span>.<span style=\"color: #008080; text-decoration-color: #008080; font-weight: bold\">825501</span><span style=\"font-weight: bold\">)</span>                                   <span style=\"color: #7f7f7f; text-decoration-color: #7f7f7f\">             </span>\n",
       "<span style=\"color: #7fbfbf; text-decoration-color: #7fbfbf\">                    </span>            <span style=\"color: #808000; text-decoration-color: #808000\">url</span>=<span style=\"color: #0000ff; text-decoration-color: #0000ff; text-decoration: underline\">http://localhost:6900/dataset/86c76b83-709f-4903-a349-1d544f312a1</span> <span style=\"color: #7f7f7f; text-decoration-color: #7f7f7f\">             </span>\n",
       "<span style=\"color: #7fbfbf; text-decoration-color: #7fbfbf\">                    </span>         <span style=\"color: #0000ff; text-decoration-color: #0000ff; text-decoration: underline\">b/annotation-mode</span>                                                        <span style=\"color: #7f7f7f; text-decoration-color: #7f7f7f\">             </span>\n",
       "<span style=\"color: #7fbfbf; text-decoration-color: #7fbfbf\">                    </span>            <span style=\"color: #808000; text-decoration-color: #808000\">fields</span>=<span style=\"font-weight: bold\">[</span><span style=\"color: #800080; text-decoration-color: #800080; font-weight: bold\">RemoteTextField</span><span style=\"font-weight: bold\">(</span><span style=\"color: #808000; text-decoration-color: #808000\">id</span>=<span style=\"color: #800080; text-decoration-color: #800080; font-weight: bold\">UUID</span><span style=\"font-weight: bold\">(</span><span style=\"color: #008000; text-decoration-color: #008000\">'030e5083-5b97-4aa9-a374-a18fadbacee7</span> <span style=\"color: #7f7f7f; text-decoration-color: #7f7f7f\">             </span>\n",
       "<span style=\"color: #7fbfbf; text-decoration-color: #7fbfbf\">                    </span>         <span style=\"color: #008000; text-decoration-color: #008000\">'</span><span style=\"font-weight: bold\">)</span>, <span style=\"color: #808000; text-decoration-color: #808000\">client</span>=<span style=\"color: #800080; text-decoration-color: #800080; font-style: italic\">None</span>, <span style=\"color: #808000; text-decoration-color: #808000\">name</span>=<span style=\"color: #008000; text-decoration-color: #008000\">'text'</span>, <span style=\"color: #808000; text-decoration-color: #808000\">title</span>=<span style=\"color: #008000; text-decoration-color: #008000\">'Text'</span>, <span style=\"color: #808000; text-decoration-color: #808000\">required</span>=<span style=\"color: #00ff00; text-decoration-color: #00ff00; font-style: italic\">True</span>, <span style=\"color: #808000; text-decoration-color: #808000\">type</span>=<span style=\"color: #008000; text-decoration-color: #008000\">'text'</span>,  <span style=\"color: #7f7f7f; text-decoration-color: #7f7f7f\">             </span>\n",
       "<span style=\"color: #7fbfbf; text-decoration-color: #7fbfbf\">                    </span>         <span style=\"color: #808000; text-decoration-color: #808000\">use_markdown</span>=<span style=\"color: #ff0000; text-decoration-color: #ff0000; font-style: italic\">False</span><span style=\"font-weight: bold\">)]</span>                                                     <span style=\"color: #7f7f7f; text-decoration-color: #7f7f7f\">             </span>\n",
       "<span style=\"color: #7fbfbf; text-decoration-color: #7fbfbf\">                    </span>            <span style=\"color: #808000; text-decoration-color: #808000\">questions</span>=<span style=\"font-weight: bold\">[</span><span style=\"color: #800080; text-decoration-color: #800080; font-weight: bold\">RemoteLabelQuestion</span><span style=\"font-weight: bold\">(</span><span style=\"color: #808000; text-decoration-color: #808000\">id</span>=<span style=\"color: #800080; text-decoration-color: #800080; font-weight: bold\">UUID</span><span style=\"font-weight: bold\">(</span><span style=\"color: #008000; text-decoration-color: #008000\">'abd17716-8b4a-4ef8-a109-849f3</span> <span style=\"color: #7f7f7f; text-decoration-color: #7f7f7f\">             </span>\n",
       "<span style=\"color: #7fbfbf; text-decoration-color: #7fbfbf\">                    </span>         <span style=\"color: #008000; text-decoration-color: #008000\">65db4ec'</span><span style=\"font-weight: bold\">)</span>, <span style=\"color: #808000; text-decoration-color: #808000\">client</span>=<span style=\"color: #800080; text-decoration-color: #800080; font-style: italic\">None</span>, <span style=\"color: #808000; text-decoration-color: #808000\">name</span>=<span style=\"color: #008000; text-decoration-color: #008000\">'category'</span>, <span style=\"color: #808000; text-decoration-color: #808000\">title</span>=<span style=\"color: #008000; text-decoration-color: #008000\">'What is the category of </span> <span style=\"color: #7f7f7f; text-decoration-color: #7f7f7f\">             </span>\n",
       "<span style=\"color: #7fbfbf; text-decoration-color: #7fbfbf\">                    </span>         <span style=\"color: #008000; text-decoration-color: #008000\">the article?'</span>, <span style=\"color: #808000; text-decoration-color: #808000\">description</span>=<span style=\"color: #800080; text-decoration-color: #800080; font-style: italic\">None</span>, <span style=\"color: #808000; text-decoration-color: #808000\">required</span>=<span style=\"color: #ff0000; text-decoration-color: #ff0000; font-style: italic\">False</span>, <span style=\"color: #808000; text-decoration-color: #808000\">type</span>=<span style=\"color: #008000; text-decoration-color: #008000\">'label_selection'</span>, <span style=\"color: #7f7f7f; text-decoration-color: #7f7f7f\">             </span>\n",
       "<span style=\"color: #7fbfbf; text-decoration-color: #7fbfbf\">                    </span>         <span style=\"color: #808000; text-decoration-color: #808000\">labels</span>=<span style=\"font-weight: bold\">[</span><span style=\"color: #008000; text-decoration-color: #008000\">'Coach Commentary'</span>, <span style=\"color: #008000; text-decoration-color: #008000\">'Transfer News'</span>, <span style=\"color: #008000; text-decoration-color: #008000\">'Match Report'</span>, <span style=\"color: #008000; text-decoration-color: #008000\">'Player </span>    <span style=\"color: #7f7f7f; text-decoration-color: #7f7f7f\">             </span>\n",
       "<span style=\"color: #7fbfbf; text-decoration-color: #7fbfbf\">                    </span>         <span style=\"color: #008000; text-decoration-color: #008000\">Profile'</span>, <span style=\"color: #008000; text-decoration-color: #008000\">'League Updates'</span>, <span style=\"color: #008000; text-decoration-color: #008000\">'Injury Updates'</span>, <span style=\"color: #008000; text-decoration-color: #008000\">'Tactical Analysis'</span>,       <span style=\"color: #7f7f7f; text-decoration-color: #7f7f7f\">             </span>\n",
       "<span style=\"color: #7fbfbf; text-decoration-color: #7fbfbf\">                    </span>         <span style=\"color: #008000; text-decoration-color: #008000\">'Social Media Reaction'</span>, <span style=\"color: #008000; text-decoration-color: #008000\">'Historical Milestone'</span>, <span style=\"color: #008000; text-decoration-color: #008000\">'Match Incident'</span><span style=\"font-weight: bold\">]</span>,      <span style=\"color: #7f7f7f; text-decoration-color: #7f7f7f\">             </span>\n",
       "<span style=\"color: #7fbfbf; text-decoration-color: #7fbfbf\">                    </span>         <span style=\"color: #808000; text-decoration-color: #808000\">visible_labels</span>=<span style=\"color: #800080; text-decoration-color: #800080; font-style: italic\">None</span><span style=\"font-weight: bold\">)</span>,                                                    <span style=\"color: #7f7f7f; text-decoration-color: #7f7f7f\">             </span>\n",
       "<span style=\"color: #7fbfbf; text-decoration-color: #7fbfbf\">                    </span>         <span style=\"color: #800080; text-decoration-color: #800080; font-weight: bold\">RemoteSpanQuestion</span><span style=\"font-weight: bold\">(</span><span style=\"color: #808000; text-decoration-color: #808000\">id</span>=<span style=\"color: #800080; text-decoration-color: #800080; font-weight: bold\">UUID</span><span style=\"font-weight: bold\">(</span><span style=\"color: #008000; text-decoration-color: #008000\">'e8b41349-5edf-4488-b60d-10ae664217bc'</span><span style=\"font-weight: bold\">)</span>,      <span style=\"color: #7f7f7f; text-decoration-color: #7f7f7f\">             </span>\n",
       "<span style=\"color: #7fbfbf; text-decoration-color: #7fbfbf\">                    </span>         <span style=\"color: #808000; text-decoration-color: #808000\">client</span>=<span style=\"color: #800080; text-decoration-color: #800080; font-style: italic\">None</span>, <span style=\"color: #808000; text-decoration-color: #808000\">name</span>=<span style=\"color: #008000; text-decoration-color: #008000\">'entities'</span>, <span style=\"color: #808000; text-decoration-color: #808000\">title</span>=<span style=\"color: #008000; text-decoration-color: #008000\">'Highlight the entities in the </span>      <span style=\"color: #7f7f7f; text-decoration-color: #7f7f7f\">             </span>\n",
       "<span style=\"color: #7fbfbf; text-decoration-color: #7fbfbf\">                    </span>         <span style=\"color: #008000; text-decoration-color: #008000\">content:'</span>, <span style=\"color: #808000; text-decoration-color: #808000\">description</span>=<span style=\"color: #800080; text-decoration-color: #800080; font-style: italic\">None</span>, <span style=\"color: #808000; text-decoration-color: #808000\">required</span>=<span style=\"color: #00ff00; text-decoration-color: #00ff00; font-style: italic\">True</span>, <span style=\"color: #808000; text-decoration-color: #808000\">type</span>=<span style=\"color: #008000; text-decoration-color: #008000\">'span'</span>, <span style=\"color: #808000; text-decoration-color: #808000\">field</span>=<span style=\"color: #008000; text-decoration-color: #008000\">'text'</span>,   <span style=\"color: #7f7f7f; text-decoration-color: #7f7f7f\">             </span>\n",
       "<span style=\"color: #7fbfbf; text-decoration-color: #7fbfbf\">                    </span>         <span style=\"color: #808000; text-decoration-color: #808000\">labels</span>=<span style=\"font-weight: bold\">[</span><span style=\"color: #800080; text-decoration-color: #800080; font-weight: bold\">SpanLabelOption</span><span style=\"font-weight: bold\">(</span><span style=\"color: #808000; text-decoration-color: #808000\">value</span>=<span style=\"color: #008000; text-decoration-color: #008000\">'Competition'</span>, <span style=\"color: #808000; text-decoration-color: #808000\">text</span>=<span style=\"color: #008000; text-decoration-color: #008000\">'Competition'</span>,         <span style=\"color: #7f7f7f; text-decoration-color: #7f7f7f\">             </span>\n",
       "<span style=\"color: #7fbfbf; text-decoration-color: #7fbfbf\">                    </span>         <span style=\"color: #808000; text-decoration-color: #808000\">description</span>=<span style=\"color: #800080; text-decoration-color: #800080; font-style: italic\">None</span><span style=\"font-weight: bold\">)</span>, <span style=\"color: #800080; text-decoration-color: #800080; font-weight: bold\">SpanLabelOption</span><span style=\"font-weight: bold\">(</span><span style=\"color: #808000; text-decoration-color: #808000\">value</span>=<span style=\"color: #008000; text-decoration-color: #008000\">'Team'</span>, <span style=\"color: #808000; text-decoration-color: #808000\">text</span>=<span style=\"color: #008000; text-decoration-color: #008000\">'Team'</span>,            <span style=\"color: #7f7f7f; text-decoration-color: #7f7f7f\">             </span>\n",
       "<span style=\"color: #7fbfbf; text-decoration-color: #7fbfbf\">                    </span>         <span style=\"color: #808000; text-decoration-color: #808000\">description</span>=<span style=\"color: #800080; text-decoration-color: #800080; font-style: italic\">None</span><span style=\"font-weight: bold\">)</span>, <span style=\"color: #800080; text-decoration-color: #800080; font-weight: bold\">SpanLabelOption</span><span style=\"font-weight: bold\">(</span><span style=\"color: #808000; text-decoration-color: #808000\">value</span>=<span style=\"color: #008000; text-decoration-color: #008000\">'Player'</span>, <span style=\"color: #808000; text-decoration-color: #808000\">text</span>=<span style=\"color: #008000; text-decoration-color: #008000\">'Player'</span>,        <span style=\"color: #7f7f7f; text-decoration-color: #7f7f7f\">             </span>\n",
       "<span style=\"color: #7fbfbf; text-decoration-color: #7fbfbf\">                    </span>         <span style=\"color: #808000; text-decoration-color: #808000\">description</span>=<span style=\"color: #800080; text-decoration-color: #800080; font-style: italic\">None</span><span style=\"font-weight: bold\">)</span>, <span style=\"color: #800080; text-decoration-color: #800080; font-weight: bold\">SpanLabelOption</span><span style=\"font-weight: bold\">(</span><span style=\"color: #808000; text-decoration-color: #808000\">value</span>=<span style=\"color: #008000; text-decoration-color: #008000\">'Match'</span>, <span style=\"color: #808000; text-decoration-color: #808000\">text</span>=<span style=\"color: #008000; text-decoration-color: #008000\">'Match'</span>,          <span style=\"color: #7f7f7f; text-decoration-color: #7f7f7f\">             </span>\n",
       "<span style=\"color: #7fbfbf; text-decoration-color: #7fbfbf\">                    </span>         <span style=\"color: #808000; text-decoration-color: #808000\">description</span>=<span style=\"color: #800080; text-decoration-color: #800080; font-style: italic\">None</span><span style=\"font-weight: bold\">)</span>, <span style=\"color: #800080; text-decoration-color: #800080; font-weight: bold\">SpanLabelOption</span><span style=\"font-weight: bold\">(</span><span style=\"color: #808000; text-decoration-color: #808000\">value</span>=<span style=\"color: #008000; text-decoration-color: #008000\">'Transfer'</span>, <span style=\"color: #808000; text-decoration-color: #808000\">text</span>=<span style=\"color: #008000; text-decoration-color: #008000\">'Transfer'</span>,    <span style=\"color: #7f7f7f; text-decoration-color: #7f7f7f\">             </span>\n",
       "<span style=\"color: #7fbfbf; text-decoration-color: #7fbfbf\">                    </span>         <span style=\"color: #808000; text-decoration-color: #808000\">description</span>=<span style=\"color: #800080; text-decoration-color: #800080; font-style: italic\">None</span><span style=\"font-weight: bold\">)]</span>, <span style=\"color: #808000; text-decoration-color: #808000\">visible_labels</span>=<span style=\"color: #008080; text-decoration-color: #008080; font-weight: bold\">5</span>, <span style=\"color: #808000; text-decoration-color: #808000\">allow_overlapping</span>=<span style=\"color: #00ff00; text-decoration-color: #00ff00; font-style: italic\">True</span><span style=\"font-weight: bold\">)]</span>           <span style=\"color: #7f7f7f; text-decoration-color: #7f7f7f\">             </span>\n",
       "<span style=\"color: #7fbfbf; text-decoration-color: #7fbfbf\">                    </span>            <span style=\"color: #808000; text-decoration-color: #808000\">guidelines</span>=<span style=\"color: #800080; text-decoration-color: #800080\">Please</span>, read the question carefully and try to answer it   <span style=\"color: #7f7f7f; text-decoration-color: #7f7f7f\">             </span>\n",
       "<span style=\"color: #7fbfbf; text-decoration-color: #7fbfbf\">                    </span>         as accurately as possible.                                               <span style=\"color: #7f7f7f; text-decoration-color: #7f7f7f\">             </span>\n",
       "<span style=\"color: #7fbfbf; text-decoration-color: #7fbfbf\">                    </span>            <span style=\"color: #808000; text-decoration-color: #808000\">metadata_properties</span>=<span style=\"font-weight: bold\">[</span><span style=\"color: #800080; text-decoration-color: #800080; font-weight: bold\">RemoteTermsMetadataProperty</span><span style=\"font-weight: bold\">(</span><span style=\"color: #808000; text-decoration-color: #808000\">id</span>=<span style=\"color: #800080; text-decoration-color: #800080; font-weight: bold\">UUID</span><span style=\"font-weight: bold\">(</span><span style=\"color: #008000; text-decoration-color: #008000\">'d7f43b3b-56</span> <span style=\"color: #7f7f7f; text-decoration-color: #7f7f7f\">             </span>\n",
       "<span style=\"color: #7fbfbf; text-decoration-color: #7fbfbf\">                    </span>         <span style=\"color: #008000; text-decoration-color: #008000\">83-42eb-8ed1-4a68309768ed'</span><span style=\"font-weight: bold\">)</span>, <span style=\"color: #808000; text-decoration-color: #808000\">client</span>=<span style=\"font-weight: bold\">&lt;</span><span style=\"color: #ff00ff; text-decoration-color: #ff00ff; font-weight: bold\">httpx.Client</span><span style=\"color: #000000; text-decoration-color: #000000\"> object at </span>             <span style=\"color: #7f7f7f; text-decoration-color: #7f7f7f\">             </span>\n",
       "<span style=\"color: #7fbfbf; text-decoration-color: #7fbfbf\">                    </span>         <span style=\"color: #008080; text-decoration-color: #008080; font-weight: bold\">0x107e2ce10</span><span style=\"color: #000000; text-decoration-color: #000000\">&gt;, </span><span style=\"color: #808000; text-decoration-color: #808000\">name</span><span style=\"color: #000000; text-decoration-color: #000000\">=</span><span style=\"color: #008000; text-decoration-color: #008000\">'link'</span><span style=\"color: #000000; text-decoration-color: #000000\">, </span><span style=\"color: #808000; text-decoration-color: #808000\">title</span><span style=\"color: #000000; text-decoration-color: #000000\">=</span><span style=\"color: #008000; text-decoration-color: #008000\">'link'</span><span style=\"color: #000000; text-decoration-color: #000000\">, </span><span style=\"color: #808000; text-decoration-color: #808000\">visible_for_annotators</span><span style=\"color: #000000; text-decoration-color: #000000\">=</span><span style=\"color: #00ff00; text-decoration-color: #00ff00; font-style: italic\">True</span><span style=\"color: #000000; text-decoration-color: #000000\">, </span>   <span style=\"color: #7f7f7f; text-decoration-color: #7f7f7f\">             </span>\n",
       "<span style=\"color: #7fbfbf; text-decoration-color: #7fbfbf\">                    </span>         <span style=\"color: #808000; text-decoration-color: #808000\">type</span><span style=\"color: #000000; text-decoration-color: #000000\">=</span><span style=\"color: #008000; text-decoration-color: #008000\">'terms'</span><span style=\"color: #000000; text-decoration-color: #000000\">, </span><span style=\"color: #808000; text-decoration-color: #808000\">values</span><span style=\"color: #000000; text-decoration-color: #000000\">=</span><span style=\"color: #800080; text-decoration-color: #800080; font-style: italic\">None</span><span style=\"color: #000000; text-decoration-color: #000000; font-weight: bold\">)</span><span style=\"color: #000000; text-decoration-color: #000000\">, </span>                                             <span style=\"color: #7f7f7f; text-decoration-color: #7f7f7f\">             </span>\n",
       "<span style=\"color: #7fbfbf; text-decoration-color: #7fbfbf\">                    </span>         <span style=\"color: #800080; text-decoration-color: #800080; font-weight: bold\">RemoteTermsMetadataProperty</span><span style=\"color: #000000; text-decoration-color: #000000; font-weight: bold\">(</span><span style=\"color: #808000; text-decoration-color: #808000\">id</span><span style=\"color: #000000; text-decoration-color: #000000\">=</span><span style=\"color: #800080; text-decoration-color: #800080; font-weight: bold\">UUID</span><span style=\"color: #000000; text-decoration-color: #000000; font-weight: bold\">(</span><span style=\"color: #008000; text-decoration-color: #008000\">'349f024e-64e0-4538-a4e3-cc428885660</span> <span style=\"color: #7f7f7f; text-decoration-color: #7f7f7f\">             </span>\n",
       "<span style=\"color: #7fbfbf; text-decoration-color: #7fbfbf\">                    </span>         <span style=\"color: #008000; text-decoration-color: #008000\">b'</span><span style=\"color: #000000; text-decoration-color: #000000; font-weight: bold\">)</span><span style=\"color: #000000; text-decoration-color: #000000\">, </span><span style=\"color: #808000; text-decoration-color: #808000\">client</span><span style=\"color: #000000; text-decoration-color: #000000\">=&lt;httpx.Client object at </span><span style=\"color: #008080; text-decoration-color: #008080; font-weight: bold\">0x107e2ce10</span><span style=\"font-weight: bold\">&gt;</span>, <span style=\"color: #808000; text-decoration-color: #808000\">name</span>=<span style=\"color: #008000; text-decoration-color: #008000\">'source'</span>,         <span style=\"color: #7f7f7f; text-decoration-color: #7f7f7f\">             </span>\n",
       "<span style=\"color: #7fbfbf; text-decoration-color: #7fbfbf\">                    </span>         <span style=\"color: #808000; text-decoration-color: #808000\">title</span>=<span style=\"color: #008000; text-decoration-color: #008000\">'source'</span>, <span style=\"color: #808000; text-decoration-color: #808000\">visible_for_annotators</span>=<span style=\"color: #00ff00; text-decoration-color: #00ff00; font-style: italic\">True</span>, <span style=\"color: #808000; text-decoration-color: #808000\">type</span>=<span style=\"color: #008000; text-decoration-color: #008000\">'terms'</span>, <span style=\"color: #808000; text-decoration-color: #808000\">values</span>=<span style=\"color: #800080; text-decoration-color: #800080; font-style: italic\">None</span><span style=\"font-weight: bold\">)]</span> <span style=\"color: #7f7f7f; text-decoration-color: #7f7f7f\">             </span>\n",
       "<span style=\"color: #7fbfbf; text-decoration-color: #7fbfbf\">                    </span>            <span style=\"color: #808000; text-decoration-color: #808000\">vectors_settings</span>=<span style=\"font-weight: bold\">[]</span>                                                   <span style=\"color: #7f7f7f; text-decoration-color: #7f7f7f\">             </span>\n",
       "<span style=\"color: #7fbfbf; text-decoration-color: #7fbfbf\">                    </span>         <span style=\"font-weight: bold\">)</span>                                                                        <span style=\"color: #7f7f7f; text-decoration-color: #7f7f7f\">             </span>\n",
       "</pre>\n"
      ],
      "text/plain": [
       "\u001b[2;36m                   \u001b[0m\u001b[2;36m \u001b[0m\u001b[34mINFO    \u001b[0m INFO:argilla.client.feedback.dataset.local.mixins:\u001b[1;35mRemoteFeedbackDataset\u001b[0m\u001b[1m(\u001b[0m \u001b]8;id=745314;file:///Users/louis.guitton/workspace/mlops-talk-llm-kg/venv/lib/python3.11/site-packages/argilla/client/feedback/dataset/local/mixins.py\u001b\\\u001b[2mmixins.py\u001b[0m\u001b]8;;\u001b\\\u001b[2m:\u001b[0m\u001b]8;id=417108;file:///Users/louis.guitton/workspace/mlops-talk-llm-kg/venv/lib/python3.11/site-packages/argilla/client/feedback/dataset/local/mixins.py#272\u001b\\\u001b[2m272\u001b[0m\u001b]8;;\u001b\\\n",
       "\u001b[2;36m                    \u001b[0m            \u001b[33mid\u001b[0m=\u001b[93m86c76b83\u001b[0m\u001b[93m-709f-4903-a349-1d544f312a1b\u001b[0m                               \u001b[2m             \u001b[0m\n",
       "\u001b[2;36m                    \u001b[0m            \u001b[33mname\u001b[0m=\u001b[35mfootball\u001b[0m-news                                                    \u001b[2m             \u001b[0m\n",
       "\u001b[2;36m                    \u001b[0m            \u001b[33mworkspace\u001b[0m=\u001b[1;35mWorkspace\u001b[0m\u001b[1m(\u001b[0m\u001b[33mid\u001b[0m=\u001b[93m84a8fb6f\u001b[0m\u001b[93m-3350-4e9b-97c0-043cfedef934\u001b[0m,          \u001b[2m             \u001b[0m\n",
       "\u001b[2;36m                    \u001b[0m         \u001b[33mname\u001b[0m=\u001b[35madmin\u001b[0m, \u001b[33minserted_at\u001b[0m=\u001b[1;36m2024\u001b[0m-\u001b[1;36m05\u001b[0m-\u001b[1;36m14\u001b[0m \u001b[1;92m17:08:20\u001b[0m.\u001b[1;36m825501\u001b[0m,                      \u001b[2m             \u001b[0m\n",
       "\u001b[2;36m                    \u001b[0m         \u001b[33mupdated_at\u001b[0m=\u001b[1;36m2024\u001b[0m-\u001b[1;36m05\u001b[0m-\u001b[1;36m14\u001b[0m \u001b[1;92m17:08:20\u001b[0m.\u001b[1;36m825501\u001b[0m\u001b[1m)\u001b[0m                                   \u001b[2m             \u001b[0m\n",
       "\u001b[2;36m                    \u001b[0m            \u001b[33murl\u001b[0m=\u001b[4;94mhttp\u001b[0m\u001b[4;94m://localhost:6900/dataset/86c76b83-709f-4903-a349-1d544f312a1\u001b[0m \u001b[2m             \u001b[0m\n",
       "\u001b[2;36m                    \u001b[0m         \u001b[4;94mb/annotation-mode\u001b[0m                                                        \u001b[2m             \u001b[0m\n",
       "\u001b[2;36m                    \u001b[0m            \u001b[33mfields\u001b[0m=\u001b[1m[\u001b[0m\u001b[1;35mRemoteTextField\u001b[0m\u001b[1m(\u001b[0m\u001b[33mid\u001b[0m=\u001b[1;35mUUID\u001b[0m\u001b[1m(\u001b[0m\u001b[32m'030e5083-5b97-4aa9-a374-a18fadbacee7\u001b[0m \u001b[2m             \u001b[0m\n",
       "\u001b[2;36m                    \u001b[0m         \u001b[32m'\u001b[0m\u001b[1m)\u001b[0m, \u001b[33mclient\u001b[0m=\u001b[3;35mNone\u001b[0m, \u001b[33mname\u001b[0m=\u001b[32m'text'\u001b[0m, \u001b[33mtitle\u001b[0m=\u001b[32m'Text'\u001b[0m, \u001b[33mrequired\u001b[0m=\u001b[3;92mTrue\u001b[0m, \u001b[33mtype\u001b[0m=\u001b[32m'text'\u001b[0m,  \u001b[2m             \u001b[0m\n",
       "\u001b[2;36m                    \u001b[0m         \u001b[33muse_markdown\u001b[0m=\u001b[3;91mFalse\u001b[0m\u001b[1m)\u001b[0m\u001b[1m]\u001b[0m                                                     \u001b[2m             \u001b[0m\n",
       "\u001b[2;36m                    \u001b[0m            \u001b[33mquestions\u001b[0m=\u001b[1m[\u001b[0m\u001b[1;35mRemoteLabelQuestion\u001b[0m\u001b[1m(\u001b[0m\u001b[33mid\u001b[0m=\u001b[1;35mUUID\u001b[0m\u001b[1m(\u001b[0m\u001b[32m'abd17716-8b4a-4ef8-a109-849f3\u001b[0m \u001b[2m             \u001b[0m\n",
       "\u001b[2;36m                    \u001b[0m         \u001b[32m65db4ec'\u001b[0m\u001b[1m)\u001b[0m, \u001b[33mclient\u001b[0m=\u001b[3;35mNone\u001b[0m, \u001b[33mname\u001b[0m=\u001b[32m'category'\u001b[0m, \u001b[33mtitle\u001b[0m=\u001b[32m'What is the category of \u001b[0m \u001b[2m             \u001b[0m\n",
       "\u001b[2;36m                    \u001b[0m         \u001b[32mthe article?'\u001b[0m, \u001b[33mdescription\u001b[0m=\u001b[3;35mNone\u001b[0m, \u001b[33mrequired\u001b[0m=\u001b[3;91mFalse\u001b[0m, \u001b[33mtype\u001b[0m=\u001b[32m'label_selection'\u001b[0m, \u001b[2m             \u001b[0m\n",
       "\u001b[2;36m                    \u001b[0m         \u001b[33mlabels\u001b[0m=\u001b[1m[\u001b[0m\u001b[32m'Coach Commentary'\u001b[0m, \u001b[32m'Transfer News'\u001b[0m, \u001b[32m'Match Report'\u001b[0m, \u001b[32m'Player \u001b[0m    \u001b[2m             \u001b[0m\n",
       "\u001b[2;36m                    \u001b[0m         \u001b[32mProfile'\u001b[0m, \u001b[32m'League Updates'\u001b[0m, \u001b[32m'Injury Updates'\u001b[0m, \u001b[32m'Tactical Analysis'\u001b[0m,       \u001b[2m             \u001b[0m\n",
       "\u001b[2;36m                    \u001b[0m         \u001b[32m'Social Media Reaction'\u001b[0m, \u001b[32m'Historical Milestone'\u001b[0m, \u001b[32m'Match Incident'\u001b[0m\u001b[1m]\u001b[0m,      \u001b[2m             \u001b[0m\n",
       "\u001b[2;36m                    \u001b[0m         \u001b[33mvisible_labels\u001b[0m=\u001b[3;35mNone\u001b[0m\u001b[1m)\u001b[0m,                                                    \u001b[2m             \u001b[0m\n",
       "\u001b[2;36m                    \u001b[0m         \u001b[1;35mRemoteSpanQuestion\u001b[0m\u001b[1m(\u001b[0m\u001b[33mid\u001b[0m=\u001b[1;35mUUID\u001b[0m\u001b[1m(\u001b[0m\u001b[32m'e8b41349-5edf-4488-b60d-10ae664217bc'\u001b[0m\u001b[1m)\u001b[0m,      \u001b[2m             \u001b[0m\n",
       "\u001b[2;36m                    \u001b[0m         \u001b[33mclient\u001b[0m=\u001b[3;35mNone\u001b[0m, \u001b[33mname\u001b[0m=\u001b[32m'entities'\u001b[0m, \u001b[33mtitle\u001b[0m=\u001b[32m'Highlight the entities in the \u001b[0m      \u001b[2m             \u001b[0m\n",
       "\u001b[2;36m                    \u001b[0m         \u001b[32mcontent:'\u001b[0m, \u001b[33mdescription\u001b[0m=\u001b[3;35mNone\u001b[0m, \u001b[33mrequired\u001b[0m=\u001b[3;92mTrue\u001b[0m, \u001b[33mtype\u001b[0m=\u001b[32m'span'\u001b[0m, \u001b[33mfield\u001b[0m=\u001b[32m'text'\u001b[0m,   \u001b[2m             \u001b[0m\n",
       "\u001b[2;36m                    \u001b[0m         \u001b[33mlabels\u001b[0m=\u001b[1m[\u001b[0m\u001b[1;35mSpanLabelOption\u001b[0m\u001b[1m(\u001b[0m\u001b[33mvalue\u001b[0m=\u001b[32m'Competition'\u001b[0m, \u001b[33mtext\u001b[0m=\u001b[32m'Competition'\u001b[0m,         \u001b[2m             \u001b[0m\n",
       "\u001b[2;36m                    \u001b[0m         \u001b[33mdescription\u001b[0m=\u001b[3;35mNone\u001b[0m\u001b[1m)\u001b[0m, \u001b[1;35mSpanLabelOption\u001b[0m\u001b[1m(\u001b[0m\u001b[33mvalue\u001b[0m=\u001b[32m'Team'\u001b[0m, \u001b[33mtext\u001b[0m=\u001b[32m'Team'\u001b[0m,            \u001b[2m             \u001b[0m\n",
       "\u001b[2;36m                    \u001b[0m         \u001b[33mdescription\u001b[0m=\u001b[3;35mNone\u001b[0m\u001b[1m)\u001b[0m, \u001b[1;35mSpanLabelOption\u001b[0m\u001b[1m(\u001b[0m\u001b[33mvalue\u001b[0m=\u001b[32m'Player'\u001b[0m, \u001b[33mtext\u001b[0m=\u001b[32m'Player'\u001b[0m,        \u001b[2m             \u001b[0m\n",
       "\u001b[2;36m                    \u001b[0m         \u001b[33mdescription\u001b[0m=\u001b[3;35mNone\u001b[0m\u001b[1m)\u001b[0m, \u001b[1;35mSpanLabelOption\u001b[0m\u001b[1m(\u001b[0m\u001b[33mvalue\u001b[0m=\u001b[32m'Match'\u001b[0m, \u001b[33mtext\u001b[0m=\u001b[32m'Match'\u001b[0m,          \u001b[2m             \u001b[0m\n",
       "\u001b[2;36m                    \u001b[0m         \u001b[33mdescription\u001b[0m=\u001b[3;35mNone\u001b[0m\u001b[1m)\u001b[0m, \u001b[1;35mSpanLabelOption\u001b[0m\u001b[1m(\u001b[0m\u001b[33mvalue\u001b[0m=\u001b[32m'Transfer'\u001b[0m, \u001b[33mtext\u001b[0m=\u001b[32m'Transfer'\u001b[0m,    \u001b[2m             \u001b[0m\n",
       "\u001b[2;36m                    \u001b[0m         \u001b[33mdescription\u001b[0m=\u001b[3;35mNone\u001b[0m\u001b[1m)\u001b[0m\u001b[1m]\u001b[0m, \u001b[33mvisible_labels\u001b[0m=\u001b[1;36m5\u001b[0m, \u001b[33mallow_overlapping\u001b[0m=\u001b[3;92mTrue\u001b[0m\u001b[1m)\u001b[0m\u001b[1m]\u001b[0m           \u001b[2m             \u001b[0m\n",
       "\u001b[2;36m                    \u001b[0m            \u001b[33mguidelines\u001b[0m=\u001b[35mPlease\u001b[0m, read the question carefully and try to answer it   \u001b[2m             \u001b[0m\n",
       "\u001b[2;36m                    \u001b[0m         as accurately as possible.                                               \u001b[2m             \u001b[0m\n",
       "\u001b[2;36m                    \u001b[0m            \u001b[33mmetadata_properties\u001b[0m=\u001b[1m[\u001b[0m\u001b[1;35mRemoteTermsMetadataProperty\u001b[0m\u001b[1m(\u001b[0m\u001b[33mid\u001b[0m=\u001b[1;35mUUID\u001b[0m\u001b[1m(\u001b[0m\u001b[32m'd7f43b3b-56\u001b[0m \u001b[2m             \u001b[0m\n",
       "\u001b[2;36m                    \u001b[0m         \u001b[32m83-42eb-8ed1-4a68309768ed'\u001b[0m\u001b[1m)\u001b[0m, \u001b[33mclient\u001b[0m=\u001b[1m<\u001b[0m\u001b[1;95mhttpx.Client\u001b[0m\u001b[39m object at \u001b[0m             \u001b[2m             \u001b[0m\n",
       "\u001b[2;36m                    \u001b[0m         \u001b[1;36m0x107e2ce10\u001b[0m\u001b[39m>, \u001b[0m\u001b[33mname\u001b[0m\u001b[39m=\u001b[0m\u001b[32m'link'\u001b[0m\u001b[39m, \u001b[0m\u001b[33mtitle\u001b[0m\u001b[39m=\u001b[0m\u001b[32m'link'\u001b[0m\u001b[39m, \u001b[0m\u001b[33mvisible_for_annotators\u001b[0m\u001b[39m=\u001b[0m\u001b[3;92mTrue\u001b[0m\u001b[39m, \u001b[0m   \u001b[2m             \u001b[0m\n",
       "\u001b[2;36m                    \u001b[0m         \u001b[33mtype\u001b[0m\u001b[39m=\u001b[0m\u001b[32m'terms'\u001b[0m\u001b[39m, \u001b[0m\u001b[33mvalues\u001b[0m\u001b[39m=\u001b[0m\u001b[3;35mNone\u001b[0m\u001b[1;39m)\u001b[0m\u001b[39m, \u001b[0m                                             \u001b[2m             \u001b[0m\n",
       "\u001b[2;36m                    \u001b[0m         \u001b[1;35mRemoteTermsMetadataProperty\u001b[0m\u001b[1;39m(\u001b[0m\u001b[33mid\u001b[0m\u001b[39m=\u001b[0m\u001b[1;35mUUID\u001b[0m\u001b[1;39m(\u001b[0m\u001b[32m'349f024e-64e0-4538-a4e3-cc428885660\u001b[0m \u001b[2m             \u001b[0m\n",
       "\u001b[2;36m                    \u001b[0m         \u001b[32mb'\u001b[0m\u001b[1;39m)\u001b[0m\u001b[39m, \u001b[0m\u001b[33mclient\u001b[0m\u001b[39m=<httpx.Client object at \u001b[0m\u001b[1;36m0x107e2ce10\u001b[0m\u001b[1m>\u001b[0m, \u001b[33mname\u001b[0m=\u001b[32m'source'\u001b[0m,         \u001b[2m             \u001b[0m\n",
       "\u001b[2;36m                    \u001b[0m         \u001b[33mtitle\u001b[0m=\u001b[32m'source'\u001b[0m, \u001b[33mvisible_for_annotators\u001b[0m=\u001b[3;92mTrue\u001b[0m, \u001b[33mtype\u001b[0m=\u001b[32m'terms'\u001b[0m, \u001b[33mvalues\u001b[0m=\u001b[3;35mNone\u001b[0m\u001b[1m)\u001b[0m\u001b[1m]\u001b[0m \u001b[2m             \u001b[0m\n",
       "\u001b[2;36m                    \u001b[0m            \u001b[33mvectors_settings\u001b[0m=\u001b[1m[\u001b[0m\u001b[1m]\u001b[0m                                                   \u001b[2m             \u001b[0m\n",
       "\u001b[2;36m                    \u001b[0m         \u001b[1m)\u001b[0m                                                                        \u001b[2m             \u001b[0m\n"
      ]
     },
     "metadata": {},
     "output_type": "display_data"
    }
   ],
   "source": [
    "remote_dataset = dataset.push_to_argilla(name=\"football-news\", workspace=\"admin\")"
   ]
  },
  {
   "cell_type": "markdown",
   "id": "e44a0793-9ed5-4b91-9124-0a58d60c5d8f",
   "metadata": {},
   "source": [
    "### Add bare records to the remote Argilla dataset"
   ]
  },
  {
   "cell_type": "code",
   "execution_count": 251,
   "id": "24d792cd-0c40-4381-b312-72dee5123a19",
   "metadata": {
    "execution": {
     "iopub.execute_input": "2024-05-22T13:50:15.644030Z",
     "iopub.status.busy": "2024-05-22T13:50:15.643565Z",
     "iopub.status.idle": "2024-05-22T13:50:15.658586Z",
     "shell.execute_reply": "2024-05-22T13:50:15.657675Z",
     "shell.execute_reply.started": "2024-05-22T13:50:15.644002Z"
    }
   },
   "outputs": [],
   "source": [
    "from typing import Iterator\n",
    "from tqdm import tqdm\n",
    "\n",
    "def records_generator(filepath: str = '../../data/football-news-articles/final-articles.csv') -> Iterator[rg.FeedbackRecord]:\n",
    "    \"\"\"Create Argilla records from the Football News kaggle dataset.\n",
    "    \n",
    "    Notes:\n",
    "    - articles with source=\"all-football-app\" have encoding issues\n",
    "    \"\"\"\n",
    "    dataset: pd.DataFrame = (\n",
    "        pd.read_csv(filepath)\n",
    "        .loc[lambda d: d.source.isin([\"skysports\", \"the-analyst\"])]\n",
    "    )\n",
    "\n",
    "    for index, row in tqdm(dataset.iterrows()):\n",
    "        record = rg.FeedbackRecord(\n",
    "            fields={\n",
    "                \"text\": \"\\n\".join([row['title'], row['content']])\n",
    "            },\n",
    "            metadata={\n",
    "                \"link\": row['link'],\n",
    "                \"source\": row['source'],\n",
    "            },\n",
    "            vectors={},\n",
    "            responses=[],\n",
    "            suggestions=[],\n",
    "            external_id=index,\n",
    "        )\n",
    "\n",
    "        yield record"
   ]
  },
  {
   "cell_type": "code",
   "execution_count": 252,
   "id": "3e471bbc-517f-4f00-ae2e-8627a9a171b6",
   "metadata": {
    "execution": {
     "iopub.execute_input": "2024-05-22T13:50:17.318858Z",
     "iopub.status.busy": "2024-05-22T13:50:17.318485Z",
     "iopub.status.idle": "2024-05-22T13:50:17.323575Z",
     "shell.execute_reply": "2024-05-22T13:50:17.322073Z",
     "shell.execute_reply.started": "2024-05-22T13:50:17.318831Z"
    }
   },
   "outputs": [],
   "source": [
    "LIMIT = 50"
   ]
  },
  {
   "cell_type": "code",
   "execution_count": 253,
   "id": "882d0a75-42b2-4884-94bc-5a13fe592b94",
   "metadata": {
    "execution": {
     "iopub.execute_input": "2024-05-22T13:50:19.468793Z",
     "iopub.status.busy": "2024-05-22T13:50:19.468272Z",
     "iopub.status.idle": "2024-05-22T13:50:20.311832Z",
     "shell.execute_reply": "2024-05-22T13:50:20.310997Z",
     "shell.execute_reply.started": "2024-05-22T13:50:19.468771Z"
    }
   },
   "outputs": [
    {
     "name": "stderr",
     "output_type": "stream",
     "text": [
      "2157it [00:00, 31841.35it/s]"
     ]
    },
    {
     "data": {
      "text/html": [
       "<pre style=\"white-space:pre;overflow-x:auto;line-height:normal;font-family:Menlo,'DejaVu Sans Mono',consolas,'Courier New',monospace\">/Users/louis.guitton/workspace/mlops-talk-llm-kg/venv/lib/python3.11/site-packages/rich/live.py:231: UserWarning: \n",
       "install \"ipywidgets\" for Jupyter support\n",
       "  warnings.warn('install \"ipywidgets\" for Jupyter support')\n",
       "</pre>\n"
      ],
      "text/plain": [
       "/Users/louis.guitton/workspace/mlops-talk-llm-kg/venv/lib/python3.11/site-packages/rich/live.py:231: UserWarning: \n",
       "install \"ipywidgets\" for Jupyter support\n",
       "  warnings.warn('install \"ipywidgets\" for Jupyter support')\n"
      ]
     },
     "metadata": {},
     "output_type": "display_data"
    },
    {
     "name": "stderr",
     "output_type": "stream",
     "text": [
      "\n"
     ]
    },
    {
     "data": {
      "text/html": [
       "<pre style=\"white-space:pre;overflow-x:auto;line-height:normal;font-family:Menlo,'DejaVu Sans Mono',consolas,'Courier New',monospace\"></pre>\n"
      ],
      "text/plain": []
     },
     "metadata": {},
     "output_type": "display_data"
    },
    {
     "data": {
      "text/html": [
       "<pre style=\"white-space:pre;overflow-x:auto;line-height:normal;font-family:Menlo,'DejaVu Sans Mono',consolas,'Courier New',monospace\">\n",
       "</pre>\n"
      ],
      "text/plain": [
       "\n"
      ]
     },
     "metadata": {},
     "output_type": "display_data"
    }
   ],
   "source": [
    "remote_dataset = rg.FeedbackDataset.from_argilla(\"football-news\", workspace=\"admin\")\n",
    "remote_dataset.add_records(list(records_generator())[:LIMIT])"
   ]
  },
  {
   "cell_type": "markdown",
   "id": "28358307-f89b-4f7d-b7b3-25cf379a145e",
   "metadata": {},
   "source": [
    "### Add vectors to records to enable Similarity Search in Argilla"
   ]
  },
  {
   "cell_type": "code",
   "execution_count": 254,
   "id": "b0cfc09e-598a-4f83-bf27-7b7582434c35",
   "metadata": {
    "execution": {
     "iopub.execute_input": "2024-05-22T13:50:35.726129Z",
     "iopub.status.busy": "2024-05-22T13:50:35.725636Z",
     "iopub.status.idle": "2024-05-22T13:50:35.745116Z",
     "shell.execute_reply": "2024-05-22T13:50:35.734009Z",
     "shell.execute_reply.started": "2024-05-22T13:50:35.726096Z"
    }
   },
   "outputs": [],
   "source": [
    "from argilla.client.feedback.integrations.sentencetransformers import SentenceTransformersExtractor"
   ]
  },
  {
   "cell_type": "code",
   "execution_count": 255,
   "id": "2ca43089-71d0-41c0-a412-d3bc835d279b",
   "metadata": {
    "execution": {
     "iopub.execute_input": "2024-05-22T13:50:36.067648Z",
     "iopub.status.busy": "2024-05-22T13:50:36.067251Z",
     "iopub.status.idle": "2024-05-22T13:50:38.275341Z",
     "shell.execute_reply": "2024-05-22T13:50:38.274596Z",
     "shell.execute_reply.started": "2024-05-22T13:50:36.067625Z"
    }
   },
   "outputs": [
    {
     "name": "stderr",
     "output_type": "stream",
     "text": [
      "/Users/louis.guitton/workspace/mlops-talk-llm-kg/venv/lib/python3.11/site-packages/huggingface_hub/file_download.py:1132: FutureWarning: `resume_download` is deprecated and will be removed in version 1.0.0. Downloads always resume when possible. If you want to force a new download, use `force_download=True`.\n",
      "  warnings.warn(\n"
     ]
    }
   ],
   "source": [
    "FAST_AND_SMALL = \"sentence-transformers/all-MiniLM-L6-v2\"\n",
    "\n",
    "ste = SentenceTransformersExtractor(\n",
    "    model=FAST_AND_SMALL,\n",
    "    show_progress=True,\n",
    ")"
   ]
  },
  {
   "cell_type": "code",
   "execution_count": 256,
   "id": "edd02893-bfc2-48db-8fc5-07fa6909c7cc",
   "metadata": {
    "execution": {
     "iopub.execute_input": "2024-05-22T13:50:38.767813Z",
     "iopub.status.busy": "2024-05-22T13:50:38.767462Z",
     "iopub.status.idle": "2024-05-22T13:50:39.832901Z",
     "shell.execute_reply": "2024-05-22T13:50:39.832269Z",
     "shell.execute_reply.started": "2024-05-22T13:50:38.767789Z"
    }
   },
   "outputs": [
    {
     "name": "stderr",
     "output_type": "stream",
     "text": [
      "Batches: 100%|█████████████████████████████████████████████████████████████████████████████████████████████████████████████████████████████████████████████████| 2/2 [00:00<00:00,  5.43it/s]\n"
     ]
    },
    {
     "data": {
      "text/html": [
       "<pre style=\"white-space:pre;overflow-x:auto;line-height:normal;font-family:Menlo,'DejaVu Sans Mono',consolas,'Courier New',monospace\"></pre>\n"
      ],
      "text/plain": []
     },
     "metadata": {},
     "output_type": "display_data"
    },
    {
     "data": {
      "text/html": [
       "<pre style=\"white-space:pre;overflow-x:auto;line-height:normal;font-family:Menlo,'DejaVu Sans Mono',consolas,'Courier New',monospace\">\n",
       "</pre>\n"
      ],
      "text/plain": [
       "\n"
      ]
     },
     "metadata": {},
     "output_type": "display_data"
    }
   ],
   "source": [
    "remote_dataset = rg.FeedbackDataset.from_argilla(\"football-news\", workspace=\"admin\")\n",
    "\n",
    "# Update the dataset\n",
    "remote_dataset = ste.update_dataset(\n",
    "    dataset=remote_dataset,\n",
    "    fields=None, # None means using all fields\n",
    "    update_records=True, # Also, update the records in the dataset\n",
    "    overwrite=True, # Whether to overwrite existing vectors\n",
    ")"
   ]
  },
  {
   "cell_type": "markdown",
   "id": "5a0bbe0c-8e64-4076-808d-50d467748fbd",
   "metadata": {},
   "source": [
    "## Add suggestions for the text classification question using a zero-shot classification model from HuggingFace\n",
    "If we had labels, we could train a model that uses sentence embeddings (for more details, see [this argilla tutorial](https://docs.argilla.io/en/v1.28.0/tutorials_and_integrations/tutorials/feedback/labelling-feedback-setfit.html))\n",
    "\n",
    "```python\n",
    "from setfit import SetFitModel, SetFitTrainer\n",
    "\n",
    "model = SetFitModel.from_pretrained(\"all-MiniLM-L6-v2\")\n",
    "trainer = SetFitTrainer(model=model, train_dataset=train_dataset)\n",
    "```\n",
    "\n",
    "But for the cold start, we look for a small model on [HuggingFace](https://huggingface.co/models?pipeline_tag=zero-shot-classification)"
   ]
  },
  {
   "cell_type": "code",
   "execution_count": 236,
   "id": "46f1168d-c69b-48f0-97eb-869f1bb83a60",
   "metadata": {
    "execution": {
     "iopub.execute_input": "2024-05-22T13:39:48.957224Z",
     "iopub.status.busy": "2024-05-22T13:39:48.956775Z",
     "iopub.status.idle": "2024-05-22T13:39:51.294744Z",
     "shell.execute_reply": "2024-05-22T13:39:51.294318Z",
     "shell.execute_reply.started": "2024-05-22T13:39:48.957202Z"
    }
   },
   "outputs": [],
   "source": [
    "from transformers import pipeline\n",
    "\n",
    "# model_name = \"sileod/deberta-v3-small-tasksource-nli\"\n",
    "# model_name = \"cointegrated/rubert-tiny-bilingual-nli\"\n",
    "# model_name = \"typeform/distilbert-base-uncased-mnli\"\n",
    "model_name = \"valhalla/distilbart-mnli-12-3\"\n",
    "classifier = pipeline(\"zero-shot-classification\", model=model_name)"
   ]
  },
  {
   "cell_type": "code",
   "execution_count": 237,
   "id": "a1b53fa9-5275-4a23-9a7d-8df17d0feff7",
   "metadata": {
    "execution": {
     "iopub.execute_input": "2024-05-22T13:39:51.461449Z",
     "iopub.status.busy": "2024-05-22T13:39:51.461121Z",
     "iopub.status.idle": "2024-05-22T13:39:51.817540Z",
     "shell.execute_reply": "2024-05-22T13:39:51.817250Z",
     "shell.execute_reply.started": "2024-05-22T13:39:51.461427Z"
    }
   },
   "outputs": [
    {
     "data": {
      "text/plain": [
       "{'sequence': 'one day I will see the world',\n",
       " 'labels': ['travel', 'dancing', 'cooking'],\n",
       " 'scores': [0.985403299331665, 0.007384597323834896, 0.007212089374661446]}"
      ]
     },
     "execution_count": 237,
     "metadata": {},
     "output_type": "execute_result"
    }
   ],
   "source": [
    "text = \"one day I will see the world\"\n",
    "candidate_labels = ['travel', 'cooking', 'dancing']\n",
    "classifier(text, candidate_labels)"
   ]
  },
  {
   "cell_type": "code",
   "execution_count": 257,
   "id": "3b34307e-3bf2-4fc3-8707-14b3178bb060",
   "metadata": {
    "execution": {
     "iopub.execute_input": "2024-05-22T13:51:16.112667Z",
     "iopub.status.busy": "2024-05-22T13:51:16.111770Z",
     "iopub.status.idle": "2024-05-22T13:56:10.795236Z",
     "shell.execute_reply": "2024-05-22T13:56:10.793347Z",
     "shell.execute_reply.started": "2024-05-22T13:51:16.112642Z"
    }
   },
   "outputs": [
    {
     "name": "stderr",
     "output_type": "stream",
     "text": [
      "100%|████████████████████████████████████████████████████████████████████████████████████████████████████████████████████████████████████████████████████████| 50/50 [04:53<00:00,  5.88s/it]\n"
     ]
    },
    {
     "data": {
      "text/html": [
       "<pre style=\"white-space:pre;overflow-x:auto;line-height:normal;font-family:Menlo,'DejaVu Sans Mono',consolas,'Courier New',monospace\"></pre>\n"
      ],
      "text/plain": []
     },
     "metadata": {},
     "output_type": "display_data"
    },
    {
     "data": {
      "text/html": [
       "<pre style=\"white-space:pre;overflow-x:auto;line-height:normal;font-family:Menlo,'DejaVu Sans Mono',consolas,'Courier New',monospace\">\n",
       "</pre>\n"
      ],
      "text/plain": [
       "\n"
      ]
     },
     "metadata": {},
     "output_type": "display_data"
    }
   ],
   "source": [
    "remote_dataset = rg.FeedbackDataset.from_argilla(\"football-news\", workspace=\"admin\")\n",
    "\n",
    "modified_records = [record for record in remote_dataset.records]\n",
    "for record in tqdm(modified_records):\n",
    "    x = record.fields[\"text\"]\n",
    "    # if x: str, then y = {\"sequence\": 'one day I will see the world', \"labels\": ['travel', 'dancing', 'cooking'], 'scores': [0.8434, 0.0814, 0.0750]}\n",
    "    y = classifier(\n",
    "        sequences=x,\n",
    "        candidate_labels=remote_dataset.question_by_name(\"category\").labels\n",
    "    )\n",
    "    # we overwrite the suggestions\n",
    "    record.suggestions = [\n",
    "        {\n",
    "            \"question_name\": \"category\",\n",
    "            \"value\": y[\"labels\"][0],\n",
    "            \"agent\": model_name,\n",
    "            \"score\": y[\"scores\"][0]\n",
    "        }\n",
    "    ]\n",
    "\n",
    "remote_dataset.update_records(modified_records)"
   ]
  },
  {
   "cell_type": "markdown",
   "id": "6c05a3ec-2196-4bb1-a415-10f1df417baf",
   "metadata": {},
   "source": [
    "Problems:\n",
    "- accuracy is not great in practice\n",
    "- inference time is high\n",
    "\n",
    "Approach: \n",
    "- label a few (10s) articles and train a classifier with SetFit "
   ]
  },
  {
   "cell_type": "markdown",
   "id": "bfe50f20-3600-45dc-ad49-59f9b02141ea",
   "metadata": {},
   "source": [
    "## Add suggestions for the token classification question using a zero-shot NER model from HuggingFace"
   ]
  },
  {
   "cell_type": "code",
   "execution_count": 10,
   "id": "4d30482a-166d-478e-97d4-241b1fd272e4",
   "metadata": {
    "execution": {
     "iopub.execute_input": "2024-05-22T14:15:51.400133Z",
     "iopub.status.busy": "2024-05-22T14:15:51.399799Z",
     "iopub.status.idle": "2024-05-22T14:15:51.664453Z",
     "shell.execute_reply": "2024-05-22T14:15:51.661995Z",
     "shell.execute_reply.started": "2024-05-22T14:15:51.400110Z"
    }
   },
   "outputs": [],
   "source": [
    "remote_dataset = rg.FeedbackDataset.from_argilla(\"football-news\", workspace=\"admin\")"
   ]
  },
  {
   "cell_type": "code",
   "execution_count": 46,
   "id": "ccc850b0-768f-40f5-a671-1910d1c237b6",
   "metadata": {
    "execution": {
     "iopub.execute_input": "2024-05-22T18:13:48.517932Z",
     "iopub.status.busy": "2024-05-22T18:13:48.517560Z",
     "iopub.status.idle": "2024-05-22T18:13:55.785907Z",
     "shell.execute_reply": "2024-05-22T18:13:55.785602Z",
     "shell.execute_reply.started": "2024-05-22T18:13:48.517909Z"
    }
   },
   "outputs": [
    {
     "name": "stderr",
     "output_type": "stream",
     "text": [
      "/Users/louis.guitton/workspace/mlops-talk-llm-kg/venv/lib/python3.11/site-packages/transformers/convert_slow_tokenizer.py:560: UserWarning: The sentencepiece tokenizer that you are converting to a fast tokenizer uses the byte fallback option which is not implemented in the fast tokenizers. In practice this means that the fast version of the tokenizer can produce unknown tokens whereas the sentencepiece version would have converted these unknown tokens into a sequence of byte tokens matching the original piece of text.\n",
      "  warnings.warn(\n"
     ]
    },
    {
     "data": {
      "text/plain": [
       "<gliner_spacy.pipeline.GlinerSpacy at 0x2d2417550>"
      ]
     },
     "execution_count": 46,
     "metadata": {},
     "output_type": "execute_result"
    }
   ],
   "source": [
    "import spacy\n",
    "from gliner_spacy.pipeline import (  # noqa: F401 because we need to register the factory with spacy\n",
    "    GlinerSpacy,\n",
    ")\n",
    "\n",
    "candidate_labels =[label.value.lower() for label in remote_dataset.question_by_name(\"entities\").labels] # NuZero requires labels to be lower-cased\n",
    "\n",
    "model_name = \"numind/NuZero_token\"\n",
    "\n",
    "nlp = spacy.load(\"en_core_web_sm\", disable=[\"ner\"])\n",
    "nlp.add_pipe(\"gliner_spacy\", config={\n",
    "    \"gliner_model\": model_name,\n",
    "    \"chunk_size\": 250,\n",
    "    \"labels\": candidate_labels,  \n",
    "    \"style\": \"ent\",\n",
    "    \"threshold\": 0.3,\n",
    "})"
   ]
  },
  {
   "cell_type": "code",
   "execution_count": 262,
   "id": "273b7d49-c996-44a8-814b-3bf368924083",
   "metadata": {
    "execution": {
     "iopub.execute_input": "2024-05-22T14:01:40.165179Z",
     "iopub.status.busy": "2024-05-22T14:01:40.164720Z",
     "iopub.status.idle": "2024-05-22T14:03:33.651674Z",
     "shell.execute_reply": "2024-05-22T14:03:33.649979Z",
     "shell.execute_reply.started": "2024-05-22T14:01:40.165127Z"
    }
   },
   "outputs": [
    {
     "name": "stderr",
     "output_type": "stream",
     "text": [
      "100%|████████████████████████████████████████████████████████████████████████████████████████████████████████████████████████████████████████████████████████| 50/50 [01:52<00:00,  2.25s/it]"
     ]
    },
    {
     "data": {
      "text/html": [
       "<pre style=\"white-space:pre;overflow-x:auto;line-height:normal;font-family:Menlo,'DejaVu Sans Mono',consolas,'Courier New',monospace\">/Users/louis.guitton/workspace/mlops-talk-llm-kg/venv/lib/python3.11/site-packages/rich/live.py:231: UserWarning: \n",
       "install \"ipywidgets\" for Jupyter support\n",
       "  warnings.warn('install \"ipywidgets\" for Jupyter support')\n",
       "</pre>\n"
      ],
      "text/plain": [
       "/Users/louis.guitton/workspace/mlops-talk-llm-kg/venv/lib/python3.11/site-packages/rich/live.py:231: UserWarning: \n",
       "install \"ipywidgets\" for Jupyter support\n",
       "  warnings.warn('install \"ipywidgets\" for Jupyter support')\n"
      ]
     },
     "metadata": {},
     "output_type": "display_data"
    },
    {
     "name": "stderr",
     "output_type": "stream",
     "text": [
      "\n"
     ]
    },
    {
     "data": {
      "text/html": [
       "<pre style=\"white-space:pre;overflow-x:auto;line-height:normal;font-family:Menlo,'DejaVu Sans Mono',consolas,'Courier New',monospace\"></pre>\n"
      ],
      "text/plain": []
     },
     "metadata": {},
     "output_type": "display_data"
    },
    {
     "data": {
      "text/html": [
       "<pre style=\"white-space:pre;overflow-x:auto;line-height:normal;font-family:Menlo,'DejaVu Sans Mono',consolas,'Courier New',monospace\">\n",
       "</pre>\n"
      ],
      "text/plain": [
       "\n"
      ]
     },
     "metadata": {},
     "output_type": "display_data"
    }
   ],
   "source": [
    "from typing import Tuple, Union\n",
    "from argilla.client.feedback.schemas import SpanValueSchema, SuggestionSchema\n",
    "from argilla.client.feedback.schemas.remote.records import RemoteSuggestionSchema\n",
    "\n",
    "\n",
    "modified_records = [record for record in remote_dataset.records]\n",
    "for record in tqdm(modified_records):\n",
    "    doc = nlp(record.fields[\"text\"]) \n",
    "    # we append the suggestions to the existing suggestions\n",
    "    record.suggestions: Tuple[Union[dict, SuggestionSchema, RemoteSuggestionSchema], ...]\n",
    "    record.suggestions += (\n",
    "        {\n",
    "            \"question_name\": \"entities\",\n",
    "            \"value\": [\n",
    "                SpanValueSchema(\n",
    "                    start=ent.start_char,\n",
    "                    end=ent.end_char,\n",
    "                    label=ent.label_.capitalize(),\n",
    "                )\n",
    "                for ent in doc.ents\n",
    "            ],\n",
    "            \"agent\": model_name,\n",
    "            # \"score\": ...\n",
    "        }\n",
    "        ,)\n",
    "\n",
    "remote_dataset.update_records(modified_records)"
   ]
  },
  {
   "cell_type": "markdown",
   "id": "a8d413c2-33c7-4fd6-89bc-c061d077fc17",
   "metadata": {},
   "source": [
    "## Craft a better NER model by combining multiple weak supervision annotators using skweak"
   ]
  },
  {
   "cell_type": "code",
   "execution_count": 34,
   "id": "71031778-d6df-42f2-87a4-f808da428101",
   "metadata": {
    "execution": {
     "iopub.execute_input": "2024-05-22T14:23:08.503717Z",
     "iopub.status.busy": "2024-05-22T14:23:08.503082Z",
     "iopub.status.idle": "2024-05-22T14:23:08.511840Z",
     "shell.execute_reply": "2024-05-22T14:23:08.510910Z",
     "shell.execute_reply.started": "2024-05-22T14:23:08.503673Z"
    }
   },
   "outputs": [],
   "source": [
    "import re\n",
    "from typing import Iterator\n",
    "\n",
    "from skweak import heuristics, gazetteers, generative, utils, base\n",
    "from spacy.tokens import Doc, Span"
   ]
  },
  {
   "cell_type": "markdown",
   "id": "d9d26b9d-8600-4cd5-951b-af70a6b61818",
   "metadata": {},
   "source": [
    "### Annotate with Regex"
   ]
  },
  {
   "cell_type": "code",
   "execution_count": 30,
   "id": "8504745d-69cf-4b50-a952-b253fec6ed5b",
   "metadata": {
    "execution": {
     "iopub.execute_input": "2024-05-22T14:19:48.884312Z",
     "iopub.status.busy": "2024-05-22T14:19:48.883664Z",
     "iopub.status.idle": "2024-05-22T14:19:48.899816Z",
     "shell.execute_reply": "2024-05-22T14:19:48.898965Z",
     "shell.execute_reply.started": "2024-05-22T14:19:48.884264Z"
    }
   },
   "outputs": [],
   "source": [
    "def _match_pattern(doc: Doc, pattern: str, group_idx: int, label: str) -> Iterable[Tuple[int, int, str]]:\n",
    "    for match in re.finditer(pattern, doc.text):\n",
    "        start, end = match.span(group_idx)\n",
    "        span: Span = doc.char_span(start, end, label=label)\n",
    "        if span:\n",
    "            yield span.start, span.end, span.label\n",
    "\n",
    "def football_game_scores_detector(doc: Doc) -> Iterable[Tuple[int, int, str]]:\n",
    "    _SCORE_RGX = r\"\\D{2}((\\d)\\s*[-|to]\\s*(\\d))\\D{2}\"  # first group\n",
    "    return _match_pattern(doc, _SCORE_RGX, 1, \"SCORE\")\n",
    "\n",
    "def football_team_formations_detector(doc: Doc) -> Iterable[Tuple[int, int, str]]:\n",
    "    _FORMATION_RGX = r\"(\\d)([\\s-](\\d)){2,3}\"  # full match\n",
    "    return _match_pattern(doc, _FORMATION_RGX, 0, \"FORMATION\")"
   ]
  },
  {
   "cell_type": "code",
   "execution_count": 31,
   "id": "4f66111c-71f4-45bc-84f9-552407da6345",
   "metadata": {
    "execution": {
     "iopub.execute_input": "2024-05-22T14:19:49.667840Z",
     "iopub.status.busy": "2024-05-22T14:19:49.667513Z",
     "iopub.status.idle": "2024-05-22T14:19:49.672959Z",
     "shell.execute_reply": "2024-05-22T14:19:49.671944Z",
     "shell.execute_reply.started": "2024-05-22T14:19:49.667817Z"
    }
   },
   "outputs": [],
   "source": [
    "# we define labelling functions LFs\n",
    "lf1 = heuristics.FunctionAnnotator(\"scores\", football_game_scores_detector)\n",
    "lf2 = heuristics.FunctionAnnotator(\"formations\", football_team_formations_detector)"
   ]
  },
  {
   "cell_type": "code",
   "execution_count": 27,
   "id": "a48840fc-6db7-41e1-bf97-56f99dc5010e",
   "metadata": {
    "execution": {
     "iopub.execute_input": "2024-05-22T14:18:46.454922Z",
     "iopub.status.busy": "2024-05-22T14:18:46.454537Z",
     "iopub.status.idle": "2024-05-22T14:18:46.557549Z",
     "shell.execute_reply": "2024-05-22T14:18:46.557236Z",
     "shell.execute_reply.started": "2024-05-22T14:18:46.454896Z"
    }
   },
   "outputs": [
    {
     "data": {
      "text/html": [
       "<span class=\"tex2jax_ignore\"><div class=\"entities\" style=\"line-height: 2.5; direction: ltr\">Burnley \n",
       "<mark class=\"entity\" style=\"background: #ddd; padding: 0.45em 0.6em; margin: 0 0.25em; line-height: 1; border-radius: 0.35em;\">\n",
       "    2-2\n",
       "    <span style=\"font-size: 0.8em; font-weight: bold; line-height: 1; border-radius: 0.35em; vertical-align: middle; margin-left: 0.5rem\">SCORE</span>\n",
       "</mark>\n",
       " Fulham: David Datro Fofana's late double earns Clarets dramatic draw</div></span>"
      ],
      "text/plain": [
       "<IPython.core.display.HTML object>"
      ]
     },
     "metadata": {},
     "output_type": "display_data"
    }
   ],
   "source": [
    "text = \"Burnley 2-2 Fulham: David Datro Fofana's late double earns Clarets dramatic draw\"\n",
    "doc = nlp(text)\n",
    "utils.display_entities(lf1(doc), \"scores\")"
   ]
  },
  {
   "cell_type": "code",
   "execution_count": 33,
   "id": "58866e89-3525-4275-add3-6f5d4479a926",
   "metadata": {
    "execution": {
     "iopub.execute_input": "2024-05-22T14:19:56.225603Z",
     "iopub.status.busy": "2024-05-22T14:19:56.225191Z",
     "iopub.status.idle": "2024-05-22T14:19:56.337573Z",
     "shell.execute_reply": "2024-05-22T14:19:56.337251Z",
     "shell.execute_reply.started": "2024-05-22T14:19:56.225575Z"
    }
   },
   "outputs": [
    {
     "data": {
      "text/html": [
       "<span class=\"tex2jax_ignore\"><div class=\"entities\" style=\"line-height: 2.5; direction: ltr\">They played in \n",
       "<mark class=\"entity\" style=\"background: #ddd; padding: 0.45em 0.6em; margin: 0 0.25em; line-height: 1; border-radius: 0.35em;\">\n",
       "    4-4-2\n",
       "    <span style=\"font-size: 0.8em; font-weight: bold; line-height: 1; border-radius: 0.35em; vertical-align: middle; margin-left: 0.5rem\">FORMATION</span>\n",
       "</mark>\n",
       ".</div></span>"
      ],
      "text/plain": [
       "<IPython.core.display.HTML object>"
      ]
     },
     "metadata": {},
     "output_type": "display_data"
    }
   ],
   "source": [
    "text = \"They played in 4-4-2.\"\n",
    "doc = nlp(text)\n",
    "utils.display_entities(lf2(doc), \"formations\")"
   ]
  },
  {
   "cell_type": "markdown",
   "id": "61de71ee-1003-4268-9544-40ac8f6eca3f",
   "metadata": {},
   "source": [
    "### heuristics.VicinityAnnotator"
   ]
  },
  {
   "cell_type": "code",
   "execution_count": 77,
   "id": "3f9eb394-44e9-4fab-9387-4cc78a10081b",
   "metadata": {
    "execution": {
     "iopub.execute_input": "2024-05-22T18:32:30.768970Z",
     "iopub.status.busy": "2024-05-22T18:32:30.768636Z",
     "iopub.status.idle": "2024-05-22T18:32:30.782420Z",
     "shell.execute_reply": "2024-05-22T18:32:30.781358Z",
     "shell.execute_reply.started": "2024-05-22T18:32:30.768947Z"
    }
   },
   "outputs": [],
   "source": [
    "from typing import Iterable\n",
    "from spacy.tokens import Doc, Span, Token\n",
    "\n",
    "def _is_match_token(tok: Token, doc: Doc) -> bool:\n",
    "    MATCH_CUE_WORDS = [\"win\", \"loss\", \"score\", \"against\", \"tie\", \"clash\", \"playoff\", \"fixture\", \"game\", \"draw\", \"knockout\", \"defeat\", \"performance\", \"derby\", \"victory\", \"match\"]\n",
    "    is_fixture_keyword = (\n",
    "        tok.lemma_ in MATCH_CUE_WORDS\n",
    "    )\n",
    "    is_score = any(tok in span for span in doc.spans['scores'])\n",
    "    return is_fixture_keyword or is_score\n",
    "\n",
    "def match_cue_detector(doc: Doc) -> Iterable[Tuple[int, int, str]]:\n",
    "    # high recall approach\n",
    "    mentions: List[Span] = []\n",
    "    for tok in filter(lambda tk: _is_match_token(tk, doc), doc):\n",
    "        # Here we use the token's substree as the extracted span\n",
    "        # we add the label for visualisation purposes\n",
    "        word = tok.head\n",
    "        mention: Span = Span(\n",
    "            doc, start=word.left_edge.i, end=word.right_edge.i + 1, label=\"MATCH\"\n",
    "        )\n",
    "        if mention:\n",
    "            mentions.append(mention)\n",
    "\n",
    "    # deduplicate mentions e.g. a score and 'against' created 2 times the same mention\n",
    "    # some subtrees contain other subtrees => they are duplicate mentions\n",
    "    # https://spacy.io/api/top-level#util.filter_spans\n",
    "    # When spans overlap, the (first) longest span is preferred over shorter spans.\n",
    "    mentions = sorted(set(mentions), key=lambda m: m.start)\n",
    "    mentions = spacy.util.filter_spans(mentions)\n",
    "\n",
    "    for mention in mentions:\n",
    "        yield mention.start, mention.end, \"MATCH\""
   ]
  },
  {
   "cell_type": "code",
   "execution_count": 78,
   "id": "d6fe015d-ed18-4c6e-ab2c-cc75b7dbdc0e",
   "metadata": {
    "execution": {
     "iopub.execute_input": "2024-05-22T18:32:31.788081Z",
     "iopub.status.busy": "2024-05-22T18:32:31.787756Z",
     "iopub.status.idle": "2024-05-22T18:32:31.796503Z",
     "shell.execute_reply": "2024-05-22T18:32:31.794084Z",
     "shell.execute_reply.started": "2024-05-22T18:32:31.788057Z"
    }
   },
   "outputs": [],
   "source": [
    "lf3 = heuristics.FunctionAnnotator(\"match_cues\", match_cue_detector)"
   ]
  },
  {
   "cell_type": "code",
   "execution_count": 79,
   "id": "36cee822-5619-4161-ad3a-b9f02ef0f685",
   "metadata": {
    "execution": {
     "iopub.execute_input": "2024-05-22T18:32:32.687693Z",
     "iopub.status.busy": "2024-05-22T18:32:32.687340Z",
     "iopub.status.idle": "2024-05-22T18:32:32.794809Z",
     "shell.execute_reply": "2024-05-22T18:32:32.794508Z",
     "shell.execute_reply.started": "2024-05-22T18:32:32.687664Z"
    }
   },
   "outputs": [
    {
     "data": {
      "text/html": [
       "<span class=\"tex2jax_ignore\"><div class=\"entities\" style=\"line-height: 2.5; direction: ltr\">\n",
       "<mark class=\"entity\" style=\"background: #ddd; padding: 0.45em 0.6em; margin: 0 0.25em; line-height: 1; border-radius: 0.35em;\">\n",
       "    Scotland's 2-0 shock win over Spain back last March was the last game that Rodri lost.\n",
       "    <span style=\"font-size: 0.8em; font-weight: bold; line-height: 1; border-radius: 0.35em; vertical-align: middle; margin-left: 0.5rem\">MATCH</span>\n",
       "</mark>\n",
       "</div></span>"
      ],
      "text/plain": [
       "<IPython.core.display.HTML object>"
      ]
     },
     "metadata": {},
     "output_type": "display_data"
    }
   ],
   "source": [
    "text = \"Scotland's 2-0 shock win over Spain back last March was the last game that Rodri lost.\"\n",
    "doc = nlp(text)\n",
    "utils.display_entities(lf3(lf1(doc)), \"match_cues\")"
   ]
  },
  {
   "cell_type": "markdown",
   "id": "4aa4cd07-206f-4bea-bb11-c9b596687c4b",
   "metadata": {},
   "source": [
    "### gazetteers.GazetteerAnnotator"
   ]
  },
  {
   "cell_type": "code",
   "execution_count": null,
   "id": "e845f946-9e7e-4539-87cf-64a029b7fc31",
   "metadata": {},
   "outputs": [],
   "source": []
  },
  {
   "cell_type": "code",
   "execution_count": null,
   "id": "ffccba21-ab22-40c4-8e53-18227633fb08",
   "metadata": {},
   "outputs": [],
   "source": []
  },
  {
   "cell_type": "markdown",
   "id": "e3418eec-026e-4416-b599-6fcbc6ddc6ab",
   "metadata": {},
   "source": [
    "### Applying labelling functions"
   ]
  },
  {
   "cell_type": "code",
   "execution_count": null,
   "id": "d2e1d85e-b877-4a3d-b3b4-9c7bef1d12fe",
   "metadata": {},
   "outputs": [],
   "source": [
    "combined = base.CombinedAnnotator()\n",
    "combined.add_annotator(lf1)\n",
    "combined.add_annotator(lf3)"
   ]
  },
  {
   "cell_type": "code",
   "execution_count": null,
   "id": "35ab4cea-40a1-4813-a659-ed912b992d2e",
   "metadata": {},
   "outputs": [],
   "source": [
    "docs = list(combined.pipe(docs))"
   ]
  }
 ],
 "metadata": {
  "kernelspec": {
   "display_name": "Python 3 (ipykernel)",
   "language": "python",
   "name": "python3"
  },
  "language_info": {
   "codemirror_mode": {
    "name": "ipython",
    "version": 3
   },
   "file_extension": ".py",
   "mimetype": "text/x-python",
   "name": "python",
   "nbconvert_exporter": "python",
   "pygments_lexer": "ipython3",
   "version": "3.11.4"
  }
 },
 "nbformat": 4,
 "nbformat_minor": 5
}
