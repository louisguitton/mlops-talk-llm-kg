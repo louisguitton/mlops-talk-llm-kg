{
 "cells": [
  {
   "cell_type": "markdown",
   "id": "9ee9dd1c-434d-4b5c-9fa0-05c9edbcd226",
   "metadata": {},
   "source": [
    "# 3. Extracting Football club transfers from news\n"
   ]
  },
  {
   "cell_type": "code",
   "execution_count": 1,
   "id": "12a0f283-e913-4961-a262-c6f2998c143f",
   "metadata": {
    "execution": {
     "iopub.execute_input": "2024-05-22T14:06:05.282867Z",
     "iopub.status.busy": "2024-05-22T14:06:05.282474Z",
     "iopub.status.idle": "2024-05-22T14:06:05.799074Z",
     "shell.execute_reply": "2024-05-22T14:06:05.798415Z",
     "shell.execute_reply.started": "2024-05-22T14:06:05.282845Z"
    }
   },
   "outputs": [
    {
     "name": "stderr",
     "output_type": "stream",
     "text": [
      "/Users/louis.guitton/workspace/mlops-talk-llm-kg/venv/lib/python3.11/site-packages/argilla/client/client.py:178: UserWarning: No workspace configuration was detected. To work with Argilla datasets, specify a valid workspace name on `rg.init` or set it up through the `rg.set_workspace` function.\n",
      "  warnings.warn(\n"
     ]
    }
   ],
   "source": [
    "import argilla as rg\n",
    "\n",
    "rg.init(api_url=\"http://localhost:6900\", api_key=\"admin.apikey\")"
   ]
  },
  {
   "cell_type": "markdown",
   "id": "56f53ac2-bc6f-46ab-a162-d7ad9270b6fd",
   "metadata": {},
   "source": [
    "## 3.2. Start NER project and create ontology\n"
   ]
  },
  {
   "cell_type": "code",
   "execution_count": 241,
   "id": "63b218e4-0328-4b7f-a4a8-4ed882b38f5a",
   "metadata": {
    "execution": {
     "iopub.execute_input": "2024-05-23T07:42:32.235306Z",
     "iopub.status.busy": "2024-05-23T07:42:32.233917Z",
     "iopub.status.idle": "2024-05-23T07:42:32.531686Z",
     "shell.execute_reply": "2024-05-23T07:42:32.530743Z",
     "shell.execute_reply.started": "2024-05-23T07:42:32.235225Z"
    }
   },
   "outputs": [],
   "source": [
    "remote_dataset = rg.FeedbackDataset.from_argilla(\"football-news\", workspace=\"admin\")\n",
    "remote_dataset.delete()"
   ]
  },
  {
   "cell_type": "code",
   "execution_count": 242,
   "id": "a8c8028d-b8c3-4875-ba9d-26ee01d78572",
   "metadata": {
    "execution": {
     "iopub.execute_input": "2024-05-23T07:42:32.535979Z",
     "iopub.status.busy": "2024-05-23T07:42:32.535644Z",
     "iopub.status.idle": "2024-05-23T07:42:32.546945Z",
     "shell.execute_reply": "2024-05-23T07:42:32.546287Z",
     "shell.execute_reply.started": "2024-05-23T07:42:32.535953Z"
    }
   },
   "outputs": [
    {
     "name": "stderr",
     "output_type": "stream",
     "text": [
      "/Users/louis.guitton/workspace/mlops-talk-llm-kg/venv/lib/python3.11/site-packages/argilla/client/feedback/schemas/questions.py:416: UserWarning: `visible_labels=20` is greater than the total number of labels (5), so it will be set to `5`.\n",
      "  warnings.warn(msg, UserWarning, stacklevel=1)\n"
     ]
    }
   ],
   "source": [
    "dataset = rg.FeedbackDataset(\n",
    "    fields=[rg.TextField(name=\"text\")],\n",
    "    questions=[\n",
    "        rg.LabelQuestion(\n",
    "            name=\"category\",\n",
    "            title=\"What is the category of the article?\",\n",
    "            labels=[\n",
    "                \"Coach Commentary\",\n",
    "                \"Transfer News\",\n",
    "                \"Match Report\",\n",
    "                \"Player Profile\",\n",
    "                \"League Updates\",\n",
    "                \"Injury Updates\",\n",
    "                \"Tactical Analysis\",\n",
    "                \"Social Media Reaction\",\n",
    "                \"Historical Milestone\",\n",
    "                \"Match Incident\",\n",
    "            ],\n",
    "            required=False,\n",
    "            visible_labels=None,\n",
    "        ),\n",
    "        rg.SpanQuestion(\n",
    "            name=\"entities\",\n",
    "            title=\"Highlight the entities in the content:\",\n",
    "            labels=[\"Competition\", \"Team\", \"Player\", \"Match\", \"Transfer\"],\n",
    "            field=\"text\",\n",
    "            required=True,\n",
    "            allow_overlapping=True,\n",
    "        ),\n",
    "    ],\n",
    "    metadata_properties=[\n",
    "        rg.TermsMetadataProperty(name=\"link\"),\n",
    "        rg.TermsMetadataProperty(name=\"source\"),\n",
    "    ],\n",
    "    vectors_settings=[],  # we will add sentence embeddings a posteriori\n",
    "    guidelines=\"Please, read the question carefully and try to answer it as accurately as possible.\",\n",
    ")"
   ]
  },
  {
   "cell_type": "code",
   "execution_count": 243,
   "id": "beee56cf-1f18-4466-8142-3cb1836de2b2",
   "metadata": {
    "execution": {
     "iopub.execute_input": "2024-05-23T07:42:33.987791Z",
     "iopub.status.busy": "2024-05-23T07:42:33.987400Z",
     "iopub.status.idle": "2024-05-23T07:42:34.344207Z",
     "shell.execute_reply": "2024-05-23T07:42:34.343728Z",
     "shell.execute_reply.started": "2024-05-23T07:42:33.987774Z"
    }
   },
   "outputs": [
    {
     "data": {
      "text/html": [
       "<pre style=\"white-space:pre;overflow-x:auto;line-height:normal;font-family:Menlo,'DejaVu Sans Mono',consolas,'Courier New',monospace\"><span style=\"color: #7fbfbf; text-decoration-color: #7fbfbf\">[05/23/24 09:42:34] </span><span style=\"color: #000080; text-decoration-color: #000080\">INFO    </span> INFO:argilla.client.feedback.dataset.local.mixins:✓ Dataset succesfully  <a href=\"file:///Users/louis.guitton/workspace/mlops-talk-llm-kg/venv/lib/python3.11/site-packages/argilla/client/feedback/dataset/local/mixins.py\" target=\"_blank\"><span style=\"color: #7f7f7f; text-decoration-color: #7f7f7f\">mixins.py</span></a><span style=\"color: #7f7f7f; text-decoration-color: #7f7f7f\">:</span><a href=\"file:///Users/louis.guitton/workspace/mlops-talk-llm-kg/venv/lib/python3.11/site-packages/argilla/client/feedback/dataset/local/mixins.py#271\" target=\"_blank\"><span style=\"color: #7f7f7f; text-decoration-color: #7f7f7f\">271</span></a>\n",
       "<span style=\"color: #7fbfbf; text-decoration-color: #7fbfbf\">                    </span>         pushed to Argilla                                                        <span style=\"color: #7f7f7f; text-decoration-color: #7f7f7f\">             </span>\n",
       "</pre>\n"
      ],
      "text/plain": [
       "\u001b[2;36m[05/23/24 09:42:34]\u001b[0m\u001b[2;36m \u001b[0m\u001b[34mINFO    \u001b[0m INFO:argilla.client.feedback.dataset.local.mixins:✓ Dataset succesfully  \u001b]8;id=513107;file:///Users/louis.guitton/workspace/mlops-talk-llm-kg/venv/lib/python3.11/site-packages/argilla/client/feedback/dataset/local/mixins.py\u001b\\\u001b[2mmixins.py\u001b[0m\u001b]8;;\u001b\\\u001b[2m:\u001b[0m\u001b]8;id=351295;file:///Users/louis.guitton/workspace/mlops-talk-llm-kg/venv/lib/python3.11/site-packages/argilla/client/feedback/dataset/local/mixins.py#271\u001b\\\u001b[2m271\u001b[0m\u001b]8;;\u001b\\\n",
       "\u001b[2;36m                    \u001b[0m         pushed to Argilla                                                        \u001b[2m             \u001b[0m\n"
      ]
     },
     "metadata": {},
     "output_type": "display_data"
    },
    {
     "data": {
      "text/html": [
       "<pre style=\"white-space:pre;overflow-x:auto;line-height:normal;font-family:Menlo,'DejaVu Sans Mono',consolas,'Courier New',monospace\"><span style=\"color: #7fbfbf; text-decoration-color: #7fbfbf\">                    </span><span style=\"color: #000080; text-decoration-color: #000080\">INFO    </span> INFO:argilla.client.feedback.dataset.local.mixins:<span style=\"color: #800080; text-decoration-color: #800080; font-weight: bold\">RemoteFeedbackDataset</span><span style=\"font-weight: bold\">(</span> <a href=\"file:///Users/louis.guitton/workspace/mlops-talk-llm-kg/venv/lib/python3.11/site-packages/argilla/client/feedback/dataset/local/mixins.py\" target=\"_blank\"><span style=\"color: #7f7f7f; text-decoration-color: #7f7f7f\">mixins.py</span></a><span style=\"color: #7f7f7f; text-decoration-color: #7f7f7f\">:</span><a href=\"file:///Users/louis.guitton/workspace/mlops-talk-llm-kg/venv/lib/python3.11/site-packages/argilla/client/feedback/dataset/local/mixins.py#272\" target=\"_blank\"><span style=\"color: #7f7f7f; text-decoration-color: #7f7f7f\">272</span></a>\n",
       "<span style=\"color: #7fbfbf; text-decoration-color: #7fbfbf\">                    </span>            <span style=\"color: #808000; text-decoration-color: #808000\">id</span>=<span style=\"color: #ffff00; text-decoration-color: #ffff00\">d56f31e3</span><span style=\"color: #ffff00; text-decoration-color: #ffff00\">-e809-4b16-a86b-ca2414a77497</span>                               <span style=\"color: #7f7f7f; text-decoration-color: #7f7f7f\">             </span>\n",
       "<span style=\"color: #7fbfbf; text-decoration-color: #7fbfbf\">                    </span>            <span style=\"color: #808000; text-decoration-color: #808000\">name</span>=<span style=\"color: #800080; text-decoration-color: #800080\">football</span>-news                                                    <span style=\"color: #7f7f7f; text-decoration-color: #7f7f7f\">             </span>\n",
       "<span style=\"color: #7fbfbf; text-decoration-color: #7fbfbf\">                    </span>            <span style=\"color: #808000; text-decoration-color: #808000\">workspace</span>=<span style=\"color: #800080; text-decoration-color: #800080; font-weight: bold\">Workspace</span><span style=\"font-weight: bold\">(</span><span style=\"color: #808000; text-decoration-color: #808000\">id</span>=<span style=\"color: #ffff00; text-decoration-color: #ffff00\">84a8fb6f</span><span style=\"color: #ffff00; text-decoration-color: #ffff00\">-3350-4e9b-97c0-043cfedef934</span>,          <span style=\"color: #7f7f7f; text-decoration-color: #7f7f7f\">             </span>\n",
       "<span style=\"color: #7fbfbf; text-decoration-color: #7fbfbf\">                    </span>         <span style=\"color: #808000; text-decoration-color: #808000\">name</span>=<span style=\"color: #800080; text-decoration-color: #800080\">admin</span>, <span style=\"color: #808000; text-decoration-color: #808000\">inserted_at</span>=<span style=\"color: #008080; text-decoration-color: #008080; font-weight: bold\">2024</span>-<span style=\"color: #008080; text-decoration-color: #008080; font-weight: bold\">05</span>-<span style=\"color: #008080; text-decoration-color: #008080; font-weight: bold\">14</span> <span style=\"color: #00ff00; text-decoration-color: #00ff00; font-weight: bold\">17:08:20</span>.<span style=\"color: #008080; text-decoration-color: #008080; font-weight: bold\">825501</span>,                      <span style=\"color: #7f7f7f; text-decoration-color: #7f7f7f\">             </span>\n",
       "<span style=\"color: #7fbfbf; text-decoration-color: #7fbfbf\">                    </span>         <span style=\"color: #808000; text-decoration-color: #808000\">updated_at</span>=<span style=\"color: #008080; text-decoration-color: #008080; font-weight: bold\">2024</span>-<span style=\"color: #008080; text-decoration-color: #008080; font-weight: bold\">05</span>-<span style=\"color: #008080; text-decoration-color: #008080; font-weight: bold\">14</span> <span style=\"color: #00ff00; text-decoration-color: #00ff00; font-weight: bold\">17:08:20</span>.<span style=\"color: #008080; text-decoration-color: #008080; font-weight: bold\">825501</span><span style=\"font-weight: bold\">)</span>                                   <span style=\"color: #7f7f7f; text-decoration-color: #7f7f7f\">             </span>\n",
       "<span style=\"color: #7fbfbf; text-decoration-color: #7fbfbf\">                    </span>            <span style=\"color: #808000; text-decoration-color: #808000\">url</span>=<span style=\"color: #0000ff; text-decoration-color: #0000ff; text-decoration: underline\">http://localhost:6900/dataset/d56f31e3-e809-4b16-a86b-ca2414a7749</span> <span style=\"color: #7f7f7f; text-decoration-color: #7f7f7f\">             </span>\n",
       "<span style=\"color: #7fbfbf; text-decoration-color: #7fbfbf\">                    </span>         <span style=\"color: #0000ff; text-decoration-color: #0000ff; text-decoration: underline\">7/annotation-mode</span>                                                        <span style=\"color: #7f7f7f; text-decoration-color: #7f7f7f\">             </span>\n",
       "<span style=\"color: #7fbfbf; text-decoration-color: #7fbfbf\">                    </span>            <span style=\"color: #808000; text-decoration-color: #808000\">fields</span>=<span style=\"font-weight: bold\">[</span><span style=\"color: #800080; text-decoration-color: #800080; font-weight: bold\">RemoteTextField</span><span style=\"font-weight: bold\">(</span><span style=\"color: #808000; text-decoration-color: #808000\">id</span>=<span style=\"color: #800080; text-decoration-color: #800080; font-weight: bold\">UUID</span><span style=\"font-weight: bold\">(</span><span style=\"color: #008000; text-decoration-color: #008000\">'20ed18a0-031b-4028-a80a-8e5ec04d9b15</span> <span style=\"color: #7f7f7f; text-decoration-color: #7f7f7f\">             </span>\n",
       "<span style=\"color: #7fbfbf; text-decoration-color: #7fbfbf\">                    </span>         <span style=\"color: #008000; text-decoration-color: #008000\">'</span><span style=\"font-weight: bold\">)</span>, <span style=\"color: #808000; text-decoration-color: #808000\">client</span>=<span style=\"color: #800080; text-decoration-color: #800080; font-style: italic\">None</span>, <span style=\"color: #808000; text-decoration-color: #808000\">name</span>=<span style=\"color: #008000; text-decoration-color: #008000\">'text'</span>, <span style=\"color: #808000; text-decoration-color: #808000\">title</span>=<span style=\"color: #008000; text-decoration-color: #008000\">'Text'</span>, <span style=\"color: #808000; text-decoration-color: #808000\">required</span>=<span style=\"color: #00ff00; text-decoration-color: #00ff00; font-style: italic\">True</span>, <span style=\"color: #808000; text-decoration-color: #808000\">type</span>=<span style=\"color: #008000; text-decoration-color: #008000\">'text'</span>,  <span style=\"color: #7f7f7f; text-decoration-color: #7f7f7f\">             </span>\n",
       "<span style=\"color: #7fbfbf; text-decoration-color: #7fbfbf\">                    </span>         <span style=\"color: #808000; text-decoration-color: #808000\">use_markdown</span>=<span style=\"color: #ff0000; text-decoration-color: #ff0000; font-style: italic\">False</span><span style=\"font-weight: bold\">)]</span>                                                     <span style=\"color: #7f7f7f; text-decoration-color: #7f7f7f\">             </span>\n",
       "<span style=\"color: #7fbfbf; text-decoration-color: #7fbfbf\">                    </span>            <span style=\"color: #808000; text-decoration-color: #808000\">questions</span>=<span style=\"font-weight: bold\">[</span><span style=\"color: #800080; text-decoration-color: #800080; font-weight: bold\">RemoteLabelQuestion</span><span style=\"font-weight: bold\">(</span><span style=\"color: #808000; text-decoration-color: #808000\">id</span>=<span style=\"color: #800080; text-decoration-color: #800080; font-weight: bold\">UUID</span><span style=\"font-weight: bold\">(</span><span style=\"color: #008000; text-decoration-color: #008000\">'bb229225-c436-452e-bcd9-3779e</span> <span style=\"color: #7f7f7f; text-decoration-color: #7f7f7f\">             </span>\n",
       "<span style=\"color: #7fbfbf; text-decoration-color: #7fbfbf\">                    </span>         <span style=\"color: #008000; text-decoration-color: #008000\">9a340a3'</span><span style=\"font-weight: bold\">)</span>, <span style=\"color: #808000; text-decoration-color: #808000\">client</span>=<span style=\"color: #800080; text-decoration-color: #800080; font-style: italic\">None</span>, <span style=\"color: #808000; text-decoration-color: #808000\">name</span>=<span style=\"color: #008000; text-decoration-color: #008000\">'category'</span>, <span style=\"color: #808000; text-decoration-color: #808000\">title</span>=<span style=\"color: #008000; text-decoration-color: #008000\">'What is the category of </span> <span style=\"color: #7f7f7f; text-decoration-color: #7f7f7f\">             </span>\n",
       "<span style=\"color: #7fbfbf; text-decoration-color: #7fbfbf\">                    </span>         <span style=\"color: #008000; text-decoration-color: #008000\">the article?'</span>, <span style=\"color: #808000; text-decoration-color: #808000\">description</span>=<span style=\"color: #800080; text-decoration-color: #800080; font-style: italic\">None</span>, <span style=\"color: #808000; text-decoration-color: #808000\">required</span>=<span style=\"color: #ff0000; text-decoration-color: #ff0000; font-style: italic\">False</span>, <span style=\"color: #808000; text-decoration-color: #808000\">type</span>=<span style=\"color: #008000; text-decoration-color: #008000\">'label_selection'</span>, <span style=\"color: #7f7f7f; text-decoration-color: #7f7f7f\">             </span>\n",
       "<span style=\"color: #7fbfbf; text-decoration-color: #7fbfbf\">                    </span>         <span style=\"color: #808000; text-decoration-color: #808000\">labels</span>=<span style=\"font-weight: bold\">[</span><span style=\"color: #008000; text-decoration-color: #008000\">'Coach Commentary'</span>, <span style=\"color: #008000; text-decoration-color: #008000\">'Transfer News'</span>, <span style=\"color: #008000; text-decoration-color: #008000\">'Match Report'</span>, <span style=\"color: #008000; text-decoration-color: #008000\">'Player </span>    <span style=\"color: #7f7f7f; text-decoration-color: #7f7f7f\">             </span>\n",
       "<span style=\"color: #7fbfbf; text-decoration-color: #7fbfbf\">                    </span>         <span style=\"color: #008000; text-decoration-color: #008000\">Profile'</span>, <span style=\"color: #008000; text-decoration-color: #008000\">'League Updates'</span>, <span style=\"color: #008000; text-decoration-color: #008000\">'Injury Updates'</span>, <span style=\"color: #008000; text-decoration-color: #008000\">'Tactical Analysis'</span>,       <span style=\"color: #7f7f7f; text-decoration-color: #7f7f7f\">             </span>\n",
       "<span style=\"color: #7fbfbf; text-decoration-color: #7fbfbf\">                    </span>         <span style=\"color: #008000; text-decoration-color: #008000\">'Social Media Reaction'</span>, <span style=\"color: #008000; text-decoration-color: #008000\">'Historical Milestone'</span>, <span style=\"color: #008000; text-decoration-color: #008000\">'Match Incident'</span><span style=\"font-weight: bold\">]</span>,      <span style=\"color: #7f7f7f; text-decoration-color: #7f7f7f\">             </span>\n",
       "<span style=\"color: #7fbfbf; text-decoration-color: #7fbfbf\">                    </span>         <span style=\"color: #808000; text-decoration-color: #808000\">visible_labels</span>=<span style=\"color: #800080; text-decoration-color: #800080; font-style: italic\">None</span><span style=\"font-weight: bold\">)</span>,                                                    <span style=\"color: #7f7f7f; text-decoration-color: #7f7f7f\">             </span>\n",
       "<span style=\"color: #7fbfbf; text-decoration-color: #7fbfbf\">                    </span>         <span style=\"color: #800080; text-decoration-color: #800080; font-weight: bold\">RemoteSpanQuestion</span><span style=\"font-weight: bold\">(</span><span style=\"color: #808000; text-decoration-color: #808000\">id</span>=<span style=\"color: #800080; text-decoration-color: #800080; font-weight: bold\">UUID</span><span style=\"font-weight: bold\">(</span><span style=\"color: #008000; text-decoration-color: #008000\">'7716c7c8-2917-4334-91d9-daed135c0b41'</span><span style=\"font-weight: bold\">)</span>,      <span style=\"color: #7f7f7f; text-decoration-color: #7f7f7f\">             </span>\n",
       "<span style=\"color: #7fbfbf; text-decoration-color: #7fbfbf\">                    </span>         <span style=\"color: #808000; text-decoration-color: #808000\">client</span>=<span style=\"color: #800080; text-decoration-color: #800080; font-style: italic\">None</span>, <span style=\"color: #808000; text-decoration-color: #808000\">name</span>=<span style=\"color: #008000; text-decoration-color: #008000\">'entities'</span>, <span style=\"color: #808000; text-decoration-color: #808000\">title</span>=<span style=\"color: #008000; text-decoration-color: #008000\">'Highlight the entities in the </span>      <span style=\"color: #7f7f7f; text-decoration-color: #7f7f7f\">             </span>\n",
       "<span style=\"color: #7fbfbf; text-decoration-color: #7fbfbf\">                    </span>         <span style=\"color: #008000; text-decoration-color: #008000\">content:'</span>, <span style=\"color: #808000; text-decoration-color: #808000\">description</span>=<span style=\"color: #800080; text-decoration-color: #800080; font-style: italic\">None</span>, <span style=\"color: #808000; text-decoration-color: #808000\">required</span>=<span style=\"color: #00ff00; text-decoration-color: #00ff00; font-style: italic\">True</span>, <span style=\"color: #808000; text-decoration-color: #808000\">type</span>=<span style=\"color: #008000; text-decoration-color: #008000\">'span'</span>, <span style=\"color: #808000; text-decoration-color: #808000\">field</span>=<span style=\"color: #008000; text-decoration-color: #008000\">'text'</span>,   <span style=\"color: #7f7f7f; text-decoration-color: #7f7f7f\">             </span>\n",
       "<span style=\"color: #7fbfbf; text-decoration-color: #7fbfbf\">                    </span>         <span style=\"color: #808000; text-decoration-color: #808000\">labels</span>=<span style=\"font-weight: bold\">[</span><span style=\"color: #800080; text-decoration-color: #800080; font-weight: bold\">SpanLabelOption</span><span style=\"font-weight: bold\">(</span><span style=\"color: #808000; text-decoration-color: #808000\">value</span>=<span style=\"color: #008000; text-decoration-color: #008000\">'Competition'</span>, <span style=\"color: #808000; text-decoration-color: #808000\">text</span>=<span style=\"color: #008000; text-decoration-color: #008000\">'Competition'</span>,         <span style=\"color: #7f7f7f; text-decoration-color: #7f7f7f\">             </span>\n",
       "<span style=\"color: #7fbfbf; text-decoration-color: #7fbfbf\">                    </span>         <span style=\"color: #808000; text-decoration-color: #808000\">description</span>=<span style=\"color: #800080; text-decoration-color: #800080; font-style: italic\">None</span><span style=\"font-weight: bold\">)</span>, <span style=\"color: #800080; text-decoration-color: #800080; font-weight: bold\">SpanLabelOption</span><span style=\"font-weight: bold\">(</span><span style=\"color: #808000; text-decoration-color: #808000\">value</span>=<span style=\"color: #008000; text-decoration-color: #008000\">'Team'</span>, <span style=\"color: #808000; text-decoration-color: #808000\">text</span>=<span style=\"color: #008000; text-decoration-color: #008000\">'Team'</span>,            <span style=\"color: #7f7f7f; text-decoration-color: #7f7f7f\">             </span>\n",
       "<span style=\"color: #7fbfbf; text-decoration-color: #7fbfbf\">                    </span>         <span style=\"color: #808000; text-decoration-color: #808000\">description</span>=<span style=\"color: #800080; text-decoration-color: #800080; font-style: italic\">None</span><span style=\"font-weight: bold\">)</span>, <span style=\"color: #800080; text-decoration-color: #800080; font-weight: bold\">SpanLabelOption</span><span style=\"font-weight: bold\">(</span><span style=\"color: #808000; text-decoration-color: #808000\">value</span>=<span style=\"color: #008000; text-decoration-color: #008000\">'Player'</span>, <span style=\"color: #808000; text-decoration-color: #808000\">text</span>=<span style=\"color: #008000; text-decoration-color: #008000\">'Player'</span>,        <span style=\"color: #7f7f7f; text-decoration-color: #7f7f7f\">             </span>\n",
       "<span style=\"color: #7fbfbf; text-decoration-color: #7fbfbf\">                    </span>         <span style=\"color: #808000; text-decoration-color: #808000\">description</span>=<span style=\"color: #800080; text-decoration-color: #800080; font-style: italic\">None</span><span style=\"font-weight: bold\">)</span>, <span style=\"color: #800080; text-decoration-color: #800080; font-weight: bold\">SpanLabelOption</span><span style=\"font-weight: bold\">(</span><span style=\"color: #808000; text-decoration-color: #808000\">value</span>=<span style=\"color: #008000; text-decoration-color: #008000\">'Match'</span>, <span style=\"color: #808000; text-decoration-color: #808000\">text</span>=<span style=\"color: #008000; text-decoration-color: #008000\">'Match'</span>,          <span style=\"color: #7f7f7f; text-decoration-color: #7f7f7f\">             </span>\n",
       "<span style=\"color: #7fbfbf; text-decoration-color: #7fbfbf\">                    </span>         <span style=\"color: #808000; text-decoration-color: #808000\">description</span>=<span style=\"color: #800080; text-decoration-color: #800080; font-style: italic\">None</span><span style=\"font-weight: bold\">)</span>, <span style=\"color: #800080; text-decoration-color: #800080; font-weight: bold\">SpanLabelOption</span><span style=\"font-weight: bold\">(</span><span style=\"color: #808000; text-decoration-color: #808000\">value</span>=<span style=\"color: #008000; text-decoration-color: #008000\">'Transfer'</span>, <span style=\"color: #808000; text-decoration-color: #808000\">text</span>=<span style=\"color: #008000; text-decoration-color: #008000\">'Transfer'</span>,    <span style=\"color: #7f7f7f; text-decoration-color: #7f7f7f\">             </span>\n",
       "<span style=\"color: #7fbfbf; text-decoration-color: #7fbfbf\">                    </span>         <span style=\"color: #808000; text-decoration-color: #808000\">description</span>=<span style=\"color: #800080; text-decoration-color: #800080; font-style: italic\">None</span><span style=\"font-weight: bold\">)]</span>, <span style=\"color: #808000; text-decoration-color: #808000\">visible_labels</span>=<span style=\"color: #008080; text-decoration-color: #008080; font-weight: bold\">5</span>, <span style=\"color: #808000; text-decoration-color: #808000\">allow_overlapping</span>=<span style=\"color: #00ff00; text-decoration-color: #00ff00; font-style: italic\">True</span><span style=\"font-weight: bold\">)]</span>           <span style=\"color: #7f7f7f; text-decoration-color: #7f7f7f\">             </span>\n",
       "<span style=\"color: #7fbfbf; text-decoration-color: #7fbfbf\">                    </span>            <span style=\"color: #808000; text-decoration-color: #808000\">guidelines</span>=<span style=\"color: #800080; text-decoration-color: #800080\">Please</span>, read the question carefully and try to answer it   <span style=\"color: #7f7f7f; text-decoration-color: #7f7f7f\">             </span>\n",
       "<span style=\"color: #7fbfbf; text-decoration-color: #7fbfbf\">                    </span>         as accurately as possible.                                               <span style=\"color: #7f7f7f; text-decoration-color: #7f7f7f\">             </span>\n",
       "<span style=\"color: #7fbfbf; text-decoration-color: #7fbfbf\">                    </span>            <span style=\"color: #808000; text-decoration-color: #808000\">metadata_properties</span>=<span style=\"font-weight: bold\">[</span><span style=\"color: #800080; text-decoration-color: #800080; font-weight: bold\">RemoteTermsMetadataProperty</span><span style=\"font-weight: bold\">(</span><span style=\"color: #808000; text-decoration-color: #808000\">id</span>=<span style=\"color: #800080; text-decoration-color: #800080; font-weight: bold\">UUID</span><span style=\"font-weight: bold\">(</span><span style=\"color: #008000; text-decoration-color: #008000\">'20376300-4a</span> <span style=\"color: #7f7f7f; text-decoration-color: #7f7f7f\">             </span>\n",
       "<span style=\"color: #7fbfbf; text-decoration-color: #7fbfbf\">                    </span>         <span style=\"color: #008000; text-decoration-color: #008000\">7b-47c8-b8d7-37afbe91d91b'</span><span style=\"font-weight: bold\">)</span>, <span style=\"color: #808000; text-decoration-color: #808000\">client</span>=<span style=\"font-weight: bold\">&lt;</span><span style=\"color: #ff00ff; text-decoration-color: #ff00ff; font-weight: bold\">httpx.Client</span><span style=\"color: #000000; text-decoration-color: #000000\"> object at </span>             <span style=\"color: #7f7f7f; text-decoration-color: #7f7f7f\">             </span>\n",
       "<span style=\"color: #7fbfbf; text-decoration-color: #7fbfbf\">                    </span>         <span style=\"color: #008080; text-decoration-color: #008080; font-weight: bold\">0x2ac41abd0</span><span style=\"color: #000000; text-decoration-color: #000000\">&gt;, </span><span style=\"color: #808000; text-decoration-color: #808000\">name</span><span style=\"color: #000000; text-decoration-color: #000000\">=</span><span style=\"color: #008000; text-decoration-color: #008000\">'link'</span><span style=\"color: #000000; text-decoration-color: #000000\">, </span><span style=\"color: #808000; text-decoration-color: #808000\">title</span><span style=\"color: #000000; text-decoration-color: #000000\">=</span><span style=\"color: #008000; text-decoration-color: #008000\">'link'</span><span style=\"color: #000000; text-decoration-color: #000000\">, </span><span style=\"color: #808000; text-decoration-color: #808000\">visible_for_annotators</span><span style=\"color: #000000; text-decoration-color: #000000\">=</span><span style=\"color: #00ff00; text-decoration-color: #00ff00; font-style: italic\">True</span><span style=\"color: #000000; text-decoration-color: #000000\">, </span>   <span style=\"color: #7f7f7f; text-decoration-color: #7f7f7f\">             </span>\n",
       "<span style=\"color: #7fbfbf; text-decoration-color: #7fbfbf\">                    </span>         <span style=\"color: #808000; text-decoration-color: #808000\">type</span><span style=\"color: #000000; text-decoration-color: #000000\">=</span><span style=\"color: #008000; text-decoration-color: #008000\">'terms'</span><span style=\"color: #000000; text-decoration-color: #000000\">, </span><span style=\"color: #808000; text-decoration-color: #808000\">values</span><span style=\"color: #000000; text-decoration-color: #000000\">=</span><span style=\"color: #800080; text-decoration-color: #800080; font-style: italic\">None</span><span style=\"color: #000000; text-decoration-color: #000000; font-weight: bold\">)</span><span style=\"color: #000000; text-decoration-color: #000000\">, </span>                                             <span style=\"color: #7f7f7f; text-decoration-color: #7f7f7f\">             </span>\n",
       "<span style=\"color: #7fbfbf; text-decoration-color: #7fbfbf\">                    </span>         <span style=\"color: #800080; text-decoration-color: #800080; font-weight: bold\">RemoteTermsMetadataProperty</span><span style=\"color: #000000; text-decoration-color: #000000; font-weight: bold\">(</span><span style=\"color: #808000; text-decoration-color: #808000\">id</span><span style=\"color: #000000; text-decoration-color: #000000\">=</span><span style=\"color: #800080; text-decoration-color: #800080; font-weight: bold\">UUID</span><span style=\"color: #000000; text-decoration-color: #000000; font-weight: bold\">(</span><span style=\"color: #008000; text-decoration-color: #008000\">'c5f1be00-0703-47ba-b0a6-e2cf47abe06</span> <span style=\"color: #7f7f7f; text-decoration-color: #7f7f7f\">             </span>\n",
       "<span style=\"color: #7fbfbf; text-decoration-color: #7fbfbf\">                    </span>         <span style=\"color: #008000; text-decoration-color: #008000\">9'</span><span style=\"color: #000000; text-decoration-color: #000000; font-weight: bold\">)</span><span style=\"color: #000000; text-decoration-color: #000000\">, </span><span style=\"color: #808000; text-decoration-color: #808000\">client</span><span style=\"color: #000000; text-decoration-color: #000000\">=&lt;httpx.Client object at </span><span style=\"color: #008080; text-decoration-color: #008080; font-weight: bold\">0x2ac41abd0</span><span style=\"font-weight: bold\">&gt;</span>, <span style=\"color: #808000; text-decoration-color: #808000\">name</span>=<span style=\"color: #008000; text-decoration-color: #008000\">'source'</span>,         <span style=\"color: #7f7f7f; text-decoration-color: #7f7f7f\">             </span>\n",
       "<span style=\"color: #7fbfbf; text-decoration-color: #7fbfbf\">                    </span>         <span style=\"color: #808000; text-decoration-color: #808000\">title</span>=<span style=\"color: #008000; text-decoration-color: #008000\">'source'</span>, <span style=\"color: #808000; text-decoration-color: #808000\">visible_for_annotators</span>=<span style=\"color: #00ff00; text-decoration-color: #00ff00; font-style: italic\">True</span>, <span style=\"color: #808000; text-decoration-color: #808000\">type</span>=<span style=\"color: #008000; text-decoration-color: #008000\">'terms'</span>, <span style=\"color: #808000; text-decoration-color: #808000\">values</span>=<span style=\"color: #800080; text-decoration-color: #800080; font-style: italic\">None</span><span style=\"font-weight: bold\">)]</span> <span style=\"color: #7f7f7f; text-decoration-color: #7f7f7f\">             </span>\n",
       "<span style=\"color: #7fbfbf; text-decoration-color: #7fbfbf\">                    </span>            <span style=\"color: #808000; text-decoration-color: #808000\">vectors_settings</span>=<span style=\"font-weight: bold\">[]</span>                                                   <span style=\"color: #7f7f7f; text-decoration-color: #7f7f7f\">             </span>\n",
       "<span style=\"color: #7fbfbf; text-decoration-color: #7fbfbf\">                    </span>         <span style=\"font-weight: bold\">)</span>                                                                        <span style=\"color: #7f7f7f; text-decoration-color: #7f7f7f\">             </span>\n",
       "</pre>\n"
      ],
      "text/plain": [
       "\u001b[2;36m                   \u001b[0m\u001b[2;36m \u001b[0m\u001b[34mINFO    \u001b[0m INFO:argilla.client.feedback.dataset.local.mixins:\u001b[1;35mRemoteFeedbackDataset\u001b[0m\u001b[1m(\u001b[0m \u001b]8;id=91084;file:///Users/louis.guitton/workspace/mlops-talk-llm-kg/venv/lib/python3.11/site-packages/argilla/client/feedback/dataset/local/mixins.py\u001b\\\u001b[2mmixins.py\u001b[0m\u001b]8;;\u001b\\\u001b[2m:\u001b[0m\u001b]8;id=388357;file:///Users/louis.guitton/workspace/mlops-talk-llm-kg/venv/lib/python3.11/site-packages/argilla/client/feedback/dataset/local/mixins.py#272\u001b\\\u001b[2m272\u001b[0m\u001b]8;;\u001b\\\n",
       "\u001b[2;36m                    \u001b[0m            \u001b[33mid\u001b[0m=\u001b[93md56f31e3\u001b[0m\u001b[93m-e809-4b16-a86b-ca2414a77497\u001b[0m                               \u001b[2m             \u001b[0m\n",
       "\u001b[2;36m                    \u001b[0m            \u001b[33mname\u001b[0m=\u001b[35mfootball\u001b[0m-news                                                    \u001b[2m             \u001b[0m\n",
       "\u001b[2;36m                    \u001b[0m            \u001b[33mworkspace\u001b[0m=\u001b[1;35mWorkspace\u001b[0m\u001b[1m(\u001b[0m\u001b[33mid\u001b[0m=\u001b[93m84a8fb6f\u001b[0m\u001b[93m-3350-4e9b-97c0-043cfedef934\u001b[0m,          \u001b[2m             \u001b[0m\n",
       "\u001b[2;36m                    \u001b[0m         \u001b[33mname\u001b[0m=\u001b[35madmin\u001b[0m, \u001b[33minserted_at\u001b[0m=\u001b[1;36m2024\u001b[0m-\u001b[1;36m05\u001b[0m-\u001b[1;36m14\u001b[0m \u001b[1;92m17:08:20\u001b[0m.\u001b[1;36m825501\u001b[0m,                      \u001b[2m             \u001b[0m\n",
       "\u001b[2;36m                    \u001b[0m         \u001b[33mupdated_at\u001b[0m=\u001b[1;36m2024\u001b[0m-\u001b[1;36m05\u001b[0m-\u001b[1;36m14\u001b[0m \u001b[1;92m17:08:20\u001b[0m.\u001b[1;36m825501\u001b[0m\u001b[1m)\u001b[0m                                   \u001b[2m             \u001b[0m\n",
       "\u001b[2;36m                    \u001b[0m            \u001b[33murl\u001b[0m=\u001b[4;94mhttp\u001b[0m\u001b[4;94m://localhost:6900/dataset/d56f31e3-e809-4b16-a86b-ca2414a7749\u001b[0m \u001b[2m             \u001b[0m\n",
       "\u001b[2;36m                    \u001b[0m         \u001b[4;94m7/annotation-mode\u001b[0m                                                        \u001b[2m             \u001b[0m\n",
       "\u001b[2;36m                    \u001b[0m            \u001b[33mfields\u001b[0m=\u001b[1m[\u001b[0m\u001b[1;35mRemoteTextField\u001b[0m\u001b[1m(\u001b[0m\u001b[33mid\u001b[0m=\u001b[1;35mUUID\u001b[0m\u001b[1m(\u001b[0m\u001b[32m'20ed18a0-031b-4028-a80a-8e5ec04d9b15\u001b[0m \u001b[2m             \u001b[0m\n",
       "\u001b[2;36m                    \u001b[0m         \u001b[32m'\u001b[0m\u001b[1m)\u001b[0m, \u001b[33mclient\u001b[0m=\u001b[3;35mNone\u001b[0m, \u001b[33mname\u001b[0m=\u001b[32m'text'\u001b[0m, \u001b[33mtitle\u001b[0m=\u001b[32m'Text'\u001b[0m, \u001b[33mrequired\u001b[0m=\u001b[3;92mTrue\u001b[0m, \u001b[33mtype\u001b[0m=\u001b[32m'text'\u001b[0m,  \u001b[2m             \u001b[0m\n",
       "\u001b[2;36m                    \u001b[0m         \u001b[33muse_markdown\u001b[0m=\u001b[3;91mFalse\u001b[0m\u001b[1m)\u001b[0m\u001b[1m]\u001b[0m                                                     \u001b[2m             \u001b[0m\n",
       "\u001b[2;36m                    \u001b[0m            \u001b[33mquestions\u001b[0m=\u001b[1m[\u001b[0m\u001b[1;35mRemoteLabelQuestion\u001b[0m\u001b[1m(\u001b[0m\u001b[33mid\u001b[0m=\u001b[1;35mUUID\u001b[0m\u001b[1m(\u001b[0m\u001b[32m'bb229225-c436-452e-bcd9-3779e\u001b[0m \u001b[2m             \u001b[0m\n",
       "\u001b[2;36m                    \u001b[0m         \u001b[32m9a340a3'\u001b[0m\u001b[1m)\u001b[0m, \u001b[33mclient\u001b[0m=\u001b[3;35mNone\u001b[0m, \u001b[33mname\u001b[0m=\u001b[32m'category'\u001b[0m, \u001b[33mtitle\u001b[0m=\u001b[32m'What is the category of \u001b[0m \u001b[2m             \u001b[0m\n",
       "\u001b[2;36m                    \u001b[0m         \u001b[32mthe article?'\u001b[0m, \u001b[33mdescription\u001b[0m=\u001b[3;35mNone\u001b[0m, \u001b[33mrequired\u001b[0m=\u001b[3;91mFalse\u001b[0m, \u001b[33mtype\u001b[0m=\u001b[32m'label_selection'\u001b[0m, \u001b[2m             \u001b[0m\n",
       "\u001b[2;36m                    \u001b[0m         \u001b[33mlabels\u001b[0m=\u001b[1m[\u001b[0m\u001b[32m'Coach Commentary'\u001b[0m, \u001b[32m'Transfer News'\u001b[0m, \u001b[32m'Match Report'\u001b[0m, \u001b[32m'Player \u001b[0m    \u001b[2m             \u001b[0m\n",
       "\u001b[2;36m                    \u001b[0m         \u001b[32mProfile'\u001b[0m, \u001b[32m'League Updates'\u001b[0m, \u001b[32m'Injury Updates'\u001b[0m, \u001b[32m'Tactical Analysis'\u001b[0m,       \u001b[2m             \u001b[0m\n",
       "\u001b[2;36m                    \u001b[0m         \u001b[32m'Social Media Reaction'\u001b[0m, \u001b[32m'Historical Milestone'\u001b[0m, \u001b[32m'Match Incident'\u001b[0m\u001b[1m]\u001b[0m,      \u001b[2m             \u001b[0m\n",
       "\u001b[2;36m                    \u001b[0m         \u001b[33mvisible_labels\u001b[0m=\u001b[3;35mNone\u001b[0m\u001b[1m)\u001b[0m,                                                    \u001b[2m             \u001b[0m\n",
       "\u001b[2;36m                    \u001b[0m         \u001b[1;35mRemoteSpanQuestion\u001b[0m\u001b[1m(\u001b[0m\u001b[33mid\u001b[0m=\u001b[1;35mUUID\u001b[0m\u001b[1m(\u001b[0m\u001b[32m'7716c7c8-2917-4334-91d9-daed135c0b41'\u001b[0m\u001b[1m)\u001b[0m,      \u001b[2m             \u001b[0m\n",
       "\u001b[2;36m                    \u001b[0m         \u001b[33mclient\u001b[0m=\u001b[3;35mNone\u001b[0m, \u001b[33mname\u001b[0m=\u001b[32m'entities'\u001b[0m, \u001b[33mtitle\u001b[0m=\u001b[32m'Highlight the entities in the \u001b[0m      \u001b[2m             \u001b[0m\n",
       "\u001b[2;36m                    \u001b[0m         \u001b[32mcontent:'\u001b[0m, \u001b[33mdescription\u001b[0m=\u001b[3;35mNone\u001b[0m, \u001b[33mrequired\u001b[0m=\u001b[3;92mTrue\u001b[0m, \u001b[33mtype\u001b[0m=\u001b[32m'span'\u001b[0m, \u001b[33mfield\u001b[0m=\u001b[32m'text'\u001b[0m,   \u001b[2m             \u001b[0m\n",
       "\u001b[2;36m                    \u001b[0m         \u001b[33mlabels\u001b[0m=\u001b[1m[\u001b[0m\u001b[1;35mSpanLabelOption\u001b[0m\u001b[1m(\u001b[0m\u001b[33mvalue\u001b[0m=\u001b[32m'Competition'\u001b[0m, \u001b[33mtext\u001b[0m=\u001b[32m'Competition'\u001b[0m,         \u001b[2m             \u001b[0m\n",
       "\u001b[2;36m                    \u001b[0m         \u001b[33mdescription\u001b[0m=\u001b[3;35mNone\u001b[0m\u001b[1m)\u001b[0m, \u001b[1;35mSpanLabelOption\u001b[0m\u001b[1m(\u001b[0m\u001b[33mvalue\u001b[0m=\u001b[32m'Team'\u001b[0m, \u001b[33mtext\u001b[0m=\u001b[32m'Team'\u001b[0m,            \u001b[2m             \u001b[0m\n",
       "\u001b[2;36m                    \u001b[0m         \u001b[33mdescription\u001b[0m=\u001b[3;35mNone\u001b[0m\u001b[1m)\u001b[0m, \u001b[1;35mSpanLabelOption\u001b[0m\u001b[1m(\u001b[0m\u001b[33mvalue\u001b[0m=\u001b[32m'Player'\u001b[0m, \u001b[33mtext\u001b[0m=\u001b[32m'Player'\u001b[0m,        \u001b[2m             \u001b[0m\n",
       "\u001b[2;36m                    \u001b[0m         \u001b[33mdescription\u001b[0m=\u001b[3;35mNone\u001b[0m\u001b[1m)\u001b[0m, \u001b[1;35mSpanLabelOption\u001b[0m\u001b[1m(\u001b[0m\u001b[33mvalue\u001b[0m=\u001b[32m'Match'\u001b[0m, \u001b[33mtext\u001b[0m=\u001b[32m'Match'\u001b[0m,          \u001b[2m             \u001b[0m\n",
       "\u001b[2;36m                    \u001b[0m         \u001b[33mdescription\u001b[0m=\u001b[3;35mNone\u001b[0m\u001b[1m)\u001b[0m, \u001b[1;35mSpanLabelOption\u001b[0m\u001b[1m(\u001b[0m\u001b[33mvalue\u001b[0m=\u001b[32m'Transfer'\u001b[0m, \u001b[33mtext\u001b[0m=\u001b[32m'Transfer'\u001b[0m,    \u001b[2m             \u001b[0m\n",
       "\u001b[2;36m                    \u001b[0m         \u001b[33mdescription\u001b[0m=\u001b[3;35mNone\u001b[0m\u001b[1m)\u001b[0m\u001b[1m]\u001b[0m, \u001b[33mvisible_labels\u001b[0m=\u001b[1;36m5\u001b[0m, \u001b[33mallow_overlapping\u001b[0m=\u001b[3;92mTrue\u001b[0m\u001b[1m)\u001b[0m\u001b[1m]\u001b[0m           \u001b[2m             \u001b[0m\n",
       "\u001b[2;36m                    \u001b[0m            \u001b[33mguidelines\u001b[0m=\u001b[35mPlease\u001b[0m, read the question carefully and try to answer it   \u001b[2m             \u001b[0m\n",
       "\u001b[2;36m                    \u001b[0m         as accurately as possible.                                               \u001b[2m             \u001b[0m\n",
       "\u001b[2;36m                    \u001b[0m            \u001b[33mmetadata_properties\u001b[0m=\u001b[1m[\u001b[0m\u001b[1;35mRemoteTermsMetadataProperty\u001b[0m\u001b[1m(\u001b[0m\u001b[33mid\u001b[0m=\u001b[1;35mUUID\u001b[0m\u001b[1m(\u001b[0m\u001b[32m'20376300-4a\u001b[0m \u001b[2m             \u001b[0m\n",
       "\u001b[2;36m                    \u001b[0m         \u001b[32m7b-47c8-b8d7-37afbe91d91b'\u001b[0m\u001b[1m)\u001b[0m, \u001b[33mclient\u001b[0m=\u001b[1m<\u001b[0m\u001b[1;95mhttpx.Client\u001b[0m\u001b[39m object at \u001b[0m             \u001b[2m             \u001b[0m\n",
       "\u001b[2;36m                    \u001b[0m         \u001b[1;36m0x2ac41abd0\u001b[0m\u001b[39m>, \u001b[0m\u001b[33mname\u001b[0m\u001b[39m=\u001b[0m\u001b[32m'link'\u001b[0m\u001b[39m, \u001b[0m\u001b[33mtitle\u001b[0m\u001b[39m=\u001b[0m\u001b[32m'link'\u001b[0m\u001b[39m, \u001b[0m\u001b[33mvisible_for_annotators\u001b[0m\u001b[39m=\u001b[0m\u001b[3;92mTrue\u001b[0m\u001b[39m, \u001b[0m   \u001b[2m             \u001b[0m\n",
       "\u001b[2;36m                    \u001b[0m         \u001b[33mtype\u001b[0m\u001b[39m=\u001b[0m\u001b[32m'terms'\u001b[0m\u001b[39m, \u001b[0m\u001b[33mvalues\u001b[0m\u001b[39m=\u001b[0m\u001b[3;35mNone\u001b[0m\u001b[1;39m)\u001b[0m\u001b[39m, \u001b[0m                                             \u001b[2m             \u001b[0m\n",
       "\u001b[2;36m                    \u001b[0m         \u001b[1;35mRemoteTermsMetadataProperty\u001b[0m\u001b[1;39m(\u001b[0m\u001b[33mid\u001b[0m\u001b[39m=\u001b[0m\u001b[1;35mUUID\u001b[0m\u001b[1;39m(\u001b[0m\u001b[32m'c5f1be00-0703-47ba-b0a6-e2cf47abe06\u001b[0m \u001b[2m             \u001b[0m\n",
       "\u001b[2;36m                    \u001b[0m         \u001b[32m9'\u001b[0m\u001b[1;39m)\u001b[0m\u001b[39m, \u001b[0m\u001b[33mclient\u001b[0m\u001b[39m=<httpx.Client object at \u001b[0m\u001b[1;36m0x2ac41abd0\u001b[0m\u001b[1m>\u001b[0m, \u001b[33mname\u001b[0m=\u001b[32m'source'\u001b[0m,         \u001b[2m             \u001b[0m\n",
       "\u001b[2;36m                    \u001b[0m         \u001b[33mtitle\u001b[0m=\u001b[32m'source'\u001b[0m, \u001b[33mvisible_for_annotators\u001b[0m=\u001b[3;92mTrue\u001b[0m, \u001b[33mtype\u001b[0m=\u001b[32m'terms'\u001b[0m, \u001b[33mvalues\u001b[0m=\u001b[3;35mNone\u001b[0m\u001b[1m)\u001b[0m\u001b[1m]\u001b[0m \u001b[2m             \u001b[0m\n",
       "\u001b[2;36m                    \u001b[0m            \u001b[33mvectors_settings\u001b[0m=\u001b[1m[\u001b[0m\u001b[1m]\u001b[0m                                                   \u001b[2m             \u001b[0m\n",
       "\u001b[2;36m                    \u001b[0m         \u001b[1m)\u001b[0m                                                                        \u001b[2m             \u001b[0m\n"
      ]
     },
     "metadata": {},
     "output_type": "display_data"
    }
   ],
   "source": [
    "remote_dataset = dataset.push_to_argilla(name=\"football-news\", workspace=\"admin\")"
   ]
  },
  {
   "cell_type": "markdown",
   "id": "e44a0793-9ed5-4b91-9124-0a58d60c5d8f",
   "metadata": {},
   "source": [
    "## 3.3. Import data\n"
   ]
  },
  {
   "cell_type": "code",
   "execution_count": 247,
   "id": "24d792cd-0c40-4381-b312-72dee5123a19",
   "metadata": {
    "execution": {
     "iopub.execute_input": "2024-05-23T07:42:54.036972Z",
     "iopub.status.busy": "2024-05-23T07:42:54.036600Z",
     "iopub.status.idle": "2024-05-23T07:42:54.044645Z",
     "shell.execute_reply": "2024-05-23T07:42:54.043699Z",
     "shell.execute_reply.started": "2024-05-23T07:42:54.036950Z"
    }
   },
   "outputs": [],
   "source": [
    "from typing import Iterator\n",
    "from tqdm import tqdm\n",
    "import pandas as pd\n",
    "\n",
    "\n",
    "def records_generator(\n",
    "    filepath: str = \"../../data/football-news-articles/final-articles.csv\",\n",
    ") -> Iterator[rg.FeedbackRecord]:\n",
    "    \"\"\"Create Argilla records from the Football News kaggle dataset.\n",
    "\n",
    "    Notes:\n",
    "    - articles with source=\"all-football-app\" have encoding issues\n",
    "    \"\"\"\n",
    "    dataset: pd.DataFrame = pd.read_csv(filepath).loc[\n",
    "        lambda d: d.source.isin([\"skysports\", \"the-analyst\"])\n",
    "    ]\n",
    "\n",
    "    for index, row in tqdm(dataset.iterrows()):\n",
    "        record = rg.FeedbackRecord(\n",
    "            fields={\"text\": \"\\n\".join([row[\"title\"], row[\"content\"]])},\n",
    "            metadata={\n",
    "                \"link\": row[\"link\"],\n",
    "                \"source\": row[\"source\"],\n",
    "            },\n",
    "            vectors={},\n",
    "            responses=[],\n",
    "            suggestions=[],\n",
    "            external_id=index,\n",
    "        )\n",
    "\n",
    "        yield record"
   ]
  },
  {
   "cell_type": "code",
   "execution_count": 248,
   "id": "3e471bbc-517f-4f00-ae2e-8627a9a171b6",
   "metadata": {
    "execution": {
     "iopub.execute_input": "2024-05-23T07:42:55.411897Z",
     "iopub.status.busy": "2024-05-23T07:42:55.411566Z",
     "iopub.status.idle": "2024-05-23T07:42:55.416228Z",
     "shell.execute_reply": "2024-05-23T07:42:55.415136Z",
     "shell.execute_reply.started": "2024-05-23T07:42:55.411873Z"
    }
   },
   "outputs": [],
   "source": [
    "LIMIT = 50"
   ]
  },
  {
   "cell_type": "code",
   "execution_count": 249,
   "id": "882d0a75-42b2-4884-94bc-5a13fe592b94",
   "metadata": {
    "execution": {
     "iopub.execute_input": "2024-05-23T07:42:55.699578Z",
     "iopub.status.busy": "2024-05-23T07:42:55.699246Z",
     "iopub.status.idle": "2024-05-23T07:42:56.649070Z",
     "shell.execute_reply": "2024-05-23T07:42:56.648214Z",
     "shell.execute_reply.started": "2024-05-23T07:42:55.699556Z"
    }
   },
   "outputs": [
    {
     "name": "stderr",
     "output_type": "stream",
     "text": [
      "2157it [00:00, 30247.38it/s]"
     ]
    },
    {
     "data": {
      "text/html": [
       "<pre style=\"white-space:pre;overflow-x:auto;line-height:normal;font-family:Menlo,'DejaVu Sans Mono',consolas,'Courier New',monospace\">/Users/louis.guitton/workspace/mlops-talk-llm-kg/venv/lib/python3.11/site-packages/rich/live.py:231: UserWarning: \n",
       "install \"ipywidgets\" for Jupyter support\n",
       "  warnings.warn('install \"ipywidgets\" for Jupyter support')\n",
       "</pre>\n"
      ],
      "text/plain": [
       "/Users/louis.guitton/workspace/mlops-talk-llm-kg/venv/lib/python3.11/site-packages/rich/live.py:231: UserWarning: \n",
       "install \"ipywidgets\" for Jupyter support\n",
       "  warnings.warn('install \"ipywidgets\" for Jupyter support')\n"
      ]
     },
     "metadata": {},
     "output_type": "display_data"
    },
    {
     "name": "stderr",
     "output_type": "stream",
     "text": [
      "\n"
     ]
    },
    {
     "data": {
      "text/html": [
       "<pre style=\"white-space:pre;overflow-x:auto;line-height:normal;font-family:Menlo,'DejaVu Sans Mono',consolas,'Courier New',monospace\"></pre>\n"
      ],
      "text/plain": []
     },
     "metadata": {},
     "output_type": "display_data"
    },
    {
     "data": {
      "text/html": [
       "<pre style=\"white-space:pre;overflow-x:auto;line-height:normal;font-family:Menlo,'DejaVu Sans Mono',consolas,'Courier New',monospace\">\n",
       "</pre>\n"
      ],
      "text/plain": [
       "\n"
      ]
     },
     "metadata": {},
     "output_type": "display_data"
    }
   ],
   "source": [
    "remote_dataset = rg.FeedbackDataset.from_argilla(\"football-news\", workspace=\"admin\")\n",
    "remote_dataset.add_records(list(records_generator())[:LIMIT])"
   ]
  },
  {
   "cell_type": "markdown",
   "id": "e2747f89-012e-44fa-975b-13bce8f8368e",
   "metadata": {},
   "source": [
    "## 3.4. Annotate data and filter by metadata\n",
    "\n",
    "- Annotate some data by hand (see [here](http://localhost:6900/dataset/d56f31e3-e809-4b16-a86b-ca2414a77497/annotation-mode?page=1&status=submitted))\n",
    "- Demo overlapping spans with a Transfer of a Player, and a Match of 2 Teams\n",
    "- Search for records with a Score like `2-0`\n",
    "- Argilla old dataset types allowed for Regex filtering but not anymore [ref](https://docs.argilla.io/en/latest/practical_guides/filter_dataset.html#regular-expressions)\n",
    "\n",
    "```python\n",
    "_SCORE_RGX = r\"\\D{2}((\\d)\\s*[-|to]\\s*(\\d))\\D{2}\"\n",
    "```\n"
   ]
  },
  {
   "cell_type": "markdown",
   "id": "28358307-f89b-4f7d-b7b3-25cf379a145e",
   "metadata": {},
   "source": [
    "## 3.5. Find similar records by vectors\n"
   ]
  },
  {
   "cell_type": "code",
   "execution_count": 250,
   "id": "b0cfc09e-598a-4f83-bf27-7b7582434c35",
   "metadata": {
    "execution": {
     "iopub.execute_input": "2024-05-23T07:43:00.900797Z",
     "iopub.status.busy": "2024-05-23T07:43:00.900193Z",
     "iopub.status.idle": "2024-05-23T07:43:00.913137Z",
     "shell.execute_reply": "2024-05-23T07:43:00.912573Z",
     "shell.execute_reply.started": "2024-05-23T07:43:00.900753Z"
    }
   },
   "outputs": [],
   "source": [
    "from argilla.client.feedback.integrations.sentencetransformers import SentenceTransformersExtractor"
   ]
  },
  {
   "cell_type": "code",
   "execution_count": 251,
   "id": "2ca43089-71d0-41c0-a412-d3bc835d279b",
   "metadata": {
    "execution": {
     "iopub.execute_input": "2024-05-23T07:43:01.084993Z",
     "iopub.status.busy": "2024-05-23T07:43:01.084595Z",
     "iopub.status.idle": "2024-05-23T07:43:03.821874Z",
     "shell.execute_reply": "2024-05-23T07:43:03.821139Z",
     "shell.execute_reply.started": "2024-05-23T07:43:01.084965Z"
    }
   },
   "outputs": [],
   "source": [
    "FAST_AND_SMALL = \"sentence-transformers/all-MiniLM-L6-v2\"\n",
    "\n",
    "ste = SentenceTransformersExtractor(\n",
    "    model=FAST_AND_SMALL,\n",
    "    show_progress=True,\n",
    ")"
   ]
  },
  {
   "cell_type": "code",
   "execution_count": 252,
   "id": "edd02893-bfc2-48db-8fc5-07fa6909c7cc",
   "metadata": {
    "execution": {
     "iopub.execute_input": "2024-05-23T07:43:03.823437Z",
     "iopub.status.busy": "2024-05-23T07:43:03.823144Z",
     "iopub.status.idle": "2024-05-23T07:43:05.222452Z",
     "shell.execute_reply": "2024-05-23T07:43:05.221839Z",
     "shell.execute_reply.started": "2024-05-23T07:43:03.823419Z"
    }
   },
   "outputs": [
    {
     "name": "stderr",
     "output_type": "stream",
     "text": [
      "Batches: 100%|█████████████████████████████████████████████████████████████████████████████████████████████████████████████████████████████████████████████████| 2/2 [00:00<00:00,  3.64it/s]\n"
     ]
    },
    {
     "data": {
      "text/html": [
       "<pre style=\"white-space:pre;overflow-x:auto;line-height:normal;font-family:Menlo,'DejaVu Sans Mono',consolas,'Courier New',monospace\"></pre>\n"
      ],
      "text/plain": []
     },
     "metadata": {},
     "output_type": "display_data"
    },
    {
     "data": {
      "text/html": [
       "<pre style=\"white-space:pre;overflow-x:auto;line-height:normal;font-family:Menlo,'DejaVu Sans Mono',consolas,'Courier New',monospace\">\n",
       "</pre>\n"
      ],
      "text/plain": [
       "\n"
      ]
     },
     "metadata": {},
     "output_type": "display_data"
    }
   ],
   "source": [
    "remote_dataset = rg.FeedbackDataset.from_argilla(\"football-news\", workspace=\"admin\")\n",
    "\n",
    "# Update the dataset\n",
    "remote_dataset = ste.update_dataset(\n",
    "    dataset=remote_dataset,\n",
    "    fields=None,  # None means using all fields\n",
    "    update_records=True,  # Also, update the records in the dataset\n",
    "    overwrite=True,  # Whether to overwrite existing vectors\n",
    ")"
   ]
  },
  {
   "cell_type": "markdown",
   "id": "5a0bbe0c-8e64-4076-808d-50d467748fbd",
   "metadata": {},
   "source": [
    "## 3.6. Adding suggestions with model\n",
    "\n",
    "### 3.6.1. Add suggestions for the text classification question using a zero-shot classification model from HuggingFace\n",
    "\n",
    "If we had labels, we could train a model that uses sentence embeddings (for more details, see [this argilla tutorial](https://docs.argilla.io/en/v1.28.0/tutorials_and_integrations/tutorials/feedback/labelling-feedback-setfit.html))\n",
    "\n",
    "```python\n",
    "from setfit import SetFitModel, SetFitTrainer\n",
    "\n",
    "model = SetFitModel.from_pretrained(\"all-MiniLM-L6-v2\")\n",
    "trainer = SetFitTrainer(model=model, train_dataset=train_dataset)\n",
    "```\n",
    "\n",
    "But for the cold start, we look for a small model on [HuggingFace](https://huggingface.co/models?pipeline_tag=zero-shot-classification)\n"
   ]
  },
  {
   "cell_type": "code",
   "execution_count": 253,
   "id": "46f1168d-c69b-48f0-97eb-869f1bb83a60",
   "metadata": {
    "execution": {
     "iopub.execute_input": "2024-05-23T07:43:35.874525Z",
     "iopub.status.busy": "2024-05-23T07:43:35.873944Z",
     "iopub.status.idle": "2024-05-23T07:43:38.413285Z",
     "shell.execute_reply": "2024-05-23T07:43:38.412622Z",
     "shell.execute_reply.started": "2024-05-23T07:43:35.874482Z"
    }
   },
   "outputs": [],
   "source": [
    "from transformers import pipeline\n",
    "\n",
    "# model_name = \"sileod/deberta-v3-small-tasksource-nli\"\n",
    "# model_name = \"cointegrated/rubert-tiny-bilingual-nli\"\n",
    "# model_name = \"typeform/distilbert-base-uncased-mnli\"\n",
    "model_name = \"valhalla/distilbart-mnli-12-3\"\n",
    "classifier = pipeline(\"zero-shot-classification\", model=model_name)"
   ]
  },
  {
   "cell_type": "code",
   "execution_count": 254,
   "id": "a1b53fa9-5275-4a23-9a7d-8df17d0feff7",
   "metadata": {
    "execution": {
     "iopub.execute_input": "2024-05-23T07:43:38.415045Z",
     "iopub.status.busy": "2024-05-23T07:43:38.414786Z",
     "iopub.status.idle": "2024-05-23T07:43:38.886156Z",
     "shell.execute_reply": "2024-05-23T07:43:38.885805Z",
     "shell.execute_reply.started": "2024-05-23T07:43:38.415028Z"
    }
   },
   "outputs": [
    {
     "data": {
      "text/plain": [
       "{'sequence': 'one day I will see the world',\n",
       " 'labels': ['travel', 'dancing', 'cooking'],\n",
       " 'scores': [0.985403299331665, 0.007384597323834896, 0.007212089374661446]}"
      ]
     },
     "execution_count": 254,
     "metadata": {},
     "output_type": "execute_result"
    }
   ],
   "source": [
    "text = \"one day I will see the world\"\n",
    "candidate_labels = [\"travel\", \"cooking\", \"dancing\"]\n",
    "classifier(text, candidate_labels)"
   ]
  },
  {
   "cell_type": "code",
   "execution_count": 255,
   "id": "3b34307e-3bf2-4fc3-8707-14b3178bb060",
   "metadata": {
    "execution": {
     "iopub.execute_input": "2024-05-23T07:43:38.886796Z",
     "iopub.status.busy": "2024-05-23T07:43:38.886709Z",
     "iopub.status.idle": "2024-05-23T07:48:34.553447Z",
     "shell.execute_reply": "2024-05-23T07:48:34.552600Z",
     "shell.execute_reply.started": "2024-05-23T07:43:38.886788Z"
    }
   },
   "outputs": [
    {
     "name": "stderr",
     "output_type": "stream",
     "text": [
      "100%|████████████████████████████████████████████████████████████████████████████████████████████████████████████████████████████████████████████████████████| 50/50 [04:54<00:00,  5.90s/it]\n"
     ]
    },
    {
     "data": {
      "text/html": [
       "<pre style=\"white-space:pre;overflow-x:auto;line-height:normal;font-family:Menlo,'DejaVu Sans Mono',consolas,'Courier New',monospace\"></pre>\n"
      ],
      "text/plain": []
     },
     "metadata": {},
     "output_type": "display_data"
    },
    {
     "data": {
      "text/html": [
       "<pre style=\"white-space:pre;overflow-x:auto;line-height:normal;font-family:Menlo,'DejaVu Sans Mono',consolas,'Courier New',monospace\">\n",
       "</pre>\n"
      ],
      "text/plain": [
       "\n"
      ]
     },
     "metadata": {},
     "output_type": "display_data"
    }
   ],
   "source": [
    "remote_dataset = rg.FeedbackDataset.from_argilla(\"football-news\", workspace=\"admin\")\n",
    "\n",
    "modified_records = [record for record in remote_dataset.records]\n",
    "for record in tqdm(modified_records):\n",
    "    x = record.fields[\"text\"]\n",
    "    # if x: str, then y = {\"sequence\": 'one day I will see the world', \"labels\": ['travel', 'dancing', 'cooking'], 'scores': [0.8434, 0.0814, 0.0750]}\n",
    "    y = classifier(sequences=x, candidate_labels=remote_dataset.question_by_name(\"category\").labels)\n",
    "    # we overwrite the suggestions\n",
    "    record.suggestions = [\n",
    "        {\n",
    "            \"question_name\": \"category\",\n",
    "            \"value\": y[\"labels\"][0],\n",
    "            \"agent\": model_name,\n",
    "            \"score\": y[\"scores\"][0],\n",
    "        }\n",
    "    ]\n",
    "\n",
    "remote_dataset.update_records(modified_records)"
   ]
  },
  {
   "cell_type": "markdown",
   "id": "6c05a3ec-2196-4bb1-a415-10f1df417baf",
   "metadata": {},
   "source": [
    "Problems:\n",
    "\n",
    "- accuracy is not great in practice\n",
    "- inference time is high\n",
    "\n",
    "Approach:\n",
    "\n",
    "- label a few (10s) articles and train a classifier with SetFit\n"
   ]
  },
  {
   "cell_type": "markdown",
   "id": "bfe50f20-3600-45dc-ad49-59f9b02141ea",
   "metadata": {},
   "source": [
    "### 3.6.2. Add suggestions for the token classification question using a zero-shot NER model from HuggingFace\n"
   ]
  },
  {
   "cell_type": "code",
   "execution_count": 256,
   "id": "4d30482a-166d-478e-97d4-241b1fd272e4",
   "metadata": {
    "execution": {
     "iopub.execute_input": "2024-05-23T07:48:34.557276Z",
     "iopub.status.busy": "2024-05-23T07:48:34.556886Z",
     "iopub.status.idle": "2024-05-23T07:48:34.609029Z",
     "shell.execute_reply": "2024-05-23T07:48:34.608260Z",
     "shell.execute_reply.started": "2024-05-23T07:48:34.557249Z"
    }
   },
   "outputs": [],
   "source": [
    "remote_dataset = rg.FeedbackDataset.from_argilla(\"football-news\", workspace=\"admin\")"
   ]
  },
  {
   "cell_type": "code",
   "execution_count": 257,
   "id": "ccc850b0-768f-40f5-a671-1910d1c237b6",
   "metadata": {
    "execution": {
     "iopub.execute_input": "2024-05-23T07:48:34.610528Z",
     "iopub.status.busy": "2024-05-23T07:48:34.610149Z",
     "iopub.status.idle": "2024-05-23T07:48:43.180294Z",
     "shell.execute_reply": "2024-05-23T07:48:43.179911Z",
     "shell.execute_reply.started": "2024-05-23T07:48:34.610497Z"
    }
   },
   "outputs": [
    {
     "name": "stderr",
     "output_type": "stream",
     "text": [
      "/Users/louis.guitton/workspace/mlops-talk-llm-kg/venv/lib/python3.11/site-packages/transformers/convert_slow_tokenizer.py:560: UserWarning: The sentencepiece tokenizer that you are converting to a fast tokenizer uses the byte fallback option which is not implemented in the fast tokenizers. In practice this means that the fast version of the tokenizer can produce unknown tokens whereas the sentencepiece version would have converted these unknown tokens into a sequence of byte tokens matching the original piece of text.\n",
      "  warnings.warn(\n"
     ]
    },
    {
     "data": {
      "text/plain": [
       "<gliner_spacy.pipeline.GlinerSpacy at 0x3b7960f90>"
      ]
     },
     "execution_count": 257,
     "metadata": {},
     "output_type": "execute_result"
    }
   ],
   "source": [
    "import spacy\n",
    "from gliner_spacy.pipeline import (  # noqa: F401 because we need to register the factory with spacy\n",
    "    GlinerSpacy,\n",
    ")\n",
    "\n",
    "candidate_labels = [\n",
    "    label.value.lower() for label in remote_dataset.question_by_name(\"entities\").labels\n",
    "]  # NuZero requires labels to be lower-cased\n",
    "\n",
    "model_name = \"numind/NuZero_token\"\n",
    "\n",
    "nlp = spacy.load(\"en_core_web_sm\", disable=[\"ner\"])\n",
    "nlp.add_pipe(\n",
    "    \"gliner_spacy\",\n",
    "    config={\n",
    "        \"gliner_model\": model_name,\n",
    "        \"chunk_size\": 250,\n",
    "        \"labels\": candidate_labels,\n",
    "        \"style\": \"ent\",\n",
    "        \"threshold\": 0.3,\n",
    "    },\n",
    ")"
   ]
  },
  {
   "cell_type": "code",
   "execution_count": 258,
   "id": "273b7d49-c996-44a8-814b-3bf368924083",
   "metadata": {
    "execution": {
     "iopub.execute_input": "2024-05-23T07:48:43.181106Z",
     "iopub.status.busy": "2024-05-23T07:48:43.180986Z",
     "iopub.status.idle": "2024-05-23T07:50:29.138481Z",
     "shell.execute_reply": "2024-05-23T07:50:29.135462Z",
     "shell.execute_reply.started": "2024-05-23T07:48:43.181097Z"
    }
   },
   "outputs": [
    {
     "name": "stderr",
     "output_type": "stream",
     "text": [
      "100%|████████████████████████████████████████████████████████████████████████████████████████████████████████████████████████████████████████████████████████| 50/50 [01:44<00:00,  2.10s/it]\n"
     ]
    },
    {
     "data": {
      "text/html": [
       "<pre style=\"white-space:pre;overflow-x:auto;line-height:normal;font-family:Menlo,'DejaVu Sans Mono',consolas,'Courier New',monospace\"></pre>\n"
      ],
      "text/plain": []
     },
     "metadata": {},
     "output_type": "display_data"
    },
    {
     "data": {
      "text/html": [
       "<pre style=\"white-space:pre;overflow-x:auto;line-height:normal;font-family:Menlo,'DejaVu Sans Mono',consolas,'Courier New',monospace\">\n",
       "</pre>\n"
      ],
      "text/plain": [
       "\n"
      ]
     },
     "metadata": {},
     "output_type": "display_data"
    }
   ],
   "source": [
    "from typing import Tuple, Union\n",
    "from argilla.client.feedback.schemas import SpanValueSchema, SuggestionSchema\n",
    "from argilla.client.feedback.schemas.remote.records import RemoteSuggestionSchema\n",
    "\n",
    "modified_records = [record for record in remote_dataset.records]\n",
    "for record in tqdm(modified_records):\n",
    "    doc = nlp(record.fields[\"text\"])\n",
    "    # we append the suggestions to the existing suggestions\n",
    "    record.suggestions: Tuple[Union[dict, SuggestionSchema, RemoteSuggestionSchema], ...]\n",
    "    record.suggestions += (\n",
    "        {\n",
    "            \"question_name\": \"entities\",\n",
    "            \"value\": [\n",
    "                SpanValueSchema(\n",
    "                    start=ent.start_char,\n",
    "                    end=ent.end_char,\n",
    "                    label=ent.label_.capitalize(),\n",
    "                )\n",
    "                for ent in doc.ents\n",
    "            ],\n",
    "            \"agent\": model_name,\n",
    "            # \"score\": ...\n",
    "        },\n",
    "    )\n",
    "\n",
    "remote_dataset.update_records(modified_records)"
   ]
  },
  {
   "cell_type": "markdown",
   "id": "a8d413c2-33c7-4fd6-89bc-c061d077fc17",
   "metadata": {
    "jp-MarkdownHeadingCollapsed": true
   },
   "source": [
    "## 3.7. Craft a better NER model by combining multiple weak supervision annotators using skweak\n"
   ]
  },
  {
   "cell_type": "code",
   "execution_count": 34,
   "id": "71031778-d6df-42f2-87a4-f808da428101",
   "metadata": {
    "execution": {
     "iopub.execute_input": "2024-05-22T14:23:08.503717Z",
     "iopub.status.busy": "2024-05-22T14:23:08.503082Z",
     "iopub.status.idle": "2024-05-22T14:23:08.511840Z",
     "shell.execute_reply": "2024-05-22T14:23:08.510910Z",
     "shell.execute_reply.started": "2024-05-22T14:23:08.503673Z"
    }
   },
   "outputs": [],
   "source": [
    "import re\n",
    "from typing import Iterator\n",
    "\n",
    "from skweak import heuristics, gazetteers, generative, utils, base\n",
    "from spacy.tokens import Doc, Span"
   ]
  },
  {
   "cell_type": "markdown",
   "id": "d9d26b9d-8600-4cd5-951b-af70a6b61818",
   "metadata": {},
   "source": [
    "### Annotate with Regex\n"
   ]
  },
  {
   "cell_type": "code",
   "execution_count": 157,
   "id": "8504745d-69cf-4b50-a952-b253fec6ed5b",
   "metadata": {
    "execution": {
     "iopub.execute_input": "2024-05-22T21:14:29.794292Z",
     "iopub.status.busy": "2024-05-22T21:14:29.793947Z",
     "iopub.status.idle": "2024-05-22T21:14:29.804272Z",
     "shell.execute_reply": "2024-05-22T21:14:29.802138Z",
     "shell.execute_reply.started": "2024-05-22T21:14:29.794270Z"
    }
   },
   "outputs": [],
   "source": [
    "def _match_pattern(\n",
    "    doc: Doc, pattern: str, group_idx: int, label: str\n",
    ") -> Iterable[Tuple[int, int, str]]:\n",
    "    for match in re.finditer(pattern, doc.text):\n",
    "        start, end = match.span(group_idx)\n",
    "        span: Span = doc.char_span(start, end, label=label)\n",
    "        if span:\n",
    "            yield span.start, span.end, span.label\n",
    "\n",
    "\n",
    "def football_game_scores_detector(doc: Doc) -> Iterable[Tuple[int, int, str]]:\n",
    "    _SCORE_RGX = r\"\\D{2}((\\d)\\s*[-|to]\\s*(\\d))\\D{2}\"  # first group\n",
    "    return _match_pattern(doc, _SCORE_RGX, 1, \"Score\")\n",
    "\n",
    "\n",
    "def football_team_formations_detector(doc: Doc) -> Iterable[Tuple[int, int, str]]:\n",
    "    _FORMATION_RGX = r\"(\\d)([\\s-](\\d)){2,3}\"  # full match\n",
    "    return _match_pattern(doc, _FORMATION_RGX, 0, \"Formation\")"
   ]
  },
  {
   "cell_type": "code",
   "execution_count": 158,
   "id": "4f66111c-71f4-45bc-84f9-552407da6345",
   "metadata": {
    "execution": {
     "iopub.execute_input": "2024-05-22T21:14:30.277483Z",
     "iopub.status.busy": "2024-05-22T21:14:30.276452Z",
     "iopub.status.idle": "2024-05-22T21:14:30.287816Z",
     "shell.execute_reply": "2024-05-22T21:14:30.286702Z",
     "shell.execute_reply.started": "2024-05-22T21:14:30.277439Z"
    }
   },
   "outputs": [],
   "source": [
    "# we define labelling functions LFs\n",
    "lf1 = heuristics.FunctionAnnotator(\"scores\", football_game_scores_detector)\n",
    "lf2 = heuristics.FunctionAnnotator(\"formations\", football_team_formations_detector)"
   ]
  },
  {
   "cell_type": "code",
   "execution_count": 159,
   "id": "a48840fc-6db7-41e1-bf97-56f99dc5010e",
   "metadata": {
    "execution": {
     "iopub.execute_input": "2024-05-22T21:14:33.089674Z",
     "iopub.status.busy": "2024-05-22T21:14:33.089176Z",
     "iopub.status.idle": "2024-05-22T21:14:33.256738Z",
     "shell.execute_reply": "2024-05-22T21:14:33.255898Z",
     "shell.execute_reply.started": "2024-05-22T21:14:33.089648Z"
    }
   },
   "outputs": [
    {
     "data": {
      "text/html": [
       "<span class=\"tex2jax_ignore\"><div class=\"entities\" style=\"line-height: 2.5; direction: ltr\">Burnley \n",
       "<mark class=\"entity\" style=\"background: #ddd; padding: 0.45em 0.6em; margin: 0 0.25em; line-height: 1; border-radius: 0.35em;\">\n",
       "    2-2\n",
       "    <span style=\"font-size: 0.8em; font-weight: bold; line-height: 1; border-radius: 0.35em; vertical-align: middle; margin-left: 0.5rem\">Score</span>\n",
       "</mark>\n",
       " Fulham: David Datro Fofana's late double earns Clarets dramatic draw</div></span>"
      ],
      "text/plain": [
       "<IPython.core.display.HTML object>"
      ]
     },
     "metadata": {},
     "output_type": "display_data"
    }
   ],
   "source": [
    "text = \"Burnley 2-2 Fulham: David Datro Fofana's late double earns Clarets dramatic draw\"\n",
    "doc = nlp(text)\n",
    "utils.display_entities(lf1(doc), \"scores\")"
   ]
  },
  {
   "cell_type": "code",
   "execution_count": 160,
   "id": "58866e89-3525-4275-add3-6f5d4479a926",
   "metadata": {
    "execution": {
     "iopub.execute_input": "2024-05-22T21:14:33.403693Z",
     "iopub.status.busy": "2024-05-22T21:14:33.403137Z",
     "iopub.status.idle": "2024-05-22T21:14:33.455030Z",
     "shell.execute_reply": "2024-05-22T21:14:33.454305Z",
     "shell.execute_reply.started": "2024-05-22T21:14:33.403656Z"
    }
   },
   "outputs": [
    {
     "data": {
      "text/html": [
       "<span class=\"tex2jax_ignore\"><div class=\"entities\" style=\"line-height: 2.5; direction: ltr\">They played in \n",
       "<mark class=\"entity\" style=\"background: #ddd; padding: 0.45em 0.6em; margin: 0 0.25em; line-height: 1; border-radius: 0.35em;\">\n",
       "    4-4-2\n",
       "    <span style=\"font-size: 0.8em; font-weight: bold; line-height: 1; border-radius: 0.35em; vertical-align: middle; margin-left: 0.5rem\">Formation</span>\n",
       "</mark>\n",
       ".</div></span>"
      ],
      "text/plain": [
       "<IPython.core.display.HTML object>"
      ]
     },
     "metadata": {},
     "output_type": "display_data"
    }
   ],
   "source": [
    "text = \"They played in 4-4-2.\"\n",
    "doc = nlp(text)\n",
    "utils.display_entities(lf2(doc), \"formations\")"
   ]
  },
  {
   "cell_type": "markdown",
   "id": "61de71ee-1003-4268-9544-40ac8f6eca3f",
   "metadata": {},
   "source": [
    "### Annotate based on cue words and the syntactic tree\n"
   ]
  },
  {
   "cell_type": "code",
   "execution_count": 162,
   "id": "3f9eb394-44e9-4fab-9387-4cc78a10081b",
   "metadata": {
    "execution": {
     "iopub.execute_input": "2024-05-22T21:14:47.210638Z",
     "iopub.status.busy": "2024-05-22T21:14:47.210308Z",
     "iopub.status.idle": "2024-05-22T21:14:47.226476Z",
     "shell.execute_reply": "2024-05-22T21:14:47.225557Z",
     "shell.execute_reply.started": "2024-05-22T21:14:47.210615Z"
    }
   },
   "outputs": [],
   "source": [
    "from typing import Iterable\n",
    "from spacy.tokens import Doc, Span, Token\n",
    "\n",
    "\n",
    "def _is_match_token(tok: Token, doc: Doc) -> bool:\n",
    "    MATCH_CUE_WORDS = [\n",
    "        \"win\",\n",
    "        \"loss\",\n",
    "        \"score\",\n",
    "        \"against\",\n",
    "        \"tie\",\n",
    "        \"clash\",\n",
    "        \"playoff\",\n",
    "        \"fixture\",\n",
    "        \"game\",\n",
    "        \"draw\",\n",
    "        \"knockout\",\n",
    "        \"defeat\",\n",
    "        \"performance\",\n",
    "        \"derby\",\n",
    "        \"victory\",\n",
    "        \"match\",\n",
    "    ]\n",
    "    is_fixture_keyword = tok.lemma_ in MATCH_CUE_WORDS\n",
    "    is_score = any(tok in span for span in doc.spans[\"scores\"])\n",
    "    return is_fixture_keyword or is_score\n",
    "\n",
    "\n",
    "def match_cue_detector(doc: Doc) -> Iterable[Tuple[int, int, str]]:\n",
    "    # high recall approach\n",
    "    mentions: List[Span] = []\n",
    "    for tok in filter(lambda tk: _is_match_token(tk, doc), doc):\n",
    "        # Here we use the token's substree as the extracted span\n",
    "        # we add the label for visualisation purposes\n",
    "        word = tok.head\n",
    "        mention: Span = Span(doc, start=word.left_edge.i, end=word.right_edge.i + 1, label=\"Match\")\n",
    "        if mention:\n",
    "            mentions.append(mention)\n",
    "\n",
    "    # deduplicate mentions e.g. a score and 'against' created 2 times the same mention\n",
    "    # some subtrees contain other subtrees => they are duplicate mentions\n",
    "    # https://spacy.io/api/top-level#util.filter_spans\n",
    "    # When spans overlap, the (first) longest span is preferred over shorter spans.\n",
    "    mentions = sorted(set(mentions), key=lambda m: m.start)\n",
    "    mentions = spacy.util.filter_spans(mentions)\n",
    "\n",
    "    for mention in mentions:\n",
    "        yield mention.start, mention.end, \"Match\""
   ]
  },
  {
   "cell_type": "code",
   "execution_count": 163,
   "id": "d6fe015d-ed18-4c6e-ab2c-cc75b7dbdc0e",
   "metadata": {
    "execution": {
     "iopub.execute_input": "2024-05-22T21:14:48.414765Z",
     "iopub.status.busy": "2024-05-22T21:14:48.414223Z",
     "iopub.status.idle": "2024-05-22T21:14:48.431459Z",
     "shell.execute_reply": "2024-05-22T21:14:48.430540Z",
     "shell.execute_reply.started": "2024-05-22T21:14:48.414741Z"
    }
   },
   "outputs": [],
   "source": [
    "lf3 = heuristics.FunctionAnnotator(\"match_cues\", match_cue_detector)"
   ]
  },
  {
   "cell_type": "code",
   "execution_count": 164,
   "id": "36cee822-5619-4161-ad3a-b9f02ef0f685",
   "metadata": {
    "execution": {
     "iopub.execute_input": "2024-05-22T21:14:49.226550Z",
     "iopub.status.busy": "2024-05-22T21:14:49.225284Z",
     "iopub.status.idle": "2024-05-22T21:14:49.387650Z",
     "shell.execute_reply": "2024-05-22T21:14:49.386810Z",
     "shell.execute_reply.started": "2024-05-22T21:14:49.226517Z"
    }
   },
   "outputs": [
    {
     "data": {
      "text/html": [
       "<span class=\"tex2jax_ignore\"><div class=\"entities\" style=\"line-height: 2.5; direction: ltr\">\n",
       "<mark class=\"entity\" style=\"background: #ddd; padding: 0.45em 0.6em; margin: 0 0.25em; line-height: 1; border-radius: 0.35em;\">\n",
       "    Scotland's 2-0 shock win over Spain back last March\n",
       "    <span style=\"font-size: 0.8em; font-weight: bold; line-height: 1; border-radius: 0.35em; vertical-align: middle; margin-left: 0.5rem\">Match</span>\n",
       "</mark>\n",
       " was the last game that Rodri lost.</div></span>"
      ],
      "text/plain": [
       "<IPython.core.display.HTML object>"
      ]
     },
     "metadata": {},
     "output_type": "display_data"
    }
   ],
   "source": [
    "text = \"Scotland's 2-0 shock win over Spain back last March was the last game that Rodri lost.\"\n",
    "doc = nlp(text)\n",
    "utils.display_entities(lf3(lf1(doc)), \"match_cues\")"
   ]
  },
  {
   "cell_type": "markdown",
   "id": "4aa4cd07-206f-4bea-bb11-c9b596687c4b",
   "metadata": {},
   "source": [
    "### Annotate with keywords from WikiData with SPARQL\n",
    "\n",
    "We will query Wikidata for competition names. This is just to demonstrate the principle.\n",
    "We could then query for Players, Teams, Club Staff, Stadiums etc....\n"
   ]
  },
  {
   "cell_type": "code",
   "execution_count": 82,
   "id": "3141ec45-6d1f-4b4b-90cd-23f76dffa849",
   "metadata": {
    "execution": {
     "iopub.execute_input": "2024-05-22T20:04:31.704291Z",
     "iopub.status.busy": "2024-05-22T20:04:31.703011Z",
     "iopub.status.idle": "2024-05-22T20:04:34.591277Z",
     "shell.execute_reply": "2024-05-22T20:04:34.590906Z",
     "shell.execute_reply.started": "2024-05-22T20:04:31.704189Z"
    }
   },
   "outputs": [
    {
     "name": "stdout",
     "output_type": "stream",
     "text": [
      "Collecting sparqlwrapper\n",
      "  Downloading SPARQLWrapper-2.0.0-py3-none-any.whl.metadata (2.0 kB)\n",
      "Requirement already satisfied: rdflib>=6.1.1 in /Users/louis.guitton/workspace/mlops-talk-llm-kg/venv/lib/python3.11/site-packages (from sparqlwrapper) (7.0.0)\n",
      "Requirement already satisfied: isodate<0.7.0,>=0.6.0 in /Users/louis.guitton/workspace/mlops-talk-llm-kg/venv/lib/python3.11/site-packages (from rdflib>=6.1.1->sparqlwrapper) (0.6.1)\n",
      "Requirement already satisfied: pyparsing<4,>=2.1.0 in /Users/louis.guitton/workspace/mlops-talk-llm-kg/venv/lib/python3.11/site-packages (from rdflib>=6.1.1->sparqlwrapper) (3.1.1)\n",
      "Requirement already satisfied: six in /Users/louis.guitton/workspace/mlops-talk-llm-kg/venv/lib/python3.11/site-packages (from isodate<0.7.0,>=0.6.0->rdflib>=6.1.1->sparqlwrapper) (1.16.0)\n",
      "Downloading SPARQLWrapper-2.0.0-py3-none-any.whl (28 kB)\n",
      "Installing collected packages: sparqlwrapper\n",
      "Successfully installed sparqlwrapper-2.0.0\n",
      "Note: you may need to restart the kernel to use updated packages.\n"
     ]
    }
   ],
   "source": [
    "# https://rdflib.github.io/sparqlwrapper/\n",
    "%pip install sparqlwrapper"
   ]
  },
  {
   "cell_type": "code",
   "execution_count": 167,
   "id": "4916ef95-7208-4e22-bc07-b67088340891",
   "metadata": {
    "execution": {
     "iopub.execute_input": "2024-05-22T21:15:19.325323Z",
     "iopub.status.busy": "2024-05-22T21:15:19.324709Z",
     "iopub.status.idle": "2024-05-22T21:15:21.344715Z",
     "shell.execute_reply": "2024-05-22T21:15:21.343825Z",
     "shell.execute_reply.started": "2024-05-22T21:15:19.325279Z"
    },
    "scrolled": true
   },
   "outputs": [],
   "source": [
    "import sys\n",
    "from SPARQLWrapper import SPARQLWrapper, JSON\n",
    "\n",
    "endpoint_url = \"https://query.wikidata.org/sparql\"\n",
    "\n",
    "query = \"\"\"SELECT ?item ?itemLabel ?countryLabel\n",
    "WHERE\n",
    "{\n",
    "  ?item wdt:P31/wdt:P279* wd:Q15991303 ;\n",
    "        wdt:P279 wd:Q3270632 ;\n",
    "        wdt:P17 ?country .\n",
    "  SERVICE wikibase:label { bd:serviceParam wikibase:language \"en\". }\n",
    "}\n",
    "ORDER BY ?countryLabel\"\"\"\n",
    "\n",
    "\n",
    "def get_results(endpoint_url, query):\n",
    "    user_agent = \"Argilla talk/%s.%s (https://guitton.co/)\" % (\n",
    "        sys.version_info[0],\n",
    "        sys.version_info[1],\n",
    "    )\n",
    "    sparql = SPARQLWrapper(endpoint_url, agent=user_agent)\n",
    "    sparql.setQuery(query)\n",
    "    sparql.setReturnFormat(JSON)\n",
    "    return sparql.query().convert()\n",
    "\n",
    "\n",
    "results = get_results(endpoint_url, query)\n",
    "\n",
    "COMPETITIONS = [\n",
    "    result[\"itemLabel\"][\"value\"].split(\" \") for result in results[\"results\"][\"bindings\"]\n",
    "]"
   ]
  },
  {
   "cell_type": "code",
   "execution_count": 168,
   "id": "e845f946-9e7e-4539-87cf-64a029b7fc31",
   "metadata": {
    "execution": {
     "iopub.execute_input": "2024-05-22T21:15:21.348432Z",
     "iopub.status.busy": "2024-05-22T21:15:21.347689Z",
     "iopub.status.idle": "2024-05-22T21:15:21.361069Z",
     "shell.execute_reply": "2024-05-22T21:15:21.360413Z",
     "shell.execute_reply.started": "2024-05-22T21:15:21.348396Z"
    }
   },
   "outputs": [],
   "source": [
    "trie = gazetteers.Trie(COMPETITIONS)\n",
    "lf4 = gazetteers.GazetteerAnnotator(\"competitions\", {\"Competition\": trie})"
   ]
  },
  {
   "cell_type": "code",
   "execution_count": 169,
   "id": "152d3a28-79ac-4f32-a67e-b3042de178bd",
   "metadata": {
    "execution": {
     "iopub.execute_input": "2024-05-22T21:15:22.171964Z",
     "iopub.status.busy": "2024-05-22T21:15:22.171584Z",
     "iopub.status.idle": "2024-05-22T21:15:22.255202Z",
     "shell.execute_reply": "2024-05-22T21:15:22.254244Z",
     "shell.execute_reply.started": "2024-05-22T21:15:22.171941Z"
    }
   },
   "outputs": [
    {
     "data": {
      "text/html": [
       "<span class=\"tex2jax_ignore\"><div class=\"entities\" style=\"line-height: 2.5; direction: ltr\">Ligue 1 should be worth more than \n",
       "<mark class=\"entity\" style=\"background: #ddd; padding: 0.45em 0.6em; margin: 0 0.25em; line-height: 1; border-radius: 0.35em;\">\n",
       "    Premier League\n",
       "    <span style=\"font-size: 0.8em; font-weight: bold; line-height: 1; border-radius: 0.35em; vertical-align: middle; margin-left: 0.5rem\">Competition</span>\n",
       "</mark>\n",
       ".</div></span>"
      ],
      "text/plain": [
       "<IPython.core.display.HTML object>"
      ]
     },
     "metadata": {},
     "output_type": "display_data"
    }
   ],
   "source": [
    "text = \"Ligue 1 should be worth more than Premier League.\"\n",
    "doc = nlp(text)\n",
    "utils.display_entities(lf4(doc), \"competitions\")"
   ]
  },
  {
   "cell_type": "code",
   "execution_count": 170,
   "id": "e7e24c6f-60b2-444c-a4cb-ffc3335032ab",
   "metadata": {
    "execution": {
     "iopub.execute_input": "2024-05-22T21:15:27.059586Z",
     "iopub.status.busy": "2024-05-22T21:15:27.059130Z",
     "iopub.status.idle": "2024-05-22T21:15:43.567783Z",
     "shell.execute_reply": "2024-05-22T21:15:43.566594Z",
     "shell.execute_reply.started": "2024-05-22T21:15:27.059553Z"
    }
   },
   "outputs": [],
   "source": [
    "query = \"\"\"# Ref: https://guitton.co/posts/wikidata/\n",
    "SELECT ?item ?itemLabel ?itemAltLabel\n",
    "WHERE\n",
    "{\n",
    "  ?item wdt:P31/wdt:P279* wd:Q847017;\n",
    "        wdt:P118 ?league.\n",
    "  VALUES ?league {\n",
    "    wd:Q324867 # LaLiga\n",
    "    wd:Q13394  # Ligue 1\n",
    "    wd:Q9448  # Premier League\n",
    "    wd:Q19510 # Championship\n",
    "    wd:Q182994  # Primeira Liga\n",
    "    wd:Q82595  # Bundesliga\n",
    "    wd:Q15804  # Serie A\n",
    "    wd:Q167541  # Eredivisie\n",
    "    wd:Q216022 # Jupiler\n",
    "  }.\n",
    "  SERVICE wikibase:label { bd:serviceParam wikibase:language \"nl\". }\n",
    "}\"\"\"\n",
    "\n",
    "results = get_results(endpoint_url, query)\n",
    "\n",
    "TEAMS = [result[\"itemLabel\"][\"value\"].split(\" \") for result in results[\"results\"][\"bindings\"]]"
   ]
  },
  {
   "cell_type": "code",
   "execution_count": 171,
   "id": "4ed46020-9969-40f7-b9f2-b87740e06f5f",
   "metadata": {
    "execution": {
     "iopub.execute_input": "2024-05-22T21:15:43.571908Z",
     "iopub.status.busy": "2024-05-22T21:15:43.571120Z",
     "iopub.status.idle": "2024-05-22T21:15:43.582321Z",
     "shell.execute_reply": "2024-05-22T21:15:43.581696Z",
     "shell.execute_reply.started": "2024-05-22T21:15:43.571857Z"
    }
   },
   "outputs": [],
   "source": [
    "trie = gazetteers.Trie(TEAMS)\n",
    "lf5 = gazetteers.GazetteerAnnotator(\"teams\", {\"Team\": trie})"
   ]
  },
  {
   "cell_type": "markdown",
   "id": "245dc6a9-4283-4a33-9e5d-04ab8e57f0e0",
   "metadata": {},
   "source": [
    "### Annotate with a custom spacy pipeline\n"
   ]
  },
  {
   "cell_type": "code",
   "execution_count": 132,
   "id": "4e4f6a8e-fa50-41cf-bd9e-499cc85fda22",
   "metadata": {
    "execution": {
     "iopub.execute_input": "2024-05-22T20:57:47.709744Z",
     "iopub.status.busy": "2024-05-22T20:57:47.709165Z",
     "iopub.status.idle": "2024-05-22T20:57:47.724579Z",
     "shell.execute_reply": "2024-05-22T20:57:47.721112Z",
     "shell.execute_reply.started": "2024-05-22T20:57:47.709708Z"
    }
   },
   "outputs": [],
   "source": [
    "from spacy.language import Language\n",
    "from skweak.spacy import ModelAnnotator, LabelMapper\n",
    "\n",
    "\n",
    "class SpacyAnnotator(ModelAnnotator):\n",
    "    def __init__(\n",
    "        self,\n",
    "        name: str,\n",
    "        nlp: Language,\n",
    "        disabled: List[str] = [\"parser\", \"tagger\", \"lemmatizer\", \"attribute_ruler\"],\n",
    "    ):\n",
    "        super(ModelAnnotator, self).__init__(name)\n",
    "        self.model = nlp\n",
    "        self.model.disable_pipes(disabled)"
   ]
  },
  {
   "cell_type": "code",
   "execution_count": 172,
   "id": "52f81ffc-3aab-4db1-8ce0-3e1fb283f410",
   "metadata": {
    "execution": {
     "iopub.execute_input": "2024-05-22T21:15:43.583382Z",
     "iopub.status.busy": "2024-05-22T21:15:43.583187Z",
     "iopub.status.idle": "2024-05-22T21:15:52.185548Z",
     "shell.execute_reply": "2024-05-22T21:15:52.185175Z",
     "shell.execute_reply.started": "2024-05-22T21:15:43.583361Z"
    }
   },
   "outputs": [
    {
     "data": {
      "text/plain": [
       "<gliner_spacy.pipeline.GlinerSpacy at 0x159cdf450>"
      ]
     },
     "execution_count": 172,
     "metadata": {},
     "output_type": "execute_result"
    }
   ],
   "source": [
    "import spacy\n",
    "from gliner_spacy.pipeline import (  # noqa: F401 because we need to register the factory with spacy\n",
    "    GlinerSpacy,\n",
    ")\n",
    "\n",
    "candidate_labels = [\"competition\", \"team\", \"player\", \"match\", \"transfer\"]\n",
    "\n",
    "model_name = \"numind/NuZero_token\"\n",
    "\n",
    "nlp = spacy.load(\"en_core_web_sm\", disable=[\"ner\"])\n",
    "nlp.add_pipe(\n",
    "    \"gliner_spacy\",\n",
    "    config={\n",
    "        \"gliner_model\": model_name,\n",
    "        \"chunk_size\": 250,\n",
    "        \"labels\": candidate_labels,\n",
    "        \"style\": \"ent\",\n",
    "        \"threshold\": 0.3,\n",
    "    },\n",
    ")"
   ]
  },
  {
   "cell_type": "code",
   "execution_count": 173,
   "id": "d77ea1ef-bd44-4c32-b00d-54fbf10af9ea",
   "metadata": {
    "execution": {
     "iopub.execute_input": "2024-05-22T21:15:52.186725Z",
     "iopub.status.busy": "2024-05-22T21:15:52.186638Z",
     "iopub.status.idle": "2024-05-22T21:15:52.189156Z",
     "shell.execute_reply": "2024-05-22T21:15:52.188657Z",
     "shell.execute_reply.started": "2024-05-22T21:15:52.186717Z"
    }
   },
   "outputs": [],
   "source": [
    "lf6 = SpacyAnnotator(\"nuner\", nlp, disabled=[\"tagger\", \"lemmatizer\", \"attribute_ruler\"])"
   ]
  },
  {
   "cell_type": "code",
   "execution_count": 174,
   "id": "c1374699-bec1-4e99-9dee-be958edb439b",
   "metadata": {
    "execution": {
     "iopub.execute_input": "2024-05-22T21:15:52.189974Z",
     "iopub.status.busy": "2024-05-22T21:15:52.189793Z",
     "iopub.status.idle": "2024-05-22T21:15:52.382601Z",
     "shell.execute_reply": "2024-05-22T21:15:52.382328Z",
     "shell.execute_reply.started": "2024-05-22T21:15:52.189963Z"
    }
   },
   "outputs": [
    {
     "data": {
      "text/html": [
       "<span class=\"tex2jax_ignore\"><div class=\"entities\" style=\"line-height: 2.5; direction: ltr\">\n",
       "<mark class=\"entity\" style=\"background: #ddd; padding: 0.45em 0.6em; margin: 0 0.25em; line-height: 1; border-radius: 0.35em;\">\n",
       "    Ligue 1\n",
       "    <span style=\"font-size: 0.8em; font-weight: bold; line-height: 1; border-radius: 0.35em; vertical-align: middle; margin-left: 0.5rem\">competition</span>\n",
       "</mark>\n",
       " should be worth more than \n",
       "<mark class=\"entity\" style=\"background: #ddd; padding: 0.45em 0.6em; margin: 0 0.25em; line-height: 1; border-radius: 0.35em;\">\n",
       "    Premier League\n",
       "    <span style=\"font-size: 0.8em; font-weight: bold; line-height: 1; border-radius: 0.35em; vertical-align: middle; margin-left: 0.5rem\">competition</span>\n",
       "</mark>\n",
       ".</div></span>"
      ],
      "text/plain": [
       "<IPython.core.display.HTML object>"
      ]
     },
     "metadata": {},
     "output_type": "display_data"
    }
   ],
   "source": [
    "text = \"Ligue 1 should be worth more than Premier League.\"\n",
    "doc = nlp(text)\n",
    "utils.display_entities(lf6(doc), \"nuner\")"
   ]
  },
  {
   "cell_type": "code",
   "execution_count": 177,
   "id": "e156b87c-278a-4fa6-b45b-4ac5bfacf219",
   "metadata": {
    "execution": {
     "iopub.execute_input": "2024-05-22T21:16:07.689766Z",
     "iopub.status.busy": "2024-05-22T21:16:07.689181Z",
     "iopub.status.idle": "2024-05-22T21:16:07.970914Z",
     "shell.execute_reply": "2024-05-22T21:16:07.970648Z",
     "shell.execute_reply.started": "2024-05-22T21:16:07.689721Z"
    }
   },
   "outputs": [
    {
     "data": {
      "text/plain": [
       "<spacy_dbpedia_spotlight.entity_linker.EntityLinker at 0x431668f90>"
      ]
     },
     "execution_count": 177,
     "metadata": {},
     "output_type": "execute_result"
    }
   ],
   "source": [
    "nlp = spacy.load(\"en_core_web_sm\", exclude=[\"ner\"])\n",
    "nlp.add_pipe(\n",
    "    \"dbpedia_spotlight\",\n",
    "    config={\n",
    "        \"dbpedia_rest_endpoint\": \"http://localhost:2222/rest\",\n",
    "        \"overwrite_ents\": True,\n",
    "    },\n",
    ")"
   ]
  },
  {
   "cell_type": "code",
   "execution_count": 178,
   "id": "74ff8f1e-94e2-4cef-be90-50b45cd8644d",
   "metadata": {
    "execution": {
     "iopub.execute_input": "2024-05-22T21:16:07.971814Z",
     "iopub.status.busy": "2024-05-22T21:16:07.971722Z",
     "iopub.status.idle": "2024-05-22T21:16:07.974437Z",
     "shell.execute_reply": "2024-05-22T21:16:07.974049Z",
     "shell.execute_reply.started": "2024-05-22T21:16:07.971805Z"
    }
   },
   "outputs": [],
   "source": [
    "lf7 = SpacyAnnotator(\"dbpedia\", nlp, disabled=[\"tagger\", \"lemmatizer\", \"attribute_ruler\"])"
   ]
  },
  {
   "cell_type": "code",
   "execution_count": 179,
   "id": "3e19de8d-e6f0-405b-a3aa-06990350c9ef",
   "metadata": {
    "execution": {
     "iopub.execute_input": "2024-05-22T21:16:08.169731Z",
     "iopub.status.busy": "2024-05-22T21:16:08.169289Z",
     "iopub.status.idle": "2024-05-22T21:16:08.306375Z",
     "shell.execute_reply": "2024-05-22T21:16:08.305702Z",
     "shell.execute_reply.started": "2024-05-22T21:16:08.169702Z"
    }
   },
   "outputs": [
    {
     "data": {
      "text/html": [
       "<span class=\"tex2jax_ignore\"><div class=\"entities\" style=\"line-height: 2.5; direction: ltr\">\n",
       "<mark class=\"entity\" style=\"background: #ddd; padding: 0.45em 0.6em; margin: 0 0.25em; line-height: 1; border-radius: 0.35em;\">\n",
       "    Ligue 1\n",
       "    <span style=\"font-size: 0.8em; font-weight: bold; line-height: 1; border-radius: 0.35em; vertical-align: middle; margin-left: 0.5rem\">DBPEDIA_ENT</span>\n",
       "</mark>\n",
       " should be worth more than \n",
       "<mark class=\"entity\" style=\"background: #ddd; padding: 0.45em 0.6em; margin: 0 0.25em; line-height: 1; border-radius: 0.35em;\">\n",
       "    Premier League\n",
       "    <span style=\"font-size: 0.8em; font-weight: bold; line-height: 1; border-radius: 0.35em; vertical-align: middle; margin-left: 0.5rem\">DBPEDIA_ENT</span>\n",
       "</mark>\n",
       ".</div></span>"
      ],
      "text/plain": [
       "<IPython.core.display.HTML object>"
      ]
     },
     "metadata": {},
     "output_type": "display_data"
    }
   ],
   "source": [
    "text = \"Ligue 1 should be worth more than Premier League.\"\n",
    "doc = nlp(text)\n",
    "utils.display_entities(lf7(doc), \"dbpedia\")"
   ]
  },
  {
   "cell_type": "code",
   "execution_count": 191,
   "id": "7b6569a3-5304-4d06-b39e-76424f455a51",
   "metadata": {
    "execution": {
     "iopub.execute_input": "2024-05-22T21:25:04.806277Z",
     "iopub.status.busy": "2024-05-22T21:25:04.805932Z",
     "iopub.status.idle": "2024-05-22T21:25:05.124762Z",
     "shell.execute_reply": "2024-05-22T21:25:05.124365Z",
     "shell.execute_reply.started": "2024-05-22T21:25:04.806254Z"
    }
   },
   "outputs": [],
   "source": [
    "lf8 = ModelAnnotator(\"spacy\", \"en_core_web_sm\")"
   ]
  },
  {
   "cell_type": "markdown",
   "id": "e3418eec-026e-4416-b599-6fcbc6ddc6ab",
   "metadata": {},
   "source": [
    "### Applying labelling functions\n"
   ]
  },
  {
   "cell_type": "code",
   "execution_count": 193,
   "id": "d2e1d85e-b877-4a3d-b3b4-9c7bef1d12fe",
   "metadata": {
    "execution": {
     "iopub.execute_input": "2024-05-22T21:25:25.004644Z",
     "iopub.status.busy": "2024-05-22T21:25:25.004046Z",
     "iopub.status.idle": "2024-05-22T21:25:25.014730Z",
     "shell.execute_reply": "2024-05-22T21:25:25.013938Z",
     "shell.execute_reply.started": "2024-05-22T21:25:25.004601Z"
    }
   },
   "outputs": [
    {
     "data": {
      "text/plain": [
       "<skweak.base.CombinedAnnotator at 0x3c23f3250>"
      ]
     },
     "execution_count": 193,
     "metadata": {},
     "output_type": "execute_result"
    }
   ],
   "source": [
    "combined = base.CombinedAnnotator()\n",
    "combined.add_annotator(lf1)  # score regex\n",
    "combined.add_annotator(lf3)  # match cues\n",
    "combined.add_annotator(lf4)  # gazetteer competitions\n",
    "combined.add_annotator(lf5)  # gazetteer teams\n",
    "combined.add_annotator(lf7)  # dbpedia\n",
    "# combined.add_annotator(lf6)  # nuner\n",
    "combined.add_annotator(lf8)  # spacy"
   ]
  },
  {
   "cell_type": "code",
   "execution_count": 195,
   "id": "248616f7-d4e5-4c52-8abe-e82e1721b9d0",
   "metadata": {
    "execution": {
     "iopub.execute_input": "2024-05-22T21:25:41.774131Z",
     "iopub.status.busy": "2024-05-22T21:25:41.773468Z",
     "iopub.status.idle": "2024-05-22T21:25:43.082738Z",
     "shell.execute_reply": "2024-05-22T21:25:43.082166Z",
     "shell.execute_reply.started": "2024-05-22T21:25:41.774107Z"
    }
   },
   "outputs": [],
   "source": [
    "remote_dataset = rg.FeedbackDataset.from_argilla(\"football-news\", workspace=\"admin\")\n",
    "\n",
    "nlp = spacy.load(\"en_core_web_sm\", disable=[\"ner\"])\n",
    "docs = nlp.pipe([record.fields[\"text\"] for record in remote_dataset.records])"
   ]
  },
  {
   "cell_type": "code",
   "execution_count": 196,
   "id": "35ab4cea-40a1-4813-a659-ed912b992d2e",
   "metadata": {
    "execution": {
     "iopub.execute_input": "2024-05-22T21:25:43.535584Z",
     "iopub.status.busy": "2024-05-22T21:25:43.535240Z",
     "iopub.status.idle": "2024-05-22T21:26:01.822131Z",
     "shell.execute_reply": "2024-05-22T21:26:01.821478Z",
     "shell.execute_reply.started": "2024-05-22T21:25:43.535562Z"
    }
   },
   "outputs": [
    {
     "name": "stdout",
     "output_type": "stream",
     "text": [
      "batch_size 128\n"
     ]
    }
   ],
   "source": [
    "docs = list(combined.pipe(docs))"
   ]
  },
  {
   "cell_type": "markdown",
   "id": "dd0eba46-1dce-4005-bda9-e3698ef8e5cd",
   "metadata": {},
   "source": [
    "### Aggregation\n",
    "\n",
    "Once the labelling functions have been applied, we must then aggregate their results, to get a single annotation for each document. This is done in `skweak` by estimating a generative model. Aggregating the labels can be done in a few lines of code:\n"
   ]
  },
  {
   "cell_type": "code",
   "execution_count": 197,
   "id": "53e31cd0-b2a1-4568-802e-64c34905a00b",
   "metadata": {
    "execution": {
     "iopub.execute_input": "2024-05-22T21:27:23.321003Z",
     "iopub.status.busy": "2024-05-22T21:27:23.320393Z",
     "iopub.status.idle": "2024-05-22T21:27:23.331055Z",
     "shell.execute_reply": "2024-05-22T21:27:23.329219Z",
     "shell.execute_reply.started": "2024-05-22T21:27:23.320977Z"
    }
   },
   "outputs": [],
   "source": [
    "import skweak\n",
    "\n",
    "# , \"Other Person\", \"Other Organisation\"\n",
    "unified_model = skweak.aggregation.HMM(\n",
    "    \"hmm\", [\"Competition\", \"Team\", \"Player\", \"Match\", \"Transfer\"]\n",
    ")\n",
    "unified_model.add_underspecified_label(\"DBPEDIA_ENT\", [\"Competition\", \"Team\", \"Player\"])\n",
    "unified_model.add_underspecified_label(\"PER\", [\"Player\", \"Other Person\"])\n",
    "unified_model.add_underspecified_label(\"ORG\", [\"Team\", \"Other Organisation\"])"
   ]
  },
  {
   "cell_type": "code",
   "execution_count": 198,
   "id": "af468888-d0ea-49d4-9736-4fedcc85586a",
   "metadata": {
    "execution": {
     "iopub.execute_input": "2024-05-22T21:27:27.757943Z",
     "iopub.status.busy": "2024-05-22T21:27:27.757567Z",
     "iopub.status.idle": "2024-05-22T21:27:40.253325Z",
     "shell.execute_reply": "2024-05-22T21:27:40.252393Z",
     "shell.execute_reply.started": "2024-05-22T21:27:27.757919Z"
    }
   },
   "outputs": [
    {
     "name": "stdout",
     "output_type": "stream",
     "text": [
      "Starting iteration 1\n",
      "Finished E-step with 50 documents\n",
      "Starting iteration 2\n"
     ]
    },
    {
     "name": "stderr",
     "output_type": "stream",
     "text": [
      "         1  -51990.16316583             +nan\n"
     ]
    },
    {
     "name": "stdout",
     "output_type": "stream",
     "text": [
      "Finished E-step with 50 documents\n",
      "Starting iteration 3\n"
     ]
    },
    {
     "name": "stderr",
     "output_type": "stream",
     "text": [
      "         2  -39517.19027457  +12472.97289125\n"
     ]
    },
    {
     "name": "stdout",
     "output_type": "stream",
     "text": [
      "Finished E-step with 50 documents\n",
      "Starting iteration 4\n"
     ]
    },
    {
     "name": "stderr",
     "output_type": "stream",
     "text": [
      "         3  -39463.19821623     +53.99205835\n"
     ]
    },
    {
     "name": "stdout",
     "output_type": "stream",
     "text": [
      "Finished E-step with 50 documents\n"
     ]
    },
    {
     "name": "stderr",
     "output_type": "stream",
     "text": [
      "         4  -39459.83574987      +3.36246636\n"
     ]
    }
   ],
   "source": [
    "unified_model.fit(docs)"
   ]
  },
  {
   "cell_type": "code",
   "execution_count": 199,
   "id": "937a1045-982a-4531-8e7c-e34e3d790384",
   "metadata": {
    "execution": {
     "iopub.execute_input": "2024-05-22T21:27:54.589517Z",
     "iopub.status.busy": "2024-05-22T21:27:54.589343Z",
     "iopub.status.idle": "2024-05-22T21:27:54.592730Z",
     "shell.execute_reply": "2024-05-22T21:27:54.592389Z",
     "shell.execute_reply.started": "2024-05-22T21:27:54.589505Z"
    }
   },
   "outputs": [],
   "source": [
    "# Saving the model to a file\n",
    "unified_model.save(\"../../data/hmm_football_small.pkl\")"
   ]
  },
  {
   "cell_type": "markdown",
   "id": "a11c56e5-f671-4bf7-b737-556843be973c",
   "metadata": {},
   "source": [
    "### Using the (hopefully) better NER model to add suggestions in Argilla\n"
   ]
  },
  {
   "cell_type": "code",
   "execution_count": 200,
   "id": "433d5409-bd98-49c5-a7a9-1c978f778293",
   "metadata": {
    "execution": {
     "iopub.execute_input": "2024-05-22T21:30:29.777021Z",
     "iopub.status.busy": "2024-05-22T21:30:29.776351Z",
     "iopub.status.idle": "2024-05-22T21:30:29.876848Z",
     "shell.execute_reply": "2024-05-22T21:30:29.874758Z",
     "shell.execute_reply.started": "2024-05-22T21:30:29.776980Z"
    }
   },
   "outputs": [],
   "source": [
    "remote_dataset = rg.FeedbackDataset.from_argilla(\"football-news\", workspace=\"admin\")"
   ]
  },
  {
   "cell_type": "code",
   "execution_count": 205,
   "id": "dabec925-9cf7-47ba-bc3c-535d5c4f3338",
   "metadata": {
    "execution": {
     "iopub.execute_input": "2024-05-22T21:33:02.641374Z",
     "iopub.status.busy": "2024-05-22T21:33:02.640713Z",
     "iopub.status.idle": "2024-05-22T21:33:09.874409Z",
     "shell.execute_reply": "2024-05-22T21:33:09.873437Z",
     "shell.execute_reply.started": "2024-05-22T21:33:02.641343Z"
    }
   },
   "outputs": [
    {
     "name": "stderr",
     "output_type": "stream",
     "text": [
      "100%|████████████████████████████████████████████████████████████████████████████████████████████████████████████████████████████████████████████████████████| 50/50 [00:06<00:00,  8.23it/s]"
     ]
    },
    {
     "data": {
      "text/html": [
       "<pre style=\"white-space:pre;overflow-x:auto;line-height:normal;font-family:Menlo,'DejaVu Sans Mono',consolas,'Courier New',monospace\">/Users/louis.guitton/workspace/mlops-talk-llm-kg/venv/lib/python3.11/site-packages/rich/live.py:231: UserWarning: \n",
       "install \"ipywidgets\" for Jupyter support\n",
       "  warnings.warn('install \"ipywidgets\" for Jupyter support')\n",
       "</pre>\n"
      ],
      "text/plain": [
       "/Users/louis.guitton/workspace/mlops-talk-llm-kg/venv/lib/python3.11/site-packages/rich/live.py:231: UserWarning: \n",
       "install \"ipywidgets\" for Jupyter support\n",
       "  warnings.warn('install \"ipywidgets\" for Jupyter support')\n"
      ]
     },
     "metadata": {},
     "output_type": "display_data"
    },
    {
     "name": "stderr",
     "output_type": "stream",
     "text": [
      "\n"
     ]
    },
    {
     "data": {
      "text/html": [
       "<pre style=\"white-space:pre;overflow-x:auto;line-height:normal;font-family:Menlo,'DejaVu Sans Mono',consolas,'Courier New',monospace\"></pre>\n"
      ],
      "text/plain": []
     },
     "metadata": {},
     "output_type": "display_data"
    },
    {
     "data": {
      "text/html": [
       "<pre style=\"white-space:pre;overflow-x:auto;line-height:normal;font-family:Menlo,'DejaVu Sans Mono',consolas,'Courier New',monospace\">\n",
       "</pre>\n"
      ],
      "text/plain": [
       "\n"
      ]
     },
     "metadata": {},
     "output_type": "display_data"
    }
   ],
   "source": [
    "from typing import Tuple, Union\n",
    "from argilla.client.feedback.schemas import SpanValueSchema, SuggestionSchema\n",
    "from argilla.client.feedback.schemas.remote.records import RemoteSuggestionSchema\n",
    "from tqdm import tqdm\n",
    "\n",
    "nlp = spacy.load(\"en_core_web_sm\", disable=[\"ner\"])\n",
    "\n",
    "modified_records = [record for record in remote_dataset.records]\n",
    "for record in tqdm(modified_records):\n",
    "    doc = unified_model(nlp(record.fields[\"text\"]))\n",
    "    record.suggestions: Tuple[Union[dict, SuggestionSchema, RemoteSuggestionSchema], ...]\n",
    "    record.suggestions = [\n",
    "        {\n",
    "            \"question_name\": \"entities\",\n",
    "            \"value\": [\n",
    "                SpanValueSchema(\n",
    "                    start=ent.start_char,\n",
    "                    end=ent.end_char,\n",
    "                    label=ent.label_.capitalize(),\n",
    "                )\n",
    "                for ent in doc.ents\n",
    "            ],\n",
    "            \"agent\": \"skweak_model\",\n",
    "            # \"score\": ...\n",
    "        }\n",
    "    ]\n",
    "\n",
    "remote_dataset.update_records(modified_records)"
   ]
  },
  {
   "cell_type": "code",
   "execution_count": 222,
   "id": "2f8f515e-ae23-47f7-a054-80a181cee064",
   "metadata": {
    "execution": {
     "iopub.execute_input": "2024-05-22T21:39:22.663282Z",
     "iopub.status.busy": "2024-05-22T21:39:22.662625Z",
     "iopub.status.idle": "2024-05-22T21:39:22.674367Z",
     "shell.execute_reply": "2024-05-22T21:39:22.673667Z",
     "shell.execute_reply.started": "2024-05-22T21:39:22.663231Z"
    }
   },
   "outputs": [
    {
     "data": {
      "text/plain": [
       "['scores', 'match_cues', 'competitions', 'teams', 'dbpedia', 'spacy']"
      ]
     },
     "execution_count": 222,
     "metadata": {},
     "output_type": "execute_result"
    }
   ],
   "source": [
    "[k for k in docs[0].spans.keys()]"
   ]
  },
  {
   "cell_type": "code",
   "execution_count": 239,
   "id": "3efb9625-4d6a-4437-b51e-e8d4a3d97d24",
   "metadata": {
    "execution": {
     "iopub.execute_input": "2024-05-22T21:44:40.967327Z",
     "iopub.status.busy": "2024-05-22T21:44:40.966694Z",
     "iopub.status.idle": "2024-05-22T21:44:40.984166Z",
     "shell.execute_reply": "2024-05-22T21:44:40.982757Z",
     "shell.execute_reply.started": "2024-05-22T21:44:40.967279Z"
    }
   },
   "outputs": [
    {
     "data": {
      "text/html": [
       "<span class=\"tex2jax_ignore\"><div class=\"entities\" style=\"line-height: 2.5; direction: ltr\">Chelsea \n",
       "<mark class=\"entity\" style=\"background: #e4e7d2; padding: 0.45em 0.6em; margin: 0 0.25em; line-height: 1; border-radius: 0.35em;\">\n",
       "    3\n",
       "    <span style=\"font-size: 0.8em; font-weight: bold; line-height: 1; border-radius: 0.35em; vertical-align: middle; margin-left: 0.5rem\">CARDINAL</span>\n",
       "</mark>\n",
       "-0 Everton: Guro Reiten scores \n",
       "<mark class=\"entity\" style=\"background: #e4e7d2; padding: 0.45em 0.6em; margin: 0 0.25em; line-height: 1; border-radius: 0.35em;\">\n",
       "    two\n",
       "    <span style=\"font-size: 0.8em; font-weight: bold; line-height: 1; border-radius: 0.35em; vertical-align: middle; margin-left: 0.5rem\">CARDINAL</span>\n",
       "</mark>\n",
       " penalties in controversial \n",
       "<mark class=\"entity\" style=\"background: #7aecec; padding: 0.45em 0.6em; margin: 0 0.25em; line-height: 1; border-radius: 0.35em;\">\n",
       "    Women's Super League\n",
       "    <span style=\"font-size: 0.8em; font-weight: bold; line-height: 1; border-radius: 0.35em; vertical-align: middle; margin-left: 0.5rem\">ORG</span>\n",
       "</mark>\n",
       " victory<br>\n",
       "<mark class=\"entity\" style=\"background: #7aecec; padding: 0.45em 0.6em; margin: 0 0.25em; line-height: 1; border-radius: 0.35em;\">\n",
       "    Chelsea\n",
       "    <span style=\"font-size: 0.8em; font-weight: bold; line-height: 1; border-radius: 0.35em; vertical-align: middle; margin-left: 0.5rem\">ORG</span>\n",
       "</mark>\n",
       " regained top spot in \n",
       "<mark class=\"entity\" style=\"background: #7aecec; padding: 0.45em 0.6em; margin: 0 0.25em; line-height: 1; border-radius: 0.35em;\">\n",
       "    the Women's Super League\n",
       "    <span style=\"font-size: 0.8em; font-weight: bold; line-height: 1; border-radius: 0.35em; vertical-align: middle; margin-left: 0.5rem\">ORG</span>\n",
       "</mark>\n",
       " thanks to \n",
       "<mark class=\"entity\" style=\"background: #e4e7d2; padding: 0.45em 0.6em; margin: 0 0.25em; line-height: 1; border-radius: 0.35em;\">\n",
       "    two\n",
       "    <span style=\"font-size: 0.8em; font-weight: bold; line-height: 1; border-radius: 0.35em; vertical-align: middle; margin-left: 0.5rem\">CARDINAL</span>\n",
       "</mark>\n",
       " controversial penalties scored by \n",
       "<mark class=\"entity\" style=\"background: #7aecec; padding: 0.45em 0.6em; margin: 0 0.25em; line-height: 1; border-radius: 0.35em;\">\n",
       "    Guro Reiten\n",
       "    <span style=\"font-size: 0.8em; font-weight: bold; line-height: 1; border-radius: 0.35em; vertical-align: middle; margin-left: 0.5rem\">ORG</span>\n",
       "</mark>\n",
       " and a clinical finish from \n",
       "<mark class=\"entity\" style=\"background: #aa9cfc; padding: 0.45em 0.6em; margin: 0 0.25em; line-height: 1; border-radius: 0.35em;\">\n",
       "    Erin Cuthbert\n",
       "    <span style=\"font-size: 0.8em; font-weight: bold; line-height: 1; border-radius: 0.35em; vertical-align: middle; margin-left: 0.5rem\">PERSON</span>\n",
       "</mark>\n",
       " in a \n",
       "<mark class=\"entity\" style=\"background: #e4e7d2; padding: 0.45em 0.6em; margin: 0 0.25em; line-height: 1; border-radius: 0.35em;\">\n",
       "    3\n",
       "    <span style=\"font-size: 0.8em; font-weight: bold; line-height: 1; border-radius: 0.35em; vertical-align: middle; margin-left: 0.5rem\">CARDINAL</span>\n",
       "</mark>\n",
       "-0 victory over \n",
       "<mark class=\"entity\" style=\"background: #feca74; padding: 0.45em 0.6em; margin: 0 0.25em; line-height: 1; border-radius: 0.35em;\">\n",
       "    Everton\n",
       "    <span style=\"font-size: 0.8em; font-weight: bold; line-height: 1; border-radius: 0.35em; vertical-align: middle; margin-left: 0.5rem\">GPE</span>\n",
       "</mark>\n",
       ". \n",
       "<mark class=\"entity\" style=\"background: #feca74; padding: 0.45em 0.6em; margin: 0 0.25em; line-height: 1; border-radius: 0.35em;\">\n",
       "    Manchester City\n",
       "    <span style=\"font-size: 0.8em; font-weight: bold; line-height: 1; border-radius: 0.35em; vertical-align: middle; margin-left: 0.5rem\">GPE</span>\n",
       "</mark>\n",
       " had temporarily moved above the \n",
       "<mark class=\"entity\" style=\"background: #feca74; padding: 0.45em 0.6em; margin: 0 0.25em; line-height: 1; border-radius: 0.35em;\">\n",
       "    Blues\n",
       "    <span style=\"font-size: 0.8em; font-weight: bold; line-height: 1; border-radius: 0.35em; vertical-align: middle; margin-left: 0.5rem\">GPE</span>\n",
       "</mark>\n",
       " after beating \n",
       "<mark class=\"entity\" style=\"background: #feca74; padding: 0.45em 0.6em; margin: 0 0.25em; line-height: 1; border-radius: 0.35em;\">\n",
       "    Leicester\n",
       "    <span style=\"font-size: 0.8em; font-weight: bold; line-height: 1; border-radius: 0.35em; vertical-align: middle; margin-left: 0.5rem\">GPE</span>\n",
       "</mark>\n",
       " earlier on \n",
       "<mark class=\"entity\" style=\"background: #bfe1d9; padding: 0.45em 0.6em; margin: 0 0.25em; line-height: 1; border-radius: 0.35em;\">\n",
       "    Sunday\n",
       "    <span style=\"font-size: 0.8em; font-weight: bold; line-height: 1; border-radius: 0.35em; vertical-align: middle; margin-left: 0.5rem\">DATE</span>\n",
       "</mark>\n",
       ", but \n",
       "<mark class=\"entity\" style=\"background: #aa9cfc; padding: 0.45em 0.6em; margin: 0 0.25em; line-height: 1; border-radius: 0.35em;\">\n",
       "    Emma Hayes'\n",
       "    <span style=\"font-size: 0.8em; font-weight: bold; line-height: 1; border-radius: 0.35em; vertical-align: middle; margin-left: 0.5rem\">PERSON</span>\n",
       "</mark>\n",
       " side were ruthless as \n",
       "<mark class=\"entity\" style=\"background: #aa9cfc; padding: 0.45em 0.6em; margin: 0 0.25em; line-height: 1; border-radius: 0.35em;\">\n",
       "    Mayra Ramirez\n",
       "    <span style=\"font-size: 0.8em; font-weight: bold; line-height: 1; border-radius: 0.35em; vertical-align: middle; margin-left: 0.5rem\">PERSON</span>\n",
       "</mark>\n",
       " made her \n",
       "<mark class=\"entity\" style=\"background: #e4e7d2; padding: 0.45em 0.6em; margin: 0 0.25em; line-height: 1; border-radius: 0.35em;\">\n",
       "    first\n",
       "    <span style=\"font-size: 0.8em; font-weight: bold; line-height: 1; border-radius: 0.35em; vertical-align: middle; margin-left: 0.5rem\">ORDINAL</span>\n",
       "</mark>\n",
       " start since joining the club for a \n",
       "<mark class=\"entity\" style=\"background: #c887fb; padding: 0.45em 0.6em; margin: 0 0.25em; line-height: 1; border-radius: 0.35em;\">\n",
       "    British\n",
       "    <span style=\"font-size: 0.8em; font-weight: bold; line-height: 1; border-radius: 0.35em; vertical-align: middle; margin-left: 0.5rem\">NORP</span>\n",
       "</mark>\n",
       "-record fee of £\n",
       "<mark class=\"entity\" style=\"background: #bfeeb7; padding: 0.45em 0.6em; margin: 0 0.25em; line-height: 1; border-radius: 0.35em;\">\n",
       "    385k\n",
       "    <span style=\"font-size: 0.8em; font-weight: bold; line-height: 1; border-radius: 0.35em; vertical-align: middle; margin-left: 0.5rem\">PRODUCT</span>\n",
       "</mark>\n",
       ". Everton were harshly undone in \n",
       "<mark class=\"entity\" style=\"background: #bfe1d9; padding: 0.45em 0.6em; margin: 0 0.25em; line-height: 1; border-radius: 0.35em;\">\n",
       "    the first half\n",
       "    <span style=\"font-size: 0.8em; font-weight: bold; line-height: 1; border-radius: 0.35em; vertical-align: middle; margin-left: 0.5rem\">DATE</span>\n",
       "</mark>\n",
       " when \n",
       "<mark class=\"entity\" style=\"background: #aa9cfc; padding: 0.45em 0.6em; margin: 0 0.25em; line-height: 1; border-radius: 0.35em;\">\n",
       "    Clare Wheeler\n",
       "    <span style=\"font-size: 0.8em; font-weight: bold; line-height: 1; border-radius: 0.35em; vertical-align: middle; margin-left: 0.5rem\">PERSON</span>\n",
       "</mark>\n",
       " was punished for winning the ball ahead of \n",
       "<mark class=\"entity\" style=\"background: #aa9cfc; padding: 0.45em 0.6em; margin: 0 0.25em; line-height: 1; border-radius: 0.35em;\">\n",
       "    Johanna Rytting Kaneryd\n",
       "    <span style=\"font-size: 0.8em; font-weight: bold; line-height: 1; border-radius: 0.35em; vertical-align: middle; margin-left: 0.5rem\">PERSON</span>\n",
       "</mark>\n",
       " in the penalty area. Reiten stepped up and found the bottom left corner beyond the reach of goalkeeper \n",
       "<mark class=\"entity\" style=\"background: #aa9cfc; padding: 0.45em 0.6em; margin: 0 0.25em; line-height: 1; border-radius: 0.35em;\">\n",
       "    Courtney Brosnan\n",
       "    <span style=\"font-size: 0.8em; font-weight: bold; line-height: 1; border-radius: 0.35em; vertical-align: middle; margin-left: 0.5rem\">PERSON</span>\n",
       "</mark>\n",
       ". Then, with \n",
       "<mark class=\"entity\" style=\"background: #bfe1d9; padding: 0.45em 0.6em; margin: 0 0.25em; line-height: 1; border-radius: 0.35em;\">\n",
       "    less than 20 minutes\n",
       "    <span style=\"font-size: 0.8em; font-weight: bold; line-height: 1; border-radius: 0.35em; vertical-align: middle; margin-left: 0.5rem\">TIME</span>\n",
       "</mark>\n",
       " to play, \n",
       "<mark class=\"entity\" style=\"background: #aa9cfc; padding: 0.45em 0.6em; margin: 0 0.25em; line-height: 1; border-radius: 0.35em;\">\n",
       "    Wheeler\n",
       "    <span style=\"font-size: 0.8em; font-weight: bold; line-height: 1; border-radius: 0.35em; vertical-align: middle; margin-left: 0.5rem\">PERSON</span>\n",
       "</mark>\n",
       " was again penalised after \n",
       "<mark class=\"entity\" style=\"background: #aa9cfc; padding: 0.45em 0.6em; margin: 0 0.25em; line-height: 1; border-radius: 0.35em;\">\n",
       "    Ramirez\n",
       "    <span style=\"font-size: 0.8em; font-weight: bold; line-height: 1; border-radius: 0.35em; vertical-align: middle; margin-left: 0.5rem\">PERSON</span>\n",
       "</mark>\n",
       " went down in the box and \n",
       "<mark class=\"entity\" style=\"background: #aa9cfc; padding: 0.45em 0.6em; margin: 0 0.25em; line-height: 1; border-radius: 0.35em;\">\n",
       "    Reiten\n",
       "    <span style=\"font-size: 0.8em; font-weight: bold; line-height: 1; border-radius: 0.35em; vertical-align: middle; margin-left: 0.5rem\">PERSON</span>\n",
       "</mark>\n",
       " made no mistake again. \n",
       "<mark class=\"entity\" style=\"background: #aa9cfc; padding: 0.45em 0.6em; margin: 0 0.25em; line-height: 1; border-radius: 0.35em;\">\n",
       "    Everton\n",
       "    <span style=\"font-size: 0.8em; font-weight: bold; line-height: 1; border-radius: 0.35em; vertical-align: middle; margin-left: 0.5rem\">PERSON</span>\n",
       "</mark>\n",
       " manager \n",
       "<mark class=\"entity\" style=\"background: #aa9cfc; padding: 0.45em 0.6em; margin: 0 0.25em; line-height: 1; border-radius: 0.35em;\">\n",
       "    Brian Sorensen\n",
       "    <span style=\"font-size: 0.8em; font-weight: bold; line-height: 1; border-radius: 0.35em; vertical-align: middle; margin-left: 0.5rem\">PERSON</span>\n",
       "</mark>\n",
       " was sent off for dissent moments before \n",
       "<mark class=\"entity\" style=\"background: #aa9cfc; padding: 0.45em 0.6em; margin: 0 0.25em; line-height: 1; border-radius: 0.35em;\">\n",
       "    Cuthbert\n",
       "    <span style=\"font-size: 0.8em; font-weight: bold; line-height: 1; border-radius: 0.35em; vertical-align: middle; margin-left: 0.5rem\">PERSON</span>\n",
       "</mark>\n",
       " volleyed in the \n",
       "<mark class=\"entity\" style=\"background: #e4e7d2; padding: 0.45em 0.6em; margin: 0 0.25em; line-height: 1; border-radius: 0.35em;\">\n",
       "    third\n",
       "    <span style=\"font-size: 0.8em; font-weight: bold; line-height: 1; border-radius: 0.35em; vertical-align: middle; margin-left: 0.5rem\">ORDINAL</span>\n",
       "</mark>\n",
       " to move \n",
       "<mark class=\"entity\" style=\"background: #7aecec; padding: 0.45em 0.6em; margin: 0 0.25em; line-height: 1; border-radius: 0.35em;\">\n",
       "    Chelsea\n",
       "    <span style=\"font-size: 0.8em; font-weight: bold; line-height: 1; border-radius: 0.35em; vertical-align: middle; margin-left: 0.5rem\">ORG</span>\n",
       "</mark>\n",
       " \n",
       "<mark class=\"entity\" style=\"background: #e4e7d2; padding: 0.45em 0.6em; margin: 0 0.25em; line-height: 1; border-radius: 0.35em;\">\n",
       "    three\n",
       "    <span style=\"font-size: 0.8em; font-weight: bold; line-height: 1; border-radius: 0.35em; vertical-align: middle; margin-left: 0.5rem\">CARDINAL</span>\n",
       "</mark>\n",
       " points clear. Reiten had the \n",
       "<mark class=\"entity\" style=\"background: #e4e7d2; padding: 0.45em 0.6em; margin: 0 0.25em; line-height: 1; border-radius: 0.35em;\">\n",
       "    first\n",
       "    <span style=\"font-size: 0.8em; font-weight: bold; line-height: 1; border-radius: 0.35em; vertical-align: middle; margin-left: 0.5rem\">ORDINAL</span>\n",
       "</mark>\n",
       " \n",
       "<mark class=\"entity\" style=\"background: #7aecec; padding: 0.45em 0.6em; margin: 0 0.25em; line-height: 1; border-radius: 0.35em;\">\n",
       "    Chelsea\n",
       "    <span style=\"font-size: 0.8em; font-weight: bold; line-height: 1; border-radius: 0.35em; vertical-align: middle; margin-left: 0.5rem\">ORG</span>\n",
       "</mark>\n",
       " chance from a smart \n",
       "<mark class=\"entity\" style=\"background: #aa9cfc; padding: 0.45em 0.6em; margin: 0 0.25em; line-height: 1; border-radius: 0.35em;\">\n",
       "    Ramirez\n",
       "    <span style=\"font-size: 0.8em; font-weight: bold; line-height: 1; border-radius: 0.35em; vertical-align: middle; margin-left: 0.5rem\">PERSON</span>\n",
       "</mark>\n",
       " cross but was unable to beat \n",
       "<mark class=\"entity\" style=\"background: #feca74; padding: 0.45em 0.6em; margin: 0 0.25em; line-height: 1; border-radius: 0.35em;\">\n",
       "    Brosnan\n",
       "    <span style=\"font-size: 0.8em; font-weight: bold; line-height: 1; border-radius: 0.35em; vertical-align: middle; margin-left: 0.5rem\">GPE</span>\n",
       "</mark>\n",
       ", who soon parried a delivery into the box against the upright with \n",
       "<mark class=\"entity\" style=\"background: #aa9cfc; padding: 0.45em 0.6em; margin: 0 0.25em; line-height: 1; border-radius: 0.35em;\">\n",
       "    Wheeler\n",
       "    <span style=\"font-size: 0.8em; font-weight: bold; line-height: 1; border-radius: 0.35em; vertical-align: middle; margin-left: 0.5rem\">PERSON</span>\n",
       "</mark>\n",
       " clearing off the line. Wheeler was then punished for her good work in the \n",
       "<mark class=\"entity\" style=\"background: #7aecec; padding: 0.45em 0.6em; margin: 0 0.25em; line-height: 1; border-radius: 0.35em;\">\n",
       "    Everton\n",
       "    <span style=\"font-size: 0.8em; font-weight: bold; line-height: 1; border-radius: 0.35em; vertical-align: middle; margin-left: 0.5rem\">ORG</span>\n",
       "</mark>\n",
       " box as \n",
       "<mark class=\"entity\" style=\"background: #aa9cfc; padding: 0.45em 0.6em; margin: 0 0.25em; line-height: 1; border-radius: 0.35em;\">\n",
       "    Reiten\n",
       "    <span style=\"font-size: 0.8em; font-weight: bold; line-height: 1; border-radius: 0.35em; vertical-align: middle; margin-left: 0.5rem\">PERSON</span>\n",
       "</mark>\n",
       " took full advantage from the penalty spot. \n",
       "<mark class=\"entity\" style=\"background: #7aecec; padding: 0.45em 0.6em; margin: 0 0.25em; line-height: 1; border-radius: 0.35em;\">\n",
       "    Women's Super League\n",
       "    <span style=\"font-size: 0.8em; font-weight: bold; line-height: 1; border-radius: 0.35em; vertical-align: middle; margin-left: 0.5rem\">ORG</span>\n",
       "</mark>\n",
       " table \n",
       "<mark class=\"entity\" style=\"background: #7aecec; padding: 0.45em 0.6em; margin: 0 0.25em; line-height: 1; border-radius: 0.35em;\">\n",
       "    Women's Super League\n",
       "    <span style=\"font-size: 0.8em; font-weight: bold; line-height: 1; border-radius: 0.35em; vertical-align: middle; margin-left: 0.5rem\">ORG</span>\n",
       "</mark>\n",
       " fixtures \n",
       "<mark class=\"entity\" style=\"background: #7aecec; padding: 0.45em 0.6em; margin: 0 0.25em; line-height: 1; border-radius: 0.35em;\">\n",
       "    Get Sky Sports Stream\n",
       "    <span style=\"font-size: 0.8em; font-weight: bold; line-height: 1; border-radius: 0.35em; vertical-align: middle; margin-left: 0.5rem\">ORG</span>\n",
       "</mark>\n",
       " the \n",
       "<mark class=\"entity\" style=\"background: #7aecec; padding: 0.45em 0.6em; margin: 0 0.25em; line-height: 1; border-radius: 0.35em;\">\n",
       "    WSL\n",
       "    <span style=\"font-size: 0.8em; font-weight: bold; line-height: 1; border-radius: 0.35em; vertical-align: middle; margin-left: 0.5rem\">ORG</span>\n",
       "</mark>\n",
       " and more with \n",
       "<mark class=\"entity\" style=\"background: #7aecec; padding: 0.45em 0.6em; margin: 0 0.25em; line-height: 1; border-radius: 0.35em;\">\n",
       "    NOW Please\n",
       "    <span style=\"font-size: 0.8em; font-weight: bold; line-height: 1; border-radius: 0.35em; vertical-align: middle; margin-left: 0.5rem\">ORG</span>\n",
       "</mark>\n",
       " use \n",
       "<mark class=\"entity\" style=\"background: #bfeeb7; padding: 0.45em 0.6em; margin: 0 0.25em; line-height: 1; border-radius: 0.35em;\">\n",
       "    Chrome\n",
       "    <span style=\"font-size: 0.8em; font-weight: bold; line-height: 1; border-radius: 0.35em; vertical-align: middle; margin-left: 0.5rem\">PRODUCT</span>\n",
       "</mark>\n",
       " browser for a more accessible video player  The visitors should have been level when \n",
       "<mark class=\"entity\" style=\"background: #aa9cfc; padding: 0.45em 0.6em; margin: 0 0.25em; line-height: 1; border-radius: 0.35em;\">\n",
       "    Rikke Madsen's\n",
       "    <span style=\"font-size: 0.8em; font-weight: bold; line-height: 1; border-radius: 0.35em; vertical-align: middle; margin-left: 0.5rem\">PERSON</span>\n",
       "</mark>\n",
       " perfect cross was put over from close range by \n",
       "<mark class=\"entity\" style=\"background: #aa9cfc; padding: 0.45em 0.6em; margin: 0 0.25em; line-height: 1; border-radius: 0.35em;\">\n",
       "    Aurora Galli\n",
       "    <span style=\"font-size: 0.8em; font-weight: bold; line-height: 1; border-radius: 0.35em; vertical-align: middle; margin-left: 0.5rem\">PERSON</span>\n",
       "</mark>\n",
       ". Chelsea were not at their best but ramped up the pressure \n",
       "<mark class=\"entity\" style=\"background: #bfe1d9; padding: 0.45em 0.6em; margin: 0 0.25em; line-height: 1; border-radius: 0.35em;\">\n",
       "    around the hour\n",
       "    <span style=\"font-size: 0.8em; font-weight: bold; line-height: 1; border-radius: 0.35em; vertical-align: middle; margin-left: 0.5rem\">TIME</span>\n",
       "</mark>\n",
       " mark when \n",
       "<mark class=\"entity\" style=\"background: #aa9cfc; padding: 0.45em 0.6em; margin: 0 0.25em; line-height: 1; border-radius: 0.35em;\">\n",
       "    Johanna Rytting\n",
       "    <span style=\"font-size: 0.8em; font-weight: bold; line-height: 1; border-radius: 0.35em; vertical-align: middle; margin-left: 0.5rem\">PERSON</span>\n",
       "</mark>\n",
       " \n",
       "<mark class=\"entity\" style=\"background: #7aecec; padding: 0.45em 0.6em; margin: 0 0.25em; line-height: 1; border-radius: 0.35em;\">\n",
       "    Kaneryd\n",
       "    <span style=\"font-size: 0.8em; font-weight: bold; line-height: 1; border-radius: 0.35em; vertical-align: middle; margin-left: 0.5rem\">ORG</span>\n",
       "</mark>\n",
       " blazed over before \n",
       "<mark class=\"entity\" style=\"background: #aa9cfc; padding: 0.45em 0.6em; margin: 0 0.25em; line-height: 1; border-radius: 0.35em;\">\n",
       "    Lauren James\n",
       "    <span style=\"font-size: 0.8em; font-weight: bold; line-height: 1; border-radius: 0.35em; vertical-align: middle; margin-left: 0.5rem\">PERSON</span>\n",
       "</mark>\n",
       " shot narrowly wide. Please use \n",
       "<mark class=\"entity\" style=\"background: #bfeeb7; padding: 0.45em 0.6em; margin: 0 0.25em; line-height: 1; border-radius: 0.35em;\">\n",
       "    Chrome\n",
       "    <span style=\"font-size: 0.8em; font-weight: bold; line-height: 1; border-radius: 0.35em; vertical-align: middle; margin-left: 0.5rem\">PRODUCT</span>\n",
       "</mark>\n",
       " browser for a more accessible video player  Eventually, it paid off when \n",
       "<mark class=\"entity\" style=\"background: #aa9cfc; padding: 0.45em 0.6em; margin: 0 0.25em; line-height: 1; border-radius: 0.35em;\">\n",
       "    Ramirez\n",
       "    <span style=\"font-size: 0.8em; font-weight: bold; line-height: 1; border-radius: 0.35em; vertical-align: middle; margin-left: 0.5rem\">PERSON</span>\n",
       "</mark>\n",
       " went to ground in the box following the slightest of touches from \n",
       "<mark class=\"entity\" style=\"background: #7aecec; padding: 0.45em 0.6em; margin: 0 0.25em; line-height: 1; border-radius: 0.35em;\">\n",
       "    Wheeler - and\n",
       "    <span style=\"font-size: 0.8em; font-weight: bold; line-height: 1; border-radius: 0.35em; vertical-align: middle; margin-left: 0.5rem\">ORG</span>\n",
       "</mark>\n",
       " \n",
       "<mark class=\"entity\" style=\"background: #aa9cfc; padding: 0.45em 0.6em; margin: 0 0.25em; line-height: 1; border-radius: 0.35em;\">\n",
       "    Reiten\n",
       "    <span style=\"font-size: 0.8em; font-weight: bold; line-height: 1; border-radius: 0.35em; vertical-align: middle; margin-left: 0.5rem\">PERSON</span>\n",
       "</mark>\n",
       " tucked home. \n",
       "<mark class=\"entity\" style=\"background: #aa9cfc; padding: 0.45em 0.6em; margin: 0 0.25em; line-height: 1; border-radius: 0.35em;\">\n",
       "    Sorensen\n",
       "    <span style=\"font-size: 0.8em; font-weight: bold; line-height: 1; border-radius: 0.35em; vertical-align: middle; margin-left: 0.5rem\">PERSON</span>\n",
       "</mark>\n",
       " showed his frustrations late on which were compounded by a lovely \n",
       "<mark class=\"entity\" style=\"background: #7aecec; padding: 0.45em 0.6em; margin: 0 0.25em; line-height: 1; border-radius: 0.35em;\">\n",
       "    Chelsea\n",
       "    <span style=\"font-size: 0.8em; font-weight: bold; line-height: 1; border-radius: 0.35em; vertical-align: middle; margin-left: 0.5rem\">ORG</span>\n",
       "</mark>\n",
       " move that \n",
       "<mark class=\"entity\" style=\"background: #aa9cfc; padding: 0.45em 0.6em; margin: 0 0.25em; line-height: 1; border-radius: 0.35em;\">\n",
       "    Cuthbert\n",
       "    <span style=\"font-size: 0.8em; font-weight: bold; line-height: 1; border-radius: 0.35em; vertical-align: middle; margin-left: 0.5rem\">PERSON</span>\n",
       "</mark>\n",
       " rounded off with a clinical volley. \n",
       "<mark class=\"entity\" style=\"background: #7aecec; padding: 0.45em 0.6em; margin: 0 0.25em; line-height: 1; border-radius: 0.35em;\">\n",
       "    Everton\n",
       "    <span style=\"font-size: 0.8em; font-weight: bold; line-height: 1; border-radius: 0.35em; vertical-align: middle; margin-left: 0.5rem\">ORG</span>\n",
       "</mark>\n",
       " assistant manager \n",
       "<mark class=\"entity\" style=\"background: #aa9cfc; padding: 0.45em 0.6em; margin: 0 0.25em; line-height: 1; border-radius: 0.35em;\">\n",
       "    Stephen Neligan\n",
       "    <span style=\"font-size: 0.8em; font-weight: bold; line-height: 1; border-radius: 0.35em; vertical-align: middle; margin-left: 0.5rem\">PERSON</span>\n",
       "</mark>\n",
       " told \n",
       "<mark class=\"entity\" style=\"background: #7aecec; padding: 0.45em 0.6em; margin: 0 0.25em; line-height: 1; border-radius: 0.35em;\">\n",
       "    Sky Sports\n",
       "    <span style=\"font-size: 0.8em; font-weight: bold; line-height: 1; border-radius: 0.35em; vertical-align: middle; margin-left: 0.5rem\">ORG</span>\n",
       "</mark>\n",
       ": &quot;Scoreline aside, there are lots of positives we can take from the performance. There are still a lot of things we can improve on. &quot;We came in at \n",
       "<mark class=\"entity\" style=\"background: #bfe1d9; padding: 0.45em 0.6em; margin: 0 0.25em; line-height: 1; border-radius: 0.35em;\">\n",
       "    half-time\n",
       "    <span style=\"font-size: 0.8em; font-weight: bold; line-height: 1; border-radius: 0.35em; vertical-align: middle; margin-left: 0.5rem\">TIME</span>\n",
       "</mark>\n",
       " and knew we had the wind behind us in \n",
       "<mark class=\"entity\" style=\"background: #bfe1d9; padding: 0.45em 0.6em; margin: 0 0.25em; line-height: 1; border-radius: 0.35em;\">\n",
       "    the second half\n",
       "    <span style=\"font-size: 0.8em; font-weight: bold; line-height: 1; border-radius: 0.35em; vertical-align: middle; margin-left: 0.5rem\">DATE</span>\n",
       "</mark>\n",
       " so were optimistic about what we could have got out of it. The \n",
       "<mark class=\"entity\" style=\"background: #e4e7d2; padding: 0.45em 0.6em; margin: 0 0.25em; line-height: 1; border-radius: 0.35em;\">\n",
       "    first\n",
       "    <span style=\"font-size: 0.8em; font-weight: bold; line-height: 1; border-radius: 0.35em; vertical-align: middle; margin-left: 0.5rem\">ORDINAL</span>\n",
       "</mark>\n",
       " 15, \n",
       "<mark class=\"entity\" style=\"background: #bfe1d9; padding: 0.45em 0.6em; margin: 0 0.25em; line-height: 1; border-radius: 0.35em;\">\n",
       "    20 minutes\n",
       "    <span style=\"font-size: 0.8em; font-weight: bold; line-height: 1; border-radius: 0.35em; vertical-align: middle; margin-left: 0.5rem\">TIME</span>\n",
       "</mark>\n",
       " of the \n",
       "<mark class=\"entity\" style=\"background: #e4e7d2; padding: 0.45em 0.6em; margin: 0 0.25em; line-height: 1; border-radius: 0.35em;\">\n",
       "    second\n",
       "    <span style=\"font-size: 0.8em; font-weight: bold; line-height: 1; border-radius: 0.35em; vertical-align: middle; margin-left: 0.5rem\">ORDINAL</span>\n",
       "</mark>\n",
       " \n",
       "<mark class=\"entity\" style=\"background: #e4e7d2; padding: 0.45em 0.6em; margin: 0 0.25em; line-height: 1; border-radius: 0.35em;\">\n",
       "    half\n",
       "    <span style=\"font-size: 0.8em; font-weight: bold; line-height: 1; border-radius: 0.35em; vertical-align: middle; margin-left: 0.5rem\">CARDINAL</span>\n",
       "</mark>\n",
       " we were happy and then the quality of \n",
       "<mark class=\"entity\" style=\"background: #7aecec; padding: 0.45em 0.6em; margin: 0 0.25em; line-height: 1; border-radius: 0.35em;\">\n",
       "    Chelsea\n",
       "    <span style=\"font-size: 0.8em; font-weight: bold; line-height: 1; border-radius: 0.35em; vertical-align: middle; margin-left: 0.5rem\">ORG</span>\n",
       "</mark>\n",
       " started to hurt some of our mistakes.&quot; On penalty decisions: &quot;It's hard to see from where I was standing. I've seen the replay of the \n",
       "<mark class=\"entity\" style=\"background: #e4e7d2; padding: 0.45em 0.6em; margin: 0 0.25em; line-height: 1; border-radius: 0.35em;\">\n",
       "    second\n",
       "    <span style=\"font-size: 0.8em; font-weight: bold; line-height: 1; border-radius: 0.35em; vertical-align: middle; margin-left: 0.5rem\">ORDINAL</span>\n",
       "</mark>\n",
       " one which could have gone either way. You could say both of them were hard done by but it is what it is. &quot;The game has ultimately been decided on decisions like that, that could go either way.&quot; On \n",
       "<mark class=\"entity\" style=\"background: #aa9cfc; padding: 0.45em 0.6em; margin: 0 0.25em; line-height: 1; border-radius: 0.35em;\">\n",
       "    Brian Sorensen's\n",
       "    <span style=\"font-size: 0.8em; font-weight: bold; line-height: 1; border-radius: 0.35em; vertical-align: middle; margin-left: 0.5rem\">PERSON</span>\n",
       "</mark>\n",
       " red card: &quot;I have no idea, I stand up the top so couldn't see down below to what was happening.&quot; Please use \n",
       "<mark class=\"entity\" style=\"background: #bfeeb7; padding: 0.45em 0.6em; margin: 0 0.25em; line-height: 1; border-radius: 0.35em;\">\n",
       "    Chrome\n",
       "    <span style=\"font-size: 0.8em; font-weight: bold; line-height: 1; border-radius: 0.35em; vertical-align: middle; margin-left: 0.5rem\">PRODUCT</span>\n",
       "</mark>\n",
       " browser for a more accessible video player  \n",
       "<mark class=\"entity\" style=\"background: #7aecec; padding: 0.45em 0.6em; margin: 0 0.25em; line-height: 1; border-radius: 0.35em;\">\n",
       "    Chelsea\n",
       "    <span style=\"font-size: 0.8em; font-weight: bold; line-height: 1; border-radius: 0.35em; vertical-align: middle; margin-left: 0.5rem\">ORG</span>\n",
       "</mark>\n",
       " boss \n",
       "<mark class=\"entity\" style=\"background: #aa9cfc; padding: 0.45em 0.6em; margin: 0 0.25em; line-height: 1; border-radius: 0.35em;\">\n",
       "    Emma Hayes\n",
       "    <span style=\"font-size: 0.8em; font-weight: bold; line-height: 1; border-radius: 0.35em; vertical-align: middle; margin-left: 0.5rem\">PERSON</span>\n",
       "</mark>\n",
       " told \n",
       "<mark class=\"entity\" style=\"background: #7aecec; padding: 0.45em 0.6em; margin: 0 0.25em; line-height: 1; border-radius: 0.35em;\">\n",
       "    Sky Sports\n",
       "    <span style=\"font-size: 0.8em; font-weight: bold; line-height: 1; border-radius: 0.35em; vertical-align: middle; margin-left: 0.5rem\">ORG</span>\n",
       "</mark>\n",
       ": &quot;We absolutely had to show patience in that game, and I didn't think we had enough of it in \n",
       "<mark class=\"entity\" style=\"background: #bfe1d9; padding: 0.45em 0.6em; margin: 0 0.25em; line-height: 1; border-radius: 0.35em;\">\n",
       "    the first half\n",
       "    <span style=\"font-size: 0.8em; font-weight: bold; line-height: 1; border-radius: 0.35em; vertical-align: middle; margin-left: 0.5rem\">DATE</span>\n",
       "</mark>\n",
       ". We had so much energy and the players just wanted to do everything at \n",
       "<mark class=\"entity\" style=\"background: #e4e7d2; padding: 0.45em 0.6em; margin: 0 0.25em; line-height: 1; border-radius: 0.35em;\">\n",
       "    100 miles per hour\n",
       "    <span style=\"font-size: 0.8em; font-weight: bold; line-height: 1; border-radius: 0.35em; vertical-align: middle; margin-left: 0.5rem\">QUANTITY</span>\n",
       "</mark>\n",
       " and it didn't help us. &quot;I said to them 'Calm down! We have the whole game to play.' I can't fault the players though, they want to win, they want to play well, I thought our quality did show through in \n",
       "<mark class=\"entity\" style=\"background: #bfe1d9; padding: 0.45em 0.6em; margin: 0 0.25em; line-height: 1; border-radius: 0.35em;\">\n",
       "    the second half\n",
       "    <span style=\"font-size: 0.8em; font-weight: bold; line-height: 1; border-radius: 0.35em; vertical-align: middle; margin-left: 0.5rem\">DATE</span>\n",
       "</mark>\n",
       ". &quot;Our issue in \n",
       "<mark class=\"entity\" style=\"background: #bfe1d9; padding: 0.45em 0.6em; margin: 0 0.25em; line-height: 1; border-radius: 0.35em;\">\n",
       "    the first half\n",
       "    <span style=\"font-size: 0.8em; font-weight: bold; line-height: 1; border-radius: 0.35em; vertical-align: middle; margin-left: 0.5rem\">DATE</span>\n",
       "</mark>\n",
       " was our impatience in possession that created the transitions between both teams, but yes, happy all around. &quot;We deserved to win the game. I have never seen us get \n",
       "<mark class=\"entity\" style=\"background: #e4e7d2; padding: 0.45em 0.6em; margin: 0 0.25em; line-height: 1; border-radius: 0.35em;\">\n",
       "    two\n",
       "    <span style=\"font-size: 0.8em; font-weight: bold; line-height: 1; border-radius: 0.35em; vertical-align: middle; margin-left: 0.5rem\">CARDINAL</span>\n",
       "</mark>\n",
       " penalties in a game before, so that's a \n",
       "<mark class=\"entity\" style=\"background: #e4e7d2; padding: 0.45em 0.6em; margin: 0 0.25em; line-height: 1; border-radius: 0.35em;\">\n",
       "    first\n",
       "    <span style=\"font-size: 0.8em; font-weight: bold; line-height: 1; border-radius: 0.35em; vertical-align: middle; margin-left: 0.5rem\">ORDINAL</span>\n",
       "</mark>\n",
       "! And a good debut for \n",
       "<mark class=\"entity\" style=\"background: #aa9cfc; padding: 0.45em 0.6em; margin: 0 0.25em; line-height: 1; border-radius: 0.35em;\">\n",
       "    Mayra Ramirez\n",
       "    <span style=\"font-size: 0.8em; font-weight: bold; line-height: 1; border-radius: 0.35em; vertical-align: middle; margin-left: 0.5rem\">PERSON</span>\n",
       "</mark>\n",
       ".&quot; On penalty decisions: &quot;I haven't watched it [the \n",
       "<mark class=\"entity\" style=\"background: #e4e7d2; padding: 0.45em 0.6em; margin: 0 0.25em; line-height: 1; border-radius: 0.35em;\">\n",
       "    first\n",
       "    <span style=\"font-size: 0.8em; font-weight: bold; line-height: 1; border-radius: 0.35em; vertical-align: middle; margin-left: 0.5rem\">ORDINAL</span>\n",
       "</mark>\n",
       " \n",
       "<mark class=\"entity\" style=\"background: #e4e7d2; padding: 0.45em 0.6em; margin: 0 0.25em; line-height: 1; border-radius: 0.35em;\">\n",
       "    one\n",
       "    <span style=\"font-size: 0.8em; font-weight: bold; line-height: 1; border-radius: 0.35em; vertical-align: middle; margin-left: 0.5rem\">CARDINAL</span>\n",
       "</mark>\n",
       "]. I can't have an opinion because I didn't see it.&quot; Chelsea have \n",
       "<mark class=\"entity\" style=\"background: #e4e7d2; padding: 0.45em 0.6em; margin: 0 0.25em; line-height: 1; border-radius: 0.35em;\">\n",
       "    three\n",
       "    <span style=\"font-size: 0.8em; font-weight: bold; line-height: 1; border-radius: 0.35em; vertical-align: middle; margin-left: 0.5rem\">CARDINAL</span>\n",
       "</mark>\n",
       " consecutive home games coming up. \n",
       "<mark class=\"entity\" style=\"background: #e4e7d2; padding: 0.45em 0.6em; margin: 0 0.25em; line-height: 1; border-radius: 0.35em;\">\n",
       "    First\n",
       "    <span style=\"font-size: 0.8em; font-weight: bold; line-height: 1; border-radius: 0.35em; vertical-align: middle; margin-left: 0.5rem\">ORDINAL</span>\n",
       "</mark>\n",
       ", they host \n",
       "<mark class=\"entity\" style=\"background: #aa9cfc; padding: 0.45em 0.6em; margin: 0 0.25em; line-height: 1; border-radius: 0.35em;\">\n",
       "    Sunderland Ladies\n",
       "    <span style=\"font-size: 0.8em; font-weight: bold; line-height: 1; border-radius: 0.35em; vertical-align: middle; margin-left: 0.5rem\">PERSON</span>\n",
       "</mark>\n",
       " in \n",
       "<mark class=\"entity\" style=\"background: #7aecec; padding: 0.45em 0.6em; margin: 0 0.25em; line-height: 1; border-radius: 0.35em;\">\n",
       "    the Women's League Cup\n",
       "    <span style=\"font-size: 0.8em; font-weight: bold; line-height: 1; border-radius: 0.35em; vertical-align: middle; margin-left: 0.5rem\">ORG</span>\n",
       "</mark>\n",
       " on \n",
       "<mark class=\"entity\" style=\"background: #bfe1d9; padding: 0.45em 0.6em; margin: 0 0.25em; line-height: 1; border-radius: 0.35em;\">\n",
       "    Wednesday\n",
       "    <span style=\"font-size: 0.8em; font-weight: bold; line-height: 1; border-radius: 0.35em; vertical-align: middle; margin-left: 0.5rem\">DATE</span>\n",
       "</mark>\n",
       ". \n",
       "<mark class=\"entity\" style=\"background: #aa9cfc; padding: 0.45em 0.6em; margin: 0 0.25em; line-height: 1; border-radius: 0.35em;\">\n",
       "    Kick-off\n",
       "    <span style=\"font-size: 0.8em; font-weight: bold; line-height: 1; border-radius: 0.35em; vertical-align: middle; margin-left: 0.5rem\">PERSON</span>\n",
       "</mark>\n",
       " \n",
       "<mark class=\"entity\" style=\"background: #bfe1d9; padding: 0.45em 0.6em; margin: 0 0.25em; line-height: 1; border-radius: 0.35em;\">\n",
       "    7pm\n",
       "    <span style=\"font-size: 0.8em; font-weight: bold; line-height: 1; border-radius: 0.35em; vertical-align: middle; margin-left: 0.5rem\">TIME</span>\n",
       "</mark>\n",
       ". \n",
       "<mark class=\"entity\" style=\"background: #9cc9cc; padding: 0.45em 0.6em; margin: 0 0.25em; line-height: 1; border-radius: 0.35em;\">\n",
       "    Crystal Palace\n",
       "    <span style=\"font-size: 0.8em; font-weight: bold; line-height: 1; border-radius: 0.35em; vertical-align: middle; margin-left: 0.5rem\">FAC</span>\n",
       "</mark>\n",
       " then visit on \n",
       "<mark class=\"entity\" style=\"background: #bfe1d9; padding: 0.45em 0.6em; margin: 0 0.25em; line-height: 1; border-radius: 0.35em;\">\n",
       "    Sunday February 11\n",
       "    <span style=\"font-size: 0.8em; font-weight: bold; line-height: 1; border-radius: 0.35em; vertical-align: middle; margin-left: 0.5rem\">DATE</span>\n",
       "</mark>\n",
       " in \n",
       "<mark class=\"entity\" style=\"background: #ffeb80; padding: 0.45em 0.6em; margin: 0 0.25em; line-height: 1; border-radius: 0.35em;\">\n",
       "    the FA Cup\n",
       "    <span style=\"font-size: 0.8em; font-weight: bold; line-height: 1; border-radius: 0.35em; vertical-align: middle; margin-left: 0.5rem\">EVENT</span>\n",
       "</mark>\n",
       " at \n",
       "<mark class=\"entity\" style=\"background: #bfe1d9; padding: 0.45em 0.6em; margin: 0 0.25em; line-height: 1; border-radius: 0.35em;\">\n",
       "    2pm\n",
       "    <span style=\"font-size: 0.8em; font-weight: bold; line-height: 1; border-radius: 0.35em; vertical-align: middle; margin-left: 0.5rem\">TIME</span>\n",
       "</mark>\n",
       " before a huge fixture against title rivals \n",
       "<mark class=\"entity\" style=\"background: #feca74; padding: 0.45em 0.6em; margin: 0 0.25em; line-height: 1; border-radius: 0.35em;\">\n",
       "    Manchester City\n",
       "    <span style=\"font-size: 0.8em; font-weight: bold; line-height: 1; border-radius: 0.35em; vertical-align: middle; margin-left: 0.5rem\">GPE</span>\n",
       "</mark>\n",
       " in \n",
       "<mark class=\"entity\" style=\"background: #7aecec; padding: 0.45em 0.6em; margin: 0 0.25em; line-height: 1; border-radius: 0.35em;\">\n",
       "    the Women's Super League\n",
       "    <span style=\"font-size: 0.8em; font-weight: bold; line-height: 1; border-radius: 0.35em; vertical-align: middle; margin-left: 0.5rem\">ORG</span>\n",
       "</mark>\n",
       " on \n",
       "<mark class=\"entity\" style=\"background: #bfe1d9; padding: 0.45em 0.6em; margin: 0 0.25em; line-height: 1; border-radius: 0.35em;\">\n",
       "    Friday February 16\n",
       "    <span style=\"font-size: 0.8em; font-weight: bold; line-height: 1; border-radius: 0.35em; vertical-align: middle; margin-left: 0.5rem\">DATE</span>\n",
       "</mark>\n",
       ". \n",
       "<mark class=\"entity\" style=\"background: #aa9cfc; padding: 0.45em 0.6em; margin: 0 0.25em; line-height: 1; border-radius: 0.35em;\">\n",
       "    Kick-off\n",
       "    <span style=\"font-size: 0.8em; font-weight: bold; line-height: 1; border-radius: 0.35em; vertical-align: middle; margin-left: 0.5rem\">PERSON</span>\n",
       "</mark>\n",
       " \n",
       "<mark class=\"entity\" style=\"background: #e4e7d2; padding: 0.45em 0.6em; margin: 0 0.25em; line-height: 1; border-radius: 0.35em;\">\n",
       "    7.15pm\n",
       "    <span style=\"font-size: 0.8em; font-weight: bold; line-height: 1; border-radius: 0.35em; vertical-align: middle; margin-left: 0.5rem\">CARDINAL</span>\n",
       "</mark>\n",
       ". Everton visit \n",
       "<mark class=\"entity\" style=\"background: #7aecec; padding: 0.45em 0.6em; margin: 0 0.25em; line-height: 1; border-radius: 0.35em;\">\n",
       "    Nottingham Forest Ladies\n",
       "    <span style=\"font-size: 0.8em; font-weight: bold; line-height: 1; border-radius: 0.35em; vertical-align: middle; margin-left: 0.5rem\">ORG</span>\n",
       "</mark>\n",
       " in \n",
       "<mark class=\"entity\" style=\"background: #ffeb80; padding: 0.45em 0.6em; margin: 0 0.25em; line-height: 1; border-radius: 0.35em;\">\n",
       "    the FA Cup\n",
       "    <span style=\"font-size: 0.8em; font-weight: bold; line-height: 1; border-radius: 0.35em; vertical-align: middle; margin-left: 0.5rem\">EVENT</span>\n",
       "</mark>\n",
       " on \n",
       "<mark class=\"entity\" style=\"background: #bfe1d9; padding: 0.45em 0.6em; margin: 0 0.25em; line-height: 1; border-radius: 0.35em;\">\n",
       "    Sunday\n",
       "    <span style=\"font-size: 0.8em; font-weight: bold; line-height: 1; border-radius: 0.35em; vertical-align: middle; margin-left: 0.5rem\">DATE</span>\n",
       "</mark>\n",
       ". \n",
       "<mark class=\"entity\" style=\"background: #aa9cfc; padding: 0.45em 0.6em; margin: 0 0.25em; line-height: 1; border-radius: 0.35em;\">\n",
       "    Kick-off\n",
       "    <span style=\"font-size: 0.8em; font-weight: bold; line-height: 1; border-radius: 0.35em; vertical-align: middle; margin-left: 0.5rem\">PERSON</span>\n",
       "</mark>\n",
       " \n",
       "<mark class=\"entity\" style=\"background: #bfe1d9; padding: 0.45em 0.6em; margin: 0 0.25em; line-height: 1; border-radius: 0.35em;\">\n",
       "    4pm\n",
       "    <span style=\"font-size: 0.8em; font-weight: bold; line-height: 1; border-radius: 0.35em; vertical-align: middle; margin-left: 0.5rem\">TIME</span>\n",
       "</mark>\n",
       ". They return to \n",
       "<mark class=\"entity\" style=\"background: #7aecec; padding: 0.45em 0.6em; margin: 0 0.25em; line-height: 1; border-radius: 0.35em;\">\n",
       "    WSL\n",
       "    <span style=\"font-size: 0.8em; font-weight: bold; line-height: 1; border-radius: 0.35em; vertical-align: middle; margin-left: 0.5rem\">ORG</span>\n",
       "</mark>\n",
       " action on \n",
       "<mark class=\"entity\" style=\"background: #bfe1d9; padding: 0.45em 0.6em; margin: 0 0.25em; line-height: 1; border-radius: 0.35em;\">\n",
       "    Sunday February 18\n",
       "    <span style=\"font-size: 0.8em; font-weight: bold; line-height: 1; border-radius: 0.35em; vertical-align: middle; margin-left: 0.5rem\">DATE</span>\n",
       "</mark>\n",
       " at home to \n",
       "<mark class=\"entity\" style=\"background: #feca74; padding: 0.45em 0.6em; margin: 0 0.25em; line-height: 1; border-radius: 0.35em;\">\n",
       "    West Ham\n",
       "    <span style=\"font-size: 0.8em; font-weight: bold; line-height: 1; border-radius: 0.35em; vertical-align: middle; margin-left: 0.5rem\">GPE</span>\n",
       "</mark>\n",
       ". \n",
       "<mark class=\"entity\" style=\"background: #aa9cfc; padding: 0.45em 0.6em; margin: 0 0.25em; line-height: 1; border-radius: 0.35em;\">\n",
       "    Kick-off\n",
       "    <span style=\"font-size: 0.8em; font-weight: bold; line-height: 1; border-radius: 0.35em; vertical-align: middle; margin-left: 0.5rem\">PERSON</span>\n",
       "</mark>\n",
       " \n",
       "<mark class=\"entity\" style=\"background: #bfe1d9; padding: 0.45em 0.6em; margin: 0 0.25em; line-height: 1; border-radius: 0.35em;\">\n",
       "    1pm\n",
       "    <span style=\"font-size: 0.8em; font-weight: bold; line-height: 1; border-radius: 0.35em; vertical-align: middle; margin-left: 0.5rem\">TIME</span>\n",
       "</mark>\n",
       ". Correctly predict \n",
       "<mark class=\"entity\" style=\"background: #e4e7d2; padding: 0.45em 0.6em; margin: 0 0.25em; line-height: 1; border-radius: 0.35em;\">\n",
       "    six\n",
       "    <span style=\"font-size: 0.8em; font-weight: bold; line-height: 1; border-radius: 0.35em; vertical-align: middle; margin-left: 0.5rem\">CARDINAL</span>\n",
       "</mark>\n",
       " scorelines to win £\n",
       "<mark class=\"entity\" style=\"background: #e4e7d2; padding: 0.45em 0.6em; margin: 0 0.25em; line-height: 1; border-radius: 0.35em;\">\n",
       "    250,000\n",
       "    <span style=\"font-size: 0.8em; font-weight: bold; line-height: 1; border-radius: 0.35em; vertical-align: middle; margin-left: 0.5rem\">MONEY</span>\n",
       "</mark>\n",
       " for free with \n",
       "<mark class=\"entity\" style=\"background: #7aecec; padding: 0.45em 0.6em; margin: 0 0.25em; line-height: 1; border-radius: 0.35em;\">\n",
       "    Super 6\n",
       "    <span style=\"font-size: 0.8em; font-weight: bold; line-height: 1; border-radius: 0.35em; vertical-align: middle; margin-left: 0.5rem\">ORG</span>\n",
       "</mark>\n",
       ". Entries by \n",
       "<mark class=\"entity\" style=\"background: #bfe1d9; padding: 0.45em 0.6em; margin: 0 0.25em; line-height: 1; border-radius: 0.35em;\">\n",
       "    3pm Saturday\n",
       "    <span style=\"font-size: 0.8em; font-weight: bold; line-height: 1; border-radius: 0.35em; vertical-align: middle; margin-left: 0.5rem\">TIME</span>\n",
       "</mark>\n",
       ".</div></span>"
      ],
      "text/plain": [
       "<IPython.core.display.HTML object>"
      ]
     },
     "metadata": {},
     "output_type": "display_data"
    }
   ],
   "source": [
    "skweak.utils.display_entities(docs[1], \"spacy\")"
   ]
  },
  {
   "cell_type": "code",
   "execution_count": 207,
   "id": "cd05be6a-9124-4e6a-b5c2-0aa02de15934",
   "metadata": {
    "execution": {
     "iopub.execute_input": "2024-05-22T21:34:06.101488Z",
     "iopub.status.busy": "2024-05-22T21:34:06.100973Z",
     "iopub.status.idle": "2024-05-22T21:34:06.229322Z",
     "shell.execute_reply": "2024-05-22T21:34:06.228963Z",
     "shell.execute_reply.started": "2024-05-22T21:34:06.101455Z"
    }
   },
   "outputs": [],
   "source": [
    "record = modified_records[0]\n",
    "doc = nlp(record.fields[\"text\"])"
   ]
  },
  {
   "cell_type": "code",
   "execution_count": 211,
   "id": "5c4b75ca-9bc2-47a2-ac82-f1288b9a0499",
   "metadata": {
    "execution": {
     "iopub.execute_input": "2024-05-22T21:35:06.284454Z",
     "iopub.status.busy": "2024-05-22T21:35:06.284129Z",
     "iopub.status.idle": "2024-05-22T21:35:07.121460Z",
     "shell.execute_reply": "2024-05-22T21:35:07.120432Z",
     "shell.execute_reply.started": "2024-05-22T21:35:06.284431Z"
    }
   },
   "outputs": [],
   "source": [
    "doc2 = unified_model(combined(doc))"
   ]
  },
  {
   "cell_type": "code",
   "execution_count": 240,
   "id": "a4ea10cd-d56b-4645-b917-89275505a9a9",
   "metadata": {
    "execution": {
     "iopub.execute_input": "2024-05-22T21:45:06.041114Z",
     "iopub.status.busy": "2024-05-22T21:45:06.040565Z",
     "iopub.status.idle": "2024-05-22T21:45:06.176070Z",
     "shell.execute_reply": "2024-05-22T21:45:06.175277Z",
     "shell.execute_reply.started": "2024-05-22T21:45:06.041090Z"
    }
   },
   "outputs": [
    {
     "data": {
      "text/html": [
       "<span class=\"tex2jax_ignore\"><div class=\"entities\" style=\"line-height: 2.5; direction: ltr\">Chelsea \n",
       "<mark class=\"entity\" style=\"background: #ddd; padding: 0.45em 0.6em; margin: 0 0.25em; line-height: 1; border-radius: 0.35em;\">\n",
       "    3-0 Everton:\n",
       "    <span style=\"font-size: 0.8em; font-weight: bold; line-height: 1; border-radius: 0.35em; vertical-align: middle; margin-left: 0.5rem\">Match</span>\n",
       "</mark>\n",
       " \n",
       "<mark class=\"entity\" style=\"background: #ddd; padding: 0.45em 0.6em; margin: 0 0.25em; line-height: 1; border-radius: 0.35em;\">\n",
       "    Guro Reiten scores two penalties in controversial Women's Super League victory\n",
       "Chelsea regained top spot in the Women's Super League thanks to two controversial penalties scored by Guro Reiten and a clinical finish from Erin Cuthbert in a 3-0 victory over Everton.\n",
       "    <span style=\"font-size: 0.8em; font-weight: bold; line-height: 1; border-radius: 0.35em; vertical-align: middle; margin-left: 0.5rem\">Match</span>\n",
       "</mark>\n",
       " Manchester City had temporarily moved above the Blues after beating Leicester earlier on Sunday, but Emma Hayes' side were ruthless as Mayra Ramirez made her first start since joining the club for a British-record fee of £385k. Everton were harshly undone in the first half when Clare Wheeler was punished \n",
       "<mark class=\"entity\" style=\"background: #ddd; padding: 0.45em 0.6em; margin: 0 0.25em; line-height: 1; border-radius: 0.35em;\">\n",
       "    for winning the ball ahead of Johanna Rytting Kaneryd in the penalty area\n",
       "    <span style=\"font-size: 0.8em; font-weight: bold; line-height: 1; border-radius: 0.35em; vertical-align: middle; margin-left: 0.5rem\">Match</span>\n",
       "</mark>\n",
       ". Reiten stepped up and found the bottom left corner beyond the reach of goalkeeper Courtney Brosnan. Then, with less than 20 minutes to play, Wheeler was again penalised after Ramirez went down in the box and Reiten made no mistake again. Everton manager Brian Sorensen was sent off for dissent moments before Cuthbert volleyed in the third to move Chelsea three points clear. Reiten had the first Chelsea chance from a smart Ramirez cross but was unable to beat Brosnan, who soon parried \n",
       "<mark class=\"entity\" style=\"background: #ddd; padding: 0.45em 0.6em; margin: 0 0.25em; line-height: 1; border-radius: 0.35em;\">\n",
       "    a delivery into the box against the upright with Wheeler clearing off the line\n",
       "    <span style=\"font-size: 0.8em; font-weight: bold; line-height: 1; border-radius: 0.35em; vertical-align: middle; margin-left: 0.5rem\">Match</span>\n",
       "</mark>\n",
       ". Wheeler was then punished for her good work in the Everton box as Reiten took full advantage from the penalty spot. \n",
       "<mark class=\"entity\" style=\"background: #ddd; padding: 0.45em 0.6em; margin: 0 0.25em; line-height: 1; border-radius: 0.35em;\">\n",
       "    Women's Super League table Women's Super League fixtures Get Sky Sports Stream the WSL and more with NOW Please use Chrome browser for a more accessible video player  \n",
       "    <span style=\"font-size: 0.8em; font-weight: bold; line-height: 1; border-radius: 0.35em; vertical-align: middle; margin-left: 0.5rem\">Match</span>\n",
       "</mark>\n",
       "The visitors should have been level when Rikke Madsen's perfect cross was put over from close range by Aurora Galli. Chelsea were not at their best but ramped up the pressure around the hour mark when Johanna Rytting Kaneryd blazed over before Lauren James shot narrowly wide. Please use Chrome browser for a more accessible video player  Eventually, it paid off when Ramirez went to ground in the box following the slightest of touches from Wheeler - and Reiten tucked home. Sorensen showed his frustrations late on which were compounded by a lovely Chelsea move that Cuthbert rounded off with a clinical volley. Everton assistant manager Stephen Neligan told Sky Sports: &quot;Scoreline aside, there are lots of positives we can take \n",
       "<mark class=\"entity\" style=\"background: #ddd; padding: 0.45em 0.6em; margin: 0 0.25em; line-height: 1; border-radius: 0.35em;\">\n",
       "    from the performance\n",
       "    <span style=\"font-size: 0.8em; font-weight: bold; line-height: 1; border-radius: 0.35em; vertical-align: middle; margin-left: 0.5rem\">Match</span>\n",
       "</mark>\n",
       ". There are still a lot of things we can improve on. &quot;We came in at half-time and knew we had the wind behind us in the second half so were optimistic about what we could have got out of it. The first 15, 20 minutes of the second half we were happy and then the quality of Chelsea started to hurt some of our mistakes.&quot; On penalty decisions: &quot;It's hard to see from where I was standing. I've seen the replay of the second one which could have gone either way. You could say both of them were hard done by but it is what it is. \n",
       "<mark class=\"entity\" style=\"background: #ddd; padding: 0.45em 0.6em; margin: 0 0.25em; line-height: 1; border-radius: 0.35em;\">\n",
       "    &quot;The game has ultimately been decided on decisions like that\n",
       "    <span style=\"font-size: 0.8em; font-weight: bold; line-height: 1; border-radius: 0.35em; vertical-align: middle; margin-left: 0.5rem\">Match</span>\n",
       "</mark>\n",
       ", that could go either way.&quot; On Brian Sorensen's red card: &quot;I have no idea, I stand up the top so couldn't see down below to what was happening.&quot; Please use Chrome browser for a more accessible video player  Chelsea boss Emma Hayes told Sky Sports: &quot;We absolutely had to show patience \n",
       "<mark class=\"entity\" style=\"background: #ddd; padding: 0.45em 0.6em; margin: 0 0.25em; line-height: 1; border-radius: 0.35em;\">\n",
       "    in that game\n",
       "    <span style=\"font-size: 0.8em; font-weight: bold; line-height: 1; border-radius: 0.35em; vertical-align: middle; margin-left: 0.5rem\">Match</span>\n",
       "</mark>\n",
       ", and I didn't think we had enough of it in the first half. We had so much energy and the players just wanted to do everything at 100 miles per hour and it didn't help us. &quot;I said to them 'Calm down! We have \n",
       "<mark class=\"entity\" style=\"background: #ddd; padding: 0.45em 0.6em; margin: 0 0.25em; line-height: 1; border-radius: 0.35em;\">\n",
       "    the whole game to play\n",
       "    <span style=\"font-size: 0.8em; font-weight: bold; line-height: 1; border-radius: 0.35em; vertical-align: middle; margin-left: 0.5rem\">Match</span>\n",
       "</mark>\n",
       ".' \n",
       "<mark class=\"entity\" style=\"background: #ddd; padding: 0.45em 0.6em; margin: 0 0.25em; line-height: 1; border-radius: 0.35em;\">\n",
       "    I can't fault the players though, they want to win\n",
       "    <span style=\"font-size: 0.8em; font-weight: bold; line-height: 1; border-radius: 0.35em; vertical-align: middle; margin-left: 0.5rem\">Match</span>\n",
       "</mark>\n",
       ", they want to play well, I thought our quality did show through in the second half. &quot;Our issue in the first half was our impatience in possession that created the transitions between both teams, but yes, happy all around. \n",
       "<mark class=\"entity\" style=\"background: #ddd; padding: 0.45em 0.6em; margin: 0 0.25em; line-height: 1; border-radius: 0.35em;\">\n",
       "    &quot;We deserved to win the game.\n",
       "    <span style=\"font-size: 0.8em; font-weight: bold; line-height: 1; border-radius: 0.35em; vertical-align: middle; margin-left: 0.5rem\">Match</span>\n",
       "</mark>\n",
       " I have never seen us get two penalties \n",
       "<mark class=\"entity\" style=\"background: #ddd; padding: 0.45em 0.6em; margin: 0 0.25em; line-height: 1; border-radius: 0.35em;\">\n",
       "    in a game before\n",
       "    <span style=\"font-size: 0.8em; font-weight: bold; line-height: 1; border-radius: 0.35em; vertical-align: middle; margin-left: 0.5rem\">Match</span>\n",
       "</mark>\n",
       ", so that's a first! And a good debut for Mayra Ramirez.&quot; On penalty decisions: &quot;I haven't watched it [the first one]. I can't have an opinion because I didn't see it.&quot; \n",
       "<mark class=\"entity\" style=\"background: #ddd; padding: 0.45em 0.6em; margin: 0 0.25em; line-height: 1; border-radius: 0.35em;\">\n",
       "    Chelsea have three consecutive home games coming up.\n",
       "    <span style=\"font-size: 0.8em; font-weight: bold; line-height: 1; border-radius: 0.35em; vertical-align: middle; margin-left: 0.5rem\">Match</span>\n",
       "</mark>\n",
       " First, they host Sunderland Ladies in the Women's League Cup on Wednesday. Kick-off 7pm. Crystal Palace then visit on Sunday February 11 in the FA Cup at 2pm \n",
       "<mark class=\"entity\" style=\"background: #ddd; padding: 0.45em 0.6em; margin: 0 0.25em; line-height: 1; border-radius: 0.35em;\">\n",
       "    before a huge fixture against title rivals Manchester City in the Women's Super League on Friday February 16\n",
       "    <span style=\"font-size: 0.8em; font-weight: bold; line-height: 1; border-radius: 0.35em; vertical-align: middle; margin-left: 0.5rem\">Match</span>\n",
       "</mark>\n",
       ". Kick-off 7.15pm. Everton visit Nottingham Forest Ladies in the FA Cup on Sunday. Kick-off 4pm. They return to WSL action on Sunday February 18 at home to West Ham. Kick-off 1pm. \n",
       "<mark class=\"entity\" style=\"background: #ddd; padding: 0.45em 0.6em; margin: 0 0.25em; line-height: 1; border-radius: 0.35em;\">\n",
       "    Correctly predict six scorelines to win £250,000 for free with Super 6.\n",
       "    <span style=\"font-size: 0.8em; font-weight: bold; line-height: 1; border-radius: 0.35em; vertical-align: middle; margin-left: 0.5rem\">Match</span>\n",
       "</mark>\n",
       " Entries by 3pm Saturday.</div></span>"
      ],
      "text/plain": [
       "<IPython.core.display.HTML object>"
      ]
     },
     "metadata": {},
     "output_type": "display_data"
    }
   ],
   "source": [
    "skweak.utils.display_entities(unified_model(docs[1]), \"hmm\")"
   ]
  },
  {
   "cell_type": "code",
   "execution_count": null,
   "id": "0d4c64be-1e88-49ba-96c9-b4b0cce59b1c",
   "metadata": {},
   "outputs": [],
   "source": []
  },
  {
   "cell_type": "markdown",
   "id": "f511c52f-bad5-44b2-8a64-34537f414909",
   "metadata": {
    "jp-MarkdownHeadingCollapsed": true
   },
   "source": [
    "## 3.8 Compute metrics\n"
   ]
  },
  {
   "cell_type": "code",
   "execution_count": 289,
   "id": "a11fed69-c825-4295-8a8f-baae493f5fde",
   "metadata": {
    "execution": {
     "iopub.execute_input": "2024-05-16T15:31:35.583826Z",
     "iopub.status.busy": "2024-05-16T15:31:35.582846Z",
     "iopub.status.idle": "2024-05-16T15:31:35.593789Z",
     "shell.execute_reply": "2024-05-16T15:31:35.592623Z",
     "shell.execute_reply.started": "2024-05-16T15:31:35.583770Z"
    }
   },
   "outputs": [],
   "source": [
    "from argilla.client.feedback.metrics.utils import get_responses_and_suggestions_per_user"
   ]
  },
  {
   "cell_type": "code",
   "execution_count": 291,
   "id": "8d248f9b-000e-46d1-8559-3464c493ecf5",
   "metadata": {
    "execution": {
     "iopub.execute_input": "2024-05-16T15:32:47.303222Z",
     "iopub.status.busy": "2024-05-16T15:32:47.302640Z",
     "iopub.status.idle": "2024-05-16T15:32:47.569175Z",
     "shell.execute_reply": "2024-05-16T15:32:47.568855Z",
     "shell.execute_reply.started": "2024-05-16T15:32:47.303192Z"
    }
   },
   "outputs": [
    {
     "name": "stderr",
     "output_type": "stream",
     "text": [
      "Extracting responses and suggestions per user: 100%|███████████████████████████████████████████████████████████████████████████████████████████████████| 100/100 [00:00<00:00, 861253.39it/s]\n"
     ]
    }
   ],
   "source": [
    "remote_dataset = rg.FeedbackDataset.from_argilla(\n",
    "    name=\"ner-lvl2\", workspace=\"admin\", with_vectors=\"all\"\n",
    ")\n",
    "\n",
    "# responses_and_suggestions_per_user = get_responses_and_suggestions_per_user(dataset=remote_dataset, question_name=\"entities\")"
   ]
  },
  {
   "cell_type": "code",
   "execution_count": 298,
   "id": "8f4df0ef-33dc-4159-a228-d5b0d755060d",
   "metadata": {
    "execution": {
     "iopub.execute_input": "2024-05-16T15:44:10.499640Z",
     "iopub.status.busy": "2024-05-16T15:44:10.498769Z",
     "iopub.status.idle": "2024-05-16T15:44:10.669614Z",
     "shell.execute_reply": "2024-05-16T15:44:10.669299Z",
     "shell.execute_reply.started": "2024-05-16T15:44:10.499602Z"
    }
   },
   "outputs": [],
   "source": [
    "hf_dataset = remote_dataset.format_as(\"datasets\")"
   ]
  },
  {
   "cell_type": "code",
   "execution_count": 300,
   "id": "99f0a016-d3f4-4265-879a-16e21cec419c",
   "metadata": {
    "execution": {
     "iopub.execute_input": "2024-05-16T15:44:29.225376Z",
     "iopub.status.busy": "2024-05-16T15:44:29.224782Z",
     "iopub.status.idle": "2024-05-16T15:44:29.238035Z",
     "shell.execute_reply": "2024-05-16T15:44:29.236810Z",
     "shell.execute_reply.started": "2024-05-16T15:44:29.225330Z"
    }
   },
   "outputs": [
    {
     "data": {
      "text/plain": [
       "{'text': 'A Russian diver has found the bodies of three of the 118 sailors who were killed when the nuclear submarine Kursk sank in the Barents Sea .',\n",
       " 'entities': [{'user_id': 'fe7c1b6a-5d30-41d5-bb56-6675cfbad12f',\n",
       "   'value': {'start': [2, 40, 53, 108, 122],\n",
       "    'end': [9, 45, 56, 113, 137],\n",
       "    'label': ['NORP', 'CARDINAL', 'CARDINAL', 'PRODUCT', 'LOC'],\n",
       "    'text': ['Russian', 'three', '118', 'Kursk', 'the Barents Sea']},\n",
       "   'status': 'submitted'}],\n",
       " 'entities-suggestion': {'start': [2, 40, 53, 108, 122],\n",
       "  'end': [9, 45, 56, 113, 137],\n",
       "  'label': ['NORP', 'CARDINAL', 'CARDINAL', 'PRODUCT', 'LOC'],\n",
       "  'text': ['Russian', 'three', '118', 'Kursk', 'the Barents Sea'],\n",
       "  'score': [None, None, None, None, None]},\n",
       " 'entities-suggestion-metadata': {'type': None, 'score': None, 'agent': None},\n",
       " 'external_id': None,\n",
       " 'metadata': '{}'}"
      ]
     },
     "execution_count": 300,
     "metadata": {},
     "output_type": "execute_result"
    }
   ],
   "source": [
    "hf_dataset[0]"
   ]
  },
  {
   "cell_type": "code",
   "execution_count": null,
   "id": "eda94ac0-dc29-4c2d-95c0-efd94da4f59d",
   "metadata": {},
   "outputs": [],
   "source": [
    "from spacy.tokens import Doc\n",
    "from spacy.training import Example\n",
    "\n",
    "examples: List[Example] = []\n",
    "for row in hf_dataset:\n",
    "    text = row[\"text\"]\n",
    "    gold = row[\"entities\"]\n",
    "    pred = row[\"entities-suggestion\"]\n",
    "\n",
    "    # generate Doc with Doc.set_ents from a list of spans for the predicted suggestions\n",
    "    # ref: https://spacy.io/api/doc#set_ents\n",
    "\n",
    "    # generate Doc with Doc.set_ents from a list of spans for the gold responses\n",
    "\n",
    "    example = Example(predicted, reference)\n",
    "    examples.append(example)"
   ]
  },
  {
   "cell_type": "code",
   "execution_count": 296,
   "id": "f65bc9be-7fa7-4419-9317-e121d9f8bdd9",
   "metadata": {
    "execution": {
     "iopub.execute_input": "2024-05-16T15:40:46.812719Z",
     "iopub.status.busy": "2024-05-16T15:40:46.812088Z",
     "iopub.status.idle": "2024-05-16T15:40:46.917245Z",
     "shell.execute_reply": "2024-05-16T15:40:46.916877Z",
     "shell.execute_reply.started": "2024-05-16T15:40:46.812684Z"
    }
   },
   "outputs": [],
   "source": [
    "from spacy.scorer import Scorer\n",
    "\n",
    "scorer = Scorer()"
   ]
  },
  {
   "cell_type": "code",
   "execution_count": null,
   "id": "a3d30309-32d9-4ca3-a3bf-9e0e24cb8acb",
   "metadata": {},
   "outputs": [],
   "source": [
    "scores = scorer.score(examples)"
   ]
  },
  {
   "cell_type": "markdown",
   "id": "63d968b7-b17c-4dd5-97f5-522a9b0a6cf7",
   "metadata": {
    "jp-MarkdownHeadingCollapsed": true
   },
   "source": [
    "## 3.10 Push to Huggingface\n"
   ]
  },
  {
   "cell_type": "code",
   "execution_count": 155,
   "id": "94eb2e74-9b5a-49e1-871b-5c9e0c7602bb",
   "metadata": {
    "execution": {
     "iopub.execute_input": "2024-05-15T09:10:20.970261Z",
     "iopub.status.busy": "2024-05-15T09:10:20.969003Z",
     "iopub.status.idle": "2024-05-15T09:10:24.384816Z",
     "shell.execute_reply": "2024-05-15T09:10:24.383729Z",
     "shell.execute_reply.started": "2024-05-15T09:10:20.970207Z"
    }
   },
   "outputs": [
    {
     "name": "stderr",
     "output_type": "stream",
     "text": [
      "Uploading the dataset shards:   0%|                                                                                                                                    | 0/1 [00:00<?, ?it/s]\n",
      "Creating parquet from Arrow format: 100%|█████████████████████████████████████████████████████████████████████████████████████████████████████████████████████| 9/9 [00:00<00:00, 411.00ba/s]\u001b[A\n",
      "Uploading the dataset shards: 100%|████████████████████████████████████████████████████████████████████████████████████████████████████████████████████████████| 1/1 [00:00<00:00,  2.73it/s]\n",
      "README.md: 100%|████████████████████████████████████████████████████████████████████████████████████████████████████████████████████████████████████████| 10.0k/10.0k [00:00<00:00, 8.44MB/s]\n"
     ]
    }
   ],
   "source": [
    "dataset.push_to_huggingface(repo_id=\"louisguitton/dev-ner-ontonotes\", split=\"validation\")"
   ]
  }
 ],
 "metadata": {
  "kernelspec": {
   "display_name": "Python 3 (ipykernel)",
   "language": "python",
   "name": "python3"
  },
  "language_info": {
   "codemirror_mode": {
    "name": "ipython",
    "version": 3
   },
   "file_extension": ".py",
   "mimetype": "text/x-python",
   "name": "python",
   "nbconvert_exporter": "python",
   "pygments_lexer": "ipython3",
   "version": "3.11.4"
  }
 },
 "nbformat": 4,
 "nbformat_minor": 5
}
