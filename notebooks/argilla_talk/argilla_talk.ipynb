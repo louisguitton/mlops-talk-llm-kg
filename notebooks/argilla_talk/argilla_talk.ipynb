{
 "cells": [
  {
   "cell_type": "markdown",
   "id": "fda2aa01-d4bb-4480-89d0-0606b15251b6",
   "metadata": {},
   "source": [
    "\n",
    "Datasets:\n",
    "- with LOAD_DATASETS=full, argilla loads `gutenberg_spacy-ner-monitoring` for Token Classification with default spaCy predictions ; which is a fork of https://huggingface.co/datasets/gutenberg_time\n",
    "- default NER dataset in papers is CoNLL-2003 https://huggingface.co/datasets/conll2003\n",
    "- https://huggingface.co/datasets/DFKI-SLT/few-nerd\n",
    "- https://huggingface.co/datasets/tner/ontonotes5\n",
    "- Look for argilla compatible NER datasets with this search: https://huggingface.co/datasets?task_categories=task_categories:token-classification&sort=trending&search=argilla\n",
    "\n",
    "\n",
    "- ✨ Provide suggested spans with a confidence score, so your team doesn't need to start from scratch.\n"
   ]
  },
  {
   "cell_type": "code",
   "execution_count": 140,
   "id": "d3dfbbd0-6b7a-4083-bfd8-54cb1384b592",
   "metadata": {
    "execution": {
     "iopub.execute_input": "2024-05-15T08:28:15.910433Z",
     "iopub.status.busy": "2024-05-15T08:28:15.909556Z",
     "iopub.status.idle": "2024-05-15T08:28:15.932197Z",
     "shell.execute_reply": "2024-05-15T08:28:15.931599Z",
     "shell.execute_reply.started": "2024-05-15T08:28:15.910376Z"
    }
   },
   "outputs": [],
   "source": [
    "from typing import List, Tuple, Union, Dict\n",
    "import types"
   ]
  },
  {
   "cell_type": "code",
   "execution_count": 108,
   "id": "12a0f283-e913-4961-a262-c6f2998c143f",
   "metadata": {
    "execution": {
     "iopub.execute_input": "2024-05-14T17:12:10.848171Z",
     "iopub.status.busy": "2024-05-14T17:12:10.845730Z",
     "iopub.status.idle": "2024-05-14T17:12:10.912192Z",
     "shell.execute_reply": "2024-05-14T17:12:10.911702Z",
     "shell.execute_reply.started": "2024-05-14T17:12:10.847922Z"
    }
   },
   "outputs": [
    {
     "name": "stderr",
     "output_type": "stream",
     "text": [
      "/Users/louis.guitton/workspace/mlops-talk-llm-kg/venv/lib/python3.11/site-packages/argilla/client/client.py:178: UserWarning: No workspace configuration was detected. To work with Argilla datasets, specify a valid workspace name on `rg.init` or set it up through the `rg.set_workspace` function.\n",
      "  warnings.warn(\n"
     ]
    }
   ],
   "source": [
    "import argilla as rg\n",
    "\n",
    "rg.init(api_url=\"http://localhost:6900\", api_key=\"admin.apikey\")"
   ]
  },
  {
   "cell_type": "markdown",
   "id": "577a9044-dc86-4939-a588-4a6c323dbc33",
   "metadata": {},
   "source": [
    "# Load CoNLL2003 research dataset into Argilla"
   ]
  },
  {
   "cell_type": "code",
   "execution_count": 144,
   "id": "306bbd22-594a-49cf-b0f0-bcc3e967e1c6",
   "metadata": {
    "execution": {
     "iopub.execute_input": "2024-05-15T08:29:03.255482Z",
     "iopub.status.busy": "2024-05-15T08:29:03.254623Z",
     "iopub.status.idle": "2024-05-15T08:29:03.267480Z",
     "shell.execute_reply": "2024-05-15T08:29:03.264624Z",
     "shell.execute_reply.started": "2024-05-15T08:29:03.255429Z"
    }
   },
   "outputs": [],
   "source": [
    "def template_for_token_classification(\n",
    "    labels: Dict[str, str] = {\"PER\": \"Person\", \"ORG\": \"Organization\", \"LOC\": \"Location\", \"MISC\": \"Other\"}\n",
    ") -> rg.FeedbackDataset:\n",
    "    \"\"\"Create a dataset with a span question for NER or POS tagging or information retrieval tasks.\n",
    "    \n",
    "    There is no pre-defined template in argilla yet, so we define a custom dataset instead.\n",
    "    The high-level API of this method is TBD.\n",
    "    ref: https://docs.argilla.io/en/latest/practical_guides/create_update_dataset/create_dataset.html#define-questions + click on Span\n",
    "    \"\"\"\n",
    "    dataset = rg.FeedbackDataset(\n",
    "        fields=[rg.TextField(name=\"text\")],\n",
    "        questions=[\n",
    "            rg.SpanQuestion(\n",
    "                name=\"entities\",\n",
    "                title=\"Highlight the entities in the text:\",\n",
    "                labels=labels,\n",
    "                field=\"text\", # the field where you want to do the span annotation\n",
    "                required=True,\n",
    "                allow_overlapping=True\n",
    "            )\n",
    "        ]\n",
    "    )\n",
    "    return dataset"
   ]
  },
  {
   "cell_type": "code",
   "execution_count": 251,
   "id": "5fdd877c-deb3-4dbc-a261-2f065a46b292",
   "metadata": {
    "execution": {
     "iopub.execute_input": "2024-05-15T14:01:09.949668Z",
     "iopub.status.busy": "2024-05-15T14:01:09.947633Z",
     "iopub.status.idle": "2024-05-15T14:01:09.961711Z",
     "shell.execute_reply": "2024-05-15T14:01:09.961180Z",
     "shell.execute_reply.started": "2024-05-15T14:01:09.949589Z"
    }
   },
   "outputs": [
    {
     "name": "stderr",
     "output_type": "stream",
     "text": [
      "/Users/louis.guitton/workspace/mlops-talk-llm-kg/venv/lib/python3.11/site-packages/argilla/client/feedback/schemas/questions.py:416: UserWarning: `visible_labels=20` is greater than the total number of labels (4), so it will be set to `4`.\n",
      "  warnings.warn(msg, UserWarning, stacklevel=1)\n"
     ]
    }
   ],
   "source": [
    "dataset = template_for_token_classification()"
   ]
  },
  {
   "cell_type": "code",
   "execution_count": 111,
   "id": "96d79a91-5bb0-4728-ae79-1192d1233c06",
   "metadata": {
    "execution": {
     "iopub.execute_input": "2024-05-14T17:12:23.169249Z",
     "iopub.status.busy": "2024-05-14T17:12:23.168138Z",
     "iopub.status.idle": "2024-05-14T17:12:23.178768Z",
     "shell.execute_reply": "2024-05-14T17:12:23.177731Z",
     "shell.execute_reply.started": "2024-05-14T17:12:23.169199Z"
    }
   },
   "outputs": [],
   "source": [
    "from datasets import load_dataset, Features, Sequence, ClassLabel, Value, DatasetDict\n",
    "\n",
    "def load_conll():\n",
    "    classmap = ClassLabel(names=['O', 'B-PER', 'I-PER', 'B-ORG', 'I-ORG', 'B-LOC', 'I-LOC', 'B-MISC', 'I-MISC'])\n",
    "    return (\n",
    "        load_dataset(\"conll2003\")\n",
    "        .map(lambda sample: {\"parsed_ner_tags\": classmap.int2str(sample[\"ner_tags\"])})\n",
    "    )"
   ]
  },
  {
   "cell_type": "code",
   "execution_count": 112,
   "id": "dd43b4a8-423e-4aef-a2c3-2f337ba88f07",
   "metadata": {
    "execution": {
     "iopub.execute_input": "2024-05-14T17:12:23.967349Z",
     "iopub.status.busy": "2024-05-14T17:12:23.966589Z",
     "iopub.status.idle": "2024-05-14T17:12:27.391967Z",
     "shell.execute_reply": "2024-05-14T17:12:27.391397Z",
     "shell.execute_reply.started": "2024-05-14T17:12:23.967305Z"
    }
   },
   "outputs": [],
   "source": [
    "conll2003 = load_conll()"
   ]
  },
  {
   "cell_type": "code",
   "execution_count": 135,
   "id": "510ba8a8-ce17-4695-bdc5-76840453d465",
   "metadata": {
    "execution": {
     "iopub.execute_input": "2024-05-15T08:22:58.162822Z",
     "iopub.status.busy": "2024-05-15T08:22:58.162206Z",
     "iopub.status.idle": "2024-05-15T08:22:58.177165Z",
     "shell.execute_reply": "2024-05-15T08:22:58.176254Z",
     "shell.execute_reply.started": "2024-05-15T08:22:58.162791Z"
    }
   },
   "outputs": [],
   "source": [
    "from spacy.tokens import Doc\n",
    "from spacy.vocab import Vocab\n",
    "from spacy.training.iob_utils import iob_to_biluo, biluo_tags_to_offsets\n",
    "from argilla.client.feedback.schemas import SpanValueSchema\n",
    "\n",
    "def tags_to_entities(row: dict, tokens=\"tokens\", parsed_ner_tags=\"parsed_ner_tags\") -> List[SpanValueSchema]:\n",
    "    doc = Doc(Vocab(), words=row[tokens])\n",
    "    offsets = biluo_tags_to_offsets(doc, iob_to_biluo(row[\"parsed_ner_tags\"]))\n",
    "\n",
    "    return [\n",
    "        SpanValueSchema(\n",
    "            start=start, # position of the first character of the span\n",
    "            end=stop, # position of the character right after the end of the span\n",
    "            label=entity,\n",
    "            score=1.0\n",
    "        ) for start, stop, entity in offsets\n",
    "    ]"
   ]
  },
  {
   "cell_type": "code",
   "execution_count": 256,
   "id": "5c4ea5ad-20ca-47c8-99c1-020ea9a7fa02",
   "metadata": {
    "execution": {
     "iopub.execute_input": "2024-05-15T14:09:14.085708Z",
     "iopub.status.busy": "2024-05-15T14:09:14.085256Z",
     "iopub.status.idle": "2024-05-15T14:09:14.095247Z",
     "shell.execute_reply": "2024-05-15T14:09:14.092975Z",
     "shell.execute_reply.started": "2024-05-15T14:09:14.085683Z"
    }
   },
   "outputs": [],
   "source": [
    "from tqdm import tqdm\n",
    "from typing import Iterator\n",
    "\n",
    "def dataset_to_records(dataset: DatasetDict, agent, tokens=\"tokens\") -> Iterator[rg.FeedbackRecord]:\n",
    "    for row in tqdm(dataset):\n",
    "        text = \" \".join(row[tokens])  # we assume the tokens are clean, and we disregard more tokenizer details\n",
    "\n",
    "        # Seems like we have \"empty\" rows\n",
    "        if not text.strip():\n",
    "            continue\n",
    "\n",
    "        yield rg.FeedbackRecord(\n",
    "            fields={\"text\": text},\n",
    "            responses = [\n",
    "                {\n",
    "                    \"values\":{\n",
    "                        \"entities\":{\n",
    "                            \"value\": tags_to_entities(row),\n",
    "                        }\n",
    "                    }\n",
    "                }\n",
    "            ]\n",
    "            # suggestions = [\n",
    "            #     {\n",
    "            #         \"question_name\": \"entities\",\n",
    "            #         \"value\": tags_to_entities(row),\n",
    "            #         \"agent\": agent,\n",
    "            #     }\n",
    "            # ]\n",
    "        )"
   ]
  },
  {
   "cell_type": "code",
   "execution_count": 116,
   "id": "59f342ca-f52f-44e0-9edd-c4bd7d1ac1d0",
   "metadata": {
    "execution": {
     "iopub.execute_input": "2024-05-14T17:12:50.561929Z",
     "iopub.status.busy": "2024-05-14T17:12:50.561031Z",
     "iopub.status.idle": "2024-05-14T17:12:51.080211Z",
     "shell.execute_reply": "2024-05-14T17:12:51.079964Z",
     "shell.execute_reply.started": "2024-05-14T17:12:50.561873Z"
    }
   },
   "outputs": [
    {
     "name": "stderr",
     "output_type": "stream",
     "text": [
      "100%|██████████████████████████████████████████████████████████████████████████████████████████████████████████████████████████████████████████████████| 3250/3250 [00:00<00:00, 6520.85it/s]\n"
     ]
    }
   ],
   "source": [
    "# add records to the dataset and push to Argilla\n",
    "dataset.add_records(list(dataset_to_records(conll2003['validation'], \"gold_labels\")))"
   ]
  },
  {
   "cell_type": "code",
   "execution_count": 117,
   "id": "cb6b4b04-5663-4a56-9583-df41d91f9604",
   "metadata": {
    "execution": {
     "iopub.execute_input": "2024-05-14T17:12:54.238998Z",
     "iopub.status.busy": "2024-05-14T17:12:54.237523Z",
     "iopub.status.idle": "2024-05-14T17:13:12.122935Z",
     "shell.execute_reply": "2024-05-14T17:13:12.122343Z",
     "shell.execute_reply.started": "2024-05-14T17:12:54.238948Z"
    }
   },
   "outputs": [
    {
     "data": {
      "text/html": [
       "<pre style=\"white-space:pre;overflow-x:auto;line-height:normal;font-family:Menlo,'DejaVu Sans Mono',consolas,'Courier New',monospace\">/Users/louis.guitton/workspace/mlops-talk-llm-kg/venv/lib/python3.11/site-packages/rich/live.py:231: UserWarning: \n",
       "install \"ipywidgets\" for Jupyter support\n",
       "  warnings.warn('install \"ipywidgets\" for Jupyter support')\n",
       "</pre>\n"
      ],
      "text/plain": [
       "/Users/louis.guitton/workspace/mlops-talk-llm-kg/venv/lib/python3.11/site-packages/rich/live.py:231: UserWarning: \n",
       "install \"ipywidgets\" for Jupyter support\n",
       "  warnings.warn('install \"ipywidgets\" for Jupyter support')\n"
      ]
     },
     "metadata": {},
     "output_type": "display_data"
    },
    {
     "data": {
      "text/html": [
       "<pre style=\"white-space:pre;overflow-x:auto;line-height:normal;font-family:Menlo,'DejaVu Sans Mono',consolas,'Courier New',monospace\"></pre>\n"
      ],
      "text/plain": []
     },
     "metadata": {},
     "output_type": "display_data"
    },
    {
     "data": {
      "text/html": [
       "<pre style=\"white-space:pre;overflow-x:auto;line-height:normal;font-family:Menlo,'DejaVu Sans Mono',consolas,'Courier New',monospace\">\n",
       "</pre>\n"
      ],
      "text/plain": [
       "\n"
      ]
     },
     "metadata": {},
     "output_type": "display_data"
    },
    {
     "data": {
      "text/html": [
       "<pre style=\"white-space:pre;overflow-x:auto;line-height:normal;font-family:Menlo,'DejaVu Sans Mono',consolas,'Courier New',monospace\"><span style=\"color: #7fbfbf; text-decoration-color: #7fbfbf\">[05/14/24 19:13:12] </span><span style=\"color: #000080; text-decoration-color: #000080\">INFO    </span> INFO:argilla.client.feedback.dataset.local.mixins:✓ Dataset succesfully  <a href=\"file:///Users/louis.guitton/workspace/mlops-talk-llm-kg/venv/lib/python3.11/site-packages/argilla/client/feedback/dataset/local/mixins.py\" target=\"_blank\"><span style=\"color: #7f7f7f; text-decoration-color: #7f7f7f\">mixins.py</span></a><span style=\"color: #7f7f7f; text-decoration-color: #7f7f7f\">:</span><a href=\"file:///Users/louis.guitton/workspace/mlops-talk-llm-kg/venv/lib/python3.11/site-packages/argilla/client/feedback/dataset/local/mixins.py#271\" target=\"_blank\"><span style=\"color: #7f7f7f; text-decoration-color: #7f7f7f\">271</span></a>\n",
       "<span style=\"color: #7fbfbf; text-decoration-color: #7fbfbf\">                    </span>         pushed to Argilla                                                        <span style=\"color: #7f7f7f; text-decoration-color: #7f7f7f\">             </span>\n",
       "</pre>\n"
      ],
      "text/plain": [
       "\u001b[2;36m[05/14/24 19:13:12]\u001b[0m\u001b[2;36m \u001b[0m\u001b[34mINFO    \u001b[0m INFO:argilla.client.feedback.dataset.local.mixins:✓ Dataset succesfully  \u001b]8;id=410030;file:///Users/louis.guitton/workspace/mlops-talk-llm-kg/venv/lib/python3.11/site-packages/argilla/client/feedback/dataset/local/mixins.py\u001b\\\u001b[2mmixins.py\u001b[0m\u001b]8;;\u001b\\\u001b[2m:\u001b[0m\u001b]8;id=629436;file:///Users/louis.guitton/workspace/mlops-talk-llm-kg/venv/lib/python3.11/site-packages/argilla/client/feedback/dataset/local/mixins.py#271\u001b\\\u001b[2m271\u001b[0m\u001b]8;;\u001b\\\n",
       "\u001b[2;36m                    \u001b[0m         pushed to Argilla                                                        \u001b[2m             \u001b[0m\n"
      ]
     },
     "metadata": {},
     "output_type": "display_data"
    },
    {
     "data": {
      "text/html": [
       "<pre style=\"white-space:pre;overflow-x:auto;line-height:normal;font-family:Menlo,'DejaVu Sans Mono',consolas,'Courier New',monospace\"><span style=\"color: #7fbfbf; text-decoration-color: #7fbfbf\">                    </span><span style=\"color: #000080; text-decoration-color: #000080\">INFO    </span> INFO:argilla.client.feedback.dataset.local.mixins:<span style=\"color: #800080; text-decoration-color: #800080; font-weight: bold\">RemoteFeedbackDataset</span><span style=\"font-weight: bold\">(</span> <a href=\"file:///Users/louis.guitton/workspace/mlops-talk-llm-kg/venv/lib/python3.11/site-packages/argilla/client/feedback/dataset/local/mixins.py\" target=\"_blank\"><span style=\"color: #7f7f7f; text-decoration-color: #7f7f7f\">mixins.py</span></a><span style=\"color: #7f7f7f; text-decoration-color: #7f7f7f\">:</span><a href=\"file:///Users/louis.guitton/workspace/mlops-talk-llm-kg/venv/lib/python3.11/site-packages/argilla/client/feedback/dataset/local/mixins.py#272\" target=\"_blank\"><span style=\"color: #7f7f7f; text-decoration-color: #7f7f7f\">272</span></a>\n",
       "<span style=\"color: #7fbfbf; text-decoration-color: #7fbfbf\">                    </span>            <span style=\"color: #808000; text-decoration-color: #808000\">id</span>=<span style=\"color: #ffff00; text-decoration-color: #ffff00\">60d31698</span><span style=\"color: #ffff00; text-decoration-color: #ffff00\">-9ad9-47db-9e5f-d1e4f7d8b71b</span>                               <span style=\"color: #7f7f7f; text-decoration-color: #7f7f7f\">             </span>\n",
       "<span style=\"color: #7fbfbf; text-decoration-color: #7fbfbf\">                    </span>            <span style=\"color: #808000; text-decoration-color: #808000\">name</span>=<span style=\"color: #800080; text-decoration-color: #800080\">my</span>-first-dataset                                                 <span style=\"color: #7f7f7f; text-decoration-color: #7f7f7f\">             </span>\n",
       "<span style=\"color: #7fbfbf; text-decoration-color: #7fbfbf\">                    </span>            <span style=\"color: #808000; text-decoration-color: #808000\">workspace</span>=<span style=\"color: #800080; text-decoration-color: #800080; font-weight: bold\">Workspace</span><span style=\"font-weight: bold\">(</span><span style=\"color: #808000; text-decoration-color: #808000\">id</span>=<span style=\"color: #ffff00; text-decoration-color: #ffff00\">84a8fb6f</span><span style=\"color: #ffff00; text-decoration-color: #ffff00\">-3350-4e9b-97c0-043cfedef934</span>,          <span style=\"color: #7f7f7f; text-decoration-color: #7f7f7f\">             </span>\n",
       "<span style=\"color: #7fbfbf; text-decoration-color: #7fbfbf\">                    </span>         <span style=\"color: #808000; text-decoration-color: #808000\">name</span>=<span style=\"color: #800080; text-decoration-color: #800080\">admin</span>, <span style=\"color: #808000; text-decoration-color: #808000\">inserted_at</span>=<span style=\"color: #008080; text-decoration-color: #008080; font-weight: bold\">2024</span>-<span style=\"color: #008080; text-decoration-color: #008080; font-weight: bold\">05</span>-<span style=\"color: #008080; text-decoration-color: #008080; font-weight: bold\">14</span> <span style=\"color: #00ff00; text-decoration-color: #00ff00; font-weight: bold\">17:08:20</span>.<span style=\"color: #008080; text-decoration-color: #008080; font-weight: bold\">825501</span>,                      <span style=\"color: #7f7f7f; text-decoration-color: #7f7f7f\">             </span>\n",
       "<span style=\"color: #7fbfbf; text-decoration-color: #7fbfbf\">                    </span>         <span style=\"color: #808000; text-decoration-color: #808000\">updated_at</span>=<span style=\"color: #008080; text-decoration-color: #008080; font-weight: bold\">2024</span>-<span style=\"color: #008080; text-decoration-color: #008080; font-weight: bold\">05</span>-<span style=\"color: #008080; text-decoration-color: #008080; font-weight: bold\">14</span> <span style=\"color: #00ff00; text-decoration-color: #00ff00; font-weight: bold\">17:08:20</span>.<span style=\"color: #008080; text-decoration-color: #008080; font-weight: bold\">825501</span><span style=\"font-weight: bold\">)</span>                                   <span style=\"color: #7f7f7f; text-decoration-color: #7f7f7f\">             </span>\n",
       "<span style=\"color: #7fbfbf; text-decoration-color: #7fbfbf\">                    </span>            <span style=\"color: #808000; text-decoration-color: #808000\">url</span>=<span style=\"color: #0000ff; text-decoration-color: #0000ff; text-decoration: underline\">http://localhost:6900/dataset/60d31698-9ad9-47db-9e5f-d1e4f7d8b71</span> <span style=\"color: #7f7f7f; text-decoration-color: #7f7f7f\">             </span>\n",
       "<span style=\"color: #7fbfbf; text-decoration-color: #7fbfbf\">                    </span>         <span style=\"color: #0000ff; text-decoration-color: #0000ff; text-decoration: underline\">b/annotation-mode</span>                                                        <span style=\"color: #7f7f7f; text-decoration-color: #7f7f7f\">             </span>\n",
       "<span style=\"color: #7fbfbf; text-decoration-color: #7fbfbf\">                    </span>            <span style=\"color: #808000; text-decoration-color: #808000\">fields</span>=<span style=\"font-weight: bold\">[</span><span style=\"color: #800080; text-decoration-color: #800080; font-weight: bold\">RemoteTextField</span><span style=\"font-weight: bold\">(</span><span style=\"color: #808000; text-decoration-color: #808000\">id</span>=<span style=\"color: #800080; text-decoration-color: #800080; font-weight: bold\">UUID</span><span style=\"font-weight: bold\">(</span><span style=\"color: #008000; text-decoration-color: #008000\">'6b46a2c5-72ec-42d8-8392-9173007a025e</span> <span style=\"color: #7f7f7f; text-decoration-color: #7f7f7f\">             </span>\n",
       "<span style=\"color: #7fbfbf; text-decoration-color: #7fbfbf\">                    </span>         <span style=\"color: #008000; text-decoration-color: #008000\">'</span><span style=\"font-weight: bold\">)</span>, <span style=\"color: #808000; text-decoration-color: #808000\">client</span>=<span style=\"color: #800080; text-decoration-color: #800080; font-style: italic\">None</span>, <span style=\"color: #808000; text-decoration-color: #808000\">name</span>=<span style=\"color: #008000; text-decoration-color: #008000\">'text'</span>, <span style=\"color: #808000; text-decoration-color: #808000\">title</span>=<span style=\"color: #008000; text-decoration-color: #008000\">'Text'</span>, <span style=\"color: #808000; text-decoration-color: #808000\">required</span>=<span style=\"color: #00ff00; text-decoration-color: #00ff00; font-style: italic\">True</span>, <span style=\"color: #808000; text-decoration-color: #808000\">type</span>=<span style=\"color: #008000; text-decoration-color: #008000\">'text'</span>,  <span style=\"color: #7f7f7f; text-decoration-color: #7f7f7f\">             </span>\n",
       "<span style=\"color: #7fbfbf; text-decoration-color: #7fbfbf\">                    </span>         <span style=\"color: #808000; text-decoration-color: #808000\">use_markdown</span>=<span style=\"color: #ff0000; text-decoration-color: #ff0000; font-style: italic\">False</span><span style=\"font-weight: bold\">)]</span>                                                     <span style=\"color: #7f7f7f; text-decoration-color: #7f7f7f\">             </span>\n",
       "<span style=\"color: #7fbfbf; text-decoration-color: #7fbfbf\">                    </span>            <span style=\"color: #808000; text-decoration-color: #808000\">questions</span>=<span style=\"font-weight: bold\">[</span><span style=\"color: #800080; text-decoration-color: #800080; font-weight: bold\">RemoteSpanQuestion</span><span style=\"font-weight: bold\">(</span><span style=\"color: #808000; text-decoration-color: #808000\">id</span>=<span style=\"color: #800080; text-decoration-color: #800080; font-weight: bold\">UUID</span><span style=\"font-weight: bold\">(</span><span style=\"color: #008000; text-decoration-color: #008000\">'12bbb02d-c899-4d42-ba40-8dc959</span> <span style=\"color: #7f7f7f; text-decoration-color: #7f7f7f\">             </span>\n",
       "<span style=\"color: #7fbfbf; text-decoration-color: #7fbfbf\">                    </span>         <span style=\"color: #008000; text-decoration-color: #008000\">85cbaf'</span><span style=\"font-weight: bold\">)</span>, <span style=\"color: #808000; text-decoration-color: #808000\">client</span>=<span style=\"color: #800080; text-decoration-color: #800080; font-style: italic\">None</span>, <span style=\"color: #808000; text-decoration-color: #808000\">name</span>=<span style=\"color: #008000; text-decoration-color: #008000\">'entities'</span>, <span style=\"color: #808000; text-decoration-color: #808000\">title</span>=<span style=\"color: #008000; text-decoration-color: #008000\">'Highlight the entities in</span> <span style=\"color: #7f7f7f; text-decoration-color: #7f7f7f\">             </span>\n",
       "<span style=\"color: #7fbfbf; text-decoration-color: #7fbfbf\">                    </span>         <span style=\"color: #008000; text-decoration-color: #008000\">the text:'</span>, <span style=\"color: #808000; text-decoration-color: #808000\">description</span>=<span style=\"color: #800080; text-decoration-color: #800080; font-style: italic\">None</span>, <span style=\"color: #808000; text-decoration-color: #808000\">required</span>=<span style=\"color: #00ff00; text-decoration-color: #00ff00; font-style: italic\">True</span>, <span style=\"color: #808000; text-decoration-color: #808000\">type</span>=<span style=\"color: #008000; text-decoration-color: #008000\">'span'</span>, <span style=\"color: #808000; text-decoration-color: #808000\">field</span>=<span style=\"color: #008000; text-decoration-color: #008000\">'text'</span>,  <span style=\"color: #7f7f7f; text-decoration-color: #7f7f7f\">             </span>\n",
       "<span style=\"color: #7fbfbf; text-decoration-color: #7fbfbf\">                    </span>         <span style=\"color: #808000; text-decoration-color: #808000\">labels</span>=<span style=\"font-weight: bold\">[</span><span style=\"color: #800080; text-decoration-color: #800080; font-weight: bold\">SpanLabelOption</span><span style=\"font-weight: bold\">(</span><span style=\"color: #808000; text-decoration-color: #808000\">value</span>=<span style=\"color: #008000; text-decoration-color: #008000\">'PER'</span>, <span style=\"color: #808000; text-decoration-color: #808000\">text</span>=<span style=\"color: #008000; text-decoration-color: #008000\">'Person'</span>, <span style=\"color: #808000; text-decoration-color: #808000\">description</span>=<span style=\"color: #800080; text-decoration-color: #800080; font-style: italic\">None</span><span style=\"font-weight: bold\">)</span>,   <span style=\"color: #7f7f7f; text-decoration-color: #7f7f7f\">             </span>\n",
       "<span style=\"color: #7fbfbf; text-decoration-color: #7fbfbf\">                    </span>         <span style=\"color: #800080; text-decoration-color: #800080; font-weight: bold\">SpanLabelOption</span><span style=\"font-weight: bold\">(</span><span style=\"color: #808000; text-decoration-color: #808000\">value</span>=<span style=\"color: #008000; text-decoration-color: #008000\">'ORG'</span>, <span style=\"color: #808000; text-decoration-color: #808000\">text</span>=<span style=\"color: #008000; text-decoration-color: #008000\">'Organization'</span>, <span style=\"color: #808000; text-decoration-color: #808000\">description</span>=<span style=\"color: #800080; text-decoration-color: #800080; font-style: italic\">None</span><span style=\"font-weight: bold\">)</span>,     <span style=\"color: #7f7f7f; text-decoration-color: #7f7f7f\">             </span>\n",
       "<span style=\"color: #7fbfbf; text-decoration-color: #7fbfbf\">                    </span>         <span style=\"color: #800080; text-decoration-color: #800080; font-weight: bold\">SpanLabelOption</span><span style=\"font-weight: bold\">(</span><span style=\"color: #808000; text-decoration-color: #808000\">value</span>=<span style=\"color: #008000; text-decoration-color: #008000\">'LOC'</span>, <span style=\"color: #808000; text-decoration-color: #808000\">text</span>=<span style=\"color: #008000; text-decoration-color: #008000\">'Location'</span>, <span style=\"color: #808000; text-decoration-color: #808000\">description</span>=<span style=\"color: #800080; text-decoration-color: #800080; font-style: italic\">None</span><span style=\"font-weight: bold\">)</span>,         <span style=\"color: #7f7f7f; text-decoration-color: #7f7f7f\">             </span>\n",
       "<span style=\"color: #7fbfbf; text-decoration-color: #7fbfbf\">                    </span>         <span style=\"color: #800080; text-decoration-color: #800080; font-weight: bold\">SpanLabelOption</span><span style=\"font-weight: bold\">(</span><span style=\"color: #808000; text-decoration-color: #808000\">value</span>=<span style=\"color: #008000; text-decoration-color: #008000\">'MISC'</span>, <span style=\"color: #808000; text-decoration-color: #808000\">text</span>=<span style=\"color: #008000; text-decoration-color: #008000\">'Other'</span>, <span style=\"color: #808000; text-decoration-color: #808000\">description</span>=<span style=\"color: #800080; text-decoration-color: #800080; font-style: italic\">None</span><span style=\"font-weight: bold\">)]</span>,          <span style=\"color: #7f7f7f; text-decoration-color: #7f7f7f\">             </span>\n",
       "<span style=\"color: #7fbfbf; text-decoration-color: #7fbfbf\">                    </span>         <span style=\"color: #808000; text-decoration-color: #808000\">visible_labels</span>=<span style=\"color: #008080; text-decoration-color: #008080; font-weight: bold\">4</span>, <span style=\"color: #808000; text-decoration-color: #808000\">allow_overlapping</span>=<span style=\"color: #00ff00; text-decoration-color: #00ff00; font-style: italic\">True</span><span style=\"font-weight: bold\">)]</span>                               <span style=\"color: #7f7f7f; text-decoration-color: #7f7f7f\">             </span>\n",
       "<span style=\"color: #7fbfbf; text-decoration-color: #7fbfbf\">                    </span>            <span style=\"color: #808000; text-decoration-color: #808000\">guidelines</span>=<span style=\"color: #800080; text-decoration-color: #800080; font-style: italic\">None</span>                                                       <span style=\"color: #7f7f7f; text-decoration-color: #7f7f7f\">             </span>\n",
       "<span style=\"color: #7fbfbf; text-decoration-color: #7fbfbf\">                    </span>            <span style=\"color: #808000; text-decoration-color: #808000\">metadata_properties</span>=<span style=\"font-weight: bold\">[]</span>                                                <span style=\"color: #7f7f7f; text-decoration-color: #7f7f7f\">             </span>\n",
       "<span style=\"color: #7fbfbf; text-decoration-color: #7fbfbf\">                    </span>            <span style=\"color: #808000; text-decoration-color: #808000\">vectors_settings</span>=<span style=\"font-weight: bold\">[]</span>                                                   <span style=\"color: #7f7f7f; text-decoration-color: #7f7f7f\">             </span>\n",
       "<span style=\"color: #7fbfbf; text-decoration-color: #7fbfbf\">                    </span>         <span style=\"font-weight: bold\">)</span>                                                                        <span style=\"color: #7f7f7f; text-decoration-color: #7f7f7f\">             </span>\n",
       "</pre>\n"
      ],
      "text/plain": [
       "\u001b[2;36m                   \u001b[0m\u001b[2;36m \u001b[0m\u001b[34mINFO    \u001b[0m INFO:argilla.client.feedback.dataset.local.mixins:\u001b[1;35mRemoteFeedbackDataset\u001b[0m\u001b[1m(\u001b[0m \u001b]8;id=334609;file:///Users/louis.guitton/workspace/mlops-talk-llm-kg/venv/lib/python3.11/site-packages/argilla/client/feedback/dataset/local/mixins.py\u001b\\\u001b[2mmixins.py\u001b[0m\u001b]8;;\u001b\\\u001b[2m:\u001b[0m\u001b]8;id=905138;file:///Users/louis.guitton/workspace/mlops-talk-llm-kg/venv/lib/python3.11/site-packages/argilla/client/feedback/dataset/local/mixins.py#272\u001b\\\u001b[2m272\u001b[0m\u001b]8;;\u001b\\\n",
       "\u001b[2;36m                    \u001b[0m            \u001b[33mid\u001b[0m=\u001b[93m60d31698\u001b[0m\u001b[93m-9ad9-47db-9e5f-d1e4f7d8b71b\u001b[0m                               \u001b[2m             \u001b[0m\n",
       "\u001b[2;36m                    \u001b[0m            \u001b[33mname\u001b[0m=\u001b[35mmy\u001b[0m-first-dataset                                                 \u001b[2m             \u001b[0m\n",
       "\u001b[2;36m                    \u001b[0m            \u001b[33mworkspace\u001b[0m=\u001b[1;35mWorkspace\u001b[0m\u001b[1m(\u001b[0m\u001b[33mid\u001b[0m=\u001b[93m84a8fb6f\u001b[0m\u001b[93m-3350-4e9b-97c0-043cfedef934\u001b[0m,          \u001b[2m             \u001b[0m\n",
       "\u001b[2;36m                    \u001b[0m         \u001b[33mname\u001b[0m=\u001b[35madmin\u001b[0m, \u001b[33minserted_at\u001b[0m=\u001b[1;36m2024\u001b[0m-\u001b[1;36m05\u001b[0m-\u001b[1;36m14\u001b[0m \u001b[1;92m17:08:20\u001b[0m.\u001b[1;36m825501\u001b[0m,                      \u001b[2m             \u001b[0m\n",
       "\u001b[2;36m                    \u001b[0m         \u001b[33mupdated_at\u001b[0m=\u001b[1;36m2024\u001b[0m-\u001b[1;36m05\u001b[0m-\u001b[1;36m14\u001b[0m \u001b[1;92m17:08:20\u001b[0m.\u001b[1;36m825501\u001b[0m\u001b[1m)\u001b[0m                                   \u001b[2m             \u001b[0m\n",
       "\u001b[2;36m                    \u001b[0m            \u001b[33murl\u001b[0m=\u001b[4;94mhttp\u001b[0m\u001b[4;94m://localhost:6900/dataset/60d31698-9ad9-47db-9e5f-d1e4f7d8b71\u001b[0m \u001b[2m             \u001b[0m\n",
       "\u001b[2;36m                    \u001b[0m         \u001b[4;94mb/annotation-mode\u001b[0m                                                        \u001b[2m             \u001b[0m\n",
       "\u001b[2;36m                    \u001b[0m            \u001b[33mfields\u001b[0m=\u001b[1m[\u001b[0m\u001b[1;35mRemoteTextField\u001b[0m\u001b[1m(\u001b[0m\u001b[33mid\u001b[0m=\u001b[1;35mUUID\u001b[0m\u001b[1m(\u001b[0m\u001b[32m'6b46a2c5-72ec-42d8-8392-9173007a025e\u001b[0m \u001b[2m             \u001b[0m\n",
       "\u001b[2;36m                    \u001b[0m         \u001b[32m'\u001b[0m\u001b[1m)\u001b[0m, \u001b[33mclient\u001b[0m=\u001b[3;35mNone\u001b[0m, \u001b[33mname\u001b[0m=\u001b[32m'text'\u001b[0m, \u001b[33mtitle\u001b[0m=\u001b[32m'Text'\u001b[0m, \u001b[33mrequired\u001b[0m=\u001b[3;92mTrue\u001b[0m, \u001b[33mtype\u001b[0m=\u001b[32m'text'\u001b[0m,  \u001b[2m             \u001b[0m\n",
       "\u001b[2;36m                    \u001b[0m         \u001b[33muse_markdown\u001b[0m=\u001b[3;91mFalse\u001b[0m\u001b[1m)\u001b[0m\u001b[1m]\u001b[0m                                                     \u001b[2m             \u001b[0m\n",
       "\u001b[2;36m                    \u001b[0m            \u001b[33mquestions\u001b[0m=\u001b[1m[\u001b[0m\u001b[1;35mRemoteSpanQuestion\u001b[0m\u001b[1m(\u001b[0m\u001b[33mid\u001b[0m=\u001b[1;35mUUID\u001b[0m\u001b[1m(\u001b[0m\u001b[32m'12bbb02d-c899-4d42-ba40-8dc959\u001b[0m \u001b[2m             \u001b[0m\n",
       "\u001b[2;36m                    \u001b[0m         \u001b[32m85cbaf'\u001b[0m\u001b[1m)\u001b[0m, \u001b[33mclient\u001b[0m=\u001b[3;35mNone\u001b[0m, \u001b[33mname\u001b[0m=\u001b[32m'entities'\u001b[0m, \u001b[33mtitle\u001b[0m=\u001b[32m'Highlight the entities in\u001b[0m \u001b[2m             \u001b[0m\n",
       "\u001b[2;36m                    \u001b[0m         \u001b[32mthe text:'\u001b[0m, \u001b[33mdescription\u001b[0m=\u001b[3;35mNone\u001b[0m, \u001b[33mrequired\u001b[0m=\u001b[3;92mTrue\u001b[0m, \u001b[33mtype\u001b[0m=\u001b[32m'span'\u001b[0m, \u001b[33mfield\u001b[0m=\u001b[32m'text'\u001b[0m,  \u001b[2m             \u001b[0m\n",
       "\u001b[2;36m                    \u001b[0m         \u001b[33mlabels\u001b[0m=\u001b[1m[\u001b[0m\u001b[1;35mSpanLabelOption\u001b[0m\u001b[1m(\u001b[0m\u001b[33mvalue\u001b[0m=\u001b[32m'PER'\u001b[0m, \u001b[33mtext\u001b[0m=\u001b[32m'Person'\u001b[0m, \u001b[33mdescription\u001b[0m=\u001b[3;35mNone\u001b[0m\u001b[1m)\u001b[0m,   \u001b[2m             \u001b[0m\n",
       "\u001b[2;36m                    \u001b[0m         \u001b[1;35mSpanLabelOption\u001b[0m\u001b[1m(\u001b[0m\u001b[33mvalue\u001b[0m=\u001b[32m'ORG'\u001b[0m, \u001b[33mtext\u001b[0m=\u001b[32m'Organization'\u001b[0m, \u001b[33mdescription\u001b[0m=\u001b[3;35mNone\u001b[0m\u001b[1m)\u001b[0m,     \u001b[2m             \u001b[0m\n",
       "\u001b[2;36m                    \u001b[0m         \u001b[1;35mSpanLabelOption\u001b[0m\u001b[1m(\u001b[0m\u001b[33mvalue\u001b[0m=\u001b[32m'LOC'\u001b[0m, \u001b[33mtext\u001b[0m=\u001b[32m'Location'\u001b[0m, \u001b[33mdescription\u001b[0m=\u001b[3;35mNone\u001b[0m\u001b[1m)\u001b[0m,         \u001b[2m             \u001b[0m\n",
       "\u001b[2;36m                    \u001b[0m         \u001b[1;35mSpanLabelOption\u001b[0m\u001b[1m(\u001b[0m\u001b[33mvalue\u001b[0m=\u001b[32m'MISC'\u001b[0m, \u001b[33mtext\u001b[0m=\u001b[32m'Other'\u001b[0m, \u001b[33mdescription\u001b[0m=\u001b[3;35mNone\u001b[0m\u001b[1m)\u001b[0m\u001b[1m]\u001b[0m,          \u001b[2m             \u001b[0m\n",
       "\u001b[2;36m                    \u001b[0m         \u001b[33mvisible_labels\u001b[0m=\u001b[1;36m4\u001b[0m, \u001b[33mallow_overlapping\u001b[0m=\u001b[3;92mTrue\u001b[0m\u001b[1m)\u001b[0m\u001b[1m]\u001b[0m                               \u001b[2m             \u001b[0m\n",
       "\u001b[2;36m                    \u001b[0m            \u001b[33mguidelines\u001b[0m=\u001b[3;35mNone\u001b[0m                                                       \u001b[2m             \u001b[0m\n",
       "\u001b[2;36m                    \u001b[0m            \u001b[33mmetadata_properties\u001b[0m=\u001b[1m[\u001b[0m\u001b[1m]\u001b[0m                                                \u001b[2m             \u001b[0m\n",
       "\u001b[2;36m                    \u001b[0m            \u001b[33mvectors_settings\u001b[0m=\u001b[1m[\u001b[0m\u001b[1m]\u001b[0m                                                   \u001b[2m             \u001b[0m\n",
       "\u001b[2;36m                    \u001b[0m         \u001b[1m)\u001b[0m                                                                        \u001b[2m             \u001b[0m\n"
      ]
     },
     "metadata": {},
     "output_type": "display_data"
    },
    {
     "data": {
      "text/plain": [
       "RemoteFeedbackDataset(\n",
       "   id=60d31698-9ad9-47db-9e5f-d1e4f7d8b71b\n",
       "   name=my-first-dataset\n",
       "   workspace=Workspace(id=84a8fb6f-3350-4e9b-97c0-043cfedef934, name=admin, inserted_at=2024-05-14 17:08:20.825501, updated_at=2024-05-14 17:08:20.825501)\n",
       "   url=http://localhost:6900/dataset/60d31698-9ad9-47db-9e5f-d1e4f7d8b71b/annotation-mode\n",
       "   fields=[RemoteTextField(id=UUID('6b46a2c5-72ec-42d8-8392-9173007a025e'), client=None, name='text', title='Text', required=True, type='text', use_markdown=False)]\n",
       "   questions=[RemoteSpanQuestion(id=UUID('12bbb02d-c899-4d42-ba40-8dc95985cbaf'), client=None, name='entities', title='Highlight the entities in the text:', description=None, required=True, type='span', field='text', labels=[SpanLabelOption(value='PER', text='Person', description=None), SpanLabelOption(value='ORG', text='Organization', description=None), SpanLabelOption(value='LOC', text='Location', description=None), SpanLabelOption(value='MISC', text='Other', description=None)], visible_labels=4, allow_overlapping=True)]\n",
       "   guidelines=None\n",
       "   metadata_properties=[]\n",
       "   vectors_settings=[]\n",
       ")"
      ]
     },
     "execution_count": 117,
     "metadata": {},
     "output_type": "execute_result"
    }
   ],
   "source": [
    "dataset.push_to_argilla(name=\"dev-ner-conll2003\", workspace=\"admin\")"
   ]
  },
  {
   "cell_type": "markdown",
   "id": "9d6ee60f-a8e8-4d91-94c4-c03742806343",
   "metadata": {},
   "source": [
    "# Load OntoNotes research dataset into Argilla"
   ]
  },
  {
   "cell_type": "code",
   "execution_count": 252,
   "id": "a1b4de8b-5c0e-41a7-8fcc-83ac2fce2119",
   "metadata": {
    "execution": {
     "iopub.execute_input": "2024-05-15T14:04:42.363969Z",
     "iopub.status.busy": "2024-05-15T14:04:42.363276Z",
     "iopub.status.idle": "2024-05-15T14:04:42.380714Z",
     "shell.execute_reply": "2024-05-15T14:04:42.379445Z",
     "shell.execute_reply.started": "2024-05-15T14:04:42.363931Z"
    }
   },
   "outputs": [],
   "source": [
    "import collections\n",
    "\n",
    "def load_ontonotes():\n",
    "    ontonotes5_labels_raw = {\"O\": 0, \"B-CARDINAL\": 1, \"B-DATE\": 2, \"I-DATE\": 3, \"B-PERSON\": 4, \"I-PERSON\": 5, \"B-NORP\": 6, \"B-GPE\": 7, \"I-GPE\": 8, \"B-LAW\": 9, \"I-LAW\": 10, \"B-ORG\": 11, \"I-ORG\": 12, \"B-PERCENT\": 13, \"I-PERCENT\": 14, \"B-ORDINAL\": 15, \"B-MONEY\": 16, \"I-MONEY\": 17, \"B-WORK_OF_ART\": 18, \"I-WORK_OF_ART\": 19, \"B-FAC\": 20, \"B-TIME\": 21, \"I-CARDINAL\": 22, \"B-LOC\": 23, \"B-QUANTITY\": 24, \"I-QUANTITY\": 25, \"I-NORP\": 26, \"I-LOC\": 27, \"B-PRODUCT\": 28, \"I-TIME\": 29, \"B-EVENT\": 30, \"I-EVENT\": 31, \"I-FAC\": 32, \"B-LANGUAGE\": 33, \"I-PRODUCT\": 34, \"I-ORDINAL\": 35, \"I-LANGUAGE\": 36}\n",
    "    ontonotes5_labels = collections.OrderedDict(sorted(ontonotes5_labels_raw.items(), key=lambda x: x[1]))\n",
    "    classmap = ClassLabel(names=list(ontonotes5_labels.keys()))\n",
    "    return (\n",
    "        load_dataset(\"tner/ontonotes5\")\n",
    "        .rename_column(\"tags\", \"ner_tags\")\n",
    "        .map(lambda sample: {\"parsed_ner_tags\": classmap.int2str(sample[\"ner_tags\"])})\n",
    "    )"
   ]
  },
  {
   "cell_type": "code",
   "execution_count": 253,
   "id": "e897c95f-e48f-4621-8914-bb84e30ef1c0",
   "metadata": {
    "execution": {
     "iopub.execute_input": "2024-05-15T14:04:45.431774Z",
     "iopub.status.busy": "2024-05-15T14:04:45.430893Z",
     "iopub.status.idle": "2024-05-15T14:04:49.501874Z",
     "shell.execute_reply": "2024-05-15T14:04:49.501209Z",
     "shell.execute_reply.started": "2024-05-15T14:04:45.431721Z"
    }
   },
   "outputs": [],
   "source": [
    "ontonotes = load_ontonotes()"
   ]
  },
  {
   "cell_type": "code",
   "execution_count": 259,
   "id": "2fb4db9d-c439-43df-8a53-9bd8a693b442",
   "metadata": {
    "execution": {
     "iopub.execute_input": "2024-05-15T14:14:56.801264Z",
     "iopub.status.busy": "2024-05-15T14:14:56.797653Z",
     "iopub.status.idle": "2024-05-15T14:14:56.817982Z",
     "shell.execute_reply": "2024-05-15T14:14:56.817604Z",
     "shell.execute_reply.started": "2024-05-15T14:14:56.801210Z"
    }
   },
   "outputs": [],
   "source": [
    "verbose_labels = {\n",
    "    \"CARDINAL\": \"Numerals that do not fall under another type\", \n",
    "    \"DATE\": \"Absolute or relative dates or periods\", \n",
    "    \"PERSON\": \"People, including fictional\", \n",
    "    \"NORP\": \"Nationalities or religious or political groups\", \n",
    "    \"GPE\": \"Countries, cities, states\",\n",
    "    \"LAW\": \"Named documents made into laws\", \n",
    "    \"ORG\": \"Companies, agencies, institutions, etc.\", \n",
    "    \"PERCENT\": \"Percentage (including “%”)\",\n",
    "    \"ORDINAL\": \"“first”, “second”\",\n",
    "    \"MONEY\": \"Monetary values, including unit\",\n",
    "    \"WORK_OF_ART\": \"Titles of books, songs, etc.\",\n",
    "    \"FAC\": \"Facilities like Buildings, airports, highways, bridges, etc.\",\n",
    "    \"TIME\": \"Times smaller than a day\",\n",
    "    \"LOC\": \"Non-GPE locations, mountain ranges, bodies of water\",\n",
    "    \"QUANTITY\": \"Measurements, as of weight or distance\",\n",
    "    \"PRODUCT\": \"Vehicles, weapons, foods, etc. (Not services)\",\n",
    "    \"EVENT\": \"Named hurricanes, battles, wars, sports events, etc.\",\n",
    "    \"LANGUAGE\": \"Any named language\"\n",
    "}\n",
    "labels = {\n",
    "    \"CARDINAL\": \"CARDINAL\", \n",
    "    \"DATE\": \"DATE\", \n",
    "    \"PERSON\": \"PERSON\", \n",
    "    \"GPE\": \"GPE\",\n",
    "    \"LAW\": \"LAW\", \n",
    "    \"ORG\": \"ORGANIZATION\", \n",
    "    \"PERCENT\": \"PERCENT\",\n",
    "    \"ORDINAL\": \"ORDINAL\",\n",
    "    \"MONEY\": \"MONEY\",\n",
    "    \"WORK_OF_ART\": \"WORK OF ART\",\n",
    "    \"FAC\": \"FACILITY\",\n",
    "    \"TIME\": \"TIME\",\n",
    "    \"LOC\": \"LOCATION\",\n",
    "    \"QUANTITY\": \"QUANTITY\",\n",
    "    \"NORP\": \"NORP\",\n",
    "    \"PRODUCT\": \"PRODUCT\",\n",
    "    \"EVENT\": \"EVENT\",\n",
    "    \"LANGUAGE\": \"LANGUAGE\"\n",
    "}\n",
    "dataset = template_for_token_classification(labels=labels)"
   ]
  },
  {
   "cell_type": "code",
   "execution_count": 260,
   "id": "bf639fa8-2717-46fd-9336-074086d7ca30",
   "metadata": {
    "execution": {
     "iopub.execute_input": "2024-05-15T14:15:19.356521Z",
     "iopub.status.busy": "2024-05-15T14:15:19.356051Z",
     "iopub.status.idle": "2024-05-15T14:15:19.404959Z",
     "shell.execute_reply": "2024-05-15T14:15:19.404575Z",
     "shell.execute_reply.started": "2024-05-15T14:15:19.356492Z"
    }
   },
   "outputs": [
    {
     "name": "stderr",
     "output_type": "stream",
     "text": [
      "100%|████████████████████████████████████████████████████████████████████████████████████████████████████████████████████████████████████████████████████| 100/100 [00:00<00:00, 2943.58it/s]\n"
     ]
    }
   ],
   "source": [
    "dataset.add_records(list(dataset_to_records(ontonotes['validation'].select(range(100)), \"gold_labels\")))"
   ]
  },
  {
   "cell_type": "code",
   "execution_count": 261,
   "id": "c694e1bd-3236-408e-a9f6-cfb9931c142d",
   "metadata": {
    "execution": {
     "iopub.execute_input": "2024-05-15T14:15:20.732926Z",
     "iopub.status.busy": "2024-05-15T14:15:20.732103Z",
     "iopub.status.idle": "2024-05-15T14:15:21.542132Z",
     "shell.execute_reply": "2024-05-15T14:15:21.541894Z",
     "shell.execute_reply.started": "2024-05-15T14:15:20.732876Z"
    }
   },
   "outputs": [
    {
     "data": {
      "text/html": [
       "<pre style=\"white-space:pre;overflow-x:auto;line-height:normal;font-family:Menlo,'DejaVu Sans Mono',consolas,'Courier New',monospace\"></pre>\n"
      ],
      "text/plain": []
     },
     "metadata": {},
     "output_type": "display_data"
    },
    {
     "data": {
      "text/html": [
       "<pre style=\"white-space:pre;overflow-x:auto;line-height:normal;font-family:Menlo,'DejaVu Sans Mono',consolas,'Courier New',monospace\">\n",
       "</pre>\n"
      ],
      "text/plain": [
       "\n"
      ]
     },
     "metadata": {},
     "output_type": "display_data"
    },
    {
     "data": {
      "text/html": [
       "<pre style=\"white-space:pre;overflow-x:auto;line-height:normal;font-family:Menlo,'DejaVu Sans Mono',consolas,'Courier New',monospace\"><span style=\"color: #7fbfbf; text-decoration-color: #7fbfbf\">[05/15/24 16:15:21] </span><span style=\"color: #000080; text-decoration-color: #000080\">INFO    </span> INFO:argilla.client.feedback.dataset.local.mixins:✓ Dataset succesfully  <a href=\"file:///Users/louis.guitton/workspace/mlops-talk-llm-kg/venv/lib/python3.11/site-packages/argilla/client/feedback/dataset/local/mixins.py\" target=\"_blank\"><span style=\"color: #7f7f7f; text-decoration-color: #7f7f7f\">mixins.py</span></a><span style=\"color: #7f7f7f; text-decoration-color: #7f7f7f\">:</span><a href=\"file:///Users/louis.guitton/workspace/mlops-talk-llm-kg/venv/lib/python3.11/site-packages/argilla/client/feedback/dataset/local/mixins.py#271\" target=\"_blank\"><span style=\"color: #7f7f7f; text-decoration-color: #7f7f7f\">271</span></a>\n",
       "<span style=\"color: #7fbfbf; text-decoration-color: #7fbfbf\">                    </span>         pushed to Argilla                                                        <span style=\"color: #7f7f7f; text-decoration-color: #7f7f7f\">             </span>\n",
       "</pre>\n"
      ],
      "text/plain": [
       "\u001b[2;36m[05/15/24 16:15:21]\u001b[0m\u001b[2;36m \u001b[0m\u001b[34mINFO    \u001b[0m INFO:argilla.client.feedback.dataset.local.mixins:✓ Dataset succesfully  \u001b]8;id=946275;file:///Users/louis.guitton/workspace/mlops-talk-llm-kg/venv/lib/python3.11/site-packages/argilla/client/feedback/dataset/local/mixins.py\u001b\\\u001b[2mmixins.py\u001b[0m\u001b]8;;\u001b\\\u001b[2m:\u001b[0m\u001b]8;id=188040;file:///Users/louis.guitton/workspace/mlops-talk-llm-kg/venv/lib/python3.11/site-packages/argilla/client/feedback/dataset/local/mixins.py#271\u001b\\\u001b[2m271\u001b[0m\u001b]8;;\u001b\\\n",
       "\u001b[2;36m                    \u001b[0m         pushed to Argilla                                                        \u001b[2m             \u001b[0m\n"
      ]
     },
     "metadata": {},
     "output_type": "display_data"
    },
    {
     "data": {
      "text/html": [
       "<pre style=\"white-space:pre;overflow-x:auto;line-height:normal;font-family:Menlo,'DejaVu Sans Mono',consolas,'Courier New',monospace\"><span style=\"color: #7fbfbf; text-decoration-color: #7fbfbf\">                    </span><span style=\"color: #000080; text-decoration-color: #000080\">INFO    </span> INFO:argilla.client.feedback.dataset.local.mixins:<span style=\"color: #800080; text-decoration-color: #800080; font-weight: bold\">RemoteFeedbackDataset</span><span style=\"font-weight: bold\">(</span> <a href=\"file:///Users/louis.guitton/workspace/mlops-talk-llm-kg/venv/lib/python3.11/site-packages/argilla/client/feedback/dataset/local/mixins.py\" target=\"_blank\"><span style=\"color: #7f7f7f; text-decoration-color: #7f7f7f\">mixins.py</span></a><span style=\"color: #7f7f7f; text-decoration-color: #7f7f7f\">:</span><a href=\"file:///Users/louis.guitton/workspace/mlops-talk-llm-kg/venv/lib/python3.11/site-packages/argilla/client/feedback/dataset/local/mixins.py#272\" target=\"_blank\"><span style=\"color: #7f7f7f; text-decoration-color: #7f7f7f\">272</span></a>\n",
       "<span style=\"color: #7fbfbf; text-decoration-color: #7fbfbf\">                    </span>            <span style=\"color: #808000; text-decoration-color: #808000\">id</span>=<span style=\"color: #ffff00; text-decoration-color: #ffff00\">d107868e</span><span style=\"color: #ffff00; text-decoration-color: #ffff00\">-e9e3-4419-bcbe-95e511df4376</span>                               <span style=\"color: #7f7f7f; text-decoration-color: #7f7f7f\">             </span>\n",
       "<span style=\"color: #7fbfbf; text-decoration-color: #7fbfbf\">                    </span>            <span style=\"color: #808000; text-decoration-color: #808000\">name</span>=<span style=\"color: #800080; text-decoration-color: #800080\">dev</span>-ner-ontonotes                                                <span style=\"color: #7f7f7f; text-decoration-color: #7f7f7f\">             </span>\n",
       "<span style=\"color: #7fbfbf; text-decoration-color: #7fbfbf\">                    </span>            <span style=\"color: #808000; text-decoration-color: #808000\">workspace</span>=<span style=\"color: #800080; text-decoration-color: #800080; font-weight: bold\">Workspace</span><span style=\"font-weight: bold\">(</span><span style=\"color: #808000; text-decoration-color: #808000\">id</span>=<span style=\"color: #ffff00; text-decoration-color: #ffff00\">84a8fb6f</span><span style=\"color: #ffff00; text-decoration-color: #ffff00\">-3350-4e9b-97c0-043cfedef934</span>,          <span style=\"color: #7f7f7f; text-decoration-color: #7f7f7f\">             </span>\n",
       "<span style=\"color: #7fbfbf; text-decoration-color: #7fbfbf\">                    </span>         <span style=\"color: #808000; text-decoration-color: #808000\">name</span>=<span style=\"color: #800080; text-decoration-color: #800080\">admin</span>, <span style=\"color: #808000; text-decoration-color: #808000\">inserted_at</span>=<span style=\"color: #008080; text-decoration-color: #008080; font-weight: bold\">2024</span>-<span style=\"color: #008080; text-decoration-color: #008080; font-weight: bold\">05</span>-<span style=\"color: #008080; text-decoration-color: #008080; font-weight: bold\">14</span> <span style=\"color: #00ff00; text-decoration-color: #00ff00; font-weight: bold\">17:08:20</span>.<span style=\"color: #008080; text-decoration-color: #008080; font-weight: bold\">825501</span>,                      <span style=\"color: #7f7f7f; text-decoration-color: #7f7f7f\">             </span>\n",
       "<span style=\"color: #7fbfbf; text-decoration-color: #7fbfbf\">                    </span>         <span style=\"color: #808000; text-decoration-color: #808000\">updated_at</span>=<span style=\"color: #008080; text-decoration-color: #008080; font-weight: bold\">2024</span>-<span style=\"color: #008080; text-decoration-color: #008080; font-weight: bold\">05</span>-<span style=\"color: #008080; text-decoration-color: #008080; font-weight: bold\">14</span> <span style=\"color: #00ff00; text-decoration-color: #00ff00; font-weight: bold\">17:08:20</span>.<span style=\"color: #008080; text-decoration-color: #008080; font-weight: bold\">825501</span><span style=\"font-weight: bold\">)</span>                                   <span style=\"color: #7f7f7f; text-decoration-color: #7f7f7f\">             </span>\n",
       "<span style=\"color: #7fbfbf; text-decoration-color: #7fbfbf\">                    </span>            <span style=\"color: #808000; text-decoration-color: #808000\">url</span>=<span style=\"color: #0000ff; text-decoration-color: #0000ff; text-decoration: underline\">http://localhost:6900/dataset/d107868e-e9e3-4419-bcbe-95e511df437</span> <span style=\"color: #7f7f7f; text-decoration-color: #7f7f7f\">             </span>\n",
       "<span style=\"color: #7fbfbf; text-decoration-color: #7fbfbf\">                    </span>         <span style=\"color: #0000ff; text-decoration-color: #0000ff; text-decoration: underline\">6/annotation-mode</span>                                                        <span style=\"color: #7f7f7f; text-decoration-color: #7f7f7f\">             </span>\n",
       "<span style=\"color: #7fbfbf; text-decoration-color: #7fbfbf\">                    </span>            <span style=\"color: #808000; text-decoration-color: #808000\">fields</span>=<span style=\"font-weight: bold\">[</span><span style=\"color: #800080; text-decoration-color: #800080; font-weight: bold\">RemoteTextField</span><span style=\"font-weight: bold\">(</span><span style=\"color: #808000; text-decoration-color: #808000\">id</span>=<span style=\"color: #800080; text-decoration-color: #800080; font-weight: bold\">UUID</span><span style=\"font-weight: bold\">(</span><span style=\"color: #008000; text-decoration-color: #008000\">'91c2b56d-6563-4dbe-91bc-647e32f9d3a6</span> <span style=\"color: #7f7f7f; text-decoration-color: #7f7f7f\">             </span>\n",
       "<span style=\"color: #7fbfbf; text-decoration-color: #7fbfbf\">                    </span>         <span style=\"color: #008000; text-decoration-color: #008000\">'</span><span style=\"font-weight: bold\">)</span>, <span style=\"color: #808000; text-decoration-color: #808000\">client</span>=<span style=\"color: #800080; text-decoration-color: #800080; font-style: italic\">None</span>, <span style=\"color: #808000; text-decoration-color: #808000\">name</span>=<span style=\"color: #008000; text-decoration-color: #008000\">'text'</span>, <span style=\"color: #808000; text-decoration-color: #808000\">title</span>=<span style=\"color: #008000; text-decoration-color: #008000\">'Text'</span>, <span style=\"color: #808000; text-decoration-color: #808000\">required</span>=<span style=\"color: #00ff00; text-decoration-color: #00ff00; font-style: italic\">True</span>, <span style=\"color: #808000; text-decoration-color: #808000\">type</span>=<span style=\"color: #008000; text-decoration-color: #008000\">'text'</span>,  <span style=\"color: #7f7f7f; text-decoration-color: #7f7f7f\">             </span>\n",
       "<span style=\"color: #7fbfbf; text-decoration-color: #7fbfbf\">                    </span>         <span style=\"color: #808000; text-decoration-color: #808000\">use_markdown</span>=<span style=\"color: #ff0000; text-decoration-color: #ff0000; font-style: italic\">False</span><span style=\"font-weight: bold\">)]</span>                                                     <span style=\"color: #7f7f7f; text-decoration-color: #7f7f7f\">             </span>\n",
       "<span style=\"color: #7fbfbf; text-decoration-color: #7fbfbf\">                    </span>            <span style=\"color: #808000; text-decoration-color: #808000\">questions</span>=<span style=\"font-weight: bold\">[</span><span style=\"color: #800080; text-decoration-color: #800080; font-weight: bold\">RemoteSpanQuestion</span><span style=\"font-weight: bold\">(</span><span style=\"color: #808000; text-decoration-color: #808000\">id</span>=<span style=\"color: #800080; text-decoration-color: #800080; font-weight: bold\">UUID</span><span style=\"font-weight: bold\">(</span><span style=\"color: #008000; text-decoration-color: #008000\">'3422865a-a1fa-4ab5-8c65-f24cc4</span> <span style=\"color: #7f7f7f; text-decoration-color: #7f7f7f\">             </span>\n",
       "<span style=\"color: #7fbfbf; text-decoration-color: #7fbfbf\">                    </span>         <span style=\"color: #008000; text-decoration-color: #008000\">9ccde8'</span><span style=\"font-weight: bold\">)</span>, <span style=\"color: #808000; text-decoration-color: #808000\">client</span>=<span style=\"color: #800080; text-decoration-color: #800080; font-style: italic\">None</span>, <span style=\"color: #808000; text-decoration-color: #808000\">name</span>=<span style=\"color: #008000; text-decoration-color: #008000\">'entities'</span>, <span style=\"color: #808000; text-decoration-color: #808000\">title</span>=<span style=\"color: #008000; text-decoration-color: #008000\">'Highlight the entities in</span> <span style=\"color: #7f7f7f; text-decoration-color: #7f7f7f\">             </span>\n",
       "<span style=\"color: #7fbfbf; text-decoration-color: #7fbfbf\">                    </span>         <span style=\"color: #008000; text-decoration-color: #008000\">the text:'</span>, <span style=\"color: #808000; text-decoration-color: #808000\">description</span>=<span style=\"color: #800080; text-decoration-color: #800080; font-style: italic\">None</span>, <span style=\"color: #808000; text-decoration-color: #808000\">required</span>=<span style=\"color: #00ff00; text-decoration-color: #00ff00; font-style: italic\">True</span>, <span style=\"color: #808000; text-decoration-color: #808000\">type</span>=<span style=\"color: #008000; text-decoration-color: #008000\">'span'</span>, <span style=\"color: #808000; text-decoration-color: #808000\">field</span>=<span style=\"color: #008000; text-decoration-color: #008000\">'text'</span>,  <span style=\"color: #7f7f7f; text-decoration-color: #7f7f7f\">             </span>\n",
       "<span style=\"color: #7fbfbf; text-decoration-color: #7fbfbf\">                    </span>         <span style=\"color: #808000; text-decoration-color: #808000\">labels</span>=<span style=\"font-weight: bold\">[</span><span style=\"color: #800080; text-decoration-color: #800080; font-weight: bold\">SpanLabelOption</span><span style=\"font-weight: bold\">(</span><span style=\"color: #808000; text-decoration-color: #808000\">value</span>=<span style=\"color: #008000; text-decoration-color: #008000\">'CARDINAL'</span>, <span style=\"color: #808000; text-decoration-color: #808000\">text</span>=<span style=\"color: #008000; text-decoration-color: #008000\">'CARDINAL'</span>,               <span style=\"color: #7f7f7f; text-decoration-color: #7f7f7f\">             </span>\n",
       "<span style=\"color: #7fbfbf; text-decoration-color: #7fbfbf\">                    </span>         <span style=\"color: #808000; text-decoration-color: #808000\">description</span>=<span style=\"color: #800080; text-decoration-color: #800080; font-style: italic\">None</span><span style=\"font-weight: bold\">)</span>, <span style=\"color: #800080; text-decoration-color: #800080; font-weight: bold\">SpanLabelOption</span><span style=\"font-weight: bold\">(</span><span style=\"color: #808000; text-decoration-color: #808000\">value</span>=<span style=\"color: #008000; text-decoration-color: #008000\">'DATE'</span>, <span style=\"color: #808000; text-decoration-color: #808000\">text</span>=<span style=\"color: #008000; text-decoration-color: #008000\">'DATE'</span>,            <span style=\"color: #7f7f7f; text-decoration-color: #7f7f7f\">             </span>\n",
       "<span style=\"color: #7fbfbf; text-decoration-color: #7fbfbf\">                    </span>         <span style=\"color: #808000; text-decoration-color: #808000\">description</span>=<span style=\"color: #800080; text-decoration-color: #800080; font-style: italic\">None</span><span style=\"font-weight: bold\">)</span>, <span style=\"color: #800080; text-decoration-color: #800080; font-weight: bold\">SpanLabelOption</span><span style=\"font-weight: bold\">(</span><span style=\"color: #808000; text-decoration-color: #808000\">value</span>=<span style=\"color: #008000; text-decoration-color: #008000\">'PERSON'</span>, <span style=\"color: #808000; text-decoration-color: #808000\">text</span>=<span style=\"color: #008000; text-decoration-color: #008000\">'PERSON'</span>,        <span style=\"color: #7f7f7f; text-decoration-color: #7f7f7f\">             </span>\n",
       "<span style=\"color: #7fbfbf; text-decoration-color: #7fbfbf\">                    </span>         <span style=\"color: #808000; text-decoration-color: #808000\">description</span>=<span style=\"color: #800080; text-decoration-color: #800080; font-style: italic\">None</span><span style=\"font-weight: bold\">)</span>, <span style=\"color: #800080; text-decoration-color: #800080; font-weight: bold\">SpanLabelOption</span><span style=\"font-weight: bold\">(</span><span style=\"color: #808000; text-decoration-color: #808000\">value</span>=<span style=\"color: #008000; text-decoration-color: #008000\">'GPE'</span>, <span style=\"color: #808000; text-decoration-color: #808000\">text</span>=<span style=\"color: #008000; text-decoration-color: #008000\">'GPE'</span>,              <span style=\"color: #7f7f7f; text-decoration-color: #7f7f7f\">             </span>\n",
       "<span style=\"color: #7fbfbf; text-decoration-color: #7fbfbf\">                    </span>         <span style=\"color: #808000; text-decoration-color: #808000\">description</span>=<span style=\"color: #800080; text-decoration-color: #800080; font-style: italic\">None</span><span style=\"font-weight: bold\">)</span>, <span style=\"color: #800080; text-decoration-color: #800080; font-weight: bold\">SpanLabelOption</span><span style=\"font-weight: bold\">(</span><span style=\"color: #808000; text-decoration-color: #808000\">value</span>=<span style=\"color: #008000; text-decoration-color: #008000\">'LAW'</span>, <span style=\"color: #808000; text-decoration-color: #808000\">text</span>=<span style=\"color: #008000; text-decoration-color: #008000\">'LAW'</span>,              <span style=\"color: #7f7f7f; text-decoration-color: #7f7f7f\">             </span>\n",
       "<span style=\"color: #7fbfbf; text-decoration-color: #7fbfbf\">                    </span>         <span style=\"color: #808000; text-decoration-color: #808000\">description</span>=<span style=\"color: #800080; text-decoration-color: #800080; font-style: italic\">None</span><span style=\"font-weight: bold\">)</span>, <span style=\"color: #800080; text-decoration-color: #800080; font-weight: bold\">SpanLabelOption</span><span style=\"font-weight: bold\">(</span><span style=\"color: #808000; text-decoration-color: #808000\">value</span>=<span style=\"color: #008000; text-decoration-color: #008000\">'ORG'</span>, <span style=\"color: #808000; text-decoration-color: #808000\">text</span>=<span style=\"color: #008000; text-decoration-color: #008000\">'ORGANIZATION'</span>,     <span style=\"color: #7f7f7f; text-decoration-color: #7f7f7f\">             </span>\n",
       "<span style=\"color: #7fbfbf; text-decoration-color: #7fbfbf\">                    </span>         <span style=\"color: #808000; text-decoration-color: #808000\">description</span>=<span style=\"color: #800080; text-decoration-color: #800080; font-style: italic\">None</span><span style=\"font-weight: bold\">)</span>, <span style=\"color: #800080; text-decoration-color: #800080; font-weight: bold\">SpanLabelOption</span><span style=\"font-weight: bold\">(</span><span style=\"color: #808000; text-decoration-color: #808000\">value</span>=<span style=\"color: #008000; text-decoration-color: #008000\">'PERCENT'</span>, <span style=\"color: #808000; text-decoration-color: #808000\">text</span>=<span style=\"color: #008000; text-decoration-color: #008000\">'PERCENT'</span>,      <span style=\"color: #7f7f7f; text-decoration-color: #7f7f7f\">             </span>\n",
       "<span style=\"color: #7fbfbf; text-decoration-color: #7fbfbf\">                    </span>         <span style=\"color: #808000; text-decoration-color: #808000\">description</span>=<span style=\"color: #800080; text-decoration-color: #800080; font-style: italic\">None</span><span style=\"font-weight: bold\">)</span>, <span style=\"color: #800080; text-decoration-color: #800080; font-weight: bold\">SpanLabelOption</span><span style=\"font-weight: bold\">(</span><span style=\"color: #808000; text-decoration-color: #808000\">value</span>=<span style=\"color: #008000; text-decoration-color: #008000\">'ORDINAL'</span>, <span style=\"color: #808000; text-decoration-color: #808000\">text</span>=<span style=\"color: #008000; text-decoration-color: #008000\">'ORDINAL'</span>,      <span style=\"color: #7f7f7f; text-decoration-color: #7f7f7f\">             </span>\n",
       "<span style=\"color: #7fbfbf; text-decoration-color: #7fbfbf\">                    </span>         <span style=\"color: #808000; text-decoration-color: #808000\">description</span>=<span style=\"color: #800080; text-decoration-color: #800080; font-style: italic\">None</span><span style=\"font-weight: bold\">)</span>, <span style=\"color: #800080; text-decoration-color: #800080; font-weight: bold\">SpanLabelOption</span><span style=\"font-weight: bold\">(</span><span style=\"color: #808000; text-decoration-color: #808000\">value</span>=<span style=\"color: #008000; text-decoration-color: #008000\">'MONEY'</span>, <span style=\"color: #808000; text-decoration-color: #808000\">text</span>=<span style=\"color: #008000; text-decoration-color: #008000\">'MONEY'</span>,          <span style=\"color: #7f7f7f; text-decoration-color: #7f7f7f\">             </span>\n",
       "<span style=\"color: #7fbfbf; text-decoration-color: #7fbfbf\">                    </span>         <span style=\"color: #808000; text-decoration-color: #808000\">description</span>=<span style=\"color: #800080; text-decoration-color: #800080; font-style: italic\">None</span><span style=\"font-weight: bold\">)</span>, <span style=\"color: #800080; text-decoration-color: #800080; font-weight: bold\">SpanLabelOption</span><span style=\"font-weight: bold\">(</span><span style=\"color: #808000; text-decoration-color: #808000\">value</span>=<span style=\"color: #008000; text-decoration-color: #008000\">'WORK_OF_ART'</span>, <span style=\"color: #808000; text-decoration-color: #808000\">text</span>=<span style=\"color: #008000; text-decoration-color: #008000\">'WORK OF </span>   <span style=\"color: #7f7f7f; text-decoration-color: #7f7f7f\">             </span>\n",
       "<span style=\"color: #7fbfbf; text-decoration-color: #7fbfbf\">                    </span>         <span style=\"color: #008000; text-decoration-color: #008000\">ART'</span>, <span style=\"color: #808000; text-decoration-color: #808000\">description</span>=<span style=\"color: #800080; text-decoration-color: #800080; font-style: italic\">None</span><span style=\"font-weight: bold\">)</span>, <span style=\"color: #800080; text-decoration-color: #800080; font-weight: bold\">SpanLabelOption</span><span style=\"font-weight: bold\">(</span><span style=\"color: #808000; text-decoration-color: #808000\">value</span>=<span style=\"color: #008000; text-decoration-color: #008000\">'FAC'</span>, <span style=\"color: #808000; text-decoration-color: #808000\">text</span>=<span style=\"color: #008000; text-decoration-color: #008000\">'FACILITY'</span>,   <span style=\"color: #7f7f7f; text-decoration-color: #7f7f7f\">             </span>\n",
       "<span style=\"color: #7fbfbf; text-decoration-color: #7fbfbf\">                    </span>         <span style=\"color: #808000; text-decoration-color: #808000\">description</span>=<span style=\"color: #800080; text-decoration-color: #800080; font-style: italic\">None</span><span style=\"font-weight: bold\">)</span>, <span style=\"color: #800080; text-decoration-color: #800080; font-weight: bold\">SpanLabelOption</span><span style=\"font-weight: bold\">(</span><span style=\"color: #808000; text-decoration-color: #808000\">value</span>=<span style=\"color: #008000; text-decoration-color: #008000\">'TIME'</span>, <span style=\"color: #808000; text-decoration-color: #808000\">text</span>=<span style=\"color: #008000; text-decoration-color: #008000\">'TIME'</span>,            <span style=\"color: #7f7f7f; text-decoration-color: #7f7f7f\">             </span>\n",
       "<span style=\"color: #7fbfbf; text-decoration-color: #7fbfbf\">                    </span>         <span style=\"color: #808000; text-decoration-color: #808000\">description</span>=<span style=\"color: #800080; text-decoration-color: #800080; font-style: italic\">None</span><span style=\"font-weight: bold\">)</span>, <span style=\"color: #800080; text-decoration-color: #800080; font-weight: bold\">SpanLabelOption</span><span style=\"font-weight: bold\">(</span><span style=\"color: #808000; text-decoration-color: #808000\">value</span>=<span style=\"color: #008000; text-decoration-color: #008000\">'LOC'</span>, <span style=\"color: #808000; text-decoration-color: #808000\">text</span>=<span style=\"color: #008000; text-decoration-color: #008000\">'LOCATION'</span>,         <span style=\"color: #7f7f7f; text-decoration-color: #7f7f7f\">             </span>\n",
       "<span style=\"color: #7fbfbf; text-decoration-color: #7fbfbf\">                    </span>         <span style=\"color: #808000; text-decoration-color: #808000\">description</span>=<span style=\"color: #800080; text-decoration-color: #800080; font-style: italic\">None</span><span style=\"font-weight: bold\">)</span>, <span style=\"color: #800080; text-decoration-color: #800080; font-weight: bold\">SpanLabelOption</span><span style=\"font-weight: bold\">(</span><span style=\"color: #808000; text-decoration-color: #808000\">value</span>=<span style=\"color: #008000; text-decoration-color: #008000\">'QUANTITY'</span>, <span style=\"color: #808000; text-decoration-color: #808000\">text</span>=<span style=\"color: #008000; text-decoration-color: #008000\">'QUANTITY'</span>,    <span style=\"color: #7f7f7f; text-decoration-color: #7f7f7f\">             </span>\n",
       "<span style=\"color: #7fbfbf; text-decoration-color: #7fbfbf\">                    </span>         <span style=\"color: #808000; text-decoration-color: #808000\">description</span>=<span style=\"color: #800080; text-decoration-color: #800080; font-style: italic\">None</span><span style=\"font-weight: bold\">)</span>, <span style=\"color: #800080; text-decoration-color: #800080; font-weight: bold\">SpanLabelOption</span><span style=\"font-weight: bold\">(</span><span style=\"color: #808000; text-decoration-color: #808000\">value</span>=<span style=\"color: #008000; text-decoration-color: #008000\">'NORP'</span>, <span style=\"color: #808000; text-decoration-color: #808000\">text</span>=<span style=\"color: #008000; text-decoration-color: #008000\">'NORP'</span>,            <span style=\"color: #7f7f7f; text-decoration-color: #7f7f7f\">             </span>\n",
       "<span style=\"color: #7fbfbf; text-decoration-color: #7fbfbf\">                    </span>         <span style=\"color: #808000; text-decoration-color: #808000\">description</span>=<span style=\"color: #800080; text-decoration-color: #800080; font-style: italic\">None</span><span style=\"font-weight: bold\">)</span>, <span style=\"color: #800080; text-decoration-color: #800080; font-weight: bold\">SpanLabelOption</span><span style=\"font-weight: bold\">(</span><span style=\"color: #808000; text-decoration-color: #808000\">value</span>=<span style=\"color: #008000; text-decoration-color: #008000\">'PRODUCT'</span>, <span style=\"color: #808000; text-decoration-color: #808000\">text</span>=<span style=\"color: #008000; text-decoration-color: #008000\">'PRODUCT'</span>,      <span style=\"color: #7f7f7f; text-decoration-color: #7f7f7f\">             </span>\n",
       "<span style=\"color: #7fbfbf; text-decoration-color: #7fbfbf\">                    </span>         <span style=\"color: #808000; text-decoration-color: #808000\">description</span>=<span style=\"color: #800080; text-decoration-color: #800080; font-style: italic\">None</span><span style=\"font-weight: bold\">)</span>, <span style=\"color: #800080; text-decoration-color: #800080; font-weight: bold\">SpanLabelOption</span><span style=\"font-weight: bold\">(</span><span style=\"color: #808000; text-decoration-color: #808000\">value</span>=<span style=\"color: #008000; text-decoration-color: #008000\">'EVENT'</span>, <span style=\"color: #808000; text-decoration-color: #808000\">text</span>=<span style=\"color: #008000; text-decoration-color: #008000\">'EVENT'</span>,          <span style=\"color: #7f7f7f; text-decoration-color: #7f7f7f\">             </span>\n",
       "<span style=\"color: #7fbfbf; text-decoration-color: #7fbfbf\">                    </span>         <span style=\"color: #808000; text-decoration-color: #808000\">description</span>=<span style=\"color: #800080; text-decoration-color: #800080; font-style: italic\">None</span><span style=\"font-weight: bold\">)</span>, <span style=\"color: #800080; text-decoration-color: #800080; font-weight: bold\">SpanLabelOption</span><span style=\"font-weight: bold\">(</span><span style=\"color: #808000; text-decoration-color: #808000\">value</span>=<span style=\"color: #008000; text-decoration-color: #008000\">'LANGUAGE'</span>, <span style=\"color: #808000; text-decoration-color: #808000\">text</span>=<span style=\"color: #008000; text-decoration-color: #008000\">'LANGUAGE'</span>,    <span style=\"color: #7f7f7f; text-decoration-color: #7f7f7f\">             </span>\n",
       "<span style=\"color: #7fbfbf; text-decoration-color: #7fbfbf\">                    </span>         <span style=\"color: #808000; text-decoration-color: #808000\">description</span>=<span style=\"color: #800080; text-decoration-color: #800080; font-style: italic\">None</span><span style=\"font-weight: bold\">)]</span>, <span style=\"color: #808000; text-decoration-color: #808000\">visible_labels</span>=<span style=\"color: #008080; text-decoration-color: #008080; font-weight: bold\">18</span>, <span style=\"color: #808000; text-decoration-color: #808000\">allow_overlapping</span>=<span style=\"color: #00ff00; text-decoration-color: #00ff00; font-style: italic\">True</span><span style=\"font-weight: bold\">)]</span>          <span style=\"color: #7f7f7f; text-decoration-color: #7f7f7f\">             </span>\n",
       "<span style=\"color: #7fbfbf; text-decoration-color: #7fbfbf\">                    </span>            <span style=\"color: #808000; text-decoration-color: #808000\">guidelines</span>=<span style=\"color: #800080; text-decoration-color: #800080; font-style: italic\">None</span>                                                       <span style=\"color: #7f7f7f; text-decoration-color: #7f7f7f\">             </span>\n",
       "<span style=\"color: #7fbfbf; text-decoration-color: #7fbfbf\">                    </span>            <span style=\"color: #808000; text-decoration-color: #808000\">metadata_properties</span>=<span style=\"font-weight: bold\">[]</span>                                                <span style=\"color: #7f7f7f; text-decoration-color: #7f7f7f\">             </span>\n",
       "<span style=\"color: #7fbfbf; text-decoration-color: #7fbfbf\">                    </span>            <span style=\"color: #808000; text-decoration-color: #808000\">vectors_settings</span>=<span style=\"font-weight: bold\">[]</span>                                                   <span style=\"color: #7f7f7f; text-decoration-color: #7f7f7f\">             </span>\n",
       "<span style=\"color: #7fbfbf; text-decoration-color: #7fbfbf\">                    </span>         <span style=\"font-weight: bold\">)</span>                                                                        <span style=\"color: #7f7f7f; text-decoration-color: #7f7f7f\">             </span>\n",
       "</pre>\n"
      ],
      "text/plain": [
       "\u001b[2;36m                   \u001b[0m\u001b[2;36m \u001b[0m\u001b[34mINFO    \u001b[0m INFO:argilla.client.feedback.dataset.local.mixins:\u001b[1;35mRemoteFeedbackDataset\u001b[0m\u001b[1m(\u001b[0m \u001b]8;id=788983;file:///Users/louis.guitton/workspace/mlops-talk-llm-kg/venv/lib/python3.11/site-packages/argilla/client/feedback/dataset/local/mixins.py\u001b\\\u001b[2mmixins.py\u001b[0m\u001b]8;;\u001b\\\u001b[2m:\u001b[0m\u001b]8;id=691649;file:///Users/louis.guitton/workspace/mlops-talk-llm-kg/venv/lib/python3.11/site-packages/argilla/client/feedback/dataset/local/mixins.py#272\u001b\\\u001b[2m272\u001b[0m\u001b]8;;\u001b\\\n",
       "\u001b[2;36m                    \u001b[0m            \u001b[33mid\u001b[0m=\u001b[93md107868e\u001b[0m\u001b[93m-e9e3-4419-bcbe-95e511df4376\u001b[0m                               \u001b[2m             \u001b[0m\n",
       "\u001b[2;36m                    \u001b[0m            \u001b[33mname\u001b[0m=\u001b[35mdev\u001b[0m-ner-ontonotes                                                \u001b[2m             \u001b[0m\n",
       "\u001b[2;36m                    \u001b[0m            \u001b[33mworkspace\u001b[0m=\u001b[1;35mWorkspace\u001b[0m\u001b[1m(\u001b[0m\u001b[33mid\u001b[0m=\u001b[93m84a8fb6f\u001b[0m\u001b[93m-3350-4e9b-97c0-043cfedef934\u001b[0m,          \u001b[2m             \u001b[0m\n",
       "\u001b[2;36m                    \u001b[0m         \u001b[33mname\u001b[0m=\u001b[35madmin\u001b[0m, \u001b[33minserted_at\u001b[0m=\u001b[1;36m2024\u001b[0m-\u001b[1;36m05\u001b[0m-\u001b[1;36m14\u001b[0m \u001b[1;92m17:08:20\u001b[0m.\u001b[1;36m825501\u001b[0m,                      \u001b[2m             \u001b[0m\n",
       "\u001b[2;36m                    \u001b[0m         \u001b[33mupdated_at\u001b[0m=\u001b[1;36m2024\u001b[0m-\u001b[1;36m05\u001b[0m-\u001b[1;36m14\u001b[0m \u001b[1;92m17:08:20\u001b[0m.\u001b[1;36m825501\u001b[0m\u001b[1m)\u001b[0m                                   \u001b[2m             \u001b[0m\n",
       "\u001b[2;36m                    \u001b[0m            \u001b[33murl\u001b[0m=\u001b[4;94mhttp\u001b[0m\u001b[4;94m://localhost:6900/dataset/d107868e-e9e3-4419-bcbe-95e511df437\u001b[0m \u001b[2m             \u001b[0m\n",
       "\u001b[2;36m                    \u001b[0m         \u001b[4;94m6/annotation-mode\u001b[0m                                                        \u001b[2m             \u001b[0m\n",
       "\u001b[2;36m                    \u001b[0m            \u001b[33mfields\u001b[0m=\u001b[1m[\u001b[0m\u001b[1;35mRemoteTextField\u001b[0m\u001b[1m(\u001b[0m\u001b[33mid\u001b[0m=\u001b[1;35mUUID\u001b[0m\u001b[1m(\u001b[0m\u001b[32m'91c2b56d-6563-4dbe-91bc-647e32f9d3a6\u001b[0m \u001b[2m             \u001b[0m\n",
       "\u001b[2;36m                    \u001b[0m         \u001b[32m'\u001b[0m\u001b[1m)\u001b[0m, \u001b[33mclient\u001b[0m=\u001b[3;35mNone\u001b[0m, \u001b[33mname\u001b[0m=\u001b[32m'text'\u001b[0m, \u001b[33mtitle\u001b[0m=\u001b[32m'Text'\u001b[0m, \u001b[33mrequired\u001b[0m=\u001b[3;92mTrue\u001b[0m, \u001b[33mtype\u001b[0m=\u001b[32m'text'\u001b[0m,  \u001b[2m             \u001b[0m\n",
       "\u001b[2;36m                    \u001b[0m         \u001b[33muse_markdown\u001b[0m=\u001b[3;91mFalse\u001b[0m\u001b[1m)\u001b[0m\u001b[1m]\u001b[0m                                                     \u001b[2m             \u001b[0m\n",
       "\u001b[2;36m                    \u001b[0m            \u001b[33mquestions\u001b[0m=\u001b[1m[\u001b[0m\u001b[1;35mRemoteSpanQuestion\u001b[0m\u001b[1m(\u001b[0m\u001b[33mid\u001b[0m=\u001b[1;35mUUID\u001b[0m\u001b[1m(\u001b[0m\u001b[32m'3422865a-a1fa-4ab5-8c65-f24cc4\u001b[0m \u001b[2m             \u001b[0m\n",
       "\u001b[2;36m                    \u001b[0m         \u001b[32m9ccde8'\u001b[0m\u001b[1m)\u001b[0m, \u001b[33mclient\u001b[0m=\u001b[3;35mNone\u001b[0m, \u001b[33mname\u001b[0m=\u001b[32m'entities'\u001b[0m, \u001b[33mtitle\u001b[0m=\u001b[32m'Highlight the entities in\u001b[0m \u001b[2m             \u001b[0m\n",
       "\u001b[2;36m                    \u001b[0m         \u001b[32mthe text:'\u001b[0m, \u001b[33mdescription\u001b[0m=\u001b[3;35mNone\u001b[0m, \u001b[33mrequired\u001b[0m=\u001b[3;92mTrue\u001b[0m, \u001b[33mtype\u001b[0m=\u001b[32m'span'\u001b[0m, \u001b[33mfield\u001b[0m=\u001b[32m'text'\u001b[0m,  \u001b[2m             \u001b[0m\n",
       "\u001b[2;36m                    \u001b[0m         \u001b[33mlabels\u001b[0m=\u001b[1m[\u001b[0m\u001b[1;35mSpanLabelOption\u001b[0m\u001b[1m(\u001b[0m\u001b[33mvalue\u001b[0m=\u001b[32m'CARDINAL'\u001b[0m, \u001b[33mtext\u001b[0m=\u001b[32m'CARDINAL'\u001b[0m,               \u001b[2m             \u001b[0m\n",
       "\u001b[2;36m                    \u001b[0m         \u001b[33mdescription\u001b[0m=\u001b[3;35mNone\u001b[0m\u001b[1m)\u001b[0m, \u001b[1;35mSpanLabelOption\u001b[0m\u001b[1m(\u001b[0m\u001b[33mvalue\u001b[0m=\u001b[32m'DATE'\u001b[0m, \u001b[33mtext\u001b[0m=\u001b[32m'DATE'\u001b[0m,            \u001b[2m             \u001b[0m\n",
       "\u001b[2;36m                    \u001b[0m         \u001b[33mdescription\u001b[0m=\u001b[3;35mNone\u001b[0m\u001b[1m)\u001b[0m, \u001b[1;35mSpanLabelOption\u001b[0m\u001b[1m(\u001b[0m\u001b[33mvalue\u001b[0m=\u001b[32m'PERSON'\u001b[0m, \u001b[33mtext\u001b[0m=\u001b[32m'PERSON'\u001b[0m,        \u001b[2m             \u001b[0m\n",
       "\u001b[2;36m                    \u001b[0m         \u001b[33mdescription\u001b[0m=\u001b[3;35mNone\u001b[0m\u001b[1m)\u001b[0m, \u001b[1;35mSpanLabelOption\u001b[0m\u001b[1m(\u001b[0m\u001b[33mvalue\u001b[0m=\u001b[32m'GPE'\u001b[0m, \u001b[33mtext\u001b[0m=\u001b[32m'GPE'\u001b[0m,              \u001b[2m             \u001b[0m\n",
       "\u001b[2;36m                    \u001b[0m         \u001b[33mdescription\u001b[0m=\u001b[3;35mNone\u001b[0m\u001b[1m)\u001b[0m, \u001b[1;35mSpanLabelOption\u001b[0m\u001b[1m(\u001b[0m\u001b[33mvalue\u001b[0m=\u001b[32m'LAW'\u001b[0m, \u001b[33mtext\u001b[0m=\u001b[32m'LAW'\u001b[0m,              \u001b[2m             \u001b[0m\n",
       "\u001b[2;36m                    \u001b[0m         \u001b[33mdescription\u001b[0m=\u001b[3;35mNone\u001b[0m\u001b[1m)\u001b[0m, \u001b[1;35mSpanLabelOption\u001b[0m\u001b[1m(\u001b[0m\u001b[33mvalue\u001b[0m=\u001b[32m'ORG'\u001b[0m, \u001b[33mtext\u001b[0m=\u001b[32m'ORGANIZATION'\u001b[0m,     \u001b[2m             \u001b[0m\n",
       "\u001b[2;36m                    \u001b[0m         \u001b[33mdescription\u001b[0m=\u001b[3;35mNone\u001b[0m\u001b[1m)\u001b[0m, \u001b[1;35mSpanLabelOption\u001b[0m\u001b[1m(\u001b[0m\u001b[33mvalue\u001b[0m=\u001b[32m'PERCENT'\u001b[0m, \u001b[33mtext\u001b[0m=\u001b[32m'PERCENT'\u001b[0m,      \u001b[2m             \u001b[0m\n",
       "\u001b[2;36m                    \u001b[0m         \u001b[33mdescription\u001b[0m=\u001b[3;35mNone\u001b[0m\u001b[1m)\u001b[0m, \u001b[1;35mSpanLabelOption\u001b[0m\u001b[1m(\u001b[0m\u001b[33mvalue\u001b[0m=\u001b[32m'ORDINAL'\u001b[0m, \u001b[33mtext\u001b[0m=\u001b[32m'ORDINAL'\u001b[0m,      \u001b[2m             \u001b[0m\n",
       "\u001b[2;36m                    \u001b[0m         \u001b[33mdescription\u001b[0m=\u001b[3;35mNone\u001b[0m\u001b[1m)\u001b[0m, \u001b[1;35mSpanLabelOption\u001b[0m\u001b[1m(\u001b[0m\u001b[33mvalue\u001b[0m=\u001b[32m'MONEY'\u001b[0m, \u001b[33mtext\u001b[0m=\u001b[32m'MONEY'\u001b[0m,          \u001b[2m             \u001b[0m\n",
       "\u001b[2;36m                    \u001b[0m         \u001b[33mdescription\u001b[0m=\u001b[3;35mNone\u001b[0m\u001b[1m)\u001b[0m, \u001b[1;35mSpanLabelOption\u001b[0m\u001b[1m(\u001b[0m\u001b[33mvalue\u001b[0m=\u001b[32m'WORK_OF_ART'\u001b[0m, \u001b[33mtext\u001b[0m=\u001b[32m'WORK OF \u001b[0m   \u001b[2m             \u001b[0m\n",
       "\u001b[2;36m                    \u001b[0m         \u001b[32mART'\u001b[0m, \u001b[33mdescription\u001b[0m=\u001b[3;35mNone\u001b[0m\u001b[1m)\u001b[0m, \u001b[1;35mSpanLabelOption\u001b[0m\u001b[1m(\u001b[0m\u001b[33mvalue\u001b[0m=\u001b[32m'FAC'\u001b[0m, \u001b[33mtext\u001b[0m=\u001b[32m'FACILITY'\u001b[0m,   \u001b[2m             \u001b[0m\n",
       "\u001b[2;36m                    \u001b[0m         \u001b[33mdescription\u001b[0m=\u001b[3;35mNone\u001b[0m\u001b[1m)\u001b[0m, \u001b[1;35mSpanLabelOption\u001b[0m\u001b[1m(\u001b[0m\u001b[33mvalue\u001b[0m=\u001b[32m'TIME'\u001b[0m, \u001b[33mtext\u001b[0m=\u001b[32m'TIME'\u001b[0m,            \u001b[2m             \u001b[0m\n",
       "\u001b[2;36m                    \u001b[0m         \u001b[33mdescription\u001b[0m=\u001b[3;35mNone\u001b[0m\u001b[1m)\u001b[0m, \u001b[1;35mSpanLabelOption\u001b[0m\u001b[1m(\u001b[0m\u001b[33mvalue\u001b[0m=\u001b[32m'LOC'\u001b[0m, \u001b[33mtext\u001b[0m=\u001b[32m'LOCATION'\u001b[0m,         \u001b[2m             \u001b[0m\n",
       "\u001b[2;36m                    \u001b[0m         \u001b[33mdescription\u001b[0m=\u001b[3;35mNone\u001b[0m\u001b[1m)\u001b[0m, \u001b[1;35mSpanLabelOption\u001b[0m\u001b[1m(\u001b[0m\u001b[33mvalue\u001b[0m=\u001b[32m'QUANTITY'\u001b[0m, \u001b[33mtext\u001b[0m=\u001b[32m'QUANTITY'\u001b[0m,    \u001b[2m             \u001b[0m\n",
       "\u001b[2;36m                    \u001b[0m         \u001b[33mdescription\u001b[0m=\u001b[3;35mNone\u001b[0m\u001b[1m)\u001b[0m, \u001b[1;35mSpanLabelOption\u001b[0m\u001b[1m(\u001b[0m\u001b[33mvalue\u001b[0m=\u001b[32m'NORP'\u001b[0m, \u001b[33mtext\u001b[0m=\u001b[32m'NORP'\u001b[0m,            \u001b[2m             \u001b[0m\n",
       "\u001b[2;36m                    \u001b[0m         \u001b[33mdescription\u001b[0m=\u001b[3;35mNone\u001b[0m\u001b[1m)\u001b[0m, \u001b[1;35mSpanLabelOption\u001b[0m\u001b[1m(\u001b[0m\u001b[33mvalue\u001b[0m=\u001b[32m'PRODUCT'\u001b[0m, \u001b[33mtext\u001b[0m=\u001b[32m'PRODUCT'\u001b[0m,      \u001b[2m             \u001b[0m\n",
       "\u001b[2;36m                    \u001b[0m         \u001b[33mdescription\u001b[0m=\u001b[3;35mNone\u001b[0m\u001b[1m)\u001b[0m, \u001b[1;35mSpanLabelOption\u001b[0m\u001b[1m(\u001b[0m\u001b[33mvalue\u001b[0m=\u001b[32m'EVENT'\u001b[0m, \u001b[33mtext\u001b[0m=\u001b[32m'EVENT'\u001b[0m,          \u001b[2m             \u001b[0m\n",
       "\u001b[2;36m                    \u001b[0m         \u001b[33mdescription\u001b[0m=\u001b[3;35mNone\u001b[0m\u001b[1m)\u001b[0m, \u001b[1;35mSpanLabelOption\u001b[0m\u001b[1m(\u001b[0m\u001b[33mvalue\u001b[0m=\u001b[32m'LANGUAGE'\u001b[0m, \u001b[33mtext\u001b[0m=\u001b[32m'LANGUAGE'\u001b[0m,    \u001b[2m             \u001b[0m\n",
       "\u001b[2;36m                    \u001b[0m         \u001b[33mdescription\u001b[0m=\u001b[3;35mNone\u001b[0m\u001b[1m)\u001b[0m\u001b[1m]\u001b[0m, \u001b[33mvisible_labels\u001b[0m=\u001b[1;36m18\u001b[0m, \u001b[33mallow_overlapping\u001b[0m=\u001b[3;92mTrue\u001b[0m\u001b[1m)\u001b[0m\u001b[1m]\u001b[0m          \u001b[2m             \u001b[0m\n",
       "\u001b[2;36m                    \u001b[0m            \u001b[33mguidelines\u001b[0m=\u001b[3;35mNone\u001b[0m                                                       \u001b[2m             \u001b[0m\n",
       "\u001b[2;36m                    \u001b[0m            \u001b[33mmetadata_properties\u001b[0m=\u001b[1m[\u001b[0m\u001b[1m]\u001b[0m                                                \u001b[2m             \u001b[0m\n",
       "\u001b[2;36m                    \u001b[0m            \u001b[33mvectors_settings\u001b[0m=\u001b[1m[\u001b[0m\u001b[1m]\u001b[0m                                                   \u001b[2m             \u001b[0m\n",
       "\u001b[2;36m                    \u001b[0m         \u001b[1m)\u001b[0m                                                                        \u001b[2m             \u001b[0m\n"
      ]
     },
     "metadata": {},
     "output_type": "display_data"
    },
    {
     "data": {
      "text/plain": [
       "RemoteFeedbackDataset(\n",
       "   id=d107868e-e9e3-4419-bcbe-95e511df4376\n",
       "   name=dev-ner-ontonotes\n",
       "   workspace=Workspace(id=84a8fb6f-3350-4e9b-97c0-043cfedef934, name=admin, inserted_at=2024-05-14 17:08:20.825501, updated_at=2024-05-14 17:08:20.825501)\n",
       "   url=http://localhost:6900/dataset/d107868e-e9e3-4419-bcbe-95e511df4376/annotation-mode\n",
       "   fields=[RemoteTextField(id=UUID('91c2b56d-6563-4dbe-91bc-647e32f9d3a6'), client=None, name='text', title='Text', required=True, type='text', use_markdown=False)]\n",
       "   questions=[RemoteSpanQuestion(id=UUID('3422865a-a1fa-4ab5-8c65-f24cc49ccde8'), client=None, name='entities', title='Highlight the entities in the text:', description=None, required=True, type='span', field='text', labels=[SpanLabelOption(value='CARDINAL', text='CARDINAL', description=None), SpanLabelOption(value='DATE', text='DATE', description=None), SpanLabelOption(value='PERSON', text='PERSON', description=None), SpanLabelOption(value='GPE', text='GPE', description=None), SpanLabelOption(value='LAW', text='LAW', description=None), SpanLabelOption(value='ORG', text='ORGANIZATION', description=None), SpanLabelOption(value='PERCENT', text='PERCENT', description=None), SpanLabelOption(value='ORDINAL', text='ORDINAL', description=None), SpanLabelOption(value='MONEY', text='MONEY', description=None), SpanLabelOption(value='WORK_OF_ART', text='WORK OF ART', description=None), SpanLabelOption(value='FAC', text='FACILITY', description=None), SpanLabelOption(value='TIME', text='TIME', description=None), SpanLabelOption(value='LOC', text='LOCATION', description=None), SpanLabelOption(value='QUANTITY', text='QUANTITY', description=None), SpanLabelOption(value='NORP', text='NORP', description=None), SpanLabelOption(value='PRODUCT', text='PRODUCT', description=None), SpanLabelOption(value='EVENT', text='EVENT', description=None), SpanLabelOption(value='LANGUAGE', text='LANGUAGE', description=None)], visible_labels=18, allow_overlapping=True)]\n",
       "   guidelines=None\n",
       "   metadata_properties=[]\n",
       "   vectors_settings=[]\n",
       ")"
      ]
     },
     "execution_count": 261,
     "metadata": {},
     "output_type": "execute_result"
    }
   ],
   "source": [
    "dataset.push_to_argilla(name=\"dev-ner-ontonotes\", workspace=\"admin\")"
   ]
  },
  {
   "cell_type": "markdown",
   "id": "c9710416-82e3-457d-897c-3160b339a970",
   "metadata": {},
   "source": [
    "## Push to Huggingface"
   ]
  },
  {
   "cell_type": "code",
   "execution_count": 155,
   "id": "94eb2e74-9b5a-49e1-871b-5c9e0c7602bb",
   "metadata": {
    "execution": {
     "iopub.execute_input": "2024-05-15T09:10:20.970261Z",
     "iopub.status.busy": "2024-05-15T09:10:20.969003Z",
     "iopub.status.idle": "2024-05-15T09:10:24.384816Z",
     "shell.execute_reply": "2024-05-15T09:10:24.383729Z",
     "shell.execute_reply.started": "2024-05-15T09:10:20.970207Z"
    }
   },
   "outputs": [
    {
     "name": "stderr",
     "output_type": "stream",
     "text": [
      "Uploading the dataset shards:   0%|                                                                                                                                    | 0/1 [00:00<?, ?it/s]\n",
      "Creating parquet from Arrow format: 100%|█████████████████████████████████████████████████████████████████████████████████████████████████████████████████████| 9/9 [00:00<00:00, 411.00ba/s]\u001b[A\n",
      "Uploading the dataset shards: 100%|████████████████████████████████████████████████████████████████████████████████████████████████████████████████████████████| 1/1 [00:00<00:00,  2.73it/s]\n",
      "README.md: 100%|████████████████████████████████████████████████████████████████████████████████████████████████████████████████████████████████████████| 10.0k/10.0k [00:00<00:00, 8.44MB/s]\n"
     ]
    }
   ],
   "source": [
    "dataset.push_to_huggingface(\n",
    "    repo_id=\"louisguitton/dev-ner-ontonotes\",split=\"validation\"\n",
    ")"
   ]
  },
  {
   "cell_type": "markdown",
   "id": "881340da-56dd-431c-aa1f-ccac7c78b333",
   "metadata": {},
   "source": [
    "## Add suggestions from spacy"
   ]
  },
  {
   "cell_type": "code",
   "execution_count": 262,
   "id": "408b571d-3f26-4070-89ca-8b027275396a",
   "metadata": {
    "execution": {
     "iopub.execute_input": "2024-05-15T14:15:46.991669Z",
     "iopub.status.busy": "2024-05-15T14:15:46.990762Z",
     "iopub.status.idle": "2024-05-15T14:15:47.081904Z",
     "shell.execute_reply": "2024-05-15T14:15:47.081600Z",
     "shell.execute_reply.started": "2024-05-15T14:15:46.991617Z"
    }
   },
   "outputs": [],
   "source": [
    "remote_dataset = rg.FeedbackDataset.from_argilla(\n",
    "    name=\"dev-ner-ontonotes\",\n",
    "    workspace=\"admin\",\n",
    "    with_vectors=\"all\"\n",
    ")"
   ]
  },
  {
   "cell_type": "code",
   "execution_count": 263,
   "id": "3fd5d429-f10b-4699-a43c-9f9ef4f27cb9",
   "metadata": {
    "execution": {
     "iopub.execute_input": "2024-05-15T14:16:24.175924Z",
     "iopub.status.busy": "2024-05-15T14:16:24.175336Z",
     "iopub.status.idle": "2024-05-15T14:16:24.193325Z",
     "shell.execute_reply": "2024-05-15T14:16:24.192867Z",
     "shell.execute_reply.started": "2024-05-15T14:16:24.175896Z"
    }
   },
   "outputs": [],
   "source": [
    "from typing import Type\n",
    "from argilla.client.feedback.dataset.remote.dataset import RemoteFeedbackDataset\n",
    "from argilla.client.feedback.schemas.remote.records import RemoteFeedbackRecord, RemoteSuggestionSchema\n",
    "from argilla.client.feedback.schemas.suggestions import SuggestionSchema\n",
    "\n",
    "def labeller(nlp: Type[spacy.language.Language], text: str) -> List[SpanValueSchema]:\n",
    "    \"\"\"Generate NER preditions from a spaCy model in the Argilla format.\"\"\"\n",
    "    doc = nlp(text)\n",
    "    return [\n",
    "        SpanValueSchema(\n",
    "            start=ent.start_char,\n",
    "            end=ent.end_char,\n",
    "            label=ent.label_,\n",
    "            score=0\n",
    "        )  for ent in doc.ents\n",
    "    ]\n",
    "    \n",
    "def add_suggestions_to_remote_dataset(remote_dataset: RemoteFeedbackDataset, nlp: Type[spacy.language.Language]) -> None:\n",
    "    \"\"\"Add suggestions from a spaCy NER model to a remote instance of an existing Argilla dataset.\n",
    "    \n",
    "    ref: https://docs.argilla.io/en/latest/tutorials_and_integrations/tutorials/feedback/end2end_examples/add-suggestions-and-responses-005.html#For-the-RemoteFeedbackDataset\"\"\"\n",
    "    modified_records: List[RemoteFeedbackRecord] = [record for record in remote_dataset.records]\n",
    "    \n",
    "    for record in modified_records:\n",
    "        pred: List[SpanValueSchema] = labeller(nlp, record.fields[\"text\"])\n",
    "        # passing more than 1 suggestion fails with this error:\n",
    "        # ValidationApiError: Argilla server returned an error with http status: 422. Error details: {'response': 'Record at \n",
    "        # position 0 is not valid because found duplicate suggestions question IDs', 'params': None}\n",
    "        record.suggestions: Union[Tuple[Union[RemoteSuggestionSchema, SuggestionSchema]], List[Union[RemoteSuggestionSchema, SuggestionSchema]]] = [{\n",
    "                \"question_name\": \"entities\",\n",
    "                \"value\": pred,\n",
    "                \"agent\": nlp.meta['name']\n",
    "            }]\n",
    "    \n",
    "    remote_dataset.update_records(modified_records)"
   ]
  },
  {
   "cell_type": "code",
   "execution_count": 171,
   "id": "45072e60-ccd5-4e29-b42b-49da51f13e4b",
   "metadata": {
    "execution": {
     "iopub.execute_input": "2024-05-15T10:34:27.611411Z",
     "iopub.status.busy": "2024-05-15T10:34:27.609567Z",
     "iopub.status.idle": "2024-05-15T10:34:41.975052Z",
     "shell.execute_reply": "2024-05-15T10:34:41.974576Z",
     "shell.execute_reply.started": "2024-05-15T10:34:27.611333Z"
    }
   },
   "outputs": [
    {
     "name": "stderr",
     "output_type": "stream",
     "text": [
      "/Users/louis.guitton/workspace/mlops-talk-llm-kg/venv/lib/python3.11/site-packages/transformers/utils/generic.py:441: UserWarning: torch.utils._pytree._register_pytree_node is deprecated. Please use torch.utils._pytree.register_pytree_node instead.\n",
      "  _torch_pytree._register_pytree_node(\n",
      "/Users/louis.guitton/workspace/mlops-talk-llm-kg/venv/lib/python3.11/site-packages/transformers/utils/generic.py:309: UserWarning: torch.utils._pytree._register_pytree_node is deprecated. Please use torch.utils._pytree.register_pytree_node instead.\n",
      "  _torch_pytree._register_pytree_node(\n",
      "/Users/louis.guitton/workspace/mlops-talk-llm-kg/venv/lib/python3.11/site-packages/transformers/utils/generic.py:309: UserWarning: torch.utils._pytree._register_pytree_node is deprecated. Please use torch.utils._pytree.register_pytree_node instead.\n",
      "  _torch_pytree._register_pytree_node(\n"
     ]
    }
   ],
   "source": [
    "import spacy\n",
    "\n",
    "nlp = spacy.load(\"en_core_web_sm\")"
   ]
  },
  {
   "cell_type": "code",
   "execution_count": 264,
   "id": "f6072561-9f2c-4fed-9288-ecb0e4f08f08",
   "metadata": {
    "execution": {
     "iopub.execute_input": "2024-05-15T14:16:29.718853Z",
     "iopub.status.busy": "2024-05-15T14:16:29.717982Z",
     "iopub.status.idle": "2024-05-15T14:16:30.788640Z",
     "shell.execute_reply": "2024-05-15T14:16:30.787495Z",
     "shell.execute_reply.started": "2024-05-15T14:16:29.718799Z"
    }
   },
   "outputs": [
    {
     "data": {
      "text/html": [
       "<pre style=\"white-space:pre;overflow-x:auto;line-height:normal;font-family:Menlo,'DejaVu Sans Mono',consolas,'Courier New',monospace\"></pre>\n"
      ],
      "text/plain": []
     },
     "metadata": {},
     "output_type": "display_data"
    },
    {
     "data": {
      "text/html": [
       "<pre style=\"white-space:pre;overflow-x:auto;line-height:normal;font-family:Menlo,'DejaVu Sans Mono',consolas,'Courier New',monospace\">\n",
       "</pre>\n"
      ],
      "text/plain": [
       "\n"
      ]
     },
     "metadata": {},
     "output_type": "display_data"
    }
   ],
   "source": [
    "add_suggestions_to_remote_dataset(remote_dataset, nlp)"
   ]
  },
  {
   "cell_type": "code",
   "execution_count": 270,
   "id": "0e3e779c-9e2f-4e0d-a557-26ec44a30783",
   "metadata": {
    "execution": {
     "iopub.execute_input": "2024-05-15T14:25:58.614352Z",
     "iopub.status.busy": "2024-05-15T14:25:58.613539Z",
     "iopub.status.idle": "2024-05-15T14:25:58.627030Z",
     "shell.execute_reply": "2024-05-15T14:25:58.625580Z",
     "shell.execute_reply.started": "2024-05-15T14:25:58.614306Z"
    }
   },
   "outputs": [],
   "source": [
    "def test_one_suggestion_and_no_response():\n",
    "    r = remote_dataset.records[2]\n",
    "    pred: List[SpanValueSchema] = labeller(nlp, r.fields[\"text\"])\n",
    "    r.responses = []\n",
    "    r.suggestions = [{\n",
    "                \"question_name\": \"entities\",\n",
    "                \"value\": pred,\n",
    "                \"agent\": nlp.meta['name']\n",
    "            }]\n",
    "    remote_dataset.update_records([r])"
   ]
  },
  {
   "cell_type": "code",
   "execution_count": 271,
   "id": "7c5b38db-d0ca-4ae5-a8b1-ee44fef188fb",
   "metadata": {
    "execution": {
     "iopub.execute_input": "2024-05-15T14:26:02.169550Z",
     "iopub.status.busy": "2024-05-15T14:26:02.168962Z",
     "iopub.status.idle": "2024-05-15T14:26:02.319696Z",
     "shell.execute_reply": "2024-05-15T14:26:02.318761Z",
     "shell.execute_reply.started": "2024-05-15T14:26:02.169520Z"
    }
   },
   "outputs": [
    {
     "data": {
      "text/html": [
       "<pre style=\"white-space:pre;overflow-x:auto;line-height:normal;font-family:Menlo,'DejaVu Sans Mono',consolas,'Courier New',monospace\"></pre>\n"
      ],
      "text/plain": []
     },
     "metadata": {},
     "output_type": "display_data"
    },
    {
     "data": {
      "text/html": [
       "<pre style=\"white-space:pre;overflow-x:auto;line-height:normal;font-family:Menlo,'DejaVu Sans Mono',consolas,'Courier New',monospace\">\n",
       "</pre>\n"
      ],
      "text/plain": [
       "\n"
      ]
     },
     "metadata": {},
     "output_type": "display_data"
    }
   ],
   "source": [
    "test_one_suggestion_and_no_response()"
   ]
  },
  {
   "cell_type": "code",
   "execution_count": null,
   "id": "be1f4d16-3538-4937-a4bb-f9c7156de782",
   "metadata": {},
   "outputs": [],
   "source": []
  }
 ],
 "metadata": {
  "kernelspec": {
   "display_name": "Python 3 (ipykernel)",
   "language": "python",
   "name": "python3"
  },
  "language_info": {
   "codemirror_mode": {
    "name": "ipython",
    "version": 3
   },
   "file_extension": ".py",
   "mimetype": "text/x-python",
   "name": "python",
   "nbconvert_exporter": "python",
   "pygments_lexer": "ipython3",
   "version": "3.11.4"
  }
 },
 "nbformat": 4,
 "nbformat_minor": 5
}
