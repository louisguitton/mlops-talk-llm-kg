{
 "cells": [
  {
   "cell_type": "markdown",
   "id": "fda2aa01-d4bb-4480-89d0-0606b15251b6",
   "metadata": {},
   "source": [
    "\n",
    "Datasets:\n",
    "- with LOAD_DATASETS=full, argilla loads `gutenberg_spacy-ner-monitoring` for Token Classification with default spaCy predictions ; which is a fork of https://huggingface.co/datasets/gutenberg_time\n",
    "- default NER dataset in papers is CoNLL-2003 https://huggingface.co/datasets/conll2003\n",
    "- https://huggingface.co/datasets/DFKI-SLT/few-nerd\n",
    "- https://huggingface.co/datasets/tner/ontonotes5\n",
    "- Look for argilla compatible NER datasets with this search: https://huggingface.co/datasets?task_categories=task_categories:token-classification&sort=trending&search=argilla\n",
    "\n",
    "\n",
    "- ✨ Provide suggested spans with a confidence score, so your team doesn't need to start from scratch.\n"
   ]
  },
  {
   "cell_type": "code",
   "execution_count": 1,
   "id": "d3dfbbd0-6b7a-4083-bfd8-54cb1384b592",
   "metadata": {
    "execution": {
     "iopub.execute_input": "2024-05-22T08:31:18.654661Z",
     "iopub.status.busy": "2024-05-22T08:31:18.653967Z",
     "iopub.status.idle": "2024-05-22T08:31:18.669315Z",
     "shell.execute_reply": "2024-05-22T08:31:18.666829Z",
     "shell.execute_reply.started": "2024-05-22T08:31:18.654636Z"
    }
   },
   "outputs": [],
   "source": [
    "from typing import List, Tuple, Union, Dict\n",
    "import types"
   ]
  },
  {
   "cell_type": "code",
   "execution_count": 2,
   "id": "12a0f283-e913-4961-a262-c6f2998c143f",
   "metadata": {
    "execution": {
     "iopub.execute_input": "2024-05-22T08:31:18.856560Z",
     "iopub.status.busy": "2024-05-22T08:31:18.855008Z",
     "iopub.status.idle": "2024-05-22T08:31:20.928204Z",
     "shell.execute_reply": "2024-05-22T08:31:20.927781Z",
     "shell.execute_reply.started": "2024-05-22T08:31:18.856515Z"
    }
   },
   "outputs": [
    {
     "name": "stderr",
     "output_type": "stream",
     "text": [
      "/Users/louis.guitton/workspace/mlops-talk-llm-kg/venv/lib/python3.11/site-packages/argilla/client/client.py:178: UserWarning: No workspace configuration was detected. To work with Argilla datasets, specify a valid workspace name on `rg.init` or set it up through the `rg.set_workspace` function.\n",
      "  warnings.warn(\n"
     ]
    }
   ],
   "source": [
    "import argilla as rg\n",
    "\n",
    "rg.init(api_url=\"http://localhost:6900\", api_key=\"admin.apikey\")"
   ]
  },
  {
   "cell_type": "markdown",
   "id": "c9710416-82e3-457d-897c-3160b339a970",
   "metadata": {
    "jp-MarkdownHeadingCollapsed": true
   },
   "source": [
    "## Push to Huggingface"
   ]
  },
  {
   "cell_type": "code",
   "execution_count": 155,
   "id": "94eb2e74-9b5a-49e1-871b-5c9e0c7602bb",
   "metadata": {
    "execution": {
     "iopub.execute_input": "2024-05-15T09:10:20.970261Z",
     "iopub.status.busy": "2024-05-15T09:10:20.969003Z",
     "iopub.status.idle": "2024-05-15T09:10:24.384816Z",
     "shell.execute_reply": "2024-05-15T09:10:24.383729Z",
     "shell.execute_reply.started": "2024-05-15T09:10:20.970207Z"
    }
   },
   "outputs": [
    {
     "name": "stderr",
     "output_type": "stream",
     "text": [
      "Uploading the dataset shards:   0%|                                                                                                                                    | 0/1 [00:00<?, ?it/s]\n",
      "Creating parquet from Arrow format: 100%|█████████████████████████████████████████████████████████████████████████████████████████████████████████████████████| 9/9 [00:00<00:00, 411.00ba/s]\u001b[A\n",
      "Uploading the dataset shards: 100%|████████████████████████████████████████████████████████████████████████████████████████████████████████████████████████████| 1/1 [00:00<00:00,  2.73it/s]\n",
      "README.md: 100%|████████████████████████████████████████████████████████████████████████████████████████████████████████████████████████████████████████| 10.0k/10.0k [00:00<00:00, 8.44MB/s]\n"
     ]
    }
   ],
   "source": [
    "dataset.push_to_huggingface(\n",
    "    repo_id=\"louisguitton/dev-ner-ontonotes\",split=\"validation\"\n",
    ")"
   ]
  },
  {
   "cell_type": "markdown",
   "id": "881340da-56dd-431c-aa1f-ccac7c78b333",
   "metadata": {
    "jp-MarkdownHeadingCollapsed": true
   },
   "source": [
    "## Add suggestions to a remote dataset"
   ]
  },
  {
   "cell_type": "code",
   "execution_count": 262,
   "id": "408b571d-3f26-4070-89ca-8b027275396a",
   "metadata": {
    "execution": {
     "iopub.execute_input": "2024-05-15T14:15:46.991669Z",
     "iopub.status.busy": "2024-05-15T14:15:46.990762Z",
     "iopub.status.idle": "2024-05-15T14:15:47.081904Z",
     "shell.execute_reply": "2024-05-15T14:15:47.081600Z",
     "shell.execute_reply.started": "2024-05-15T14:15:46.991617Z"
    }
   },
   "outputs": [],
   "source": [
    "remote_dataset = rg.FeedbackDataset.from_argilla(\n",
    "    name=\"dev-ner-ontonotes\",\n",
    "    workspace=\"admin\",\n",
    "    with_vectors=\"all\"\n",
    ")"
   ]
  },
  {
   "cell_type": "code",
   "execution_count": 263,
   "id": "3fd5d429-f10b-4699-a43c-9f9ef4f27cb9",
   "metadata": {
    "execution": {
     "iopub.execute_input": "2024-05-15T14:16:24.175924Z",
     "iopub.status.busy": "2024-05-15T14:16:24.175336Z",
     "iopub.status.idle": "2024-05-15T14:16:24.193325Z",
     "shell.execute_reply": "2024-05-15T14:16:24.192867Z",
     "shell.execute_reply.started": "2024-05-15T14:16:24.175896Z"
    }
   },
   "outputs": [],
   "source": [
    "from typing import Type\n",
    "from argilla.client.feedback.dataset.remote.dataset import RemoteFeedbackDataset\n",
    "from argilla.client.feedback.schemas.remote.records import RemoteFeedbackRecord, RemoteSuggestionSchema\n",
    "from argilla.client.feedback.schemas.suggestions import SuggestionSchema\n",
    "\n",
    "def labeller(nlp: Type[spacy.language.Language], text: str) -> List[SpanValueSchema]:\n",
    "    \"\"\"Generate NER preditions from a spaCy model in the Argilla format.\"\"\"\n",
    "    doc = nlp(text)\n",
    "    return [\n",
    "        SpanValueSchema(\n",
    "            start=ent.start_char,\n",
    "            end=ent.end_char,\n",
    "            label=ent.label_,\n",
    "            score=0\n",
    "        )  for ent in doc.ents\n",
    "    ]\n",
    "    \n",
    "def add_suggestions_to_remote_dataset(remote_dataset: RemoteFeedbackDataset, nlp: Type[spacy.language.Language]) -> None:\n",
    "    \"\"\"Add suggestions from a spaCy NER model to a remote instance of an existing Argilla dataset.\n",
    "    \n",
    "    ref: https://docs.argilla.io/en/latest/tutorials_and_integrations/tutorials/feedback/end2end_examples/add-suggestions-and-responses-005.html#For-the-RemoteFeedbackDataset\"\"\"\n",
    "    modified_records: List[RemoteFeedbackRecord] = [record for record in remote_dataset.records]\n",
    "    \n",
    "    for record in modified_records:\n",
    "        pred: List[SpanValueSchema] = labeller(nlp, record.fields[\"text\"])\n",
    "        # passing more than 1 suggestion fails with this error:\n",
    "        # ValidationApiError: Argilla server returned an error with http status: 422. Error details: {'response': 'Record at \n",
    "        # position 0 is not valid because found duplicate suggestions question IDs', 'params': None}\n",
    "        record.suggestions: Union[Tuple[Union[RemoteSuggestionSchema, SuggestionSchema]], List[Union[RemoteSuggestionSchema, SuggestionSchema]]] = [{\n",
    "                \"question_name\": \"entities\",\n",
    "                \"value\": pred,\n",
    "                \"agent\": nlp.meta['name']\n",
    "            }]\n",
    "    \n",
    "    remote_dataset.update_records(modified_records)"
   ]
  },
  {
   "cell_type": "code",
   "execution_count": 171,
   "id": "45072e60-ccd5-4e29-b42b-49da51f13e4b",
   "metadata": {
    "execution": {
     "iopub.execute_input": "2024-05-15T10:34:27.611411Z",
     "iopub.status.busy": "2024-05-15T10:34:27.609567Z",
     "iopub.status.idle": "2024-05-15T10:34:41.975052Z",
     "shell.execute_reply": "2024-05-15T10:34:41.974576Z",
     "shell.execute_reply.started": "2024-05-15T10:34:27.611333Z"
    }
   },
   "outputs": [
    {
     "name": "stderr",
     "output_type": "stream",
     "text": [
      "/Users/louis.guitton/workspace/mlops-talk-llm-kg/venv/lib/python3.11/site-packages/transformers/utils/generic.py:441: UserWarning: torch.utils._pytree._register_pytree_node is deprecated. Please use torch.utils._pytree.register_pytree_node instead.\n",
      "  _torch_pytree._register_pytree_node(\n",
      "/Users/louis.guitton/workspace/mlops-talk-llm-kg/venv/lib/python3.11/site-packages/transformers/utils/generic.py:309: UserWarning: torch.utils._pytree._register_pytree_node is deprecated. Please use torch.utils._pytree.register_pytree_node instead.\n",
      "  _torch_pytree._register_pytree_node(\n",
      "/Users/louis.guitton/workspace/mlops-talk-llm-kg/venv/lib/python3.11/site-packages/transformers/utils/generic.py:309: UserWarning: torch.utils._pytree._register_pytree_node is deprecated. Please use torch.utils._pytree.register_pytree_node instead.\n",
      "  _torch_pytree._register_pytree_node(\n"
     ]
    }
   ],
   "source": [
    "import spacy\n",
    "\n",
    "nlp = spacy.load(\"en_core_web_sm\")"
   ]
  },
  {
   "cell_type": "code",
   "execution_count": 264,
   "id": "f6072561-9f2c-4fed-9288-ecb0e4f08f08",
   "metadata": {
    "execution": {
     "iopub.execute_input": "2024-05-15T14:16:29.718853Z",
     "iopub.status.busy": "2024-05-15T14:16:29.717982Z",
     "iopub.status.idle": "2024-05-15T14:16:30.788640Z",
     "shell.execute_reply": "2024-05-15T14:16:30.787495Z",
     "shell.execute_reply.started": "2024-05-15T14:16:29.718799Z"
    }
   },
   "outputs": [
    {
     "data": {
      "text/html": [
       "<pre style=\"white-space:pre;overflow-x:auto;line-height:normal;font-family:Menlo,'DejaVu Sans Mono',consolas,'Courier New',monospace\"></pre>\n"
      ],
      "text/plain": []
     },
     "metadata": {},
     "output_type": "display_data"
    },
    {
     "data": {
      "text/html": [
       "<pre style=\"white-space:pre;overflow-x:auto;line-height:normal;font-family:Menlo,'DejaVu Sans Mono',consolas,'Courier New',monospace\">\n",
       "</pre>\n"
      ],
      "text/plain": [
       "\n"
      ]
     },
     "metadata": {},
     "output_type": "display_data"
    }
   ],
   "source": [
    "add_suggestions_to_remote_dataset(remote_dataset, nlp)"
   ]
  },
  {
   "cell_type": "code",
   "execution_count": 270,
   "id": "0e3e779c-9e2f-4e0d-a557-26ec44a30783",
   "metadata": {
    "execution": {
     "iopub.execute_input": "2024-05-15T14:25:58.614352Z",
     "iopub.status.busy": "2024-05-15T14:25:58.613539Z",
     "iopub.status.idle": "2024-05-15T14:25:58.627030Z",
     "shell.execute_reply": "2024-05-15T14:25:58.625580Z",
     "shell.execute_reply.started": "2024-05-15T14:25:58.614306Z"
    }
   },
   "outputs": [],
   "source": [
    "def test_one_suggestion_and_no_response():\n",
    "    r = remote_dataset.records[2]\n",
    "    pred: List[SpanValueSchema] = labeller(nlp, r.fields[\"text\"])\n",
    "    r.responses = []\n",
    "    r.suggestions = [{\n",
    "                \"question_name\": \"entities\",\n",
    "                \"value\": pred,\n",
    "                \"agent\": nlp.meta['name']\n",
    "            }]\n",
    "    remote_dataset.update_records([r])"
   ]
  },
  {
   "cell_type": "code",
   "execution_count": 271,
   "id": "7c5b38db-d0ca-4ae5-a8b1-ee44fef188fb",
   "metadata": {
    "execution": {
     "iopub.execute_input": "2024-05-15T14:26:02.169550Z",
     "iopub.status.busy": "2024-05-15T14:26:02.168962Z",
     "iopub.status.idle": "2024-05-15T14:26:02.319696Z",
     "shell.execute_reply": "2024-05-15T14:26:02.318761Z",
     "shell.execute_reply.started": "2024-05-15T14:26:02.169520Z"
    }
   },
   "outputs": [
    {
     "data": {
      "text/html": [
       "<pre style=\"white-space:pre;overflow-x:auto;line-height:normal;font-family:Menlo,'DejaVu Sans Mono',consolas,'Courier New',monospace\"></pre>\n"
      ],
      "text/plain": []
     },
     "metadata": {},
     "output_type": "display_data"
    },
    {
     "data": {
      "text/html": [
       "<pre style=\"white-space:pre;overflow-x:auto;line-height:normal;font-family:Menlo,'DejaVu Sans Mono',consolas,'Courier New',monospace\">\n",
       "</pre>\n"
      ],
      "text/plain": [
       "\n"
      ]
     },
     "metadata": {},
     "output_type": "display_data"
    }
   ],
   "source": [
    "test_one_suggestion_and_no_response()"
   ]
  },
  {
   "cell_type": "markdown",
   "id": "53fb1338-aee4-4851-976c-8912e16e270c",
   "metadata": {
    "jp-MarkdownHeadingCollapsed": true
   },
   "source": [
    "## Compute metrics"
   ]
  },
  {
   "cell_type": "code",
   "execution_count": 289,
   "id": "a11fed69-c825-4295-8a8f-baae493f5fde",
   "metadata": {
    "execution": {
     "iopub.execute_input": "2024-05-16T15:31:35.583826Z",
     "iopub.status.busy": "2024-05-16T15:31:35.582846Z",
     "iopub.status.idle": "2024-05-16T15:31:35.593789Z",
     "shell.execute_reply": "2024-05-16T15:31:35.592623Z",
     "shell.execute_reply.started": "2024-05-16T15:31:35.583770Z"
    }
   },
   "outputs": [],
   "source": [
    "from argilla.client.feedback.metrics.utils import get_responses_and_suggestions_per_user"
   ]
  },
  {
   "cell_type": "code",
   "execution_count": 291,
   "id": "8d248f9b-000e-46d1-8559-3464c493ecf5",
   "metadata": {
    "execution": {
     "iopub.execute_input": "2024-05-16T15:32:47.303222Z",
     "iopub.status.busy": "2024-05-16T15:32:47.302640Z",
     "iopub.status.idle": "2024-05-16T15:32:47.569175Z",
     "shell.execute_reply": "2024-05-16T15:32:47.568855Z",
     "shell.execute_reply.started": "2024-05-16T15:32:47.303192Z"
    }
   },
   "outputs": [
    {
     "name": "stderr",
     "output_type": "stream",
     "text": [
      "Extracting responses and suggestions per user: 100%|███████████████████████████████████████████████████████████████████████████████████████████████████| 100/100 [00:00<00:00, 861253.39it/s]\n"
     ]
    }
   ],
   "source": [
    "remote_dataset = rg.FeedbackDataset.from_argilla(\n",
    "    name=\"ner-lvl2\",\n",
    "    workspace=\"admin\",\n",
    "    with_vectors=\"all\"\n",
    ")\n",
    "\n",
    "# responses_and_suggestions_per_user = get_responses_and_suggestions_per_user(dataset=remote_dataset, question_name=\"entities\")"
   ]
  },
  {
   "cell_type": "code",
   "execution_count": 298,
   "id": "8f4df0ef-33dc-4159-a228-d5b0d755060d",
   "metadata": {
    "execution": {
     "iopub.execute_input": "2024-05-16T15:44:10.499640Z",
     "iopub.status.busy": "2024-05-16T15:44:10.498769Z",
     "iopub.status.idle": "2024-05-16T15:44:10.669614Z",
     "shell.execute_reply": "2024-05-16T15:44:10.669299Z",
     "shell.execute_reply.started": "2024-05-16T15:44:10.499602Z"
    }
   },
   "outputs": [],
   "source": [
    "hf_dataset = remote_dataset.format_as(\"datasets\")"
   ]
  },
  {
   "cell_type": "code",
   "execution_count": 300,
   "id": "99f0a016-d3f4-4265-879a-16e21cec419c",
   "metadata": {
    "execution": {
     "iopub.execute_input": "2024-05-16T15:44:29.225376Z",
     "iopub.status.busy": "2024-05-16T15:44:29.224782Z",
     "iopub.status.idle": "2024-05-16T15:44:29.238035Z",
     "shell.execute_reply": "2024-05-16T15:44:29.236810Z",
     "shell.execute_reply.started": "2024-05-16T15:44:29.225330Z"
    }
   },
   "outputs": [
    {
     "data": {
      "text/plain": [
       "{'text': 'A Russian diver has found the bodies of three of the 118 sailors who were killed when the nuclear submarine Kursk sank in the Barents Sea .',\n",
       " 'entities': [{'user_id': 'fe7c1b6a-5d30-41d5-bb56-6675cfbad12f',\n",
       "   'value': {'start': [2, 40, 53, 108, 122],\n",
       "    'end': [9, 45, 56, 113, 137],\n",
       "    'label': ['NORP', 'CARDINAL', 'CARDINAL', 'PRODUCT', 'LOC'],\n",
       "    'text': ['Russian', 'three', '118', 'Kursk', 'the Barents Sea']},\n",
       "   'status': 'submitted'}],\n",
       " 'entities-suggestion': {'start': [2, 40, 53, 108, 122],\n",
       "  'end': [9, 45, 56, 113, 137],\n",
       "  'label': ['NORP', 'CARDINAL', 'CARDINAL', 'PRODUCT', 'LOC'],\n",
       "  'text': ['Russian', 'three', '118', 'Kursk', 'the Barents Sea'],\n",
       "  'score': [None, None, None, None, None]},\n",
       " 'entities-suggestion-metadata': {'type': None, 'score': None, 'agent': None},\n",
       " 'external_id': None,\n",
       " 'metadata': '{}'}"
      ]
     },
     "execution_count": 300,
     "metadata": {},
     "output_type": "execute_result"
    }
   ],
   "source": [
    "hf_dataset[0]"
   ]
  },
  {
   "cell_type": "code",
   "execution_count": null,
   "id": "eda94ac0-dc29-4c2d-95c0-efd94da4f59d",
   "metadata": {},
   "outputs": [],
   "source": [
    "from spacy.tokens import Doc\n",
    "from spacy.training import Example\n",
    "\n",
    "examples: List[Example] = []\n",
    "for row in hf_dataset:\n",
    "    text = row[\"text\"]\n",
    "    gold = row[\"entities\"]\n",
    "    pred = row[\"entities-suggestion\"]\n",
    "\n",
    "    # generate Doc with Doc.set_ents from a list of spans for the predicted suggestions\n",
    "    # ref: https://spacy.io/api/doc#set_ents\n",
    "\n",
    "    # generate Doc with Doc.set_ents from a list of spans for the gold responses\n",
    "    \n",
    "    example = Example(predicted, reference)\n",
    "    examples.append(example)"
   ]
  },
  {
   "cell_type": "code",
   "execution_count": 296,
   "id": "f65bc9be-7fa7-4419-9317-e121d9f8bdd9",
   "metadata": {
    "execution": {
     "iopub.execute_input": "2024-05-16T15:40:46.812719Z",
     "iopub.status.busy": "2024-05-16T15:40:46.812088Z",
     "iopub.status.idle": "2024-05-16T15:40:46.917245Z",
     "shell.execute_reply": "2024-05-16T15:40:46.916877Z",
     "shell.execute_reply.started": "2024-05-16T15:40:46.812684Z"
    }
   },
   "outputs": [],
   "source": [
    "from spacy.scorer import Scorer\n",
    "scorer = Scorer()"
   ]
  },
  {
   "cell_type": "code",
   "execution_count": null,
   "id": "a3d30309-32d9-4ca3-a3bf-9e0e24cb8acb",
   "metadata": {},
   "outputs": [],
   "source": [
    "scores = scorer.score(examples)"
   ]
  },
  {
   "cell_type": "markdown",
   "id": "56f53ac2-bc6f-46ab-a162-d7ad9270b6fd",
   "metadata": {},
   "source": [
    "## Football Articles\n",
    "### Create (and Delete) empty dataset in Argilla for our task"
   ]
  },
  {
   "cell_type": "code",
   "execution_count": 212,
   "id": "63b218e4-0328-4b7f-a4a8-4ed882b38f5a",
   "metadata": {
    "execution": {
     "iopub.execute_input": "2024-05-22T10:43:43.676539Z",
     "iopub.status.busy": "2024-05-22T10:43:43.675704Z",
     "iopub.status.idle": "2024-05-22T10:43:43.822664Z",
     "shell.execute_reply": "2024-05-22T10:43:43.821588Z",
     "shell.execute_reply.started": "2024-05-22T10:43:43.676492Z"
    }
   },
   "outputs": [],
   "source": [
    "remote_dataset = rg.FeedbackDataset.from_argilla(\"football-news\", workspace=\"admin\")\n",
    "remote_dataset.delete()"
   ]
  },
  {
   "cell_type": "code",
   "execution_count": 213,
   "id": "a8c8028d-b8c3-4875-ba9d-26ee01d78572",
   "metadata": {
    "execution": {
     "iopub.execute_input": "2024-05-22T10:43:44.203572Z",
     "iopub.status.busy": "2024-05-22T10:43:44.202811Z",
     "iopub.status.idle": "2024-05-22T10:43:44.214852Z",
     "shell.execute_reply": "2024-05-22T10:43:44.213648Z",
     "shell.execute_reply.started": "2024-05-22T10:43:44.203542Z"
    }
   },
   "outputs": [
    {
     "name": "stderr",
     "output_type": "stream",
     "text": [
      "/Users/louis.guitton/workspace/mlops-talk-llm-kg/venv/lib/python3.11/site-packages/argilla/client/feedback/schemas/questions.py:416: UserWarning: `visible_labels=20` is greater than the total number of labels (5), so it will be set to `5`.\n",
      "  warnings.warn(msg, UserWarning, stacklevel=1)\n"
     ]
    }
   ],
   "source": [
    "dataset = rg.FeedbackDataset(\n",
    "    fields=[\n",
    "        rg.TextField(name=\"title\"),\n",
    "        rg.TextField(name=\"content\"),\n",
    "    ],\n",
    "    questions=[\n",
    "        rg.LabelQuestion(\n",
    "            name=\"category\",\n",
    "            title=\"What is the category of the article?\",\n",
    "            labels=[\n",
    "                \"Coach Commentary\", \"Transfer News\", \"Match Report\",\n",
    "                \"Player Profile\", \"League Updates\", \"Injury Updates\",\n",
    "                \"Tactical Analysis\", \"Social Media Reaction\",\n",
    "                \"Historical Milestone\", \"Match Incident\"\n",
    "            ],\n",
    "            required=False,\n",
    "            visible_labels=None\n",
    "        ),\n",
    "        rg.SpanQuestion(\n",
    "            name=\"entities\",\n",
    "            title=\"Highlight the entities in the content:\",\n",
    "            labels=[\"Competition\", \"Team\", \"Player\", \"Match\", \"Transfer\"],\n",
    "            field=\"content\",\n",
    "            required=True,\n",
    "            allow_overlapping=True\n",
    "        )\n",
    "    ],\n",
    "    metadata_properties = [\n",
    "        rg.TermsMetadataProperty(name=\"link\"),\n",
    "        rg.TermsMetadataProperty(name=\"source\"),\n",
    "    ],\n",
    "    vectors_settings=[], # we will add sentence embeddings a posteriori\n",
    "    guidelines=\"Please, read the question carefully and try to answer it as accurately as possible.\"\n",
    ")"
   ]
  },
  {
   "cell_type": "code",
   "execution_count": 214,
   "id": "beee56cf-1f18-4466-8142-3cb1836de2b2",
   "metadata": {
    "execution": {
     "iopub.execute_input": "2024-05-22T10:43:45.269585Z",
     "iopub.status.busy": "2024-05-22T10:43:45.268750Z",
     "iopub.status.idle": "2024-05-22T10:43:45.548066Z",
     "shell.execute_reply": "2024-05-22T10:43:45.547768Z",
     "shell.execute_reply.started": "2024-05-22T10:43:45.269556Z"
    }
   },
   "outputs": [
    {
     "data": {
      "text/html": [
       "<pre style=\"white-space:pre;overflow-x:auto;line-height:normal;font-family:Menlo,'DejaVu Sans Mono',consolas,'Courier New',monospace\"><span style=\"color: #7fbfbf; text-decoration-color: #7fbfbf\">[05/22/24 12:43:45] </span><span style=\"color: #000080; text-decoration-color: #000080\">INFO    </span> INFO:argilla.client.feedback.dataset.local.mixins:✓ Dataset succesfully  <a href=\"file:///Users/louis.guitton/workspace/mlops-talk-llm-kg/venv/lib/python3.11/site-packages/argilla/client/feedback/dataset/local/mixins.py\" target=\"_blank\"><span style=\"color: #7f7f7f; text-decoration-color: #7f7f7f\">mixins.py</span></a><span style=\"color: #7f7f7f; text-decoration-color: #7f7f7f\">:</span><a href=\"file:///Users/louis.guitton/workspace/mlops-talk-llm-kg/venv/lib/python3.11/site-packages/argilla/client/feedback/dataset/local/mixins.py#271\" target=\"_blank\"><span style=\"color: #7f7f7f; text-decoration-color: #7f7f7f\">271</span></a>\n",
       "<span style=\"color: #7fbfbf; text-decoration-color: #7fbfbf\">                    </span>         pushed to Argilla                                                        <span style=\"color: #7f7f7f; text-decoration-color: #7f7f7f\">             </span>\n",
       "</pre>\n"
      ],
      "text/plain": [
       "\u001b[2;36m[05/22/24 12:43:45]\u001b[0m\u001b[2;36m \u001b[0m\u001b[34mINFO    \u001b[0m INFO:argilla.client.feedback.dataset.local.mixins:✓ Dataset succesfully  \u001b]8;id=817101;file:///Users/louis.guitton/workspace/mlops-talk-llm-kg/venv/lib/python3.11/site-packages/argilla/client/feedback/dataset/local/mixins.py\u001b\\\u001b[2mmixins.py\u001b[0m\u001b]8;;\u001b\\\u001b[2m:\u001b[0m\u001b]8;id=649143;file:///Users/louis.guitton/workspace/mlops-talk-llm-kg/venv/lib/python3.11/site-packages/argilla/client/feedback/dataset/local/mixins.py#271\u001b\\\u001b[2m271\u001b[0m\u001b]8;;\u001b\\\n",
       "\u001b[2;36m                    \u001b[0m         pushed to Argilla                                                        \u001b[2m             \u001b[0m\n"
      ]
     },
     "metadata": {},
     "output_type": "display_data"
    },
    {
     "data": {
      "text/html": [
       "<pre style=\"white-space:pre;overflow-x:auto;line-height:normal;font-family:Menlo,'DejaVu Sans Mono',consolas,'Courier New',monospace\"><span style=\"color: #7fbfbf; text-decoration-color: #7fbfbf\">                    </span><span style=\"color: #000080; text-decoration-color: #000080\">INFO    </span> INFO:argilla.client.feedback.dataset.local.mixins:<span style=\"color: #800080; text-decoration-color: #800080; font-weight: bold\">RemoteFeedbackDataset</span><span style=\"font-weight: bold\">(</span> <a href=\"file:///Users/louis.guitton/workspace/mlops-talk-llm-kg/venv/lib/python3.11/site-packages/argilla/client/feedback/dataset/local/mixins.py\" target=\"_blank\"><span style=\"color: #7f7f7f; text-decoration-color: #7f7f7f\">mixins.py</span></a><span style=\"color: #7f7f7f; text-decoration-color: #7f7f7f\">:</span><a href=\"file:///Users/louis.guitton/workspace/mlops-talk-llm-kg/venv/lib/python3.11/site-packages/argilla/client/feedback/dataset/local/mixins.py#272\" target=\"_blank\"><span style=\"color: #7f7f7f; text-decoration-color: #7f7f7f\">272</span></a>\n",
       "<span style=\"color: #7fbfbf; text-decoration-color: #7fbfbf\">                    </span>            <span style=\"color: #808000; text-decoration-color: #808000\">id</span>=<span style=\"color: #ffff00; text-decoration-color: #ffff00\">764d5bd3</span><span style=\"color: #ffff00; text-decoration-color: #ffff00\">-e075-4a5b-9e0e-1e3b69c4703c</span>                               <span style=\"color: #7f7f7f; text-decoration-color: #7f7f7f\">             </span>\n",
       "<span style=\"color: #7fbfbf; text-decoration-color: #7fbfbf\">                    </span>            <span style=\"color: #808000; text-decoration-color: #808000\">name</span>=<span style=\"color: #800080; text-decoration-color: #800080\">football</span>-news                                                    <span style=\"color: #7f7f7f; text-decoration-color: #7f7f7f\">             </span>\n",
       "<span style=\"color: #7fbfbf; text-decoration-color: #7fbfbf\">                    </span>            <span style=\"color: #808000; text-decoration-color: #808000\">workspace</span>=<span style=\"color: #800080; text-decoration-color: #800080; font-weight: bold\">Workspace</span><span style=\"font-weight: bold\">(</span><span style=\"color: #808000; text-decoration-color: #808000\">id</span>=<span style=\"color: #ffff00; text-decoration-color: #ffff00\">84a8fb6f</span><span style=\"color: #ffff00; text-decoration-color: #ffff00\">-3350-4e9b-97c0-043cfedef934</span>,          <span style=\"color: #7f7f7f; text-decoration-color: #7f7f7f\">             </span>\n",
       "<span style=\"color: #7fbfbf; text-decoration-color: #7fbfbf\">                    </span>         <span style=\"color: #808000; text-decoration-color: #808000\">name</span>=<span style=\"color: #800080; text-decoration-color: #800080\">admin</span>, <span style=\"color: #808000; text-decoration-color: #808000\">inserted_at</span>=<span style=\"color: #008080; text-decoration-color: #008080; font-weight: bold\">2024</span>-<span style=\"color: #008080; text-decoration-color: #008080; font-weight: bold\">05</span>-<span style=\"color: #008080; text-decoration-color: #008080; font-weight: bold\">14</span> <span style=\"color: #00ff00; text-decoration-color: #00ff00; font-weight: bold\">17:08:20</span>.<span style=\"color: #008080; text-decoration-color: #008080; font-weight: bold\">825501</span>,                      <span style=\"color: #7f7f7f; text-decoration-color: #7f7f7f\">             </span>\n",
       "<span style=\"color: #7fbfbf; text-decoration-color: #7fbfbf\">                    </span>         <span style=\"color: #808000; text-decoration-color: #808000\">updated_at</span>=<span style=\"color: #008080; text-decoration-color: #008080; font-weight: bold\">2024</span>-<span style=\"color: #008080; text-decoration-color: #008080; font-weight: bold\">05</span>-<span style=\"color: #008080; text-decoration-color: #008080; font-weight: bold\">14</span> <span style=\"color: #00ff00; text-decoration-color: #00ff00; font-weight: bold\">17:08:20</span>.<span style=\"color: #008080; text-decoration-color: #008080; font-weight: bold\">825501</span><span style=\"font-weight: bold\">)</span>                                   <span style=\"color: #7f7f7f; text-decoration-color: #7f7f7f\">             </span>\n",
       "<span style=\"color: #7fbfbf; text-decoration-color: #7fbfbf\">                    </span>            <span style=\"color: #808000; text-decoration-color: #808000\">url</span>=<span style=\"color: #0000ff; text-decoration-color: #0000ff; text-decoration: underline\">http://localhost:6900/dataset/764d5bd3-e075-4a5b-9e0e-1e3b69c4703</span> <span style=\"color: #7f7f7f; text-decoration-color: #7f7f7f\">             </span>\n",
       "<span style=\"color: #7fbfbf; text-decoration-color: #7fbfbf\">                    </span>         <span style=\"color: #0000ff; text-decoration-color: #0000ff; text-decoration: underline\">c/annotation-mode</span>                                                        <span style=\"color: #7f7f7f; text-decoration-color: #7f7f7f\">             </span>\n",
       "<span style=\"color: #7fbfbf; text-decoration-color: #7fbfbf\">                    </span>            <span style=\"color: #808000; text-decoration-color: #808000\">fields</span>=<span style=\"font-weight: bold\">[</span><span style=\"color: #800080; text-decoration-color: #800080; font-weight: bold\">RemoteTextField</span><span style=\"font-weight: bold\">(</span><span style=\"color: #808000; text-decoration-color: #808000\">id</span>=<span style=\"color: #800080; text-decoration-color: #800080; font-weight: bold\">UUID</span><span style=\"font-weight: bold\">(</span><span style=\"color: #008000; text-decoration-color: #008000\">'8aba1023-dfbc-4208-805e-33583133e1a7</span> <span style=\"color: #7f7f7f; text-decoration-color: #7f7f7f\">             </span>\n",
       "<span style=\"color: #7fbfbf; text-decoration-color: #7fbfbf\">                    </span>         <span style=\"color: #008000; text-decoration-color: #008000\">'</span><span style=\"font-weight: bold\">)</span>, <span style=\"color: #808000; text-decoration-color: #808000\">client</span>=<span style=\"color: #800080; text-decoration-color: #800080; font-style: italic\">None</span>, <span style=\"color: #808000; text-decoration-color: #808000\">name</span>=<span style=\"color: #008000; text-decoration-color: #008000\">'title'</span>, <span style=\"color: #808000; text-decoration-color: #808000\">title</span>=<span style=\"color: #008000; text-decoration-color: #008000\">'Title'</span>, <span style=\"color: #808000; text-decoration-color: #808000\">required</span>=<span style=\"color: #00ff00; text-decoration-color: #00ff00; font-style: italic\">True</span>,             <span style=\"color: #7f7f7f; text-decoration-color: #7f7f7f\">             </span>\n",
       "<span style=\"color: #7fbfbf; text-decoration-color: #7fbfbf\">                    </span>         <span style=\"color: #808000; text-decoration-color: #808000\">type</span>=<span style=\"color: #008000; text-decoration-color: #008000\">'text'</span>, <span style=\"color: #808000; text-decoration-color: #808000\">use_markdown</span>=<span style=\"color: #ff0000; text-decoration-color: #ff0000; font-style: italic\">False</span><span style=\"font-weight: bold\">)</span>,                                        <span style=\"color: #7f7f7f; text-decoration-color: #7f7f7f\">             </span>\n",
       "<span style=\"color: #7fbfbf; text-decoration-color: #7fbfbf\">                    </span>         <span style=\"color: #800080; text-decoration-color: #800080; font-weight: bold\">RemoteTextField</span><span style=\"font-weight: bold\">(</span><span style=\"color: #808000; text-decoration-color: #808000\">id</span>=<span style=\"color: #800080; text-decoration-color: #800080; font-weight: bold\">UUID</span><span style=\"font-weight: bold\">(</span><span style=\"color: #008000; text-decoration-color: #008000\">'0b1fda52-583d-427d-9cb7-3060f12d0f2f'</span><span style=\"font-weight: bold\">)</span>,         <span style=\"color: #7f7f7f; text-decoration-color: #7f7f7f\">             </span>\n",
       "<span style=\"color: #7fbfbf; text-decoration-color: #7fbfbf\">                    </span>         <span style=\"color: #808000; text-decoration-color: #808000\">client</span>=<span style=\"color: #800080; text-decoration-color: #800080; font-style: italic\">None</span>, <span style=\"color: #808000; text-decoration-color: #808000\">name</span>=<span style=\"color: #008000; text-decoration-color: #008000\">'content'</span>, <span style=\"color: #808000; text-decoration-color: #808000\">title</span>=<span style=\"color: #008000; text-decoration-color: #008000\">'Content'</span>, <span style=\"color: #808000; text-decoration-color: #808000\">required</span>=<span style=\"color: #00ff00; text-decoration-color: #00ff00; font-style: italic\">True</span>,             <span style=\"color: #7f7f7f; text-decoration-color: #7f7f7f\">             </span>\n",
       "<span style=\"color: #7fbfbf; text-decoration-color: #7fbfbf\">                    </span>         <span style=\"color: #808000; text-decoration-color: #808000\">type</span>=<span style=\"color: #008000; text-decoration-color: #008000\">'text'</span>, <span style=\"color: #808000; text-decoration-color: #808000\">use_markdown</span>=<span style=\"color: #ff0000; text-decoration-color: #ff0000; font-style: italic\">False</span><span style=\"font-weight: bold\">)]</span>                                        <span style=\"color: #7f7f7f; text-decoration-color: #7f7f7f\">             </span>\n",
       "<span style=\"color: #7fbfbf; text-decoration-color: #7fbfbf\">                    </span>            <span style=\"color: #808000; text-decoration-color: #808000\">questions</span>=<span style=\"font-weight: bold\">[</span><span style=\"color: #800080; text-decoration-color: #800080; font-weight: bold\">RemoteLabelQuestion</span><span style=\"font-weight: bold\">(</span><span style=\"color: #808000; text-decoration-color: #808000\">id</span>=<span style=\"color: #800080; text-decoration-color: #800080; font-weight: bold\">UUID</span><span style=\"font-weight: bold\">(</span><span style=\"color: #008000; text-decoration-color: #008000\">'bafebe1e-f68a-4a71-a331-9e917</span> <span style=\"color: #7f7f7f; text-decoration-color: #7f7f7f\">             </span>\n",
       "<span style=\"color: #7fbfbf; text-decoration-color: #7fbfbf\">                    </span>         <span style=\"color: #008000; text-decoration-color: #008000\">41a3c4f'</span><span style=\"font-weight: bold\">)</span>, <span style=\"color: #808000; text-decoration-color: #808000\">client</span>=<span style=\"color: #800080; text-decoration-color: #800080; font-style: italic\">None</span>, <span style=\"color: #808000; text-decoration-color: #808000\">name</span>=<span style=\"color: #008000; text-decoration-color: #008000\">'category'</span>, <span style=\"color: #808000; text-decoration-color: #808000\">title</span>=<span style=\"color: #008000; text-decoration-color: #008000\">'What is the category of </span> <span style=\"color: #7f7f7f; text-decoration-color: #7f7f7f\">             </span>\n",
       "<span style=\"color: #7fbfbf; text-decoration-color: #7fbfbf\">                    </span>         <span style=\"color: #008000; text-decoration-color: #008000\">the article?'</span>, <span style=\"color: #808000; text-decoration-color: #808000\">description</span>=<span style=\"color: #800080; text-decoration-color: #800080; font-style: italic\">None</span>, <span style=\"color: #808000; text-decoration-color: #808000\">required</span>=<span style=\"color: #ff0000; text-decoration-color: #ff0000; font-style: italic\">False</span>, <span style=\"color: #808000; text-decoration-color: #808000\">type</span>=<span style=\"color: #008000; text-decoration-color: #008000\">'label_selection'</span>, <span style=\"color: #7f7f7f; text-decoration-color: #7f7f7f\">             </span>\n",
       "<span style=\"color: #7fbfbf; text-decoration-color: #7fbfbf\">                    </span>         <span style=\"color: #808000; text-decoration-color: #808000\">labels</span>=<span style=\"font-weight: bold\">[</span><span style=\"color: #008000; text-decoration-color: #008000\">'Coach Commentary'</span>, <span style=\"color: #008000; text-decoration-color: #008000\">'Transfer News'</span>, <span style=\"color: #008000; text-decoration-color: #008000\">'Match Report'</span>, <span style=\"color: #008000; text-decoration-color: #008000\">'Player </span>    <span style=\"color: #7f7f7f; text-decoration-color: #7f7f7f\">             </span>\n",
       "<span style=\"color: #7fbfbf; text-decoration-color: #7fbfbf\">                    </span>         <span style=\"color: #008000; text-decoration-color: #008000\">Profile'</span>, <span style=\"color: #008000; text-decoration-color: #008000\">'League Updates'</span>, <span style=\"color: #008000; text-decoration-color: #008000\">'Injury Updates'</span>, <span style=\"color: #008000; text-decoration-color: #008000\">'Tactical Analysis'</span>,       <span style=\"color: #7f7f7f; text-decoration-color: #7f7f7f\">             </span>\n",
       "<span style=\"color: #7fbfbf; text-decoration-color: #7fbfbf\">                    </span>         <span style=\"color: #008000; text-decoration-color: #008000\">'Social Media Reaction'</span>, <span style=\"color: #008000; text-decoration-color: #008000\">'Historical Milestone'</span>, <span style=\"color: #008000; text-decoration-color: #008000\">'Match Incident'</span><span style=\"font-weight: bold\">]</span>,      <span style=\"color: #7f7f7f; text-decoration-color: #7f7f7f\">             </span>\n",
       "<span style=\"color: #7fbfbf; text-decoration-color: #7fbfbf\">                    </span>         <span style=\"color: #808000; text-decoration-color: #808000\">visible_labels</span>=<span style=\"color: #800080; text-decoration-color: #800080; font-style: italic\">None</span><span style=\"font-weight: bold\">)</span>,                                                    <span style=\"color: #7f7f7f; text-decoration-color: #7f7f7f\">             </span>\n",
       "<span style=\"color: #7fbfbf; text-decoration-color: #7fbfbf\">                    </span>         <span style=\"color: #800080; text-decoration-color: #800080; font-weight: bold\">RemoteSpanQuestion</span><span style=\"font-weight: bold\">(</span><span style=\"color: #808000; text-decoration-color: #808000\">id</span>=<span style=\"color: #800080; text-decoration-color: #800080; font-weight: bold\">UUID</span><span style=\"font-weight: bold\">(</span><span style=\"color: #008000; text-decoration-color: #008000\">'9c0abcb0-48b1-494e-b308-c75a8ef256e5'</span><span style=\"font-weight: bold\">)</span>,      <span style=\"color: #7f7f7f; text-decoration-color: #7f7f7f\">             </span>\n",
       "<span style=\"color: #7fbfbf; text-decoration-color: #7fbfbf\">                    </span>         <span style=\"color: #808000; text-decoration-color: #808000\">client</span>=<span style=\"color: #800080; text-decoration-color: #800080; font-style: italic\">None</span>, <span style=\"color: #808000; text-decoration-color: #808000\">name</span>=<span style=\"color: #008000; text-decoration-color: #008000\">'entities'</span>, <span style=\"color: #808000; text-decoration-color: #808000\">title</span>=<span style=\"color: #008000; text-decoration-color: #008000\">'Highlight the entities in the </span>      <span style=\"color: #7f7f7f; text-decoration-color: #7f7f7f\">             </span>\n",
       "<span style=\"color: #7fbfbf; text-decoration-color: #7fbfbf\">                    </span>         <span style=\"color: #008000; text-decoration-color: #008000\">content:'</span>, <span style=\"color: #808000; text-decoration-color: #808000\">description</span>=<span style=\"color: #800080; text-decoration-color: #800080; font-style: italic\">None</span>, <span style=\"color: #808000; text-decoration-color: #808000\">required</span>=<span style=\"color: #00ff00; text-decoration-color: #00ff00; font-style: italic\">True</span>, <span style=\"color: #808000; text-decoration-color: #808000\">type</span>=<span style=\"color: #008000; text-decoration-color: #008000\">'span'</span>,                 <span style=\"color: #7f7f7f; text-decoration-color: #7f7f7f\">             </span>\n",
       "<span style=\"color: #7fbfbf; text-decoration-color: #7fbfbf\">                    </span>         <span style=\"color: #808000; text-decoration-color: #808000\">field</span>=<span style=\"color: #008000; text-decoration-color: #008000\">'content'</span>, <span style=\"color: #808000; text-decoration-color: #808000\">labels</span>=<span style=\"font-weight: bold\">[</span><span style=\"color: #800080; text-decoration-color: #800080; font-weight: bold\">SpanLabelOption</span><span style=\"font-weight: bold\">(</span><span style=\"color: #808000; text-decoration-color: #808000\">value</span>=<span style=\"color: #008000; text-decoration-color: #008000\">'Competition'</span>,            <span style=\"color: #7f7f7f; text-decoration-color: #7f7f7f\">             </span>\n",
       "<span style=\"color: #7fbfbf; text-decoration-color: #7fbfbf\">                    </span>         <span style=\"color: #808000; text-decoration-color: #808000\">text</span>=<span style=\"color: #008000; text-decoration-color: #008000\">'Competition'</span>, <span style=\"color: #808000; text-decoration-color: #808000\">description</span>=<span style=\"color: #800080; text-decoration-color: #800080; font-style: italic\">None</span><span style=\"font-weight: bold\">)</span>, <span style=\"color: #800080; text-decoration-color: #800080; font-weight: bold\">SpanLabelOption</span><span style=\"font-weight: bold\">(</span><span style=\"color: #808000; text-decoration-color: #808000\">value</span>=<span style=\"color: #008000; text-decoration-color: #008000\">'Team'</span>,     <span style=\"color: #7f7f7f; text-decoration-color: #7f7f7f\">             </span>\n",
       "<span style=\"color: #7fbfbf; text-decoration-color: #7fbfbf\">                    </span>         <span style=\"color: #808000; text-decoration-color: #808000\">text</span>=<span style=\"color: #008000; text-decoration-color: #008000\">'Team'</span>, <span style=\"color: #808000; text-decoration-color: #808000\">description</span>=<span style=\"color: #800080; text-decoration-color: #800080; font-style: italic\">None</span><span style=\"font-weight: bold\">)</span>, <span style=\"color: #800080; text-decoration-color: #800080; font-weight: bold\">SpanLabelOption</span><span style=\"font-weight: bold\">(</span><span style=\"color: #808000; text-decoration-color: #808000\">value</span>=<span style=\"color: #008000; text-decoration-color: #008000\">'Player'</span>,          <span style=\"color: #7f7f7f; text-decoration-color: #7f7f7f\">             </span>\n",
       "<span style=\"color: #7fbfbf; text-decoration-color: #7fbfbf\">                    </span>         <span style=\"color: #808000; text-decoration-color: #808000\">text</span>=<span style=\"color: #008000; text-decoration-color: #008000\">'Player'</span>, <span style=\"color: #808000; text-decoration-color: #808000\">description</span>=<span style=\"color: #800080; text-decoration-color: #800080; font-style: italic\">None</span><span style=\"font-weight: bold\">)</span>, <span style=\"color: #800080; text-decoration-color: #800080; font-weight: bold\">SpanLabelOption</span><span style=\"font-weight: bold\">(</span><span style=\"color: #808000; text-decoration-color: #808000\">value</span>=<span style=\"color: #008000; text-decoration-color: #008000\">'Match'</span>,         <span style=\"color: #7f7f7f; text-decoration-color: #7f7f7f\">             </span>\n",
       "<span style=\"color: #7fbfbf; text-decoration-color: #7fbfbf\">                    </span>         <span style=\"color: #808000; text-decoration-color: #808000\">text</span>=<span style=\"color: #008000; text-decoration-color: #008000\">'Match'</span>, <span style=\"color: #808000; text-decoration-color: #808000\">description</span>=<span style=\"color: #800080; text-decoration-color: #800080; font-style: italic\">None</span><span style=\"font-weight: bold\">)</span>, <span style=\"color: #800080; text-decoration-color: #800080; font-weight: bold\">SpanLabelOption</span><span style=\"font-weight: bold\">(</span><span style=\"color: #808000; text-decoration-color: #808000\">value</span>=<span style=\"color: #008000; text-decoration-color: #008000\">'Transfer'</span>,       <span style=\"color: #7f7f7f; text-decoration-color: #7f7f7f\">             </span>\n",
       "<span style=\"color: #7fbfbf; text-decoration-color: #7fbfbf\">                    </span>         <span style=\"color: #808000; text-decoration-color: #808000\">text</span>=<span style=\"color: #008000; text-decoration-color: #008000\">'Transfer'</span>, <span style=\"color: #808000; text-decoration-color: #808000\">description</span>=<span style=\"color: #800080; text-decoration-color: #800080; font-style: italic\">None</span><span style=\"font-weight: bold\">)]</span>, <span style=\"color: #808000; text-decoration-color: #808000\">visible_labels</span>=<span style=\"color: #008080; text-decoration-color: #008080; font-weight: bold\">5</span>,                   <span style=\"color: #7f7f7f; text-decoration-color: #7f7f7f\">             </span>\n",
       "<span style=\"color: #7fbfbf; text-decoration-color: #7fbfbf\">                    </span>         <span style=\"color: #808000; text-decoration-color: #808000\">allow_overlapping</span>=<span style=\"color: #00ff00; text-decoration-color: #00ff00; font-style: italic\">True</span><span style=\"font-weight: bold\">)]</span>                                                 <span style=\"color: #7f7f7f; text-decoration-color: #7f7f7f\">             </span>\n",
       "<span style=\"color: #7fbfbf; text-decoration-color: #7fbfbf\">                    </span>            <span style=\"color: #808000; text-decoration-color: #808000\">guidelines</span>=<span style=\"color: #800080; text-decoration-color: #800080\">Please</span>, read the question carefully and try to answer it   <span style=\"color: #7f7f7f; text-decoration-color: #7f7f7f\">             </span>\n",
       "<span style=\"color: #7fbfbf; text-decoration-color: #7fbfbf\">                    </span>         as accurately as possible.                                               <span style=\"color: #7f7f7f; text-decoration-color: #7f7f7f\">             </span>\n",
       "<span style=\"color: #7fbfbf; text-decoration-color: #7fbfbf\">                    </span>            <span style=\"color: #808000; text-decoration-color: #808000\">metadata_properties</span>=<span style=\"font-weight: bold\">[</span><span style=\"color: #800080; text-decoration-color: #800080; font-weight: bold\">RemoteTermsMetadataProperty</span><span style=\"font-weight: bold\">(</span><span style=\"color: #808000; text-decoration-color: #808000\">id</span>=<span style=\"color: #800080; text-decoration-color: #800080; font-weight: bold\">UUID</span><span style=\"font-weight: bold\">(</span><span style=\"color: #008000; text-decoration-color: #008000\">'bbe6f6d9-ff</span> <span style=\"color: #7f7f7f; text-decoration-color: #7f7f7f\">             </span>\n",
       "<span style=\"color: #7fbfbf; text-decoration-color: #7fbfbf\">                    </span>         <span style=\"color: #008000; text-decoration-color: #008000\">9c-4950-af2e-37215657eadc'</span><span style=\"font-weight: bold\">)</span>, <span style=\"color: #808000; text-decoration-color: #808000\">client</span>=<span style=\"font-weight: bold\">&lt;</span><span style=\"color: #ff00ff; text-decoration-color: #ff00ff; font-weight: bold\">httpx.Client</span><span style=\"color: #000000; text-decoration-color: #000000\"> object at </span>             <span style=\"color: #7f7f7f; text-decoration-color: #7f7f7f\">             </span>\n",
       "<span style=\"color: #7fbfbf; text-decoration-color: #7fbfbf\">                    </span>         <span style=\"color: #008080; text-decoration-color: #008080; font-weight: bold\">0x107e2ce10</span><span style=\"color: #000000; text-decoration-color: #000000\">&gt;, </span><span style=\"color: #808000; text-decoration-color: #808000\">name</span><span style=\"color: #000000; text-decoration-color: #000000\">=</span><span style=\"color: #008000; text-decoration-color: #008000\">'link'</span><span style=\"color: #000000; text-decoration-color: #000000\">, </span><span style=\"color: #808000; text-decoration-color: #808000\">title</span><span style=\"color: #000000; text-decoration-color: #000000\">=</span><span style=\"color: #008000; text-decoration-color: #008000\">'link'</span><span style=\"color: #000000; text-decoration-color: #000000\">, </span><span style=\"color: #808000; text-decoration-color: #808000\">visible_for_annotators</span><span style=\"color: #000000; text-decoration-color: #000000\">=</span><span style=\"color: #00ff00; text-decoration-color: #00ff00; font-style: italic\">True</span><span style=\"color: #000000; text-decoration-color: #000000\">, </span>   <span style=\"color: #7f7f7f; text-decoration-color: #7f7f7f\">             </span>\n",
       "<span style=\"color: #7fbfbf; text-decoration-color: #7fbfbf\">                    </span>         <span style=\"color: #808000; text-decoration-color: #808000\">type</span><span style=\"color: #000000; text-decoration-color: #000000\">=</span><span style=\"color: #008000; text-decoration-color: #008000\">'terms'</span><span style=\"color: #000000; text-decoration-color: #000000\">, </span><span style=\"color: #808000; text-decoration-color: #808000\">values</span><span style=\"color: #000000; text-decoration-color: #000000\">=</span><span style=\"color: #800080; text-decoration-color: #800080; font-style: italic\">None</span><span style=\"color: #000000; text-decoration-color: #000000; font-weight: bold\">)</span><span style=\"color: #000000; text-decoration-color: #000000\">, </span>                                             <span style=\"color: #7f7f7f; text-decoration-color: #7f7f7f\">             </span>\n",
       "<span style=\"color: #7fbfbf; text-decoration-color: #7fbfbf\">                    </span>         <span style=\"color: #800080; text-decoration-color: #800080; font-weight: bold\">RemoteTermsMetadataProperty</span><span style=\"color: #000000; text-decoration-color: #000000; font-weight: bold\">(</span><span style=\"color: #808000; text-decoration-color: #808000\">id</span><span style=\"color: #000000; text-decoration-color: #000000\">=</span><span style=\"color: #800080; text-decoration-color: #800080; font-weight: bold\">UUID</span><span style=\"color: #000000; text-decoration-color: #000000; font-weight: bold\">(</span><span style=\"color: #008000; text-decoration-color: #008000\">'19c2a214-8624-46a1-ba93-9a496876a1c</span> <span style=\"color: #7f7f7f; text-decoration-color: #7f7f7f\">             </span>\n",
       "<span style=\"color: #7fbfbf; text-decoration-color: #7fbfbf\">                    </span>         <span style=\"color: #008000; text-decoration-color: #008000\">8'</span><span style=\"color: #000000; text-decoration-color: #000000; font-weight: bold\">)</span><span style=\"color: #000000; text-decoration-color: #000000\">, </span><span style=\"color: #808000; text-decoration-color: #808000\">client</span><span style=\"color: #000000; text-decoration-color: #000000\">=&lt;httpx.Client object at </span><span style=\"color: #008080; text-decoration-color: #008080; font-weight: bold\">0x107e2ce10</span><span style=\"font-weight: bold\">&gt;</span>, <span style=\"color: #808000; text-decoration-color: #808000\">name</span>=<span style=\"color: #008000; text-decoration-color: #008000\">'source'</span>,         <span style=\"color: #7f7f7f; text-decoration-color: #7f7f7f\">             </span>\n",
       "<span style=\"color: #7fbfbf; text-decoration-color: #7fbfbf\">                    </span>         <span style=\"color: #808000; text-decoration-color: #808000\">title</span>=<span style=\"color: #008000; text-decoration-color: #008000\">'source'</span>, <span style=\"color: #808000; text-decoration-color: #808000\">visible_for_annotators</span>=<span style=\"color: #00ff00; text-decoration-color: #00ff00; font-style: italic\">True</span>, <span style=\"color: #808000; text-decoration-color: #808000\">type</span>=<span style=\"color: #008000; text-decoration-color: #008000\">'terms'</span>, <span style=\"color: #808000; text-decoration-color: #808000\">values</span>=<span style=\"color: #800080; text-decoration-color: #800080; font-style: italic\">None</span><span style=\"font-weight: bold\">)]</span> <span style=\"color: #7f7f7f; text-decoration-color: #7f7f7f\">             </span>\n",
       "<span style=\"color: #7fbfbf; text-decoration-color: #7fbfbf\">                    </span>            <span style=\"color: #808000; text-decoration-color: #808000\">vectors_settings</span>=<span style=\"font-weight: bold\">[]</span>                                                   <span style=\"color: #7f7f7f; text-decoration-color: #7f7f7f\">             </span>\n",
       "<span style=\"color: #7fbfbf; text-decoration-color: #7fbfbf\">                    </span>         <span style=\"font-weight: bold\">)</span>                                                                        <span style=\"color: #7f7f7f; text-decoration-color: #7f7f7f\">             </span>\n",
       "</pre>\n"
      ],
      "text/plain": [
       "\u001b[2;36m                   \u001b[0m\u001b[2;36m \u001b[0m\u001b[34mINFO    \u001b[0m INFO:argilla.client.feedback.dataset.local.mixins:\u001b[1;35mRemoteFeedbackDataset\u001b[0m\u001b[1m(\u001b[0m \u001b]8;id=234094;file:///Users/louis.guitton/workspace/mlops-talk-llm-kg/venv/lib/python3.11/site-packages/argilla/client/feedback/dataset/local/mixins.py\u001b\\\u001b[2mmixins.py\u001b[0m\u001b]8;;\u001b\\\u001b[2m:\u001b[0m\u001b]8;id=591133;file:///Users/louis.guitton/workspace/mlops-talk-llm-kg/venv/lib/python3.11/site-packages/argilla/client/feedback/dataset/local/mixins.py#272\u001b\\\u001b[2m272\u001b[0m\u001b]8;;\u001b\\\n",
       "\u001b[2;36m                    \u001b[0m            \u001b[33mid\u001b[0m=\u001b[93m764d5bd3\u001b[0m\u001b[93m-e075-4a5b-9e0e-1e3b69c4703c\u001b[0m                               \u001b[2m             \u001b[0m\n",
       "\u001b[2;36m                    \u001b[0m            \u001b[33mname\u001b[0m=\u001b[35mfootball\u001b[0m-news                                                    \u001b[2m             \u001b[0m\n",
       "\u001b[2;36m                    \u001b[0m            \u001b[33mworkspace\u001b[0m=\u001b[1;35mWorkspace\u001b[0m\u001b[1m(\u001b[0m\u001b[33mid\u001b[0m=\u001b[93m84a8fb6f\u001b[0m\u001b[93m-3350-4e9b-97c0-043cfedef934\u001b[0m,          \u001b[2m             \u001b[0m\n",
       "\u001b[2;36m                    \u001b[0m         \u001b[33mname\u001b[0m=\u001b[35madmin\u001b[0m, \u001b[33minserted_at\u001b[0m=\u001b[1;36m2024\u001b[0m-\u001b[1;36m05\u001b[0m-\u001b[1;36m14\u001b[0m \u001b[1;92m17:08:20\u001b[0m.\u001b[1;36m825501\u001b[0m,                      \u001b[2m             \u001b[0m\n",
       "\u001b[2;36m                    \u001b[0m         \u001b[33mupdated_at\u001b[0m=\u001b[1;36m2024\u001b[0m-\u001b[1;36m05\u001b[0m-\u001b[1;36m14\u001b[0m \u001b[1;92m17:08:20\u001b[0m.\u001b[1;36m825501\u001b[0m\u001b[1m)\u001b[0m                                   \u001b[2m             \u001b[0m\n",
       "\u001b[2;36m                    \u001b[0m            \u001b[33murl\u001b[0m=\u001b[4;94mhttp\u001b[0m\u001b[4;94m://localhost:6900/dataset/764d5bd3-e075-4a5b-9e0e-1e3b69c4703\u001b[0m \u001b[2m             \u001b[0m\n",
       "\u001b[2;36m                    \u001b[0m         \u001b[4;94mc/annotation-mode\u001b[0m                                                        \u001b[2m             \u001b[0m\n",
       "\u001b[2;36m                    \u001b[0m            \u001b[33mfields\u001b[0m=\u001b[1m[\u001b[0m\u001b[1;35mRemoteTextField\u001b[0m\u001b[1m(\u001b[0m\u001b[33mid\u001b[0m=\u001b[1;35mUUID\u001b[0m\u001b[1m(\u001b[0m\u001b[32m'8aba1023-dfbc-4208-805e-33583133e1a7\u001b[0m \u001b[2m             \u001b[0m\n",
       "\u001b[2;36m                    \u001b[0m         \u001b[32m'\u001b[0m\u001b[1m)\u001b[0m, \u001b[33mclient\u001b[0m=\u001b[3;35mNone\u001b[0m, \u001b[33mname\u001b[0m=\u001b[32m'title'\u001b[0m, \u001b[33mtitle\u001b[0m=\u001b[32m'Title'\u001b[0m, \u001b[33mrequired\u001b[0m=\u001b[3;92mTrue\u001b[0m,             \u001b[2m             \u001b[0m\n",
       "\u001b[2;36m                    \u001b[0m         \u001b[33mtype\u001b[0m=\u001b[32m'text'\u001b[0m, \u001b[33muse_markdown\u001b[0m=\u001b[3;91mFalse\u001b[0m\u001b[1m)\u001b[0m,                                        \u001b[2m             \u001b[0m\n",
       "\u001b[2;36m                    \u001b[0m         \u001b[1;35mRemoteTextField\u001b[0m\u001b[1m(\u001b[0m\u001b[33mid\u001b[0m=\u001b[1;35mUUID\u001b[0m\u001b[1m(\u001b[0m\u001b[32m'0b1fda52-583d-427d-9cb7-3060f12d0f2f'\u001b[0m\u001b[1m)\u001b[0m,         \u001b[2m             \u001b[0m\n",
       "\u001b[2;36m                    \u001b[0m         \u001b[33mclient\u001b[0m=\u001b[3;35mNone\u001b[0m, \u001b[33mname\u001b[0m=\u001b[32m'content'\u001b[0m, \u001b[33mtitle\u001b[0m=\u001b[32m'Content'\u001b[0m, \u001b[33mrequired\u001b[0m=\u001b[3;92mTrue\u001b[0m,             \u001b[2m             \u001b[0m\n",
       "\u001b[2;36m                    \u001b[0m         \u001b[33mtype\u001b[0m=\u001b[32m'text'\u001b[0m, \u001b[33muse_markdown\u001b[0m=\u001b[3;91mFalse\u001b[0m\u001b[1m)\u001b[0m\u001b[1m]\u001b[0m                                        \u001b[2m             \u001b[0m\n",
       "\u001b[2;36m                    \u001b[0m            \u001b[33mquestions\u001b[0m=\u001b[1m[\u001b[0m\u001b[1;35mRemoteLabelQuestion\u001b[0m\u001b[1m(\u001b[0m\u001b[33mid\u001b[0m=\u001b[1;35mUUID\u001b[0m\u001b[1m(\u001b[0m\u001b[32m'bafebe1e-f68a-4a71-a331-9e917\u001b[0m \u001b[2m             \u001b[0m\n",
       "\u001b[2;36m                    \u001b[0m         \u001b[32m41a3c4f'\u001b[0m\u001b[1m)\u001b[0m, \u001b[33mclient\u001b[0m=\u001b[3;35mNone\u001b[0m, \u001b[33mname\u001b[0m=\u001b[32m'category'\u001b[0m, \u001b[33mtitle\u001b[0m=\u001b[32m'What is the category of \u001b[0m \u001b[2m             \u001b[0m\n",
       "\u001b[2;36m                    \u001b[0m         \u001b[32mthe article?'\u001b[0m, \u001b[33mdescription\u001b[0m=\u001b[3;35mNone\u001b[0m, \u001b[33mrequired\u001b[0m=\u001b[3;91mFalse\u001b[0m, \u001b[33mtype\u001b[0m=\u001b[32m'label_selection'\u001b[0m, \u001b[2m             \u001b[0m\n",
       "\u001b[2;36m                    \u001b[0m         \u001b[33mlabels\u001b[0m=\u001b[1m[\u001b[0m\u001b[32m'Coach Commentary'\u001b[0m, \u001b[32m'Transfer News'\u001b[0m, \u001b[32m'Match Report'\u001b[0m, \u001b[32m'Player \u001b[0m    \u001b[2m             \u001b[0m\n",
       "\u001b[2;36m                    \u001b[0m         \u001b[32mProfile'\u001b[0m, \u001b[32m'League Updates'\u001b[0m, \u001b[32m'Injury Updates'\u001b[0m, \u001b[32m'Tactical Analysis'\u001b[0m,       \u001b[2m             \u001b[0m\n",
       "\u001b[2;36m                    \u001b[0m         \u001b[32m'Social Media Reaction'\u001b[0m, \u001b[32m'Historical Milestone'\u001b[0m, \u001b[32m'Match Incident'\u001b[0m\u001b[1m]\u001b[0m,      \u001b[2m             \u001b[0m\n",
       "\u001b[2;36m                    \u001b[0m         \u001b[33mvisible_labels\u001b[0m=\u001b[3;35mNone\u001b[0m\u001b[1m)\u001b[0m,                                                    \u001b[2m             \u001b[0m\n",
       "\u001b[2;36m                    \u001b[0m         \u001b[1;35mRemoteSpanQuestion\u001b[0m\u001b[1m(\u001b[0m\u001b[33mid\u001b[0m=\u001b[1;35mUUID\u001b[0m\u001b[1m(\u001b[0m\u001b[32m'9c0abcb0-48b1-494e-b308-c75a8ef256e5'\u001b[0m\u001b[1m)\u001b[0m,      \u001b[2m             \u001b[0m\n",
       "\u001b[2;36m                    \u001b[0m         \u001b[33mclient\u001b[0m=\u001b[3;35mNone\u001b[0m, \u001b[33mname\u001b[0m=\u001b[32m'entities'\u001b[0m, \u001b[33mtitle\u001b[0m=\u001b[32m'Highlight the entities in the \u001b[0m      \u001b[2m             \u001b[0m\n",
       "\u001b[2;36m                    \u001b[0m         \u001b[32mcontent:'\u001b[0m, \u001b[33mdescription\u001b[0m=\u001b[3;35mNone\u001b[0m, \u001b[33mrequired\u001b[0m=\u001b[3;92mTrue\u001b[0m, \u001b[33mtype\u001b[0m=\u001b[32m'span'\u001b[0m,                 \u001b[2m             \u001b[0m\n",
       "\u001b[2;36m                    \u001b[0m         \u001b[33mfield\u001b[0m=\u001b[32m'content'\u001b[0m, \u001b[33mlabels\u001b[0m=\u001b[1m[\u001b[0m\u001b[1;35mSpanLabelOption\u001b[0m\u001b[1m(\u001b[0m\u001b[33mvalue\u001b[0m=\u001b[32m'Competition'\u001b[0m,            \u001b[2m             \u001b[0m\n",
       "\u001b[2;36m                    \u001b[0m         \u001b[33mtext\u001b[0m=\u001b[32m'Competition'\u001b[0m, \u001b[33mdescription\u001b[0m=\u001b[3;35mNone\u001b[0m\u001b[1m)\u001b[0m, \u001b[1;35mSpanLabelOption\u001b[0m\u001b[1m(\u001b[0m\u001b[33mvalue\u001b[0m=\u001b[32m'Team'\u001b[0m,     \u001b[2m             \u001b[0m\n",
       "\u001b[2;36m                    \u001b[0m         \u001b[33mtext\u001b[0m=\u001b[32m'Team'\u001b[0m, \u001b[33mdescription\u001b[0m=\u001b[3;35mNone\u001b[0m\u001b[1m)\u001b[0m, \u001b[1;35mSpanLabelOption\u001b[0m\u001b[1m(\u001b[0m\u001b[33mvalue\u001b[0m=\u001b[32m'Player'\u001b[0m,          \u001b[2m             \u001b[0m\n",
       "\u001b[2;36m                    \u001b[0m         \u001b[33mtext\u001b[0m=\u001b[32m'Player'\u001b[0m, \u001b[33mdescription\u001b[0m=\u001b[3;35mNone\u001b[0m\u001b[1m)\u001b[0m, \u001b[1;35mSpanLabelOption\u001b[0m\u001b[1m(\u001b[0m\u001b[33mvalue\u001b[0m=\u001b[32m'Match'\u001b[0m,         \u001b[2m             \u001b[0m\n",
       "\u001b[2;36m                    \u001b[0m         \u001b[33mtext\u001b[0m=\u001b[32m'Match'\u001b[0m, \u001b[33mdescription\u001b[0m=\u001b[3;35mNone\u001b[0m\u001b[1m)\u001b[0m, \u001b[1;35mSpanLabelOption\u001b[0m\u001b[1m(\u001b[0m\u001b[33mvalue\u001b[0m=\u001b[32m'Transfer'\u001b[0m,       \u001b[2m             \u001b[0m\n",
       "\u001b[2;36m                    \u001b[0m         \u001b[33mtext\u001b[0m=\u001b[32m'Transfer'\u001b[0m, \u001b[33mdescription\u001b[0m=\u001b[3;35mNone\u001b[0m\u001b[1m)\u001b[0m\u001b[1m]\u001b[0m, \u001b[33mvisible_labels\u001b[0m=\u001b[1;36m5\u001b[0m,                   \u001b[2m             \u001b[0m\n",
       "\u001b[2;36m                    \u001b[0m         \u001b[33mallow_overlapping\u001b[0m=\u001b[3;92mTrue\u001b[0m\u001b[1m)\u001b[0m\u001b[1m]\u001b[0m                                                 \u001b[2m             \u001b[0m\n",
       "\u001b[2;36m                    \u001b[0m            \u001b[33mguidelines\u001b[0m=\u001b[35mPlease\u001b[0m, read the question carefully and try to answer it   \u001b[2m             \u001b[0m\n",
       "\u001b[2;36m                    \u001b[0m         as accurately as possible.                                               \u001b[2m             \u001b[0m\n",
       "\u001b[2;36m                    \u001b[0m            \u001b[33mmetadata_properties\u001b[0m=\u001b[1m[\u001b[0m\u001b[1;35mRemoteTermsMetadataProperty\u001b[0m\u001b[1m(\u001b[0m\u001b[33mid\u001b[0m=\u001b[1;35mUUID\u001b[0m\u001b[1m(\u001b[0m\u001b[32m'bbe6f6d9-ff\u001b[0m \u001b[2m             \u001b[0m\n",
       "\u001b[2;36m                    \u001b[0m         \u001b[32m9c-4950-af2e-37215657eadc'\u001b[0m\u001b[1m)\u001b[0m, \u001b[33mclient\u001b[0m=\u001b[1m<\u001b[0m\u001b[1;95mhttpx.Client\u001b[0m\u001b[39m object at \u001b[0m             \u001b[2m             \u001b[0m\n",
       "\u001b[2;36m                    \u001b[0m         \u001b[1;36m0x107e2ce10\u001b[0m\u001b[39m>, \u001b[0m\u001b[33mname\u001b[0m\u001b[39m=\u001b[0m\u001b[32m'link'\u001b[0m\u001b[39m, \u001b[0m\u001b[33mtitle\u001b[0m\u001b[39m=\u001b[0m\u001b[32m'link'\u001b[0m\u001b[39m, \u001b[0m\u001b[33mvisible_for_annotators\u001b[0m\u001b[39m=\u001b[0m\u001b[3;92mTrue\u001b[0m\u001b[39m, \u001b[0m   \u001b[2m             \u001b[0m\n",
       "\u001b[2;36m                    \u001b[0m         \u001b[33mtype\u001b[0m\u001b[39m=\u001b[0m\u001b[32m'terms'\u001b[0m\u001b[39m, \u001b[0m\u001b[33mvalues\u001b[0m\u001b[39m=\u001b[0m\u001b[3;35mNone\u001b[0m\u001b[1;39m)\u001b[0m\u001b[39m, \u001b[0m                                             \u001b[2m             \u001b[0m\n",
       "\u001b[2;36m                    \u001b[0m         \u001b[1;35mRemoteTermsMetadataProperty\u001b[0m\u001b[1;39m(\u001b[0m\u001b[33mid\u001b[0m\u001b[39m=\u001b[0m\u001b[1;35mUUID\u001b[0m\u001b[1;39m(\u001b[0m\u001b[32m'19c2a214-8624-46a1-ba93-9a496876a1c\u001b[0m \u001b[2m             \u001b[0m\n",
       "\u001b[2;36m                    \u001b[0m         \u001b[32m8'\u001b[0m\u001b[1;39m)\u001b[0m\u001b[39m, \u001b[0m\u001b[33mclient\u001b[0m\u001b[39m=<httpx.Client object at \u001b[0m\u001b[1;36m0x107e2ce10\u001b[0m\u001b[1m>\u001b[0m, \u001b[33mname\u001b[0m=\u001b[32m'source'\u001b[0m,         \u001b[2m             \u001b[0m\n",
       "\u001b[2;36m                    \u001b[0m         \u001b[33mtitle\u001b[0m=\u001b[32m'source'\u001b[0m, \u001b[33mvisible_for_annotators\u001b[0m=\u001b[3;92mTrue\u001b[0m, \u001b[33mtype\u001b[0m=\u001b[32m'terms'\u001b[0m, \u001b[33mvalues\u001b[0m=\u001b[3;35mNone\u001b[0m\u001b[1m)\u001b[0m\u001b[1m]\u001b[0m \u001b[2m             \u001b[0m\n",
       "\u001b[2;36m                    \u001b[0m            \u001b[33mvectors_settings\u001b[0m=\u001b[1m[\u001b[0m\u001b[1m]\u001b[0m                                                   \u001b[2m             \u001b[0m\n",
       "\u001b[2;36m                    \u001b[0m         \u001b[1m)\u001b[0m                                                                        \u001b[2m             \u001b[0m\n"
      ]
     },
     "metadata": {},
     "output_type": "display_data"
    }
   ],
   "source": [
    "remote_dataset = dataset.push_to_argilla(name=\"football-news\", workspace=\"admin\")"
   ]
  },
  {
   "cell_type": "markdown",
   "id": "e44a0793-9ed5-4b91-9124-0a58d60c5d8f",
   "metadata": {},
   "source": [
    "### Add bare records to the remote Argilla dataset"
   ]
  },
  {
   "cell_type": "code",
   "execution_count": 215,
   "id": "24d792cd-0c40-4381-b312-72dee5123a19",
   "metadata": {
    "execution": {
     "iopub.execute_input": "2024-05-22T10:43:48.474566Z",
     "iopub.status.busy": "2024-05-22T10:43:48.473927Z",
     "iopub.status.idle": "2024-05-22T10:43:48.485381Z",
     "shell.execute_reply": "2024-05-22T10:43:48.483714Z",
     "shell.execute_reply.started": "2024-05-22T10:43:48.474521Z"
    }
   },
   "outputs": [],
   "source": [
    "from typing import Iterator\n",
    "from tqdm import tqdm\n",
    "\n",
    "def records_generator(filepath: str = '../../data/football-news-articles/final-articles.csv') -> Iterator[rg.FeedbackRecord]:\n",
    "    \"\"\"Create Argilla records from the Football News kaggle dataset.\n",
    "    \n",
    "    Notes:\n",
    "    - articles with source=\"all-football-app\" have encoding issues\n",
    "    \"\"\"\n",
    "    dataset: pd.DataFrame = (\n",
    "        pd.read_csv(filepath)\n",
    "        .loc[lambda d: d.source.isin([\"skysports\", \"the-analyst\"])]\n",
    "    )\n",
    "\n",
    "    for index, row in tqdm(dataset.iterrows()):\n",
    "        record = rg.FeedbackRecord(\n",
    "            fields={\n",
    "                \"title\": row['title'],\n",
    "                \"content\": row['content']\n",
    "            },\n",
    "            metadata={\n",
    "                \"link\": row['link'],\n",
    "                \"source\": row['source'],\n",
    "            },\n",
    "            vectors={},\n",
    "            responses=[],\n",
    "            suggestions=[],\n",
    "            external_id=index,\n",
    "        )\n",
    "\n",
    "        yield record"
   ]
  },
  {
   "cell_type": "code",
   "execution_count": 216,
   "id": "3e471bbc-517f-4f00-ae2e-8627a9a171b6",
   "metadata": {
    "execution": {
     "iopub.execute_input": "2024-05-22T10:43:49.199053Z",
     "iopub.status.busy": "2024-05-22T10:43:49.198715Z",
     "iopub.status.idle": "2024-05-22T10:43:49.203933Z",
     "shell.execute_reply": "2024-05-22T10:43:49.203289Z",
     "shell.execute_reply.started": "2024-05-22T10:43:49.199030Z"
    }
   },
   "outputs": [],
   "source": [
    "LIMIT = 50"
   ]
  },
  {
   "cell_type": "code",
   "execution_count": 217,
   "id": "882d0a75-42b2-4884-94bc-5a13fe592b94",
   "metadata": {
    "execution": {
     "iopub.execute_input": "2024-05-22T10:43:49.850436Z",
     "iopub.status.busy": "2024-05-22T10:43:49.850053Z",
     "iopub.status.idle": "2024-05-22T10:43:50.675490Z",
     "shell.execute_reply": "2024-05-22T10:43:50.674739Z",
     "shell.execute_reply.started": "2024-05-22T10:43:49.850412Z"
    }
   },
   "outputs": [
    {
     "name": "stderr",
     "output_type": "stream",
     "text": [
      "2157it [00:00, 33218.70it/s]"
     ]
    },
    {
     "data": {
      "text/html": [
       "<pre style=\"white-space:pre;overflow-x:auto;line-height:normal;font-family:Menlo,'DejaVu Sans Mono',consolas,'Courier New',monospace\">/Users/louis.guitton/workspace/mlops-talk-llm-kg/venv/lib/python3.11/site-packages/rich/live.py:231: UserWarning: \n",
       "install \"ipywidgets\" for Jupyter support\n",
       "  warnings.warn('install \"ipywidgets\" for Jupyter support')\n",
       "</pre>\n"
      ],
      "text/plain": [
       "/Users/louis.guitton/workspace/mlops-talk-llm-kg/venv/lib/python3.11/site-packages/rich/live.py:231: UserWarning: \n",
       "install \"ipywidgets\" for Jupyter support\n",
       "  warnings.warn('install \"ipywidgets\" for Jupyter support')\n"
      ]
     },
     "metadata": {},
     "output_type": "display_data"
    },
    {
     "name": "stderr",
     "output_type": "stream",
     "text": [
      "\n"
     ]
    },
    {
     "data": {
      "text/html": [
       "<pre style=\"white-space:pre;overflow-x:auto;line-height:normal;font-family:Menlo,'DejaVu Sans Mono',consolas,'Courier New',monospace\"></pre>\n"
      ],
      "text/plain": []
     },
     "metadata": {},
     "output_type": "display_data"
    },
    {
     "data": {
      "text/html": [
       "<pre style=\"white-space:pre;overflow-x:auto;line-height:normal;font-family:Menlo,'DejaVu Sans Mono',consolas,'Courier New',monospace\">\n",
       "</pre>\n"
      ],
      "text/plain": [
       "\n"
      ]
     },
     "metadata": {},
     "output_type": "display_data"
    }
   ],
   "source": [
    "remote_dataset = rg.FeedbackDataset.from_argilla(\"football-news\", workspace=\"admin\")\n",
    "remote_dataset.add_records(list(records_generator())[:LIMIT])"
   ]
  },
  {
   "cell_type": "markdown",
   "id": "28358307-f89b-4f7d-b7b3-25cf379a145e",
   "metadata": {},
   "source": [
    "### Add vectors to records to enable Similarity Search in Argilla"
   ]
  },
  {
   "cell_type": "code",
   "execution_count": 218,
   "id": "b0cfc09e-598a-4f83-bf27-7b7582434c35",
   "metadata": {
    "execution": {
     "iopub.execute_input": "2024-05-22T10:43:53.890139Z",
     "iopub.status.busy": "2024-05-22T10:43:53.889741Z",
     "iopub.status.idle": "2024-05-22T10:43:53.895205Z",
     "shell.execute_reply": "2024-05-22T10:43:53.894602Z",
     "shell.execute_reply.started": "2024-05-22T10:43:53.890117Z"
    }
   },
   "outputs": [],
   "source": [
    "from argilla.client.feedback.integrations.sentencetransformers import SentenceTransformersExtractor"
   ]
  },
  {
   "cell_type": "code",
   "execution_count": 219,
   "id": "2ca43089-71d0-41c0-a412-d3bc835d279b",
   "metadata": {
    "execution": {
     "iopub.execute_input": "2024-05-22T10:43:54.248739Z",
     "iopub.status.busy": "2024-05-22T10:43:54.248407Z",
     "iopub.status.idle": "2024-05-22T10:43:56.632252Z",
     "shell.execute_reply": "2024-05-22T10:43:56.631874Z",
     "shell.execute_reply.started": "2024-05-22T10:43:54.248716Z"
    }
   },
   "outputs": [
    {
     "name": "stderr",
     "output_type": "stream",
     "text": [
      "/Users/louis.guitton/workspace/mlops-talk-llm-kg/venv/lib/python3.11/site-packages/huggingface_hub/file_download.py:1132: FutureWarning: `resume_download` is deprecated and will be removed in version 1.0.0. Downloads always resume when possible. If you want to force a new download, use `force_download=True`.\n",
      "  warnings.warn(\n"
     ]
    }
   ],
   "source": [
    "FAST_AND_SMALL = \"sentence-transformers/all-MiniLM-L6-v2\"\n",
    "\n",
    "ste = SentenceTransformersExtractor(\n",
    "    model=FAST_AND_SMALL,\n",
    "    show_progress=True,\n",
    ")"
   ]
  },
  {
   "cell_type": "code",
   "execution_count": 220,
   "id": "edd02893-bfc2-48db-8fc5-07fa6909c7cc",
   "metadata": {
    "execution": {
     "iopub.execute_input": "2024-05-22T10:43:56.633162Z",
     "iopub.status.busy": "2024-05-22T10:43:56.633062Z",
     "iopub.status.idle": "2024-05-22T10:43:58.667348Z",
     "shell.execute_reply": "2024-05-22T10:43:58.666408Z",
     "shell.execute_reply.started": "2024-05-22T10:43:56.633153Z"
    }
   },
   "outputs": [
    {
     "name": "stderr",
     "output_type": "stream",
     "text": [
      "Batches: 100%|█████████████████████████████████████████████████████████████████████████████████████████████████████████████████████████████████████████████████| 2/2 [00:00<00:00,  3.18it/s]\n",
      "Batches: 100%|█████████████████████████████████████████████████████████████████████████████████████████████████████████████████████████████████████████████████| 2/2 [00:00<00:00,  4.35it/s]\n"
     ]
    },
    {
     "data": {
      "text/html": [
       "<pre style=\"white-space:pre;overflow-x:auto;line-height:normal;font-family:Menlo,'DejaVu Sans Mono',consolas,'Courier New',monospace\"></pre>\n"
      ],
      "text/plain": []
     },
     "metadata": {},
     "output_type": "display_data"
    },
    {
     "data": {
      "text/html": [
       "<pre style=\"white-space:pre;overflow-x:auto;line-height:normal;font-family:Menlo,'DejaVu Sans Mono',consolas,'Courier New',monospace\">\n",
       "</pre>\n"
      ],
      "text/plain": [
       "\n"
      ]
     },
     "metadata": {},
     "output_type": "display_data"
    }
   ],
   "source": [
    "remote_dataset = rg.FeedbackDataset.from_argilla(\"football-news\", workspace=\"admin\")\n",
    "\n",
    "# Update the dataset\n",
    "remote_dataset = ste.update_dataset(\n",
    "    dataset=remote_dataset,\n",
    "    fields=None, # None means using all fields\n",
    "    update_records=True, # Also, update the records in the dataset\n",
    "    overwrite=True, # Whether to overwrite existing vectors\n",
    ")"
   ]
  },
  {
   "cell_type": "markdown",
   "id": "5a0bbe0c-8e64-4076-808d-50d467748fbd",
   "metadata": {},
   "source": [
    "## Add suggestions for the text classification question using a zero-shot classification model from HuggingFace\n",
    "If we had labels, we could train a model that uses sentence embeddings (for more details, see [this argilla tutorial](https://docs.argilla.io/en/v1.28.0/tutorials_and_integrations/tutorials/feedback/labelling-feedback-setfit.html))\n",
    "\n",
    "```python\n",
    "from setfit import SetFitModel, SetFitTrainer\n",
    "\n",
    "model = SetFitModel.from_pretrained(\"all-MiniLM-L6-v2\")\n",
    "trainer = SetFitTrainer(model=model, train_dataset=train_dataset)\n",
    "```\n",
    "\n",
    "But for the cold start, we look for a small model on [HuggingFace](https://huggingface.co/models?pipeline_tag=zero-shot-classification)"
   ]
  },
  {
   "cell_type": "code",
   "execution_count": 221,
   "id": "46f1168d-c69b-48f0-97eb-869f1bb83a60",
   "metadata": {
    "execution": {
     "iopub.execute_input": "2024-05-22T10:43:59.779223Z",
     "iopub.status.busy": "2024-05-22T10:43:59.778893Z",
     "iopub.status.idle": "2024-05-22T10:44:01.795378Z",
     "shell.execute_reply": "2024-05-22T10:44:01.795042Z",
     "shell.execute_reply.started": "2024-05-22T10:43:59.779201Z"
    }
   },
   "outputs": [],
   "source": [
    "from transformers import pipeline\n",
    "\n",
    "# model_name = \"sileod/deberta-v3-small-tasksource-nli\"\n",
    "# model_name = \"cointegrated/rubert-tiny-bilingual-nli\"\n",
    "# model_name = \"typeform/distilbert-base-uncased-mnli\"\n",
    "model_name = \"valhalla/distilbart-mnli-12-3\"\n",
    "classifier = pipeline(\"zero-shot-classification\", model=model_name)"
   ]
  },
  {
   "cell_type": "code",
   "execution_count": 222,
   "id": "a1b53fa9-5275-4a23-9a7d-8df17d0feff7",
   "metadata": {
    "execution": {
     "iopub.execute_input": "2024-05-22T10:44:01.796321Z",
     "iopub.status.busy": "2024-05-22T10:44:01.796233Z",
     "iopub.status.idle": "2024-05-22T10:44:02.179136Z",
     "shell.execute_reply": "2024-05-22T10:44:02.178767Z",
     "shell.execute_reply.started": "2024-05-22T10:44:01.796313Z"
    }
   },
   "outputs": [
    {
     "data": {
      "text/plain": [
       "{'sequence': 'one day I will see the world',\n",
       " 'labels': ['travel', 'dancing', 'cooking'],\n",
       " 'scores': [0.985403299331665, 0.007384597323834896, 0.007212089374661446]}"
      ]
     },
     "execution_count": 222,
     "metadata": {},
     "output_type": "execute_result"
    }
   ],
   "source": [
    "text = \"one day I will see the world\"\n",
    "candidate_labels = ['travel', 'cooking', 'dancing']\n",
    "classifier(text, candidate_labels)"
   ]
  },
  {
   "cell_type": "code",
   "execution_count": null,
   "id": "3b34307e-3bf2-4fc3-8707-14b3178bb060",
   "metadata": {
    "execution": {
     "iopub.execute_input": "2024-05-22T10:44:05.049386Z",
     "iopub.status.busy": "2024-05-22T10:44:05.049062Z"
    }
   },
   "outputs": [
    {
     "name": "stderr",
     "output_type": "stream",
     "text": [
      "  8%|████████████▏                                                                                                                                            | 4/50 [00:23<04:24,  5.74s/it]"
     ]
    }
   ],
   "source": [
    "remote_dataset = rg.FeedbackDataset.from_argilla(\"football-news\", workspace=\"admin\")\n",
    "\n",
    "modified_records = [record for record in remote_dataset.records]\n",
    "for record in tqdm(modified_records):\n",
    "    x = \". \".join([record.fields[\"title\"], record.fields[\"content\"]])\n",
    "    # if x: str, then y = {\"sequence\": 'one day I will see the world', \"labels\": ['travel', 'dancing', 'cooking'], 'scores': [0.8434, 0.0814, 0.0750]}\n",
    "    y = classifier(\n",
    "        sequences=x,\n",
    "        candidate_labels=remote_dataset.question_by_name(\"category\").labels\n",
    "    )    \n",
    "    record.suggestions = [\n",
    "        {\n",
    "            \"question_name\": \"category\",\n",
    "            \"value\": y[\"labels\"][0],\n",
    "            \"agent\": model_name,\n",
    "            \"score\": y[\"scores\"][0]\n",
    "        }\n",
    "    ]\n",
    "\n",
    "remote_dataset.update_records(modified_records)"
   ]
  },
  {
   "cell_type": "markdown",
   "id": "6c05a3ec-2196-4bb1-a415-10f1df417baf",
   "metadata": {},
   "source": [
    "Problems:\n",
    "- accuracy is not great in practice\n",
    "- inference time is high\n",
    "\n",
    "Approach: \n",
    "- label a few (10s) articles and train a classifier with SetFit "
   ]
  },
  {
   "cell_type": "markdown",
   "id": "bfe50f20-3600-45dc-ad49-59f9b02141ea",
   "metadata": {},
   "source": [
    "## Add suggestions for the token classification question using a zero-shot NER model from HuggingFace"
   ]
  },
  {
   "cell_type": "code",
   "execution_count": null,
   "id": "4d30482a-166d-478e-97d4-241b1fd272e4",
   "metadata": {},
   "outputs": [],
   "source": [
    "remote_dataset = rg.FeedbackDataset.from_argilla(\"football-news\", workspace=\"admin\")"
   ]
  },
  {
   "cell_type": "code",
   "execution_count": null,
   "id": "ccc850b0-768f-40f5-a671-1910d1c237b6",
   "metadata": {},
   "outputs": [],
   "source": [
    "import spacy\n",
    "from gliner_spacy.pipeline import (  # noqa: F401 because we need to register the factory with spacy\n",
    "    GlinerSpacy,\n",
    ")\n",
    "\n",
    "candidate_labels =[label.value.lower() for label in remote_dataset.question_by_name(\"entities\").labels] # NuZero requires labels to be lower-cased\n",
    "\n",
    "model_name = \"numind/NuZero_token\"\n",
    "\n",
    "nlp = spacy.blank(\"en\")\n",
    "nlp.add_pipe(\"gliner_spacy\", config={\n",
    "    \"gliner_model\": model_name,\n",
    "    \"chunk_size\": 250,\n",
    "    \"labels\": candidate_labels,  \n",
    "    \"style\": \"ent\",\n",
    "    \"threshold\": 0.3,\n",
    "})"
   ]
  },
  {
   "cell_type": "code",
   "execution_count": null,
   "id": "273b7d49-c996-44a8-814b-3bf368924083",
   "metadata": {},
   "outputs": [],
   "source": [
    "from argilla.client.feedback.schemas import SpanValueSchema\n",
    "\n",
    "modified_records = [record for record in remote_dataset.records]\n",
    "for record in tqdm(modified_records):\n",
    "    doc = nlp(record.fields[\"content\"]) \n",
    "    record.suggestions = [\n",
    "        {\n",
    "            \"question_name\": \"entities\",\n",
    "            \"value\": [\n",
    "                SpanValueSchema(\n",
    "                    start=ent.start_char,\n",
    "                    end=ent.end_char,\n",
    "                    label=ent.label_.capitalize(),\n",
    "                )\n",
    "                for ent in doc.ents\n",
    "            ],\n",
    "            \"agent\": model_name,\n",
    "            # \"score\": ...\n",
    "        }\n",
    "    ] + [dict(s) for s in record.suggestions]  # we keep existing suggestions\n",
    "\n",
    "remote_dataset.update_records(modified_records)"
   ]
  },
  {
   "cell_type": "code",
   "execution_count": null,
   "id": "2ea79dd7-06bd-4e58-897a-c166392dae34",
   "metadata": {},
   "outputs": [],
   "source": []
  }
 ],
 "metadata": {
  "kernelspec": {
   "display_name": "Python 3 (ipykernel)",
   "language": "python",
   "name": "python3"
  },
  "language_info": {
   "codemirror_mode": {
    "name": "ipython",
    "version": 3
   },
   "file_extension": ".py",
   "mimetype": "text/x-python",
   "name": "python",
   "nbconvert_exporter": "python",
   "pygments_lexer": "ipython3",
   "version": "3.11.4"
  }
 },
 "nbformat": 4,
 "nbformat_minor": 5
}
