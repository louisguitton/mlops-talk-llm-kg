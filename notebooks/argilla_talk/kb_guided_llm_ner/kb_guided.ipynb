{
 "cells": [
  {
   "cell_type": "markdown",
   "id": "38046dc3-ec8f-4d30-98c7-2429c9a4e9d3",
   "metadata": {},
   "source": [
    "# Fancy title with emoji\n",
    "\n",
    "Insert motivation\n",
    "Insert image\n",
    "\n",
    "## Introduction\n",
    "\n",
    "Definitions and goal of the tutorial\n",
    "\n",
    "References\n",
    "\n",
    "- https://twitter.com/explosion_ai/status/1696207181098705327\n",
    "- https://github.com/explosion/prodigy-recipes/tree/master/tutorials/kb-guided-llm-ner\n",
    "- https://docs.argilla.io/en/latest/tutorials_and_integrations/tutorials/other_datasets/labelling-tokenclassification-using-spacy-llm.html\n",
    "- https://docs.argilla.io/en/latest/tutorials_and_integrations/tutorials/feedback/labelling-spacy-llm.html\n",
    "- https://docs.argilla.io/en/latest/tutorials_and_integrations/tutorials/other_datasets/weak_supervision_ner.html"
   ]
  },
  {
   "cell_type": "code",
   "execution_count": 1,
   "id": "8bfe9d89-f467-4784-ba6a-9e9866b533d1",
   "metadata": {
    "execution": {
     "iopub.execute_input": "2024-02-13T17:46:59.162473Z",
     "iopub.status.busy": "2024-02-13T17:46:59.162220Z",
     "iopub.status.idle": "2024-02-13T17:47:03.706431Z",
     "shell.execute_reply": "2024-02-13T17:47:03.706170Z",
     "shell.execute_reply.started": "2024-02-13T17:46:59.162448Z"
    }
   },
   "outputs": [
    {
     "name": "stderr",
     "output_type": "stream",
     "text": [
      "/Users/louis.guitton/workspace/mlops-talk-llm-kg/venv/lib/python3.11/site-packages/tqdm/auto.py:21: TqdmWarning: IProgress not found. Please update jupyter and ipywidgets. See https://ipywidgets.readthedocs.io/en/stable/user_install.html\n",
      "  from .autonotebook import tqdm as notebook_tqdm\n"
     ]
    }
   ],
   "source": [
    "import json\n",
    "from typing import cast\n",
    "from IPython.display import display, Markdown\n",
    "\n",
    "import spacy\n",
    "from spacy_llm.util import assemble, Config, assemble_from_config\n",
    "from spacy_llm.pipeline import LLMWrapper\n",
    "import argilla as rg\n",
    "\n",
    "from datasets import load_dataset\n",
    "from tqdm.auto import tqdm"
   ]
  },
  {
   "cell_type": "markdown",
   "id": "366d5c2a-3b02-4642-ab1f-eda57997fcdb",
   "metadata": {},
   "source": [
    "## Setup"
   ]
  },
  {
   "cell_type": "code",
   "execution_count": 3,
   "id": "e0499e8f-0f84-4a28-98e1-5bb56deb9f78",
   "metadata": {
    "execution": {
     "iopub.execute_input": "2024-02-13T17:47:12.568724Z",
     "iopub.status.busy": "2024-02-13T17:47:12.568129Z",
     "iopub.status.idle": "2024-02-13T17:47:12.866901Z",
     "shell.execute_reply": "2024-02-13T17:47:12.866481Z",
     "shell.execute_reply.started": "2024-02-13T17:47:12.568689Z"
    }
   },
   "outputs": [
    {
     "name": "stderr",
     "output_type": "stream",
     "text": [
      "/Users/louis.guitton/workspace/mlops-talk-llm-kg/venv/lib/python3.11/site-packages/argilla/client/client.py:178: UserWarning: No workspace configuration was detected. To work with Argilla datasets, specify a valid workspace name on `rg.init` or set it up through the `rg.set_workspace` function.\n",
      "  warnings.warn(\n"
     ]
    }
   ],
   "source": [
    "rg.init(\n",
    "    api_url=\"http://localhost:6900\",\n",
    "    api_key=\"admin.apikey\",\n",
    ")"
   ]
  },
  {
   "cell_type": "code",
   "execution_count": 4,
   "id": "5d23e249-c148-4f88-a0e7-3c0c43003f49",
   "metadata": {
    "execution": {
     "iopub.execute_input": "2024-02-13T17:47:14.217411Z",
     "iopub.status.busy": "2024-02-13T17:47:14.216582Z",
     "iopub.status.idle": "2024-02-13T17:47:14.234001Z",
     "shell.execute_reply": "2024-02-13T17:47:14.232419Z",
     "shell.execute_reply.started": "2024-02-13T17:47:14.217361Z"
    }
   },
   "outputs": [],
   "source": [
    "with open(\"../../data/wiki_guardians.json\", \"r\") as fh:\n",
    "    text: str = json.load(fh)[\"text\"]\n",
    "    paragraph = text.split(\"\\n\\n\\n\")[0]"
   ]
  },
  {
   "cell_type": "code",
   "execution_count": 5,
   "id": "9a5d4d69-1ad8-4e8f-8725-3be138b30fc4",
   "metadata": {
    "execution": {
     "iopub.execute_input": "2024-02-13T17:47:17.831940Z",
     "iopub.status.busy": "2024-02-13T17:47:17.831053Z",
     "iopub.status.idle": "2024-02-13T17:47:28.372196Z",
     "shell.execute_reply": "2024-02-13T17:47:28.371894Z",
     "shell.execute_reply.started": "2024-02-13T17:47:17.831888Z"
    }
   },
   "outputs": [
    {
     "data": {
      "text/html": [
       "<div>\n",
       "<style scoped>\n",
       "    .dataframe tbody tr th:only-of-type {\n",
       "        vertical-align: middle;\n",
       "    }\n",
       "\n",
       "    .dataframe tbody tr th {\n",
       "        vertical-align: top;\n",
       "    }\n",
       "\n",
       "    .dataframe thead th {\n",
       "        text-align: right;\n",
       "    }\n",
       "</style>\n",
       "<table border=\"1\" class=\"dataframe\">\n",
       "  <thead>\n",
       "    <tr style=\"text-align: right;\">\n",
       "      <th></th>\n",
       "      <th>text</th>\n",
       "      <th>label</th>\n",
       "    </tr>\n",
       "  </thead>\n",
       "  <tbody>\n",
       "    <tr>\n",
       "      <th>0</th>\n",
       "      <td>I am still waiting on my card?</td>\n",
       "      <td>11</td>\n",
       "    </tr>\n",
       "    <tr>\n",
       "      <th>1</th>\n",
       "      <td>What can I do if my card still hasn't arrived ...</td>\n",
       "      <td>11</td>\n",
       "    </tr>\n",
       "    <tr>\n",
       "      <th>2</th>\n",
       "      <td>I have been waiting over a week. Is the card s...</td>\n",
       "      <td>11</td>\n",
       "    </tr>\n",
       "    <tr>\n",
       "      <th>3</th>\n",
       "      <td>Can I track my card while it is in the process...</td>\n",
       "      <td>11</td>\n",
       "    </tr>\n",
       "    <tr>\n",
       "      <th>4</th>\n",
       "      <td>How do I know if I will get my card, or if it ...</td>\n",
       "      <td>11</td>\n",
       "    </tr>\n",
       "  </tbody>\n",
       "</table>\n",
       "</div>"
      ],
      "text/plain": [
       "                                                text  label\n",
       "0                     I am still waiting on my card?     11\n",
       "1  What can I do if my card still hasn't arrived ...     11\n",
       "2  I have been waiting over a week. Is the card s...     11\n",
       "3  Can I track my card while it is in the process...     11\n",
       "4  How do I know if I will get my card, or if it ...     11"
      ]
     },
     "execution_count": 5,
     "metadata": {},
     "output_type": "execute_result"
    }
   ],
   "source": [
    "dataset_hf = load_dataset(\"banking77\", split=\"train\")\n",
    "dataset_hf.to_pandas().head()"
   ]
  },
  {
   "cell_type": "markdown",
   "id": "e1509f69-6f26-4c3c-92d5-3e5859fd7a5a",
   "metadata": {},
   "source": [
    "## `spacy-llm` + `Ollama` + `spacy-dbpedia-spotlight` pipeline"
   ]
  },
  {
   "cell_type": "code",
   "execution_count": 6,
   "id": "f5cbb9fb-4447-42cb-96ad-3812a6ffecd1",
   "metadata": {
    "execution": {
     "iopub.execute_input": "2024-02-13T17:47:38.146553Z",
     "iopub.status.busy": "2024-02-13T17:47:38.144558Z",
     "iopub.status.idle": "2024-02-13T17:47:39.369396Z",
     "shell.execute_reply": "2024-02-13T17:47:39.369092Z",
     "shell.execute_reply.started": "2024-02-13T17:47:38.146469Z"
    }
   },
   "outputs": [],
   "source": [
    "cfg_string = \"\"\"\n",
    "[nlp]\n",
    "lang = \"en\"\n",
    "pipeline = [\"llm\", \"dbpedia-spotlight\"]\n",
    "\n",
    "[components]\n",
    "\n",
    "[components.llm]\n",
    "factory = \"llm\"\n",
    "\n",
    "[components.llm.task]\n",
    "@llm_tasks = \"spacy.NER.v2\"\n",
    "labels = [\"Person\", \"Organisation\"]\n",
    "\n",
    "[components.llm.model]\n",
    "@llm_models = \"langchain.Ollama.v1\"\n",
    "name = \"mistral\"\n",
    "context_length = 2048\n",
    "config = {\"temperature\": 0.0}\n",
    "\n",
    "[components.dbpedia-spotlight]\n",
    "factory = \"dbpedia_spotlight\"\n",
    "dbpedia_rest_endpoint = \"http://localhost:2222/rest\"\n",
    "language_code = \"en\"\n",
    "overwrite_ents = false\n",
    "process = \"annotate\"\n",
    "\"\"\"\n",
    "\n",
    "config = Config().from_str(cfg_string)\n",
    "nlp = assemble_from_config(config)"
   ]
  },
  {
   "cell_type": "code",
   "execution_count": 7,
   "id": "fad355d9-0e51-4c5d-8413-de827f703bf5",
   "metadata": {
    "execution": {
     "iopub.execute_input": "2024-02-13T17:47:39.460429Z",
     "iopub.status.busy": "2024-02-13T17:47:39.460111Z",
     "iopub.status.idle": "2024-02-13T17:47:48.481366Z",
     "shell.execute_reply": "2024-02-13T17:47:48.477617Z",
     "shell.execute_reply.started": "2024-02-13T17:47:39.460415Z"
    }
   },
   "outputs": [],
   "source": [
    "doc = nlp(paragraph)"
   ]
  },
  {
   "cell_type": "code",
   "execution_count": 8,
   "id": "7e64ebaa-5203-4876-8c5e-3bbb8c0538cb",
   "metadata": {
    "execution": {
     "iopub.execute_input": "2024-02-13T17:47:48.483680Z",
     "iopub.status.busy": "2024-02-13T17:47:48.483413Z",
     "iopub.status.idle": "2024-02-13T17:47:48.494565Z",
     "shell.execute_reply": "2024-02-13T17:47:48.494199Z",
     "shell.execute_reply.started": "2024-02-13T17:47:48.483657Z"
    }
   },
   "outputs": [
    {
     "data": {
      "text/html": [
       "<span class=\"tex2jax_ignore\"><div class=\"entities\" style=\"line-height: 2.5; direction: ltr\">Guardians of the Galaxy Vol. 3 (stylized in marketing as Guardians of the Galaxy Volume 3) is a 2023 American superhero film based on the Marvel Comics superhero team Guardians of the Galaxy, produced by \n",
       "<mark class=\"entity\" style=\"background: #ddd; padding: 0.45em 0.6em; margin: 0 0.25em; line-height: 1; border-radius: 0.35em;\">\n",
       "    Marvel Studios\n",
       "    <span style=\"font-size: 0.8em; font-weight: bold; line-height: 1; border-radius: 0.35em; vertical-align: middle; margin-left: 0.5rem\">Organisation</span>\n",
       "</mark>\n",
       ", and distributed by \n",
       "<mark class=\"entity\" style=\"background: #ddd; padding: 0.45em 0.6em; margin: 0 0.25em; line-height: 1; border-radius: 0.35em;\">\n",
       "    Walt Disney Studios Motion Pictures\n",
       "    <span style=\"font-size: 0.8em; font-weight: bold; line-height: 1; border-radius: 0.35em; vertical-align: middle; margin-left: 0.5rem\">Organisation</span>\n",
       "</mark>\n",
       ". It is the sequel to Guardians of the Galaxy (2014) and Guardians of the Galaxy Vol. 2 (2017), and the 32nd film in the \n",
       "<mark class=\"entity\" style=\"background: #ddd; padding: 0.45em 0.6em; margin: 0 0.25em; line-height: 1; border-radius: 0.35em;\">\n",
       "    Marvel Cinematic Universe (MCU)\n",
       "    <span style=\"font-size: 0.8em; font-weight: bold; line-height: 1; border-radius: 0.35em; vertical-align: middle; margin-left: 0.5rem\">Organisation</span>\n",
       "</mark>\n",
       ". Written and directed by \n",
       "<mark class=\"entity\" style=\"background: #aa9cfc; padding: 0.45em 0.6em; margin: 0 0.25em; line-height: 1; border-radius: 0.35em;\">\n",
       "    James Gunn\n",
       "    <span style=\"font-size: 0.8em; font-weight: bold; line-height: 1; border-radius: 0.35em; vertical-align: middle; margin-left: 0.5rem\">Person</span>\n",
       "</mark>\n",
       ", it features an ensemble cast including \n",
       "<mark class=\"entity\" style=\"background: #aa9cfc; padding: 0.45em 0.6em; margin: 0 0.25em; line-height: 1; border-radius: 0.35em;\">\n",
       "    Chris Pratt\n",
       "    <span style=\"font-size: 0.8em; font-weight: bold; line-height: 1; border-radius: 0.35em; vertical-align: middle; margin-left: 0.5rem\">Person</span>\n",
       "</mark>\n",
       ", \n",
       "<mark class=\"entity\" style=\"background: #aa9cfc; padding: 0.45em 0.6em; margin: 0 0.25em; line-height: 1; border-radius: 0.35em;\">\n",
       "    Zoe Saldaña\n",
       "    <span style=\"font-size: 0.8em; font-weight: bold; line-height: 1; border-radius: 0.35em; vertical-align: middle; margin-left: 0.5rem\">Person</span>\n",
       "</mark>\n",
       ", \n",
       "<mark class=\"entity\" style=\"background: #aa9cfc; padding: 0.45em 0.6em; margin: 0 0.25em; line-height: 1; border-radius: 0.35em;\">\n",
       "    Dave Bautista\n",
       "    <span style=\"font-size: 0.8em; font-weight: bold; line-height: 1; border-radius: 0.35em; vertical-align: middle; margin-left: 0.5rem\">Person</span>\n",
       "</mark>\n",
       ", \n",
       "<mark class=\"entity\" style=\"background: #aa9cfc; padding: 0.45em 0.6em; margin: 0 0.25em; line-height: 1; border-radius: 0.35em;\">\n",
       "    Karen Gillan\n",
       "    <span style=\"font-size: 0.8em; font-weight: bold; line-height: 1; border-radius: 0.35em; vertical-align: middle; margin-left: 0.5rem\">Person</span>\n",
       "</mark>\n",
       ", \n",
       "<mark class=\"entity\" style=\"background: #aa9cfc; padding: 0.45em 0.6em; margin: 0 0.25em; line-height: 1; border-radius: 0.35em;\">\n",
       "    Pom Klementieff\n",
       "    <span style=\"font-size: 0.8em; font-weight: bold; line-height: 1; border-radius: 0.35em; vertical-align: middle; margin-left: 0.5rem\">Person</span>\n",
       "</mark>\n",
       ", \n",
       "<mark class=\"entity\" style=\"background: #aa9cfc; padding: 0.45em 0.6em; margin: 0 0.25em; line-height: 1; border-radius: 0.35em;\">\n",
       "    Vin Diesel\n",
       "    <span style=\"font-size: 0.8em; font-weight: bold; line-height: 1; border-radius: 0.35em; vertical-align: middle; margin-left: 0.5rem\">Person</span>\n",
       "</mark>\n",
       ", \n",
       "<mark class=\"entity\" style=\"background: #aa9cfc; padding: 0.45em 0.6em; margin: 0 0.25em; line-height: 1; border-radius: 0.35em;\">\n",
       "    Bradley Cooper\n",
       "    <span style=\"font-size: 0.8em; font-weight: bold; line-height: 1; border-radius: 0.35em; vertical-align: middle; margin-left: 0.5rem\">Person</span>\n",
       "</mark>\n",
       ", \n",
       "<mark class=\"entity\" style=\"background: #aa9cfc; padding: 0.45em 0.6em; margin: 0 0.25em; line-height: 1; border-radius: 0.35em;\">\n",
       "    Will Poulter\n",
       "    <span style=\"font-size: 0.8em; font-weight: bold; line-height: 1; border-radius: 0.35em; vertical-align: middle; margin-left: 0.5rem\">Person</span>\n",
       "</mark>\n",
       ", \n",
       "<mark class=\"entity\" style=\"background: #aa9cfc; padding: 0.45em 0.6em; margin: 0 0.25em; line-height: 1; border-radius: 0.35em;\">\n",
       "    Sean Gunn\n",
       "    <span style=\"font-size: 0.8em; font-weight: bold; line-height: 1; border-radius: 0.35em; vertical-align: middle; margin-left: 0.5rem\">Person</span>\n",
       "</mark>\n",
       ", \n",
       "<mark class=\"entity\" style=\"background: #aa9cfc; padding: 0.45em 0.6em; margin: 0 0.25em; line-height: 1; border-radius: 0.35em;\">\n",
       "    Chukwudi Iwuji\n",
       "    <span style=\"font-size: 0.8em; font-weight: bold; line-height: 1; border-radius: 0.35em; vertical-align: middle; margin-left: 0.5rem\">Person</span>\n",
       "</mark>\n",
       ", \n",
       "<mark class=\"entity\" style=\"background: #aa9cfc; padding: 0.45em 0.6em; margin: 0 0.25em; line-height: 1; border-radius: 0.35em;\">\n",
       "    Linda Cardellini\n",
       "    <span style=\"font-size: 0.8em; font-weight: bold; line-height: 1; border-radius: 0.35em; vertical-align: middle; margin-left: 0.5rem\">Person</span>\n",
       "</mark>\n",
       ", \n",
       "<mark class=\"entity\" style=\"background: #aa9cfc; padding: 0.45em 0.6em; margin: 0 0.25em; line-height: 1; border-radius: 0.35em;\">\n",
       "    Nathan Fillion\n",
       "    <span style=\"font-size: 0.8em; font-weight: bold; line-height: 1; border-radius: 0.35em; vertical-align: middle; margin-left: 0.5rem\">Person</span>\n",
       "</mark>\n",
       ", and \n",
       "<mark class=\"entity\" style=\"background: #aa9cfc; padding: 0.45em 0.6em; margin: 0 0.25em; line-height: 1; border-radius: 0.35em;\">\n",
       "    Sylvester Stallone\n",
       "    <span style=\"font-size: 0.8em; font-weight: bold; line-height: 1; border-radius: 0.35em; vertical-align: middle; margin-left: 0.5rem\">Person</span>\n",
       "</mark>\n",
       ". In the film, the Guardians must save Rocket's (Cooper) life from the High Evolutionary (Iwuji).<br>Gunn stated in November 2014 that he had initial ideas for a third and final film in the series, and announced his return to write and direct in April 2017. Disney fired him from the film in July 2018 following the resurfacing of controversial posts on Twitter, but the studio reversed course by that October and reinstated him. Gunn's return was publicly revealed in March 2019, with production resuming after he completed work for DC on The Suicide Squad (2021) and the first season of its spin-off series Peacemaker (2022). Filming began in November 2021 at \n",
       "<mark class=\"entity\" style=\"background: #ddd; padding: 0.45em 0.6em; margin: 0 0.25em; line-height: 1; border-radius: 0.35em;\">\n",
       "    Trilith Studios\n",
       "    <span style=\"font-size: 0.8em; font-weight: bold; line-height: 1; border-radius: 0.35em; vertical-align: middle; margin-left: 0.5rem\">Organisation</span>\n",
       "</mark>\n",
       " in Atlanta, Georgia, and lasted until May 2022.<br>Guardians of the Galaxy Vol. 3 premiered at Disneyland Paris on April 22, 2023, and was released in the United States on May 5, as part of Phase Five of the MCU. Like its predecessors, it was a critical and commercial success, with many deeming it to be a satisfactory conclusion to the trilogy. It grossed over $848.6 million worldwide, becoming the fourth-highest-grossing film of 2023. At the 96th Academy Awards, the film was nominated for Best Visual Effects.</div></span>"
      ],
      "text/plain": [
       "<IPython.core.display.HTML object>"
      ]
     },
     "metadata": {},
     "output_type": "display_data"
    }
   ],
   "source": [
    "spacy.displacy.render(\n",
    "    doc,\n",
    "    style = \"ent\",\n",
    "    jupyter = True,\n",
    ")"
   ]
  },
  {
   "cell_type": "markdown",
   "id": "d9139083-861b-42c2-932d-957faa4dd231",
   "metadata": {},
   "source": [
    "## Inference"
   ]
  },
  {
   "cell_type": "code",
   "execution_count": 9,
   "id": "a6f03b8d-c7fe-45bb-9977-7108324db49e",
   "metadata": {
    "execution": {
     "iopub.execute_input": "2024-02-13T17:47:57.816041Z",
     "iopub.status.busy": "2024-02-13T17:47:57.815685Z",
     "iopub.status.idle": "2024-02-13T17:47:57.823951Z",
     "shell.execute_reply": "2024-02-13T17:47:57.822572Z",
     "shell.execute_reply.started": "2024-02-13T17:47:57.816005Z"
    }
   },
   "outputs": [],
   "source": [
    "def tokenizer(doc):\n",
    "  return [token.text for token in doc]"
   ]
  },
  {
   "cell_type": "code",
   "execution_count": 10,
   "id": "fecd4741-d809-40d3-bbba-4e6276db7d0c",
   "metadata": {
    "execution": {
     "iopub.execute_input": "2024-02-13T17:48:07.406650Z",
     "iopub.status.busy": "2024-02-13T17:48:07.405470Z",
     "iopub.status.idle": "2024-02-13T17:50:38.094190Z",
     "shell.execute_reply": "2024-02-13T17:50:38.093231Z",
     "shell.execute_reply.started": "2024-02-13T17:48:07.406613Z"
    }
   },
   "outputs": [],
   "source": [
    "records = [\n",
    "    rg.TokenClassificationRecord(\n",
    "        text=doc.text,\n",
    "        tokens=tokenizer(doc),\n",
    "        prediction=[(ent.label_, ent.start_char, ent.end_char) for ent in doc.ents],\n",
    "        prediction_agent=\"ollama-mistral\"\n",
    "    ) for doc in [nlp(item) for item in dataset_hf[:100][\"text\"]]\n",
    "]"
   ]
  },
  {
   "cell_type": "code",
   "execution_count": 11,
   "id": "cafaa62b-2f31-4f15-a8d2-25923bd178c6",
   "metadata": {
    "execution": {
     "iopub.execute_input": "2024-02-13T17:52:44.433923Z",
     "iopub.status.busy": "2024-02-13T17:52:44.431577Z",
     "iopub.status.idle": "2024-02-13T17:52:44.443797Z",
     "shell.execute_reply": "2024-02-13T17:52:44.443226Z",
     "shell.execute_reply.started": "2024-02-13T17:52:44.433848Z"
    }
   },
   "outputs": [],
   "source": [
    "dataset = rg.DatasetForTokenClassification(records)"
   ]
  },
  {
   "cell_type": "code",
   "execution_count": 12,
   "id": "8e821765-c2ce-4a79-8dfd-6a3855d1c126",
   "metadata": {
    "execution": {
     "iopub.execute_input": "2024-02-13T17:52:46.333419Z",
     "iopub.status.busy": "2024-02-13T17:52:46.332325Z",
     "iopub.status.idle": "2024-02-13T17:52:47.769131Z",
     "shell.execute_reply": "2024-02-13T17:52:47.766839Z",
     "shell.execute_reply.started": "2024-02-13T17:52:46.333382Z"
    }
   },
   "outputs": [
    {
     "data": {
      "text/html": [
       "<pre style=\"white-space:pre;overflow-x:auto;line-height:normal;font-family:Menlo,'DejaVu Sans Mono',consolas,'Courier New',monospace\">/Users/louis.guitton/workspace/mlops-talk-llm-kg/venv/lib/python3.11/site-packages/rich/live.py:231: UserWarning: \n",
       "install \"ipywidgets\" for Jupyter support\n",
       "  warnings.warn('install \"ipywidgets\" for Jupyter support')\n",
       "</pre>\n"
      ],
      "text/plain": [
       "/Users/louis.guitton/workspace/mlops-talk-llm-kg/venv/lib/python3.11/site-packages/rich/live.py:231: UserWarning: \n",
       "install \"ipywidgets\" for Jupyter support\n",
       "  warnings.warn('install \"ipywidgets\" for Jupyter support')\n"
      ]
     },
     "metadata": {},
     "output_type": "display_data"
    },
    {
     "data": {
      "text/html": [
       "<pre style=\"white-space:pre;overflow-x:auto;line-height:normal;font-family:Menlo,'DejaVu Sans Mono',consolas,'Courier New',monospace\"></pre>\n"
      ],
      "text/plain": []
     },
     "metadata": {},
     "output_type": "display_data"
    },
    {
     "data": {
      "text/html": [
       "<pre style=\"white-space:pre;overflow-x:auto;line-height:normal;font-family:Menlo,'DejaVu Sans Mono',consolas,'Courier New',monospace\">\n",
       "</pre>\n"
      ],
      "text/plain": [
       "\n"
      ]
     },
     "metadata": {},
     "output_type": "display_data"
    },
    {
     "data": {
      "text/html": [
       "<pre style=\"white-space:pre;overflow-x:auto;line-height:normal;font-family:Menlo,'DejaVu Sans Mono',consolas,'Courier New',monospace\"><span style=\"color: #008080; text-decoration-color: #008080; font-weight: bold\">100</span> records logged to <a href=\"http://localhost:6900/datasets/admin/banking77_ner\" target=\"_blank\"><span style=\"color: #0000ff; text-decoration-color: #0000ff; text-decoration: underline\">http://localhost:6900/datasets/admin/banking77_ner</span></a>\n",
       "</pre>\n"
      ],
      "text/plain": [
       "\u001b[1;36m100\u001b[0m records logged to \u001b]8;id=948950;http://localhost:6900/datasets/admin/banking77_ner\u001b\\\u001b[4;94mhttp://localhost:6900/datasets/admin/banking77_ner\u001b[0m\u001b]8;;\u001b\\\n"
      ]
     },
     "metadata": {},
     "output_type": "display_data"
    },
    {
     "data": {
      "text/plain": [
       "BulkResponse(dataset='banking77_ner', processed=100, failed=0)"
      ]
     },
     "execution_count": 12,
     "metadata": {},
     "output_type": "execute_result"
    }
   ],
   "source": [
    "rg.log(dataset, \"banking77_ner\", workspace=\"admin\")"
   ]
  },
  {
   "cell_type": "code",
   "execution_count": null,
   "id": "ee903935-91fa-410e-a602-cf11fab85d31",
   "metadata": {},
   "outputs": [],
   "source": [
    "# add NER annotations\n",
    "# validate predictions\n",
    "# return dataset"
   ]
  },
  {
   "cell_type": "code",
   "execution_count": null,
   "id": "c7cbec85-4014-48aa-8365-c19c1c8f13fe",
   "metadata": {},
   "outputs": [],
   "source": []
  }
 ],
 "metadata": {
  "kernelspec": {
   "display_name": "Python 3 (ipykernel)",
   "language": "python",
   "name": "python3"
  },
  "language_info": {
   "codemirror_mode": {
    "name": "ipython",
    "version": 3
   },
   "file_extension": ".py",
   "mimetype": "text/x-python",
   "name": "python",
   "nbconvert_exporter": "python",
   "pygments_lexer": "ipython3",
   "version": "3.11.4"
  }
 },
 "nbformat": 4,
 "nbformat_minor": 5
}
