{
 "cells": [
  {
   "cell_type": "code",
   "execution_count": 1,
   "id": "5f04381e-896a-4ee4-913d-07b23e5ee1b5",
   "metadata": {},
   "outputs": [],
   "source": [
    "import logging\n",
    "import sys\n",
    "\n",
    "logging.basicConfig(\n",
    "    stream=sys.stdout, level=logging.INFO\n",
    ")"
   ]
  },
  {
   "cell_type": "markdown",
   "id": "bac12660-412e-44d8-aafe-b83a1f0f5eab",
   "metadata": {},
   "source": [
    "## 1. Preparation\n",
    "### 1.1 Prepare LLM"
   ]
  },
  {
   "cell_type": "code",
   "execution_count": 2,
   "id": "60720ddb-2a55-4b97-a0de-e15be24a57b5",
   "metadata": {},
   "outputs": [],
   "source": [
    "from llama_index.llms import Ollama\n",
    "\n",
    "OLLAMA_HOST = 'localhost'\n",
    "OLLAMA_MODEL = 'mistral'\n",
    "llm = Ollama(model=OLLAMA_MODEL, base_url=\"http://\"+OLLAMA_HOST+\":11434\")"
   ]
  },
  {
   "cell_type": "code",
   "execution_count": 3,
   "id": "01bb1371-01bf-40cb-b56a-58bc219ba532",
   "metadata": {},
   "outputs": [
    {
     "name": "stderr",
     "output_type": "stream",
     "text": [
      "/Users/louis.guitton/workspace/mlops-talk-llm-kg/venv/lib/python3.9/site-packages/tqdm/auto.py:21: TqdmWarning: IProgress not found. Please update jupyter and ipywidgets. See https://ipywidgets.readthedocs.io/en/stable/user_install.html\n",
      "  from .autonotebook import tqdm as notebook_tqdm\n"
     ]
    }
   ],
   "source": [
    "from llama_index import ServiceContext\n",
    "service_context = ServiceContext.from_defaults(\n",
    "    llm=llm, \n",
    "    embed_model=\"local\",\n",
    "    # chunk_size=512\n",
    ")"
   ]
  },
  {
   "cell_type": "markdown",
   "id": "d285d07a-8d12-4dee-b3cf-4fd1e1a863b5",
   "metadata": {},
   "source": [
    "### 1.2 Prepare Graph Store"
   ]
  },
  {
   "cell_type": "code",
   "execution_count": 4,
   "id": "c7a2128b-9575-4a2b-bc0d-bfcdcde5a0e1",
   "metadata": {},
   "outputs": [],
   "source": [
    "from llama_index.graph_stores import SimpleGraphStore\n",
    "\n",
    "graph_store = SimpleGraphStore()"
   ]
  },
  {
   "cell_type": "code",
   "execution_count": 5,
   "id": "751a5075-72d7-4fbd-99af-3ca75de8dcc6",
   "metadata": {},
   "outputs": [],
   "source": [
    "from llama_index.storage.storage_context import StorageContext\n",
    "\n",
    "storage_context = StorageContext.from_defaults(graph_store=graph_store)"
   ]
  },
  {
   "cell_type": "markdown",
   "id": "e50bd077-5864-4fb7-8a25-793e9eaa69fd",
   "metadata": {},
   "source": [
    "## 2. Build the Knowledge Graph\n",
    "### 2.1 Preprocess Data"
   ]
  },
  {
   "cell_type": "code",
   "execution_count": 6,
   "id": "70a8e7d3-349b-4f37-8bcb-2ecebb819833",
   "metadata": {},
   "outputs": [],
   "source": [
    "from llama_index import download_loader\n",
    "\n",
    "WikipediaReader = download_loader(\"WikipediaReader\")\n",
    "\n",
    "loader = WikipediaReader()\n",
    "\n",
    "documents = loader.load_data(pages=['Guardians of the Galaxy Vol. 3'], auto_suggest=False)"
   ]
  },
  {
   "cell_type": "markdown",
   "id": "f50fcf49-16f5-47b5-a2a3-561fd25211ff",
   "metadata": {},
   "source": [
    "### 2.2 Extract Triplets and Save to Graph"
   ]
  },
  {
   "cell_type": "code",
   "execution_count": 8,
   "id": "cfd75ae9-d71a-4a6e-be19-ba38cbf9a6ae",
   "metadata": {
    "scrolled": true
   },
   "outputs": [
    {
     "name": "stdout",
     "output_type": "stream",
     "text": [
      " (Guardians of the Galaxy Vol. 3, is a 2023 American superhero film)\n",
      "(Guardians of the Galaxy Vol. 3, produced by Marvel Studios)\n",
      "(Guardians of the Galaxy Vol. 3, distributed by Walt Disney Studios Motion Pictures)\n",
      "(Guardians of the Galaxy Vol. 3, based on the Marvel Comics superhero team Guardians of the Galaxy)\n",
      "(Guardians of the Galaxy Vol. 3, written and directed by James Gunn)\n",
      "(Guardians of the Galaxy Vol. 3, features an ensemble cast including Chris Pratt)\n",
      "(Guardians of the Galaxy Vol. 3, filming began in November 2021 at Trilith Studios)\n",
      "(Guardians of the Galaxy Vol. 3, premiered at Disneyland Paris on April 22, 2023)\n",
      "(Guardians of the Galaxy Vol. 3, released in the United States on May 5, 2023)\n",
      "(Guardians of the Galaxy Vol. 3, grossed over $845 million worldwide)\n",
      "(Guardians of the Galaxy Vol. 3, nominated for Best Visual Effects at the 96th Academy Awards)\n",
      " 1. (High Evolutionary, is leader of, Orgocorp)\n",
      "2. (Rocket, was experimented on by, High Evolutionary)\n",
      "3. (Orgocorp, created society called, Counter-Earth)\n",
      "4. (High Evolutionary, sought to enhance and anthropomorphize animal lifeforms, Humanimals)\n",
      "5. (Rocket, befriended test subjects Lylla, Teefs, and Floor)\n",
      "6. (High Evolutionary, planned to harvest Rocket's brain)\n",
      "7. (High Evolutionary, killed Lylla)\n",
      "8. (Rocket, mauled High Evolutionary)\n",
      "9. (Orgocorp, headquarters on, Counter-Earth)\n",
      "10. (Guardians of the Galaxy, travel to Orgocorp's headquarters)\n",
      "11. (Theel, likely culprit of removing code from Guardians' file)\n",
      "12. (Ayesha, follows Guardians to Counter-Earth)\n",
      "13. (High Evolutionary, threatens to wipe out the Sovereign)\n",
      "14. (High Evolutionary, bombs Counter-Earth, killing Humanimals)\n",
      "15. (Drax, tricks Mantis into pursuing Quill's group)\n",
      "16. (Quill, groups uses code to disable Rocket's kill switch)\n",
      "17. (Rocket, has near-death experience)\n",
      "18. (High Evolutionary, next batch of test subjects, genetically modified humanoid children)\n",
      "19. (Guardians, rescue children from Arête)\n",
      "20. (Quill, decides to leave the Guardians)\n",
      "21. (Rocket, named new captain of the Guardians)\n",
      " (Chris Pratt, plays character of, Peter Quill / Star-Lord)\n",
      "(Zoe Saldaña, portrays character, Gamora)\n",
      "(Dave Bautista, acts as character, Drax the Destroyer)\n",
      "(Karen Gillan, depicts character, Nebula)\n",
      "(Pom Klementieff, plays role of, Mantis)\n",
      "(Vin Diesel, provides motion-capture for, Groot)\n",
      "(Bradley Cooper, voices character, Rocket)\n",
      "(Will Poulter, portrays character, Adam Warlock)\n",
      "(Sean Gunn, performs as character, Kraglin)\n",
      "\n",
      "Triplets:\n",
      "(Chris Pratt, plays character of, Peter Quill / Star-Lord) is a leader of (Guardians of the Galaxy)\n",
      "(Zoe Saldaña, portrays character, Gamora) was trained by (Thanos) to be his personal assassin.\n",
      " (Will Poulter, is, a powerful artificial being created by the Sovereign to destroy the Guardians)\n",
      "(Chukwudi Iwuji, is, an alien cyborg scientist and CEO of OrgoCorp specializing in creating hybrid creatures and Rocket's creator)\n",
      "\n",
      "(Will Poulter, is newly born from the Sovereign's cocoon)\n",
      "(Chukwudi Iwuji, seeks to forcibly enhance all living beings into a \"special race\")\n",
      "\n",
      "(Sean Gunn, is, a member of the Guardians and Yondu Udonta's former second-in-command in the Ravagers)\n",
      "(Linda Cardellini, is, an anthropomorphic otter who is an associate and friend of Rocket)\n",
      "\n",
      "(Elizabeth Debicki, is, the golden High Priestess and the leader of the Sovereign people who had Adam Warlock created to destroy the Guardians)\n",
      "(Michael Rosenbaum, is, a high-ranking Ravager)\n",
      "\n",
      "(Nathan Fillion, is, an orgosentry at Orgocorp)\n",
      "(Sylvester Stallone, is, a high-ranking Ravager)\n",
      "\n",
      "(Chukwudi Iwuji, is credited as creating the Animen, the Humanimals, the Hell Spawn, the Sovereign, the Xeronians, and the Star Children)\n",
      "\n",
      "(Tara Strong, voices Mainframe who was previously voiced by Miley Cyrus in Vol. 2)\n",
      " (Maria Bakalova, reprises role as, Cosmo)\n",
      "(Cosmo, developed psionic abilities after being abandoned in outer space by, Soviet Union)\n",
      " (James Gunn, wrote and directed, Guardians of the Galaxy Vol. 3)\n",
      "(Guardians of the Galaxy Vol. 3, set after, Avengers: Infinity War and Avengers: Endgame)\n",
      "\n",
      "(James Gunn, planned to work with Marvel on, future of the \"Marvel Cosmic Universe\")\n",
      "(Guardians of the Galaxy Vol. 3, intended to have, Elizabeth Debicki reprise her role as Ayesha)\n",
      " (James Gunn, severed ties with, Disney and Marvel)\n",
      "(James Gunn, called for firing by, conservative commentators)\n",
      "(Alan F. Horn, stated, \"The offensive attitudes and statements discovered on James' Twitter feed are indefensible\")\n",
      "(Bob Iger, supported the \"unanimous decision\" from various executives)\n",
      "(James Gunn, felt he has developed as a person)\n",
      "(James Gunn, tried to root his work in love and connection)\n",
      "(Disney, not planning to rehire James Gunn)\n",
      "(Marvel, keeping Gunn's script for Guardians of the Galaxy Volume 3)\n",
      "(Bautista, fulfilled contract to appear in Guardians of the Galaxy Volume 3)\n",
      "(Gunn, expected to be paid $7–10 million or more)\n",
      "(Warner Bros., interested in hiring James Gunn for DC Extended Universe)\n",
      "(Marvel Studios, began \"back channel conversations\" with Disney)\n",
      "(Gunn, met with Horn for a second chance)\n",
      " (Gunn, was expected to be paid, $7–10 million or more)\n",
      "(Gunn, met with Horn following a push from his talent agency)\n",
      "(Marvel Studios, began \"back channel conversations\" with Disney)\n",
      "(Bautista, was unsure if he would return for the film)\n",
      "(Disney, intended on making the film with James's script)\n",
      "(Cooper, asked if he would consider directing Vol. 3)\n",
      "(Gunn, set to write and potentially direct The Suicide Squad)\n",
      " (James Gunn, was notified by Horn to return as director for Vol. 3 in mid-October 2018)\n",
      "(Horn, notified James Gunn to return as director for Vol. 3)\n",
      "\n",
      "(Marvel Studios, had never met with or considered any other director for Vol. 3)\n",
      "(Vol. 3, never met with or considered any other director by Marvel Studios)\n",
      " (Marvel Studios, announced release date for, May 5, 2023)\n",
      "(Gunn, began storyboarding Vol. 3, June 2021)\n",
      "(Gillan, found script for Vol. 3, incredible and emotional, September 2021)\n",
      "(Gunn, had planned to feature Thor in Vol. 3 until \"editing\", May 2021)\n",
      "(Poulter, auditioned for Adam Warlock over Zoom, August 2021)\n",
      "(Marvel Studios, met with actors for Adam Warlock role, August 2021)\n",
      "(Gunn, cast Poulter as Adam Warlock due to dramatic and comedic abilities, October 2021)\n",
      " (James Gunn, served as cinematographer for, Vol. 3 of Guardians of the Galaxy)\n",
      "(Vol. 3 of Guardians of the Galaxy, filmed using practical effects)\n",
      "(Callie Brand, appears in, Vol. 3 of Guardians of the Galaxy)\n",
      "(Henry Braham, served as cinematographer for, Vol. 2 and Vol. 3 of Guardians of the Galaxy)\n",
      "(Vol. 3 of Guardians of the Galaxy, filmed at Trilith Studios in Atlanta, Georgia)\n",
      "(Judianna Makovsky, serves as costume designer for, Vol. 3 of Guardians of the Galaxy and The Guardians of the Galaxy Holiday Special)\n",
      " (Gunn, felt music for, Guardians of the Galaxy Vol. 3)\n",
      "(Awesome Mix Vol. 3, revealed to be available on, Spotify and Apple Music)\n",
      "\n",
      "(John Murphy, composes score for, Guardians of the Galaxy Vol. 3)\n",
      "(Tyler Bates, previously composed score for, Guardians of the Galaxy and Guardians of the Galaxy Vol. 2)\n",
      " (Guardians of the Galaxy Vol. 3, had early screening at, Dongdaemun Design Plaza)\n",
      "(Guardians of the Galaxy Vol. 3, premiered at, Disneyland Paris)\n",
      "(Guardians of the Galaxy Vol. 3, North American premiere held at, Dolby Theatre)\n",
      "(Guardians of the Galaxy Vol. 3, released in several countries including, United Kingdom)\n",
      "(Guardians of the Galaxy Vol. 3, part of, Phase Five of the MCU)\n",
      "(Guardians of the Galaxy Vol. 3, released in formats including, 3D, IMAX, Dolby Cinema, 4DX, and ScreenX)\n",
      "(Disney, released Guardians of the Galaxy Vol. 3 on digital download on, July 7, 2023)\n",
      "(Walt Disney Studios Home Entertainment, decided to discontinue selling their films on physical home media in Australia)\n",
      " (Guardians of the Galaxy Vol. 3, was released by, Walt Disney Studios Home Entertainment)\n",
      "(Walt Disney Studios Home Entertainment, decided to discontinue selling their films on physical home media, in Australia)\n",
      "(Guardians of the Galaxy Vol. 3, grossed, $845.6 million)\n",
      "(Guardians of the Galaxy Vol. 3, made, $118.4 million, in its opening weekend in the US and Canada)\n",
      "(Guardians of the Galaxy Vol. 3, retained the top spot at the box office with, $62 million, in its second weekend)\n",
      "(China, highest grossing territory for Guardians of the Galaxy Vol. 3, with, $77.4 million)\n",
      " (Marvel Studios: Assembled, is a documentary series)\n",
      "(The Making of Guardians of the Galaxy Vol. 3, is an episode of Marvel Studios: Assembled)\n",
      "(The Making of Guardians of the Galaxy Vol. 3, was released on Disney+ on September 13, 2023)\n",
      " (Marvel Studios: Assembled, is about, Guardians of the Galaxy Vol. 3)\n",
      "(Gunn, intended for Vol. 3 to be, his last Guardians film)\n"
     ]
    }
   ],
   "source": [
    "from llama_index import KnowledgeGraphIndex\n",
    "\n",
    "index = KnowledgeGraphIndex.from_documents(\n",
    "    documents,\n",
    "    storage_context=storage_context,\n",
    "    service_context=service_context,\n",
    "    max_triplets_per_chunk=2,\n",
    "    include_embeddings=True,\n",
    ")"
   ]
  },
  {
   "cell_type": "markdown",
   "id": "88bfdbb8-2dcc-4f1d-9e14-1d39c2d75b41",
   "metadata": {},
   "source": [
    "## 3. Create VectorStoreIndex for RAG\n"
   ]
  },
  {
   "cell_type": "code",
   "execution_count": 10,
   "id": "3e2b50f8-1542-469a-a0c7-6ed2d89c28a0",
   "metadata": {},
   "outputs": [],
   "source": [
    "from llama_index import VectorStoreIndex\n",
    "\n",
    "vector_index = VectorStoreIndex.from_documents(\n",
    "    documents,\n",
    "    service_context=service_context\n",
    ")"
   ]
  },
  {
   "cell_type": "markdown",
   "id": "f704f1a8-19e6-4da5-8721-81ec48f43377",
   "metadata": {},
   "source": [
    "## 4. (Optional) Persist and Load from disk Llama Indexes\n",
    "### 4.1. Persist"
   ]
  },
  {
   "cell_type": "code",
   "execution_count": 12,
   "id": "c0de30a7-b270-4bb5-8659-7448ab0f0bc8",
   "metadata": {},
   "outputs": [],
   "source": [
    "index.storage_context.persist(persist_dir='../data/storage_graph')"
   ]
  },
  {
   "cell_type": "code",
   "execution_count": 13,
   "id": "74eb0763-1496-470c-ba5e-aca2c866e980",
   "metadata": {},
   "outputs": [],
   "source": [
    "vector_index.storage_context.persist(persist_dir='../data/storage_vector')"
   ]
  },
  {
   "cell_type": "markdown",
   "id": "1c7f1d36-f3d0-4fbb-8a85-0430daf7b120",
   "metadata": {},
   "source": [
    "### 4.2. Restore"
   ]
  },
  {
   "cell_type": "code",
   "execution_count": 14,
   "id": "173f7de7-435a-4092-9f21-01314aaa88d0",
   "metadata": {},
   "outputs": [
    {
     "name": "stdout",
     "output_type": "stream",
     "text": [
      "INFO:llama_index.indices.loading:Loading all indices.\n",
      "INFO:llama_index.indices.loading:Loading all indices.\n"
     ]
    }
   ],
   "source": [
    "from llama_index import load_index_from_storage\n",
    "\n",
    "storage_context = StorageContext.from_defaults(persist_dir='../data/storage_graph', graph_store=graph_store)\n",
    "kg_index = load_index_from_storage(\n",
    "    storage_context=storage_context,\n",
    "    service_context=service_context,\n",
    "    max_triplets_per_chunk=10,\n",
    "    include_embeddings=True,\n",
    ")\n",
    "\n",
    "storage_context_vector = StorageContext.from_defaults(persist_dir='../data/storage_vector')\n",
    "vector_index = load_index_from_storage(\n",
    "    service_context=service_context,\n",
    "    storage_context=storage_context_vector\n",
    ")"
   ]
  },
  {
   "cell_type": "markdown",
   "id": "99a23fd7-8795-4bc0-8eb2-92ceddd94dd9",
   "metadata": {},
   "source": [
    "## 5. Prepare for different query approaches"
   ]
  },
  {
   "cell_type": "markdown",
   "id": "e4a13261-1337-4b40-b120-a71bdc457142",
   "metadata": {},
   "source": [
    "### 5.1 Graph RAG query engine"
   ]
  },
  {
   "cell_type": "code",
   "execution_count": 16,
   "id": "2c571e35-9542-4941-b75f-1f56e9b4aca4",
   "metadata": {},
   "outputs": [],
   "source": [
    "kg_rag_query_engine = kg_index.as_query_engine(\n",
    "    include_text=False,\n",
    "    retriever_mode=\"keyword\",\n",
    "    response_mode=\"tree_summarize\",\n",
    ")"
   ]
  },
  {
   "cell_type": "markdown",
   "id": "34c2b148-5f7d-4230-8050-d1dbbf45e834",
   "metadata": {},
   "source": [
    "### 5.2. Vector RAG query engine"
   ]
  },
  {
   "cell_type": "code",
   "execution_count": 17,
   "id": "d9ef3eae-40b0-4864-a4b4-1226b096f6e3",
   "metadata": {},
   "outputs": [],
   "source": [
    "vector_rag_query_engine = vector_index.as_query_engine()"
   ]
  },
  {
   "cell_type": "markdown",
   "id": "0205e6af-142f-4b69-9eae-b6fad671bb07",
   "metadata": {},
   "source": [
    "### 5.3 Graph+Vector RAG query engine"
   ]
  },
  {
   "cell_type": "code",
   "execution_count": 28,
   "id": "29bb6991-248e-4e8f-b600-20cf0bd1f64e",
   "metadata": {},
   "outputs": [],
   "source": [
    "# import QueryBundle\n",
    "from llama_index import QueryBundle\n",
    "\n",
    "# import NodeWithScore\n",
    "from llama_index.schema import NodeWithScore\n",
    "\n",
    "# Retrievers\n",
    "from llama_index.retrievers import BaseRetriever, VectorIndexRetriever, KGTableRetriever\n",
    "\n",
    "from typing import List\n",
    "\n",
    "\n",
    "class CustomRetriever(BaseRetriever):\n",
    "    \"\"\"Custom retriever that performs both Vector search and Knowledge Graph search\"\"\"\n",
    "\n",
    "    def __init__(\n",
    "        self,\n",
    "        vector_retriever: VectorIndexRetriever,\n",
    "        kg_retriever: KGTableRetriever,\n",
    "        mode: str = \"OR\",\n",
    "    ) -> None:\n",
    "        \"\"\"Init params.\"\"\"\n",
    "\n",
    "        self._vector_retriever = vector_retriever\n",
    "        self._kg_retriever = kg_retriever\n",
    "        if mode not in (\"AND\", \"OR\"):\n",
    "            raise ValueError(\"Invalid mode.\")\n",
    "        self._mode = mode\n",
    "\n",
    "    def _retrieve(self, query_bundle: QueryBundle) -> List[NodeWithScore]:\n",
    "        \"\"\"Retrieve nodes given query.\"\"\"\n",
    "\n",
    "        vector_nodes = self._vector_retriever.retrieve(query_bundle)\n",
    "        kg_nodes = self._kg_retriever.retrieve(query_bundle)\n",
    "\n",
    "        vector_ids = {n.node.node_id for n in vector_nodes}\n",
    "        kg_ids = {n.node.node_id for n in kg_nodes}\n",
    "\n",
    "        combined_dict = {n.node.node_id: n for n in vector_nodes}\n",
    "        combined_dict.update({n.node.node_id: n for n in kg_nodes})\n",
    "\n",
    "        if self._mode == \"AND\":\n",
    "            retrieve_ids = vector_ids.intersection(kg_ids)\n",
    "        else:\n",
    "            retrieve_ids = vector_ids.union(kg_ids)\n",
    "\n",
    "        retrieve_nodes = [combined_dict[rid] for rid in retrieve_ids]\n",
    "        return retrieve_nodes"
   ]
  },
  {
   "cell_type": "code",
   "execution_count": 29,
   "id": "ade324fe-e7d8-43fa-905f-73957b878bdc",
   "metadata": {},
   "outputs": [],
   "source": [
    "from llama_index import get_response_synthesizer\n",
    "from llama_index.query_engine import RetrieverQueryEngine\n",
    "\n",
    "# create custom retriever\n",
    "vector_retriever = VectorIndexRetriever(index=vector_index)\n",
    "kg_retriever = KGTableRetriever(\n",
    "    index=kg_index, retriever_mode=\"keyword\", include_text=False\n",
    ")\n",
    "custom_retriever = CustomRetriever(vector_retriever, kg_retriever)\n",
    "\n",
    "# create response synthesizer\n",
    "response_synthesizer = get_response_synthesizer(\n",
    "    service_context=service_context,\n",
    "    response_mode=\"tree_summarize\",\n",
    ")"
   ]
  },
  {
   "cell_type": "code",
   "execution_count": 30,
   "id": "97a816cd-dd35-41e3-9913-374e2c277771",
   "metadata": {},
   "outputs": [],
   "source": [
    "graph_vector_rag_query_engine = RetrieverQueryEngine(\n",
    "    retriever=custom_retriever,\n",
    "    response_synthesizer=response_synthesizer,\n",
    ")"
   ]
  },
  {
   "cell_type": "markdown",
   "id": "a09cce79-aada-41ef-9713-fe6558e72ae1",
   "metadata": {},
   "source": [
    "## 6. Query with the engines"
   ]
  },
  {
   "cell_type": "code",
   "execution_count": 19,
   "id": "1ee7aceb-bd1f-4aed-8116-1a18b2fbf734",
   "metadata": {},
   "outputs": [],
   "source": [
    "from IPython.display import Markdown, display"
   ]
  },
  {
   "cell_type": "code",
   "execution_count": 20,
   "id": "d147e85f-961e-4276-9a5b-305d353acb4e",
   "metadata": {},
   "outputs": [
    {
     "name": "stdout",
     "output_type": "stream",
     "text": [
      "INFO:llama_index.indices.knowledge_graph.retrievers:> No relationships found, returning nodes found by keywords.\n",
      "INFO:llama_index.indices.knowledge_graph.retrievers:> No nodes found by keywords, returning empty response.\n"
     ]
    },
    {
     "data": {
      "text/markdown": [
       "<b> Peter Quill, also known as Star-Lord, is a fictional character appearing in American comic books published by Marvel Comics. He was created by writer Dan Abnett and artist Andy Lanning, and first appeared in \"Annihilators\" #1 in July 2006.\n",
       "\n",
       "Peter Quill is a human from Earth, born in 1982. He was abducted from Earth when he was a young boy and raised among the Ravagers, an intergalactic pirate gang. Quill became a skilled mercenary and thief, using the alias Star-Lord. He gained prominence when he led a team of heroes known as the Guardians of the Galaxy to save the universe from various threats.\n",
       "\n",
       "Quill is known for his advanced weaponry, including the elementally powered Star-Lord gun and the Orb, an ancient relic that contains the power of a Celestial. He also has a sentient spaceship named the Milano, which can fly through space and time.\n",
       "\n",
       "Quill's personality is described as being charming, rebellious, and sarcastic, with a strong sense of loyalty to those he cares about. He has been romantically involved with several characters in the Marvel Universe, including Gamora and Rocket Raccoon.\n",
       "\n",
       "Quill made his cinematic debut in the 2014 film \"Guardians of the Galaxy,\" portrayed by Chris Pratt. The character has since appeared in two sequels and other Marvel Cinematic Universe films.</b>"
      ],
      "text/plain": [
       "<IPython.core.display.Markdown object>"
      ]
     },
     "metadata": {},
     "output_type": "display_data"
    }
   ],
   "source": [
    "response_graph_rag = kg_rag_query_engine.query(\"Tell me about Peter Quill.\")\n",
    "\n",
    "display(Markdown(f\"<b>{response_graph_rag}</b>\"))"
   ]
  },
  {
   "cell_type": "code",
   "execution_count": 21,
   "id": "6d7c9673-c888-4f70-93d1-d82a9d8755cf",
   "metadata": {},
   "outputs": [
    {
     "data": {
      "text/markdown": [
       "<b> Peter Quill, also known as Star-Lord, is a fictional character in the Marvel Cinematic Universe. He is portrayed by Chris Pratt in the films \"Guardians of the Galaxy\" (2014), \"Guardians of the Galaxy Vol. 2\" (2017), and \"Avengers: Infinity War\" and \"Avengers: Endgame\" (both 2018). Peter Quill is a human who was abducted from Earth as a child and grew up among extraterrestrial beings, becoming a space adventurer and eventually joining the titular Guardians of the Galaxy. He is known for his skill in combat and piloting spaceships, as well as his quirky sense of humor and love for classic Earth music. In the movies, he is depicted as a more traditional superhero compared to the Guardians, although not necessarily a hero. James Gunn, who directed the first two \"Guardians\" films, was fired by Disney in July 2018 over old tweets containing controversial remarks about rape and pedophilia, but there were efforts from Marvel and Disney to find a way for him to return to the franchise in some capacity. However, these negotiations ultimately failed and Gunn went on to work on other projects.</b>"
      ],
      "text/plain": [
       "<IPython.core.display.Markdown object>"
      ]
     },
     "metadata": {},
     "output_type": "display_data"
    }
   ],
   "source": [
    "response_vector_rag = vector_rag_query_engine.query(\"Tell me about Peter Quill.\")\n",
    "\n",
    "display(Markdown(f\"<b>{response_vector_rag}</b>\"))"
   ]
  },
  {
   "cell_type": "code",
   "execution_count": 31,
   "id": "3e7e98be-4d5f-4177-86c4-fbb33f98483a",
   "metadata": {},
   "outputs": [
    {
     "name": "stdout",
     "output_type": "stream",
     "text": [
      "INFO:llama_index.indices.knowledge_graph.retrievers:> No relationships found, returning nodes found by keywords.\n",
      "INFO:llama_index.indices.knowledge_graph.retrievers:> No nodes found by keywords, returning empty response.\n"
     ]
    },
    {
     "data": {
      "text/markdown": [
       "<b> Peter Quill, also known as Star-Lord, is the leader of the Guardians of the Galaxy. He was abducted from Earth as a child and raised by a group of alien thieves and smugglers called the Ravagers. In the film \"Guardians of the Galaxy Vol. 3,\" Quill is in a state of depression following the appearance of an alternate version of his deceased lover Gamora, who does not share the same affection for him as her older version did, affecting his leadership of the Guardians. Chris Pratt portrays Peter Quill in the film.</b>"
      ],
      "text/plain": [
       "<IPython.core.display.Markdown object>"
      ]
     },
     "metadata": {},
     "output_type": "display_data"
    }
   ],
   "source": [
    "response_graph_vector_rag = graph_vector_rag_query_engine.query(\"Tell me about Peter Quill.\")\n",
    "\n",
    "display(Markdown(f\"<b>{response_graph_vector_rag}</b>\"))"
   ]
  },
  {
   "cell_type": "markdown",
   "id": "006632bc-b6a7-422e-8b73-17ebbef9b8e1",
   "metadata": {},
   "source": [
    "## 7. Comparison and Conclusion"
   ]
  },
  {
   "cell_type": "code",
   "execution_count": 32,
   "id": "8d7bec1f-224f-44d3-808a-e0bef3879e98",
   "metadata": {},
   "outputs": [],
   "source": [
    "analysis = llm.complete(f\"\"\"\n",
    "Compare the QA results on \"Tell me about Peter Quill.\", list the knowledge facts between them, to help evalute them. Output in markdown table.\n",
    "\n",
    "Result from Graph: {response_graph_rag}\n",
    "---\n",
    "Result from Vector: {response_vector_rag}\n",
    "---\n",
    "Result Graph+Vector: {response_graph_vector_rag}\n",
    "---\n",
    "\n",
    "\"\"\")"
   ]
  },
  {
   "cell_type": "code",
   "execution_count": 33,
   "id": "3e90e7cc-2d1a-4e6b-a7d7-0e96282ae280",
   "metadata": {},
   "outputs": [
    {
     "data": {
      "text/markdown": [
       " | Fact | Graph Result | Vector Result | Both Results |\n",
       "| --- | --- | --- | --- |\n",
       "| Character Name | Peter Quill / Star-Lord | Peter Quill / Star-Lord | Peter Quill / Star-Lord |\n",
       "| Universe | Marvel Comics | Marvel Cinematic Universe | Marvel Universe |\n",
       "| Creation | Created by Dan Abnett and Andy Lanning, first appeared in \"Annihilators\" #1 in July 2006 | Portrayed by Chris Pratt in films since 2014 | Created, first appearance in respective universes |\n",
       "| Species | Human from Earth | Human who was abducted from Earth as a child and grew up among extraterrestrial beings | Human, abducted from Earth as a child, raised among aliens |\n",
       "| Birth Year | Born in 1982 | N/A | Born in 1982 |\n",
       "| Backstory | Raised among the Ravagers, skilled mercenary and thief, leads Guardians of the Galaxy | Skilled in combat and piloting spaceships, quirky sense of humor, love for classic Earth music, depicted as more traditional superhero compared to the Guardians | Raised among the Ravagers, became a space adventurer, joined the Guardians of the Galaxy |\n",
       "| Weaponry | Star-Lord gun, Orb, Milano spaceship | N/A | Advanced weaponry, including Star-Lord gun and Orb, Milano spaceship |\n",
       "| Personality | Charming, rebellious, sarcastic, strong sense of loyalty to those he cares about, romantically involved with Gamora and Rocket Raccoon | Quirky sense of humor, love for classic Earth music, depicted as a more traditional superhero compared to the Guardians | Charming, rebellious, sarcastic, romantic relationships with Gamora and Rocket Raccoon |\n",
       "| Films | N/A | Appeared in \"Guardians of the Galaxy\" (2014), \"Guardians of the Galaxy Vol. 2\" (2017), \"Avengers: Infinity War\" (2018), and \"Avengers: Endgame\" (2018) | N/A, appears in films |\n",
       "| Director | N/A | James Gunn was fired from the franchise over old tweets, but negotiations to return ultimately failed | N/A, no mention of director |\n",
       "| Depiction in \"Vol. 3\" | In a state of depression following Gamora's appearance | N/A | In a state of depression following Gamora's appearance in \"Guardians of the Galaxy Vol. 3\" |"
      ],
      "text/plain": [
       "<IPython.core.display.Markdown object>"
      ]
     },
     "metadata": {},
     "output_type": "display_data"
    }
   ],
   "source": [
    "display(Markdown(analysis.text))"
   ]
  },
  {
   "cell_type": "code",
   "execution_count": null,
   "id": "273b3b68-dee8-4535-a1ef-8d28d67e3e94",
   "metadata": {},
   "outputs": [],
   "source": []
  }
 ],
 "metadata": {
  "kernelspec": {
   "display_name": "Python 3 (ipykernel)",
   "language": "python",
   "name": "python3"
  },
  "language_info": {
   "codemirror_mode": {
    "name": "ipython",
    "version": 3
   },
   "file_extension": ".py",
   "mimetype": "text/x-python",
   "name": "python",
   "nbconvert_exporter": "python",
   "pygments_lexer": "ipython3",
   "version": "3.9.14"
  }
 },
 "nbformat": 4,
 "nbformat_minor": 5
}
