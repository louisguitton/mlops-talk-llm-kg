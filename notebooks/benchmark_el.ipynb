{
 "cells": [
  {
   "cell_type": "markdown",
   "id": "a84e6007-b59f-47b8-a1ef-ee2c621e3dda",
   "metadata": {},
   "source": [
    "# Entity Linking benchmark"
   ]
  },
  {
   "cell_type": "code",
   "execution_count": 1,
   "id": "0c14d148-86ea-4316-9226-2003b0e72df6",
   "metadata": {
    "execution": {
     "iopub.execute_input": "2024-02-12T17:59:36.446662Z",
     "iopub.status.busy": "2024-02-12T17:59:36.445561Z",
     "iopub.status.idle": "2024-02-12T17:59:37.825427Z",
     "shell.execute_reply": "2024-02-12T17:59:37.825091Z",
     "shell.execute_reply.started": "2024-02-12T17:59:36.446566Z"
    }
   },
   "outputs": [],
   "source": [
    "import json\n",
    "from typing import cast\n",
    "from IPython.display import display, Markdown\n",
    "\n",
    "import spacy"
   ]
  },
  {
   "cell_type": "code",
   "execution_count": 2,
   "id": "84258427-30de-4fd5-a987-634174435293",
   "metadata": {
    "execution": {
     "iopub.execute_input": "2024-02-12T17:59:41.177736Z",
     "iopub.status.busy": "2024-02-12T17:59:41.176896Z",
     "iopub.status.idle": "2024-02-12T17:59:41.186667Z",
     "shell.execute_reply": "2024-02-12T17:59:41.185637Z",
     "shell.execute_reply.started": "2024-02-12T17:59:41.177670Z"
    }
   },
   "outputs": [],
   "source": [
    "with open(\"../data/wiki_guardians.json\", \"r\") as fh:\n",
    "    text: str = json.load(fh)[\"text\"]\n",
    "    paragraph = text.split(\"\\n\\n\\n\")[0]"
   ]
  },
  {
   "cell_type": "markdown",
   "id": "ae97b93e-3314-4975-a34c-ddb6969ac4b3",
   "metadata": {},
   "source": [
    "## Using Spacyfishing"
   ]
  },
  {
   "cell_type": "code",
   "execution_count": 3,
   "id": "564b79c3-9a86-45de-ad53-0719e224da78",
   "metadata": {
    "execution": {
     "iopub.execute_input": "2024-02-12T17:54:20.302358Z",
     "iopub.status.busy": "2024-02-12T17:54:20.301143Z",
     "iopub.status.idle": "2024-02-12T17:54:27.353425Z",
     "shell.execute_reply": "2024-02-12T17:54:27.353118Z",
     "shell.execute_reply.started": "2024-02-12T17:54:20.302284Z"
    }
   },
   "outputs": [
    {
     "data": {
      "text/plain": [
       "<function spacy.pipeline.functions.merge_entities(doc: spacy.tokens.doc.Doc)>"
      ]
     },
     "execution_count": 3,
     "metadata": {},
     "output_type": "execute_result"
    }
   ],
   "source": [
    "nlp = spacy.load(\"en_core_web_sm\", exclude=[\"ner\"])\n",
    "nlp.add_pipe(\"span_marker\", config={\"model\": \"tomaarsen/span-marker-mbert-base-multinerd\"})\n",
    "\n",
    "nlp.add_pipe(\n",
    "    \"entityfishing\",\n",
    "    config = {\n",
    "        \"api_ef_base\": \"https://cloud.science-miner.com/nerd/service\",\n",
    "        \"extra_info\": True,\n",
    "        \"filter_statements\": [ ],\n",
    "    },\n",
    ")\n",
    "\n",
    "nlp.add_pipe(\n",
    "    \"merge_entities\",\n",
    ")"
   ]
  },
  {
   "cell_type": "code",
   "execution_count": 4,
   "id": "6076f7f2-d553-4966-b64c-a7033fe94eca",
   "metadata": {
    "execution": {
     "iopub.execute_input": "2024-02-12T17:54:27.354376Z",
     "iopub.status.busy": "2024-02-12T17:54:27.354225Z",
     "iopub.status.idle": "2024-02-12T17:54:37.613307Z",
     "shell.execute_reply": "2024-02-12T17:54:37.612705Z",
     "shell.execute_reply.started": "2024-02-12T17:54:27.354367Z"
    }
   },
   "outputs": [
    {
     "name": "stderr",
     "output_type": "stream",
     "text": [
      "huggingface/tokenizers: The current process just got forked, after parallelism has already been used. Disabling parallelism to avoid deadlocks...\n",
      "To disable this warning, you can either:\n",
      "\t- Avoid using `tokenizers` before the fork if possible\n",
      "\t- Explicitly set the environment variable TOKENIZERS_PARALLELISM=(true | false)\n"
     ]
    }
   ],
   "source": [
    "doc = nlp(paragraph)"
   ]
  },
  {
   "cell_type": "code",
   "execution_count": 5,
   "id": "b75e16cb-89fb-475f-8323-1fdff5d0ac6c",
   "metadata": {
    "execution": {
     "iopub.execute_input": "2024-02-12T17:54:37.614248Z",
     "iopub.status.busy": "2024-02-12T17:54:37.614094Z",
     "iopub.status.idle": "2024-02-12T17:54:37.619115Z",
     "shell.execute_reply": "2024-02-12T17:54:37.618613Z",
     "shell.execute_reply.started": "2024-02-12T17:54:37.614234Z"
    }
   },
   "outputs": [
    {
     "data": {
      "text/html": [
       "<span class=\"tex2jax_ignore\"><div class=\"entities\" style=\"line-height: 2.5; direction: ltr\">\n",
       "<mark class=\"entity\" style=\"background: #ddd; padding: 0.45em 0.6em; margin: 0 0.25em; line-height: 1; border-radius: 0.35em;\">\n",
       "    Guardians of the Galaxy Vol. 3\n",
       "    <span style=\"font-size: 0.8em; font-weight: bold; line-height: 1; border-radius: 0.35em; vertical-align: middle; margin-left: 0.5rem\">MEDIA</span>\n",
       "</mark>\n",
       " (stylized in marketing as Guardians of the Galaxy Volume 3) is a 2023 American superhero film based on the \n",
       "<mark class=\"entity\" style=\"background: #7aecec; padding: 0.45em 0.6em; margin: 0 0.25em; line-height: 1; border-radius: 0.35em;\">\n",
       "    Marvel Comics\n",
       "    <span style=\"font-size: 0.8em; font-weight: bold; line-height: 1; border-radius: 0.35em; vertical-align: middle; margin-left: 0.5rem\">ORG</span>\n",
       "</mark>\n",
       " superhero team \n",
       "<mark class=\"entity\" style=\"background: #ddd; padding: 0.45em 0.6em; margin: 0 0.25em; line-height: 1; border-radius: 0.35em;\">\n",
       "    Guardians of the Galaxy\n",
       "    <span style=\"font-size: 0.8em; font-weight: bold; line-height: 1; border-radius: 0.35em; vertical-align: middle; margin-left: 0.5rem\">MEDIA</span>\n",
       "</mark>\n",
       ", produced by \n",
       "<mark class=\"entity\" style=\"background: #7aecec; padding: 0.45em 0.6em; margin: 0 0.25em; line-height: 1; border-radius: 0.35em;\">\n",
       "    Marvel Studios\n",
       "    <span style=\"font-size: 0.8em; font-weight: bold; line-height: 1; border-radius: 0.35em; vertical-align: middle; margin-left: 0.5rem\">ORG</span>\n",
       "</mark>\n",
       ", and distributed by \n",
       "<mark class=\"entity\" style=\"background: #7aecec; padding: 0.45em 0.6em; margin: 0 0.25em; line-height: 1; border-radius: 0.35em;\">\n",
       "    Walt Disney Studios Motion Pictures\n",
       "    <span style=\"font-size: 0.8em; font-weight: bold; line-height: 1; border-radius: 0.35em; vertical-align: middle; margin-left: 0.5rem\">ORG</span>\n",
       "</mark>\n",
       ". It is the sequel to \n",
       "<mark class=\"entity\" style=\"background: #ddd; padding: 0.45em 0.6em; margin: 0 0.25em; line-height: 1; border-radius: 0.35em;\">\n",
       "    Guardians of the Galaxy\n",
       "    <span style=\"font-size: 0.8em; font-weight: bold; line-height: 1; border-radius: 0.35em; vertical-align: middle; margin-left: 0.5rem\">MEDIA</span>\n",
       "</mark>\n",
       " (2014) and \n",
       "<mark class=\"entity\" style=\"background: #ddd; padding: 0.45em 0.6em; margin: 0 0.25em; line-height: 1; border-radius: 0.35em;\">\n",
       "    Guardians of the Galaxy Vol. 2\n",
       "    <span style=\"font-size: 0.8em; font-weight: bold; line-height: 1; border-radius: 0.35em; vertical-align: middle; margin-left: 0.5rem\">MEDIA</span>\n",
       "</mark>\n",
       " (2017), and the 32nd film in the \n",
       "<mark class=\"entity\" style=\"background: #ddd; padding: 0.45em 0.6em; margin: 0 0.25em; line-height: 1; border-radius: 0.35em;\">\n",
       "    Marvel Cinematic Universe\n",
       "    <span style=\"font-size: 0.8em; font-weight: bold; line-height: 1; border-radius: 0.35em; vertical-align: middle; margin-left: 0.5rem\">MEDIA</span>\n",
       "</mark>\n",
       " (MCU). Written and directed by \n",
       "<mark class=\"entity\" style=\"background: #ddd; padding: 0.45em 0.6em; margin: 0 0.25em; line-height: 1; border-radius: 0.35em;\">\n",
       "    James Gunn\n",
       "    <span style=\"font-size: 0.8em; font-weight: bold; line-height: 1; border-radius: 0.35em; vertical-align: middle; margin-left: 0.5rem\">PER</span>\n",
       "</mark>\n",
       ", it features an ensemble cast including \n",
       "<mark class=\"entity\" style=\"background: #ddd; padding: 0.45em 0.6em; margin: 0 0.25em; line-height: 1; border-radius: 0.35em;\">\n",
       "    Chris Pratt\n",
       "    <span style=\"font-size: 0.8em; font-weight: bold; line-height: 1; border-radius: 0.35em; vertical-align: middle; margin-left: 0.5rem\">PER</span>\n",
       "</mark>\n",
       ", \n",
       "<mark class=\"entity\" style=\"background: #ddd; padding: 0.45em 0.6em; margin: 0 0.25em; line-height: 1; border-radius: 0.35em;\">\n",
       "    Zoe Saldaña\n",
       "    <span style=\"font-size: 0.8em; font-weight: bold; line-height: 1; border-radius: 0.35em; vertical-align: middle; margin-left: 0.5rem\">PER</span>\n",
       "</mark>\n",
       ", \n",
       "<mark class=\"entity\" style=\"background: #ddd; padding: 0.45em 0.6em; margin: 0 0.25em; line-height: 1; border-radius: 0.35em;\">\n",
       "    Dave Bautista\n",
       "    <span style=\"font-size: 0.8em; font-weight: bold; line-height: 1; border-radius: 0.35em; vertical-align: middle; margin-left: 0.5rem\">PER</span>\n",
       "</mark>\n",
       ", \n",
       "<mark class=\"entity\" style=\"background: #ddd; padding: 0.45em 0.6em; margin: 0 0.25em; line-height: 1; border-radius: 0.35em;\">\n",
       "    Karen Gillan\n",
       "    <span style=\"font-size: 0.8em; font-weight: bold; line-height: 1; border-radius: 0.35em; vertical-align: middle; margin-left: 0.5rem\">PER</span>\n",
       "</mark>\n",
       ", \n",
       "<mark class=\"entity\" style=\"background: #ddd; padding: 0.45em 0.6em; margin: 0 0.25em; line-height: 1; border-radius: 0.35em;\">\n",
       "    Pom Klementieff\n",
       "    <span style=\"font-size: 0.8em; font-weight: bold; line-height: 1; border-radius: 0.35em; vertical-align: middle; margin-left: 0.5rem\">PER</span>\n",
       "</mark>\n",
       ", \n",
       "<mark class=\"entity\" style=\"background: #ddd; padding: 0.45em 0.6em; margin: 0 0.25em; line-height: 1; border-radius: 0.35em;\">\n",
       "    Vin Diesel\n",
       "    <span style=\"font-size: 0.8em; font-weight: bold; line-height: 1; border-radius: 0.35em; vertical-align: middle; margin-left: 0.5rem\">PER</span>\n",
       "</mark>\n",
       ", \n",
       "<mark class=\"entity\" style=\"background: #ddd; padding: 0.45em 0.6em; margin: 0 0.25em; line-height: 1; border-radius: 0.35em;\">\n",
       "    Bradley Cooper\n",
       "    <span style=\"font-size: 0.8em; font-weight: bold; line-height: 1; border-radius: 0.35em; vertical-align: middle; margin-left: 0.5rem\">PER</span>\n",
       "</mark>\n",
       ", \n",
       "<mark class=\"entity\" style=\"background: #ddd; padding: 0.45em 0.6em; margin: 0 0.25em; line-height: 1; border-radius: 0.35em;\">\n",
       "    Will Poulter\n",
       "    <span style=\"font-size: 0.8em; font-weight: bold; line-height: 1; border-radius: 0.35em; vertical-align: middle; margin-left: 0.5rem\">PER</span>\n",
       "</mark>\n",
       ", \n",
       "<mark class=\"entity\" style=\"background: #ddd; padding: 0.45em 0.6em; margin: 0 0.25em; line-height: 1; border-radius: 0.35em;\">\n",
       "    Sean Gunn\n",
       "    <span style=\"font-size: 0.8em; font-weight: bold; line-height: 1; border-radius: 0.35em; vertical-align: middle; margin-left: 0.5rem\">PER</span>\n",
       "</mark>\n",
       ", \n",
       "<mark class=\"entity\" style=\"background: #ddd; padding: 0.45em 0.6em; margin: 0 0.25em; line-height: 1; border-radius: 0.35em;\">\n",
       "    Chukwudi Iwuji\n",
       "    <span style=\"font-size: 0.8em; font-weight: bold; line-height: 1; border-radius: 0.35em; vertical-align: middle; margin-left: 0.5rem\">PER</span>\n",
       "</mark>\n",
       ", \n",
       "<mark class=\"entity\" style=\"background: #ddd; padding: 0.45em 0.6em; margin: 0 0.25em; line-height: 1; border-radius: 0.35em;\">\n",
       "    Linda Cardellini\n",
       "    <span style=\"font-size: 0.8em; font-weight: bold; line-height: 1; border-radius: 0.35em; vertical-align: middle; margin-left: 0.5rem\">PER</span>\n",
       "</mark>\n",
       ", \n",
       "<mark class=\"entity\" style=\"background: #ddd; padding: 0.45em 0.6em; margin: 0 0.25em; line-height: 1; border-radius: 0.35em;\">\n",
       "    Nathan Fillion\n",
       "    <span style=\"font-size: 0.8em; font-weight: bold; line-height: 1; border-radius: 0.35em; vertical-align: middle; margin-left: 0.5rem\">PER</span>\n",
       "</mark>\n",
       ", and \n",
       "<mark class=\"entity\" style=\"background: #ddd; padding: 0.45em 0.6em; margin: 0 0.25em; line-height: 1; border-radius: 0.35em;\">\n",
       "    Sylvester Stallone\n",
       "    <span style=\"font-size: 0.8em; font-weight: bold; line-height: 1; border-radius: 0.35em; vertical-align: middle; margin-left: 0.5rem\">PER</span>\n",
       "</mark>\n",
       ". In the film, the Guardians must save Rocket's (\n",
       "<mark class=\"entity\" style=\"background: #ddd; padding: 0.45em 0.6em; margin: 0 0.25em; line-height: 1; border-radius: 0.35em;\">\n",
       "    Cooper\n",
       "    <span style=\"font-size: 0.8em; font-weight: bold; line-height: 1; border-radius: 0.35em; vertical-align: middle; margin-left: 0.5rem\">PER</span>\n",
       "</mark>\n",
       ") life from the High Evolutionary (Iwuji).<br>\n",
       "<mark class=\"entity\" style=\"background: #ddd; padding: 0.45em 0.6em; margin: 0 0.25em; line-height: 1; border-radius: 0.35em;\">\n",
       "    Gunn\n",
       "    <span style=\"font-size: 0.8em; font-weight: bold; line-height: 1; border-radius: 0.35em; vertical-align: middle; margin-left: 0.5rem\">PER</span>\n",
       "</mark>\n",
       " stated in November 2014 that he had initial ideas for a third and final film in the series, and announced his return to write and direct in April 2017. \n",
       "<mark class=\"entity\" style=\"background: #7aecec; padding: 0.45em 0.6em; margin: 0 0.25em; line-height: 1; border-radius: 0.35em;\">\n",
       "    Disney\n",
       "    <span style=\"font-size: 0.8em; font-weight: bold; line-height: 1; border-radius: 0.35em; vertical-align: middle; margin-left: 0.5rem\">ORG</span>\n",
       "</mark>\n",
       " fired him from the film in July 2018 following the resurfacing of controversial posts on \n",
       "<mark class=\"entity\" style=\"background: #ddd; padding: 0.45em 0.6em; margin: 0 0.25em; line-height: 1; border-radius: 0.35em;\">\n",
       "    Twitter\n",
       "    <span style=\"font-size: 0.8em; font-weight: bold; line-height: 1; border-radius: 0.35em; vertical-align: middle; margin-left: 0.5rem\">INST</span>\n",
       "</mark>\n",
       ", but the studio reversed course by that October and reinstated him. Gunn's return was publicly revealed in March 2019, with production resuming after he completed work for \n",
       "<mark class=\"entity\" style=\"background: #7aecec; padding: 0.45em 0.6em; margin: 0 0.25em; line-height: 1; border-radius: 0.35em;\">\n",
       "    DC\n",
       "    <span style=\"font-size: 0.8em; font-weight: bold; line-height: 1; border-radius: 0.35em; vertical-align: middle; margin-left: 0.5rem\">ORG</span>\n",
       "</mark>\n",
       " on \n",
       "<mark class=\"entity\" style=\"background: #ddd; padding: 0.45em 0.6em; margin: 0 0.25em; line-height: 1; border-radius: 0.35em;\">\n",
       "    The Suicide Squad\n",
       "    <span style=\"font-size: 0.8em; font-weight: bold; line-height: 1; border-radius: 0.35em; vertical-align: middle; margin-left: 0.5rem\">MEDIA</span>\n",
       "</mark>\n",
       " (2021) and the first season of its spin-off series \n",
       "<mark class=\"entity\" style=\"background: #ddd; padding: 0.45em 0.6em; margin: 0 0.25em; line-height: 1; border-radius: 0.35em;\">\n",
       "    Peacemaker\n",
       "    <span style=\"font-size: 0.8em; font-weight: bold; line-height: 1; border-radius: 0.35em; vertical-align: middle; margin-left: 0.5rem\">MEDIA</span>\n",
       "</mark>\n",
       " (2022). Filming began in November 2021 at \n",
       "<mark class=\"entity\" style=\"background: #ff9561; padding: 0.45em 0.6em; margin: 0 0.25em; line-height: 1; border-radius: 0.35em;\">\n",
       "    Trilith Studios\n",
       "    <span style=\"font-size: 0.8em; font-weight: bold; line-height: 1; border-radius: 0.35em; vertical-align: middle; margin-left: 0.5rem\">LOC</span>\n",
       "</mark>\n",
       " in \n",
       "<mark class=\"entity\" style=\"background: #ff9561; padding: 0.45em 0.6em; margin: 0 0.25em; line-height: 1; border-radius: 0.35em;\">\n",
       "    Atlanta\n",
       "    <span style=\"font-size: 0.8em; font-weight: bold; line-height: 1; border-radius: 0.35em; vertical-align: middle; margin-left: 0.5rem\">LOC</span>\n",
       "</mark>\n",
       ", \n",
       "<mark class=\"entity\" style=\"background: #ff9561; padding: 0.45em 0.6em; margin: 0 0.25em; line-height: 1; border-radius: 0.35em;\">\n",
       "    Georgia\n",
       "    <span style=\"font-size: 0.8em; font-weight: bold; line-height: 1; border-radius: 0.35em; vertical-align: middle; margin-left: 0.5rem\">LOC</span>\n",
       "</mark>\n",
       ", and lasted until May 2022.<br>\n",
       "<mark class=\"entity\" style=\"background: #ddd; padding: 0.45em 0.6em; margin: 0 0.25em; line-height: 1; border-radius: 0.35em;\">\n",
       "    Guardians of the Galaxy Vol. 3\n",
       "    <span style=\"font-size: 0.8em; font-weight: bold; line-height: 1; border-radius: 0.35em; vertical-align: middle; margin-left: 0.5rem\">MEDIA</span>\n",
       "</mark>\n",
       " premiered at \n",
       "<mark class=\"entity\" style=\"background: #ff9561; padding: 0.45em 0.6em; margin: 0 0.25em; line-height: 1; border-radius: 0.35em;\">\n",
       "    Disneyland Paris\n",
       "    <span style=\"font-size: 0.8em; font-weight: bold; line-height: 1; border-radius: 0.35em; vertical-align: middle; margin-left: 0.5rem\">LOC</span>\n",
       "</mark>\n",
       " on April 22, 2023, and was released in the \n",
       "<mark class=\"entity\" style=\"background: #ff9561; padding: 0.45em 0.6em; margin: 0 0.25em; line-height: 1; border-radius: 0.35em;\">\n",
       "    United States\n",
       "    <span style=\"font-size: 0.8em; font-weight: bold; line-height: 1; border-radius: 0.35em; vertical-align: middle; margin-left: 0.5rem\">LOC</span>\n",
       "</mark>\n",
       " on May 5, as part of Phase Five of the MCU. Like its predecessors, it was a critical and commercial success, with many deeming it to be a satisfactory conclusion to the trilogy. It grossed over $848.6 million worldwide, becoming the fourth-highest-grossing film of \n",
       "<mark class=\"entity\" style=\"background: #bfe1d9; padding: 0.45em 0.6em; margin: 0 0.25em; line-height: 1; border-radius: 0.35em;\">\n",
       "    2023\n",
       "    <span style=\"font-size: 0.8em; font-weight: bold; line-height: 1; border-radius: 0.35em; vertical-align: middle; margin-left: 0.5rem\">TIME</span>\n",
       "</mark>\n",
       ". At the 96th Academy Awards, the film was nominated for Best Visual Effects.</div></span>"
      ],
      "text/plain": [
       "<IPython.core.display.HTML object>"
      ]
     },
     "metadata": {},
     "output_type": "display_data"
    }
   ],
   "source": [
    "spacy.displacy.render(\n",
    "    doc,\n",
    "    style = \"ent\",\n",
    "    jupyter = True,\n",
    ")"
   ]
  },
  {
   "cell_type": "code",
   "execution_count": 11,
   "id": "8cec0dc8-f38d-4393-9df2-948dd400d943",
   "metadata": {
    "execution": {
     "iopub.execute_input": "2024-02-12T17:57:22.268183Z",
     "iopub.status.busy": "2024-02-12T17:57:22.267381Z",
     "iopub.status.idle": "2024-02-12T17:57:22.282242Z",
     "shell.execute_reply": "2024-02-12T17:57:22.279434Z",
     "shell.execute_reply.started": "2024-02-12T17:57:22.268134Z"
    }
   },
   "outputs": [
    {
     "name": "stdout",
     "output_type": "stream",
     "text": [
      "Guardians of the Galaxy Vol. 3 MEDIA 0.9158 https://www.wikidata.org/wiki/Q20001199\n",
      "Marvel Comics ORG 0.4646 https://www.wikidata.org/wiki/Q173496\n",
      "Guardians of the Galaxy MEDIA 0.8887 https://www.wikidata.org/wiki/Q5887360\n",
      "Marvel Studios ORG 0.9135 https://www.wikidata.org/wiki/Q367466\n",
      "Walt Disney Studios Motion Pictures ORG 0.9101 https://www.wikidata.org/wiki/Q1323594\n",
      "Guardians of the Galaxy MEDIA 0.8887 https://www.wikidata.org/wiki/Q5887360\n",
      "Guardians of the Galaxy Vol. 2 MEDIA 0.9103 https://www.wikidata.org/wiki/Q20001199\n",
      "Marvel Cinematic Universe MEDIA 0.9137 https://www.wikidata.org/wiki/Q642878\n",
      "James Gunn PER 0.8888 https://www.wikidata.org/wiki/Q717015\n",
      "Chris Pratt PER 0.9086 https://www.wikidata.org/wiki/Q503706\n",
      "Zoe Saldaña PER 0.9098 https://www.wikidata.org/wiki/Q190162\n",
      "Dave Bautista PER 0.9098 https://www.wikidata.org/wiki/Q44158\n",
      "Karen Gillan PER 0.9098 https://www.wikidata.org/wiki/Q231237\n",
      "Pom Klementieff PER 0.9085 https://www.wikidata.org/wiki/Q3395911\n",
      "Vin Diesel PER 0.9121 https://www.wikidata.org/wiki/Q178166\n",
      "Bradley Cooper PER 0.9101 https://www.wikidata.org/wiki/Q205707\n",
      "Will Poulter PER 0.9103 https://www.wikidata.org/wiki/Q1319882\n",
      "Sean Gunn PER 0.914 https://www.wikidata.org/wiki/Q431753\n",
      "Chukwudi Iwuji PER 0.916 https://www.wikidata.org/wiki/Q5115999\n",
      "Linda Cardellini PER 0.9052 https://www.wikidata.org/wiki/Q234204\n",
      "Nathan Fillion PER 0.9092 https://www.wikidata.org/wiki/Q342549\n",
      "Sylvester Stallone PER 0.9121 https://www.wikidata.org/wiki/Q40026\n",
      "Cooper PER 0.3814 https://www.wikidata.org/wiki/Q974249\n",
      "Gunn PER 0.3915 https://www.wikidata.org/wiki/Q3900857\n",
      "Disney ORG 0.659 https://www.wikidata.org/wiki/Q7414\n",
      "Twitter INST 0.69 https://www.wikidata.org/wiki/Q918\n",
      "DC ORG 0.435 https://www.wikidata.org/wiki/Q159241\n",
      "The Suicide Squad MEDIA 0.9171 https://www.wikidata.org/wiki/Q57317060\n",
      "Peacemaker MEDIA 0.6162 https://www.wikidata.org/wiki/Q101089777\n",
      "Trilith Studios LOC 0.9134 https://www.wikidata.org/wiki/Q101546977\n",
      "Atlanta LOC 0.6905 https://www.wikidata.org/wiki/Q23556\n",
      "Georgia LOC 0.6908 https://www.wikidata.org/wiki/Q1428\n",
      "Guardians of the Galaxy Vol. 3 MEDIA 0.8914 https://www.wikidata.org/wiki/Q20001199\n",
      "Disneyland Paris LOC 0.4302 https://www.wikidata.org/wiki/Q2313567\n",
      "United States LOC 0.6467 https://www.wikidata.org/wiki/Q30\n",
      "2023 TIME 0.3757 https://www.wikidata.org/wiki/Q107710129\n"
     ]
    }
   ],
   "source": [
    "for ent in doc.ents:\n",
    "    print(\n",
    "        ent.text,\n",
    "        ent.label_,\n",
    "        ent._.nerd_score,\n",
    "        ent._.url_wikidata,\n",
    "    )\n"
   ]
  }
 ],
 "metadata": {
  "kernelspec": {
   "display_name": "Python 3 (ipykernel)",
   "language": "python",
   "name": "python3"
  },
  "language_info": {
   "codemirror_mode": {
    "name": "ipython",
    "version": 3
   },
   "file_extension": ".py",
   "mimetype": "text/x-python",
   "name": "python",
   "nbconvert_exporter": "python",
   "pygments_lexer": "ipython3",
   "version": "3.11.4"
  }
 },
 "nbformat": 4,
 "nbformat_minor": 5
}
