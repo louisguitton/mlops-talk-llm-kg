{
 "cells": [
  {
   "cell_type": "markdown",
   "id": "a84e6007-b59f-47b8-a1ef-ee2c621e3dda",
   "metadata": {},
   "source": [
    "# Entity Linking benchmark\n",
    "Results:\n",
    "\n",
    "|                                  | `spaCy` default                                                                                                                         | `spacyfishing`                                                | `spacy_entity_linker`                                                 | `spacy_dbpedia_spotlight`                                             |\n",
    "|----------------------------------|---------------------------------------------------------------------------------------------------------------------------------|-----------------------------------------------------------------------|-----------------------------------------------------------------------------------------------|--------------------------------------------------------|\n",
    "| part of spacy pipe | yes | yes | no | yes |\n",
    "| includes its own NER | no | no | no | yes |\n",
    "| disambiguates against | custom KB | WikiData | WikiData | DbPedia |\n",
    "| based on | [spaCy custom entity linking architecture](https://spacy.io/api/architectures#entitylinker) | [entity-fishing at WikiDataCon 2017](https://grobid.s3.amazonaws.com/presentations/29-10-2017.pdf) | requires reading the code | [DBpedia Spotlight](https://www.dbpedia-spotlight.org/) |\n",
    "| inference time on test paragraph on Macbook Pro M1 no GPU | (no training data available) | 3.67s | 2.80s + optional subsequent linking time | 3.73s |\n",
    "| disambiguated 'DC' to | (no training data available) | DC current (wrong) | Washington DC (wrong) | DC comics (correct) |\n",
    "| comment | can bring your own data but requires training |   | oldest implementation | Best  eye-balled performance on my use case |"
   ]
  },
  {
   "cell_type": "code",
   "execution_count": 11,
   "id": "0c14d148-86ea-4316-9226-2003b0e72df6",
   "metadata": {
    "execution": {
     "iopub.execute_input": "2024-02-13T11:09:41.048637Z",
     "iopub.status.busy": "2024-02-13T11:09:41.047879Z",
     "iopub.status.idle": "2024-02-13T11:09:41.062186Z",
     "shell.execute_reply": "2024-02-13T11:09:41.059824Z",
     "shell.execute_reply.started": "2024-02-13T11:09:41.048592Z"
    }
   },
   "outputs": [],
   "source": [
    "import json\n",
    "from typing import cast\n",
    "from IPython.display import display, Markdown\n",
    "\n",
    "from icecream import ic\n",
    "import spacy\n",
    "import textgraphs\n",
    "import spacy_entity_linker as sel\n",
    "import spacy_dbpedia_spotlight"
   ]
  },
  {
   "cell_type": "code",
   "execution_count": 2,
   "id": "84258427-30de-4fd5-a987-634174435293",
   "metadata": {
    "execution": {
     "iopub.execute_input": "2024-02-13T11:01:00.578969Z",
     "iopub.status.busy": "2024-02-13T11:01:00.578861Z",
     "iopub.status.idle": "2024-02-13T11:01:00.589264Z",
     "shell.execute_reply": "2024-02-13T11:01:00.588795Z",
     "shell.execute_reply.started": "2024-02-13T11:01:00.578955Z"
    }
   },
   "outputs": [],
   "source": [
    "with open(\"../data/wiki_guardians.json\", \"r\") as fh:\n",
    "    text: str = json.load(fh)[\"text\"]\n",
    "    paragraph = text.split(\"\\n\\n\\n\")[0]"
   ]
  },
  {
   "cell_type": "markdown",
   "id": "ae97b93e-3314-4975-a34c-ddb6969ac4b3",
   "metadata": {},
   "source": [
    "## Using Spacyfishing"
   ]
  },
  {
   "cell_type": "code",
   "execution_count": 47,
   "id": "564b79c3-9a86-45de-ad53-0719e224da78",
   "metadata": {
    "execution": {
     "iopub.execute_input": "2024-02-13T13:29:02.027834Z",
     "iopub.status.busy": "2024-02-13T13:29:02.026105Z",
     "iopub.status.idle": "2024-02-13T13:29:06.674832Z",
     "shell.execute_reply": "2024-02-13T13:29:06.674525Z",
     "shell.execute_reply.started": "2024-02-13T13:29:02.027748Z"
    }
   },
   "outputs": [
    {
     "data": {
      "text/plain": [
       "<function spacy.pipeline.functions.merge_entities(doc: spacy.tokens.doc.Doc)>"
      ]
     },
     "execution_count": 47,
     "metadata": {},
     "output_type": "execute_result"
    }
   ],
   "source": [
    "nlp = spacy.load(\"en_core_web_sm\", exclude=[\"ner\"])\n",
    "nlp.add_pipe(\"span_marker\", config={\"model\": \"tomaarsen/span-marker-mbert-base-multinerd\"})\n",
    "\n",
    "nlp.add_pipe(\n",
    "    \"entityfishing\",\n",
    "    config = {\n",
    "        \"api_ef_base\": \"https://cloud.science-miner.com/nerd/service\",\n",
    "        \"extra_info\": True,\n",
    "        \"filter_statements\": [ ],\n",
    "    },\n",
    ")\n",
    "\n",
    "nlp.add_pipe(\n",
    "    \"merge_entities\",\n",
    ")"
   ]
  },
  {
   "cell_type": "code",
   "execution_count": 48,
   "id": "6076f7f2-d553-4966-b64c-a7033fe94eca",
   "metadata": {
    "execution": {
     "iopub.execute_input": "2024-02-13T13:29:06.675654Z",
     "iopub.status.busy": "2024-02-13T13:29:06.675596Z",
     "iopub.status.idle": "2024-02-13T13:29:14.000117Z",
     "shell.execute_reply": "2024-02-13T13:29:13.999502Z",
     "shell.execute_reply.started": "2024-02-13T13:29:06.675646Z"
    }
   },
   "outputs": [],
   "source": [
    "doc = nlp(paragraph)"
   ]
  },
  {
   "cell_type": "code",
   "execution_count": 50,
   "id": "8cec0dc8-f38d-4393-9df2-948dd400d943",
   "metadata": {
    "execution": {
     "iopub.execute_input": "2024-02-13T13:38:31.531152Z",
     "iopub.status.busy": "2024-02-13T13:38:31.529514Z",
     "iopub.status.idle": "2024-02-13T13:38:31.540592Z",
     "shell.execute_reply": "2024-02-13T13:38:31.540076Z",
     "shell.execute_reply.started": "2024-02-13T13:38:31.531056Z"
    }
   },
   "outputs": [
    {
     "name": "stdout",
     "output_type": "stream",
     "text": [
      "Guardians of the Galaxy Vol. 3 MEDIA Q20001199 0.9158 https://www.wikidata.org/wiki/Q20001199\n",
      "Marvel Comics ORG Q173496 0.4646 https://www.wikidata.org/wiki/Q173496\n",
      "Guardians of the Galaxy MEDIA Q5887360 0.8887 https://www.wikidata.org/wiki/Q5887360\n",
      "Marvel Studios ORG Q367466 0.9135 https://www.wikidata.org/wiki/Q367466\n",
      "Walt Disney Studios Motion Pictures ORG Q1323594 0.9101 https://www.wikidata.org/wiki/Q1323594\n",
      "Guardians of the Galaxy MEDIA Q5887360 0.8887 https://www.wikidata.org/wiki/Q5887360\n",
      "Guardians of the Galaxy Vol. 2 MEDIA Q20001199 0.9103 https://www.wikidata.org/wiki/Q20001199\n",
      "Marvel Cinematic Universe MEDIA Q642878 0.9137 https://www.wikidata.org/wiki/Q642878\n",
      "James Gunn PER Q717015 0.8888 https://www.wikidata.org/wiki/Q717015\n",
      "Chris Pratt PER Q503706 0.9086 https://www.wikidata.org/wiki/Q503706\n",
      "Zoe Saldaña PER Q190162 0.9098 https://www.wikidata.org/wiki/Q190162\n",
      "Dave Bautista PER Q44158 0.9098 https://www.wikidata.org/wiki/Q44158\n",
      "Karen Gillan PER Q231237 0.9098 https://www.wikidata.org/wiki/Q231237\n",
      "Pom Klementieff PER Q3395911 0.9085 https://www.wikidata.org/wiki/Q3395911\n",
      "Vin Diesel PER Q178166 0.9121 https://www.wikidata.org/wiki/Q178166\n",
      "Bradley Cooper PER Q205707 0.9101 https://www.wikidata.org/wiki/Q205707\n",
      "Will Poulter PER Q1319882 0.9103 https://www.wikidata.org/wiki/Q1319882\n",
      "Sean Gunn PER Q431753 0.914 https://www.wikidata.org/wiki/Q431753\n",
      "Chukwudi Iwuji PER Q5115999 0.916 https://www.wikidata.org/wiki/Q5115999\n",
      "Linda Cardellini PER Q234204 0.9052 https://www.wikidata.org/wiki/Q234204\n",
      "Nathan Fillion PER Q342549 0.9092 https://www.wikidata.org/wiki/Q342549\n",
      "Sylvester Stallone PER Q40026 0.9121 https://www.wikidata.org/wiki/Q40026\n",
      "Cooper PER Q974249 0.3814 https://www.wikidata.org/wiki/Q974249\n",
      "Gunn PER Q3900857 0.3915 https://www.wikidata.org/wiki/Q3900857\n",
      "Disney ORG Q7414 0.659 https://www.wikidata.org/wiki/Q7414\n",
      "Twitter INST Q918 0.69 https://www.wikidata.org/wiki/Q918\n",
      "DC ORG Q159241 0.435 https://www.wikidata.org/wiki/Q159241\n",
      "The Suicide Squad MEDIA Q57317060 0.9171 https://www.wikidata.org/wiki/Q57317060\n",
      "Peacemaker MEDIA Q101089777 0.6162 https://www.wikidata.org/wiki/Q101089777\n",
      "Trilith Studios LOC Q101546977 0.9134 https://www.wikidata.org/wiki/Q101546977\n",
      "Atlanta LOC Q23556 0.6905 https://www.wikidata.org/wiki/Q23556\n",
      "Georgia LOC Q1428 0.6908 https://www.wikidata.org/wiki/Q1428\n",
      "Guardians of the Galaxy Vol. 3 MEDIA Q20001199 0.8914 https://www.wikidata.org/wiki/Q20001199\n",
      "Disneyland Paris LOC Q2313567 0.4302 https://www.wikidata.org/wiki/Q2313567\n",
      "United States LOC Q30 0.6467 https://www.wikidata.org/wiki/Q30\n",
      "2023 TIME Q107710129 0.3757 https://www.wikidata.org/wiki/Q107710129\n"
     ]
    }
   ],
   "source": [
    "for ent in doc.ents:\n",
    "    print(\n",
    "        ent.text,\n",
    "        ent.label_,\n",
    "        ent._.kb_qid, # Wikidata identifier (QID).\n",
    "        ent._.nerd_score, #  Selection confidence score for the disambiguated entity.\n",
    "        ent._.url_wikidata, # URL to Wikidata ressource.\n",
    "    )"
   ]
  },
  {
   "cell_type": "code",
   "execution_count": 26,
   "id": "b9193914-a223-46c6-b015-1eb3daebc2b1",
   "metadata": {
    "execution": {
     "iopub.execute_input": "2024-02-13T11:36:05.629538Z",
     "iopub.status.busy": "2024-02-13T11:36:05.629380Z",
     "iopub.status.idle": "2024-02-13T11:36:05.635306Z",
     "shell.execute_reply": "2024-02-13T11:36:05.634744Z",
     "shell.execute_reply.started": "2024-02-13T11:36:05.629515Z"
    }
   },
   "outputs": [
    {
     "data": {
      "text/html": [
       "<span class=\"tex2jax_ignore\"><div class=\"entities\" style=\"line-height: 2.5; direction: ltr\">\n",
       "<mark class=\"entity\" style=\"background: #ddd; padding: 0.45em 0.6em; margin: 0 0.25em; line-height: 1; border-radius: 0.35em;\">\n",
       "    Guardians of the Galaxy Vol. 3\n",
       "    <span style=\"font-size: 0.8em; font-weight: bold; line-height: 1; border-radius: 0.35em; vertical-align: middle; margin-left: 0.5rem\">MEDIA</span>\n",
       "</mark>\n",
       " (stylized in marketing as Guardians of the Galaxy Volume 3) is a 2023 American superhero film based on the \n",
       "<mark class=\"entity\" style=\"background: #7aecec; padding: 0.45em 0.6em; margin: 0 0.25em; line-height: 1; border-radius: 0.35em;\">\n",
       "    Marvel Comics\n",
       "    <span style=\"font-size: 0.8em; font-weight: bold; line-height: 1; border-radius: 0.35em; vertical-align: middle; margin-left: 0.5rem\">ORG</span>\n",
       "</mark>\n",
       " superhero team \n",
       "<mark class=\"entity\" style=\"background: #ddd; padding: 0.45em 0.6em; margin: 0 0.25em; line-height: 1; border-radius: 0.35em;\">\n",
       "    Guardians of the Galaxy\n",
       "    <span style=\"font-size: 0.8em; font-weight: bold; line-height: 1; border-radius: 0.35em; vertical-align: middle; margin-left: 0.5rem\">MEDIA</span>\n",
       "</mark>\n",
       ", produced by \n",
       "<mark class=\"entity\" style=\"background: #7aecec; padding: 0.45em 0.6em; margin: 0 0.25em; line-height: 1; border-radius: 0.35em;\">\n",
       "    Marvel Studios\n",
       "    <span style=\"font-size: 0.8em; font-weight: bold; line-height: 1; border-radius: 0.35em; vertical-align: middle; margin-left: 0.5rem\">ORG</span>\n",
       "</mark>\n",
       ", and distributed by \n",
       "<mark class=\"entity\" style=\"background: #7aecec; padding: 0.45em 0.6em; margin: 0 0.25em; line-height: 1; border-radius: 0.35em;\">\n",
       "    Walt Disney Studios Motion Pictures\n",
       "    <span style=\"font-size: 0.8em; font-weight: bold; line-height: 1; border-radius: 0.35em; vertical-align: middle; margin-left: 0.5rem\">ORG</span>\n",
       "</mark>\n",
       ". It is the sequel to \n",
       "<mark class=\"entity\" style=\"background: #ddd; padding: 0.45em 0.6em; margin: 0 0.25em; line-height: 1; border-radius: 0.35em;\">\n",
       "    Guardians of the Galaxy\n",
       "    <span style=\"font-size: 0.8em; font-weight: bold; line-height: 1; border-radius: 0.35em; vertical-align: middle; margin-left: 0.5rem\">MEDIA</span>\n",
       "</mark>\n",
       " (2014) and \n",
       "<mark class=\"entity\" style=\"background: #ddd; padding: 0.45em 0.6em; margin: 0 0.25em; line-height: 1; border-radius: 0.35em;\">\n",
       "    Guardians of the Galaxy Vol. 2\n",
       "    <span style=\"font-size: 0.8em; font-weight: bold; line-height: 1; border-radius: 0.35em; vertical-align: middle; margin-left: 0.5rem\">MEDIA</span>\n",
       "</mark>\n",
       " (2017), and the 32nd film in the \n",
       "<mark class=\"entity\" style=\"background: #ddd; padding: 0.45em 0.6em; margin: 0 0.25em; line-height: 1; border-radius: 0.35em;\">\n",
       "    Marvel Cinematic Universe\n",
       "    <span style=\"font-size: 0.8em; font-weight: bold; line-height: 1; border-radius: 0.35em; vertical-align: middle; margin-left: 0.5rem\">MEDIA</span>\n",
       "</mark>\n",
       " (MCU). Written and directed by \n",
       "<mark class=\"entity\" style=\"background: #ddd; padding: 0.45em 0.6em; margin: 0 0.25em; line-height: 1; border-radius: 0.35em;\">\n",
       "    James Gunn\n",
       "    <span style=\"font-size: 0.8em; font-weight: bold; line-height: 1; border-radius: 0.35em; vertical-align: middle; margin-left: 0.5rem\">PER</span>\n",
       "</mark>\n",
       ", it features an ensemble cast including \n",
       "<mark class=\"entity\" style=\"background: #ddd; padding: 0.45em 0.6em; margin: 0 0.25em; line-height: 1; border-radius: 0.35em;\">\n",
       "    Chris Pratt\n",
       "    <span style=\"font-size: 0.8em; font-weight: bold; line-height: 1; border-radius: 0.35em; vertical-align: middle; margin-left: 0.5rem\">PER</span>\n",
       "</mark>\n",
       ", \n",
       "<mark class=\"entity\" style=\"background: #ddd; padding: 0.45em 0.6em; margin: 0 0.25em; line-height: 1; border-radius: 0.35em;\">\n",
       "    Zoe Saldaña\n",
       "    <span style=\"font-size: 0.8em; font-weight: bold; line-height: 1; border-radius: 0.35em; vertical-align: middle; margin-left: 0.5rem\">PER</span>\n",
       "</mark>\n",
       ", \n",
       "<mark class=\"entity\" style=\"background: #ddd; padding: 0.45em 0.6em; margin: 0 0.25em; line-height: 1; border-radius: 0.35em;\">\n",
       "    Dave Bautista\n",
       "    <span style=\"font-size: 0.8em; font-weight: bold; line-height: 1; border-radius: 0.35em; vertical-align: middle; margin-left: 0.5rem\">PER</span>\n",
       "</mark>\n",
       ", \n",
       "<mark class=\"entity\" style=\"background: #ddd; padding: 0.45em 0.6em; margin: 0 0.25em; line-height: 1; border-radius: 0.35em;\">\n",
       "    Karen Gillan\n",
       "    <span style=\"font-size: 0.8em; font-weight: bold; line-height: 1; border-radius: 0.35em; vertical-align: middle; margin-left: 0.5rem\">PER</span>\n",
       "</mark>\n",
       ", \n",
       "<mark class=\"entity\" style=\"background: #ddd; padding: 0.45em 0.6em; margin: 0 0.25em; line-height: 1; border-radius: 0.35em;\">\n",
       "    Pom Klementieff\n",
       "    <span style=\"font-size: 0.8em; font-weight: bold; line-height: 1; border-radius: 0.35em; vertical-align: middle; margin-left: 0.5rem\">PER</span>\n",
       "</mark>\n",
       ", \n",
       "<mark class=\"entity\" style=\"background: #ddd; padding: 0.45em 0.6em; margin: 0 0.25em; line-height: 1; border-radius: 0.35em;\">\n",
       "    Vin Diesel\n",
       "    <span style=\"font-size: 0.8em; font-weight: bold; line-height: 1; border-radius: 0.35em; vertical-align: middle; margin-left: 0.5rem\">PER</span>\n",
       "</mark>\n",
       ", \n",
       "<mark class=\"entity\" style=\"background: #ddd; padding: 0.45em 0.6em; margin: 0 0.25em; line-height: 1; border-radius: 0.35em;\">\n",
       "    Bradley Cooper\n",
       "    <span style=\"font-size: 0.8em; font-weight: bold; line-height: 1; border-radius: 0.35em; vertical-align: middle; margin-left: 0.5rem\">PER</span>\n",
       "</mark>\n",
       ", \n",
       "<mark class=\"entity\" style=\"background: #ddd; padding: 0.45em 0.6em; margin: 0 0.25em; line-height: 1; border-radius: 0.35em;\">\n",
       "    Will Poulter\n",
       "    <span style=\"font-size: 0.8em; font-weight: bold; line-height: 1; border-radius: 0.35em; vertical-align: middle; margin-left: 0.5rem\">PER</span>\n",
       "</mark>\n",
       ", \n",
       "<mark class=\"entity\" style=\"background: #ddd; padding: 0.45em 0.6em; margin: 0 0.25em; line-height: 1; border-radius: 0.35em;\">\n",
       "    Sean Gunn\n",
       "    <span style=\"font-size: 0.8em; font-weight: bold; line-height: 1; border-radius: 0.35em; vertical-align: middle; margin-left: 0.5rem\">PER</span>\n",
       "</mark>\n",
       ", \n",
       "<mark class=\"entity\" style=\"background: #ddd; padding: 0.45em 0.6em; margin: 0 0.25em; line-height: 1; border-radius: 0.35em;\">\n",
       "    Chukwudi Iwuji\n",
       "    <span style=\"font-size: 0.8em; font-weight: bold; line-height: 1; border-radius: 0.35em; vertical-align: middle; margin-left: 0.5rem\">PER</span>\n",
       "</mark>\n",
       ", \n",
       "<mark class=\"entity\" style=\"background: #ddd; padding: 0.45em 0.6em; margin: 0 0.25em; line-height: 1; border-radius: 0.35em;\">\n",
       "    Linda Cardellini\n",
       "    <span style=\"font-size: 0.8em; font-weight: bold; line-height: 1; border-radius: 0.35em; vertical-align: middle; margin-left: 0.5rem\">PER</span>\n",
       "</mark>\n",
       ", \n",
       "<mark class=\"entity\" style=\"background: #ddd; padding: 0.45em 0.6em; margin: 0 0.25em; line-height: 1; border-radius: 0.35em;\">\n",
       "    Nathan Fillion\n",
       "    <span style=\"font-size: 0.8em; font-weight: bold; line-height: 1; border-radius: 0.35em; vertical-align: middle; margin-left: 0.5rem\">PER</span>\n",
       "</mark>\n",
       ", and \n",
       "<mark class=\"entity\" style=\"background: #ddd; padding: 0.45em 0.6em; margin: 0 0.25em; line-height: 1; border-radius: 0.35em;\">\n",
       "    Sylvester Stallone\n",
       "    <span style=\"font-size: 0.8em; font-weight: bold; line-height: 1; border-radius: 0.35em; vertical-align: middle; margin-left: 0.5rem\">PER</span>\n",
       "</mark>\n",
       ". In the film, the Guardians must save Rocket's (\n",
       "<mark class=\"entity\" style=\"background: #ddd; padding: 0.45em 0.6em; margin: 0 0.25em; line-height: 1; border-radius: 0.35em;\">\n",
       "    Cooper\n",
       "    <span style=\"font-size: 0.8em; font-weight: bold; line-height: 1; border-radius: 0.35em; vertical-align: middle; margin-left: 0.5rem\">PER</span>\n",
       "</mark>\n",
       ") life from the High Evolutionary (Iwuji).<br>\n",
       "<mark class=\"entity\" style=\"background: #ddd; padding: 0.45em 0.6em; margin: 0 0.25em; line-height: 1; border-radius: 0.35em;\">\n",
       "    Gunn\n",
       "    <span style=\"font-size: 0.8em; font-weight: bold; line-height: 1; border-radius: 0.35em; vertical-align: middle; margin-left: 0.5rem\">PER</span>\n",
       "</mark>\n",
       " stated in November 2014 that he had initial ideas for a third and final film in the series, and announced his return to write and direct in April 2017. \n",
       "<mark class=\"entity\" style=\"background: #7aecec; padding: 0.45em 0.6em; margin: 0 0.25em; line-height: 1; border-radius: 0.35em;\">\n",
       "    Disney\n",
       "    <span style=\"font-size: 0.8em; font-weight: bold; line-height: 1; border-radius: 0.35em; vertical-align: middle; margin-left: 0.5rem\">ORG</span>\n",
       "</mark>\n",
       " fired him from the film in July 2018 following the resurfacing of controversial posts on \n",
       "<mark class=\"entity\" style=\"background: #ddd; padding: 0.45em 0.6em; margin: 0 0.25em; line-height: 1; border-radius: 0.35em;\">\n",
       "    Twitter\n",
       "    <span style=\"font-size: 0.8em; font-weight: bold; line-height: 1; border-radius: 0.35em; vertical-align: middle; margin-left: 0.5rem\">INST</span>\n",
       "</mark>\n",
       ", but the studio reversed course by that October and reinstated him. Gunn's return was publicly revealed in March 2019, with production resuming after he completed work for \n",
       "<mark class=\"entity\" style=\"background: #7aecec; padding: 0.45em 0.6em; margin: 0 0.25em; line-height: 1; border-radius: 0.35em;\">\n",
       "    DC\n",
       "    <span style=\"font-size: 0.8em; font-weight: bold; line-height: 1; border-radius: 0.35em; vertical-align: middle; margin-left: 0.5rem\">ORG</span>\n",
       "</mark>\n",
       " on \n",
       "<mark class=\"entity\" style=\"background: #ddd; padding: 0.45em 0.6em; margin: 0 0.25em; line-height: 1; border-radius: 0.35em;\">\n",
       "    The Suicide Squad\n",
       "    <span style=\"font-size: 0.8em; font-weight: bold; line-height: 1; border-radius: 0.35em; vertical-align: middle; margin-left: 0.5rem\">MEDIA</span>\n",
       "</mark>\n",
       " (2021) and the first season of its spin-off series \n",
       "<mark class=\"entity\" style=\"background: #ddd; padding: 0.45em 0.6em; margin: 0 0.25em; line-height: 1; border-radius: 0.35em;\">\n",
       "    Peacemaker\n",
       "    <span style=\"font-size: 0.8em; font-weight: bold; line-height: 1; border-radius: 0.35em; vertical-align: middle; margin-left: 0.5rem\">MEDIA</span>\n",
       "</mark>\n",
       " (2022). Filming began in November 2021 at \n",
       "<mark class=\"entity\" style=\"background: #ff9561; padding: 0.45em 0.6em; margin: 0 0.25em; line-height: 1; border-radius: 0.35em;\">\n",
       "    Trilith Studios\n",
       "    <span style=\"font-size: 0.8em; font-weight: bold; line-height: 1; border-radius: 0.35em; vertical-align: middle; margin-left: 0.5rem\">LOC</span>\n",
       "</mark>\n",
       " in \n",
       "<mark class=\"entity\" style=\"background: #ff9561; padding: 0.45em 0.6em; margin: 0 0.25em; line-height: 1; border-radius: 0.35em;\">\n",
       "    Atlanta\n",
       "    <span style=\"font-size: 0.8em; font-weight: bold; line-height: 1; border-radius: 0.35em; vertical-align: middle; margin-left: 0.5rem\">LOC</span>\n",
       "</mark>\n",
       ", \n",
       "<mark class=\"entity\" style=\"background: #ff9561; padding: 0.45em 0.6em; margin: 0 0.25em; line-height: 1; border-radius: 0.35em;\">\n",
       "    Georgia\n",
       "    <span style=\"font-size: 0.8em; font-weight: bold; line-height: 1; border-radius: 0.35em; vertical-align: middle; margin-left: 0.5rem\">LOC</span>\n",
       "</mark>\n",
       ", and lasted until May 2022.<br>\n",
       "<mark class=\"entity\" style=\"background: #ddd; padding: 0.45em 0.6em; margin: 0 0.25em; line-height: 1; border-radius: 0.35em;\">\n",
       "    Guardians of the Galaxy Vol. 3\n",
       "    <span style=\"font-size: 0.8em; font-weight: bold; line-height: 1; border-radius: 0.35em; vertical-align: middle; margin-left: 0.5rem\">MEDIA</span>\n",
       "</mark>\n",
       " premiered at \n",
       "<mark class=\"entity\" style=\"background: #ff9561; padding: 0.45em 0.6em; margin: 0 0.25em; line-height: 1; border-radius: 0.35em;\">\n",
       "    Disneyland Paris\n",
       "    <span style=\"font-size: 0.8em; font-weight: bold; line-height: 1; border-radius: 0.35em; vertical-align: middle; margin-left: 0.5rem\">LOC</span>\n",
       "</mark>\n",
       " on April 22, 2023, and was released in the \n",
       "<mark class=\"entity\" style=\"background: #ff9561; padding: 0.45em 0.6em; margin: 0 0.25em; line-height: 1; border-radius: 0.35em;\">\n",
       "    United States\n",
       "    <span style=\"font-size: 0.8em; font-weight: bold; line-height: 1; border-radius: 0.35em; vertical-align: middle; margin-left: 0.5rem\">LOC</span>\n",
       "</mark>\n",
       " on May 5, as part of Phase Five of the MCU. Like its predecessors, it was a critical and commercial success, with many deeming it to be a satisfactory conclusion to the trilogy. It grossed over $848.6 million worldwide, becoming the fourth-highest-grossing film of \n",
       "<mark class=\"entity\" style=\"background: #bfe1d9; padding: 0.45em 0.6em; margin: 0 0.25em; line-height: 1; border-radius: 0.35em;\">\n",
       "    2023\n",
       "    <span style=\"font-size: 0.8em; font-weight: bold; line-height: 1; border-radius: 0.35em; vertical-align: middle; margin-left: 0.5rem\">TIME</span>\n",
       "</mark>\n",
       ". At the 96th Academy Awards, the film was nominated for Best Visual Effects.</div></span>"
      ],
      "text/plain": [
       "<IPython.core.display.HTML object>"
      ]
     },
     "metadata": {},
     "output_type": "display_data"
    }
   ],
   "source": [
    "spacy.displacy.render(\n",
    "    doc,\n",
    "    style = \"ent\",\n",
    "    jupyter = True,\n",
    ")"
   ]
  },
  {
   "cell_type": "markdown",
   "id": "bb4192ae-92bc-46b8-ada9-364d89b42e39",
   "metadata": {},
   "source": [
    "## Using `spaCy-entity-linker`"
   ]
  },
  {
   "cell_type": "code",
   "execution_count": 43,
   "id": "ae160366-4bf6-4841-88d8-abbcaf338727",
   "metadata": {
    "execution": {
     "iopub.execute_input": "2024-02-13T12:32:44.674884Z",
     "iopub.status.busy": "2024-02-13T12:32:44.674271Z",
     "iopub.status.idle": "2024-02-13T12:32:49.042545Z",
     "shell.execute_reply": "2024-02-13T12:32:49.042188Z",
     "shell.execute_reply.started": "2024-02-13T12:32:44.674833Z"
    }
   },
   "outputs": [
    {
     "data": {
      "text/plain": [
       "<span_marker.spacy_integration.SpacySpanMarkerWrapper at 0x30feda5d0>"
      ]
     },
     "execution_count": 43,
     "metadata": {},
     "output_type": "execute_result"
    }
   ],
   "source": [
    "nlp = spacy.load(\"en_core_web_sm\", exclude=[\"ner\"])\n",
    "nlp.add_pipe(\"span_marker\", config={\"model\": \"tomaarsen/span-marker-mbert-base-multinerd\"})"
   ]
  },
  {
   "cell_type": "code",
   "execution_count": 44,
   "id": "03d3b720-5839-42d8-b125-ba03d70665f9",
   "metadata": {
    "execution": {
     "iopub.execute_input": "2024-02-13T12:32:49.043768Z",
     "iopub.status.busy": "2024-02-13T12:32:49.043653Z",
     "iopub.status.idle": "2024-02-13T12:32:51.841302Z",
     "shell.execute_reply": "2024-02-13T12:32:51.840981Z",
     "shell.execute_reply.started": "2024-02-13T12:32:49.043754Z"
    }
   },
   "outputs": [],
   "source": [
    "doc = nlp(paragraph)"
   ]
  },
  {
   "cell_type": "code",
   "execution_count": 45,
   "id": "daf7ed46-bfb8-4423-9ee0-eb8c4f86f022",
   "metadata": {
    "execution": {
     "iopub.execute_input": "2024-02-13T12:32:51.841807Z",
     "iopub.status.busy": "2024-02-13T12:32:51.841745Z",
     "iopub.status.idle": "2024-02-13T12:32:51.845479Z",
     "shell.execute_reply": "2024-02-13T12:32:51.845265Z",
     "shell.execute_reply.started": "2024-02-13T12:32:51.841798Z"
    },
    "scrolled": true
   },
   "outputs": [
    {
     "name": "stdout",
     "output_type": "stream",
     "text": [
      "Guardians of the Galaxy Vol. 3 MEDIA https://www.wikidata.org/wiki/Q19020\n",
      "Marvel Comics ORG https://www.wikidata.org/wiki/Q173496\n",
      "Guardians of the Galaxy MEDIA https://www.wikidata.org/wiki/Q5887360\n",
      "Marvel Studios ORG https://www.wikidata.org/wiki/Q367466\n",
      "Walt Disney Studios Motion Pictures ORG https://www.wikidata.org/wiki/Q1323594\n",
      "Guardians of the Galaxy MEDIA https://www.wikidata.org/wiki/Q5887360\n",
      "Guardians of the Galaxy Vol. 2 MEDIA https://www.wikidata.org/wiki/Q20001199\n",
      "Marvel Cinematic Universe MEDIA https://www.wikidata.org/wiki/Q642878\n",
      "James Gunn PER https://www.wikidata.org/wiki/Q717015\n",
      "Chris Pratt PER https://www.wikidata.org/wiki/Q503706\n",
      "Zoe Saldaña PER https://www.wikidata.org/wiki/Q503706\n",
      "Dave Bautista PER https://www.wikidata.org/wiki/Q44158\n",
      "Karen Gillan PER https://www.wikidata.org/wiki/Q231237\n",
      "Pom Klementieff PER https://www.wikidata.org/wiki/Q3395911\n",
      "Vin Diesel PER https://www.wikidata.org/wiki/Q178166\n",
      "Bradley Cooper PER https://www.wikidata.org/wiki/Q205707\n",
      "Will Poulter PER https://www.wikidata.org/wiki/Q1319882\n",
      "Sean Gunn PER https://www.wikidata.org/wiki/Q431753\n",
      "Chukwudi Iwuji PER https://www.wikidata.org/wiki/Q431753\n",
      "Linda Cardellini PER https://www.wikidata.org/wiki/Q234204\n",
      "Nathan Fillion PER https://www.wikidata.org/wiki/Q342549\n",
      "Sylvester Stallone PER https://www.wikidata.org/wiki/Q40026\n",
      "Cooper PER https://www.wikidata.org/wiki/Q974249\n",
      "Gunn PER https://www.wikidata.org/wiki/Q3900857\n",
      "Disney ORG https://www.wikidata.org/wiki/Q7414\n",
      "Twitter INST https://www.wikidata.org/wiki/Q918\n",
      "DC ORG https://www.wikidata.org/wiki/Q61\n",
      "The Suicide Squad MEDIA https://www.wikidata.org/wiki/Q57317060\n",
      "Peacemaker MEDIA https://www.wikidata.org/wiki/Q1112183\n",
      "Trilith Studios LOC https://www.wikidata.org/wiki/Q1112183\n",
      "Atlanta LOC https://www.wikidata.org/wiki/Q23556\n",
      "Georgia LOC https://www.wikidata.org/wiki/Q230\n",
      "Guardians of the Galaxy Vol. 3 MEDIA https://www.wikidata.org/wiki/Q230\n",
      "Disneyland Paris LOC https://www.wikidata.org/wiki/Q206521\n",
      "United States LOC https://www.wikidata.org/wiki/Q30\n",
      "2023 TIME https://www.wikidata.org/wiki/Q49622\n"
     ]
    }
   ],
   "source": [
    "classifier = sel.EntityClassifier.EntityClassifier()\n",
    "\n",
    "for ent in doc.ents:\n",
    "    term: sel.TermCandidate = sel.TermCandidate.TermCandidate(ent)\n",
    "    candidates: sel.EntityCandidates.EntityCandidates = term.get_entity_candidates()\n",
    "    if len(candidates) > 0:\n",
    "        entity: sel.EntityElement.EntityElement = classifier(candidates)\n",
    "    print(\n",
    "        ent.text,\n",
    "        ent.label_,\n",
    "        entity.__dict__['url'],\n",
    "    )"
   ]
  },
  {
   "cell_type": "code",
   "execution_count": 46,
   "id": "3094c37f-6b25-489a-aeea-7305116531d3",
   "metadata": {
    "execution": {
     "iopub.execute_input": "2024-02-13T12:32:51.846408Z",
     "iopub.status.busy": "2024-02-13T12:32:51.846337Z",
     "iopub.status.idle": "2024-02-13T12:32:51.851301Z",
     "shell.execute_reply": "2024-02-13T12:32:51.850922Z",
     "shell.execute_reply.started": "2024-02-13T12:32:51.846400Z"
    }
   },
   "outputs": [
    {
     "data": {
      "text/html": [
       "<span class=\"tex2jax_ignore\"><div class=\"entities\" style=\"line-height: 2.5; direction: ltr\">\n",
       "<mark class=\"entity\" style=\"background: #ddd; padding: 0.45em 0.6em; margin: 0 0.25em; line-height: 1; border-radius: 0.35em;\">\n",
       "    Guardians of the Galaxy Vol. 3\n",
       "    <span style=\"font-size: 0.8em; font-weight: bold; line-height: 1; border-radius: 0.35em; vertical-align: middle; margin-left: 0.5rem\">MEDIA</span>\n",
       "</mark>\n",
       " (stylized in marketing as Guardians of the Galaxy Volume 3) is a 2023 American superhero film based on the \n",
       "<mark class=\"entity\" style=\"background: #7aecec; padding: 0.45em 0.6em; margin: 0 0.25em; line-height: 1; border-radius: 0.35em;\">\n",
       "    Marvel Comics\n",
       "    <span style=\"font-size: 0.8em; font-weight: bold; line-height: 1; border-radius: 0.35em; vertical-align: middle; margin-left: 0.5rem\">ORG</span>\n",
       "</mark>\n",
       " superhero team \n",
       "<mark class=\"entity\" style=\"background: #ddd; padding: 0.45em 0.6em; margin: 0 0.25em; line-height: 1; border-radius: 0.35em;\">\n",
       "    Guardians of the Galaxy\n",
       "    <span style=\"font-size: 0.8em; font-weight: bold; line-height: 1; border-radius: 0.35em; vertical-align: middle; margin-left: 0.5rem\">MEDIA</span>\n",
       "</mark>\n",
       ", produced by \n",
       "<mark class=\"entity\" style=\"background: #7aecec; padding: 0.45em 0.6em; margin: 0 0.25em; line-height: 1; border-radius: 0.35em;\">\n",
       "    Marvel Studios\n",
       "    <span style=\"font-size: 0.8em; font-weight: bold; line-height: 1; border-radius: 0.35em; vertical-align: middle; margin-left: 0.5rem\">ORG</span>\n",
       "</mark>\n",
       ", and distributed by \n",
       "<mark class=\"entity\" style=\"background: #7aecec; padding: 0.45em 0.6em; margin: 0 0.25em; line-height: 1; border-radius: 0.35em;\">\n",
       "    Walt Disney Studios Motion Pictures\n",
       "    <span style=\"font-size: 0.8em; font-weight: bold; line-height: 1; border-radius: 0.35em; vertical-align: middle; margin-left: 0.5rem\">ORG</span>\n",
       "</mark>\n",
       ". It is the sequel to \n",
       "<mark class=\"entity\" style=\"background: #ddd; padding: 0.45em 0.6em; margin: 0 0.25em; line-height: 1; border-radius: 0.35em;\">\n",
       "    Guardians of the Galaxy\n",
       "    <span style=\"font-size: 0.8em; font-weight: bold; line-height: 1; border-radius: 0.35em; vertical-align: middle; margin-left: 0.5rem\">MEDIA</span>\n",
       "</mark>\n",
       " (2014) and \n",
       "<mark class=\"entity\" style=\"background: #ddd; padding: 0.45em 0.6em; margin: 0 0.25em; line-height: 1; border-radius: 0.35em;\">\n",
       "    Guardians of the Galaxy Vol. 2\n",
       "    <span style=\"font-size: 0.8em; font-weight: bold; line-height: 1; border-radius: 0.35em; vertical-align: middle; margin-left: 0.5rem\">MEDIA</span>\n",
       "</mark>\n",
       " (2017), and the 32nd film in the \n",
       "<mark class=\"entity\" style=\"background: #ddd; padding: 0.45em 0.6em; margin: 0 0.25em; line-height: 1; border-radius: 0.35em;\">\n",
       "    Marvel Cinematic Universe\n",
       "    <span style=\"font-size: 0.8em; font-weight: bold; line-height: 1; border-radius: 0.35em; vertical-align: middle; margin-left: 0.5rem\">MEDIA</span>\n",
       "</mark>\n",
       " (MCU). Written and directed by \n",
       "<mark class=\"entity\" style=\"background: #ddd; padding: 0.45em 0.6em; margin: 0 0.25em; line-height: 1; border-radius: 0.35em;\">\n",
       "    James Gunn\n",
       "    <span style=\"font-size: 0.8em; font-weight: bold; line-height: 1; border-radius: 0.35em; vertical-align: middle; margin-left: 0.5rem\">PER</span>\n",
       "</mark>\n",
       ", it features an ensemble cast including \n",
       "<mark class=\"entity\" style=\"background: #ddd; padding: 0.45em 0.6em; margin: 0 0.25em; line-height: 1; border-radius: 0.35em;\">\n",
       "    Chris Pratt\n",
       "    <span style=\"font-size: 0.8em; font-weight: bold; line-height: 1; border-radius: 0.35em; vertical-align: middle; margin-left: 0.5rem\">PER</span>\n",
       "</mark>\n",
       ", \n",
       "<mark class=\"entity\" style=\"background: #ddd; padding: 0.45em 0.6em; margin: 0 0.25em; line-height: 1; border-radius: 0.35em;\">\n",
       "    Zoe Saldaña\n",
       "    <span style=\"font-size: 0.8em; font-weight: bold; line-height: 1; border-radius: 0.35em; vertical-align: middle; margin-left: 0.5rem\">PER</span>\n",
       "</mark>\n",
       ", \n",
       "<mark class=\"entity\" style=\"background: #ddd; padding: 0.45em 0.6em; margin: 0 0.25em; line-height: 1; border-radius: 0.35em;\">\n",
       "    Dave Bautista\n",
       "    <span style=\"font-size: 0.8em; font-weight: bold; line-height: 1; border-radius: 0.35em; vertical-align: middle; margin-left: 0.5rem\">PER</span>\n",
       "</mark>\n",
       ", \n",
       "<mark class=\"entity\" style=\"background: #ddd; padding: 0.45em 0.6em; margin: 0 0.25em; line-height: 1; border-radius: 0.35em;\">\n",
       "    Karen Gillan\n",
       "    <span style=\"font-size: 0.8em; font-weight: bold; line-height: 1; border-radius: 0.35em; vertical-align: middle; margin-left: 0.5rem\">PER</span>\n",
       "</mark>\n",
       ", \n",
       "<mark class=\"entity\" style=\"background: #ddd; padding: 0.45em 0.6em; margin: 0 0.25em; line-height: 1; border-radius: 0.35em;\">\n",
       "    Pom Klementieff\n",
       "    <span style=\"font-size: 0.8em; font-weight: bold; line-height: 1; border-radius: 0.35em; vertical-align: middle; margin-left: 0.5rem\">PER</span>\n",
       "</mark>\n",
       ", \n",
       "<mark class=\"entity\" style=\"background: #ddd; padding: 0.45em 0.6em; margin: 0 0.25em; line-height: 1; border-radius: 0.35em;\">\n",
       "    Vin Diesel\n",
       "    <span style=\"font-size: 0.8em; font-weight: bold; line-height: 1; border-radius: 0.35em; vertical-align: middle; margin-left: 0.5rem\">PER</span>\n",
       "</mark>\n",
       ", \n",
       "<mark class=\"entity\" style=\"background: #ddd; padding: 0.45em 0.6em; margin: 0 0.25em; line-height: 1; border-radius: 0.35em;\">\n",
       "    Bradley Cooper\n",
       "    <span style=\"font-size: 0.8em; font-weight: bold; line-height: 1; border-radius: 0.35em; vertical-align: middle; margin-left: 0.5rem\">PER</span>\n",
       "</mark>\n",
       ", \n",
       "<mark class=\"entity\" style=\"background: #ddd; padding: 0.45em 0.6em; margin: 0 0.25em; line-height: 1; border-radius: 0.35em;\">\n",
       "    Will Poulter\n",
       "    <span style=\"font-size: 0.8em; font-weight: bold; line-height: 1; border-radius: 0.35em; vertical-align: middle; margin-left: 0.5rem\">PER</span>\n",
       "</mark>\n",
       ", \n",
       "<mark class=\"entity\" style=\"background: #ddd; padding: 0.45em 0.6em; margin: 0 0.25em; line-height: 1; border-radius: 0.35em;\">\n",
       "    Sean Gunn\n",
       "    <span style=\"font-size: 0.8em; font-weight: bold; line-height: 1; border-radius: 0.35em; vertical-align: middle; margin-left: 0.5rem\">PER</span>\n",
       "</mark>\n",
       ", \n",
       "<mark class=\"entity\" style=\"background: #ddd; padding: 0.45em 0.6em; margin: 0 0.25em; line-height: 1; border-radius: 0.35em;\">\n",
       "    Chukwudi Iwuji\n",
       "    <span style=\"font-size: 0.8em; font-weight: bold; line-height: 1; border-radius: 0.35em; vertical-align: middle; margin-left: 0.5rem\">PER</span>\n",
       "</mark>\n",
       ", \n",
       "<mark class=\"entity\" style=\"background: #ddd; padding: 0.45em 0.6em; margin: 0 0.25em; line-height: 1; border-radius: 0.35em;\">\n",
       "    Linda Cardellini\n",
       "    <span style=\"font-size: 0.8em; font-weight: bold; line-height: 1; border-radius: 0.35em; vertical-align: middle; margin-left: 0.5rem\">PER</span>\n",
       "</mark>\n",
       ", \n",
       "<mark class=\"entity\" style=\"background: #ddd; padding: 0.45em 0.6em; margin: 0 0.25em; line-height: 1; border-radius: 0.35em;\">\n",
       "    Nathan Fillion\n",
       "    <span style=\"font-size: 0.8em; font-weight: bold; line-height: 1; border-radius: 0.35em; vertical-align: middle; margin-left: 0.5rem\">PER</span>\n",
       "</mark>\n",
       ", and \n",
       "<mark class=\"entity\" style=\"background: #ddd; padding: 0.45em 0.6em; margin: 0 0.25em; line-height: 1; border-radius: 0.35em;\">\n",
       "    Sylvester Stallone\n",
       "    <span style=\"font-size: 0.8em; font-weight: bold; line-height: 1; border-radius: 0.35em; vertical-align: middle; margin-left: 0.5rem\">PER</span>\n",
       "</mark>\n",
       ". In the film, the Guardians must save Rocket's (\n",
       "<mark class=\"entity\" style=\"background: #ddd; padding: 0.45em 0.6em; margin: 0 0.25em; line-height: 1; border-radius: 0.35em;\">\n",
       "    Cooper\n",
       "    <span style=\"font-size: 0.8em; font-weight: bold; line-height: 1; border-radius: 0.35em; vertical-align: middle; margin-left: 0.5rem\">PER</span>\n",
       "</mark>\n",
       ") life from the High Evolutionary (Iwuji).<br>\n",
       "<mark class=\"entity\" style=\"background: #ddd; padding: 0.45em 0.6em; margin: 0 0.25em; line-height: 1; border-radius: 0.35em;\">\n",
       "    Gunn\n",
       "    <span style=\"font-size: 0.8em; font-weight: bold; line-height: 1; border-radius: 0.35em; vertical-align: middle; margin-left: 0.5rem\">PER</span>\n",
       "</mark>\n",
       " stated in November 2014 that he had initial ideas for a third and final film in the series, and announced his return to write and direct in April 2017. \n",
       "<mark class=\"entity\" style=\"background: #7aecec; padding: 0.45em 0.6em; margin: 0 0.25em; line-height: 1; border-radius: 0.35em;\">\n",
       "    Disney\n",
       "    <span style=\"font-size: 0.8em; font-weight: bold; line-height: 1; border-radius: 0.35em; vertical-align: middle; margin-left: 0.5rem\">ORG</span>\n",
       "</mark>\n",
       " fired him from the film in July 2018 following the resurfacing of controversial posts on \n",
       "<mark class=\"entity\" style=\"background: #ddd; padding: 0.45em 0.6em; margin: 0 0.25em; line-height: 1; border-radius: 0.35em;\">\n",
       "    Twitter\n",
       "    <span style=\"font-size: 0.8em; font-weight: bold; line-height: 1; border-radius: 0.35em; vertical-align: middle; margin-left: 0.5rem\">INST</span>\n",
       "</mark>\n",
       ", but the studio reversed course by that October and reinstated him. Gunn's return was publicly revealed in March 2019, with production resuming after he completed work for \n",
       "<mark class=\"entity\" style=\"background: #7aecec; padding: 0.45em 0.6em; margin: 0 0.25em; line-height: 1; border-radius: 0.35em;\">\n",
       "    DC\n",
       "    <span style=\"font-size: 0.8em; font-weight: bold; line-height: 1; border-radius: 0.35em; vertical-align: middle; margin-left: 0.5rem\">ORG</span>\n",
       "</mark>\n",
       " on \n",
       "<mark class=\"entity\" style=\"background: #ddd; padding: 0.45em 0.6em; margin: 0 0.25em; line-height: 1; border-radius: 0.35em;\">\n",
       "    The Suicide Squad\n",
       "    <span style=\"font-size: 0.8em; font-weight: bold; line-height: 1; border-radius: 0.35em; vertical-align: middle; margin-left: 0.5rem\">MEDIA</span>\n",
       "</mark>\n",
       " (2021) and the first season of its spin-off series \n",
       "<mark class=\"entity\" style=\"background: #ddd; padding: 0.45em 0.6em; margin: 0 0.25em; line-height: 1; border-radius: 0.35em;\">\n",
       "    Peacemaker\n",
       "    <span style=\"font-size: 0.8em; font-weight: bold; line-height: 1; border-radius: 0.35em; vertical-align: middle; margin-left: 0.5rem\">MEDIA</span>\n",
       "</mark>\n",
       " (2022). Filming began in November 2021 at \n",
       "<mark class=\"entity\" style=\"background: #ff9561; padding: 0.45em 0.6em; margin: 0 0.25em; line-height: 1; border-radius: 0.35em;\">\n",
       "    Trilith Studios\n",
       "    <span style=\"font-size: 0.8em; font-weight: bold; line-height: 1; border-radius: 0.35em; vertical-align: middle; margin-left: 0.5rem\">LOC</span>\n",
       "</mark>\n",
       " in \n",
       "<mark class=\"entity\" style=\"background: #ff9561; padding: 0.45em 0.6em; margin: 0 0.25em; line-height: 1; border-radius: 0.35em;\">\n",
       "    Atlanta\n",
       "    <span style=\"font-size: 0.8em; font-weight: bold; line-height: 1; border-radius: 0.35em; vertical-align: middle; margin-left: 0.5rem\">LOC</span>\n",
       "</mark>\n",
       ", \n",
       "<mark class=\"entity\" style=\"background: #ff9561; padding: 0.45em 0.6em; margin: 0 0.25em; line-height: 1; border-radius: 0.35em;\">\n",
       "    Georgia\n",
       "    <span style=\"font-size: 0.8em; font-weight: bold; line-height: 1; border-radius: 0.35em; vertical-align: middle; margin-left: 0.5rem\">LOC</span>\n",
       "</mark>\n",
       ", and lasted until May 2022.<br>\n",
       "<mark class=\"entity\" style=\"background: #ddd; padding: 0.45em 0.6em; margin: 0 0.25em; line-height: 1; border-radius: 0.35em;\">\n",
       "    Guardians of the Galaxy Vol. 3\n",
       "    <span style=\"font-size: 0.8em; font-weight: bold; line-height: 1; border-radius: 0.35em; vertical-align: middle; margin-left: 0.5rem\">MEDIA</span>\n",
       "</mark>\n",
       " premiered at \n",
       "<mark class=\"entity\" style=\"background: #ff9561; padding: 0.45em 0.6em; margin: 0 0.25em; line-height: 1; border-radius: 0.35em;\">\n",
       "    Disneyland Paris\n",
       "    <span style=\"font-size: 0.8em; font-weight: bold; line-height: 1; border-radius: 0.35em; vertical-align: middle; margin-left: 0.5rem\">LOC</span>\n",
       "</mark>\n",
       " on April 22, 2023, and was released in the \n",
       "<mark class=\"entity\" style=\"background: #ff9561; padding: 0.45em 0.6em; margin: 0 0.25em; line-height: 1; border-radius: 0.35em;\">\n",
       "    United States\n",
       "    <span style=\"font-size: 0.8em; font-weight: bold; line-height: 1; border-radius: 0.35em; vertical-align: middle; margin-left: 0.5rem\">LOC</span>\n",
       "</mark>\n",
       " on May 5, as part of Phase Five of the MCU. Like its predecessors, it was a critical and commercial success, with many deeming it to be a satisfactory conclusion to the trilogy. It grossed over $848.6 million worldwide, becoming the fourth-highest-grossing film of \n",
       "<mark class=\"entity\" style=\"background: #bfe1d9; padding: 0.45em 0.6em; margin: 0 0.25em; line-height: 1; border-radius: 0.35em;\">\n",
       "    2023\n",
       "    <span style=\"font-size: 0.8em; font-weight: bold; line-height: 1; border-radius: 0.35em; vertical-align: middle; margin-left: 0.5rem\">TIME</span>\n",
       "</mark>\n",
       ". At the 96th Academy Awards, the film was nominated for Best Visual Effects.</div></span>"
      ],
      "text/plain": [
       "<IPython.core.display.HTML object>"
      ]
     },
     "metadata": {},
     "output_type": "display_data"
    }
   ],
   "source": [
    "spacy.displacy.render(\n",
    "    doc,\n",
    "    style = \"ent\",\n",
    "    jupyter = True,\n",
    ")"
   ]
  },
  {
   "cell_type": "markdown",
   "id": "0a00fae8-05c6-4354-8d99-9749be61546b",
   "metadata": {},
   "source": [
    "## Using `spacy-dbpedia-spotlight`\n",
    "I am getting hit instantly with \n",
    "```\n",
    "HTTPError: 502 Server Error: Proxy Error for url: https://api.dbpedia-spotlight.org/en/annotate\n",
    "```\n",
    "So I'm running DBpedia locally with docker\n",
    "```sh\n",
    "docker pull dbpedia/dbpedia-spotlight\n",
    "docker volume create spotlight-models\n",
    "docker run -it \\\n",
    " --restart unless-stopped \\\n",
    " --name dbpedia-spotlight.en \\\n",
    " --mount source=spotlight-models,target=/opt/spotlight \\\n",
    " -p 2222:80 \\\n",
    " dbpedia/dbpedia-spotlight \\\n",
    " spotlight.sh en\n",
    "```\n",
    "I needed 16 GB of RAM on Docker Desktop"
   ]
  },
  {
   "cell_type": "code",
   "execution_count": 36,
   "id": "5ce1a6ef-0e71-4075-935e-5c98bf4f64d7",
   "metadata": {
    "execution": {
     "iopub.execute_input": "2024-02-13T11:42:18.547820Z",
     "iopub.status.busy": "2024-02-13T11:42:18.547352Z",
     "iopub.status.idle": "2024-02-13T11:42:21.937643Z",
     "shell.execute_reply": "2024-02-13T11:42:21.937397Z",
     "shell.execute_reply.started": "2024-02-13T11:42:18.547775Z"
    }
   },
   "outputs": [
    {
     "data": {
      "text/plain": [
       "<spacy_dbpedia_spotlight.entity_linker.EntityLinker at 0x32e8d3890>"
      ]
     },
     "execution_count": 36,
     "metadata": {},
     "output_type": "execute_result"
    }
   ],
   "source": [
    "nlp = spacy.load(\"en_core_web_sm\", exclude=[\"ner\"])\n",
    "nlp.add_pipe(\"span_marker\", config={\"model\": \"tomaarsen/span-marker-mbert-base-multinerd\"})\n",
    "# add the pipeline stage\n",
    "nlp.add_pipe(\n",
    "    'dbpedia_spotlight',\n",
    "    config={\n",
    "        'dbpedia_rest_endpoint': 'http://localhost:2222/rest', # for local docker DBpedia\n",
    "        # 'dbpedia_rest_endpoint': 'https://api.dbpedia-spotlight.org/en', # for default with spacy-dbpedia-spotlight\n",
    "        'overwrite_ents': True  # by default is set to True\n",
    "    }  \n",
    ")"
   ]
  },
  {
   "cell_type": "code",
   "execution_count": 37,
   "id": "845e7f30-6828-4625-b380-42c58ba7d57c",
   "metadata": {
    "execution": {
     "iopub.execute_input": "2024-02-13T11:42:21.938453Z",
     "iopub.status.busy": "2024-02-13T11:42:21.938399Z",
     "iopub.status.idle": "2024-02-13T11:42:25.665594Z",
     "shell.execute_reply": "2024-02-13T11:42:25.664941Z",
     "shell.execute_reply.started": "2024-02-13T11:42:21.938445Z"
    }
   },
   "outputs": [],
   "source": [
    "# get the document\n",
    "doc = nlp(paragraph)"
   ]
  },
  {
   "cell_type": "code",
   "execution_count": 38,
   "id": "a760d897-fdc9-4553-aac0-0db4026bdbc6",
   "metadata": {
    "execution": {
     "iopub.execute_input": "2024-02-13T11:42:25.667480Z",
     "iopub.status.busy": "2024-02-13T11:42:25.666628Z",
     "iopub.status.idle": "2024-02-13T11:42:25.679626Z",
     "shell.execute_reply": "2024-02-13T11:42:25.678379Z",
     "shell.execute_reply.started": "2024-02-13T11:42:25.667457Z"
    }
   },
   "outputs": [
    {
     "name": "stdout",
     "output_type": "stream",
     "text": [
      "superhero film DBPEDIA_ENT http://dbpedia.org/resource/Superhero_film 1.0\n",
      "Marvel Comics DBPEDIA_ENT http://dbpedia.org/resource/Marvel_Comics 0.999996715991464\n",
      "superhero DBPEDIA_ENT http://dbpedia.org/resource/Superhero_film 1.0\n",
      "Marvel Studios DBPEDIA_ENT http://dbpedia.org/resource/Marvel_Studios 1.0\n",
      "Walt Disney Studios Motion Pictures DBPEDIA_ENT http://dbpedia.org/resource/Walt_Disney_Studios_Motion_Pictures 1.0\n",
      "Marvel Cinematic Universe DBPEDIA_ENT http://dbpedia.org/resource/Marvel_Cinematic_Universe 1.0\n",
      "James Gunn DBPEDIA_ENT http://dbpedia.org/resource/James_Gunn 1.0\n",
      "ensemble cast DBPEDIA_ENT http://dbpedia.org/resource/Ensemble_cast 1.0\n",
      "Chris Pratt DBPEDIA_ENT http://dbpedia.org/resource/Chris_Pratt 1.0\n",
      "Zoe Saldaña DBPEDIA_ENT http://dbpedia.org/resource/Zoe_Saldaña 0.9999999882111298\n",
      "Dave Bautista DBPEDIA_ENT http://dbpedia.org/resource/Dave_Bautista 1.0\n",
      "Gillan DBPEDIA_ENT http://dbpedia.org/resource/Karen_Gillan 1.0\n",
      "Pom Klementieff DBPEDIA_ENT http://dbpedia.org/resource/Pom_Klementieff 1.0\n",
      "Vin Diesel DBPEDIA_ENT http://dbpedia.org/resource/Vin_Diesel 1.0\n",
      "Bradley Cooper DBPEDIA_ENT http://dbpedia.org/resource/Bradley_Cooper 1.0\n",
      "Will Poulter DBPEDIA_ENT http://dbpedia.org/resource/Will_Poulter 1.0\n",
      "Sean Gunn DBPEDIA_ENT http://dbpedia.org/resource/Sean_Gunn 1.0\n",
      "Chukwudi Iwuji DBPEDIA_ENT http://dbpedia.org/resource/Chukwudi_Iwuji 1.0\n",
      "Linda Cardellini DBPEDIA_ENT http://dbpedia.org/resource/Linda_Cardellini 1.0\n",
      "Nathan Fillion DBPEDIA_ENT http://dbpedia.org/resource/Nathan_Fillion 1.0\n",
      "Sylvester Stallone DBPEDIA_ENT http://dbpedia.org/resource/Sylvester_Stallone 1.0\n",
      "High Evolutionary DBPEDIA_ENT http://dbpedia.org/resource/High_Evolutionary 1.0\n",
      "Gunn DBPEDIA_ENT http://dbpedia.org/resource/Clan_Gunn 0.8750222007289263\n",
      "Disney DBPEDIA_ENT http://dbpedia.org/resource/Walt_Disney_Studios_Motion_Pictures 0.9999999999995453\n",
      "Twitter DBPEDIA_ENT http://dbpedia.org/resource/Twitter 1.0\n",
      "Gunn DBPEDIA_ENT http://dbpedia.org/resource/Clan_Gunn 0.8750222007289263\n",
      "DC DBPEDIA_ENT http://dbpedia.org/resource/DC_Extended_Universe 1.0\n",
      "The Suicide Squad DBPEDIA_ENT http://dbpedia.org/resource/Suicide_Squad 1.0\n",
      "spin-off DBPEDIA_ENT http://dbpedia.org/resource/Sequel 0.9999999999993179\n",
      "Peacemaker DBPEDIA_ENT http://dbpedia.org/resource/Colt_Single_Action_Army 0.9989966965069645\n",
      "Trilith Studios DBPEDIA_ENT http://dbpedia.org/resource/Trilith_Studios 1.0\n",
      "Atlanta, Georgia DBPEDIA_ENT http://dbpedia.org/resource/Atlanta 1.0\n",
      "Disneyland DBPEDIA_ENT http://dbpedia.org/resource/Disneyland 0.8877789836130252\n",
      "Paris DBPEDIA_ENT http://dbpedia.org/resource/Paris 0.9999994890491903\n",
      "United States DBPEDIA_ENT http://dbpedia.org/resource/United_States 0.9999950107209634\n",
      "Academy Awards DBPEDIA_ENT http://dbpedia.org/resource/Academy_Awards 0.9994839262431261\n",
      "Best Visual Effects DBPEDIA_ENT http://dbpedia.org/resource/Academy_Award_for_Best_Visual_Effects 1.0\n"
     ]
    }
   ],
   "source": [
    "for ent in doc.ents:\n",
    "    print(\n",
    "        ent.text,\n",
    "        ent.label_,\n",
    "        ent.kb_id_, \n",
    "        ent._.dbpedia_raw_result['@similarityScore']\n",
    "    )"
   ]
  },
  {
   "cell_type": "code",
   "execution_count": 39,
   "id": "15845ff2-c839-4cd2-a64b-65b8259f8d1e",
   "metadata": {
    "execution": {
     "iopub.execute_input": "2024-02-13T11:42:25.682605Z",
     "iopub.status.busy": "2024-02-13T11:42:25.682090Z",
     "iopub.status.idle": "2024-02-13T11:42:25.694396Z",
     "shell.execute_reply": "2024-02-13T11:42:25.694104Z",
     "shell.execute_reply.started": "2024-02-13T11:42:25.682577Z"
    }
   },
   "outputs": [
    {
     "data": {
      "text/html": [
       "<span class=\"tex2jax_ignore\"><div class=\"entities\" style=\"line-height: 2.5; direction: ltr\">Guardians of the Galaxy Vol. 3 (stylized in marketing as Guardians of the Galaxy Volume 3) is a 2023 American \n",
       "<mark class=\"entity\" style=\"background: #ddd; padding: 0.45em 0.6em; margin: 0 0.25em; line-height: 1; border-radius: 0.35em;\">\n",
       "    superhero film\n",
       "    <span style=\"font-size: 0.8em; font-weight: bold; line-height: 1; border-radius: 0.35em; vertical-align: middle; margin-left: 0.5rem\">DBPEDIA_ENT\n",
       " <a style=\"text-decoration: none; color: inherit; font-weight: normal\" href=\"#\">http://dbpedia.org/resource/Superhero_film</a>\n",
       "</span>\n",
       "</mark>\n",
       " based on the \n",
       "<mark class=\"entity\" style=\"background: #ddd; padding: 0.45em 0.6em; margin: 0 0.25em; line-height: 1; border-radius: 0.35em;\">\n",
       "    Marvel Comics\n",
       "    <span style=\"font-size: 0.8em; font-weight: bold; line-height: 1; border-radius: 0.35em; vertical-align: middle; margin-left: 0.5rem\">DBPEDIA_ENT\n",
       " <a style=\"text-decoration: none; color: inherit; font-weight: normal\" href=\"#\">http://dbpedia.org/resource/Marvel_Comics</a>\n",
       "</span>\n",
       "</mark>\n",
       " \n",
       "<mark class=\"entity\" style=\"background: #ddd; padding: 0.45em 0.6em; margin: 0 0.25em; line-height: 1; border-radius: 0.35em;\">\n",
       "    superhero\n",
       "    <span style=\"font-size: 0.8em; font-weight: bold; line-height: 1; border-radius: 0.35em; vertical-align: middle; margin-left: 0.5rem\">DBPEDIA_ENT\n",
       " <a style=\"text-decoration: none; color: inherit; font-weight: normal\" href=\"#\">http://dbpedia.org/resource/Superhero_film</a>\n",
       "</span>\n",
       "</mark>\n",
       " team Guardians of the Galaxy, produced by \n",
       "<mark class=\"entity\" style=\"background: #ddd; padding: 0.45em 0.6em; margin: 0 0.25em; line-height: 1; border-radius: 0.35em;\">\n",
       "    Marvel Studios\n",
       "    <span style=\"font-size: 0.8em; font-weight: bold; line-height: 1; border-radius: 0.35em; vertical-align: middle; margin-left: 0.5rem\">DBPEDIA_ENT\n",
       " <a style=\"text-decoration: none; color: inherit; font-weight: normal\" href=\"#\">http://dbpedia.org/resource/Marvel_Studios</a>\n",
       "</span>\n",
       "</mark>\n",
       ", and distributed by \n",
       "<mark class=\"entity\" style=\"background: #ddd; padding: 0.45em 0.6em; margin: 0 0.25em; line-height: 1; border-radius: 0.35em;\">\n",
       "    Walt Disney Studios Motion Pictures\n",
       "    <span style=\"font-size: 0.8em; font-weight: bold; line-height: 1; border-radius: 0.35em; vertical-align: middle; margin-left: 0.5rem\">DBPEDIA_ENT\n",
       " <a style=\"text-decoration: none; color: inherit; font-weight: normal\" href=\"#\">http://dbpedia.org/resource/Walt_Disney_Studios_Motion_Pictures</a>\n",
       "</span>\n",
       "</mark>\n",
       ". It is the sequel to Guardians of the Galaxy (2014) and Guardians of the Galaxy Vol. 2 (2017), and the 32nd film in the \n",
       "<mark class=\"entity\" style=\"background: #ddd; padding: 0.45em 0.6em; margin: 0 0.25em; line-height: 1; border-radius: 0.35em;\">\n",
       "    Marvel Cinematic Universe\n",
       "    <span style=\"font-size: 0.8em; font-weight: bold; line-height: 1; border-radius: 0.35em; vertical-align: middle; margin-left: 0.5rem\">DBPEDIA_ENT\n",
       " <a style=\"text-decoration: none; color: inherit; font-weight: normal\" href=\"#\">http://dbpedia.org/resource/Marvel_Cinematic_Universe</a>\n",
       "</span>\n",
       "</mark>\n",
       " (MCU). Written and directed by \n",
       "<mark class=\"entity\" style=\"background: #ddd; padding: 0.45em 0.6em; margin: 0 0.25em; line-height: 1; border-radius: 0.35em;\">\n",
       "    James Gunn\n",
       "    <span style=\"font-size: 0.8em; font-weight: bold; line-height: 1; border-radius: 0.35em; vertical-align: middle; margin-left: 0.5rem\">DBPEDIA_ENT\n",
       " <a style=\"text-decoration: none; color: inherit; font-weight: normal\" href=\"#\">http://dbpedia.org/resource/James_Gunn</a>\n",
       "</span>\n",
       "</mark>\n",
       ", it features an \n",
       "<mark class=\"entity\" style=\"background: #ddd; padding: 0.45em 0.6em; margin: 0 0.25em; line-height: 1; border-radius: 0.35em;\">\n",
       "    ensemble cast\n",
       "    <span style=\"font-size: 0.8em; font-weight: bold; line-height: 1; border-radius: 0.35em; vertical-align: middle; margin-left: 0.5rem\">DBPEDIA_ENT\n",
       " <a style=\"text-decoration: none; color: inherit; font-weight: normal\" href=\"#\">http://dbpedia.org/resource/Ensemble_cast</a>\n",
       "</span>\n",
       "</mark>\n",
       " including \n",
       "<mark class=\"entity\" style=\"background: #ddd; padding: 0.45em 0.6em; margin: 0 0.25em; line-height: 1; border-radius: 0.35em;\">\n",
       "    Chris Pratt\n",
       "    <span style=\"font-size: 0.8em; font-weight: bold; line-height: 1; border-radius: 0.35em; vertical-align: middle; margin-left: 0.5rem\">DBPEDIA_ENT\n",
       " <a style=\"text-decoration: none; color: inherit; font-weight: normal\" href=\"#\">http://dbpedia.org/resource/Chris_Pratt</a>\n",
       "</span>\n",
       "</mark>\n",
       ", \n",
       "<mark class=\"entity\" style=\"background: #ddd; padding: 0.45em 0.6em; margin: 0 0.25em; line-height: 1; border-radius: 0.35em;\">\n",
       "    Zoe Saldaña\n",
       "    <span style=\"font-size: 0.8em; font-weight: bold; line-height: 1; border-radius: 0.35em; vertical-align: middle; margin-left: 0.5rem\">DBPEDIA_ENT\n",
       " <a style=\"text-decoration: none; color: inherit; font-weight: normal\" href=\"#\">http://dbpedia.org/resource/Zoe_Saldaña</a>\n",
       "</span>\n",
       "</mark>\n",
       ", \n",
       "<mark class=\"entity\" style=\"background: #ddd; padding: 0.45em 0.6em; margin: 0 0.25em; line-height: 1; border-radius: 0.35em;\">\n",
       "    Dave Bautista\n",
       "    <span style=\"font-size: 0.8em; font-weight: bold; line-height: 1; border-radius: 0.35em; vertical-align: middle; margin-left: 0.5rem\">DBPEDIA_ENT\n",
       " <a style=\"text-decoration: none; color: inherit; font-weight: normal\" href=\"#\">http://dbpedia.org/resource/Dave_Bautista</a>\n",
       "</span>\n",
       "</mark>\n",
       ", Karen \n",
       "<mark class=\"entity\" style=\"background: #ddd; padding: 0.45em 0.6em; margin: 0 0.25em; line-height: 1; border-radius: 0.35em;\">\n",
       "    Gillan\n",
       "    <span style=\"font-size: 0.8em; font-weight: bold; line-height: 1; border-radius: 0.35em; vertical-align: middle; margin-left: 0.5rem\">DBPEDIA_ENT\n",
       " <a style=\"text-decoration: none; color: inherit; font-weight: normal\" href=\"#\">http://dbpedia.org/resource/Karen_Gillan</a>\n",
       "</span>\n",
       "</mark>\n",
       ", \n",
       "<mark class=\"entity\" style=\"background: #ddd; padding: 0.45em 0.6em; margin: 0 0.25em; line-height: 1; border-radius: 0.35em;\">\n",
       "    Pom Klementieff\n",
       "    <span style=\"font-size: 0.8em; font-weight: bold; line-height: 1; border-radius: 0.35em; vertical-align: middle; margin-left: 0.5rem\">DBPEDIA_ENT\n",
       " <a style=\"text-decoration: none; color: inherit; font-weight: normal\" href=\"#\">http://dbpedia.org/resource/Pom_Klementieff</a>\n",
       "</span>\n",
       "</mark>\n",
       ", \n",
       "<mark class=\"entity\" style=\"background: #ddd; padding: 0.45em 0.6em; margin: 0 0.25em; line-height: 1; border-radius: 0.35em;\">\n",
       "    Vin Diesel\n",
       "    <span style=\"font-size: 0.8em; font-weight: bold; line-height: 1; border-radius: 0.35em; vertical-align: middle; margin-left: 0.5rem\">DBPEDIA_ENT\n",
       " <a style=\"text-decoration: none; color: inherit; font-weight: normal\" href=\"#\">http://dbpedia.org/resource/Vin_Diesel</a>\n",
       "</span>\n",
       "</mark>\n",
       ", \n",
       "<mark class=\"entity\" style=\"background: #ddd; padding: 0.45em 0.6em; margin: 0 0.25em; line-height: 1; border-radius: 0.35em;\">\n",
       "    Bradley Cooper\n",
       "    <span style=\"font-size: 0.8em; font-weight: bold; line-height: 1; border-radius: 0.35em; vertical-align: middle; margin-left: 0.5rem\">DBPEDIA_ENT\n",
       " <a style=\"text-decoration: none; color: inherit; font-weight: normal\" href=\"#\">http://dbpedia.org/resource/Bradley_Cooper</a>\n",
       "</span>\n",
       "</mark>\n",
       ", \n",
       "<mark class=\"entity\" style=\"background: #ddd; padding: 0.45em 0.6em; margin: 0 0.25em; line-height: 1; border-radius: 0.35em;\">\n",
       "    Will Poulter\n",
       "    <span style=\"font-size: 0.8em; font-weight: bold; line-height: 1; border-radius: 0.35em; vertical-align: middle; margin-left: 0.5rem\">DBPEDIA_ENT\n",
       " <a style=\"text-decoration: none; color: inherit; font-weight: normal\" href=\"#\">http://dbpedia.org/resource/Will_Poulter</a>\n",
       "</span>\n",
       "</mark>\n",
       ", \n",
       "<mark class=\"entity\" style=\"background: #ddd; padding: 0.45em 0.6em; margin: 0 0.25em; line-height: 1; border-radius: 0.35em;\">\n",
       "    Sean Gunn\n",
       "    <span style=\"font-size: 0.8em; font-weight: bold; line-height: 1; border-radius: 0.35em; vertical-align: middle; margin-left: 0.5rem\">DBPEDIA_ENT\n",
       " <a style=\"text-decoration: none; color: inherit; font-weight: normal\" href=\"#\">http://dbpedia.org/resource/Sean_Gunn</a>\n",
       "</span>\n",
       "</mark>\n",
       ", \n",
       "<mark class=\"entity\" style=\"background: #ddd; padding: 0.45em 0.6em; margin: 0 0.25em; line-height: 1; border-radius: 0.35em;\">\n",
       "    Chukwudi Iwuji\n",
       "    <span style=\"font-size: 0.8em; font-weight: bold; line-height: 1; border-radius: 0.35em; vertical-align: middle; margin-left: 0.5rem\">DBPEDIA_ENT\n",
       " <a style=\"text-decoration: none; color: inherit; font-weight: normal\" href=\"#\">http://dbpedia.org/resource/Chukwudi_Iwuji</a>\n",
       "</span>\n",
       "</mark>\n",
       ", \n",
       "<mark class=\"entity\" style=\"background: #ddd; padding: 0.45em 0.6em; margin: 0 0.25em; line-height: 1; border-radius: 0.35em;\">\n",
       "    Linda Cardellini\n",
       "    <span style=\"font-size: 0.8em; font-weight: bold; line-height: 1; border-radius: 0.35em; vertical-align: middle; margin-left: 0.5rem\">DBPEDIA_ENT\n",
       " <a style=\"text-decoration: none; color: inherit; font-weight: normal\" href=\"#\">http://dbpedia.org/resource/Linda_Cardellini</a>\n",
       "</span>\n",
       "</mark>\n",
       ", \n",
       "<mark class=\"entity\" style=\"background: #ddd; padding: 0.45em 0.6em; margin: 0 0.25em; line-height: 1; border-radius: 0.35em;\">\n",
       "    Nathan Fillion\n",
       "    <span style=\"font-size: 0.8em; font-weight: bold; line-height: 1; border-radius: 0.35em; vertical-align: middle; margin-left: 0.5rem\">DBPEDIA_ENT\n",
       " <a style=\"text-decoration: none; color: inherit; font-weight: normal\" href=\"#\">http://dbpedia.org/resource/Nathan_Fillion</a>\n",
       "</span>\n",
       "</mark>\n",
       ", and \n",
       "<mark class=\"entity\" style=\"background: #ddd; padding: 0.45em 0.6em; margin: 0 0.25em; line-height: 1; border-radius: 0.35em;\">\n",
       "    Sylvester Stallone\n",
       "    <span style=\"font-size: 0.8em; font-weight: bold; line-height: 1; border-radius: 0.35em; vertical-align: middle; margin-left: 0.5rem\">DBPEDIA_ENT\n",
       " <a style=\"text-decoration: none; color: inherit; font-weight: normal\" href=\"#\">http://dbpedia.org/resource/Sylvester_Stallone</a>\n",
       "</span>\n",
       "</mark>\n",
       ". In the film, the Guardians must save Rocket's (Cooper) life from the \n",
       "<mark class=\"entity\" style=\"background: #ddd; padding: 0.45em 0.6em; margin: 0 0.25em; line-height: 1; border-radius: 0.35em;\">\n",
       "    High Evolutionary\n",
       "    <span style=\"font-size: 0.8em; font-weight: bold; line-height: 1; border-radius: 0.35em; vertical-align: middle; margin-left: 0.5rem\">DBPEDIA_ENT\n",
       " <a style=\"text-decoration: none; color: inherit; font-weight: normal\" href=\"#\">http://dbpedia.org/resource/High_Evolutionary</a>\n",
       "</span>\n",
       "</mark>\n",
       " (Iwuji).<br>\n",
       "<mark class=\"entity\" style=\"background: #ddd; padding: 0.45em 0.6em; margin: 0 0.25em; line-height: 1; border-radius: 0.35em;\">\n",
       "    Gunn\n",
       "    <span style=\"font-size: 0.8em; font-weight: bold; line-height: 1; border-radius: 0.35em; vertical-align: middle; margin-left: 0.5rem\">DBPEDIA_ENT\n",
       " <a style=\"text-decoration: none; color: inherit; font-weight: normal\" href=\"#\">http://dbpedia.org/resource/Clan_Gunn</a>\n",
       "</span>\n",
       "</mark>\n",
       " stated in November 2014 that he had initial ideas for a third and final film in the series, and announced his return to write and direct in April 2017. \n",
       "<mark class=\"entity\" style=\"background: #ddd; padding: 0.45em 0.6em; margin: 0 0.25em; line-height: 1; border-radius: 0.35em;\">\n",
       "    Disney\n",
       "    <span style=\"font-size: 0.8em; font-weight: bold; line-height: 1; border-radius: 0.35em; vertical-align: middle; margin-left: 0.5rem\">DBPEDIA_ENT\n",
       " <a style=\"text-decoration: none; color: inherit; font-weight: normal\" href=\"#\">http://dbpedia.org/resource/Walt_Disney_Studios_Motion_Pictures</a>\n",
       "</span>\n",
       "</mark>\n",
       " fired him from the film in July 2018 following the resurfacing of controversial posts on \n",
       "<mark class=\"entity\" style=\"background: #ddd; padding: 0.45em 0.6em; margin: 0 0.25em; line-height: 1; border-radius: 0.35em;\">\n",
       "    Twitter\n",
       "    <span style=\"font-size: 0.8em; font-weight: bold; line-height: 1; border-radius: 0.35em; vertical-align: middle; margin-left: 0.5rem\">DBPEDIA_ENT\n",
       " <a style=\"text-decoration: none; color: inherit; font-weight: normal\" href=\"#\">http://dbpedia.org/resource/Twitter</a>\n",
       "</span>\n",
       "</mark>\n",
       ", but the studio reversed course by that October and reinstated him. \n",
       "<mark class=\"entity\" style=\"background: #ddd; padding: 0.45em 0.6em; margin: 0 0.25em; line-height: 1; border-radius: 0.35em;\">\n",
       "    Gunn\n",
       "    <span style=\"font-size: 0.8em; font-weight: bold; line-height: 1; border-radius: 0.35em; vertical-align: middle; margin-left: 0.5rem\">DBPEDIA_ENT\n",
       " <a style=\"text-decoration: none; color: inherit; font-weight: normal\" href=\"#\">http://dbpedia.org/resource/Clan_Gunn</a>\n",
       "</span>\n",
       "</mark>\n",
       "'s return was publicly revealed in March 2019, with production resuming after he completed work for \n",
       "<mark class=\"entity\" style=\"background: #ddd; padding: 0.45em 0.6em; margin: 0 0.25em; line-height: 1; border-radius: 0.35em;\">\n",
       "    DC\n",
       "    <span style=\"font-size: 0.8em; font-weight: bold; line-height: 1; border-radius: 0.35em; vertical-align: middle; margin-left: 0.5rem\">DBPEDIA_ENT\n",
       " <a style=\"text-decoration: none; color: inherit; font-weight: normal\" href=\"#\">http://dbpedia.org/resource/DC_Extended_Universe</a>\n",
       "</span>\n",
       "</mark>\n",
       " on \n",
       "<mark class=\"entity\" style=\"background: #ddd; padding: 0.45em 0.6em; margin: 0 0.25em; line-height: 1; border-radius: 0.35em;\">\n",
       "    The Suicide Squad\n",
       "    <span style=\"font-size: 0.8em; font-weight: bold; line-height: 1; border-radius: 0.35em; vertical-align: middle; margin-left: 0.5rem\">DBPEDIA_ENT\n",
       " <a style=\"text-decoration: none; color: inherit; font-weight: normal\" href=\"#\">http://dbpedia.org/resource/Suicide_Squad</a>\n",
       "</span>\n",
       "</mark>\n",
       " (2021) and the first season of its \n",
       "<mark class=\"entity\" style=\"background: #ddd; padding: 0.45em 0.6em; margin: 0 0.25em; line-height: 1; border-radius: 0.35em;\">\n",
       "    spin-off\n",
       "    <span style=\"font-size: 0.8em; font-weight: bold; line-height: 1; border-radius: 0.35em; vertical-align: middle; margin-left: 0.5rem\">DBPEDIA_ENT\n",
       " <a style=\"text-decoration: none; color: inherit; font-weight: normal\" href=\"#\">http://dbpedia.org/resource/Sequel</a>\n",
       "</span>\n",
       "</mark>\n",
       " series \n",
       "<mark class=\"entity\" style=\"background: #ddd; padding: 0.45em 0.6em; margin: 0 0.25em; line-height: 1; border-radius: 0.35em;\">\n",
       "    Peacemaker\n",
       "    <span style=\"font-size: 0.8em; font-weight: bold; line-height: 1; border-radius: 0.35em; vertical-align: middle; margin-left: 0.5rem\">DBPEDIA_ENT\n",
       " <a style=\"text-decoration: none; color: inherit; font-weight: normal\" href=\"#\">http://dbpedia.org/resource/Colt_Single_Action_Army</a>\n",
       "</span>\n",
       "</mark>\n",
       " (2022). Filming began in November 2021 at \n",
       "<mark class=\"entity\" style=\"background: #ddd; padding: 0.45em 0.6em; margin: 0 0.25em; line-height: 1; border-radius: 0.35em;\">\n",
       "    Trilith Studios\n",
       "    <span style=\"font-size: 0.8em; font-weight: bold; line-height: 1; border-radius: 0.35em; vertical-align: middle; margin-left: 0.5rem\">DBPEDIA_ENT\n",
       " <a style=\"text-decoration: none; color: inherit; font-weight: normal\" href=\"#\">http://dbpedia.org/resource/Trilith_Studios</a>\n",
       "</span>\n",
       "</mark>\n",
       " in \n",
       "<mark class=\"entity\" style=\"background: #ddd; padding: 0.45em 0.6em; margin: 0 0.25em; line-height: 1; border-radius: 0.35em;\">\n",
       "    Atlanta, Georgia\n",
       "    <span style=\"font-size: 0.8em; font-weight: bold; line-height: 1; border-radius: 0.35em; vertical-align: middle; margin-left: 0.5rem\">DBPEDIA_ENT\n",
       " <a style=\"text-decoration: none; color: inherit; font-weight: normal\" href=\"#\">http://dbpedia.org/resource/Atlanta</a>\n",
       "</span>\n",
       "</mark>\n",
       ", and lasted until May 2022.<br>Guardians of the Galaxy Vol. 3 premiered at \n",
       "<mark class=\"entity\" style=\"background: #ddd; padding: 0.45em 0.6em; margin: 0 0.25em; line-height: 1; border-radius: 0.35em;\">\n",
       "    Disneyland\n",
       "    <span style=\"font-size: 0.8em; font-weight: bold; line-height: 1; border-radius: 0.35em; vertical-align: middle; margin-left: 0.5rem\">DBPEDIA_ENT\n",
       " <a style=\"text-decoration: none; color: inherit; font-weight: normal\" href=\"#\">http://dbpedia.org/resource/Disneyland</a>\n",
       "</span>\n",
       "</mark>\n",
       " \n",
       "<mark class=\"entity\" style=\"background: #ddd; padding: 0.45em 0.6em; margin: 0 0.25em; line-height: 1; border-radius: 0.35em;\">\n",
       "    Paris\n",
       "    <span style=\"font-size: 0.8em; font-weight: bold; line-height: 1; border-radius: 0.35em; vertical-align: middle; margin-left: 0.5rem\">DBPEDIA_ENT\n",
       " <a style=\"text-decoration: none; color: inherit; font-weight: normal\" href=\"#\">http://dbpedia.org/resource/Paris</a>\n",
       "</span>\n",
       "</mark>\n",
       " on April 22, 2023, and was released in the \n",
       "<mark class=\"entity\" style=\"background: #ddd; padding: 0.45em 0.6em; margin: 0 0.25em; line-height: 1; border-radius: 0.35em;\">\n",
       "    United States\n",
       "    <span style=\"font-size: 0.8em; font-weight: bold; line-height: 1; border-radius: 0.35em; vertical-align: middle; margin-left: 0.5rem\">DBPEDIA_ENT\n",
       " <a style=\"text-decoration: none; color: inherit; font-weight: normal\" href=\"#\">http://dbpedia.org/resource/United_States</a>\n",
       "</span>\n",
       "</mark>\n",
       " on May 5, as part of Phase Five of the MCU. Like its predecessors, it was a critical and commercial success, with many deeming it to be a satisfactory conclusion to the trilogy. It grossed over $848.6 million worldwide, becoming the fourth-highest-grossing film of 2023. At the 96th \n",
       "<mark class=\"entity\" style=\"background: #ddd; padding: 0.45em 0.6em; margin: 0 0.25em; line-height: 1; border-radius: 0.35em;\">\n",
       "    Academy Awards\n",
       "    <span style=\"font-size: 0.8em; font-weight: bold; line-height: 1; border-radius: 0.35em; vertical-align: middle; margin-left: 0.5rem\">DBPEDIA_ENT\n",
       " <a style=\"text-decoration: none; color: inherit; font-weight: normal\" href=\"#\">http://dbpedia.org/resource/Academy_Awards</a>\n",
       "</span>\n",
       "</mark>\n",
       ", the film was nominated for \n",
       "<mark class=\"entity\" style=\"background: #ddd; padding: 0.45em 0.6em; margin: 0 0.25em; line-height: 1; border-radius: 0.35em;\">\n",
       "    Best Visual Effects\n",
       "    <span style=\"font-size: 0.8em; font-weight: bold; line-height: 1; border-radius: 0.35em; vertical-align: middle; margin-left: 0.5rem\">DBPEDIA_ENT\n",
       " <a style=\"text-decoration: none; color: inherit; font-weight: normal\" href=\"#\">http://dbpedia.org/resource/Academy_Award_for_Best_Visual_Effects</a>\n",
       "</span>\n",
       "</mark>\n",
       ".</div></span>"
      ],
      "text/plain": [
       "<IPython.core.display.HTML object>"
      ]
     },
     "metadata": {},
     "output_type": "display_data"
    }
   ],
   "source": [
    "spacy.displacy.render(\n",
    "    doc,\n",
    "    style = \"ent\",\n",
    "    jupyter = True,\n",
    ")"
   ]
  },
  {
   "cell_type": "markdown",
   "id": "19445fad-929d-4efd-9cea-a981920ec8bb",
   "metadata": {},
   "source": [
    "## Using spacy default\n",
    "- [Usage](https://spacy.io/usage/linguistic-features#entity-linking)\n",
    "- [Architecture](https://spacy.io/api/architectures#entitylinker)\n",
    "- [API docs](https://spacy.io/api/entitylinker)\n",
    "- [tutorial](https://github.com/explosion/projects/tree/v3/tutorials/nel_emerson) and [video](https://www.youtube.com/watch?v=8u57WSXVpmw)"
   ]
  },
  {
   "cell_type": "code",
   "execution_count": 61,
   "id": "26834d7e-31ea-42ac-b4ad-afb99f4a38a1",
   "metadata": {
    "execution": {
     "iopub.execute_input": "2024-02-13T13:44:43.577829Z",
     "iopub.status.busy": "2024-02-13T13:44:43.576190Z",
     "iopub.status.idle": "2024-02-13T13:44:43.592386Z",
     "shell.execute_reply": "2024-02-13T13:44:43.591694Z",
     "shell.execute_reply.started": "2024-02-13T13:44:43.577759Z"
    }
   },
   "outputs": [],
   "source": [
    "from spacy.kb import KnowledgeBase, InMemoryLookupKB\n",
    "kb = InMemoryLookupKB(vocab=nlp.vocab, entity_vector_length=96)"
   ]
  },
  {
   "cell_type": "code",
   "execution_count": 62,
   "id": "01f048e8-806b-4c4f-b597-3597f7181ed0",
   "metadata": {
    "execution": {
     "iopub.execute_input": "2024-02-13T13:44:43.999364Z",
     "iopub.status.busy": "2024-02-13T13:44:43.998842Z",
     "iopub.status.idle": "2024-02-13T13:44:44.012942Z",
     "shell.execute_reply": "2024-02-13T13:44:44.012029Z",
     "shell.execute_reply.started": "2024-02-13T13:44:43.999319Z"
    }
   },
   "outputs": [],
   "source": [
    "import csv\n",
    "from pathlib import Path\n",
    "\n",
    "def load_entities():\n",
    "    entities_loc = Path.cwd().parent / \"data\" / \"kb\" / \"entities.csv\"  # distributed alongside this notebook\n",
    "\n",
    "    names = dict()\n",
    "    descriptions = dict()\n",
    "    with entities_loc.open(\"r\", encoding=\"utf8\") as csvfile:\n",
    "        csvreader = csv.reader(csvfile, delimiter=\",\")\n",
    "        for row in csvreader:\n",
    "            qid = row[0]\n",
    "            name = row[1]\n",
    "            desc = row[2]\n",
    "            names[qid] = name\n",
    "            descriptions[qid] = desc\n",
    "    return names, descriptions"
   ]
  },
  {
   "cell_type": "code",
   "execution_count": 63,
   "id": "af7fe32f-b42f-4ba3-a42b-1c00533c86cd",
   "metadata": {
    "execution": {
     "iopub.execute_input": "2024-02-13T13:44:46.145680Z",
     "iopub.status.busy": "2024-02-13T13:44:46.144820Z",
     "iopub.status.idle": "2024-02-13T13:44:50.574288Z",
     "shell.execute_reply": "2024-02-13T13:44:50.573821Z",
     "shell.execute_reply.started": "2024-02-13T13:44:46.145639Z"
    }
   },
   "outputs": [],
   "source": [
    "name_dict, desc_dict = load_entities()\n",
    "\n",
    "for qid, desc in desc_dict.items():\n",
    "    desc_doc = nlp(desc)\n",
    "    desc_enc = desc_doc.vector\n",
    "    kb.add_entity(entity=qid, entity_vector=desc_enc, freq=342)   # 342 is an arbitrary value here"
   ]
  },
  {
   "cell_type": "code",
   "execution_count": 64,
   "id": "17c72ea1-ab95-410e-963e-43ea29636d2e",
   "metadata": {
    "execution": {
     "iopub.execute_input": "2024-02-13T13:44:50.575323Z",
     "iopub.status.busy": "2024-02-13T13:44:50.575220Z",
     "iopub.status.idle": "2024-02-13T13:44:50.578164Z",
     "shell.execute_reply": "2024-02-13T13:44:50.577781Z",
     "shell.execute_reply.started": "2024-02-13T13:44:50.575309Z"
    }
   },
   "outputs": [],
   "source": [
    "for qid, name in name_dict.items():\n",
    "    kb.add_alias(alias=name, entities=[qid], probabilities=[1])   # 100% prior probability P(entity|alias)"
   ]
  },
  {
   "cell_type": "code",
   "execution_count": 66,
   "id": "3fcc3d51-f587-4d5c-8451-73c044dfbc3a",
   "metadata": {
    "execution": {
     "iopub.execute_input": "2024-02-13T13:46:19.801618Z",
     "iopub.status.busy": "2024-02-13T13:46:19.801021Z",
     "iopub.status.idle": "2024-02-13T13:46:19.815129Z",
     "shell.execute_reply": "2024-02-13T13:46:19.814591Z",
     "shell.execute_reply.started": "2024-02-13T13:46:19.801566Z"
    }
   },
   "outputs": [
    {
     "data": {
      "text/plain": [
       "10856056131304768290"
      ]
     },
     "execution_count": 66,
     "metadata": {},
     "output_type": "execute_result"
    }
   ],
   "source": [
    "# adding aliases for DC\n",
    "kb.add_alias(alias=\"DC\", entities=[\"Q2924461\", \"Q1152150\", \"Q61\", \"Q159241\"], probabilities=[0.20]*4)"
   ]
  },
  {
   "cell_type": "code",
   "execution_count": 73,
   "id": "3f8ef062-e7a6-4c7c-a1a2-72597392b380",
   "metadata": {
    "execution": {
     "iopub.execute_input": "2024-02-13T13:49:20.285776Z",
     "iopub.status.busy": "2024-02-13T13:49:20.284692Z",
     "iopub.status.idle": "2024-02-13T13:49:20.300179Z",
     "shell.execute_reply": "2024-02-13T13:49:20.298634Z",
     "shell.execute_reply.started": "2024-02-13T13:49:20.285746Z"
    }
   },
   "outputs": [
    {
     "data": {
      "text/plain": [
       "['Q2924461', 'Q1152150', 'Q61', 'Q159241']"
      ]
     },
     "execution_count": 73,
     "metadata": {},
     "output_type": "execute_result"
    }
   ],
   "source": [
    "[c.entity_ for c in kb.get_alias_candidates('DC')]"
   ]
  },
  {
   "cell_type": "code",
   "execution_count": 69,
   "id": "46bbfc45-bca8-4e32-9d61-8780743c0bfb",
   "metadata": {
    "execution": {
     "iopub.execute_input": "2024-02-13T13:47:46.647118Z",
     "iopub.status.busy": "2024-02-13T13:47:46.645635Z",
     "iopub.status.idle": "2024-02-13T13:47:46.690006Z",
     "shell.execute_reply": "2024-02-13T13:47:46.689701Z",
     "shell.execute_reply.started": "2024-02-13T13:47:46.647031Z"
    }
   },
   "outputs": [],
   "source": [
    "import os\n",
    "output_dir = Path.cwd().parent / \"data\" / \"kb\" / \"my_output\"\n",
    "if not os.path.exists(output_dir):\n",
    "    os.mkdir(output_dir) \n",
    "kb.to_disk(output_dir / \"my_kb\")"
   ]
  },
  {
   "cell_type": "code",
   "execution_count": 70,
   "id": "58dca65f-82ed-4ece-acc4-b01316051a9a",
   "metadata": {
    "execution": {
     "iopub.execute_input": "2024-02-13T13:47:48.958562Z",
     "iopub.status.busy": "2024-02-13T13:47:48.958028Z",
     "iopub.status.idle": "2024-02-13T13:47:49.059845Z",
     "shell.execute_reply": "2024-02-13T13:47:49.059545Z",
     "shell.execute_reply.started": "2024-02-13T13:47:48.958526Z"
    }
   },
   "outputs": [],
   "source": [
    "nlp.to_disk(output_dir / \"my_nlp\")"
   ]
  },
  {
   "cell_type": "code",
   "execution_count": null,
   "id": "6ba13853-82e8-4bed-acee-cfce3f3f351d",
   "metadata": {},
   "outputs": [],
   "source": []
  },
  {
   "cell_type": "markdown",
   "id": "a9c28476-fe9b-4743-9006-94589ff53f3f",
   "metadata": {},
   "source": [
    "## Using integrated library `textgraphs`\n"
   ]
  },
  {
   "cell_type": "code",
   "execution_count": 12,
   "id": "016b9e50-24fa-4a44-85c2-304b30dafc12",
   "metadata": {
    "execution": {
     "iopub.execute_input": "2024-02-12T19:03:09.824095Z",
     "iopub.status.busy": "2024-02-12T19:03:09.823479Z",
     "iopub.status.idle": "2024-02-12T19:03:32.571775Z",
     "shell.execute_reply": "2024-02-12T19:03:32.571446Z",
     "shell.execute_reply.started": "2024-02-12T19:03:09.823999Z"
    }
   },
   "outputs": [],
   "source": [
    "tg: textgraphs.TextGraphs = textgraphs.TextGraphs(\n",
    "     factory = textgraphs.PipelineFactory(\n",
    "        ner = textgraphs.NERSpanMarker(ner_model=\"tomaarsen/span-marker-mbert-base-multinerd\"),\n",
    "        kg = textgraphs.KGWikiMedia(\n",
    "            spotlight_api = textgraphs.DBPEDIA_SPOTLIGHT_API,\n",
    "            dbpedia_search_api = textgraphs.DBPEDIA_SEARCH_API,\n",
    "            dbpedia_sparql_api = textgraphs.DBPEDIA_SPARQL_API,\n",
    "            wikidata_api = textgraphs.WIKIDATA_API,\n",
    "            min_alias = textgraphs.DBPEDIA_MIN_ALIAS,\n",
    "            min_similarity = textgraphs.DBPEDIA_MIN_SIM,\n",
    "        ),\n",
    "        infer_rels = [\n",
    "    \t\ttextgraphs.InferRel_OpenNRE(\n",
    "                model = textgraphs.OPENNRE_MODEL,\n",
    "                max_skip = textgraphs.MAX_SKIP,\n",
    "                min_prob = textgraphs.OPENNRE_MIN_PROB,\n",
    "    \t\t),\n",
    "            textgraphs.InferRel_Rebel(\n",
    "                lang = \"en_XX\",\n",
    "                mrebel_model = textgraphs.MREBEL_MODEL,\n",
    "            ),\n",
    "        ],\n",
    "     )\n",
    ")"
   ]
  },
  {
   "cell_type": "code",
   "execution_count": 13,
   "id": "210aadb5-0b6a-4a0e-af0d-6db38b5b40a5",
   "metadata": {
    "execution": {
     "iopub.execute_input": "2024-02-12T19:03:32.572675Z",
     "iopub.status.busy": "2024-02-12T19:03:32.572612Z",
     "iopub.status.idle": "2024-02-12T19:03:40.701256Z",
     "shell.execute_reply": "2024-02-12T19:03:40.700379Z",
     "shell.execute_reply.started": "2024-02-12T19:03:32.572666Z"
    }
   },
   "outputs": [],
   "source": [
    "pipe: textgraphs.Pipeline = tg.create_pipeline(paragraph)"
   ]
  },
  {
   "cell_type": "code",
   "execution_count": null,
   "id": "50270894-396b-404b-9af9-472639d31011",
   "metadata": {},
   "outputs": [],
   "source": []
  },
  {
   "cell_type": "markdown",
   "id": "3740e325-3ab2-4126-9ee2-f3410dec3d9a",
   "metadata": {},
   "source": [
    "TODO:\n",
    "\n",
    "- ( ) understand \"perform entity linking: spaCy-DBpedia-Spotlight, WikiMedia API, etc.\"\n",
    "- ( ) understand \"infer relations, plus graph inference: REBEL, OpenNRE, qwikidata, etc.\"\n",
    "- ( ) understand \"approximate a pareto archive (hypervolume) to re-rank extracted entities with pulp\"\n"
   ]
  },
  {
   "cell_type": "code",
   "execution_count": 14,
   "id": "baf16609-5ed1-48b9-b4e9-dff8df8c09eb",
   "metadata": {
    "execution": {
     "iopub.execute_input": "2024-02-12T19:04:16.019318Z",
     "iopub.status.busy": "2024-02-12T19:04:16.018408Z",
     "iopub.status.idle": "2024-02-12T19:04:16.072467Z",
     "shell.execute_reply": "2024-02-12T19:04:16.071791Z",
     "shell.execute_reply.started": "2024-02-12T19:04:16.019267Z"
    }
   },
   "outputs": [
    {
     "ename": "IndexError",
     "evalue": "list index out of range",
     "output_type": "error",
     "traceback": [
      "\u001b[0;31m---------------------------------------------------------------------------\u001b[0m",
      "\u001b[0;31mIndexError\u001b[0m                                Traceback (most recent call last)",
      "Cell \u001b[0;32mIn[14], line 1\u001b[0m\n\u001b[0;32m----> 1\u001b[0m \u001b[43mtg\u001b[49m\u001b[38;5;241;43m.\u001b[39;49m\u001b[43mcollect_graph_elements\u001b[49m\u001b[43m(\u001b[49m\n\u001b[1;32m      2\u001b[0m \u001b[43m    \u001b[49m\u001b[43mpipe\u001b[49m\u001b[43m,\u001b[49m\n\u001b[1;32m      3\u001b[0m \u001b[43m    \u001b[49m\u001b[43mdebug\u001b[49m\u001b[43m \u001b[49m\u001b[38;5;241;43m=\u001b[39;49m\u001b[43m \u001b[49m\u001b[38;5;28;43;01mFalse\u001b[39;49;00m\u001b[43m,\u001b[49m\n\u001b[1;32m      4\u001b[0m \u001b[43m)\u001b[49m\n",
      "File \u001b[0;32m~/workspace/mlops-talk-llm-kg/venv/lib/python3.11/site-packages/textgraphs/doc.py:451\u001b[0m, in \u001b[0;36mTextGraphs.collect_graph_elements\u001b[0;34m(self, pipe, text_id, para_id, debug)\u001b[0m\n\u001b[1;32m    446\u001b[0m \u001b[38;5;28;01mif\u001b[39;00m debug:\n\u001b[1;32m    447\u001b[0m     ic(node, \u001b[38;5;28mlen\u001b[39m(sent_nodes), node\u001b[38;5;241m.\u001b[39mspan\u001b[38;5;241m.\u001b[39mhead\u001b[38;5;241m.\u001b[39mi, node\u001b[38;5;241m.\u001b[39mspan\u001b[38;5;241m.\u001b[39mhead\u001b[38;5;241m.\u001b[39mtext, head_idx)  \u001b[38;5;66;03m# type: ignore  # pylint: disable=C0301\u001b[39;00m\n\u001b[1;32m    449\u001b[0m edge: Edge \u001b[38;5;241m=\u001b[39m \u001b[38;5;28mself\u001b[39m\u001b[38;5;241m.\u001b[39mmake_edge(  \u001b[38;5;66;03m# type: ignore\u001b[39;00m\n\u001b[1;32m    450\u001b[0m     node,\n\u001b[0;32m--> 451\u001b[0m     \u001b[43msent_nodes\u001b[49m\u001b[43m[\u001b[49m\u001b[43mhead_idx\u001b[49m\u001b[43m]\u001b[49m,\n\u001b[1;32m    452\u001b[0m     RelEnum\u001b[38;5;241m.\u001b[39mDEP,\n\u001b[1;32m    453\u001b[0m     node\u001b[38;5;241m.\u001b[39mspan\u001b[38;5;241m.\u001b[39mdep_,  \u001b[38;5;66;03m# type: ignore\u001b[39;00m\n\u001b[1;32m    454\u001b[0m     \u001b[38;5;241m1.0\u001b[39m,\n\u001b[1;32m    455\u001b[0m     debug \u001b[38;5;241m=\u001b[39m debug,\n\u001b[1;32m    456\u001b[0m )\n\u001b[1;32m    458\u001b[0m \u001b[38;5;28;01mif\u001b[39;00m edge \u001b[38;5;129;01mis\u001b[39;00m \u001b[38;5;129;01mnot\u001b[39;00m \u001b[38;5;28;01mNone\u001b[39;00m:\n\u001b[1;32m    459\u001b[0m     pipe\u001b[38;5;241m.\u001b[39medges\u001b[38;5;241m.\u001b[39mappend(edge)\n",
      "\u001b[0;31mIndexError\u001b[0m: list index out of range"
     ]
    }
   ],
   "source": [
    "tg.collect_graph_elements(\n",
    "    pipe,\n",
    "    debug = False,\n",
    ")"
   ]
  },
  {
   "cell_type": "code",
   "execution_count": 15,
   "id": "eb3c4b4a-2d44-431d-af6e-8d346f594191",
   "metadata": {
    "execution": {
     "iopub.execute_input": "2024-02-12T19:04:18.275435Z",
     "iopub.status.busy": "2024-02-12T19:04:18.274860Z",
     "iopub.status.idle": "2024-02-12T19:05:28.330027Z",
     "shell.execute_reply": "2024-02-12T19:05:28.329031Z",
     "shell.execute_reply.started": "2024-02-12T19:04:18.275394Z"
    }
   },
   "outputs": [
    {
     "name": "stderr",
     "output_type": "stream",
     "text": [
      "ic| ex: KeyError('redirectlabel')\n",
      "Traceback (most recent call last):\n",
      "  File \"/Users/louis.guitton/workspace/mlops-talk-llm-kg/venv/lib/python3.11/site-packages/textgraphs/kg.py\", line 704, in dbpedia_search_entity\n",
      "    for alias in hit[\"redirectlabel\"]\n",
      "                 ~~~^^^^^^^^^^^^^^^^^\n",
      "KeyError: 'redirectlabel'\n",
      "ic| ex: KeyError('redirectlabel')\n",
      "Traceback (most recent call last):\n",
      "  File \"/Users/louis.guitton/workspace/mlops-talk-llm-kg/venv/lib/python3.11/site-packages/textgraphs/kg.py\", line 704, in dbpedia_search_entity\n",
      "    for alias in hit[\"redirectlabel\"]\n",
      "                 ~~~^^^^^^^^^^^^^^^^^\n",
      "KeyError: 'redirectlabel'\n"
     ]
    },
    {
     "ename": "AttributeError",
     "evalue": "'NoneType' object has no attribute 'prob'",
     "output_type": "error",
     "traceback": [
      "\u001b[0;31m---------------------------------------------------------------------------\u001b[0m",
      "\u001b[0;31mAttributeError\u001b[0m                            Traceback (most recent call last)",
      "Cell \u001b[0;32mIn[15], line 1\u001b[0m\n\u001b[0;32m----> 1\u001b[0m \u001b[43mtg\u001b[49m\u001b[38;5;241;43m.\u001b[39;49m\u001b[43mperform_entity_linking\u001b[49m\u001b[43m(\u001b[49m\n\u001b[1;32m      2\u001b[0m \u001b[43m    \u001b[49m\u001b[43mpipe\u001b[49m\u001b[43m,\u001b[49m\n\u001b[1;32m      3\u001b[0m \u001b[43m    \u001b[49m\u001b[43mdebug\u001b[49m\u001b[43m \u001b[49m\u001b[38;5;241;43m=\u001b[39;49m\u001b[43m \u001b[49m\u001b[38;5;28;43;01mFalse\u001b[39;49;00m\u001b[43m,\u001b[49m\n\u001b[1;32m      4\u001b[0m \u001b[43m)\u001b[49m\n",
      "File \u001b[0;32m~/workspace/mlops-talk-llm-kg/venv/lib/python3.11/site-packages/textgraphs/doc.py:551\u001b[0m, in \u001b[0;36mTextGraphs.perform_entity_linking\u001b[0;34m(self, pipe, debug)\u001b[0m\n\u001b[1;32m    534\u001b[0m     \u001b[38;5;28;01mdef\u001b[39;00m \u001b[38;5;21mperform_entity_linking\u001b[39m (\n\u001b[1;32m    535\u001b[0m         \u001b[38;5;28mself\u001b[39m,\n\u001b[1;32m    536\u001b[0m         pipe: Pipeline,\n\u001b[1;32m    537\u001b[0m         \u001b[38;5;241m*\u001b[39m,\n\u001b[1;32m    538\u001b[0m         debug: \u001b[38;5;28mbool\u001b[39m \u001b[38;5;241m=\u001b[39m \u001b[38;5;28;01mFalse\u001b[39;00m,\n\u001b[1;32m    539\u001b[0m         ) \u001b[38;5;241m-\u001b[39m\u001b[38;5;241m>\u001b[39m \u001b[38;5;28;01mNone\u001b[39;00m:\n\u001b[1;32m    540\u001b[0m \u001b[38;5;250m        \u001b[39m\u001b[38;5;124;03m\"\"\"\u001b[39;00m\n\u001b[1;32m    541\u001b[0m \u001b[38;5;124;03mPerform _entity linking_ based on the `KnowledgeGraph` object.\u001b[39;00m\n\u001b[1;32m    542\u001b[0m \n\u001b[0;32m   (...)\u001b[0m\n\u001b[1;32m    549\u001b[0m \u001b[38;5;124;03mdebugging flag\u001b[39;00m\n\u001b[1;32m    550\u001b[0m \u001b[38;5;124;03m        \"\"\"\u001b[39;00m\n\u001b[0;32m--> 551\u001b[0m         \u001b[43mpipe\u001b[49m\u001b[38;5;241;43m.\u001b[39;49m\u001b[43mkg\u001b[49m\u001b[38;5;241;43m.\u001b[39;49m\u001b[43mperform_entity_linking\u001b[49m\u001b[43m(\u001b[49m\n\u001b[1;32m    552\u001b[0m \u001b[43m            \u001b[49m\u001b[38;5;28;43mself\u001b[39;49m\u001b[43m,\u001b[49m\n\u001b[1;32m    553\u001b[0m \u001b[43m            \u001b[49m\u001b[43mpipe\u001b[49m\u001b[43m,\u001b[49m\n\u001b[1;32m    554\u001b[0m \u001b[43m            \u001b[49m\u001b[43mdebug\u001b[49m\u001b[43m \u001b[49m\u001b[38;5;241;43m=\u001b[39;49m\u001b[43m \u001b[49m\u001b[43mdebug\u001b[49m\u001b[43m,\u001b[49m\n\u001b[1;32m    555\u001b[0m \u001b[43m        \u001b[49m\u001b[43m)\u001b[49m\n\u001b[1;32m    557\u001b[0m         \u001b[38;5;66;03m# by default, link the baseline semantics\u001b[39;00m\n\u001b[1;32m    558\u001b[0m         \u001b[38;5;28;01mfor\u001b[39;00m node \u001b[38;5;129;01min\u001b[39;00m pipe\u001b[38;5;241m.\u001b[39mtokens:\n",
      "File \u001b[0;32m~/workspace/mlops-talk-llm-kg/venv/lib/python3.11/site-packages/textgraphs/kg.py:353\u001b[0m, in \u001b[0;36mKGWikiMedia.perform_entity_linking\u001b[0;34m(self, graph, pipe, debug)\u001b[0m\n\u001b[1;32m    347\u001b[0m \u001b[38;5;66;03m# second pass: use KG search on entities which weren't linked by Spotlight\u001b[39;00m\n\u001b[1;32m    348\u001b[0m iter_ents \u001b[38;5;241m=\u001b[39m \u001b[38;5;28mself\u001b[39m\u001b[38;5;241m.\u001b[39m_link_kg_search_entities(\n\u001b[1;32m    349\u001b[0m     pipe,\n\u001b[1;32m    350\u001b[0m     debug \u001b[38;5;241m=\u001b[39m debug,\n\u001b[1;32m    351\u001b[0m )\n\u001b[0;32m--> 353\u001b[0m \u001b[43m\u001b[49m\u001b[38;5;28;43;01mfor\u001b[39;49;00m\u001b[43m \u001b[49m\u001b[43mlink\u001b[49m\u001b[43m \u001b[49m\u001b[38;5;129;43;01min\u001b[39;49;00m\u001b[43m \u001b[49m\u001b[43miter_ents\u001b[49m\u001b[43m:\u001b[49m\n\u001b[1;32m    354\u001b[0m \u001b[43m    \u001b[49m\u001b[43m_\u001b[49m\u001b[43m \u001b[49m\u001b[38;5;241;43m=\u001b[39;49m\u001b[43m \u001b[49m\u001b[38;5;28;43mself\u001b[39;49m\u001b[38;5;241;43m.\u001b[39;49m\u001b[43m_make_link\u001b[49m\u001b[43m(\u001b[49m\n\u001b[1;32m    355\u001b[0m \u001b[43m        \u001b[49m\u001b[43mgraph\u001b[49m\u001b[43m,\u001b[49m\n\u001b[1;32m    356\u001b[0m \u001b[43m        \u001b[49m\u001b[43mpipe\u001b[49m\u001b[43m,\u001b[49m\n\u001b[0;32m   (...)\u001b[0m\n\u001b[1;32m    359\u001b[0m \u001b[43m        \u001b[49m\u001b[43mdebug\u001b[49m\u001b[43m \u001b[49m\u001b[38;5;241;43m=\u001b[39;49m\u001b[43m \u001b[49m\u001b[43mdebug\u001b[49m\u001b[43m,\u001b[49m\n\u001b[1;32m    360\u001b[0m \u001b[43m    \u001b[49m\u001b[43m)\u001b[49m\n\u001b[1;32m    362\u001b[0m \u001b[43m    \u001b[49m\u001b[43m_\u001b[49m\u001b[43m \u001b[49m\u001b[38;5;241;43m=\u001b[39;49m\u001b[43m \u001b[49m\u001b[38;5;28;43mself\u001b[39;49m\u001b[38;5;241;43m.\u001b[39;49m\u001b[43m_secondary_entity_linking\u001b[49m\u001b[43m(\u001b[49m\n\u001b[1;32m    363\u001b[0m \u001b[43m        \u001b[49m\u001b[43mgraph\u001b[49m\u001b[43m,\u001b[49m\n\u001b[1;32m    364\u001b[0m \u001b[43m        \u001b[49m\u001b[43mpipe\u001b[49m\u001b[43m,\u001b[49m\n\u001b[1;32m    365\u001b[0m \u001b[43m        \u001b[49m\u001b[43mlink\u001b[49m\u001b[43m,\u001b[49m\n\u001b[1;32m    366\u001b[0m \u001b[43m        \u001b[49m\u001b[43mdebug\u001b[49m\u001b[43m \u001b[49m\u001b[38;5;241;43m=\u001b[39;49m\u001b[43m \u001b[49m\u001b[43mdebug\u001b[49m\u001b[43m,\u001b[49m\n\u001b[1;32m    367\u001b[0m \u001b[43m    \u001b[49m\u001b[43m)\u001b[49m\n",
      "File \u001b[0;32m~/workspace/mlops-talk-llm-kg/venv/lib/python3.11/site-packages/textgraphs/kg.py:961\u001b[0m, in \u001b[0;36mKGWikiMedia._link_kg_search_entities\u001b[0;34m(self, pipe, debug)\u001b[0m\n\u001b[1;32m    955\u001b[0m \u001b[38;5;28;01mif\u001b[39;00m node\u001b[38;5;241m.\u001b[39mkind \u001b[38;5;129;01min\u001b[39;00m [ NodeEnum\u001b[38;5;241m.\u001b[39mENT ] \u001b[38;5;129;01mand\u001b[39;00m \u001b[38;5;28mlen\u001b[39m(node\u001b[38;5;241m.\u001b[39mentity) \u001b[38;5;241m<\u001b[39m \u001b[38;5;241m1\u001b[39m:\n\u001b[1;32m    956\u001b[0m     kg_ent: typing\u001b[38;5;241m.\u001b[39mOptional[ KGSearchHit ] \u001b[38;5;241m=\u001b[39m \u001b[38;5;28mself\u001b[39m\u001b[38;5;241m.\u001b[39mdbpedia_search_entity(  \u001b[38;5;66;03m# type: ignore  # pylint: disable=C0301\u001b[39;00m\n\u001b[1;32m    957\u001b[0m         node\u001b[38;5;241m.\u001b[39mtext,\n\u001b[1;32m    958\u001b[0m         debug \u001b[38;5;241m=\u001b[39m debug,\n\u001b[1;32m    959\u001b[0m     )\n\u001b[0;32m--> 961\u001b[0m     \u001b[38;5;28;01mif\u001b[39;00m \u001b[43mkg_ent\u001b[49m\u001b[38;5;241;43m.\u001b[39;49m\u001b[43mprob\u001b[49m \u001b[38;5;241m>\u001b[39m \u001b[38;5;28mself\u001b[39m\u001b[38;5;241m.\u001b[39mmin_alias:  \u001b[38;5;66;03m# type: ignore\u001b[39;00m\n\u001b[1;32m    962\u001b[0m         dbp_link: LinkedEntity \u001b[38;5;241m=\u001b[39m LinkedEntity(\n\u001b[1;32m    963\u001b[0m             node\u001b[38;5;241m.\u001b[39mspan,\n\u001b[1;32m    964\u001b[0m             kg_ent\u001b[38;5;241m.\u001b[39miri,  \u001b[38;5;66;03m# type: ignore\u001b[39;00m\n\u001b[0;32m   (...)\u001b[0m\n\u001b[1;32m    969\u001b[0m             kg_ent,  \u001b[38;5;66;03m# type: ignore\u001b[39;00m\n\u001b[1;32m    970\u001b[0m         )\n\u001b[1;32m    972\u001b[0m         \u001b[38;5;28;01mif\u001b[39;00m debug:\n",
      "\u001b[0;31mAttributeError\u001b[0m: 'NoneType' object has no attribute 'prob'"
     ]
    }
   ],
   "source": [
    "tg.perform_entity_linking(\n",
    "    pipe,\n",
    "    debug = False,\n",
    ")"
   ]
  },
  {
   "cell_type": "code",
   "execution_count": null,
   "id": "cc58cab8-b4bc-4885-bc82-e51081f8781d",
   "metadata": {},
   "outputs": [],
   "source": []
  }
 ],
 "metadata": {
  "kernelspec": {
   "display_name": "Python 3 (ipykernel)",
   "language": "python",
   "name": "python3"
  },
  "language_info": {
   "codemirror_mode": {
    "name": "ipython",
    "version": 3
   },
   "file_extension": ".py",
   "mimetype": "text/x-python",
   "name": "python",
   "nbconvert_exporter": "python",
   "pygments_lexer": "ipython3",
   "version": "3.11.4"
  }
 },
 "nbformat": 4,
 "nbformat_minor": 5
}
