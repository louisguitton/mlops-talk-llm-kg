{
 "cells": [
  {
   "cell_type": "code",
   "execution_count": 1,
   "id": "5f04381e-896a-4ee4-913d-07b23e5ee1b5",
   "metadata": {},
   "outputs": [],
   "source": [
    "import logging\n",
    "import sys\n",
    "\n",
    "logging.basicConfig(\n",
    "    stream=sys.stdout, level=logging.INFO\n",
    ")"
   ]
  },
  {
   "cell_type": "markdown",
   "id": "bac12660-412e-44d8-aafe-b83a1f0f5eab",
   "metadata": {},
   "source": [
    "## 1. Preparation\n",
    "### 1.1 Prepare LLM"
   ]
  },
  {
   "cell_type": "code",
   "execution_count": 2,
   "id": "60720ddb-2a55-4b97-a0de-e15be24a57b5",
   "metadata": {},
   "outputs": [],
   "source": [
    "from llama_index.llms import Ollama\n",
    "\n",
    "OLLAMA_HOST = 'localhost'\n",
    "OLLAMA_MODEL = 'mistral'\n",
    "llm = Ollama(model=OLLAMA_MODEL, base_url=\"http://\"+OLLAMA_HOST+\":11434\")"
   ]
  },
  {
   "cell_type": "code",
   "execution_count": 3,
   "id": "01bb1371-01bf-40cb-b56a-58bc219ba532",
   "metadata": {},
   "outputs": [
    {
     "name": "stderr",
     "output_type": "stream",
     "text": [
      "/Users/louis.guitton/workspace/mlops-talk-llm-kg/venv/lib/python3.9/site-packages/tqdm/auto.py:21: TqdmWarning: IProgress not found. Please update jupyter and ipywidgets. See https://ipywidgets.readthedocs.io/en/stable/user_install.html\n",
      "  from .autonotebook import tqdm as notebook_tqdm\n"
     ]
    }
   ],
   "source": [
    "from llama_index import ServiceContext\n",
    "service_context = ServiceContext.from_defaults(\n",
    "    llm=llm, \n",
    "    embed_model=\"local\",\n",
    "    # chunk_size=512\n",
    ")"
   ]
  },
  {
   "cell_type": "markdown",
   "id": "d285d07a-8d12-4dee-b3cf-4fd1e1a863b5",
   "metadata": {},
   "source": [
    "### 1.2 Prepare Graph Store\n",
    "`Neo4j` is supported as a graph store integration. You can persist, visualize, and query graphs using LlamaIndex and Neo4j. Furthermore, existing Neo4j graphs are directly supported using `text2cypher` and the `KnowledgeGraphQueryEngine`.\n",
    "\n",
    "If you’ve never used Neo4j before, you can download the desktop client [here](https://neo4j.com/download/).\n",
    "\n",
    "Once you open the client, create a new project and install the `apoc` integration. Full instructions here. Just click on your project, select `Plugins` on the left side menu, install APOC and restart your server."
   ]
  },
  {
   "cell_type": "code",
   "execution_count": 38,
   "id": "adae3443-e3df-46aa-9be4-ebf1a04d943d",
   "metadata": {},
   "outputs": [],
   "source": [
    "import os"
   ]
  },
  {
   "cell_type": "code",
   "execution_count": 13,
   "id": "c5d15c05-009d-4677-b1a9-1da5ed67651a",
   "metadata": {},
   "outputs": [
    {
     "name": "stdout",
     "output_type": "stream",
     "text": [
      "Requirement already satisfied: neo4j in /Users/louis.guitton/workspace/mlops-talk-llm-kg/venv/lib/python3.9/site-packages (5.17.0)\n",
      "Requirement already satisfied: pytz in /Users/louis.guitton/workspace/mlops-talk-llm-kg/venv/lib/python3.9/site-packages (from neo4j) (2023.3.post1)\n",
      "\u001b[33mWARNING: You are using pip version 22.0.4; however, version 24.0 is available.\n",
      "You should consider upgrading via the '/Users/louis.guitton/workspace/mlops-talk-llm-kg/venv/bin/python -m pip install --upgrade pip' command.\u001b[0m\u001b[33m\n",
      "\u001b[0mNote: you may need to restart the kernel to use updated packages.\n"
     ]
    }
   ],
   "source": [
    "%pip install neo4j\n",
    "\n",
    "username = \"neo4j\"\n",
    "password = os.environ[\"NEO4J_PASSWORD\"]\n",
    "# Neo4j cloud has a generous free tier, so I use that instead of localhost\n",
    "# url = \"bolt://localhost:7687\"\n",
    "url = \"bolt+s://3b2530f1.databases.neo4j.io:7687\"\n",
    "database = \"neo4j\""
   ]
  },
  {
   "cell_type": "code",
   "execution_count": 14,
   "id": "c7a2128b-9575-4a2b-bc0d-bfcdcde5a0e1",
   "metadata": {},
   "outputs": [],
   "source": [
    "from llama_index.graph_stores import Neo4jGraphStore\n",
    "\n",
    "graph_store = Neo4jGraphStore(\n",
    "    username=username,\n",
    "    password=password,\n",
    "    url=url,\n",
    "    database=database,\n",
    ")"
   ]
  },
  {
   "cell_type": "code",
   "execution_count": 15,
   "id": "751a5075-72d7-4fbd-99af-3ca75de8dcc6",
   "metadata": {},
   "outputs": [],
   "source": [
    "from llama_index.storage.storage_context import StorageContext\n",
    "\n",
    "storage_context = StorageContext.from_defaults(graph_store=graph_store)"
   ]
  },
  {
   "cell_type": "markdown",
   "id": "e50bd077-5864-4fb7-8a25-793e9eaa69fd",
   "metadata": {},
   "source": [
    "## 2. Build the Knowledge Graph\n",
    "### 2.1 Preprocess Data"
   ]
  },
  {
   "cell_type": "code",
   "execution_count": 16,
   "id": "70a8e7d3-349b-4f37-8bcb-2ecebb819833",
   "metadata": {},
   "outputs": [],
   "source": [
    "from llama_index import download_loader\n",
    "\n",
    "WikipediaReader = download_loader(\"WikipediaReader\")\n",
    "\n",
    "loader = WikipediaReader()\n",
    "\n",
    "documents = loader.load_data(pages=['Guardians of the Galaxy Vol. 3'], auto_suggest=False)"
   ]
  },
  {
   "cell_type": "markdown",
   "id": "f50fcf49-16f5-47b5-a2a3-561fd25211ff",
   "metadata": {},
   "source": [
    "### 2.2 Extract Triplets and Save to Graph"
   ]
  },
  {
   "cell_type": "code",
   "execution_count": 17,
   "id": "cfd75ae9-d71a-4a6e-be19-ba38cbf9a6ae",
   "metadata": {
    "scrolled": true
   },
   "outputs": [
    {
     "name": "stdout",
     "output_type": "stream",
     "text": [
      " (Guardians of the Galaxy Vol. 3, is a 2023 American superhero film)\n",
      "(Guardians of the Galaxy Vol. 3, produced by Marvel Studios)\n",
      "(Guardians of the Galaxy Vol. 3, distributed by Walt Disney Studios Motion Pictures)\n",
      "(Guardians of the Galaxy Vol. 3, based on the Marvel Comics superhero team Guardians of the Galaxy)\n",
      "(Guardians of the Galaxy Vol. 3, sequel to Guardians of the Galaxy and Guardians of the Galaxy Vol. 2)\n",
      "(Guardians of the Galaxy Vol. 3, written and directed by James Gunn)\n",
      "(Guardians of the Galaxy Vol. 3, features an ensemble cast including Chris Pratt, Zoe Saldaña, Dave Bautista, Karen Gillan, Pom Klementieff, Vin Diesel, Bradley Cooper, Will Poulter, Sean Gunn, Chukwudi Iwuji, Linda Cardellini, Nathan Fillion, and Sylvester Stallone)\n",
      "(Guardians of the Galaxy Vol. 3, Guardians must save Rocket's life from the High Evolutionary)\n",
      "(James Gunn, announced his return to write and direct in April 2017)\n",
      "(Disney fired him from the film in July 2018)\n",
      "(Disney reversed course by that October and reinstated him)\n",
      "(Filming began in November 2021 at Trilith Studios in Atlanta, Georgia)\n",
      "(Guardians of the Galaxy Vol. 3, premiered at Disneyland Paris on April 22, 2023)\n",
      "(Guardians of the Galaxy Vol. 3, released in the United States on May 5, 2023)\n",
      " 1. (High Evolutionary, created, Sovereign warrior named Adam Warlock)\n",
      "2. (Rocket, befriended, Otter named Lylla)\n",
      "3. (Rocket, experimented on by, Orgocorp's leader High Evolutionary)\n",
      "4. (Orgocorp, headquarters located at, Counter-Earth)\n",
      "5. (Theel, likely culprit for removing the code, one of the High Evolutionary's advisors).\n",
      " (Chris Pratt, plays character of, Peter Quill / Star-Lord)\n",
      "(Zoe Saldaña, portrays character, Gamora)\n",
      "(Dave Bautista, acts as character, Drax the Destroyer)\n",
      "(Karen Gillan, depicts character, Nebula)\n",
      "(Vin Diesel, provides motion-capture for, Groot)\n",
      "(Bradley Cooper, voices character, Rocket)\n",
      "(Will Poulter, portrays character, Adam Warlock)\n",
      "(Sean Gunn, plays character and provides on set motion capture for, Kraglin)\n",
      "\n",
      "Triplets:\n",
      "(Peter Quill / Star-Lord, played by, Chris Pratt)\n",
      "(Gamora, portrayed by, Zoe Saldaña)\n",
      "(Drax the Destroyer, acted by, Dave Bautista)\n",
      "(Nebula, depicted by, Karen Gillan)\n",
      "(Groot, provides motion-capture for, Vin Diesel)\n",
      "(Rocket, voiced by, Bradley Cooper)\n",
      "(Adam Warlock, portrayed by, Will Poulter)\n",
      "(Kraglin, played by and provides on set motion capture for, Sean Gunn)\n",
      " (Will Poulter, is, a powerful artificial being created by the Sovereign to destroy the Guardians named Warlock)\n",
      "(Chukwudi Iwuji, is, an alien cyborg scientist and CEO of OrgoCorp specializing in creating hybrid creatures and Rocket's creator named the High Evolutionary)\n",
      " (Maria Bakalova, reprises role of, Cosmo)\n",
      "(Cosmo, developed psionic abilities after being abandoned in, outer space)\n",
      "\n",
      "[Gunn, changed gender of, Cosmo, to female]\n",
      "[Cosmo, physically portrayed by, Slate (dog actor)]\n",
      "[Tara Strong, voices, Mainframe]\n",
      "[Jared Gunn provides motion capture for, Krugarr]\n",
      "(Asim Chaudhry, voices, Teefs)\n",
      "(Mikaela Hoover, voices, Floor)\n",
      "(Daniela Melchior, appears as, Ura)\n",
      "(Miriam Shor, appears as, Recorder Vim)\n",
      "(Nico Santos, appears as, Recorder Theel)\n",
      "(Jennifer Holland, appears as, Administrator Kwol)\n",
      "(Kai Zen, appears as, Phyla)\n",
      "[Judy Greer, voices, War Pig]\n",
      "(Reinaldo Faberlle, voices, Behemoth)\n",
      "[Dee Bradley Baker, voices, Blurp]\n",
      "[Dane DiLiegro, appears as, Unsavory Octopus]\n",
      "\n",
      "=== Production (Cast and Crew) ===\n",
      "Triplets:\n",
      "(Maria Bakalova, reprises role of, Cosmo)\n",
      "(Cosmo, changed gender from male to female by, Gunn)\n",
      "\n",
      "(Gunn, directed film, Guardians of the Galaxy Vol. 3)\n",
      "(Asim Chaudhry, voices character, Teefs)\n",
      "(Mikaela Hoover, voices character, Floor)\n",
      "(Daniela Melchior, appears as character, Ura)\n",
      "(Miriam Shor, appears as character, Recorder Vim)\n",
      "(Nico Santos, appears as character, Recorder Theel)\n",
      "(Jennifer Holland, appears as character, Administrator Kwol)\n",
      "(Kai Zen, appears as character, Phyla)\n",
      "[Lloyd Kaufman, appears as character, Gridlemop]\n",
      "[Pete Davidson, appears as character, Phlektik]\n",
      "[Molly C. Quinn, appears as character, Ravager]\n",
      "[Judy Greer, voices character, War Pig]\n",
      "(Reinaldo Faberlle, voices character, Behemoth)\n",
      "[Dee Bradley Baker, voices character, Blurp]\n",
      "[Dane DiLiegro, appears as character, Unsavory Octopus)\n",
      "\n",
      "=== Production (Background) ===\n",
      "Triplets:\n",
      "(Cosmo, developed psionic abilities after being abandoned in, outer space)\n",
      "(Gunn, changed gender of, Cosmo, to female)\n",
      "\n",
      "(Maria Bakalova, reprises role as, voice and motion capture actor for, Cosmo)\n",
      "(Cosmo, originally inspired by, Soviet space dog, Laika)\n",
      "(Laika, first animal in space, by the Soviet Union)\n",
      "\n",
      "(Gunn, tribute to, character's original inspiration, Laika)\n",
      "(Cosmo, physical portrayal by, Slate (dog actor))\n",
      "(Mainframe, previously voiced by, Miley Cyrus)\n",
      "(Tara Strong, voices new character, Mainframe)\n",
      "(Krugarr, motion capture by, Jared Gunn)\n",
      "(Teefs, voiced by, Asim Chaudhry)\n",
      "(Floor, voiced by, Mikaela Hoover)\n",
      "(Ura, appears as character, Daniela Melchior)\n",
      "(Recorder Vim, appears as character, Miriam Shor)\n",
      "(Recorder Theel, appears as character, Nico Santos)\n",
      "(Administrator Kwol, appears as character, Jennifer Holland)\n",
      "(Phyla, appears as character, Kai Zen)\n",
      "(War Pig, voiced by, Judy Greer)\n",
      "(Behemoth, voiced by, Reinaldo Faberlle)\n",
      "(Blurp, voiced by, Dee Bradley Baker)\n",
      "(Unsavory Octopus, appears as character, Dane DiLiegro)\n",
      "\n",
      "=== Production (Cast and Crew) ===\n",
      "Triplets:\n",
      "(Maria Bakalova, reprises role of, Cosmo)\n",
      "(Gunn, directed film, Guardians of the Galaxy Vol. 3)\n",
      "(Asim Chaudhry, voices character, Teefs)\n",
      "(Mikaela Hoover, voices character, Floor)\n",
      "(Daniela Melchior, appears as character, Ura)\n",
      "(Miriam Shor, appears as character, Recorder Vim)\n",
      "(Nico Santos, appears as character, Recorder Theel)\n",
      "(Jennifer Holland, appears as character, Administrator Kwol)\n",
      "(Kai Zen, appears as character, Phyla)\n",
      "[Lloyd Kaufman, appears as character, Gridlemop]\n",
      "[Pete Davidson, appears as character, Phlektik]\n",
      "[Molly C. Quinn, appears as character, Ravager]\n",
      "[Judy Greer, voices character, War Pig]\n",
      "(Reinaldo Faberlle, voices character, Behemoth)\n",
      "[Dee Bradley Baker, voices character, Blurp]\n",
      "[Dane DiLiegro, appears as character, Unsavory Octopus)\n",
      "\n",
      "=== Production (Background) ===\n",
      "Triplets:\n",
      "(Cosmo, developed psionic abilities after being abandoned in, outer space)\n",
      "(Gunn, changed gender of, Cosmo, to female)\n",
      "\n",
      "(Maria Bakalova, reprises role as, voice and motion capture actor for, Cosmo)\n",
      "(Cosmo, originally inspired by, Soviet space dog, Laika)\n",
      "(Laika, first animal in space, by the Soviet Union)\n",
      "\n",
      "(Gunn, pays tribute to, character's original inspiration, Laika)\n",
      "(Cosmo, physically portrayed by, Slate (dog actor))\n",
      "(Mainframe, previously voiced by, Miley Cyrus)\n",
      "(Tara Strong, voices new character, Mainframe)\n",
      "(Krugarr, motion capture by, Jared Gunn)\n",
      "(Teefs, voiced by, Asim Chaudhry)\n",
      "(Floor, voiced by, Mikaela Hoover)\n",
      "(Ura, appears as character, Daniela Melchior)\n",
      "(Recorder Vim, appears as character, Miriam Shor)\n",
      "(Recorder Theel, appears as character, Nico Santos)\n",
      "(Administrator Kwol, appears as character, Jennifer Holland)\n",
      "(Phyla, appears as character, Kai Zen)\n",
      "(War Pig, voiced by, Judy Greer)\n",
      "(Behemoth, voiced by, Reinaldo Faberlle)\n",
      "(Blurp, voiced by, Dee Bradley Baker)\n",
      "(Unsavory Octopus, appears as character, Dane DiLiegro)\n",
      " (James Gunn, wrote and directed, Guardians of the Galaxy Vol. 3)\n",
      "(Disney and Marvel, severed ties with, James Gunn)\n",
      "\n",
      "(Marvel Studios, planned release of, Guardians of the Galaxy Vol. 3 in \"2020 and beyond\")\n",
      "(James Gunn, met with Mark Hamill about possibly appearing in, Guardians of the Galaxy Vol. 3)\n",
      " (James Gunn, severed ties with, Disney and Marvel)\n",
      "(James Gunn, made tweets regarding, controversial topics)\n",
      "(Disney and Marvel, called for firing of, James Gunn)\n",
      "(Cast members of Guardians films, issued statement in support of, James Gunn)\n",
      "(Disney, not planning to reinstate, James Gunn as director)\n",
      "(Marvel, keeping, James Gunn's script)\n",
      "(Bautista, fulfilling contract and appearing in film despite, firing of James Gunn)\n",
      "(Gunn, expected to receive exit settlement of $7–10 million or more)\n",
      "(Warner Bros., interested in hiring, James Gunn for rival superhero franchise)\n",
      "(Marvel Studios, began \"back channel conversations\" with Disney to find compromise for, James Gunn's return)\n",
      "(Gunn, met with Horn following strong push from talent agency for second chance)\n",
      " (Gunn, was expected to be paid, $7–10 million or more)\n",
      "(Gunn, met with Horn following a push from his talent agency)\n",
      "(Marvel Studios, began \"back channel conversations\" with Disney)\n",
      "(Bautista, was unsure if he would return for the film)\n",
      "(Disney, intended on making the film with James's script)\n",
      "(Cooper, asked if he would consider directing Vol. 3)\n",
      "(James Gunn, had completed his exit settlement with Disney)\n",
      "(Gunn, set to write and potentially direct The Suicide Squad)\n",
      " 1. (James Gunn, could return as director for, Vol. 3)\n",
      "2. (Marvel Studios, had discussed taking over as director for Vol. 3 with, Adam McKay)\n",
      " 1. (Gunn, announced release date of, Vol. 3 of Guardians of the Galaxy)\n",
      "(Vol. 3 of Guardians of the Galaxy, set to be released on, May 5, 2023)\n",
      "2. (Gillan & Klementieff, read and praised, script for Vol. 3 of Guardians of the Galaxy)\n",
      "(Script for Vol. 3 of Guardians of the Galaxy, found to be incredible, brilliant, emotional and funny by Gillan & Klementieff)\n",
      " (Filming of Vol. 3, began on, November 8, 2021)\n",
      "(Henry Braham, serves as cinematographer for, Vol. 3)\n",
      "\n",
      "(Vol. 3, filmed at, Trilith Studios in Atlanta, Georgia)\n",
      "(Beth Mickle, chosen as production designer for, Vol. 3)\n",
      "\n",
      "(Gunn, revealed Chukwudi Iwuji's participation in, Vol. 3)\n",
      "(Iwuji, collaborated with Gunn on, Peacemaker before joining, Vol. 3)\n",
      "\n",
      "(Marvel allowed Gunn to use, Vol. 3 set and crew for Ezra Miller's cameo appearance as The Flash for, Peacemaker season finale)\n",
      "\n",
      "(Gunn, chose practical effects for, Vol. 3 after their use in The Suicide Squad)\n",
      "\n",
      "(Judianna Makovsky, serves as costume designer for, Vol. 3 and Guardians of the Galaxy Holiday Special)\n",
      "\n",
      "(Callie Brand, revealed to appear in, Vol. 3)\n",
      "\n",
      "(Vol. 3, filmed at the same time as, Guardians of the Galaxy Holiday Special)\n",
      "\n",
      "(Quill, speaks the uncensored word \"fuck\" in, Vol. 3)\n",
      "\n",
      "(One of the fight scenes in, Vol. 3 inspired by, The Villainess (2017))\n",
      "\n",
      "(Filming on, Vol. 3 wrapped on, May 6, 2022)\n",
      " (Daniela Melchior, revealed small role in, Guardians of the Galaxy Vol. 3)\n",
      "(Maria Bakalova, portrayed High Evolutionary in, Guardians of the Galaxy Holiday Special)\n",
      "(Linda Cardellini, voiced Lylla in, Guardians of the Galaxy Vol. 3)\n",
      "(John Murphy, composed score for, Guardians of the Galaxy Vol. 3)\n",
      "(Gunn, had narrowed down music choices to 181 by, July 2017)\n",
      " (Guardians of the Galaxy Vol. 3, had early screening at, Dongdaemun Design Plaza)\n",
      "(Guardians of the Galaxy Vol. 3, premiered at, Disneyland Paris)\n",
      "(Guardians of the Galaxy Vol. 3, released in several countries including, United Kingdom)\n",
      "(Guardians of the Galaxy Vol. 3, part of, Phase Five of the MCU)\n",
      "(Guardians of the Galaxy Vol. 3, presented in flat 1.85:1 aspect ratio for forty-five minutes)\n",
      "(Guardians of the Galaxy Vol. 3, released on digital download by, Walt Disney Studios Home Entertainment)\n",
      "(Guardians of the Galaxy Vol. 3, final physical media release for, Walt Disney Studios Home Entertainment in Australia)\n",
      " (Guardians of the Galaxy Vol. 3, was released by, Walt Disney Studios Home Entertainment)\n",
      "(Guardians of the Galaxy Vol. 3, grossed in, United States and Canada, $359 million)\n",
      "(Guardians of the Galaxy Vol. 3, grossed in, other territories, $486.6 million)\n",
      "(Guardians of the Galaxy Vol. 3, made in its opening weekend outside US and Canada, $168.1 million)\n",
      "(Guardians of the Galaxy Vol. 3, retained the top spot at the box office in its second weekend with, $92 million)\n",
      "(China, highest grossing territory for Guardians of the Galaxy Vol. 3, with, $77.4 million)\n",
      " (Marvel Studios: Assembled, is a documentary series)\n",
      "(The Making of Guardians of the Galaxy Vol. 3, is an episode of Marvel Studios: Assembled)\n",
      "(The Making of Guardians of the Galaxy Vol. 3, was released on Disney+ on September 13, 2023)\n",
      " (Marvel Studios: Assembled, is a documentary special for, Marvel.com)\n",
      "(Gunn, intended for, Vol. 3 to be his last Guardians film, in September 2019)\n"
     ]
    }
   ],
   "source": [
    "from llama_index import KnowledgeGraphIndex\n",
    "\n",
    "index = KnowledgeGraphIndex.from_documents(\n",
    "    documents,\n",
    "    storage_context=storage_context,\n",
    "    service_context=service_context,\n",
    "    max_triplets_per_chunk=2,\n",
    "    include_embeddings=True,\n",
    ")"
   ]
  },
  {
   "cell_type": "markdown",
   "id": "dd44c81d-8dd9-4a7c-a673-17f6362dae64",
   "metadata": {},
   "source": [
    "Open https://workspace-preview.neo4j.io/workspace/query"
   ]
  },
  {
   "cell_type": "markdown",
   "id": "88bfdbb8-2dcc-4f1d-9e14-1d39c2d75b41",
   "metadata": {},
   "source": [
    "## 3. Create VectorStoreIndex for RAG\n"
   ]
  },
  {
   "cell_type": "code",
   "execution_count": 18,
   "id": "3e2b50f8-1542-469a-a0c7-6ed2d89c28a0",
   "metadata": {},
   "outputs": [],
   "source": [
    "from llama_index.vector_stores import Neo4jVectorStore\n",
    "\n",
    "embed_dim = 1536\n",
    "\n",
    "neo4j_vector = Neo4jVectorStore(username, password, url, embed_dim)"
   ]
  },
  {
   "cell_type": "code",
   "execution_count": 21,
   "id": "4b8a50da-9afb-42e6-affd-1e8acd357b18",
   "metadata": {},
   "outputs": [],
   "source": [
    "from llama_index.storage.storage_context import StorageContext\n",
    "from llama_index import VectorStoreIndex\n",
    "\n",
    "storage_context_vector = StorageContext.from_defaults(vector_store=neo4j_vector)\n",
    "vector_index = VectorStoreIndex.from_documents(\n",
    "    documents, \n",
    "    storage_context=storage_context_vector, \n",
    "    service_context=service_context,\n",
    ")"
   ]
  },
  {
   "cell_type": "markdown",
   "id": "f704f1a8-19e6-4da5-8721-81ec48f43377",
   "metadata": {},
   "source": [
    "## 4. (Optional) Persist and Load from disk Llama Indexes\n",
    "### 4.1. Persist"
   ]
  },
  {
   "cell_type": "markdown",
   "id": "1c7f1d36-f3d0-4fbb-8a85-0430daf7b120",
   "metadata": {},
   "source": [
    "### 4.2. Restore\n",
    "In Llama Index, there are two scenarios we could apply Graph RAG:\n",
    "\n",
    "- Build Knowledge Graph from documents with Llama Index, with LLM or even local models, to do this, we should go for `KnowledgeGraphIndex`.\n",
    "\n",
    "- Leveraging existing Knowledge Graph, in this case, we should use `KnowledgeGraphRAGQueryEngine`.\n",
    "\n"
   ]
  },
  {
   "cell_type": "code",
   "execution_count": 36,
   "id": "617a99a9-c363-4a4d-8974-14d23da7c8fd",
   "metadata": {},
   "outputs": [],
   "source": [
    "index_name = \"existing_index\"\n",
    "text_node_property = \"text\"\n",
    "existing_vector = Neo4jVectorStore(\n",
    "    username,\n",
    "    password,\n",
    "    url,\n",
    "    embed_dim,\n",
    "    index_name=index_name,\n",
    "    text_node_property=text_node_property,\n",
    ")\n",
    "vector_index = VectorStoreIndex.from_vector_store(\n",
    "    existing_vector,\n",
    "    service_context=service_context,\n",
    ")"
   ]
  },
  {
   "cell_type": "markdown",
   "id": "99a23fd7-8795-4bc0-8eb2-92ceddd94dd9",
   "metadata": {},
   "source": [
    "## 5. Prepare for different query approaches"
   ]
  },
  {
   "cell_type": "markdown",
   "id": "e4a13261-1337-4b40-b120-a71bdc457142",
   "metadata": {},
   "source": [
    "### 5.1 Graph RAG query engine"
   ]
  },
  {
   "cell_type": "code",
   "execution_count": 37,
   "id": "9d3bfebc-87f9-4d36-be7c-fbc0bf5fd8af",
   "metadata": {},
   "outputs": [],
   "source": [
    "# in case we just built the index and we have it available\n",
    "kg_rag_query_engine = index.as_query_engine(\n",
    "    include_text=False, \n",
    "    retriever_mode=\"keyword\",\n",
    "    response_mode=\"tree_summarize\"\n",
    ")"
   ]
  },
  {
   "cell_type": "code",
   "execution_count": 25,
   "id": "2c571e35-9542-4941-b75f-1f56e9b4aca4",
   "metadata": {},
   "outputs": [],
   "source": [
    "from llama_index.query_engine import RetrieverQueryEngine\n",
    "from llama_index.retrievers import KnowledgeGraphRAGRetriever\n",
    "\n",
    "graph_rag_retriever = KnowledgeGraphRAGRetriever(\n",
    "    storage_context=storage_context,\n",
    "    service_context=service_context,\n",
    "    llm=llm,\n",
    "    verbose=True,\n",
    ")\n",
    "\n",
    "kg_rag_query_engine = RetrieverQueryEngine.from_args(\n",
    "    graph_rag_retriever, \n",
    "    service_context=service_context,\n",
    "    r\n",
    ")"
   ]
  },
  {
   "cell_type": "markdown",
   "id": "34c2b148-5f7d-4230-8050-d1dbbf45e834",
   "metadata": {},
   "source": [
    "### 5.2. Vector RAG query engine"
   ]
  },
  {
   "cell_type": "code",
   "execution_count": 32,
   "id": "d9ef3eae-40b0-4864-a4b4-1226b096f6e3",
   "metadata": {},
   "outputs": [],
   "source": [
    "vector_rag_query_engine = vector_index.as_query_engine()"
   ]
  },
  {
   "cell_type": "markdown",
   "id": "0205e6af-142f-4b69-9eae-b6fad671bb07",
   "metadata": {
    "jp-MarkdownHeadingCollapsed": true
   },
   "source": [
    "### 5.3 Graph+Vector RAG query engine"
   ]
  },
  {
   "cell_type": "code",
   "execution_count": 28,
   "id": "29bb6991-248e-4e8f-b600-20cf0bd1f64e",
   "metadata": {},
   "outputs": [],
   "source": [
    "# import QueryBundle\n",
    "from llama_index import QueryBundle\n",
    "\n",
    "# import NodeWithScore\n",
    "from llama_index.schema import NodeWithScore\n",
    "\n",
    "# Retrievers\n",
    "from llama_index.retrievers import BaseRetriever, VectorIndexRetriever, KGTableRetriever\n",
    "\n",
    "from typing import List\n",
    "\n",
    "\n",
    "class CustomRetriever(BaseRetriever):\n",
    "    \"\"\"Custom retriever that performs both Vector search and Knowledge Graph search\"\"\"\n",
    "\n",
    "    def __init__(\n",
    "        self,\n",
    "        vector_retriever: VectorIndexRetriever,\n",
    "        kg_retriever: KGTableRetriever,\n",
    "        mode: str = \"OR\",\n",
    "    ) -> None:\n",
    "        \"\"\"Init params.\"\"\"\n",
    "\n",
    "        self._vector_retriever = vector_retriever\n",
    "        self._kg_retriever = kg_retriever\n",
    "        if mode not in (\"AND\", \"OR\"):\n",
    "            raise ValueError(\"Invalid mode.\")\n",
    "        self._mode = mode\n",
    "\n",
    "    def _retrieve(self, query_bundle: QueryBundle) -> List[NodeWithScore]:\n",
    "        \"\"\"Retrieve nodes given query.\"\"\"\n",
    "\n",
    "        vector_nodes = self._vector_retriever.retrieve(query_bundle)\n",
    "        kg_nodes = self._kg_retriever.retrieve(query_bundle)\n",
    "\n",
    "        vector_ids = {n.node.node_id for n in vector_nodes}\n",
    "        kg_ids = {n.node.node_id for n in kg_nodes}\n",
    "\n",
    "        combined_dict = {n.node.node_id: n for n in vector_nodes}\n",
    "        combined_dict.update({n.node.node_id: n for n in kg_nodes})\n",
    "\n",
    "        if self._mode == \"AND\":\n",
    "            retrieve_ids = vector_ids.intersection(kg_ids)\n",
    "        else:\n",
    "            retrieve_ids = vector_ids.union(kg_ids)\n",
    "\n",
    "        retrieve_nodes = [combined_dict[rid] for rid in retrieve_ids]\n",
    "        return retrieve_nodes"
   ]
  },
  {
   "cell_type": "code",
   "execution_count": 29,
   "id": "ade324fe-e7d8-43fa-905f-73957b878bdc",
   "metadata": {},
   "outputs": [],
   "source": [
    "from llama_index import get_response_synthesizer\n",
    "from llama_index.query_engine import RetrieverQueryEngine\n",
    "\n",
    "# create custom retriever\n",
    "vector_retriever = VectorIndexRetriever(index=vector_index)\n",
    "kg_retriever = KGTableRetriever(\n",
    "    index=kg_index, retriever_mode=\"keyword\", include_text=False\n",
    ")\n",
    "custom_retriever = CustomRetriever(vector_retriever, kg_retriever)\n",
    "\n",
    "# create response synthesizer\n",
    "response_synthesizer = get_response_synthesizer(\n",
    "    service_context=service_context,\n",
    "    response_mode=\"tree_summarize\",\n",
    ")"
   ]
  },
  {
   "cell_type": "code",
   "execution_count": 30,
   "id": "97a816cd-dd35-41e3-9913-374e2c277771",
   "metadata": {},
   "outputs": [],
   "source": [
    "graph_vector_rag_query_engine = RetrieverQueryEngine(\n",
    "    retriever=custom_retriever,\n",
    "    response_synthesizer=response_synthesizer,\n",
    ")"
   ]
  },
  {
   "cell_type": "markdown",
   "id": "a09cce79-aada-41ef-9713-fe6558e72ae1",
   "metadata": {},
   "source": [
    "## 6. Query with the engines"
   ]
  },
  {
   "cell_type": "code",
   "execution_count": 26,
   "id": "1ee7aceb-bd1f-4aed-8116-1a18b2fbf734",
   "metadata": {},
   "outputs": [],
   "source": [
    "from IPython.display import Markdown, display"
   ]
  },
  {
   "cell_type": "code",
   "execution_count": 27,
   "id": "d147e85f-961e-4276-9a5b-305d353acb4e",
   "metadata": {},
   "outputs": [
    {
     "name": "stdout",
     "output_type": "stream",
     "text": [
      "\u001b[1;3;32mEntities processed: ['Quill', 'Peter Quill', 'Tell me', 'referring', 'Peter Quill (specifically if referring to a particular character from Marvel Comics or Movies)', 'specifically', 'particular', 'About', 'Movies', 'Marvel', 'character', 'Tell', 'Comics', 'Peter']\n",
      "\u001b[0m\u001b[1;3;32mEntities processed: ['Marvel Comics', 'Quill', 'Peter Quill', 'Peter Quill (Marvel)', 'Tell', 'specifically', 'About', 'Movies', 'Marvel', 'particularly', 'character', 'Referring.', 'Comics', 'Peter', 'Marvel character']\n",
      "\u001b[0m\u001b[1;3;34mGraph RAG context:\n",
      "The following are knowledge sequence in max depth 2 in the form of directed graph like:\n",
      "`subject -[predicate]->, object, <-[predicate_next_hop]-, object_next_hop ...` extracted based on key entities as subject:\n",
      "['KEEPING', \"James Gunn's script\"]\n",
      "['SPEAKS_THE_UNCENSORED_WORD_\"FUCK\"_IN', 'Vol. 3']\n",
      "['SPEAKS_THE_UNCENSORED_WORD_\"FUCK\"_IN', 'Vol. 3', 'FILMED_AT_THE_SAME_TIME_AS', 'Guardians of the Galaxy Holiday Special']\n",
      "\u001b[0m"
     ]
    },
    {
     "data": {
      "text/markdown": [
       "<b> Based on the provided context information, Peter Quill is not directly mentioned as a subject. However, we know that \"James Gunn's script\" for \"Vol. 3\" and \"Guardians of the Galaxy Holiday Special\" were filmed at the same time as Volume 3, which contains the predicate \"FILMED_AT_THE_SAME_TIME_AS\". Since Peter Quill is a character in the Guardians of the Galaxy franchise, it is reasonable to infer that he is likely present in these productions. Therefore, we can answer the query with:\n",
       "\n",
       "Peter Quill is a character in the Guardians of the Galaxy franchise, and he appeared in the production of \"Vol. 3\" and the \"Guardians of the Galaxy Holiday Special\", which were filmed at the same time.</b>"
      ],
      "text/plain": [
       "<IPython.core.display.Markdown object>"
      ]
     },
     "metadata": {},
     "output_type": "display_data"
    }
   ],
   "source": [
    "response_graph_rag = kg_rag_query_engine.query(\"Tell me about Peter Quill.\")\n",
    "\n",
    "display(Markdown(f\"<b>{response_graph_rag}</b>\"))"
   ]
  },
  {
   "cell_type": "code",
   "execution_count": 33,
   "id": "6d7c9673-c888-4f70-93d1-d82a9d8755cf",
   "metadata": {},
   "outputs": [
    {
     "ename": "ClientError",
     "evalue": "{code: Neo.ClientError.Procedure.ProcedureCallFailed} {message: Failed to invoke procedure `db.index.vector.queryNodes`: Caused by: java.lang.IllegalArgumentException: Index query vector has 384 dimensions, but indexed vectors have 1536.}",
     "output_type": "error",
     "traceback": [
      "\u001b[0;31m---------------------------------------------------------------------------\u001b[0m",
      "\u001b[0;31mClientError\u001b[0m                               Traceback (most recent call last)",
      "Cell \u001b[0;32mIn[33], line 1\u001b[0m\n\u001b[0;32m----> 1\u001b[0m response_vector_rag \u001b[38;5;241m=\u001b[39m \u001b[43mvector_rag_query_engine\u001b[49m\u001b[38;5;241;43m.\u001b[39;49m\u001b[43mquery\u001b[49m\u001b[43m(\u001b[49m\u001b[38;5;124;43m\"\u001b[39;49m\u001b[38;5;124;43mTell me about Peter Quill.\u001b[39;49m\u001b[38;5;124;43m\"\u001b[39;49m\u001b[43m)\u001b[49m\n\u001b[1;32m      3\u001b[0m display(Markdown(\u001b[38;5;124mf\u001b[39m\u001b[38;5;124m\"\u001b[39m\u001b[38;5;124m<b>\u001b[39m\u001b[38;5;132;01m{\u001b[39;00mresponse_vector_rag\u001b[38;5;132;01m}\u001b[39;00m\u001b[38;5;124m</b>\u001b[39m\u001b[38;5;124m\"\u001b[39m))\n",
      "File \u001b[0;32m~/workspace/mlops-talk-llm-kg/venv/lib/python3.9/site-packages/llama_index/core/base_query_engine.py:30\u001b[0m, in \u001b[0;36mBaseQueryEngine.query\u001b[0;34m(self, str_or_query_bundle)\u001b[0m\n\u001b[1;32m     28\u001b[0m \u001b[38;5;28;01mif\u001b[39;00m \u001b[38;5;28misinstance\u001b[39m(str_or_query_bundle, \u001b[38;5;28mstr\u001b[39m):\n\u001b[1;32m     29\u001b[0m     str_or_query_bundle \u001b[38;5;241m=\u001b[39m QueryBundle(str_or_query_bundle)\n\u001b[0;32m---> 30\u001b[0m \u001b[38;5;28;01mreturn\u001b[39;00m \u001b[38;5;28;43mself\u001b[39;49m\u001b[38;5;241;43m.\u001b[39;49m\u001b[43m_query\u001b[49m\u001b[43m(\u001b[49m\u001b[43mstr_or_query_bundle\u001b[49m\u001b[43m)\u001b[49m\n",
      "File \u001b[0;32m~/workspace/mlops-talk-llm-kg/venv/lib/python3.9/site-packages/llama_index/query_engine/retriever_query_engine.py:174\u001b[0m, in \u001b[0;36mRetrieverQueryEngine._query\u001b[0;34m(self, query_bundle)\u001b[0m\n\u001b[1;32m    167\u001b[0m \u001b[38;5;28;01mwith\u001b[39;00m \u001b[38;5;28mself\u001b[39m\u001b[38;5;241m.\u001b[39mcallback_manager\u001b[38;5;241m.\u001b[39mevent(\n\u001b[1;32m    168\u001b[0m     CBEventType\u001b[38;5;241m.\u001b[39mQUERY, payload\u001b[38;5;241m=\u001b[39m{EventPayload\u001b[38;5;241m.\u001b[39mQUERY_STR: query_bundle\u001b[38;5;241m.\u001b[39mquery_str}\n\u001b[1;32m    169\u001b[0m ) \u001b[38;5;28;01mas\u001b[39;00m query_event:\n\u001b[1;32m    170\u001b[0m     \u001b[38;5;28;01mwith\u001b[39;00m \u001b[38;5;28mself\u001b[39m\u001b[38;5;241m.\u001b[39mcallback_manager\u001b[38;5;241m.\u001b[39mevent(\n\u001b[1;32m    171\u001b[0m         CBEventType\u001b[38;5;241m.\u001b[39mRETRIEVE,\n\u001b[1;32m    172\u001b[0m         payload\u001b[38;5;241m=\u001b[39m{EventPayload\u001b[38;5;241m.\u001b[39mQUERY_STR: query_bundle\u001b[38;5;241m.\u001b[39mquery_str},\n\u001b[1;32m    173\u001b[0m     ) \u001b[38;5;28;01mas\u001b[39;00m retrieve_event:\n\u001b[0;32m--> 174\u001b[0m         nodes \u001b[38;5;241m=\u001b[39m \u001b[38;5;28;43mself\u001b[39;49m\u001b[38;5;241;43m.\u001b[39;49m\u001b[43mretrieve\u001b[49m\u001b[43m(\u001b[49m\u001b[43mquery_bundle\u001b[49m\u001b[43m)\u001b[49m\n\u001b[1;32m    176\u001b[0m         retrieve_event\u001b[38;5;241m.\u001b[39mon_end(\n\u001b[1;32m    177\u001b[0m             payload\u001b[38;5;241m=\u001b[39m{EventPayload\u001b[38;5;241m.\u001b[39mNODES: nodes},\n\u001b[1;32m    178\u001b[0m         )\n\u001b[1;32m    180\u001b[0m     response \u001b[38;5;241m=\u001b[39m \u001b[38;5;28mself\u001b[39m\u001b[38;5;241m.\u001b[39m_response_synthesizer\u001b[38;5;241m.\u001b[39msynthesize(\n\u001b[1;32m    181\u001b[0m         query\u001b[38;5;241m=\u001b[39mquery_bundle,\n\u001b[1;32m    182\u001b[0m         nodes\u001b[38;5;241m=\u001b[39mnodes,\n\u001b[1;32m    183\u001b[0m     )\n",
      "File \u001b[0;32m~/workspace/mlops-talk-llm-kg/venv/lib/python3.9/site-packages/llama_index/query_engine/retriever_query_engine.py:126\u001b[0m, in \u001b[0;36mRetrieverQueryEngine.retrieve\u001b[0;34m(self, query_bundle)\u001b[0m\n\u001b[1;32m    125\u001b[0m \u001b[38;5;28;01mdef\u001b[39;00m \u001b[38;5;21mretrieve\u001b[39m(\u001b[38;5;28mself\u001b[39m, query_bundle: QueryBundle) \u001b[38;5;241m-\u001b[39m\u001b[38;5;241m>\u001b[39m List[NodeWithScore]:\n\u001b[0;32m--> 126\u001b[0m     nodes \u001b[38;5;241m=\u001b[39m \u001b[38;5;28;43mself\u001b[39;49m\u001b[38;5;241;43m.\u001b[39;49m\u001b[43m_retriever\u001b[49m\u001b[38;5;241;43m.\u001b[39;49m\u001b[43mretrieve\u001b[49m\u001b[43m(\u001b[49m\u001b[43mquery_bundle\u001b[49m\u001b[43m)\u001b[49m\n\u001b[1;32m    127\u001b[0m     \u001b[38;5;28;01mreturn\u001b[39;00m \u001b[38;5;28mself\u001b[39m\u001b[38;5;241m.\u001b[39m_apply_node_postprocessors(nodes, query_bundle\u001b[38;5;241m=\u001b[39mquery_bundle)\n",
      "File \u001b[0;32m~/workspace/mlops-talk-llm-kg/venv/lib/python3.9/site-packages/llama_index/core/base_retriever.py:34\u001b[0m, in \u001b[0;36mBaseRetriever.retrieve\u001b[0;34m(self, str_or_query_bundle)\u001b[0m\n\u001b[1;32m     32\u001b[0m \u001b[38;5;28;01mif\u001b[39;00m \u001b[38;5;28misinstance\u001b[39m(str_or_query_bundle, \u001b[38;5;28mstr\u001b[39m):\n\u001b[1;32m     33\u001b[0m     str_or_query_bundle \u001b[38;5;241m=\u001b[39m QueryBundle(str_or_query_bundle)\n\u001b[0;32m---> 34\u001b[0m \u001b[38;5;28;01mreturn\u001b[39;00m \u001b[38;5;28;43mself\u001b[39;49m\u001b[38;5;241;43m.\u001b[39;49m\u001b[43m_retrieve\u001b[49m\u001b[43m(\u001b[49m\u001b[43mstr_or_query_bundle\u001b[49m\u001b[43m)\u001b[49m\n",
      "File \u001b[0;32m~/workspace/mlops-talk-llm-kg/venv/lib/python3.9/site-packages/llama_index/indices/vector_store/retrievers/retriever.py:86\u001b[0m, in \u001b[0;36mVectorIndexRetriever._retrieve\u001b[0;34m(self, query_bundle)\u001b[0m\n\u001b[1;32m     80\u001b[0m     \u001b[38;5;28;01mif\u001b[39;00m query_bundle\u001b[38;5;241m.\u001b[39membedding \u001b[38;5;129;01mis\u001b[39;00m \u001b[38;5;28;01mNone\u001b[39;00m \u001b[38;5;129;01mand\u001b[39;00m \u001b[38;5;28mlen\u001b[39m(query_bundle\u001b[38;5;241m.\u001b[39membedding_strs) \u001b[38;5;241m>\u001b[39m \u001b[38;5;241m0\u001b[39m:\n\u001b[1;32m     81\u001b[0m         query_bundle\u001b[38;5;241m.\u001b[39membedding \u001b[38;5;241m=\u001b[39m (\n\u001b[1;32m     82\u001b[0m             \u001b[38;5;28mself\u001b[39m\u001b[38;5;241m.\u001b[39m_service_context\u001b[38;5;241m.\u001b[39membed_model\u001b[38;5;241m.\u001b[39mget_agg_embedding_from_queries(\n\u001b[1;32m     83\u001b[0m                 query_bundle\u001b[38;5;241m.\u001b[39membedding_strs\n\u001b[1;32m     84\u001b[0m             )\n\u001b[1;32m     85\u001b[0m         )\n\u001b[0;32m---> 86\u001b[0m \u001b[38;5;28;01mreturn\u001b[39;00m \u001b[38;5;28;43mself\u001b[39;49m\u001b[38;5;241;43m.\u001b[39;49m\u001b[43m_get_nodes_with_embeddings\u001b[49m\u001b[43m(\u001b[49m\u001b[43mquery_bundle\u001b[49m\u001b[43m)\u001b[49m\n",
      "File \u001b[0;32m~/workspace/mlops-talk-llm-kg/venv/lib/python3.9/site-packages/llama_index/indices/vector_store/retrievers/retriever.py:163\u001b[0m, in \u001b[0;36mVectorIndexRetriever._get_nodes_with_embeddings\u001b[0;34m(self, query_bundle_with_embeddings)\u001b[0m\n\u001b[1;32m    159\u001b[0m \u001b[38;5;28;01mdef\u001b[39;00m \u001b[38;5;21m_get_nodes_with_embeddings\u001b[39m(\n\u001b[1;32m    160\u001b[0m     \u001b[38;5;28mself\u001b[39m, query_bundle_with_embeddings: QueryBundle\n\u001b[1;32m    161\u001b[0m ) \u001b[38;5;241m-\u001b[39m\u001b[38;5;241m>\u001b[39m List[NodeWithScore]:\n\u001b[1;32m    162\u001b[0m     query \u001b[38;5;241m=\u001b[39m \u001b[38;5;28mself\u001b[39m\u001b[38;5;241m.\u001b[39m_build_vector_store_query(query_bundle_with_embeddings)\n\u001b[0;32m--> 163\u001b[0m     query_result \u001b[38;5;241m=\u001b[39m \u001b[38;5;28;43mself\u001b[39;49m\u001b[38;5;241;43m.\u001b[39;49m\u001b[43m_vector_store\u001b[49m\u001b[38;5;241;43m.\u001b[39;49m\u001b[43mquery\u001b[49m\u001b[43m(\u001b[49m\u001b[43mquery\u001b[49m\u001b[43m,\u001b[49m\u001b[43m \u001b[49m\u001b[38;5;241;43m*\u001b[39;49m\u001b[38;5;241;43m*\u001b[39;49m\u001b[38;5;28;43mself\u001b[39;49m\u001b[38;5;241;43m.\u001b[39;49m\u001b[43m_kwargs\u001b[49m\u001b[43m)\u001b[49m\n\u001b[1;32m    164\u001b[0m     \u001b[38;5;28;01mreturn\u001b[39;00m \u001b[38;5;28mself\u001b[39m\u001b[38;5;241m.\u001b[39m_build_node_list_from_query_result(query_result)\n",
      "File \u001b[0;32m~/workspace/mlops-talk-llm-kg/venv/lib/python3.9/site-packages/llama_index/vector_stores/neo4jvector.py:265\u001b[0m, in \u001b[0;36mNeo4jVectorStore.query\u001b[0;34m(self, query, **kwargs)\u001b[0m\n\u001b[1;32m    254\u001b[0m read_query \u001b[38;5;241m=\u001b[39m (\n\u001b[1;32m    255\u001b[0m     \u001b[38;5;124m\"\u001b[39m\u001b[38;5;124mCALL db.index.vector.queryNodes($index, $k, $embedding) \u001b[39m\u001b[38;5;124m\"\u001b[39m\n\u001b[1;32m    256\u001b[0m     \u001b[38;5;124m\"\u001b[39m\u001b[38;5;124mYIELD node, score \u001b[39m\u001b[38;5;124m\"\u001b[39m\n\u001b[1;32m    257\u001b[0m ) \u001b[38;5;241m+\u001b[39m retrieval_query\n\u001b[1;32m    259\u001b[0m parameters \u001b[38;5;241m=\u001b[39m {\n\u001b[1;32m    260\u001b[0m     \u001b[38;5;124m\"\u001b[39m\u001b[38;5;124mindex\u001b[39m\u001b[38;5;124m\"\u001b[39m: \u001b[38;5;28mself\u001b[39m\u001b[38;5;241m.\u001b[39mindex_name,\n\u001b[1;32m    261\u001b[0m     \u001b[38;5;124m\"\u001b[39m\u001b[38;5;124mk\u001b[39m\u001b[38;5;124m\"\u001b[39m: query\u001b[38;5;241m.\u001b[39msimilarity_top_k,\n\u001b[1;32m    262\u001b[0m     \u001b[38;5;124m\"\u001b[39m\u001b[38;5;124membedding\u001b[39m\u001b[38;5;124m\"\u001b[39m: query\u001b[38;5;241m.\u001b[39mquery_embedding,\n\u001b[1;32m    263\u001b[0m }\n\u001b[0;32m--> 265\u001b[0m results \u001b[38;5;241m=\u001b[39m \u001b[38;5;28;43mself\u001b[39;49m\u001b[38;5;241;43m.\u001b[39;49m\u001b[43mdatabase_query\u001b[49m\u001b[43m(\u001b[49m\u001b[43mread_query\u001b[49m\u001b[43m,\u001b[49m\u001b[43m \u001b[49m\u001b[43mparams\u001b[49m\u001b[38;5;241;43m=\u001b[39;49m\u001b[43mparameters\u001b[49m\u001b[43m)\u001b[49m\n\u001b[1;32m    267\u001b[0m nodes \u001b[38;5;241m=\u001b[39m []\n\u001b[1;32m    268\u001b[0m similarities \u001b[38;5;241m=\u001b[39m []\n",
      "File \u001b[0;32m~/workspace/mlops-talk-llm-kg/venv/lib/python3.9/site-packages/llama_index/vector_stores/neo4jvector.py:219\u001b[0m, in \u001b[0;36mNeo4jVectorStore.database_query\u001b[0;34m(self, query, params)\u001b[0m\n\u001b[1;32m    217\u001b[0m \u001b[38;5;28;01mtry\u001b[39;00m:\n\u001b[1;32m    218\u001b[0m     data \u001b[38;5;241m=\u001b[39m session\u001b[38;5;241m.\u001b[39mrun(query, params)\n\u001b[0;32m--> 219\u001b[0m     \u001b[38;5;28;01mreturn\u001b[39;00m [r\u001b[38;5;241m.\u001b[39mdata() \u001b[38;5;28;01mfor\u001b[39;00m r \u001b[38;5;129;01min\u001b[39;00m data]\n\u001b[1;32m    220\u001b[0m \u001b[38;5;28;01mexcept\u001b[39;00m CypherSyntaxError \u001b[38;5;28;01mas\u001b[39;00m e:\n\u001b[1;32m    221\u001b[0m     \u001b[38;5;28;01mraise\u001b[39;00m \u001b[38;5;167;01mValueError\u001b[39;00m(\u001b[38;5;124mf\u001b[39m\u001b[38;5;124m\"\u001b[39m\u001b[38;5;124mCypher Statement is not valid\u001b[39m\u001b[38;5;130;01m\\n\u001b[39;00m\u001b[38;5;132;01m{\u001b[39;00me\u001b[38;5;132;01m}\u001b[39;00m\u001b[38;5;124m\"\u001b[39m)\n",
      "File \u001b[0;32m~/workspace/mlops-talk-llm-kg/venv/lib/python3.9/site-packages/llama_index/vector_stores/neo4jvector.py:219\u001b[0m, in \u001b[0;36m<listcomp>\u001b[0;34m(.0)\u001b[0m\n\u001b[1;32m    217\u001b[0m \u001b[38;5;28;01mtry\u001b[39;00m:\n\u001b[1;32m    218\u001b[0m     data \u001b[38;5;241m=\u001b[39m session\u001b[38;5;241m.\u001b[39mrun(query, params)\n\u001b[0;32m--> 219\u001b[0m     \u001b[38;5;28;01mreturn\u001b[39;00m [r\u001b[38;5;241m.\u001b[39mdata() \u001b[38;5;28;01mfor\u001b[39;00m r \u001b[38;5;129;01min\u001b[39;00m data]\n\u001b[1;32m    220\u001b[0m \u001b[38;5;28;01mexcept\u001b[39;00m CypherSyntaxError \u001b[38;5;28;01mas\u001b[39;00m e:\n\u001b[1;32m    221\u001b[0m     \u001b[38;5;28;01mraise\u001b[39;00m \u001b[38;5;167;01mValueError\u001b[39;00m(\u001b[38;5;124mf\u001b[39m\u001b[38;5;124m\"\u001b[39m\u001b[38;5;124mCypher Statement is not valid\u001b[39m\u001b[38;5;130;01m\\n\u001b[39;00m\u001b[38;5;132;01m{\u001b[39;00me\u001b[38;5;132;01m}\u001b[39;00m\u001b[38;5;124m\"\u001b[39m)\n",
      "File \u001b[0;32m~/workspace/mlops-talk-llm-kg/venv/lib/python3.9/site-packages/neo4j/_sync/work/result.py:270\u001b[0m, in \u001b[0;36mResult.__iter__\u001b[0;34m(self)\u001b[0m\n\u001b[1;32m    268\u001b[0m     \u001b[38;5;28;01myield\u001b[39;00m \u001b[38;5;28mself\u001b[39m\u001b[38;5;241m.\u001b[39m_record_buffer\u001b[38;5;241m.\u001b[39mpopleft()\n\u001b[1;32m    269\u001b[0m \u001b[38;5;28;01melif\u001b[39;00m \u001b[38;5;28mself\u001b[39m\u001b[38;5;241m.\u001b[39m_streaming:\n\u001b[0;32m--> 270\u001b[0m     \u001b[38;5;28;43mself\u001b[39;49m\u001b[38;5;241;43m.\u001b[39;49m\u001b[43m_connection\u001b[49m\u001b[38;5;241;43m.\u001b[39;49m\u001b[43mfetch_message\u001b[49m\u001b[43m(\u001b[49m\u001b[43m)\u001b[49m\n\u001b[1;32m    271\u001b[0m \u001b[38;5;28;01melif\u001b[39;00m \u001b[38;5;28mself\u001b[39m\u001b[38;5;241m.\u001b[39m_discarding:\n\u001b[1;32m    272\u001b[0m     \u001b[38;5;28mself\u001b[39m\u001b[38;5;241m.\u001b[39m_discard()\n",
      "File \u001b[0;32m~/workspace/mlops-talk-llm-kg/venv/lib/python3.9/site-packages/neo4j/_sync/io/_common.py:178\u001b[0m, in \u001b[0;36mConnectionErrorHandler.__getattr__.<locals>.outer.<locals>.inner\u001b[0;34m(*args, **kwargs)\u001b[0m\n\u001b[1;32m    176\u001b[0m \u001b[38;5;28;01mdef\u001b[39;00m \u001b[38;5;21minner\u001b[39m(\u001b[38;5;241m*\u001b[39margs, \u001b[38;5;241m*\u001b[39m\u001b[38;5;241m*\u001b[39mkwargs):\n\u001b[1;32m    177\u001b[0m     \u001b[38;5;28;01mtry\u001b[39;00m:\n\u001b[0;32m--> 178\u001b[0m         \u001b[43mfunc\u001b[49m\u001b[43m(\u001b[49m\u001b[38;5;241;43m*\u001b[39;49m\u001b[43margs\u001b[49m\u001b[43m,\u001b[49m\u001b[43m \u001b[49m\u001b[38;5;241;43m*\u001b[39;49m\u001b[38;5;241;43m*\u001b[39;49m\u001b[43mkwargs\u001b[49m\u001b[43m)\u001b[49m\n\u001b[1;32m    179\u001b[0m     \u001b[38;5;28;01mexcept\u001b[39;00m (Neo4jError, ServiceUnavailable, SessionExpired) \u001b[38;5;28;01mas\u001b[39;00m exc:\n\u001b[1;32m    180\u001b[0m         \u001b[38;5;28;01massert\u001b[39;00m \u001b[38;5;129;01mnot\u001b[39;00m asyncio\u001b[38;5;241m.\u001b[39miscoroutinefunction(\u001b[38;5;28mself\u001b[39m\u001b[38;5;241m.\u001b[39m__on_error)\n",
      "File \u001b[0;32m~/workspace/mlops-talk-llm-kg/venv/lib/python3.9/site-packages/neo4j/_sync/io/_bolt.py:849\u001b[0m, in \u001b[0;36mBolt.fetch_message\u001b[0;34m(self)\u001b[0m\n\u001b[1;32m    845\u001b[0m \u001b[38;5;66;03m# Receive exactly one message\u001b[39;00m\n\u001b[1;32m    846\u001b[0m tag, fields \u001b[38;5;241m=\u001b[39m \u001b[38;5;28mself\u001b[39m\u001b[38;5;241m.\u001b[39minbox\u001b[38;5;241m.\u001b[39mpop(\n\u001b[1;32m    847\u001b[0m     hydration_hooks\u001b[38;5;241m=\u001b[39m\u001b[38;5;28mself\u001b[39m\u001b[38;5;241m.\u001b[39mresponses[\u001b[38;5;241m0\u001b[39m]\u001b[38;5;241m.\u001b[39mhydration_hooks\n\u001b[1;32m    848\u001b[0m )\n\u001b[0;32m--> 849\u001b[0m res \u001b[38;5;241m=\u001b[39m \u001b[38;5;28;43mself\u001b[39;49m\u001b[38;5;241;43m.\u001b[39;49m\u001b[43m_process_message\u001b[49m\u001b[43m(\u001b[49m\u001b[43mtag\u001b[49m\u001b[43m,\u001b[49m\u001b[43m \u001b[49m\u001b[43mfields\u001b[49m\u001b[43m)\u001b[49m\n\u001b[1;32m    850\u001b[0m \u001b[38;5;28mself\u001b[39m\u001b[38;5;241m.\u001b[39midle_since \u001b[38;5;241m=\u001b[39m monotonic()\n\u001b[1;32m    851\u001b[0m \u001b[38;5;28;01mreturn\u001b[39;00m res\n",
      "File \u001b[0;32m~/workspace/mlops-talk-llm-kg/venv/lib/python3.9/site-packages/neo4j/_sync/io/_bolt5.py:369\u001b[0m, in \u001b[0;36mBolt5x0._process_message\u001b[0;34m(self, tag, fields)\u001b[0m\n\u001b[1;32m    367\u001b[0m \u001b[38;5;28mself\u001b[39m\u001b[38;5;241m.\u001b[39m_server_state_manager\u001b[38;5;241m.\u001b[39mstate \u001b[38;5;241m=\u001b[39m \u001b[38;5;28mself\u001b[39m\u001b[38;5;241m.\u001b[39mbolt_states\u001b[38;5;241m.\u001b[39mFAILED\n\u001b[1;32m    368\u001b[0m \u001b[38;5;28;01mtry\u001b[39;00m:\n\u001b[0;32m--> 369\u001b[0m     \u001b[43mresponse\u001b[49m\u001b[38;5;241;43m.\u001b[39;49m\u001b[43mon_failure\u001b[49m\u001b[43m(\u001b[49m\u001b[43msummary_metadata\u001b[49m\u001b[43m \u001b[49m\u001b[38;5;129;43;01mor\u001b[39;49;00m\u001b[43m \u001b[49m\u001b[43m{\u001b[49m\u001b[43m}\u001b[49m\u001b[43m)\u001b[49m\n\u001b[1;32m    370\u001b[0m \u001b[38;5;28;01mexcept\u001b[39;00m (ServiceUnavailable, DatabaseUnavailable):\n\u001b[1;32m    371\u001b[0m     \u001b[38;5;28;01mif\u001b[39;00m \u001b[38;5;28mself\u001b[39m\u001b[38;5;241m.\u001b[39mpool:\n",
      "File \u001b[0;32m~/workspace/mlops-talk-llm-kg/venv/lib/python3.9/site-packages/neo4j/_sync/io/_common.py:245\u001b[0m, in \u001b[0;36mResponse.on_failure\u001b[0;34m(self, metadata)\u001b[0m\n\u001b[1;32m    243\u001b[0m handler \u001b[38;5;241m=\u001b[39m \u001b[38;5;28mself\u001b[39m\u001b[38;5;241m.\u001b[39mhandlers\u001b[38;5;241m.\u001b[39mget(\u001b[38;5;124m\"\u001b[39m\u001b[38;5;124mon_summary\u001b[39m\u001b[38;5;124m\"\u001b[39m)\n\u001b[1;32m    244\u001b[0m Util\u001b[38;5;241m.\u001b[39mcallback(handler)\n\u001b[0;32m--> 245\u001b[0m \u001b[38;5;28;01mraise\u001b[39;00m Neo4jError\u001b[38;5;241m.\u001b[39mhydrate(\u001b[38;5;241m*\u001b[39m\u001b[38;5;241m*\u001b[39mmetadata)\n",
      "\u001b[0;31mClientError\u001b[0m: {code: Neo.ClientError.Procedure.ProcedureCallFailed} {message: Failed to invoke procedure `db.index.vector.queryNodes`: Caused by: java.lang.IllegalArgumentException: Index query vector has 384 dimensions, but indexed vectors have 1536.}"
     ]
    }
   ],
   "source": [
    "response_vector_rag = vector_rag_query_engine.query(\"Tell me about Peter Quill.\")\n",
    "\n",
    "display(Markdown(f\"<b>{response_vector_rag}</b>\"))"
   ]
  },
  {
   "cell_type": "code",
   "execution_count": 31,
   "id": "3e7e98be-4d5f-4177-86c4-fbb33f98483a",
   "metadata": {},
   "outputs": [
    {
     "name": "stdout",
     "output_type": "stream",
     "text": [
      "INFO:llama_index.indices.knowledge_graph.retrievers:> No relationships found, returning nodes found by keywords.\n",
      "INFO:llama_index.indices.knowledge_graph.retrievers:> No nodes found by keywords, returning empty response.\n"
     ]
    },
    {
     "data": {
      "text/markdown": [
       "<b> Peter Quill, also known as Star-Lord, is the leader of the Guardians of the Galaxy. He was abducted from Earth as a child and raised by a group of alien thieves and smugglers called the Ravagers. In the film \"Guardians of the Galaxy Vol. 3,\" Quill is in a state of depression following the appearance of an alternate version of his deceased lover Gamora, who does not share the same affection for him as her older version did, affecting his leadership of the Guardians. Chris Pratt portrays Peter Quill in the film.</b>"
      ],
      "text/plain": [
       "<IPython.core.display.Markdown object>"
      ]
     },
     "metadata": {},
     "output_type": "display_data"
    }
   ],
   "source": [
    "response_graph_vector_rag = graph_vector_rag_query_engine.query(\"Tell me about Peter Quill.\")\n",
    "\n",
    "display(Markdown(f\"<b>{response_graph_vector_rag}</b>\"))"
   ]
  },
  {
   "cell_type": "markdown",
   "id": "006632bc-b6a7-422e-8b73-17ebbef9b8e1",
   "metadata": {},
   "source": [
    "## 7. Comparison and Conclusion"
   ]
  },
  {
   "cell_type": "code",
   "execution_count": 32,
   "id": "8d7bec1f-224f-44d3-808a-e0bef3879e98",
   "metadata": {},
   "outputs": [],
   "source": [
    "analysis = llm.complete(f\"\"\"\n",
    "Compare the QA results on \"Tell me about Peter Quill.\", list the knowledge facts between them, to help evalute them. Output in markdown table.\n",
    "\n",
    "Result from Graph: {response_graph_rag}\n",
    "---\n",
    "Result from Vector: {response_vector_rag}\n",
    "---\n",
    "Result Graph+Vector: {response_graph_vector_rag}\n",
    "---\n",
    "\n",
    "\"\"\")"
   ]
  },
  {
   "cell_type": "code",
   "execution_count": 33,
   "id": "3e90e7cc-2d1a-4e6b-a7d7-0e96282ae280",
   "metadata": {},
   "outputs": [
    {
     "data": {
      "text/markdown": [
       " | Fact | Graph Result | Vector Result | Both Results |\n",
       "| --- | --- | --- | --- |\n",
       "| Character Name | Peter Quill / Star-Lord | Peter Quill / Star-Lord | Peter Quill / Star-Lord |\n",
       "| Universe | Marvel Comics | Marvel Cinematic Universe | Marvel Universe |\n",
       "| Creation | Created by Dan Abnett and Andy Lanning, first appeared in \"Annihilators\" #1 in July 2006 | Portrayed by Chris Pratt in films since 2014 | Created, first appearance in respective universes |\n",
       "| Species | Human from Earth | Human who was abducted from Earth as a child and grew up among extraterrestrial beings | Human, abducted from Earth as a child, raised among aliens |\n",
       "| Birth Year | Born in 1982 | N/A | Born in 1982 |\n",
       "| Backstory | Raised among the Ravagers, skilled mercenary and thief, leads Guardians of the Galaxy | Skilled in combat and piloting spaceships, quirky sense of humor, love for classic Earth music, depicted as more traditional superhero compared to the Guardians | Raised among the Ravagers, became a space adventurer, joined the Guardians of the Galaxy |\n",
       "| Weaponry | Star-Lord gun, Orb, Milano spaceship | N/A | Advanced weaponry, including Star-Lord gun and Orb, Milano spaceship |\n",
       "| Personality | Charming, rebellious, sarcastic, strong sense of loyalty to those he cares about, romantically involved with Gamora and Rocket Raccoon | Quirky sense of humor, love for classic Earth music, depicted as a more traditional superhero compared to the Guardians | Charming, rebellious, sarcastic, romantic relationships with Gamora and Rocket Raccoon |\n",
       "| Films | N/A | Appeared in \"Guardians of the Galaxy\" (2014), \"Guardians of the Galaxy Vol. 2\" (2017), \"Avengers: Infinity War\" (2018), and \"Avengers: Endgame\" (2018) | N/A, appears in films |\n",
       "| Director | N/A | James Gunn was fired from the franchise over old tweets, but negotiations to return ultimately failed | N/A, no mention of director |\n",
       "| Depiction in \"Vol. 3\" | In a state of depression following Gamora's appearance | N/A | In a state of depression following Gamora's appearance in \"Guardians of the Galaxy Vol. 3\" |"
      ],
      "text/plain": [
       "<IPython.core.display.Markdown object>"
      ]
     },
     "metadata": {},
     "output_type": "display_data"
    }
   ],
   "source": [
    "display(Markdown(analysis.text))"
   ]
  },
  {
   "cell_type": "code",
   "execution_count": null,
   "id": "273b3b68-dee8-4535-a1ef-8d28d67e3e94",
   "metadata": {},
   "outputs": [],
   "source": []
  }
 ],
 "metadata": {
  "kernelspec": {
   "display_name": "Python 3 (ipykernel)",
   "language": "python",
   "name": "python3"
  },
  "language_info": {
   "codemirror_mode": {
    "name": "ipython",
    "version": 3
   },
   "file_extension": ".py",
   "mimetype": "text/x-python",
   "name": "python",
   "nbconvert_exporter": "python",
   "pygments_lexer": "ipython3",
   "version": "3.9.14"
  }
 },
 "nbformat": 4,
 "nbformat_minor": 5
}
