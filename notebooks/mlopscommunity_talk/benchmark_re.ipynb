{
 "cells": [
  {
   "cell_type": "markdown",
   "id": "73f9ec97-d3c0-4d41-8a0b-3b83cb985884",
   "metadata": {},
   "source": [
    "# RE benchmark\n",
    "infer relations, plus graph inference: REBEL, OpenNRE, qwikidata, etc.\n",
    "  * ThuNLP `OpenNRE`\n",
    "  * Babelscape `REBEL`\n",
    "  * ZS-BERT"
   ]
  },
  {
   "cell_type": "code",
   "execution_count": 1,
   "id": "98171bd6-930c-48f5-bfb6-d72f3da3a976",
   "metadata": {
    "execution": {
     "iopub.execute_input": "2024-02-13T18:51:02.527111Z",
     "iopub.status.busy": "2024-02-13T18:51:02.526938Z",
     "iopub.status.idle": "2024-02-13T18:51:07.521158Z",
     "shell.execute_reply": "2024-02-13T18:51:07.520890Z",
     "shell.execute_reply.started": "2024-02-13T18:51:02.527096Z"
    }
   },
   "outputs": [
    {
     "name": "stderr",
     "output_type": "stream",
     "text": [
      "/Users/louis.guitton/workspace/mlops-talk-llm-kg/venv/lib/python3.11/site-packages/tqdm/auto.py:21: TqdmWarning: IProgress not found. Please update jupyter and ipywidgets. See https://ipywidgets.readthedocs.io/en/stable/user_install.html\n",
      "  from .autonotebook import tqdm as notebook_tqdm\n",
      "/Users/louis.guitton/workspace/mlops-talk-llm-kg/venv/lib/python3.11/site-packages/transformers/utils/generic.py:441: UserWarning: torch.utils._pytree._register_pytree_node is deprecated. Please use torch.utils._pytree.register_pytree_node instead.\n",
      "  _torch_pytree._register_pytree_node(\n",
      "/Users/louis.guitton/workspace/mlops-talk-llm-kg/venv/lib/python3.11/site-packages/transformers/utils/generic.py:309: UserWarning: torch.utils._pytree._register_pytree_node is deprecated. Please use torch.utils._pytree.register_pytree_node instead.\n",
      "  _torch_pytree._register_pytree_node(\n",
      "/Users/louis.guitton/workspace/mlops-talk-llm-kg/venv/lib/python3.11/site-packages/transformers/utils/generic.py:309: UserWarning: torch.utils._pytree._register_pytree_node is deprecated. Please use torch.utils._pytree.register_pytree_node instead.\n",
      "  _torch_pytree._register_pytree_node(\n"
     ]
    }
   ],
   "source": [
    "import json\n",
    "\n",
    "import spacy\n",
    "from zshot import PipelineConfig, displacy\n",
    "from zshot.utils.data_models import Entity, Relation\n",
    "from zshot.relation_extractor import RelationsExtractorZSRC\n",
    "from zshot.mentions_extractor import MentionsExtractorSpacy\n",
    "from zshot.linker import LinkerRegen"
   ]
  },
  {
   "cell_type": "code",
   "execution_count": 94,
   "id": "4d373293-2283-4fd3-89fd-3a51342246b1",
   "metadata": {
    "execution": {
     "iopub.execute_input": "2024-02-13T21:54:25.027660Z",
     "iopub.status.busy": "2024-02-13T21:54:25.026668Z",
     "iopub.status.idle": "2024-02-13T21:54:25.038434Z",
     "shell.execute_reply": "2024-02-13T21:54:25.037221Z",
     "shell.execute_reply.started": "2024-02-13T21:54:25.027607Z"
    }
   },
   "outputs": [],
   "source": [
    "with open(\"../data/wiki_guardians.json\", \"r\") as fh:\n",
    "    text: str = json.load(fh)[\"text\"]\n",
    "    paragraph = text.split(\"\\n\\n\\n\")[0]"
   ]
  },
  {
   "cell_type": "code",
   "execution_count": 16,
   "id": "f858e39c-d866-4f39-88b3-bcc23236689c",
   "metadata": {
    "execution": {
     "iopub.execute_input": "2024-02-13T18:58:04.963476Z",
     "iopub.status.busy": "2024-02-13T18:58:04.960472Z",
     "iopub.status.idle": "2024-02-13T18:58:04.975721Z",
     "shell.execute_reply": "2024-02-13T18:58:04.974836Z",
     "shell.execute_reply.started": "2024-02-13T18:58:04.963417Z"
    }
   },
   "outputs": [],
   "source": [
    "start = paragraph.split(\"\\n\")[0]"
   ]
  },
  {
   "cell_type": "code",
   "execution_count": 66,
   "id": "41907060-eb56-4438-8757-68dd01a244ca",
   "metadata": {
    "execution": {
     "iopub.execute_input": "2024-02-13T21:04:30.687991Z",
     "iopub.status.busy": "2024-02-13T21:04:30.687184Z",
     "iopub.status.idle": "2024-02-13T21:04:30.696885Z",
     "shell.execute_reply": "2024-02-13T21:04:30.696041Z",
     "shell.execute_reply.started": "2024-02-13T21:04:30.687946Z"
    }
   },
   "outputs": [
    {
     "data": {
      "text/plain": [
       "\"Guardians of the Galaxy Vol. 3 (stylized in marketing as Guardians of the Galaxy Volume 3) is a 2023 American superhero film based on the Marvel Comics superhero team Guardians of the Galaxy, produced by Marvel Studios, and distributed by Walt Disney Studios Motion Pictures. It is the sequel to Guardians of the Galaxy (2014) and Guardians of the Galaxy Vol. 2 (2017), and the 32nd film in the Marvel Cinematic Universe (MCU). Written and directed by James Gunn, it features an ensemble cast including Chris Pratt, Zoe Saldaña, Dave Bautista, Karen Gillan, Pom Klementieff, Vin Diesel, Bradley Cooper, Will Poulter, Sean Gunn, Chukwudi Iwuji, Linda Cardellini, Nathan Fillion, and Sylvester Stallone. In the film, the Guardians must save Rocket's (Cooper) life from the High Evolutionary (Iwuji).\""
      ]
     },
     "execution_count": 66,
     "metadata": {},
     "output_type": "execute_result"
    }
   ],
   "source": [
    "start"
   ]
  },
  {
   "cell_type": "markdown",
   "id": "6dd779b7-f844-41d8-b66a-633fe9fe0d97",
   "metadata": {},
   "source": [
    "## Hello world examples"
   ]
  },
  {
   "cell_type": "code",
   "execution_count": 3,
   "id": "9f28e3e6-e199-47ed-853a-a34ca573c680",
   "metadata": {
    "execution": {
     "iopub.execute_input": "2024-02-13T18:51:07.525220Z",
     "iopub.status.busy": "2024-02-13T18:51:07.525110Z",
     "iopub.status.idle": "2024-02-13T18:51:14.456868Z",
     "shell.execute_reply": "2024-02-13T18:51:14.456413Z",
     "shell.execute_reply.started": "2024-02-13T18:51:07.525212Z"
    }
   },
   "outputs": [
    {
     "name": "stderr",
     "output_type": "stream",
     "text": [
      "/Users/louis.guitton/workspace/mlops-talk-llm-kg/venv/lib/python3.11/site-packages/transformers/utils/generic.py:309: UserWarning: torch.utils._pytree._register_pytree_node is deprecated. Please use torch.utils._pytree.register_pytree_node instead.\n",
      "  _torch_pytree._register_pytree_node(\n"
     ]
    }
   ],
   "source": [
    "import IPython\n",
    "import spacy\n",
    "from zshot import PipelineConfig, displacy\n",
    "from zshot.linker import Linker, LinkerSMXM\n",
    "from zshot.utils.data_models import Entity\n",
    "\n",
    "config = PipelineConfig(\n",
    " entities=[\n",
    " Entity(name=\"company\", description=\"A company, abbreviated as co., is a legal entity representing an association of people, whether natural, legal or a mixture of both, with a specific objective. Company members share a common purpose and unite to achieve specific, declared goals.\"),\n",
    " Entity(name=\"chemical compound\", description=\"Any of a large class of chemical compounds in which one or more \\\n",
    "  atoms of carbon are covalently linked to atoms of other elements, most commonly hydrogen, oxygen, or nitrogen\")\n",
    " ], \n",
    " linker=LinkerSMXM()\n",
    ")\n",
    "nlp = spacy.blank(\"en\")\n",
    "nlp.add_pipe(\"zshot\", config=config, last=True)\n",
    "\n",
    "text = \"Acetamide (systematic name: ethanamide) is an organic compound with the formula CH3CONH2. It is the simplest amide derived from acetic acid. It finds some use as a plasticizer and as an industrial solvent.\"\n",
    "doc = nlp(text)"
   ]
  },
  {
   "cell_type": "code",
   "execution_count": 4,
   "id": "f97feddc-c80e-4c9b-8178-8acf2df49a2a",
   "metadata": {
    "execution": {
     "iopub.execute_input": "2024-02-13T18:51:14.457418Z",
     "iopub.status.busy": "2024-02-13T18:51:14.457262Z",
     "iopub.status.idle": "2024-02-13T18:51:14.461048Z",
     "shell.execute_reply": "2024-02-13T18:51:14.460751Z",
     "shell.execute_reply.started": "2024-02-13T18:51:14.457410Z"
    }
   },
   "outputs": [
    {
     "data": {
      "text/html": [
       "<span class=\"tex2jax_ignore\"><div class=\"entities\" style=\"line-height: 2.5; direction: ltr\">\n",
       "<mark class=\"entity\" style=\"background: #ddd; padding: 0.45em 0.6em; margin: 0 0.25em; line-height: 1; border-radius: 0.35em;\">\n",
       "    Acetamide\n",
       "    <span style=\"font-size: 0.8em; font-weight: bold; line-height: 1; border-radius: 0.35em; vertical-align: middle; margin-left: 0.5rem\">chemical compound</span>\n",
       "</mark>\n",
       " (systematic name: \n",
       "<mark class=\"entity\" style=\"background: #ddd; padding: 0.45em 0.6em; margin: 0 0.25em; line-height: 1; border-radius: 0.35em;\">\n",
       "    ethanamide\n",
       "    <span style=\"font-size: 0.8em; font-weight: bold; line-height: 1; border-radius: 0.35em; vertical-align: middle; margin-left: 0.5rem\">chemical compound</span>\n",
       "</mark>\n",
       ") is an organic compound with the formula \n",
       "<mark class=\"entity\" style=\"background: #ddd; padding: 0.45em 0.6em; margin: 0 0.25em; line-height: 1; border-radius: 0.35em;\">\n",
       "    CH3CONH2\n",
       "    <span style=\"font-size: 0.8em; font-weight: bold; line-height: 1; border-radius: 0.35em; vertical-align: middle; margin-left: 0.5rem\">chemical compound</span>\n",
       "</mark>\n",
       ". It is the simplest \n",
       "<mark class=\"entity\" style=\"background: #ddd; padding: 0.45em 0.6em; margin: 0 0.25em; line-height: 1; border-radius: 0.35em;\">\n",
       "    amide\n",
       "    <span style=\"font-size: 0.8em; font-weight: bold; line-height: 1; border-radius: 0.35em; vertical-align: middle; margin-left: 0.5rem\">chemical compound</span>\n",
       "</mark>\n",
       " derived from \n",
       "<mark class=\"entity\" style=\"background: #ddd; padding: 0.45em 0.6em; margin: 0 0.25em; line-height: 1; border-radius: 0.35em;\">\n",
       "    acetic acid\n",
       "    <span style=\"font-size: 0.8em; font-weight: bold; line-height: 1; border-radius: 0.35em; vertical-align: middle; margin-left: 0.5rem\">chemical compound</span>\n",
       "</mark>\n",
       ". It finds some use as a plasticizer and as an industrial solvent.</div></span>"
      ],
      "text/plain": [
       "<IPython.core.display.HTML object>"
      ]
     },
     "metadata": {},
     "output_type": "display_data"
    }
   ],
   "source": [
    "spacy.displacy.render(doc, style=\"ent\", jupyter=True)"
   ]
  },
  {
   "cell_type": "code",
   "execution_count": 5,
   "id": "176c9c0e-b883-4233-b30e-11e1fe3ccf11",
   "metadata": {
    "execution": {
     "iopub.execute_input": "2024-02-13T18:51:14.461579Z",
     "iopub.status.busy": "2024-02-13T18:51:14.461495Z",
     "iopub.status.idle": "2024-02-13T18:51:26.662317Z",
     "shell.execute_reply": "2024-02-13T18:51:26.661987Z",
     "shell.execute_reply.started": "2024-02-13T18:51:14.461571Z"
    }
   },
   "outputs": [
    {
     "name": "stderr",
     "output_type": "stream",
     "text": [
      "huggingface/tokenizers: The current process just got forked, after parallelism has already been used. Disabling parallelism to avoid deadlocks...\n",
      "To disable this warning, you can either:\n",
      "\t- Avoid using `tokenizers` before the fork if possible\n",
      "\t- Explicitly set the environment variable TOKENIZERS_PARALLELISM=(true | false)\n",
      "classifying documents: 100%|███████████████████████████████████████████████████████████████████████████████████████████████████████████████████████████████████| 1/1 [00:03<00:00,  3.86s/it]\n"
     ]
    }
   ],
   "source": [
    "import spacy\n",
    "from zshot import PipelineConfig, displacy\n",
    "from zshot.linker import LinkerSMXM\n",
    "from zshot.utils.data_models import Entity, Relation\n",
    "from zshot.relation_extractor import RelationsExtractorZSRC\n",
    "\n",
    "config = PipelineConfig(\n",
    " entities=[\n",
    "    Entity(name=\"company\", description=\"The name of a company\"),\n",
    "    Entity(name=\"location\", description=\"A physical location\"),\n",
    "    Entity(name=\"chemical compound\", description=\"Any of a large class of chemical compounds in which one or more \\\n",
    "           atoms of carbon are covalently linked to atoms of other elements, most commonly hydrogen, oxygen, or nitrogen\")\n",
    " ], \n",
    " relations=[\n",
    "    Relation(name=\"similar to\", description=\"Is similar to\"),\n",
    "    Relation(name=\"parent\", description=\"Is the parent of someone\")\n",
    " ], \n",
    " linker=LinkerSMXM(),\n",
    " relations_extractor=RelationsExtractorZSRC(thr=0.8),\n",
    ")\n",
    "nlp = spacy.blank(\"en\")\n",
    "nlp.add_pipe(\"zshot\", config=config, last=True)\n",
    "\n",
    "text = \"CH2O2 is a chemical compound similar to Acetamide used in International \\\n",
    "Business Machines Corporation (IBM) to create new materials that act like PAGs.\"\n",
    "doc = nlp(text)"
   ]
  },
  {
   "cell_type": "code",
   "execution_count": 6,
   "id": "faabc8a6-a925-469a-852a-63c548b7e4ff",
   "metadata": {
    "execution": {
     "iopub.execute_input": "2024-02-13T18:51:26.663672Z",
     "iopub.status.busy": "2024-02-13T18:51:26.663484Z",
     "iopub.status.idle": "2024-02-13T18:51:26.666676Z",
     "shell.execute_reply": "2024-02-13T18:51:26.666227Z",
     "shell.execute_reply.started": "2024-02-13T18:51:26.663659Z"
    }
   },
   "outputs": [
    {
     "data": {
      "text/html": [
       "<span class=\"tex2jax_ignore\">\n",
       "<!DOCTYPE html>\n",
       "<html lang=\"en\">\n",
       "    <head>\n",
       "        <title>Zshot displaCy</title>\n",
       "    </head>\n",
       "\n",
       "    <body style=\"font-size: 16px; font-family: -apple-system, BlinkMacSystemFont, 'Segoe UI', Helvetica, Arial, sans-serif, 'Apple Color Emoji', 'Segoe UI Emoji', 'Segoe UI Symbol'; padding: 4rem 2rem; direction: ltr\">\n",
       "<figure style=\"margin-bottom: 6rem\">\n",
       "<svg xmlns=\"http://www.w3.org/2000/svg\" xmlns:xlink=\"http://www.w3.org/1999/xlink\" xml:lang=\"en\" id=\"1cb85e72a5364d978d2770edf149110b-0\" class=\"displacy\" width=\"1450\" height=\"179.5\" direction=\"ltr\" style=\"max-width: none; height: 179.5px; color: #000000; background: #ffffff; font-family: Arial; direction: ltr\">\n",
       "<text id=\"0\" class=\"displacy-token\" fill=\"currentColor\" text-anchor=\"middle\" y=\"119.5\" style=\"background: #dec76b; padding: 0.45em 0.6em; margin: 0 0.25em; line-height: 1; border-radius: 0.35em;\">\n",
       "    <tspan class=\"displacy-word\" fill=\"currentColor\" x=\"50\">CH2O2</tspan>\n",
       "</text>\n",
       "<text id=\"tag-0\" class=\"displacy-tag\" fill=\"currentColor\" text-anchor=\"middle\" y=\"119.5\">\n",
       "    <tspan class=\"displacy-tag\" dy=\"2em\" fill=\"currentColor\" x=\"50\">chemical compound</tspan>\n",
       "</text>\n",
       "\n",
       "<text id=\"1\" class=\"displacy-token\" fill=\"currentColor\" text-anchor=\"middle\" y=\"119.5\" style=\"background: None; padding: 0.45em 0.6em; margin: 0 0.25em; line-height: 1; border-radius: 0.35em;\">\n",
       "    <tspan class=\"displacy-word\" fill=\"currentColor\" x=\"30\"> is a chemical compound similar to </tspan>\n",
       "</text>\n",
       "<text id=\"tag-1\" class=\"displacy-tag\" fill=\"currentColor\" text-anchor=\"middle\" y=\"119.5\">\n",
       "    <tspan class=\"displacy-tag\" dy=\"2em\" fill=\"currentColor\" x=\"30\"></tspan>\n",
       "</text>\n",
       "\n",
       "<text id=\"2\" class=\"displacy-token\" fill=\"currentColor\" text-anchor=\"middle\" y=\"119.5\" style=\"background: #dec76b; padding: 0.45em 0.6em; margin: 0 0.25em; line-height: 1; border-radius: 0.35em;\">\n",
       "    <tspan class=\"displacy-word\" fill=\"currentColor\" x=\"30\">Acetamide</tspan>\n",
       "</text>\n",
       "<text id=\"tag-2\" class=\"displacy-tag\" fill=\"currentColor\" text-anchor=\"middle\" y=\"119.5\">\n",
       "    <tspan class=\"displacy-tag\" dy=\"2em\" fill=\"currentColor\" x=\"30\">chemical compound</tspan>\n",
       "</text>\n",
       "\n",
       "<text id=\"3\" class=\"displacy-token\" fill=\"currentColor\" text-anchor=\"middle\" y=\"119.5\" style=\"background: None; padding: 0.45em 0.6em; margin: 0 0.25em; line-height: 1; border-radius: 0.35em;\">\n",
       "    <tspan class=\"displacy-word\" fill=\"currentColor\" x=\"30\"> used in </tspan>\n",
       "</text>\n",
       "<text id=\"tag-3\" class=\"displacy-tag\" fill=\"currentColor\" text-anchor=\"middle\" y=\"119.5\">\n",
       "    <tspan class=\"displacy-tag\" dy=\"2em\" fill=\"currentColor\" x=\"30\"></tspan>\n",
       "</text>\n",
       "\n",
       "<text id=\"4\" class=\"displacy-token\" fill=\"currentColor\" text-anchor=\"middle\" y=\"119.5\" style=\"background: #886d73; padding: 0.45em 0.6em; margin: 0 0.25em; line-height: 1; border-radius: 0.35em;\">\n",
       "    <tspan class=\"displacy-word\" fill=\"currentColor\" x=\"30\">International Business Machines Corporation</tspan>\n",
       "</text>\n",
       "<text id=\"tag-4\" class=\"displacy-tag\" fill=\"currentColor\" text-anchor=\"middle\" y=\"119.5\">\n",
       "    <tspan class=\"displacy-tag\" dy=\"2em\" fill=\"currentColor\" x=\"30\">company</tspan>\n",
       "</text>\n",
       "\n",
       "<text id=\"5\" class=\"displacy-token\" fill=\"currentColor\" text-anchor=\"middle\" y=\"119.5\" style=\"background: None; padding: 0.45em 0.6em; margin: 0 0.25em; line-height: 1; border-radius: 0.35em;\">\n",
       "    <tspan class=\"displacy-word\" fill=\"currentColor\" x=\"30\"> (</tspan>\n",
       "</text>\n",
       "<text id=\"tag-5\" class=\"displacy-tag\" fill=\"currentColor\" text-anchor=\"middle\" y=\"119.5\">\n",
       "    <tspan class=\"displacy-tag\" dy=\"2em\" fill=\"currentColor\" x=\"30\"></tspan>\n",
       "</text>\n",
       "\n",
       "<text id=\"6\" class=\"displacy-token\" fill=\"currentColor\" text-anchor=\"middle\" y=\"119.5\" style=\"background: #886d73; padding: 0.45em 0.6em; margin: 0 0.25em; line-height: 1; border-radius: 0.35em;\">\n",
       "    <tspan class=\"displacy-word\" fill=\"currentColor\" x=\"30\">IBM</tspan>\n",
       "</text>\n",
       "<text id=\"tag-6\" class=\"displacy-tag\" fill=\"currentColor\" text-anchor=\"middle\" y=\"119.5\">\n",
       "    <tspan class=\"displacy-tag\" dy=\"2em\" fill=\"currentColor\" x=\"30\">company</tspan>\n",
       "</text>\n",
       "\n",
       "<text id=\"7\" class=\"displacy-token\" fill=\"currentColor\" text-anchor=\"middle\" y=\"119.5\" style=\"background: None; padding: 0.45em 0.6em; margin: 0 0.25em; line-height: 1; border-radius: 0.35em;\">\n",
       "    <tspan class=\"displacy-word\" fill=\"currentColor\" x=\"30\">) to create new materials that act like PAGs.</tspan>\n",
       "</text>\n",
       "<text id=\"tag-7\" class=\"displacy-tag\" fill=\"currentColor\" text-anchor=\"middle\" y=\"119.5\">\n",
       "    <tspan class=\"displacy-tag\" dy=\"2em\" fill=\"currentColor\" x=\"30\"></tspan>\n",
       "</text>\n",
       "\n",
       "<g class=\"displacy-arrow\" start=0 end=2 direction=right>\n",
       "    <path class=\"displacy-arc\" id=\"arrow-1cb85e72a5364d978d2770edf149110b-0-0\" stroke-width=\"2px\" d=\"M70,89.5 C70,2.0 400.0,2.0 400.0,89.5\" fill=\"none\" stroke=\"currentColor\"/>\n",
       "    <text dy=\"1.25em\" style=\"font-size: 0.8em; letter-spacing: 1px\">\n",
       "        <textPath xlink:href=\"#arrow-1cb85e72a5364d978d2770edf149110b-0-0\" class=\"displacy-label\" startOffset=\"50%\" side=\"left\" fill=\"currentColor\" text-anchor=\"middle\">similar to</textPath>\n",
       "    </text>\n",
       "    <path class=\"displacy-arrowhead\" d=\"M400.0,91.5 L408.0,79.5 392.0,79.5\" fill=\"currentColor\"/>\n",
       "</g>\n",
       "</svg>\n",
       "</figure>\n",
       "\n",
       "<script>\n",
       "    function positionSpan(elem) {\n",
       "        var bounds = elem.getBBox();\n",
       "        var x = bounds.x + bounds.width/2;\n",
       "        var id = parseInt(elem.getAttribute(\"id\"));\n",
       "        if (elem.classList.contains('displacy-token')){\n",
       "            if(id == 0) {\n",
       "                elem.firstElementChild.setAttribute(\"x\", parseInt(bounds.x + bounds.width));\n",
       "            }else{\n",
       "                var prevSpan = document.getElementById(`${id-1}`);\n",
       "                var prevX = prevSpan.firstElementChild.getAttribute(\"x\")\n",
       "                prevBounds = prevSpan.getBBox();\n",
       "                elem.firstElementChild.setAttribute(\"x\", parseFloat(elem.firstElementChild.getAttribute(\"x\")) + parseFloat(prevX) + parseFloat(prevBounds.width/2) + parseFloat(bounds.width/2));\n",
       "            }\n",
       "            var tagElem = document.getElementById(`tag-${id}`);\n",
       "            tagElem.firstElementChild.setAttribute(\"x\", parseInt(elem.firstElementChild.getAttribute(\"x\")));\n",
       "\n",
       "            if(document.getElementById(`${id+1}`) == undefined){\n",
       "                var svg = document.querySelectorAll(\"svg\");\n",
       "                var initSpan = document.getElementById(0);\n",
       "                var padding = parseInt(initSpan.firstElementChild.getAttribute(\"x\")) - parseInt(initSpan.getBBox().width/2);\n",
       "                svg[0].setAttribute(\"width\", `${parseFloat(elem.firstElementChild.getAttribute(\"x\")) + parseFloat(bounds.width/2) + padding}`);\n",
       "            }\n",
       "        }\n",
       "    }\n",
       "    \n",
       "    function makeBG(elem) {\n",
       "        var svgns = \"http://www.w3.org/2000/svg\"\n",
       "        var bounds = elem.getBBox()\n",
       "        var bg = document.createElementNS(svgns, \"rect\")\n",
       "        var style = getComputedStyle(elem)\n",
       "        var padding_top = parseInt(style[\"padding-top\"])\n",
       "        var padding_left = parseInt(style[\"padding-left\"])\n",
       "        var padding_right = parseInt(style[\"padding-right\"])\n",
       "        var padding_bottom = parseInt(style[\"padding-bottom\"])\n",
       "        bg.setAttribute(\"x\", bounds.x - parseInt(style[\"padding-left\"]))\n",
       "        bg.setAttribute(\"y\", bounds.y - parseInt(style[\"padding-top\"]))\n",
       "        bg.setAttribute(\"width\", bounds.width + padding_left + padding_right)\n",
       "        bg.setAttribute(\"height\", bounds.height + padding_top + padding_bottom)\n",
       "        bg.setAttribute(\"fill\", style[\"background-color\"])\n",
       "        bg.setAttribute(\"rx\", style[\"border-radius\"])\n",
       "        bg.setAttribute(\"stroke-width\", style[\"border-top-width\"])\n",
       "        bg.setAttribute(\"stroke\", style[\"border-top-color\"])\n",
       "        if (elem.hasAttribute(\"transform\")) {\n",
       "            bg.setAttribute(\"transform\", elem.getAttribute(\"transform\"))\n",
       "        }\n",
       "        elem.parentNode.insertBefore(bg, elem)\n",
       "    }\n",
       "    \n",
       "    function positionArc(elem) {\n",
       "        if (elem != undefined && elem.classList.contains('displacy-arrow')){\n",
       "            startId = elem.getAttribute(\"start\");\n",
       "            endId = elem.getAttribute(\"end\");\n",
       "            direction = elem.getAttribute(\"direction\");\n",
       "            var startSpan = document.getElementById(startId);\n",
       "            var endSpan = document.getElementById(endId);\n",
       "            var xStart = parseFloat(startSpan.firstElementChild.getAttribute(\"x\"));\n",
       "            var xEnd = parseFloat(endSpan.firstElementChild.getAttribute(\"x\"));\n",
       "            var arc = elem.firstElementChild.getAttribute(\"d\");\n",
       "            \n",
       "            var map = {start:xStart, end:xEnd};\n",
       "            arc = arc.replace(/[M](\\w+),/g,\"M{start},\").replace(/[C](\\w+),/g,\"C{start},\").replace(/ (\\d+\\.?\\d+)/g,\" {end}\");\n",
       "            arc = arc.replace(/{(\\w+)}/g, function(_,k){\n",
       "              return map[k];\n",
       "            });\n",
       "            elem.firstElementChild.setAttribute(\"d\", arc);\n",
       "            \n",
       "            // Move Head\n",
       "            var headElem = elem.querySelectorAll(\".displacy-arrowhead\")[0];\n",
       "            var head = headElem.getAttribute(\"d\");\n",
       "            head = head.replace(/M(\\d+\\.?\\d+),/g,\"M{p1},\").replace(/[L](\\d+\\.?\\d+),/g,\"L{p2},\").replace(/ (\\d+\\.?\\d+)/g,\" {p3}\");\n",
       "            var arrow_width = parseFloat(headElem.getBBox().width);\n",
       "            var map = {p1:xEnd, p2:(xEnd + arrow_width - 2), p3:(xEnd - arrow_width + 2)};\n",
       "            if (direction == \"left\"){\n",
       "                map = {p1:xStart, p2:(xStart + arrow_width - 2), p3:(xStart - arrow_width + 2)};\n",
       "            }\n",
       "            head = head.replace(/{(\\w+)}/g, function(_,k){\n",
       "              return map[k];\n",
       "            });\n",
       "            headElem.setAttribute(\"d\", head);\n",
       "        }\n",
       "    }\n",
       "\n",
       "    var texts = document.querySelectorAll(\"text\");\n",
       "    \n",
       "    for (var i = 0; i < texts.length; i++) {\n",
       "        positionSpan(texts[i])\n",
       "    }\n",
       "    \n",
       "    for (var i = 0; i < texts.length; i++) {\n",
       "        makeBG(texts[i])\n",
       "    }\n",
       "    \n",
       "    var arcs = document.querySelectorAll(\"g\");\n",
       "    for (var i = 0; i < texts.length; i++) {\n",
       "        positionArc(arcs[i])\n",
       "    }\n",
       "</script>\n",
       "</body>\n",
       "</html>\n",
       "</span>"
      ],
      "text/plain": [
       "<IPython.core.display.HTML object>"
      ]
     },
     "metadata": {},
     "output_type": "display_data"
    }
   ],
   "source": [
    "displacy.render(doc, style=\"rel\", jupyter=True)"
   ]
  },
  {
   "cell_type": "markdown",
   "id": "8ca72d26-9d67-4813-ae5b-030d977957b9",
   "metadata": {},
   "source": [
    "Getting this error\n",
    "```\n",
    "File ~/workspace/mlops-talk-llm-kg/venv/lib/python3.11/site-packages/transformers/generation/logits_process.py:1235, in PrefixConstrainedLogitsProcessor.__call__(self, input_ids, scores)\n",
    "   1233         prefix_allowed_tokens = self._prefix_allowed_tokens_fn(batch_id, sent)\n",
    "   1234         if len(prefix_allowed_tokens) == 0:\n",
    "-> 1235             raise ValueError(\n",
    "   1236                 f\"`prefix_allowed_tokens_fn` returned an empty list for batch ID {batch_id}.\"\n",
    "   1237                 f\"This means that the constraint is unsatisfiable. Please check your implementation\"\n",
    "   1238                 f\"of `prefix_allowed_tokens_fn` \"\n",
    "   1239             )\n",
    "   1240         mask[batch_id * self._num_beams + beam_id, prefix_allowed_tokens] = 0\n",
    "   1242 return scores + mask\n",
    "\n",
    "ValueError: `prefix_allowed_tokens_fn` returned an empty list for batch ID 0.This means that the constraint is unsatisfiable. Please check your implementationof `prefix_allowed_tokens_fn` \n",
    "```\n",
    "with `transformers==4.37.2`, I will try to roll back to the version in the Google Colab `transformers==4.35.2`"
   ]
  },
  {
   "cell_type": "code",
   "execution_count": 8,
   "id": "16a7f435-302e-4d9e-be8c-2e2957739c00",
   "metadata": {
    "execution": {
     "iopub.execute_input": "2024-02-13T18:52:24.628666Z",
     "iopub.status.busy": "2024-02-13T18:52:24.627716Z",
     "iopub.status.idle": "2024-02-13T18:52:33.195890Z",
     "shell.execute_reply": "2024-02-13T18:52:33.195609Z",
     "shell.execute_reply.started": "2024-02-13T18:52:24.628610Z"
    }
   },
   "outputs": [
    {
     "data": {
      "text/html": [
       "<span class=\"tex2jax_ignore\"><div class=\"entities\" style=\"line-height: 2.5; direction: ltr\">\n",
       "<mark class=\"entity\" style=\"background: #8ce36b; padding: 0.45em 0.6em; margin: 0 0.25em; line-height: 1; border-radius: 0.35em;\">\n",
       "    International Business Machines Corporation\n",
       "    <span style=\"font-size: 0.8em; font-weight: bold; line-height: 1; border-radius: 0.35em; vertical-align: middle; margin-left: 0.5rem\">IBM</span>\n",
       "</mark>\n",
       " (\n",
       "<mark class=\"entity\" style=\"background: #8ce36b; padding: 0.45em 0.6em; margin: 0 0.25em; line-height: 1; border-radius: 0.35em;\">\n",
       "    IBM\n",
       "    <span style=\"font-size: 0.8em; font-weight: bold; line-height: 1; border-radius: 0.35em; vertical-align: middle; margin-left: 0.5rem\">IBM</span>\n",
       "</mark>\n",
       ") is an \n",
       "<mark class=\"entity\" style=\"background: #708f64; padding: 0.45em 0.6em; margin: 0 0.25em; line-height: 1; border-radius: 0.35em;\">\n",
       "    American\n",
       "    <span style=\"font-size: 0.8em; font-weight: bold; line-height: 1; border-radius: 0.35em; vertical-align: middle; margin-left: 0.5rem\">American</span>\n",
       "</mark>\n",
       " multinational technology corporation headquartered in \n",
       "<mark class=\"entity\" style=\"background: #71fa73; padding: 0.45em 0.6em; margin: 0 0.25em; line-height: 1; border-radius: 0.35em;\">\n",
       "    Armonk\n",
       "    <span style=\"font-size: 0.8em; font-weight: bold; line-height: 1; border-radius: 0.35em; vertical-align: middle; margin-left: 0.5rem\">Armonk</span>\n",
       "</mark>\n",
       ", \n",
       "<mark class=\"entity\" style=\"background: #83756c; padding: 0.45em 0.6em; margin: 0 0.25em; line-height: 1; border-radius: 0.35em;\">\n",
       "    New York\n",
       "    <span style=\"font-size: 0.8em; font-weight: bold; line-height: 1; border-radius: 0.35em; vertical-align: middle; margin-left: 0.5rem\">New York</span>\n",
       "</mark>\n",
       ", with operations in over 171 countries.</div></span>"
      ],
      "text/plain": [
       "<IPython.core.display.HTML object>"
      ]
     },
     "metadata": {},
     "output_type": "display_data"
    }
   ],
   "source": [
    "nlp = spacy.load('en_core_web_sm')\n",
    "\n",
    "# zero shot definition of entities\n",
    "nlp_config = PipelineConfig(\n",
    "    mentions_extractor=MentionsExtractorSpacy(),\n",
    "    linker=LinkerRegen(),\n",
    "    entities=[\n",
    "        Entity(name='Paris',\n",
    "               description='Paris is located in northern central France, in a north-bending arc of the river Seine'),\n",
    "        Entity(name='IBM',\n",
    "               description='International Business Machines Corporation (IBM) is an American multinational technology corporation headquartered in Armonk, New York'),\n",
    "        Entity(name='New York', description='New York is a city in U.S. state'),\n",
    "        Entity(name='Florida', description='southeasternmost U.S. state'),\n",
    "        Entity(name='American',\n",
    "              description='American, something of, from, or related to the United States of America, commonly known as the United States or America'),\n",
    "        Entity(name='Chemical formula',\n",
    "               description='In chemistry, a chemical formula is a way of presenting information about the chemical proportions of atoms that constitute a particular chemical compound or molecul'),\n",
    "        Entity(name='Acetamide',\n",
    "               description='Acetamide (systematic name: ethanamide) is an organic compound with the formula CH3CONH2. It is the simplest amide derived from acetic acid. It finds some use as a plasticizer and as an industrial solvent.'),\n",
    "        Entity(name='Armonk',\n",
    "               description='Armonk is a hamlet and census-designated place (CDP) in the town of North Castle, located in Westchester County, New York, United States.'),\n",
    "        Entity(name='Acetic Acid',\n",
    "               description='Acetic acid, systematically named ethanoic acid, is an acidic, colourless liquid and organic compound with the chemical formula CH3COOH'),\n",
    "        Entity(name='Industrial solvent',\n",
    "               description='Acetamide (systematic name: ethanamide) is an organic compound with the formula CH3CONH2. It is the simplest amide derived from acetic acid. It finds some use as a plasticizer and as an industrial solvent.'),\n",
    "    ]\n",
    ")\n",
    "nlp.add_pipe('zshot', config=nlp_config, last=True)\n",
    "\n",
    "text = 'International Business Machines Corporation (IBM) is an American multinational technology corporation' \\\n",
    "        ' headquartered in Armonk, New York, with operations in over 171 countries.'\n",
    "\n",
    "doc = nlp(text)\n",
    "displacy.render(doc, style=\"ent\", jupyter=True)"
   ]
  },
  {
   "cell_type": "code",
   "execution_count": null,
   "id": "3b61e977-b042-4da1-9ffc-29f555922550",
   "metadata": {},
   "outputs": [],
   "source": []
  },
  {
   "cell_type": "markdown",
   "id": "bce23684-ed18-4af6-9090-8da787dc8842",
   "metadata": {},
   "source": [
    "## Custom example"
   ]
  },
  {
   "cell_type": "code",
   "execution_count": 30,
   "id": "b75ea002-3668-45d5-a5ab-41b2043e3829",
   "metadata": {
    "execution": {
     "iopub.execute_input": "2024-02-13T20:20:53.070132Z",
     "iopub.status.busy": "2024-02-13T20:20:53.069770Z",
     "iopub.status.idle": "2024-02-13T20:20:53.472732Z",
     "shell.execute_reply": "2024-02-13T20:20:53.472401Z",
     "shell.execute_reply.started": "2024-02-13T20:20:53.070108Z"
    }
   },
   "outputs": [],
   "source": [
    "nlp = spacy.load(\"en_core_web_sm\")\n",
    "sents = list(nlp(paragraph).sents)"
   ]
  },
  {
   "cell_type": "code",
   "execution_count": 36,
   "id": "cc2e46b1-a523-412f-85ab-eba1f452e33e",
   "metadata": {
    "execution": {
     "iopub.execute_input": "2024-02-13T20:22:44.253330Z",
     "iopub.status.busy": "2024-02-13T20:22:44.252623Z",
     "iopub.status.idle": "2024-02-13T20:22:56.342575Z",
     "shell.execute_reply": "2024-02-13T20:22:56.342221Z",
     "shell.execute_reply.started": "2024-02-13T20:22:44.253297Z"
    }
   },
   "outputs": [
    {
     "data": {
      "text/plain": [
       "<zshot.zshot.Zshot at 0x6eff0e010>"
      ]
     },
     "execution_count": 36,
     "metadata": {},
     "output_type": "execute_result"
    }
   ],
   "source": [
    "nlp = spacy.load(\"en_core_web_sm\")\n",
    "\n",
    "nlp.add_pipe(\"span_marker\", config={\"model\": \"tomaarsen/span-marker-mbert-base-multinerd\"})\n",
    "\n",
    "config = PipelineConfig(\n",
    "    mentions_extractor = MentionsExtractorSpacy(),\n",
    "    entities=[\n",
    "        Entity(name=\"PERSON\", description=\"People, including fictional\"),\n",
    "        Entity(name=\"WORK OF ART\", description=\"Titles of books, songs, etc.\"),\n",
    "        Entity(name=\"ORGANIZATION\", description=\"Companies, agencies, institutions, organizations, etc.\")\n",
    "    ],\n",
    "    linker=LinkerRegen(),\n",
    "    relations=[\n",
    "        Relation(name=\"takes place in fictional universe\", description=\"the subject is a work describing a fictional universe, i.e. whose plot occurs in this universe\"), # https://www.wikidata.org/wiki/Property:P1434\n",
    "        Relation(name=\"present in work\", description=\"this (fictional or fictionalized) entity, place, or person appears in that work as part of the narration\"), # https://www.wikidata.org/wiki/Property:P1441\n",
    "        Relation(name=\"performer\", description=\"actor, musician, band or other performer associated with this role or musical work\"), # https://www.wikidata.org/wiki/Property:P175\n",
    "        Relation(name=\"director\", description=\"director(s) of film, TV-series, stageplay, video game or similar\"), # https://www.wikidata.org/wiki/Property:P57\n",
    "        Relation(name=\"followed by\", description=\"immediately following item in a series of which the subject is a part\"), # https://www.wikidata.org/wiki/Property:P156\n",
    "    ], \n",
    "    relations_extractor=RelationsExtractorZSRC(thr=0.8),\n",
    ")\n",
    "nlp.add_pipe(\"zshot\", config=config, last=True)"
   ]
  },
  {
   "cell_type": "code",
   "execution_count": 63,
   "id": "8deb802a-67a4-4bfa-b3bf-ba9e08470be5",
   "metadata": {
    "execution": {
     "iopub.execute_input": "2024-02-13T20:53:06.948296Z",
     "iopub.status.busy": "2024-02-13T20:53:06.946991Z",
     "iopub.status.idle": "2024-02-13T20:53:14.318476Z",
     "shell.execute_reply": "2024-02-13T20:53:14.318091Z",
     "shell.execute_reply.started": "2024-02-13T20:53:06.948240Z"
    }
   },
   "outputs": [],
   "source": [
    "from spacy.language import Language\n",
    "\n",
    "re = RelationsExtractorZSRC(thr=0.8)\n",
    "re.set_relations([\n",
    "    Relation(name=\"takes place in fictional universe\", description=\"the subject is a work describing a fictional universe, i.e. whose plot occurs in this universe\"), # https://www.wikidata.org/wiki/Property:P1434\n",
    "    Relation(name=\"present in work\", description=\"this (fictional or fictionalized) entity, place, or person appears in that work as part of the narration\"), # https://www.wikidata.org/wiki/Property:P1441\n",
    "    Relation(name=\"performer\", description=\"actor, musician, band or other performer associated with this role or musical work\"), # https://www.wikidata.org/wiki/Property:P175\n",
    "    Relation(name=\"director\", description=\"director(s) of film, TV-series, stageplay, video game or similar\"), # https://www.wikidata.org/wiki/Property:P57\n",
    "    Relation(name=\"followed by\", description=\"immediately following item in a series of which the subject is a part\"), # https://www.wikidata.org/wiki/Property:P156\n",
    "])\n",
    "\n",
    "@Language.component(\"zshot_simple\")\n",
    "def my_zshot(doc):\n",
    "    doc._.spans = doc.ents\n",
    "    re.extract_relations([doc])\n",
    "    return doc"
   ]
  },
  {
   "cell_type": "code",
   "execution_count": 64,
   "id": "398241af-ced1-429b-b40f-8ab357c48b28",
   "metadata": {
    "execution": {
     "iopub.execute_input": "2024-02-13T20:53:20.171262Z",
     "iopub.status.busy": "2024-02-13T20:53:20.170629Z",
     "iopub.status.idle": "2024-02-13T20:53:26.346177Z",
     "shell.execute_reply": "2024-02-13T20:53:26.345731Z",
     "shell.execute_reply.started": "2024-02-13T20:53:20.171227Z"
    }
   },
   "outputs": [
    {
     "data": {
      "text/plain": [
       "<function __main__.my_zshot(doc)>"
      ]
     },
     "execution_count": 64,
     "metadata": {},
     "output_type": "execute_result"
    }
   ],
   "source": [
    "nlp = spacy.load(\"en_core_web_sm\")\n",
    "\n",
    "nlp.add_pipe(\"span_marker\", config={\"model\": \"tomaarsen/span-marker-mbert-base-multinerd\"})\n",
    "nlp.add_pipe(\"zshot_simple\")"
   ]
  },
  {
   "cell_type": "markdown",
   "id": "fd9cf23d-fe45-4c98-b711-ad7650de267b",
   "metadata": {},
   "source": [
    "## REBEL \n",
    "Ref: https://huggingface.co/spaces/ml6team/Knowledge-graphs/blob/main/rebel.py"
   ]
  },
  {
   "cell_type": "code",
   "execution_count": 67,
   "id": "0ca39b50-5947-4d9a-a69e-a4b1402abeb9",
   "metadata": {
    "execution": {
     "iopub.execute_input": "2024-02-13T21:18:52.749641Z",
     "iopub.status.busy": "2024-02-13T21:18:52.748065Z",
     "iopub.status.idle": "2024-02-13T21:18:53.267001Z",
     "shell.execute_reply": "2024-02-13T21:18:53.265584Z",
     "shell.execute_reply.started": "2024-02-13T21:18:52.749559Z"
    }
   },
   "outputs": [],
   "source": [
    "from typing import List\n",
    "from transformers import pipeline\n",
    "from pyvis.network import Network\n",
    "from functools import lru_cache\n",
    "import spacy\n",
    "\n",
    "\n",
    "DEFAULT_LABEL_COLORS = {\n",
    "    \"ORG\": \"#7aecec\",\n",
    "    \"PRODUCT\": \"#bfeeb7\",\n",
    "    \"GPE\": \"#feca74\",\n",
    "    \"LOC\": \"#ff9561\",\n",
    "    \"PERSON\": \"#aa9cfc\",\n",
    "    \"NORP\": \"#c887fb\",\n",
    "    \"FACILITY\": \"#9cc9cc\",\n",
    "    \"EVENT\": \"#ffeb80\",\n",
    "    \"LAW\": \"#ff8197\",\n",
    "    \"LANGUAGE\": \"#ff8197\",\n",
    "    \"WORK_OF_ART\": \"#f0d0ff\",\n",
    "    \"DATE\": \"#bfe1d9\",\n",
    "    \"TIME\": \"#bfe1d9\",\n",
    "    \"MONEY\": \"#e4e7d2\",\n",
    "    \"QUANTITY\": \"#e4e7d2\",\n",
    "    \"ORDINAL\": \"#e4e7d2\",\n",
    "    \"CARDINAL\": \"#e4e7d2\",\n",
    "    \"PERCENT\": \"#e4e7d2\",\n",
    "}\n",
    "\n",
    "@lru_cache(maxsize=16)\n",
    "def generate_partial_graph(text: str):\n",
    "    triplet_extractor = pipeline(\n",
    "        'text2text-generation',\n",
    "        model='Babelscape/rebel-large',\n",
    "        tokenizer='Babelscape/rebel-large'\n",
    "    )\n",
    "\n",
    "    triples = triplet_extractor(\n",
    "        text,\n",
    "        return_tensors=True,\n",
    "        return_text=False)\n",
    "\n",
    "    if len(triples) == 0:\n",
    "        return []\n",
    "\n",
    "    a = [triples[0][\"generated_token_ids\"]]\n",
    "\n",
    "    extracted_text = triplet_extractor.tokenizer.batch_decode(a)\n",
    "    extracted_triplets = extract_triplets(extracted_text[0])\n",
    "    return extracted_triplets\n",
    "\n",
    "\n",
    "def extract_triplets(text):\n",
    "    \"\"\"\n",
    "    Function to parse the generated text and extract the triplets\n",
    "    \"\"\"\n",
    "    triplets = []\n",
    "    relation, subject, relation, object_ = '', '', '', ''\n",
    "    text = text.strip()\n",
    "    current = 'x'\n",
    "    for token in text.replace(\"<s>\", \"\").replace(\"<pad>\", \"\").replace(\"</s>\", \"\").split():\n",
    "        if token == \"<triplet>\":\n",
    "            current = 't'\n",
    "            if relation != '':\n",
    "                triplets.append(\n",
    "                    {'head': subject.strip(), 'type': relation.strip(), 'tail': object_.strip()})\n",
    "                relation = ''\n",
    "            subject = ''\n",
    "        elif token == \"<subj>\":\n",
    "            current = 's'\n",
    "            if relation != '':\n",
    "                triplets.append(\n",
    "                    {'head': subject.strip(), 'type': relation.strip(), 'tail': object_.strip()})\n",
    "            object_ = ''\n",
    "        elif token == \"<obj>\":\n",
    "            current = 'o'\n",
    "            relation = ''\n",
    "        else:\n",
    "            if current == 't':\n",
    "                subject += ' ' + token\n",
    "            elif current == 's':\n",
    "                object_ += ' ' + token\n",
    "            elif current == 'o':\n",
    "                relation += ' ' + token\n",
    "    if subject != '' and relation != '' and object_ != '':\n",
    "        triplets.append(\n",
    "            {'head': subject.strip(), 'type': relation.strip(), 'tail': object_.strip()})\n",
    "\n",
    "    return triplets\n"
   ]
  },
  {
   "cell_type": "code",
   "execution_count": 73,
   "id": "a17da5cf-a42c-4889-bead-2c5c2aff8148",
   "metadata": {
    "execution": {
     "iopub.execute_input": "2024-02-13T21:37:34.960150Z",
     "iopub.status.busy": "2024-02-13T21:37:34.958974Z",
     "iopub.status.idle": "2024-02-13T21:37:41.126554Z",
     "shell.execute_reply": "2024-02-13T21:37:41.126217Z",
     "shell.execute_reply.started": "2024-02-13T21:37:34.960101Z"
    }
   },
   "outputs": [
    {
     "data": {
      "text/plain": [
       "<span_marker.spacy_integration.SpacySpanMarkerWrapper at 0x8cfc8f9d0>"
      ]
     },
     "execution_count": 73,
     "metadata": {},
     "output_type": "execute_result"
    }
   ],
   "source": [
    "nlp = spacy.load(\"en_core_web_sm\")\n",
    "nlp.add_pipe(\"span_marker\", config={\"model\": \"tomaarsen/span-marker-mbert-base-multinerd\"})"
   ]
  },
  {
   "cell_type": "code",
   "execution_count": 105,
   "id": "a68f99c5-c238-484b-858b-b6e0e7cd2771",
   "metadata": {
    "execution": {
     "iopub.execute_input": "2024-02-13T22:00:30.904041Z",
     "iopub.status.busy": "2024-02-13T22:00:30.903104Z",
     "iopub.status.idle": "2024-02-13T22:00:30.915760Z",
     "shell.execute_reply": "2024-02-13T22:00:30.913675Z",
     "shell.execute_reply.started": "2024-02-13T22:00:30.903981Z"
    }
   },
   "outputs": [],
   "source": [
    "texts = text.replace(\"\\n\\n\\n\", \"\\n\").replace(\"\\n\\n\", \"\\n\").split(\"\\n\")[:5]"
   ]
  },
  {
   "cell_type": "code",
   "execution_count": 106,
   "id": "30c0a889-577b-492c-acc5-62e62dd4d574",
   "metadata": {
    "execution": {
     "iopub.execute_input": "2024-02-13T22:00:31.620226Z",
     "iopub.status.busy": "2024-02-13T22:00:31.619794Z",
     "iopub.status.idle": "2024-02-13T22:01:27.927464Z",
     "shell.execute_reply": "2024-02-13T22:01:27.927156Z",
     "shell.execute_reply.started": "2024-02-13T22:00:31.620200Z"
    }
   },
   "outputs": [
    {
     "name": "stdout",
     "output_type": "stream",
     "text": [
      "Warning: When  cdn_resources is 'local' jupyter notebook has issues displaying graphics on chrome/safari. Use cdn_resources='in_line' or cdn_resources='remote' if you have issues viewing graphics in a notebook.\n",
      "example.html\n"
     ]
    },
    {
     "data": {
      "text/html": [
       "\n",
       "        <iframe\n",
       "            width=\"700px\"\n",
       "            height=\"700px\"\n",
       "            src=\"example.html\"\n",
       "            frameborder=\"0\"\n",
       "            allowfullscreen\n",
       "            \n",
       "        ></iframe>\n",
       "        "
      ],
      "text/plain": [
       "<IPython.lib.display.IFrame at 0x812320fd0>"
      ]
     },
     "execution_count": 106,
     "metadata": {},
     "output_type": "execute_result"
    }
   ],
   "source": [
    "doc = nlp(\"\\n\".join(texts).lower())\n",
    "NERs = [ent.text for ent in doc.ents]\n",
    "NER_types = [ent.label_ for ent in doc.ents]\n",
    "\n",
    "triplets = []\n",
    "for _text in texts:\n",
    "    triplets.extend(generate_partial_graph(_text))\n",
    "heads = [t[\"head\"].lower() for t in triplets]\n",
    "tails = [t[\"tail\"].lower() for t in triplets]\n",
    "\n",
    "nodes = list(set(heads + tails))\n",
    "net = Network(directed=True, width=\"700px\", height=\"700px\", notebook=True)\n",
    "\n",
    "for n in nodes:\n",
    "    if n in NERs:\n",
    "        NER_type = NER_types[NERs.index(n)]\n",
    "        if NER_type in NER_types:\n",
    "            if NER_type in DEFAULT_LABEL_COLORS.keys():\n",
    "                color = DEFAULT_LABEL_COLORS[NER_type]\n",
    "            else:\n",
    "                color = \"#666666\"\n",
    "            net.add_node(n, title=NER_type, shape=\"circle\", color=color)\n",
    "        else:\n",
    "            net.add_node(n, shape=\"circle\")\n",
    "    else:\n",
    "        net.add_node(n, shape=\"circle\")\n",
    "\n",
    "unique_triplets = set()\n",
    "def stringify_trip(x): return x[\"tail\"] + x[\"head\"] + x[\"type\"].lower()\n",
    "for triplet in triplets:\n",
    "    if stringify_trip(triplet) not in unique_triplets:\n",
    "        net.add_edge(triplet[\"head\"].lower(), triplet[\"tail\"].lower(),\n",
    "                     title=triplet[\"type\"], label=triplet[\"type\"])\n",
    "        unique_triplets.add(stringify_trip(triplet))\n",
    "\n",
    "net.repulsion(\n",
    "    node_distance=200,\n",
    "    central_gravity=0.2,\n",
    "    spring_length=200,\n",
    "    spring_strength=0.05,\n",
    "    damping=0.09\n",
    ")\n",
    "net.set_edge_smooth('dynamic')\n",
    "net.show(\"example.html\")"
   ]
  },
  {
   "cell_type": "markdown",
   "id": "378703ba-80e5-4156-91ef-8861e597c72f",
   "metadata": {},
   "source": [
    "TODO:\n",
    "- ensure chunking so that length is below max input length to not get index error\n",
    "- run it on the entire page\n",
    "- compare the [ML6 implementation](https://huggingface.co/spaces/ml6team/Knowledge-graphs/blob/main/rebel.py) with [the huggingface model card implementation](https://huggingface.co/Babelscape/rebel-large) below \n",
    "- adapt the [multilingual model card implementation](https://huggingface.co/Babelscape/mrebel-large) to a more readable implementation, but simpler than textgraphs\n",
    "- use together with SpanMarker to create graph\n",
    "- think about enforcing controlled vocabulary like in zshot"
   ]
  },
  {
   "cell_type": "code",
   "execution_count": null,
   "id": "084e52af-ea23-4dac-a3ee-eff037b6468c",
   "metadata": {},
   "outputs": [],
   "source": [
    "from transformers import pipeline\n",
    "\n",
    "triplet_extractor = pipeline('text2text-generation', model='Babelscape/rebel-large', tokenizer='Babelscape/rebel-large')\n",
    "# We need to use the tokenizer manually since we need special tokens.\n",
    "extracted_text = triplet_extractor.tokenizer.batch_decode([triplet_extractor(\"Punta Cana is a resort town in the municipality of Higuey, in La Altagracia Province, the eastern most province of the Dominican Republic\", return_tensors=True, return_text=False)[0][\"generated_token_ids\"]])\n",
    "print(extracted_text[0])\n",
    "# Function to parse the generated text and extract the triplets\n",
    "def extract_triplets(text):\n",
    "    triplets = []\n",
    "    relation, subject, relation, object_ = '', '', '', ''\n",
    "    text = text.strip()\n",
    "    current = 'x'\n",
    "    for token in text.replace(\"<s>\", \"\").replace(\"<pad>\", \"\").replace(\"</s>\", \"\").split():\n",
    "        if token == \"<triplet>\":\n",
    "            current = 't'\n",
    "            if relation != '':\n",
    "                triplets.append({'head': subject.strip(), 'type': relation.strip(),'tail': object_.strip()})\n",
    "                relation = ''\n",
    "            subject = ''\n",
    "        elif token == \"<subj>\":\n",
    "            current = 's'\n",
    "            if relation != '':\n",
    "                triplets.append({'head': subject.strip(), 'type': relation.strip(),'tail': object_.strip()})\n",
    "            object_ = ''\n",
    "        elif token == \"<obj>\":\n",
    "            current = 'o'\n",
    "            relation = ''\n",
    "        else:\n",
    "            if current == 't':\n",
    "                subject += ' ' + token\n",
    "            elif current == 's':\n",
    "                object_ += ' ' + token\n",
    "            elif current == 'o':\n",
    "                relation += ' ' + token\n",
    "    if subject != '' and relation != '' and object_ != '':\n",
    "        triplets.append({'head': subject.strip(), 'type': relation.strip(),'tail': object_.strip()})\n",
    "    return triplets\n",
    "extracted_triplets = extract_triplets(extracted_text[0])\n",
    "print(extracted_triplets)\n"
   ]
  },
  {
   "cell_type": "code",
   "execution_count": null,
   "id": "ed1e42eb-ad15-4648-a405-840a30ca9c3f",
   "metadata": {},
   "outputs": [],
   "source": []
  }
 ],
 "metadata": {
  "kernelspec": {
   "display_name": "Python 3 (ipykernel)",
   "language": "python",
   "name": "python3"
  },
  "language_info": {
   "codemirror_mode": {
    "name": "ipython",
    "version": 3
   },
   "file_extension": ".py",
   "mimetype": "text/x-python",
   "name": "python",
   "nbconvert_exporter": "python",
   "pygments_lexer": "ipython3",
   "version": "3.11.4"
  }
 },
 "nbformat": 4,
 "nbformat_minor": 5
}
