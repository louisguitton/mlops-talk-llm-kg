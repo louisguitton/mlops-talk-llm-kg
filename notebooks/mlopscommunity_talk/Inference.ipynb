{
 "cells": [
  {
   "cell_type": "code",
   "execution_count": 1,
   "id": "26adc449-650e-4324-9eea-42500314ecbb",
   "metadata": {},
   "outputs": [],
   "source": [
    "import logging\n",
    "import sys\n",
    "import os\n",
    "\n",
    "logging.basicConfig(\n",
    "    stream=sys.stdout, level=logging.INFO\n",
    ")"
   ]
  },
  {
   "cell_type": "code",
   "execution_count": 2,
   "id": "f0f0a07b-25bf-4591-83aa-6bd74a976881",
   "metadata": {},
   "outputs": [],
   "source": [
    "from llama_index.llms import Ollama\n",
    "from llama_index import ServiceContext\n",
    "from llama_index import KnowledgeGraphIndex\n",
    "from llama_index.retrievers import (KnowledgeGraphRAGRetriever, KGTableRetriever)\n",
    "from llama_index.graph_stores import Neo4jGraphStore\n",
    "from llama_index.storage.storage_context import StorageContext\n",
    "from llama_index.query_engine import RetrieverQueryEngine\n",
    "from llama_index.data_structs.data_structs import KG\n",
    "from IPython.display import Markdown, display"
   ]
  },
  {
   "cell_type": "code",
   "execution_count": 3,
   "id": "aed3c72f-36c4-4a1c-a332-f78647a2b4a2",
   "metadata": {},
   "outputs": [],
   "source": [
    "llm = Ollama(model='mistral', base_url=\"http://localhost:11434\")\n",
    "service_context = ServiceContext.from_defaults(llm=llm, embed_model=\"local:BAAI/bge-small-en\")"
   ]
  },
  {
   "cell_type": "code",
   "execution_count": 4,
   "id": "5a1b57d6-29d2-4b94-a755-03269a2d6cb4",
   "metadata": {},
   "outputs": [],
   "source": [
    "graph_store = Neo4jGraphStore(username=\"neo4j\", password=\"password\", url=\"bolt://localhost:7687\", database=\"neo4j\")\n",
    "storage_context = StorageContext.from_defaults(graph_store=graph_store)"
   ]
  },
  {
   "cell_type": "code",
   "execution_count": 5,
   "id": "d0b37d4d-d917-4950-90fc-a082c48ffdc3",
   "metadata": {},
   "outputs": [],
   "source": [
    "kg_index = KnowledgeGraphIndex(index_struct=KG(index_id=\"vector\"), service_context=service_context, storage_context=storage_context)\n",
    "graph_rag_retriever = KGTableRetriever(index=kg_index, retriever_mode=\"keyword\")"
   ]
  },
  {
   "cell_type": "code",
   "execution_count": 6,
   "id": "30d23e52-21ca-4ba0-9dec-3930105513ae",
   "metadata": {},
   "outputs": [
    {
     "name": "stdout",
     "output_type": "stream",
     "text": [
      "INFO:httpx:HTTP Request: POST http://localhost:11434/api/chat \"HTTP/1.1 200 OK\"\n",
      "WARNING:llama_index.indices.knowledge_graph.retrievers:Index was not constructed with embeddings, skipping embedding usage...\n"
     ]
    },
    {
     "data": {
      "text/plain": [
       "1"
      ]
     },
     "execution_count": 6,
     "metadata": {},
     "output_type": "execute_result"
    }
   ],
   "source": [
    "nodes = graph_rag_retriever.retrieve(\"Tell me about Peter Quill.\")\n",
    "len(nodes)"
   ]
  },
  {
   "cell_type": "code",
   "execution_count": 7,
   "id": "e20e777c-2192-4259-b274-28e76dab9fa7",
   "metadata": {},
   "outputs": [],
   "source": [
    "kg_rag_query_engine = RetrieverQueryEngine.from_args(retriever=graph_rag_retriever, service_context=service_context)"
   ]
  },
  {
   "cell_type": "code",
   "execution_count": 8,
   "id": "7ede355f-c814-43d2-a627-8e65d2ec216f",
   "metadata": {},
   "outputs": [
    {
     "name": "stdout",
     "output_type": "stream",
     "text": [
      "INFO:httpx:HTTP Request: POST http://localhost:11434/api/chat \"HTTP/1.1 200 OK\"\n",
      "WARNING:llama_index.indices.knowledge_graph.retrievers:Index was not constructed with embeddings, skipping embedding usage...\n",
      "INFO:httpx:HTTP Request: POST http://localhost:11434/api/chat \"HTTP/1.1 200 OK\"\n"
     ]
    },
    {
     "data": {
      "text/markdown": [
       "<b> Peter Quill is an entity in the given schema with various relationships to other entities. He is the leader of the Guardians and was first physically released on a specific date. He has acted in several films, some of which were released before others. He portrays certain characters and provides voice and motion capture for them. He had narrowed down choices for potential songs to use in his films and made tweets regarding them. He was expected to be paid for his work and called for the firing of someone, stating reasons for it. He has been involved with various other entities as well, such as developing psionic abilities after being abandoned and changing the gender of a cosmic entity. However, without further context, it is unclear what specific aspects of Peter Quill's character you are interested in.</b>"
      ],
      "text/plain": [
       "<IPython.core.display.Markdown object>"
      ]
     },
     "metadata": {},
     "output_type": "display_data"
    }
   ],
   "source": [
    "response_graph_rag = kg_rag_query_engine.query(\"Tell me about Peter Quill.\")\n",
    "display(Markdown(f\"<b>{response_graph_rag}</b>\"))"
   ]
  },
  {
   "cell_type": "markdown",
   "id": "bf01de25-7e1b-4d2f-85bd-f8316f8c20f8",
   "metadata": {},
   "source": [
    "## new api (broken)"
   ]
  },
  {
   "cell_type": "code",
   "execution_count": 7,
   "id": "5c46f07d-dcbd-451b-88b2-1ff4f72750a6",
   "metadata": {},
   "outputs": [],
   "source": [
    "# graph_rag_retriever = KnowledgeGraphRAGRetriever(service_context=service_context, storage_context=storage_context, retriever_mode=\"keyword_embedding\")"
   ]
  },
  {
   "cell_type": "code",
   "execution_count": null,
   "id": "1b9293af-fa50-4fa2-a1b2-e5ec636b5d09",
   "metadata": {},
   "outputs": [],
   "source": []
  }
 ],
 "metadata": {
  "kernelspec": {
   "display_name": "Python 3 (ipykernel)",
   "language": "python",
   "name": "python3"
  },
  "language_info": {
   "codemirror_mode": {
    "name": "ipython",
    "version": 3
   },
   "file_extension": ".py",
   "mimetype": "text/x-python",
   "name": "python",
   "nbconvert_exporter": "python",
   "pygments_lexer": "ipython3",
   "version": "3.11.4"
  }
 },
 "nbformat": 4,
 "nbformat_minor": 5
}
